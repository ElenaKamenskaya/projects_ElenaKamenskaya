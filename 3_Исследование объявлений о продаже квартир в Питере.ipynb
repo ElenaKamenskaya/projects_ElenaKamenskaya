{
 "cells": [
  {
   "cell_type": "markdown",
   "metadata": {},
   "source": [
    "# Исследование объявлений о продаже квартир\n",
    "\n",
    "В нашем распоряжении данные сервиса Яндекс.Недвижимость — архив объявлений о продаже квартир в Санкт-Петербурге и соседних населённых пунктов за несколько лет. Нужно определить рыночную стоимость объектов недвижимости. Ваша задача — установить параметры. Это позволит построить автоматизированную систему: она отследит аномалии и мошенническую деятельность. \n",
    "\n",
    "По каждой квартире на продажу доступны два вида данных. Первые вписаны пользователем, вторые — получены автоматически на основе картографических данных. Например, расстояние до центра, аэропорта, ближайшего парка и водоёма. "
   ]
  },
  {
   "cell_type": "code",
   "execution_count": 1,
   "metadata": {},
   "outputs": [],
   "source": [
    "import pandas as pd\n",
    "import numpy as np\n",
    "import matplotlib.pyplot as plt\n",
    "import warnings\n",
    "warnings.simplefilter(\"ignore\")\n",
    "import seaborn as sns"
   ]
  },
  {
   "cell_type": "code",
   "execution_count": 2,
   "metadata": {
    "scrolled": true
   },
   "outputs": [
    {
     "data": {
      "text/html": [
       "<div>\n",
       "<style scoped>\n",
       "    .dataframe tbody tr th:only-of-type {\n",
       "        vertical-align: middle;\n",
       "    }\n",
       "\n",
       "    .dataframe tbody tr th {\n",
       "        vertical-align: top;\n",
       "    }\n",
       "\n",
       "    .dataframe thead th {\n",
       "        text-align: right;\n",
       "    }\n",
       "</style>\n",
       "<table border=\"1\" class=\"dataframe\">\n",
       "  <thead>\n",
       "    <tr style=\"text-align: right;\">\n",
       "      <th></th>\n",
       "      <th>total_images</th>\n",
       "      <th>last_price</th>\n",
       "      <th>total_area</th>\n",
       "      <th>first_day_exposition</th>\n",
       "      <th>rooms</th>\n",
       "      <th>ceiling_height</th>\n",
       "      <th>floors_total</th>\n",
       "      <th>living_area</th>\n",
       "      <th>floor</th>\n",
       "      <th>is_apartment</th>\n",
       "      <th>studio</th>\n",
       "      <th>open_plan</th>\n",
       "      <th>kitchen_area</th>\n",
       "      <th>balcony</th>\n",
       "      <th>locality_name</th>\n",
       "      <th>airports_nearest</th>\n",
       "      <th>cityCenters_nearest</th>\n",
       "      <th>parks_around3000</th>\n",
       "      <th>parks_nearest</th>\n",
       "      <th>ponds_around3000</th>\n",
       "      <th>ponds_nearest</th>\n",
       "      <th>days_exposition</th>\n",
       "    </tr>\n",
       "  </thead>\n",
       "  <tbody>\n",
       "    <tr>\n",
       "      <th>0</th>\n",
       "      <td>20</td>\n",
       "      <td>13000000.0</td>\n",
       "      <td>108.00</td>\n",
       "      <td>2019-03-07T00:00:00</td>\n",
       "      <td>3</td>\n",
       "      <td>2.70</td>\n",
       "      <td>16.0</td>\n",
       "      <td>51.0</td>\n",
       "      <td>8</td>\n",
       "      <td>NaN</td>\n",
       "      <td>False</td>\n",
       "      <td>False</td>\n",
       "      <td>25.00</td>\n",
       "      <td>NaN</td>\n",
       "      <td>Санкт-Петербург</td>\n",
       "      <td>18863.0</td>\n",
       "      <td>16028.0</td>\n",
       "      <td>1.0</td>\n",
       "      <td>482.0</td>\n",
       "      <td>2.0</td>\n",
       "      <td>755.0</td>\n",
       "      <td>NaN</td>\n",
       "    </tr>\n",
       "    <tr>\n",
       "      <th>1</th>\n",
       "      <td>7</td>\n",
       "      <td>3350000.0</td>\n",
       "      <td>40.40</td>\n",
       "      <td>2018-12-04T00:00:00</td>\n",
       "      <td>1</td>\n",
       "      <td>NaN</td>\n",
       "      <td>11.0</td>\n",
       "      <td>18.6</td>\n",
       "      <td>1</td>\n",
       "      <td>NaN</td>\n",
       "      <td>False</td>\n",
       "      <td>False</td>\n",
       "      <td>11.00</td>\n",
       "      <td>2.0</td>\n",
       "      <td>посёлок Шушары</td>\n",
       "      <td>12817.0</td>\n",
       "      <td>18603.0</td>\n",
       "      <td>0.0</td>\n",
       "      <td>NaN</td>\n",
       "      <td>0.0</td>\n",
       "      <td>NaN</td>\n",
       "      <td>81.0</td>\n",
       "    </tr>\n",
       "    <tr>\n",
       "      <th>2</th>\n",
       "      <td>10</td>\n",
       "      <td>5196000.0</td>\n",
       "      <td>56.00</td>\n",
       "      <td>2015-08-20T00:00:00</td>\n",
       "      <td>2</td>\n",
       "      <td>NaN</td>\n",
       "      <td>5.0</td>\n",
       "      <td>34.3</td>\n",
       "      <td>4</td>\n",
       "      <td>NaN</td>\n",
       "      <td>False</td>\n",
       "      <td>False</td>\n",
       "      <td>8.30</td>\n",
       "      <td>0.0</td>\n",
       "      <td>Санкт-Петербург</td>\n",
       "      <td>21741.0</td>\n",
       "      <td>13933.0</td>\n",
       "      <td>1.0</td>\n",
       "      <td>90.0</td>\n",
       "      <td>2.0</td>\n",
       "      <td>574.0</td>\n",
       "      <td>558.0</td>\n",
       "    </tr>\n",
       "    <tr>\n",
       "      <th>3</th>\n",
       "      <td>0</td>\n",
       "      <td>64900000.0</td>\n",
       "      <td>159.00</td>\n",
       "      <td>2015-07-24T00:00:00</td>\n",
       "      <td>3</td>\n",
       "      <td>NaN</td>\n",
       "      <td>14.0</td>\n",
       "      <td>NaN</td>\n",
       "      <td>9</td>\n",
       "      <td>NaN</td>\n",
       "      <td>False</td>\n",
       "      <td>False</td>\n",
       "      <td>NaN</td>\n",
       "      <td>0.0</td>\n",
       "      <td>Санкт-Петербург</td>\n",
       "      <td>28098.0</td>\n",
       "      <td>6800.0</td>\n",
       "      <td>2.0</td>\n",
       "      <td>84.0</td>\n",
       "      <td>3.0</td>\n",
       "      <td>234.0</td>\n",
       "      <td>424.0</td>\n",
       "    </tr>\n",
       "    <tr>\n",
       "      <th>4</th>\n",
       "      <td>2</td>\n",
       "      <td>10000000.0</td>\n",
       "      <td>100.00</td>\n",
       "      <td>2018-06-19T00:00:00</td>\n",
       "      <td>2</td>\n",
       "      <td>3.03</td>\n",
       "      <td>14.0</td>\n",
       "      <td>32.0</td>\n",
       "      <td>13</td>\n",
       "      <td>NaN</td>\n",
       "      <td>False</td>\n",
       "      <td>False</td>\n",
       "      <td>41.00</td>\n",
       "      <td>NaN</td>\n",
       "      <td>Санкт-Петербург</td>\n",
       "      <td>31856.0</td>\n",
       "      <td>8098.0</td>\n",
       "      <td>2.0</td>\n",
       "      <td>112.0</td>\n",
       "      <td>1.0</td>\n",
       "      <td>48.0</td>\n",
       "      <td>121.0</td>\n",
       "    </tr>\n",
       "    <tr>\n",
       "      <th>...</th>\n",
       "      <td>...</td>\n",
       "      <td>...</td>\n",
       "      <td>...</td>\n",
       "      <td>...</td>\n",
       "      <td>...</td>\n",
       "      <td>...</td>\n",
       "      <td>...</td>\n",
       "      <td>...</td>\n",
       "      <td>...</td>\n",
       "      <td>...</td>\n",
       "      <td>...</td>\n",
       "      <td>...</td>\n",
       "      <td>...</td>\n",
       "      <td>...</td>\n",
       "      <td>...</td>\n",
       "      <td>...</td>\n",
       "      <td>...</td>\n",
       "      <td>...</td>\n",
       "      <td>...</td>\n",
       "      <td>...</td>\n",
       "      <td>...</td>\n",
       "      <td>...</td>\n",
       "    </tr>\n",
       "    <tr>\n",
       "      <th>23694</th>\n",
       "      <td>9</td>\n",
       "      <td>9700000.0</td>\n",
       "      <td>133.81</td>\n",
       "      <td>2017-03-21T00:00:00</td>\n",
       "      <td>3</td>\n",
       "      <td>3.70</td>\n",
       "      <td>5.0</td>\n",
       "      <td>73.3</td>\n",
       "      <td>3</td>\n",
       "      <td>NaN</td>\n",
       "      <td>False</td>\n",
       "      <td>False</td>\n",
       "      <td>13.83</td>\n",
       "      <td>NaN</td>\n",
       "      <td>Санкт-Петербург</td>\n",
       "      <td>24665.0</td>\n",
       "      <td>4232.0</td>\n",
       "      <td>1.0</td>\n",
       "      <td>796.0</td>\n",
       "      <td>3.0</td>\n",
       "      <td>381.0</td>\n",
       "      <td>NaN</td>\n",
       "    </tr>\n",
       "    <tr>\n",
       "      <th>23695</th>\n",
       "      <td>14</td>\n",
       "      <td>3100000.0</td>\n",
       "      <td>59.00</td>\n",
       "      <td>2018-01-15T00:00:00</td>\n",
       "      <td>3</td>\n",
       "      <td>NaN</td>\n",
       "      <td>5.0</td>\n",
       "      <td>38.0</td>\n",
       "      <td>4</td>\n",
       "      <td>NaN</td>\n",
       "      <td>False</td>\n",
       "      <td>False</td>\n",
       "      <td>8.50</td>\n",
       "      <td>NaN</td>\n",
       "      <td>Тосно</td>\n",
       "      <td>NaN</td>\n",
       "      <td>NaN</td>\n",
       "      <td>NaN</td>\n",
       "      <td>NaN</td>\n",
       "      <td>NaN</td>\n",
       "      <td>NaN</td>\n",
       "      <td>45.0</td>\n",
       "    </tr>\n",
       "    <tr>\n",
       "      <th>23696</th>\n",
       "      <td>18</td>\n",
       "      <td>2500000.0</td>\n",
       "      <td>56.70</td>\n",
       "      <td>2018-02-11T00:00:00</td>\n",
       "      <td>2</td>\n",
       "      <td>NaN</td>\n",
       "      <td>3.0</td>\n",
       "      <td>29.7</td>\n",
       "      <td>1</td>\n",
       "      <td>NaN</td>\n",
       "      <td>False</td>\n",
       "      <td>False</td>\n",
       "      <td>NaN</td>\n",
       "      <td>NaN</td>\n",
       "      <td>село Рождествено</td>\n",
       "      <td>NaN</td>\n",
       "      <td>NaN</td>\n",
       "      <td>NaN</td>\n",
       "      <td>NaN</td>\n",
       "      <td>NaN</td>\n",
       "      <td>NaN</td>\n",
       "      <td>NaN</td>\n",
       "    </tr>\n",
       "    <tr>\n",
       "      <th>23697</th>\n",
       "      <td>13</td>\n",
       "      <td>11475000.0</td>\n",
       "      <td>76.75</td>\n",
       "      <td>2017-03-28T00:00:00</td>\n",
       "      <td>2</td>\n",
       "      <td>3.00</td>\n",
       "      <td>17.0</td>\n",
       "      <td>NaN</td>\n",
       "      <td>12</td>\n",
       "      <td>NaN</td>\n",
       "      <td>False</td>\n",
       "      <td>False</td>\n",
       "      <td>23.30</td>\n",
       "      <td>2.0</td>\n",
       "      <td>Санкт-Петербург</td>\n",
       "      <td>39140.0</td>\n",
       "      <td>10364.0</td>\n",
       "      <td>2.0</td>\n",
       "      <td>173.0</td>\n",
       "      <td>3.0</td>\n",
       "      <td>196.0</td>\n",
       "      <td>602.0</td>\n",
       "    </tr>\n",
       "    <tr>\n",
       "      <th>23698</th>\n",
       "      <td>4</td>\n",
       "      <td>1350000.0</td>\n",
       "      <td>32.30</td>\n",
       "      <td>2017-07-21T00:00:00</td>\n",
       "      <td>1</td>\n",
       "      <td>2.50</td>\n",
       "      <td>5.0</td>\n",
       "      <td>12.3</td>\n",
       "      <td>1</td>\n",
       "      <td>NaN</td>\n",
       "      <td>False</td>\n",
       "      <td>False</td>\n",
       "      <td>9.00</td>\n",
       "      <td>NaN</td>\n",
       "      <td>поселок Новый Учхоз</td>\n",
       "      <td>NaN</td>\n",
       "      <td>NaN</td>\n",
       "      <td>NaN</td>\n",
       "      <td>NaN</td>\n",
       "      <td>NaN</td>\n",
       "      <td>NaN</td>\n",
       "      <td>NaN</td>\n",
       "    </tr>\n",
       "  </tbody>\n",
       "</table>\n",
       "<p>23699 rows × 22 columns</p>\n",
       "</div>"
      ],
      "text/plain": [
       "       total_images  last_price  total_area first_day_exposition  rooms  \\\n",
       "0                20  13000000.0      108.00  2019-03-07T00:00:00      3   \n",
       "1                 7   3350000.0       40.40  2018-12-04T00:00:00      1   \n",
       "2                10   5196000.0       56.00  2015-08-20T00:00:00      2   \n",
       "3                 0  64900000.0      159.00  2015-07-24T00:00:00      3   \n",
       "4                 2  10000000.0      100.00  2018-06-19T00:00:00      2   \n",
       "...             ...         ...         ...                  ...    ...   \n",
       "23694             9   9700000.0      133.81  2017-03-21T00:00:00      3   \n",
       "23695            14   3100000.0       59.00  2018-01-15T00:00:00      3   \n",
       "23696            18   2500000.0       56.70  2018-02-11T00:00:00      2   \n",
       "23697            13  11475000.0       76.75  2017-03-28T00:00:00      2   \n",
       "23698             4   1350000.0       32.30  2017-07-21T00:00:00      1   \n",
       "\n",
       "       ceiling_height  floors_total  living_area  floor is_apartment  studio  \\\n",
       "0                2.70          16.0         51.0      8          NaN   False   \n",
       "1                 NaN          11.0         18.6      1          NaN   False   \n",
       "2                 NaN           5.0         34.3      4          NaN   False   \n",
       "3                 NaN          14.0          NaN      9          NaN   False   \n",
       "4                3.03          14.0         32.0     13          NaN   False   \n",
       "...               ...           ...          ...    ...          ...     ...   \n",
       "23694            3.70           5.0         73.3      3          NaN   False   \n",
       "23695             NaN           5.0         38.0      4          NaN   False   \n",
       "23696             NaN           3.0         29.7      1          NaN   False   \n",
       "23697            3.00          17.0          NaN     12          NaN   False   \n",
       "23698            2.50           5.0         12.3      1          NaN   False   \n",
       "\n",
       "       open_plan  kitchen_area  balcony        locality_name  \\\n",
       "0          False         25.00      NaN      Санкт-Петербург   \n",
       "1          False         11.00      2.0       посёлок Шушары   \n",
       "2          False          8.30      0.0      Санкт-Петербург   \n",
       "3          False           NaN      0.0      Санкт-Петербург   \n",
       "4          False         41.00      NaN      Санкт-Петербург   \n",
       "...          ...           ...      ...                  ...   \n",
       "23694      False         13.83      NaN      Санкт-Петербург   \n",
       "23695      False          8.50      NaN                Тосно   \n",
       "23696      False           NaN      NaN     село Рождествено   \n",
       "23697      False         23.30      2.0      Санкт-Петербург   \n",
       "23698      False          9.00      NaN  поселок Новый Учхоз   \n",
       "\n",
       "       airports_nearest  cityCenters_nearest  parks_around3000  parks_nearest  \\\n",
       "0               18863.0              16028.0               1.0          482.0   \n",
       "1               12817.0              18603.0               0.0            NaN   \n",
       "2               21741.0              13933.0               1.0           90.0   \n",
       "3               28098.0               6800.0               2.0           84.0   \n",
       "4               31856.0               8098.0               2.0          112.0   \n",
       "...                 ...                  ...               ...            ...   \n",
       "23694           24665.0               4232.0               1.0          796.0   \n",
       "23695               NaN                  NaN               NaN            NaN   \n",
       "23696               NaN                  NaN               NaN            NaN   \n",
       "23697           39140.0              10364.0               2.0          173.0   \n",
       "23698               NaN                  NaN               NaN            NaN   \n",
       "\n",
       "       ponds_around3000  ponds_nearest  days_exposition  \n",
       "0                   2.0          755.0              NaN  \n",
       "1                   0.0            NaN             81.0  \n",
       "2                   2.0          574.0            558.0  \n",
       "3                   3.0          234.0            424.0  \n",
       "4                   1.0           48.0            121.0  \n",
       "...                 ...            ...              ...  \n",
       "23694               3.0          381.0              NaN  \n",
       "23695               NaN            NaN             45.0  \n",
       "23696               NaN            NaN              NaN  \n",
       "23697               3.0          196.0            602.0  \n",
       "23698               NaN            NaN              NaN  \n",
       "\n",
       "[23699 rows x 22 columns]"
      ]
     },
     "metadata": {},
     "output_type": "display_data"
    }
   ],
   "source": [
    "pd.options.display.max_columns = 25\n",
    "data = pd.read_csv('/datasets/real_estate_data.csv', sep='\\t')\n",
    "display(data)"
   ]
  },
  {
   "cell_type": "code",
   "execution_count": 3,
   "metadata": {
    "scrolled": false
   },
   "outputs": [
    {
     "name": "stdout",
     "output_type": "stream",
     "text": [
      "<class 'pandas.core.frame.DataFrame'>\n",
      "RangeIndex: 23699 entries, 0 to 23698\n",
      "Data columns (total 22 columns):\n",
      " #   Column                Non-Null Count  Dtype  \n",
      "---  ------                --------------  -----  \n",
      " 0   total_images          23699 non-null  int64  \n",
      " 1   last_price            23699 non-null  float64\n",
      " 2   total_area            23699 non-null  float64\n",
      " 3   first_day_exposition  23699 non-null  object \n",
      " 4   rooms                 23699 non-null  int64  \n",
      " 5   ceiling_height        14504 non-null  float64\n",
      " 6   floors_total          23613 non-null  float64\n",
      " 7   living_area           21796 non-null  float64\n",
      " 8   floor                 23699 non-null  int64  \n",
      " 9   is_apartment          2775 non-null   object \n",
      " 10  studio                23699 non-null  bool   \n",
      " 11  open_plan             23699 non-null  bool   \n",
      " 12  kitchen_area          21421 non-null  float64\n",
      " 13  balcony               12180 non-null  float64\n",
      " 14  locality_name         23650 non-null  object \n",
      " 15  airports_nearest      18157 non-null  float64\n",
      " 16  cityCenters_nearest   18180 non-null  float64\n",
      " 17  parks_around3000      18181 non-null  float64\n",
      " 18  parks_nearest         8079 non-null   float64\n",
      " 19  ponds_around3000      18181 non-null  float64\n",
      " 20  ponds_nearest         9110 non-null   float64\n",
      " 21  days_exposition       20518 non-null  float64\n",
      "dtypes: bool(2), float64(14), int64(3), object(3)\n",
      "memory usage: 3.7+ MB\n"
     ]
    }
   ],
   "source": [
    "data.info()\n",
    "\n",
    "#first_day_exposition перевести в дату, чтоб в дальнейшем понять в какие месяца была основная часть сделок\n",
    "#floors_total  перевести в int\n",
    "#is_apartment должно быть булевое значение, проверить почему object\n",
    "#balcony в int\n",
    "#days_exposition перевести в int\n",
    "# проверить, почему имеются пропуски и заменить их на данные или удалить\n"
   ]
  },
  {
   "cell_type": "code",
   "execution_count": 4,
   "metadata": {},
   "outputs": [
    {
     "data": {
      "image/png": "[encoded data removed]",
      "text/plain": [
       "<Figure size 1080x1440 with 20 Axes>"
      ]
     },
     "metadata": {
      "needs_background": "light"
     },
     "output_type": "display_data"
    }
   ],
   "source": [
    "data.hist(figsize=(15, 20)); # построим диаграммы для каждого количественного признака"
   ]
  },
  {
   "cell_type": "code",
   "execution_count": 5,
   "metadata": {
    "scrolled": true
   },
   "outputs": [
    {
     "name": "stdout",
     "output_type": "stream",
     "text": [
      "0     16.0\n",
      "1     11.0\n",
      "2      5.0\n",
      "3     14.0\n",
      "4     14.0\n",
      "5     12.0\n",
      "6     26.0\n",
      "7     24.0\n",
      "8     27.0\n",
      "9      9.0\n",
      "10    12.0\n",
      "11     5.0\n",
      "12     5.0\n",
      "13     5.0\n",
      "14     6.0\n",
      "Name: floors_total, dtype: float64\n",
      "count    23613.000000\n",
      "mean        10.673824\n",
      "std          6.597173\n",
      "min          1.000000\n",
      "25%          5.000000\n",
      "50%          9.000000\n",
      "75%         16.000000\n",
      "max         60.000000\n",
      "Name: floors_total, dtype: float64\n",
      "[ 1.  2.  3.  4.  5.  6.  7.  8.  9. 10. 11. 12. 13. 14. 15. 16. 17. 18.\n",
      " 19. 20. 21. 22. 23. 24. 25. 26. 27. 28. 29. 33. 34. 35. 36. 37. 52. 60.\n",
      " nan]\n"
     ]
    }
   ],
   "source": [
    "# проверим данные каждой колонки по статистич. анализу и диаграммам, ниже укажем наблюдения по ним\n",
    "\n",
    "_a = 'floors_total'\n",
    "print(data[_a].head(15))\n",
    "print(data[_a].describe())\n",
    "print(data[_a].sort_values().unique())"
   ]
  },
  {
   "cell_type": "markdown",
   "metadata": {},
   "source": [
    "- is_apartment булевое значение, если имеются пропуски, то предположительно можно считать, что квартира не является апартаментами, поэтому необходимо заменить на False\n",
    "- total_area max= от 400 до 900 проверить - либо ошибка, либо выброс\n",
    "- rooms проверить почему комнат 0, это студия, апартаменты или ошибка? Почему комнат от 8 до 19 - ошибка или выброс?\n",
    "- ceiling_height - min от 1 до 2.2, max=от 25 до 100, проверить, что это за данные и в каком кол-ве\n",
    "- floors_total Перевести в int\n",
    "- living_area - есть выбрасы от 200 до 400, судя по гистограмме\n",
    "- kitchen_area выбросы от 40 до 112\n",
    "- balcony в int\n",
    "- airports_nearest - значение 0 ошибочное, заменить, удалить или заменить все пропуски 0\n",
    "- parks_nearest/ponds_nearest - перенести данные с parks_around3000/ponds_around3000, данные об удаленности в пределах 3000м могут перекрыть большую часть пропусков, остальные пропуски замениь на 0\n",
    "- days_exposition - имеются пропуски, скорее всего это квартиры, которые еще на продаже. Также имеются предложения с долгим периодом реализации (от 3 до 4 лет). \n",
    "- проверить, может после удаления очевидных выбросов, эти данные уйдут также"
   ]
  },
  {
   "cell_type": "markdown",
   "metadata": {},
   "source": [
    "Вывод:\n",
    "После первичного изучения наблюдаются большое количество пропусков, которые появились в ходе неполного заполнения данных пользователем и сложности автоматизации картографических данных, имеются большие отклонения от средних данных, что может говорить об ошибке в данных или выбросах, также в данных наблюдаются ошибки при заполнении,например, высота потолков в некоторых случаях наблюдается 25м, скорее всего должно быть 2.5м.\n",
    "План дальнейших действий: исправляем ошибки, заполняем очевидные пропуски, убираем выбросы, удаляем дубликаты  и неявные дубликаты, заполняем пропущеные значения, удаляем пропуски, изменяем тип данных, где неоходимо."
   ]
  },
  {
   "cell_type": "markdown",
   "metadata": {},
   "source": [
    "### Предобработка данных"
   ]
  },
  {
   "cell_type": "code",
   "execution_count": 6,
   "metadata": {},
   "outputs": [
    {
     "data": {
      "text/html": [
       "<div>\n",
       "<style scoped>\n",
       "    .dataframe tbody tr th:only-of-type {\n",
       "        vertical-align: middle;\n",
       "    }\n",
       "\n",
       "    .dataframe tbody tr th {\n",
       "        vertical-align: top;\n",
       "    }\n",
       "\n",
       "    .dataframe thead th {\n",
       "        text-align: right;\n",
       "    }\n",
       "</style>\n",
       "<table border=\"1\" class=\"dataframe\">\n",
       "  <thead>\n",
       "    <tr style=\"text-align: right;\">\n",
       "      <th></th>\n",
       "      <th>total_images</th>\n",
       "      <th>last_price</th>\n",
       "      <th>total_area</th>\n",
       "      <th>first_day_exposition</th>\n",
       "      <th>rooms</th>\n",
       "      <th>ceiling_height</th>\n",
       "      <th>floors_total</th>\n",
       "      <th>living_area</th>\n",
       "      <th>floor</th>\n",
       "      <th>is_apartment</th>\n",
       "      <th>studio</th>\n",
       "      <th>open_plan</th>\n",
       "      <th>kitchen_area</th>\n",
       "      <th>balcony</th>\n",
       "      <th>locality_name</th>\n",
       "      <th>airports_nearest</th>\n",
       "      <th>cityCenters_nearest</th>\n",
       "      <th>parks_around3000</th>\n",
       "      <th>parks_nearest</th>\n",
       "      <th>ponds_around3000</th>\n",
       "      <th>ponds_nearest</th>\n",
       "      <th>days_exposition</th>\n",
       "    </tr>\n",
       "  </thead>\n",
       "  <tbody>\n",
       "    <tr>\n",
       "      <th>0</th>\n",
       "      <td>20</td>\n",
       "      <td>13000000.0</td>\n",
       "      <td>108.0</td>\n",
       "      <td>2019-03-07</td>\n",
       "      <td>3</td>\n",
       "      <td>2.70</td>\n",
       "      <td>16.0</td>\n",
       "      <td>51.0</td>\n",
       "      <td>8</td>\n",
       "      <td>NaN</td>\n",
       "      <td>False</td>\n",
       "      <td>False</td>\n",
       "      <td>25.0</td>\n",
       "      <td>NaN</td>\n",
       "      <td>Санкт-Петербург</td>\n",
       "      <td>18863.0</td>\n",
       "      <td>16028.0</td>\n",
       "      <td>1.0</td>\n",
       "      <td>482.0</td>\n",
       "      <td>2.0</td>\n",
       "      <td>755.0</td>\n",
       "      <td>NaN</td>\n",
       "    </tr>\n",
       "    <tr>\n",
       "      <th>1</th>\n",
       "      <td>7</td>\n",
       "      <td>3350000.0</td>\n",
       "      <td>40.4</td>\n",
       "      <td>2018-12-04</td>\n",
       "      <td>1</td>\n",
       "      <td>NaN</td>\n",
       "      <td>11.0</td>\n",
       "      <td>18.6</td>\n",
       "      <td>1</td>\n",
       "      <td>NaN</td>\n",
       "      <td>False</td>\n",
       "      <td>False</td>\n",
       "      <td>11.0</td>\n",
       "      <td>2.0</td>\n",
       "      <td>посёлок Шушары</td>\n",
       "      <td>12817.0</td>\n",
       "      <td>18603.0</td>\n",
       "      <td>0.0</td>\n",
       "      <td>NaN</td>\n",
       "      <td>0.0</td>\n",
       "      <td>NaN</td>\n",
       "      <td>81.0</td>\n",
       "    </tr>\n",
       "    <tr>\n",
       "      <th>2</th>\n",
       "      <td>10</td>\n",
       "      <td>5196000.0</td>\n",
       "      <td>56.0</td>\n",
       "      <td>2015-08-20</td>\n",
       "      <td>2</td>\n",
       "      <td>NaN</td>\n",
       "      <td>5.0</td>\n",
       "      <td>34.3</td>\n",
       "      <td>4</td>\n",
       "      <td>NaN</td>\n",
       "      <td>False</td>\n",
       "      <td>False</td>\n",
       "      <td>8.3</td>\n",
       "      <td>0.0</td>\n",
       "      <td>Санкт-Петербург</td>\n",
       "      <td>21741.0</td>\n",
       "      <td>13933.0</td>\n",
       "      <td>1.0</td>\n",
       "      <td>90.0</td>\n",
       "      <td>2.0</td>\n",
       "      <td>574.0</td>\n",
       "      <td>558.0</td>\n",
       "    </tr>\n",
       "    <tr>\n",
       "      <th>3</th>\n",
       "      <td>0</td>\n",
       "      <td>64900000.0</td>\n",
       "      <td>159.0</td>\n",
       "      <td>2015-07-24</td>\n",
       "      <td>3</td>\n",
       "      <td>NaN</td>\n",
       "      <td>14.0</td>\n",
       "      <td>NaN</td>\n",
       "      <td>9</td>\n",
       "      <td>NaN</td>\n",
       "      <td>False</td>\n",
       "      <td>False</td>\n",
       "      <td>NaN</td>\n",
       "      <td>0.0</td>\n",
       "      <td>Санкт-Петербург</td>\n",
       "      <td>28098.0</td>\n",
       "      <td>6800.0</td>\n",
       "      <td>2.0</td>\n",
       "      <td>84.0</td>\n",
       "      <td>3.0</td>\n",
       "      <td>234.0</td>\n",
       "      <td>424.0</td>\n",
       "    </tr>\n",
       "    <tr>\n",
       "      <th>4</th>\n",
       "      <td>2</td>\n",
       "      <td>10000000.0</td>\n",
       "      <td>100.0</td>\n",
       "      <td>2018-06-19</td>\n",
       "      <td>2</td>\n",
       "      <td>3.03</td>\n",
       "      <td>14.0</td>\n",
       "      <td>32.0</td>\n",
       "      <td>13</td>\n",
       "      <td>NaN</td>\n",
       "      <td>False</td>\n",
       "      <td>False</td>\n",
       "      <td>41.0</td>\n",
       "      <td>NaN</td>\n",
       "      <td>Санкт-Петербург</td>\n",
       "      <td>31856.0</td>\n",
       "      <td>8098.0</td>\n",
       "      <td>2.0</td>\n",
       "      <td>112.0</td>\n",
       "      <td>1.0</td>\n",
       "      <td>48.0</td>\n",
       "      <td>121.0</td>\n",
       "    </tr>\n",
       "  </tbody>\n",
       "</table>\n",
       "</div>"
      ],
      "text/plain": [
       "   total_images  last_price  total_area first_day_exposition  rooms  \\\n",
       "0            20  13000000.0       108.0           2019-03-07      3   \n",
       "1             7   3350000.0        40.4           2018-12-04      1   \n",
       "2            10   5196000.0        56.0           2015-08-20      2   \n",
       "3             0  64900000.0       159.0           2015-07-24      3   \n",
       "4             2  10000000.0       100.0           2018-06-19      2   \n",
       "\n",
       "   ceiling_height  floors_total  living_area  floor is_apartment  studio  \\\n",
       "0            2.70          16.0         51.0      8          NaN   False   \n",
       "1             NaN          11.0         18.6      1          NaN   False   \n",
       "2             NaN           5.0         34.3      4          NaN   False   \n",
       "3             NaN          14.0          NaN      9          NaN   False   \n",
       "4            3.03          14.0         32.0     13          NaN   False   \n",
       "\n",
       "   open_plan  kitchen_area  balcony    locality_name  airports_nearest  \\\n",
       "0      False          25.0      NaN  Санкт-Петербург           18863.0   \n",
       "1      False          11.0      2.0   посёлок Шушары           12817.0   \n",
       "2      False           8.3      0.0  Санкт-Петербург           21741.0   \n",
       "3      False           NaN      0.0  Санкт-Петербург           28098.0   \n",
       "4      False          41.0      NaN  Санкт-Петербург           31856.0   \n",
       "\n",
       "   cityCenters_nearest  parks_around3000  parks_nearest  ponds_around3000  \\\n",
       "0              16028.0               1.0          482.0               2.0   \n",
       "1              18603.0               0.0            NaN               0.0   \n",
       "2              13933.0               1.0           90.0               2.0   \n",
       "3               6800.0               2.0           84.0               3.0   \n",
       "4               8098.0               2.0          112.0               1.0   \n",
       "\n",
       "   ponds_nearest  days_exposition  \n",
       "0          755.0              NaN  \n",
       "1            NaN             81.0  \n",
       "2          574.0            558.0  \n",
       "3          234.0            424.0  \n",
       "4           48.0            121.0  "
      ]
     },
     "execution_count": 6,
     "metadata": {},
     "output_type": "execute_result"
    }
   ],
   "source": [
    "#заменим тип данных в дате на более читабельный\n",
    "\n",
    "data['first_day_exposition'] = pd.to_datetime(data['first_day_exposition'], format='%Y-%m-%d')\n",
    "data.head()"
   ]
  },
  {
   "cell_type": "code",
   "execution_count": 7,
   "metadata": {},
   "outputs": [
    {
     "data": {
      "text/plain": [
       "False    23649\n",
       "True        50\n",
       "Name: is_apartment, dtype: int64"
      ]
     },
     "execution_count": 7,
     "metadata": {},
     "output_type": "execute_result"
    }
   ],
   "source": [
    "#заменим пропуски в апартаментах. Логично предположить, если ничего не указано, то это не апартаменты, т.е заменим пропуски на False\n",
    "\n",
    "data['is_apartment'].value_counts()\n",
    "data.loc[data['is_apartment']!=True, 'is_apartment'] = False\n",
    "data['is_apartment'].value_counts()"
   ]
  },
  {
   "cell_type": "code",
   "execution_count": 8,
   "metadata": {},
   "outputs": [
    {
     "name": "stdout",
     "output_type": "stream",
     "text": [
      "True     138\n",
      "False     59\n",
      "Name: studio, dtype: int64\n",
      "False    138\n",
      "True      59\n",
      "Name: open_plan, dtype: int64\n"
     ]
    }
   ],
   "source": [
    "# проверим квартиры с комнатами = 0 (193 шт). Где больше встречается комнат =0 в студии, апартаментах, открытой планировке?\n",
    "data['rooms'].value_counts()\n",
    "room_0 = data.loc[data['rooms']==0]\n",
    "print(room_0['studio'].value_counts())\n",
    "\n",
    "#print(room_0['is_apartment'].value_counts())\n",
    "#print(room_0['open_plan'].value_counts())\n",
    "#print(len(room_0))\n",
    "\n",
    "#studio = data.loc[data['studio']==True]\n",
    "#print(studio['studio'].value_counts())\n",
    "\n",
    "print(room_0['open_plan'].value_counts())\n",
    "\n",
    "\n",
    "#всего 197 комнат=0, из них 138 - это студии, 59 - это открытая планировка. Похоже на правду"
   ]
  },
  {
   "cell_type": "code",
   "execution_count": 9,
   "metadata": {},
   "outputs": [
    {
     "name": "stdout",
     "output_type": "stream",
     "text": [
      "<class 'pandas.core.frame.DataFrame'>\n",
      "RangeIndex: 23699 entries, 0 to 23698\n",
      "Data columns (total 22 columns):\n",
      " #   Column                Non-Null Count  Dtype         \n",
      "---  ------                --------------  -----         \n",
      " 0   total_images          23699 non-null  int64         \n",
      " 1   last_price            23699 non-null  float64       \n",
      " 2   total_area            23699 non-null  float64       \n",
      " 3   first_day_exposition  23699 non-null  datetime64[ns]\n",
      " 4   rooms                 23699 non-null  int64         \n",
      " 5   ceiling_height        14504 non-null  float64       \n",
      " 6   floors_total          23613 non-null  float64       \n",
      " 7   living_area           21796 non-null  float64       \n",
      " 8   floor                 23699 non-null  int64         \n",
      " 9   is_apartment          23699 non-null  object        \n",
      " 10  studio                23699 non-null  bool          \n",
      " 11  open_plan             23699 non-null  bool          \n",
      " 12  kitchen_area          21421 non-null  float64       \n",
      " 13  balcony               12180 non-null  float64       \n",
      " 14  locality_name         23650 non-null  object        \n",
      " 15  airports_nearest      18157 non-null  float64       \n",
      " 16  cityCenters_nearest   18180 non-null  float64       \n",
      " 17  parks_around3000      18181 non-null  float64       \n",
      " 18  parks_nearest         8079 non-null   float64       \n",
      " 19  ponds_around3000      18181 non-null  float64       \n",
      " 20  ponds_nearest         9110 non-null   float64       \n",
      " 21  days_exposition       20518 non-null  float64       \n",
      "dtypes: bool(2), datetime64[ns](1), float64(14), int64(3), object(2)\n",
      "memory usage: 3.7+ MB\n"
     ]
    }
   ],
   "source": [
    "#заменим данные в высоте потолков. Отфильтруем самые низкие и высокие потолки\n",
    "\n",
    "data.loc[data['ceiling_height'] < 2] #3 строки из всего датасета, можно оставить ради других данных для анализа\n",
    "height_12=data.loc[data['ceiling_height'] >= 24] #21 строка не так много, но все-таки исправим, скорее всего при заполнении анкеты не посталили разделитель десятизначного значение и 24 должно быть 2.4\n",
    "\n",
    "for i in height_12.index:\n",
    "    if i == data.index[i]:\n",
    "        data['ceiling_height'][i] = data['ceiling_height'][i] / 10\n",
    "        \n",
    "# для проверки выводим снова таблицу с данными выше 24 м. Ничего не находит.\n",
    "#height_12\n",
    "\n",
    "data.info()"
   ]
  },
  {
   "cell_type": "code",
   "execution_count": 10,
   "metadata": {
    "scrolled": true
   },
   "outputs": [
    {
     "data": {
      "text/html": [
       "<div>\n",
       "<style scoped>\n",
       "    .dataframe tbody tr th:only-of-type {\n",
       "        vertical-align: middle;\n",
       "    }\n",
       "\n",
       "    .dataframe tbody tr th {\n",
       "        vertical-align: top;\n",
       "    }\n",
       "\n",
       "    .dataframe thead th {\n",
       "        text-align: right;\n",
       "    }\n",
       "</style>\n",
       "<table border=\"1\" class=\"dataframe\">\n",
       "  <thead>\n",
       "    <tr style=\"text-align: right;\">\n",
       "      <th></th>\n",
       "      <th>total_images</th>\n",
       "      <th>last_price</th>\n",
       "      <th>total_area</th>\n",
       "      <th>first_day_exposition</th>\n",
       "      <th>rooms</th>\n",
       "      <th>ceiling_height</th>\n",
       "      <th>floors_total</th>\n",
       "      <th>living_area</th>\n",
       "      <th>floor</th>\n",
       "      <th>is_apartment</th>\n",
       "      <th>studio</th>\n",
       "      <th>open_plan</th>\n",
       "      <th>kitchen_area</th>\n",
       "      <th>balcony</th>\n",
       "      <th>locality_name</th>\n",
       "      <th>airports_nearest</th>\n",
       "      <th>cityCenters_nearest</th>\n",
       "      <th>parks_around3000</th>\n",
       "      <th>parks_nearest</th>\n",
       "      <th>ponds_around3000</th>\n",
       "      <th>ponds_nearest</th>\n",
       "      <th>days_exposition</th>\n",
       "    </tr>\n",
       "  </thead>\n",
       "  <tbody>\n",
       "  </tbody>\n",
       "</table>\n",
       "</div>"
      ],
      "text/plain": [
       "Empty DataFrame\n",
       "Columns: [total_images, last_price, total_area, first_day_exposition, rooms, ceiling_height, floors_total, living_area, floor, is_apartment, studio, open_plan, kitchen_area, balcony, locality_name, airports_nearest, cityCenters_nearest, parks_around3000, parks_nearest, ponds_around3000, ponds_nearest, days_exposition]\n",
       "Index: []"
      ]
     },
     "execution_count": 10,
     "metadata": {},
     "output_type": "execute_result"
    }
   ],
   "source": [
    "#в колонке Балкон имеются пропуски. Если ничего не указано, логично предположить, что их и нет, поэтому заменим пропуски на 0\n",
    "data['balcony'] = data['balcony'].fillna(0)\n",
    "\n",
    "# проверим остались ли пропуски в колонке балкон. \n",
    "data[data['balcony'].isna()].head()\n",
    "\n",
    "#Пропусков нет"
   ]
  },
  {
   "cell_type": "code",
   "execution_count": 11,
   "metadata": {},
   "outputs": [
    {
     "data": {
      "text/plain": [
       "array(['Бокситогорск', 'Волосово', 'Волхов', 'Всеволожск', 'Выборг',\n",
       "       'Высоцк', 'Гатчина', 'Зеленогорск', 'Ивангород', 'Каменногорск',\n",
       "       'Кингисепп', 'Кириши', 'Кировск', 'Колпино', 'Коммунар',\n",
       "       'Красное Село', 'Кронштадт', 'Кудрово', 'Лодейное Поле',\n",
       "       'Ломоносов', 'Луга', 'Любань', 'Мурино', 'Никольское',\n",
       "       'Новая Ладога', 'Отрадное', 'Павловск', 'Петергоф', 'Пикалёво',\n",
       "       'Подпорожье', 'Приморск', 'Приозерск', 'Пушкин', 'Санкт-Петербург',\n",
       "       'Светогорск', 'Сертолово', 'Сестрорецк', 'Сланцы', 'Сосновый Бор',\n",
       "       'Сясьстрой', 'Тихвин', 'Тосно', 'Шлиссельбург',\n",
       "       'городской посёлок Большая Ижора', 'городской посёлок Будогощь',\n",
       "       'городской посёлок Виллози', 'городской посёлок Лесогорский',\n",
       "       'городской посёлок Мга', 'городской посёлок Назия',\n",
       "       'городской посёлок Новоселье', 'городской посёлок Павлово',\n",
       "       'городской посёлок Рощино', 'городской посёлок Свирьстрой',\n",
       "       'городской посёлок Советский', 'городской посёлок Фёдоровское',\n",
       "       'городской посёлок Янино-1', 'деревня Агалатово', 'деревня Аро',\n",
       "       'деревня Батово', 'деревня Бегуницы', 'деревня Белогорка',\n",
       "       'деревня Большая Вруда', 'деревня Большая Пустомержа',\n",
       "       'деревня Большие Колпаны', 'деревня Большое Рейзино',\n",
       "       'деревня Большой Сабск', 'деревня Бор', 'деревня Борисова Грива',\n",
       "       'деревня Ваганово', 'деревня Вартемяги', 'деревня Вахнова Кара',\n",
       "       'деревня Выскатка', 'деревня Гарболово', 'деревня Глинка',\n",
       "       'деревня Горбунки', 'деревня Гостилицы', 'деревня Заклинье',\n",
       "       'деревня Заневка', 'деревня Зимитицы', 'деревня Извара',\n",
       "       'деревня Иссад', 'деревня Калитино', 'деревня Кальтино',\n",
       "       'деревня Камышовка', 'деревня Каськово', 'деревня Келози',\n",
       "       'деревня Кипень', 'деревня Кисельня', 'деревня Колтуши',\n",
       "       'деревня Коркино', 'деревня Котлы', 'деревня Кривко',\n",
       "       'деревня Кудрово', 'деревня Кузьмолово', 'деревня Курковицы',\n",
       "       'деревня Куровицы', 'деревня Куттузи', 'деревня Лаврики',\n",
       "       'деревня Лаголово', 'деревня Лампово', 'деревня Лесколово',\n",
       "       'деревня Лопухинка', 'деревня Лупполово',\n",
       "       'деревня Малая Романовка', 'деревня Малое Верево',\n",
       "       'деревня Малое Карлино', 'деревня Малые Колпаны',\n",
       "       'деревня Мануйлово', 'деревня Меньково', 'деревня Мины',\n",
       "       'деревня Мистолово', 'деревня Ненимяки', 'деревня Нижние Осельки',\n",
       "       'деревня Нижняя', 'деревня Низино', 'деревня Новое Девяткино',\n",
       "       'деревня Новолисино', 'деревня Нурма', 'деревня Оржицы',\n",
       "       'деревня Парицы', 'деревня Пельгора', 'деревня Пеники',\n",
       "       'деревня Пижма', 'деревня Пикколово', 'деревня Пудомяги',\n",
       "       'деревня Пустынка', 'деревня Пчева', 'деревня Рабитицы',\n",
       "       'деревня Разбегаево', 'деревня Раздолье', 'деревня Разметелево',\n",
       "       'деревня Рапполово', 'деревня Реброво', 'деревня Русско',\n",
       "       'деревня Сижно', 'деревня Снегирёвка', 'деревня Старая',\n",
       "       'деревня Старая Пустошь', 'деревня Старое Хинколово',\n",
       "       'деревня Старополье', 'деревня Старосиверская',\n",
       "       'деревня Старые Бегуницы', 'деревня Суоранда',\n",
       "       'деревня Сяськелево', 'деревня Тарасово', 'деревня Терпилицы',\n",
       "       'деревня Тихковицы', 'деревня Тойворово', 'деревня Торосово',\n",
       "       'деревня Торошковичи', 'деревня Трубников Бор',\n",
       "       'деревня Фалилеево', 'деревня Фёдоровское', 'деревня Хапо-Ое',\n",
       "       'деревня Хязельки', 'деревня Чудской Бор', 'деревня Шпаньково',\n",
       "       'деревня Щеглово', 'деревня Юкки', 'деревня Ялгино',\n",
       "       'деревня Яльгелево', 'деревня Ям-Тесово',\n",
       "       'коттеджный посёлок Кивеннапа Север', 'коттеджный посёлок Лесное',\n",
       "       'коттеджный посёлок Счастье', 'неизвестный',\n",
       "       'посёлок Александровская', 'посёлок Алексеевка', 'посёлок Аннино',\n",
       "       'посёлок Барышево', 'посёлок Белоостров', 'посёлок Большая Ижора',\n",
       "       'посёлок Бугры', 'посёлок Важины', 'посёлок Вознесенье',\n",
       "       'посёлок Возрождение', 'посёлок Войсковицы', 'посёлок Войскорово',\n",
       "       'посёлок Володарское', 'посёлок Вырица', 'посёлок Высокоключевой',\n",
       "       'посёлок Гаврилово', 'посёлок Гарболово', 'посёлок Гладкое',\n",
       "       'посёлок Глажево', 'посёлок Глебычево', 'посёлок Гончарово',\n",
       "       'посёлок Громово', 'посёлок Дзержинского', 'посёлок Дружная Горка',\n",
       "       'посёлок Дружноселье', 'посёлок Дубровка', 'посёлок Елизаветино',\n",
       "       'посёлок Ефимовский', 'посёлок Жилгородок', 'посёлок Жилпосёлок',\n",
       "       'посёлок Житково', 'посёлок Заводской', 'посёлок Запорожское',\n",
       "       'посёлок Зимитицы', 'посёлок Ильичёво', 'посёлок Калитино',\n",
       "       'посёлок Каложицы', 'посёлок Кикерино', 'посёлок Кингисеппский',\n",
       "       'посёлок Кирпичное', 'посёлок Кобралово', 'посёлок Кобринское',\n",
       "       'посёлок Коммунары', 'посёлок Кондратьево', 'посёлок Коробицыно',\n",
       "       'посёлок Котельский', 'посёлок Красная Долина',\n",
       "       'посёлок Красносельское', 'посёлок Красный Бор',\n",
       "       'посёлок Кузнечное', 'посёлок Кузьмоловский', 'посёлок Лебяжье',\n",
       "       'посёлок Левашово', 'посёлок Ленинское', 'посёлок Лесное',\n",
       "       'посёлок Лесогорский', 'посёлок Лисий Нос', 'посёлок Лукаши',\n",
       "       'посёлок Любань', 'посёлок Мга', 'посёлок Мельниково',\n",
       "       'посёлок Металлострой', 'посёлок Мичуринское', 'посёлок Молодцово',\n",
       "       'посёлок Молодёжное', 'посёлок Мурино', 'посёлок Мыза-Ивановка',\n",
       "       'посёлок Назия', 'посёлок Никольский', 'посёлок Новогорелово',\n",
       "       'посёлок Новый Свет', 'посёлок Новый Учхоз', 'посёлок Оредеж',\n",
       "       'посёлок Павлово', 'посёлок Пансионат Зелёный Бор',\n",
       "       'посёлок Парголово', 'посёлок Первомайское', 'посёлок Перово',\n",
       "       'посёлок Песочный', 'посёлок Петро-Славянка', 'посёлок Петровское',\n",
       "       'посёлок Платформа 69-й километр', 'посёлок Плодовое',\n",
       "       'посёлок Плоское', 'посёлок Победа', 'посёлок Поляны',\n",
       "       'посёлок Понтонный', 'посёлок Почап', 'посёлок Починок',\n",
       "       'посёлок Пригородный', 'посёлок Приладожский', 'посёлок Пудость',\n",
       "       'посёлок Пушное', 'посёлок Пчевжа', 'посёлок Рабитицы',\n",
       "       'посёлок Рахья', 'посёлок Репино', 'посёлок Романовка',\n",
       "       'посёлок Ромашки', 'посёлок Ропша', 'посёлок Рощино',\n",
       "       'посёлок Рябово', 'посёлок Сапёрное', 'посёлок Сапёрный',\n",
       "       'посёлок Севастьяново', 'посёлок Селезнёво', 'посёлок Сельцо',\n",
       "       'посёлок Семиозерье', 'посёлок Семрино', 'посёлок Серебрянский',\n",
       "       'посёлок Сиверский', 'посёлок Синявино', 'посёлок Советский',\n",
       "       'посёлок Совхозный', 'посёлок Сосново', 'посёлок Старая Малукса',\n",
       "       'посёлок Стеклянный', 'посёлок Стрельна', 'посёлок Суйда',\n",
       "       'посёлок Сумино', 'посёлок Суходолье', 'посёлок Тайцы',\n",
       "       'посёлок Тельмана', 'посёлок Терволово', 'посёлок Токсово',\n",
       "       'посёлок Торковичи', 'посёлок Торфяное', 'посёлок Тёсово-4',\n",
       "       'посёлок Углово', 'посёлок Ульяновка', 'посёлок Усть-Ижора',\n",
       "       'посёлок Усть-Луга', 'посёлок Ушаки', 'посёлок Форносово',\n",
       "       'посёлок Форт Красная Горка', 'посёлок Цвелодубово',\n",
       "       'посёлок Цвылёво', 'посёлок Шугозеро', 'посёлок Шушары',\n",
       "       'посёлок Щеглово', 'посёлок имени Морозова',\n",
       "       'посёлок имени Свердлова',\n",
       "       'посёлок при железнодорожной станции Вещево',\n",
       "       'посёлок при железнодорожной станции Приветнинское',\n",
       "       'посёлок станции Вещево', 'посёлок станции Громово',\n",
       "       'посёлок станции Корнево', 'посёлок станции Лужайка',\n",
       "       'посёлок станции Приветнинское', 'посёлок станции Свирь',\n",
       "       'садоводческое некоммерческое товарищество Лесная Поляна',\n",
       "       'садовое товарищество Новая Ропша',\n",
       "       'садовое товарищество Приладожский', 'садовое товарищество Рахья',\n",
       "       'садовое товарищество Садко', 'село Копорье', 'село Никольское',\n",
       "       'село Павлово', 'село Паша', 'село Путилово', 'село Рождествено',\n",
       "       'село Русско-Высоцкое', 'село Старая Ладога', 'село Шум'],\n",
       "      dtype=object)"
      ]
     },
     "execution_count": 11,
     "metadata": {},
     "output_type": "execute_result"
    }
   ],
   "source": [
    "#заменим все неявные дубликаты, связанные с написанием населенного пункта\n",
    "\n",
    "data['locality_name'] = data['locality_name'].replace('поселок', 'посёлок',regex=True).replace('посёлок городского типа', 'посёлок',regex=True)\n",
    "data['locality_name'] = data['locality_name'].fillna('неизвестный')\n",
    "data['locality_name'].sort_values().unique()\n"
   ]
  },
  {
   "cell_type": "code",
   "execution_count": 12,
   "metadata": {},
   "outputs": [
    {
     "data": {
      "text/html": [
       "<div>\n",
       "<style scoped>\n",
       "    .dataframe tbody tr th:only-of-type {\n",
       "        vertical-align: middle;\n",
       "    }\n",
       "\n",
       "    .dataframe tbody tr th {\n",
       "        vertical-align: top;\n",
       "    }\n",
       "\n",
       "    .dataframe thead th {\n",
       "        text-align: right;\n",
       "    }\n",
       "</style>\n",
       "<table border=\"1\" class=\"dataframe\">\n",
       "  <thead>\n",
       "    <tr style=\"text-align: right;\">\n",
       "      <th></th>\n",
       "      <th>total_images</th>\n",
       "      <th>last_price</th>\n",
       "      <th>total_area</th>\n",
       "      <th>first_day_exposition</th>\n",
       "      <th>rooms</th>\n",
       "      <th>ceiling_height</th>\n",
       "      <th>floors_total</th>\n",
       "      <th>living_area</th>\n",
       "      <th>floor</th>\n",
       "      <th>is_apartment</th>\n",
       "      <th>studio</th>\n",
       "      <th>open_plan</th>\n",
       "      <th>kitchen_area</th>\n",
       "      <th>balcony</th>\n",
       "      <th>locality_name</th>\n",
       "      <th>airports_nearest</th>\n",
       "      <th>cityCenters_nearest</th>\n",
       "      <th>parks_around3000</th>\n",
       "      <th>parks_nearest</th>\n",
       "      <th>ponds_around3000</th>\n",
       "      <th>ponds_nearest</th>\n",
       "      <th>days_exposition</th>\n",
       "    </tr>\n",
       "  </thead>\n",
       "  <tbody>\n",
       "  </tbody>\n",
       "</table>\n",
       "</div>"
      ],
      "text/plain": [
       "Empty DataFrame\n",
       "Columns: [total_images, last_price, total_area, first_day_exposition, rooms, ceiling_height, floors_total, living_area, floor, is_apartment, studio, open_plan, kitchen_area, balcony, locality_name, airports_nearest, cityCenters_nearest, parks_around3000, parks_nearest, ponds_around3000, ponds_nearest, days_exposition]\n",
       "Index: []"
      ]
     },
     "execution_count": 12,
     "metadata": {},
     "output_type": "execute_result"
    }
   ],
   "source": [
    "# найдем дубликаты\n",
    "data[data.duplicated()].head()\n",
    "\n",
    "# дубликатов нет"
   ]
  },
  {
   "cell_type": "code",
   "execution_count": 13,
   "metadata": {},
   "outputs": [
    {
     "name": "stdout",
     "output_type": "stream",
     "text": [
      "<class 'pandas.core.frame.DataFrame'>\n",
      "Int64Index: 23593 entries, 0 to 23698\n",
      "Data columns (total 22 columns):\n",
      " #   Column                Non-Null Count  Dtype         \n",
      "---  ------                --------------  -----         \n",
      " 0   total_images          23593 non-null  int64         \n",
      " 1   last_price            23593 non-null  float64       \n",
      " 2   total_area            23593 non-null  float64       \n",
      " 3   first_day_exposition  23593 non-null  datetime64[ns]\n",
      " 4   rooms                 23593 non-null  int64         \n",
      " 5   ceiling_height        23593 non-null  float64       \n",
      " 6   floors_total          23507 non-null  float64       \n",
      " 7   living_area           21713 non-null  float64       \n",
      " 8   floor                 23593 non-null  int64         \n",
      " 9   is_apartment          23593 non-null  object        \n",
      " 10  studio                23593 non-null  bool          \n",
      " 11  open_plan             23593 non-null  bool          \n",
      " 12  kitchen_area          21342 non-null  float64       \n",
      " 13  balcony               23593 non-null  float64       \n",
      " 14  locality_name         23593 non-null  object        \n",
      " 15  airports_nearest      18152 non-null  float64       \n",
      " 16  cityCenters_nearest   18175 non-null  float64       \n",
      " 17  parks_around3000      18176 non-null  float64       \n",
      " 18  parks_nearest         8079 non-null   float64       \n",
      " 19  ponds_around3000      18176 non-null  float64       \n",
      " 20  ponds_nearest         9108 non-null   float64       \n",
      " 21  days_exposition       20436 non-null  float64       \n",
      "dtypes: bool(2), datetime64[ns](1), float64(14), int64(3), object(2)\n",
      "memory usage: 3.8+ MB\n"
     ]
    }
   ],
   "source": [
    "# заполним оставшиеся пробелы в потолках медианным значением стандартных высот по региону, сгруппировав данные по населенному пункту.\n",
    "# в итоге заполнили медианным значением с 14504 до 23543 позиций\n",
    "ceiling_height = data[data['ceiling_height'] <= 5]\n",
    "median_ceiling = data.groupby('locality_name')['ceiling_height'].transform('median')\n",
    "data['ceiling_height'] = data['ceiling_height'].fillna(median_ceiling)\n",
    "\n",
    "# оставшиеся пустые значения 156 шт удаляем для чистоты анализа (это меньше 1%). В итоге остается 23543 значения\n",
    "data=data.dropna(subset=['ceiling_height'])\n",
    "data.info()"
   ]
  },
  {
   "cell_type": "code",
   "execution_count": 14,
   "metadata": {},
   "outputs": [
    {
     "name": "stdout",
     "output_type": "stream",
     "text": [
      "<class 'pandas.core.frame.DataFrame'>\n",
      "Int64Index: 23577 entries, 0 to 23698\n",
      "Data columns (total 22 columns):\n",
      " #   Column                Non-Null Count  Dtype         \n",
      "---  ------                --------------  -----         \n",
      " 0   total_images          23577 non-null  int64         \n",
      " 1   last_price            23577 non-null  float64       \n",
      " 2   total_area            23577 non-null  float64       \n",
      " 3   first_day_exposition  23577 non-null  datetime64[ns]\n",
      " 4   rooms                 23577 non-null  int64         \n",
      " 5   ceiling_height        23577 non-null  float64       \n",
      " 6   floors_total          23491 non-null  float64       \n",
      " 7   living_area           21699 non-null  float64       \n",
      " 8   floor                 23577 non-null  int64         \n",
      " 9   is_apartment          23577 non-null  object        \n",
      " 10  studio                23577 non-null  bool          \n",
      " 11  open_plan             23577 non-null  bool          \n",
      " 12  kitchen_area          21331 non-null  float64       \n",
      " 13  balcony               23577 non-null  float64       \n",
      " 14  locality_name         23577 non-null  object        \n",
      " 15  airports_nearest      18137 non-null  float64       \n",
      " 16  cityCenters_nearest   18160 non-null  float64       \n",
      " 17  parks_around3000      18161 non-null  float64       \n",
      " 18  parks_nearest         8069 non-null   float64       \n",
      " 19  ponds_around3000      18161 non-null  float64       \n",
      " 20  ponds_nearest         9099 non-null   float64       \n",
      " 21  days_exposition       20423 non-null  float64       \n",
      "dtypes: bool(2), datetime64[ns](1), float64(14), int64(3), object(2)\n",
      "memory usage: 3.8+ MB\n"
     ]
    }
   ],
   "source": [
    "# в высоте потолков большой разброс нетипичных высот. Насчитывается небольшая группа больше 5 метров, скорее всего это нежилые площади, поэтому удалим их для чистоты анализа\n",
    "# Удалим их. Остается 23577\n",
    "data = data[(data['ceiling_height'] <= 5)]\n",
    "data.info()"
   ]
  },
  {
   "cell_type": "code",
   "execution_count": 15,
   "metadata": {},
   "outputs": [
    {
     "data": {
      "image/png": "[encoded data removed]",
      "text/plain": [
       "<Figure size 432x288 with 1 Axes>"
      ]
     },
     "metadata": {
      "needs_background": "light"
     },
     "output_type": "display_data"
    }
   ],
   "source": [
    "# в площади наблюдаются выбрасы со 100м. Для начала удалим выбросы с 150м/\n",
    "# Из 23577 осталось 22999 позиций\n",
    "plt.boxplot(data['total_area'])\n",
    "data = data[(data['total_area'] < 150)]\n"
   ]
  },
  {
   "cell_type": "code",
   "execution_count": 16,
   "metadata": {},
   "outputs": [
    {
     "data": {
      "text/plain": [
       "{'whiskers': [<matplotlib.lines.Line2D at 0x7f54af58db80>,\n",
       "  <matplotlib.lines.Line2D at 0x7f54af58dee0>],\n",
       " 'caps': [<matplotlib.lines.Line2D at 0x7f54af59b280>,\n",
       "  <matplotlib.lines.Line2D at 0x7f54af59b5e0>],\n",
       " 'boxes': [<matplotlib.lines.Line2D at 0x7f54af58d820>],\n",
       " 'medians': [<matplotlib.lines.Line2D at 0x7f54af59b940>],\n",
       " 'fliers': [<matplotlib.lines.Line2D at 0x7f54af59bca0>],\n",
       " 'means': []}"
      ]
     },
     "execution_count": 16,
     "metadata": {},
     "output_type": "execute_result"
    },
    {
     "data": {
      "image/png": "[encoded data removed]",
      "text/plain": [
       "<Figure size 432x288 with 1 Axes>"
      ]
     },
     "metadata": {
      "needs_background": "light"
     },
     "output_type": "display_data"
    }
   ],
   "source": [
    "# удаляем выбросы в комнатах. В датасете имеются нетипичные многокомнатные квартиры, их немного, но они могут повлиять на чистоту анализа\n",
    "\n",
    "plt.boxplot(data['rooms'])\n",
    "\n",
    "#боксплот подтвердил диаграмму и указал, что больше 6 комнат это выброс\n"
   ]
  },
  {
   "cell_type": "code",
   "execution_count": 17,
   "metadata": {},
   "outputs": [
    {
     "name": "stdout",
     "output_type": "stream",
     "text": [
      "<class 'pandas.core.frame.DataFrame'>\n",
      "Int64Index: 22991 entries, 0 to 23698\n",
      "Data columns (total 22 columns):\n",
      " #   Column                Non-Null Count  Dtype         \n",
      "---  ------                --------------  -----         \n",
      " 0   total_images          22991 non-null  int64         \n",
      " 1   last_price            22991 non-null  float64       \n",
      " 2   total_area            22991 non-null  float64       \n",
      " 3   first_day_exposition  22991 non-null  datetime64[ns]\n",
      " 4   rooms                 22991 non-null  int64         \n",
      " 5   ceiling_height        22991 non-null  float64       \n",
      " 6   floors_total          22906 non-null  float64       \n",
      " 7   living_area           21183 non-null  float64       \n",
      " 8   floor                 22991 non-null  int64         \n",
      " 9   is_apartment          22991 non-null  object        \n",
      " 10  studio                22991 non-null  bool          \n",
      " 11  open_plan             22991 non-null  bool          \n",
      " 12  kitchen_area          20814 non-null  float64       \n",
      " 13  balcony               22991 non-null  float64       \n",
      " 14  locality_name         22991 non-null  object        \n",
      " 15  airports_nearest      17572 non-null  float64       \n",
      " 16  cityCenters_nearest   17592 non-null  float64       \n",
      " 17  parks_around3000      17593 non-null  float64       \n",
      " 18  parks_nearest         7688 non-null   float64       \n",
      " 19  ponds_around3000      17593 non-null  float64       \n",
      " 20  ponds_nearest         8694 non-null   float64       \n",
      " 21  days_exposition       19987 non-null  float64       \n",
      "dtypes: bool(2), datetime64[ns](1), float64(14), int64(3), object(2)\n",
      "memory usage: 3.7+ MB\n"
     ]
    }
   ],
   "source": [
    "# удалим квартиры с комнатами более 6\n",
    "data = data[(data['rooms'] <= 6)]\n",
    "\n",
    "data.info()\n",
    "# осталось 22991"
   ]
  },
  {
   "cell_type": "code",
   "execution_count": 18,
   "metadata": {},
   "outputs": [
    {
     "name": "stdout",
     "output_type": "stream",
     "text": [
      "<class 'pandas.core.frame.DataFrame'>\n",
      "Int64Index: 22987 entries, 0 to 23698\n",
      "Data columns (total 22 columns):\n",
      " #   Column                Non-Null Count  Dtype         \n",
      "---  ------                --------------  -----         \n",
      " 0   total_images          22987 non-null  int64         \n",
      " 1   last_price            22987 non-null  float64       \n",
      " 2   total_area            22987 non-null  float64       \n",
      " 3   first_day_exposition  22987 non-null  datetime64[ns]\n",
      " 4   rooms                 22987 non-null  int64         \n",
      " 5   ceiling_height        22987 non-null  float64       \n",
      " 6   floors_total          22987 non-null  float64       \n",
      " 7   living_area           21179 non-null  float64       \n",
      " 8   floor                 22987 non-null  int64         \n",
      " 9   is_apartment          22987 non-null  object        \n",
      " 10  studio                22987 non-null  bool          \n",
      " 11  open_plan             22987 non-null  bool          \n",
      " 12  kitchen_area          20811 non-null  float64       \n",
      " 13  balcony               22987 non-null  float64       \n",
      " 14  locality_name         22987 non-null  object        \n",
      " 15  airports_nearest      17569 non-null  float64       \n",
      " 16  cityCenters_nearest   17589 non-null  float64       \n",
      " 17  parks_around3000      17590 non-null  float64       \n",
      " 18  parks_nearest         7687 non-null   float64       \n",
      " 19  ponds_around3000      17590 non-null  float64       \n",
      " 20  ponds_nearest         8693 non-null   float64       \n",
      " 21  days_exposition       19986 non-null  float64       \n",
      "dtypes: bool(2), datetime64[ns](1), float64(14), int64(3), object(2)\n",
      "memory usage: 3.7+ MB\n"
     ]
    }
   ],
   "source": [
    "# floors_total - имеется около 100 пропусков. Заменим их медианным значением, сгруппированных данных по населенному пункту\n",
    "\n",
    "median_floors_total = data.groupby('locality_name')['floors_total'].transform('median')\n",
    "data['floors_total'] = data['floors_total'].fillna(median_floors_total)\n",
    "\n",
    "# Произведем проверку медианных значений, не превышает ли медиана номер этажа, на котором находится квартира\n",
    "cheek_floor = data.loc[data['floors_total'] < data['floor']]\n",
    "cheek_floor\n",
    "# их оказалось всего 4. Удалим из анализа\n",
    "data = data.drop(index=[8478])\n",
    "data = data.drop(index=[10058])\n",
    "data = data.drop(index=[14264])\n",
    "data = data.drop(index=[21651])\n",
    "\n",
    "data.info() # итого 14068позиций"
   ]
  },
  {
   "cell_type": "code",
   "execution_count": 19,
   "metadata": {},
   "outputs": [
    {
     "name": "stdout",
     "output_type": "stream",
     "text": [
      "<class 'pandas.core.frame.DataFrame'>\n",
      "Int64Index: 22987 entries, 0 to 23698\n",
      "Data columns (total 22 columns):\n",
      " #   Column                Non-Null Count  Dtype         \n",
      "---  ------                --------------  -----         \n",
      " 0   total_images          22987 non-null  int64         \n",
      " 1   last_price            22987 non-null  float64       \n",
      " 2   total_area            22987 non-null  float64       \n",
      " 3   first_day_exposition  22987 non-null  datetime64[ns]\n",
      " 4   rooms                 22987 non-null  int64         \n",
      " 5   ceiling_height        22987 non-null  float64       \n",
      " 6   floors_total          22987 non-null  float64       \n",
      " 7   living_area           21179 non-null  float64       \n",
      " 8   floor                 22987 non-null  int64         \n",
      " 9   is_apartment          22987 non-null  object        \n",
      " 10  studio                22987 non-null  bool          \n",
      " 11  open_plan             22987 non-null  bool          \n",
      " 12  kitchen_area          20811 non-null  float64       \n",
      " 13  balcony               22987 non-null  float64       \n",
      " 14  locality_name         22987 non-null  object        \n",
      " 15  airports_nearest      18232 non-null  float64       \n",
      " 16  cityCenters_nearest   17589 non-null  float64       \n",
      " 17  parks_around3000      17590 non-null  float64       \n",
      " 18  parks_nearest         7687 non-null   float64       \n",
      " 19  ponds_around3000      17590 non-null  float64       \n",
      " 20  ponds_nearest         8693 non-null   float64       \n",
      " 21  days_exposition       19986 non-null  float64       \n",
      "dtypes: bool(2), datetime64[ns](1), float64(14), int64(3), object(2)\n",
      "memory usage: 3.7+ MB\n"
     ]
    }
   ],
   "source": [
    "# заполним медианным значением удаленность от аэропорта, сгруппировав данные по населенному пункту. Дополнили данные с 17572 до 18236\n",
    "median_airport = data.groupby('locality_name')['airports_nearest'].transform('median')\n",
    "data['airports_nearest'] = data['airports_nearest'].fillna(median_airport)\n",
    "data.head()\n",
    "data.info()"
   ]
  },
  {
   "cell_type": "code",
   "execution_count": 20,
   "metadata": {},
   "outputs": [
    {
     "name": "stdout",
     "output_type": "stream",
     "text": [
      "<class 'pandas.core.frame.DataFrame'>\n",
      "Int64Index: 22987 entries, 0 to 23698\n",
      "Data columns (total 22 columns):\n",
      " #   Column                Non-Null Count  Dtype         \n",
      "---  ------                --------------  -----         \n",
      " 0   total_images          22987 non-null  int64         \n",
      " 1   last_price            22987 non-null  float64       \n",
      " 2   total_area            22987 non-null  float64       \n",
      " 3   first_day_exposition  22987 non-null  datetime64[ns]\n",
      " 4   rooms                 22987 non-null  int64         \n",
      " 5   ceiling_height        22987 non-null  float64       \n",
      " 6   floors_total          22987 non-null  float64       \n",
      " 7   living_area           21179 non-null  float64       \n",
      " 8   floor                 22987 non-null  int64         \n",
      " 9   is_apartment          22987 non-null  object        \n",
      " 10  studio                22987 non-null  bool          \n",
      " 11  open_plan             22987 non-null  bool          \n",
      " 12  kitchen_area          20811 non-null  float64       \n",
      " 13  balcony               22987 non-null  float64       \n",
      " 14  locality_name         22987 non-null  object        \n",
      " 15  airports_nearest      22987 non-null  float64       \n",
      " 16  cityCenters_nearest   22987 non-null  float64       \n",
      " 17  parks_around3000      22987 non-null  float64       \n",
      " 18  parks_nearest         22987 non-null  float64       \n",
      " 19  ponds_around3000      22987 non-null  float64       \n",
      " 20  ponds_nearest         22987 non-null  float64       \n",
      " 21  days_exposition       22987 non-null  float64       \n",
      "dtypes: bool(2), datetime64[ns](1), float64(14), int64(3), object(2)\n",
      "memory usage: 3.7+ MB\n"
     ]
    }
   ],
   "source": [
    "# пробелы последних 7 колонок датасета с картографией и количеством дней размещения объявления\n",
    "# Пропусков очень много, удалять нельзя, поэтому заменим на 0.\n",
    "# И при дальнейшем анализе этих колонок необходимо производить фильтрацию датасета и исключать нулевые значеия из анализа, чтоб они не повлияли на результат\n",
    "_list_ = ['airports_nearest', 'cityCenters_nearest', 'parks_around3000', 'parks_nearest', 'ponds_around3000', 'ponds_nearest', 'days_exposition']\n",
    "\n",
    "for name in _list_:\n",
    "    data[name] = data[name].fillna(0)\n",
    "data.info()"
   ]
  },
  {
   "cell_type": "code",
   "execution_count": 21,
   "metadata": {},
   "outputs": [],
   "source": [
    "# последние пропуски в 2х колонках living_area и kitchen_area. Всего пропусков 2595, больше 10% от всех данных\n",
    "# удалять нельзя, чтоб не потерять данные для анализа, поэтому заменим данные средним медианным значением по региону\n",
    "\n",
    "data.loc[data.isna().any(axis=1)]\n",
    "\n",
    "median_living_area = data.groupby('locality_name')['living_area'].transform('median')\n",
    "data['living_area'] = data['living_area'].fillna(median_living_area)\n",
    "\n",
    "median_kitchen_area = data.groupby('locality_name')['kitchen_area'].transform('median')\n",
    "data['kitchen_area'] = data['kitchen_area'].fillna(median_kitchen_area)"
   ]
  },
  {
   "cell_type": "code",
   "execution_count": 22,
   "metadata": {},
   "outputs": [
    {
     "data": {
      "text/plain": [
       "total_images            False\n",
       "last_price              False\n",
       "total_area              False\n",
       "first_day_exposition    False\n",
       "rooms                   False\n",
       "ceiling_height          False\n",
       "floors_total            False\n",
       "living_area             False\n",
       "floor                   False\n",
       "is_apartment            False\n",
       "studio                  False\n",
       "open_plan               False\n",
       "kitchen_area            False\n",
       "balcony                 False\n",
       "locality_name           False\n",
       "airports_nearest        False\n",
       "cityCenters_nearest     False\n",
       "parks_around3000        False\n",
       "parks_nearest           False\n",
       "ponds_around3000        False\n",
       "ponds_nearest           False\n",
       "days_exposition         False\n",
       "dtype: bool"
      ]
     },
     "execution_count": 22,
     "metadata": {},
     "output_type": "execute_result"
    }
   ],
   "source": [
    "# проверим, остались ли пропуски в  living_area и kitchen_area\n",
    "\n",
    "#data.isna().any() - остались пропуски. Удалим их, т.к. их немного (не больше 10 позиций)\n",
    "\n",
    "data = data.dropna(subset=['kitchen_area', 'living_area'])\n",
    "data.isna().any()"
   ]
  },
  {
   "cell_type": "code",
   "execution_count": 23,
   "metadata": {},
   "outputs": [
    {
     "name": "stdout",
     "output_type": "stream",
     "text": [
      "<class 'pandas.core.frame.DataFrame'>\n",
      "Int64Index: 22981 entries, 0 to 23698\n",
      "Data columns (total 22 columns):\n",
      " #   Column                Non-Null Count  Dtype         \n",
      "---  ------                --------------  -----         \n",
      " 0   total_images          22981 non-null  int64         \n",
      " 1   last_price            22981 non-null  float64       \n",
      " 2   total_area            22981 non-null  float64       \n",
      " 3   first_day_exposition  22981 non-null  datetime64[ns]\n",
      " 4   rooms                 22981 non-null  int64         \n",
      " 5   ceiling_height        22981 non-null  float64       \n",
      " 6   floors_total          22981 non-null  int64         \n",
      " 7   living_area           22981 non-null  float64       \n",
      " 8   floor                 22981 non-null  int64         \n",
      " 9   is_apartment          22981 non-null  bool          \n",
      " 10  studio                22981 non-null  bool          \n",
      " 11  open_plan             22981 non-null  bool          \n",
      " 12  kitchen_area          22981 non-null  float64       \n",
      " 13  balcony               22981 non-null  int64         \n",
      " 14  locality_name         22981 non-null  object        \n",
      " 15  airports_nearest      22981 non-null  float64       \n",
      " 16  cityCenters_nearest   22981 non-null  float64       \n",
      " 17  parks_around3000      22981 non-null  float64       \n",
      " 18  parks_nearest         22981 non-null  float64       \n",
      " 19  ponds_around3000      22981 non-null  float64       \n",
      " 20  ponds_nearest         22981 non-null  float64       \n",
      " 21  days_exposition       22981 non-null  int64         \n",
      "dtypes: bool(3), datetime64[ns](1), float64(11), int64(6), object(1)\n",
      "memory usage: 3.6+ MB\n"
     ]
    }
   ],
   "source": [
    "# еще раз взглянем на данные таблицы\n",
    "\n",
    "#  data.info() необходимо заменить формат данных в колонках балкон, этажность дома, кол-во дней на целые числа для легкого восприятия информации\n",
    "\n",
    "# is_apartment переводим в булевое значение, чтоб можно было проводить анализ данных\n",
    "\n",
    "data['floors_total'] = data['floors_total'].astype('int')\n",
    "data['is_apartment'] = data['is_apartment'].astype('bool')\n",
    "data['balcony'] = data['balcony'].astype('int')\n",
    "data['days_exposition'] = data['days_exposition'].astype('int')\n",
    "data.info()"
   ]
  },
  {
   "cell_type": "markdown",
   "metadata": {},
   "source": [
    "Вывод по предобработке данных:\n",
    "- В данных было много пропусков, некоторые появились в ходе незаполнения данных потребителем, некоторые образовались из-за несовершенства автоматизации с картографическими данными.\n",
    "- Часть пропусков была заполнена исходя из логики, как например отсутствие балкона или принадлежность квартиры к апартаментам и т.д\n",
    "- Были удалены выбросы и незначительные пропуски в данных. В итоге из 23699 позиций к анализу готовы 22985 позиций (удалено было всего 714 значения, это 3% от изначальных данных)\n",
    "- Пропуски, после удаления всех выбросов, были заменены медианным значением, свойственным населенному пункту. Самый большой пробел в данных был у ceiling_height (приблизительно 40%), но замена на медианное значение не должна сильно сказаться на результат, так как высота потолков, как правило, не выходит за стандарты. Самые важные замены пропусков были сделаны living_area и kitchen_area, но общие замены не достигает и 10% от всех данных, поэтому и в этом случае замена на медиану была допустима.\n"
   ]
  },
  {
   "cell_type": "code",
   "execution_count": 24,
   "metadata": {},
   "outputs": [
    {
     "data": {
      "text/html": [
       "<div>\n",
       "<style scoped>\n",
       "    .dataframe tbody tr th:only-of-type {\n",
       "        vertical-align: middle;\n",
       "    }\n",
       "\n",
       "    .dataframe tbody tr th {\n",
       "        vertical-align: top;\n",
       "    }\n",
       "\n",
       "    .dataframe thead th {\n",
       "        text-align: right;\n",
       "    }\n",
       "</style>\n",
       "<table border=\"1\" class=\"dataframe\">\n",
       "  <thead>\n",
       "    <tr style=\"text-align: right;\">\n",
       "      <th></th>\n",
       "      <th>total_images</th>\n",
       "      <th>last_price</th>\n",
       "      <th>total_area</th>\n",
       "      <th>first_day_exposition</th>\n",
       "      <th>rooms</th>\n",
       "      <th>ceiling_height</th>\n",
       "      <th>floors_total</th>\n",
       "      <th>living_area</th>\n",
       "      <th>floor</th>\n",
       "      <th>is_apartment</th>\n",
       "      <th>studio</th>\n",
       "      <th>open_plan</th>\n",
       "      <th>...</th>\n",
       "      <th>cityCenters_nearest</th>\n",
       "      <th>parks_around3000</th>\n",
       "      <th>parks_nearest</th>\n",
       "      <th>ponds_around3000</th>\n",
       "      <th>ponds_nearest</th>\n",
       "      <th>days_exposition</th>\n",
       "      <th>price_sq_met</th>\n",
       "      <th>weekday</th>\n",
       "      <th>month</th>\n",
       "      <th>year</th>\n",
       "      <th>type_floor</th>\n",
       "      <th>distance_to_city</th>\n",
       "    </tr>\n",
       "  </thead>\n",
       "  <tbody>\n",
       "    <tr>\n",
       "      <th>0</th>\n",
       "      <td>20</td>\n",
       "      <td>13000000.0</td>\n",
       "      <td>108.0</td>\n",
       "      <td>2019-03-07</td>\n",
       "      <td>3</td>\n",
       "      <td>2.70</td>\n",
       "      <td>16</td>\n",
       "      <td>51.0</td>\n",
       "      <td>8</td>\n",
       "      <td>False</td>\n",
       "      <td>False</td>\n",
       "      <td>False</td>\n",
       "      <td>...</td>\n",
       "      <td>16028.0</td>\n",
       "      <td>1.0</td>\n",
       "      <td>482.0</td>\n",
       "      <td>2.0</td>\n",
       "      <td>755.0</td>\n",
       "      <td>0</td>\n",
       "      <td>120370.37</td>\n",
       "      <td>3</td>\n",
       "      <td>3</td>\n",
       "      <td>2019</td>\n",
       "      <td>2</td>\n",
       "      <td>16</td>\n",
       "    </tr>\n",
       "    <tr>\n",
       "      <th>1</th>\n",
       "      <td>7</td>\n",
       "      <td>3350000.0</td>\n",
       "      <td>40.4</td>\n",
       "      <td>2018-12-04</td>\n",
       "      <td>1</td>\n",
       "      <td>2.63</td>\n",
       "      <td>11</td>\n",
       "      <td>18.6</td>\n",
       "      <td>1</td>\n",
       "      <td>False</td>\n",
       "      <td>False</td>\n",
       "      <td>False</td>\n",
       "      <td>...</td>\n",
       "      <td>18603.0</td>\n",
       "      <td>0.0</td>\n",
       "      <td>0.0</td>\n",
       "      <td>0.0</td>\n",
       "      <td>0.0</td>\n",
       "      <td>81</td>\n",
       "      <td>82920.79</td>\n",
       "      <td>1</td>\n",
       "      <td>12</td>\n",
       "      <td>2018</td>\n",
       "      <td>1</td>\n",
       "      <td>19</td>\n",
       "    </tr>\n",
       "    <tr>\n",
       "      <th>2</th>\n",
       "      <td>10</td>\n",
       "      <td>5196000.0</td>\n",
       "      <td>56.0</td>\n",
       "      <td>2015-08-20</td>\n",
       "      <td>2</td>\n",
       "      <td>2.70</td>\n",
       "      <td>5</td>\n",
       "      <td>34.3</td>\n",
       "      <td>4</td>\n",
       "      <td>False</td>\n",
       "      <td>False</td>\n",
       "      <td>False</td>\n",
       "      <td>...</td>\n",
       "      <td>13933.0</td>\n",
       "      <td>1.0</td>\n",
       "      <td>90.0</td>\n",
       "      <td>2.0</td>\n",
       "      <td>574.0</td>\n",
       "      <td>558</td>\n",
       "      <td>92785.71</td>\n",
       "      <td>3</td>\n",
       "      <td>8</td>\n",
       "      <td>2015</td>\n",
       "      <td>2</td>\n",
       "      <td>14</td>\n",
       "    </tr>\n",
       "    <tr>\n",
       "      <th>4</th>\n",
       "      <td>2</td>\n",
       "      <td>10000000.0</td>\n",
       "      <td>100.0</td>\n",
       "      <td>2018-06-19</td>\n",
       "      <td>2</td>\n",
       "      <td>3.03</td>\n",
       "      <td>14</td>\n",
       "      <td>32.0</td>\n",
       "      <td>13</td>\n",
       "      <td>False</td>\n",
       "      <td>False</td>\n",
       "      <td>False</td>\n",
       "      <td>...</td>\n",
       "      <td>8098.0</td>\n",
       "      <td>2.0</td>\n",
       "      <td>112.0</td>\n",
       "      <td>1.0</td>\n",
       "      <td>48.0</td>\n",
       "      <td>121</td>\n",
       "      <td>100000.00</td>\n",
       "      <td>1</td>\n",
       "      <td>6</td>\n",
       "      <td>2018</td>\n",
       "      <td>2</td>\n",
       "      <td>8</td>\n",
       "    </tr>\n",
       "    <tr>\n",
       "      <th>5</th>\n",
       "      <td>10</td>\n",
       "      <td>2890000.0</td>\n",
       "      <td>30.4</td>\n",
       "      <td>2018-09-10</td>\n",
       "      <td>1</td>\n",
       "      <td>2.65</td>\n",
       "      <td>12</td>\n",
       "      <td>14.4</td>\n",
       "      <td>5</td>\n",
       "      <td>False</td>\n",
       "      <td>False</td>\n",
       "      <td>False</td>\n",
       "      <td>...</td>\n",
       "      <td>0.0</td>\n",
       "      <td>0.0</td>\n",
       "      <td>0.0</td>\n",
       "      <td>0.0</td>\n",
       "      <td>0.0</td>\n",
       "      <td>55</td>\n",
       "      <td>95065.79</td>\n",
       "      <td>0</td>\n",
       "      <td>9</td>\n",
       "      <td>2018</td>\n",
       "      <td>2</td>\n",
       "      <td>0</td>\n",
       "    </tr>\n",
       "  </tbody>\n",
       "</table>\n",
       "<p>5 rows × 28 columns</p>\n",
       "</div>"
      ],
      "text/plain": [
       "   total_images  last_price  total_area first_day_exposition  rooms  \\\n",
       "0            20  13000000.0       108.0           2019-03-07      3   \n",
       "1             7   3350000.0        40.4           2018-12-04      1   \n",
       "2            10   5196000.0        56.0           2015-08-20      2   \n",
       "4             2  10000000.0       100.0           2018-06-19      2   \n",
       "5            10   2890000.0        30.4           2018-09-10      1   \n",
       "\n",
       "   ceiling_height  floors_total  living_area  floor  is_apartment  studio  \\\n",
       "0            2.70            16         51.0      8         False   False   \n",
       "1            2.63            11         18.6      1         False   False   \n",
       "2            2.70             5         34.3      4         False   False   \n",
       "4            3.03            14         32.0     13         False   False   \n",
       "5            2.65            12         14.4      5         False   False   \n",
       "\n",
       "   open_plan  ...  cityCenters_nearest  parks_around3000 parks_nearest  \\\n",
       "0      False  ...              16028.0               1.0         482.0   \n",
       "1      False  ...              18603.0               0.0           0.0   \n",
       "2      False  ...              13933.0               1.0          90.0   \n",
       "4      False  ...               8098.0               2.0         112.0   \n",
       "5      False  ...                  0.0               0.0           0.0   \n",
       "\n",
       "   ponds_around3000  ponds_nearest  days_exposition  price_sq_met  weekday  \\\n",
       "0               2.0          755.0                0     120370.37        3   \n",
       "1               0.0            0.0               81      82920.79        1   \n",
       "2               2.0          574.0              558      92785.71        3   \n",
       "4               1.0           48.0              121     100000.00        1   \n",
       "5               0.0            0.0               55      95065.79        0   \n",
       "\n",
       "   month  year  type_floor  distance_to_city  \n",
       "0      3  2019           2                16  \n",
       "1     12  2018           1                19  \n",
       "2      8  2015           2                14  \n",
       "4      6  2018           2                 8  \n",
       "5      9  2018           2                 0  \n",
       "\n",
       "[5 rows x 28 columns]"
      ]
     },
     "execution_count": 24,
     "metadata": {},
     "output_type": "execute_result"
    }
   ],
   "source": [
    "data['price_sq_met'] = round(data['last_price'] / data['total_area'],2) # стоимость за 1 кв.м (руб)\n",
    "data['weekday'] = data['first_day_exposition'].dt.weekday # день недели (понедельник - 0, вторник - 1 и тд)\n",
    "data['month'] = pd.DatetimeIndex(data['first_day_exposition']).month # месяц\n",
    "data['year'] = pd.DatetimeIndex(data['first_day_exposition']).year # год\n",
    "\n",
    "# функция и цикл для создания новой колонки 'type_floor', где тип1 - это 1 этаж, тип 2  - другой, тип 3 - последний\n",
    "\n",
    "def floot(number):\n",
    "    if number == 1:\n",
    "        return 1\n",
    "    else:\n",
    "        return 2\n",
    "data['type_floor'] = data['floor'].apply(floot)\n",
    "\n",
    "for i in data.index:\n",
    "    if data['floor'][i] == data['floors_total'][i]:\n",
    "            data['type_floor'][i] = 3\n",
    "            \n",
    "# новая колонка - расстояние до центра, переведенные в км \n",
    "data['distance_to_city'] = round(data['cityCenters_nearest'] / 1000, 0)\n",
    "data['distance_to_city'] = data['distance_to_city'].astype('int')\n",
    "\n",
    "data.head()"
   ]
  },
  {
   "cell_type": "markdown",
   "metadata": {},
   "source": [
    "### Проведем исследовательский анализ данных"
   ]
  },
  {
   "cell_type": "code",
   "execution_count": 25,
   "metadata": {},
   "outputs": [
    {
     "data": {
      "image/png": "[encoded data removed]",
      "text/plain": [
       "<Figure size 1080x1440 with 25 Axes>"
      ]
     },
     "metadata": {
      "needs_background": "light"
     },
     "output_type": "display_data"
    }
   ],
   "source": [
    "data.hist(bins=20, figsize=(15, 20)); # построим отдельные диаграммы для каждого количественного признака"
   ]
  },
  {
   "cell_type": "code",
   "execution_count": 26,
   "metadata": {},
   "outputs": [
    {
     "name": "stdout",
     "output_type": "stream",
     "text": [
      "count    22981.000000\n",
      "mean         6.401506\n",
      "std          3.490409\n",
      "min          1.000000\n",
      "25%          3.000000\n",
      "50%          6.000000\n",
      "75%         10.000000\n",
      "max         12.000000\n",
      "Name: month, dtype: float64\n",
      "[ 1  2  3  4  5  6  7  8  9 10 11 12]\n"
     ]
    }
   ],
   "source": [
    "# проверим данные каждой колонки по статистич. анализу и диаграммам, ниже укажем наблюдения по ним\n",
    "\n",
    "_b = 'month'\n",
    "print(data[_b].describe())\n",
    "print(data[_b].sort_values().unique())"
   ]
  },
  {
   "cell_type": "markdown",
   "metadata": {},
   "source": [
    "- total_area - общая площадь в основном от 40 до 60 кв.м\n",
    "- living_area - жилая зона в основном от 18  до 40 кв.м\n",
    "- kitchen_area - кухни в основном от 7 до 10кв.м\n",
    "- last_price - все сделки свершались в диапазоне 3.5-6 млн\n",
    "- rooms - в основном продают одно-, двухкомнатные квартиры (больше 50%), потом меньше 3-хкомнатные квартиры\n",
    "- ceiling_height - в основном высоты потолков до 2.5-3 м\n",
    "- floor - основная масса квартир до 10 этажа, но большая часть до 5 этажа\n",
    "- type_floor - в меньшей степени 1 и последние этажи, основная масса - это другие этажи\n",
    "- floors_total - больше половины квартир до 9-этажного дома, меньше четверти в пределах 16-этажного здания\n",
    "- airports_nearest - большая часть квартир находится на расстоянии 20-30 км от аэропорта\n",
    "- cityCenters_nearest - основная часть квартир находится на расстоянии 12-15км от центра, только четверт квартир находится на расстоянии 2 км от центра\n",
    "- parks_nearest - только у четверти квартир имеется парк вблизи \n",
    "- weekday - в основном сделки заключались в будние дни\n",
    "- month - в основном сделки совершались с серидины января по мая и с сентября по ноябрь. Летом и в праздничный период сделки в меньшем количестве."
   ]
  },
  {
   "cell_type": "code",
   "execution_count": 27,
   "metadata": {},
   "outputs": [
    {
     "data": {
      "text/plain": [
       "count    19980.000000\n",
       "mean       178.460060\n",
       "std        217.336828\n",
       "min          1.000000\n",
       "25%         44.000000\n",
       "50%         94.000000\n",
       "75%        228.000000\n",
       "max       1580.000000\n",
       "Name: days_exposition, dtype: float64"
      ]
     },
     "execution_count": 27,
     "metadata": {},
     "output_type": "execute_result"
    },
    {
     "data": {
      "image/png": "[encoded data removed]",
      "text/plain": [
       "<Figure size 432x288 with 1 Axes>"
      ]
     },
     "metadata": {
      "needs_background": "light"
     },
     "output_type": "display_data"
    }
   ],
   "source": [
    "# рассмотрим days_exposition, но прежде уберем из анализа данные с нулевым показателем, т.к. ранее все пропуски были изменены на 0\n",
    "\n",
    "data_data_exposition_wo_0 = data.loc[data['days_exposition'] != 0]\n",
    "data_data_exposition_wo_0['days_exposition'].hist()\n",
    "data_data_exposition_wo_0['days_exposition'].hist(range=(1,400))\n",
    "data_data_exposition_wo_0['days_exposition'].describe()\n",
    "\n",
    "# большая половина квартир из закрытых сделок, а их 19981, были сняты с продажи в течение 100 дней (3 месяца), \n",
    "# вторая половина сделок закрывалась в течение 200-250 дней, небольшой процент сделок был закрыт в течение 1000-1500дней (это 3-4 года)\n",
    "# Быстрыми продажами будем считать уровень 25% сделок, а именно  до 30 дней (до 1 месяца)\n",
    "# Средними продажами  - 31-95 дней (1-3 месяца)\n",
    "# Долгими продажами - от 96 до 200 (3-6 месяцев) и все свыше 200 дней - необычно долгими\n"
   ]
  },
  {
   "cell_type": "code",
   "execution_count": 28,
   "metadata": {},
   "outputs": [
    {
     "data": {
      "text/plain": [
       "<AxesSubplot:>"
      ]
     },
     "execution_count": 28,
     "metadata": {},
     "output_type": "execute_result"
    },
    {
     "data": {
      "image/png": "[encoded data removed]",
      "text/plain": [
       "<Figure size 432x288 with 1 Axes>"
      ]
     },
     "metadata": {
      "needs_background": "light"
     },
     "output_type": "display_data"
    }
   ],
   "source": [
    "# проверим диапазон от 0 до 100.\n",
    "# наблюдается 2 пика активности, скорее всего связанных с тем, что на квартиры имеется спрос и многие потребители понимают какой тип квартир им необходим. \n",
    "# Первый пик определяется в течение 2-3 недель с покупкой, 2 пик - в течении 1.4-2 месяцев.\n",
    "\n",
    "data_data_exposition_wo_0['days_exposition'].hist(range=(1,100))"
   ]
  },
  {
   "cell_type": "code",
   "execution_count": 29,
   "metadata": {},
   "outputs": [
    {
     "data": {
      "text/html": [
       "<div>\n",
       "<style scoped>\n",
       "    .dataframe tbody tr th:only-of-type {\n",
       "        vertical-align: middle;\n",
       "    }\n",
       "\n",
       "    .dataframe tbody tr th {\n",
       "        vertical-align: top;\n",
       "    }\n",
       "\n",
       "    .dataframe thead tr th {\n",
       "        text-align: left;\n",
       "    }\n",
       "\n",
       "    .dataframe thead tr:last-of-type th {\n",
       "        text-align: right;\n",
       "    }\n",
       "</style>\n",
       "<table border=\"1\" class=\"dataframe\">\n",
       "  <thead>\n",
       "    <tr>\n",
       "      <th></th>\n",
       "      <th colspan=\"2\" halign=\"left\">days_exposition</th>\n",
       "    </tr>\n",
       "    <tr>\n",
       "      <th></th>\n",
       "      <th>count</th>\n",
       "      <th>mean</th>\n",
       "    </tr>\n",
       "    <tr>\n",
       "      <th>rooms</th>\n",
       "      <th></th>\n",
       "      <th></th>\n",
       "    </tr>\n",
       "  </thead>\n",
       "  <tbody>\n",
       "    <tr>\n",
       "      <th>0</th>\n",
       "      <td>193</td>\n",
       "      <td>101.891192</td>\n",
       "    </tr>\n",
       "    <tr>\n",
       "      <th>1</th>\n",
       "      <td>8006</td>\n",
       "      <td>144.063827</td>\n",
       "    </tr>\n",
       "    <tr>\n",
       "      <th>2</th>\n",
       "      <td>7874</td>\n",
       "      <td>151.053340</td>\n",
       "    </tr>\n",
       "    <tr>\n",
       "      <th>3</th>\n",
       "      <td>5695</td>\n",
       "      <td>168.978753</td>\n",
       "    </tr>\n",
       "    <tr>\n",
       "      <th>4</th>\n",
       "      <td>1017</td>\n",
       "      <td>195.614553</td>\n",
       "    </tr>\n",
       "    <tr>\n",
       "      <th>5</th>\n",
       "      <td>174</td>\n",
       "      <td>211.436782</td>\n",
       "    </tr>\n",
       "    <tr>\n",
       "      <th>6</th>\n",
       "      <td>22</td>\n",
       "      <td>233.363636</td>\n",
       "    </tr>\n",
       "  </tbody>\n",
       "</table>\n",
       "</div>"
      ],
      "text/plain": [
       "      days_exposition            \n",
       "                count        mean\n",
       "rooms                            \n",
       "0                 193  101.891192\n",
       "1                8006  144.063827\n",
       "2                7874  151.053340\n",
       "3                5695  168.978753\n",
       "4                1017  195.614553\n",
       "5                 174  211.436782\n",
       "6                  22  233.363636"
      ]
     },
     "execution_count": 29,
     "metadata": {},
     "output_type": "execute_result"
    }
   ],
   "source": [
    "# Посмотрим как долго продавались квартиры в зависимости от кол-ва комнат\n",
    "data.groupby('rooms').agg({'days_exposition': ['count', 'mean']})\n",
    "\n",
    "# наблюдается прямая зависимость, чем меньше комнат, тем быстрее продаются квартиры"
   ]
  },
  {
   "cell_type": "code",
   "execution_count": 30,
   "metadata": {},
   "outputs": [
    {
     "data": {
      "text/html": [
       "<div>\n",
       "<style scoped>\n",
       "    .dataframe tbody tr th:only-of-type {\n",
       "        vertical-align: middle;\n",
       "    }\n",
       "\n",
       "    .dataframe tbody tr th {\n",
       "        vertical-align: top;\n",
       "    }\n",
       "\n",
       "    .dataframe thead tr th {\n",
       "        text-align: left;\n",
       "    }\n",
       "\n",
       "    .dataframe thead tr:last-of-type th {\n",
       "        text-align: right;\n",
       "    }\n",
       "</style>\n",
       "<table border=\"1\" class=\"dataframe\">\n",
       "  <thead>\n",
       "    <tr>\n",
       "      <th></th>\n",
       "      <th colspan=\"2\" halign=\"left\">days_exposition</th>\n",
       "    </tr>\n",
       "    <tr>\n",
       "      <th></th>\n",
       "      <th>count</th>\n",
       "      <th>mean</th>\n",
       "    </tr>\n",
       "    <tr>\n",
       "      <th>type_floor</th>\n",
       "      <th></th>\n",
       "      <th></th>\n",
       "    </tr>\n",
       "  </thead>\n",
       "  <tbody>\n",
       "    <tr>\n",
       "      <th>1</th>\n",
       "      <td>2821</td>\n",
       "      <td>171.896491</td>\n",
       "    </tr>\n",
       "    <tr>\n",
       "      <th>2</th>\n",
       "      <td>16990</td>\n",
       "      <td>151.393467</td>\n",
       "    </tr>\n",
       "    <tr>\n",
       "      <th>3</th>\n",
       "      <td>3170</td>\n",
       "      <td>160.421767</td>\n",
       "    </tr>\n",
       "  </tbody>\n",
       "</table>\n",
       "</div>"
      ],
      "text/plain": [
       "           days_exposition            \n",
       "                     count        mean\n",
       "type_floor                            \n",
       "1                     2821  171.896491\n",
       "2                    16990  151.393467\n",
       "3                     3170  160.421767"
      ]
     },
     "execution_count": 30,
     "metadata": {},
     "output_type": "execute_result"
    }
   ],
   "source": [
    "# проверим имеется ли зависимости срока продажи от типа этажа.\n",
    "data.groupby('type_floor').agg({'days_exposition': ['count', 'mean']})\n",
    "\n",
    "# дольше всех продаются квартиры на 1 этаже, но разница с остальными небольшая. \n",
    "# Быстрее продаются квартиры из категории ДРУГИЕ, т..е не на первом и последнием этажах"
   ]
  },
  {
   "cell_type": "code",
   "execution_count": 31,
   "metadata": {
    "scrolled": true
   },
   "outputs": [
    {
     "data": {
      "text/html": [
       "<div>\n",
       "<style scoped>\n",
       "    .dataframe tbody tr th:only-of-type {\n",
       "        vertical-align: middle;\n",
       "    }\n",
       "\n",
       "    .dataframe tbody tr th {\n",
       "        vertical-align: top;\n",
       "    }\n",
       "\n",
       "    .dataframe thead tr th {\n",
       "        text-align: left;\n",
       "    }\n",
       "\n",
       "    .dataframe thead tr:last-of-type th {\n",
       "        text-align: right;\n",
       "    }\n",
       "</style>\n",
       "<table border=\"1\" class=\"dataframe\">\n",
       "  <thead>\n",
       "    <tr>\n",
       "      <th></th>\n",
       "      <th colspan=\"2\" halign=\"left\">days_exposition</th>\n",
       "    </tr>\n",
       "    <tr>\n",
       "      <th></th>\n",
       "      <th>count</th>\n",
       "      <th>mean</th>\n",
       "    </tr>\n",
       "    <tr>\n",
       "      <th>total_images</th>\n",
       "      <th></th>\n",
       "      <th></th>\n",
       "    </tr>\n",
       "  </thead>\n",
       "  <tbody>\n",
       "    <tr>\n",
       "      <th>0</th>\n",
       "      <td>1035</td>\n",
       "      <td>136.610628</td>\n",
       "    </tr>\n",
       "    <tr>\n",
       "      <th>1</th>\n",
       "      <td>828</td>\n",
       "      <td>183.086957</td>\n",
       "    </tr>\n",
       "    <tr>\n",
       "      <th>2</th>\n",
       "      <td>615</td>\n",
       "      <td>191.198374</td>\n",
       "    </tr>\n",
       "    <tr>\n",
       "      <th>3</th>\n",
       "      <td>739</td>\n",
       "      <td>179.238160</td>\n",
       "    </tr>\n",
       "    <tr>\n",
       "      <th>4</th>\n",
       "      <td>961</td>\n",
       "      <td>177.073881</td>\n",
       "    </tr>\n",
       "    <tr>\n",
       "      <th>5</th>\n",
       "      <td>1268</td>\n",
       "      <td>170.583596</td>\n",
       "    </tr>\n",
       "    <tr>\n",
       "      <th>6</th>\n",
       "      <td>1446</td>\n",
       "      <td>174.359613</td>\n",
       "    </tr>\n",
       "    <tr>\n",
       "      <th>7</th>\n",
       "      <td>1483</td>\n",
       "      <td>163.780175</td>\n",
       "    </tr>\n",
       "    <tr>\n",
       "      <th>8</th>\n",
       "      <td>1544</td>\n",
       "      <td>158.527850</td>\n",
       "    </tr>\n",
       "    <tr>\n",
       "      <th>9</th>\n",
       "      <td>1695</td>\n",
       "      <td>149.085546</td>\n",
       "    </tr>\n",
       "    <tr>\n",
       "      <th>10</th>\n",
       "      <td>1764</td>\n",
       "      <td>159.772109</td>\n",
       "    </tr>\n",
       "    <tr>\n",
       "      <th>11</th>\n",
       "      <td>1337</td>\n",
       "      <td>147.559461</td>\n",
       "    </tr>\n",
       "    <tr>\n",
       "      <th>12</th>\n",
       "      <td>1201</td>\n",
       "      <td>153.120733</td>\n",
       "    </tr>\n",
       "    <tr>\n",
       "      <th>13</th>\n",
       "      <td>992</td>\n",
       "      <td>150.633065</td>\n",
       "    </tr>\n",
       "    <tr>\n",
       "      <th>14</th>\n",
       "      <td>954</td>\n",
       "      <td>147.540881</td>\n",
       "    </tr>\n",
       "    <tr>\n",
       "      <th>15</th>\n",
       "      <td>921</td>\n",
       "      <td>141.198697</td>\n",
       "    </tr>\n",
       "    <tr>\n",
       "      <th>16</th>\n",
       "      <td>741</td>\n",
       "      <td>132.024291</td>\n",
       "    </tr>\n",
       "    <tr>\n",
       "      <th>17</th>\n",
       "      <td>628</td>\n",
       "      <td>135.342357</td>\n",
       "    </tr>\n",
       "    <tr>\n",
       "      <th>18</th>\n",
       "      <td>618</td>\n",
       "      <td>135.135922</td>\n",
       "    </tr>\n",
       "    <tr>\n",
       "      <th>19</th>\n",
       "      <td>564</td>\n",
       "      <td>125.411348</td>\n",
       "    </tr>\n",
       "    <tr>\n",
       "      <th>20</th>\n",
       "      <td>1577</td>\n",
       "      <td>136.845910</td>\n",
       "    </tr>\n",
       "    <tr>\n",
       "      <th>21</th>\n",
       "      <td>12</td>\n",
       "      <td>103.833333</td>\n",
       "    </tr>\n",
       "    <tr>\n",
       "      <th>22</th>\n",
       "      <td>8</td>\n",
       "      <td>161.000000</td>\n",
       "    </tr>\n",
       "    <tr>\n",
       "      <th>23</th>\n",
       "      <td>15</td>\n",
       "      <td>100.400000</td>\n",
       "    </tr>\n",
       "    <tr>\n",
       "      <th>24</th>\n",
       "      <td>8</td>\n",
       "      <td>149.000000</td>\n",
       "    </tr>\n",
       "    <tr>\n",
       "      <th>26</th>\n",
       "      <td>4</td>\n",
       "      <td>50.500000</td>\n",
       "    </tr>\n",
       "    <tr>\n",
       "      <th>27</th>\n",
       "      <td>2</td>\n",
       "      <td>97.000000</td>\n",
       "    </tr>\n",
       "    <tr>\n",
       "      <th>28</th>\n",
       "      <td>3</td>\n",
       "      <td>145.333333</td>\n",
       "    </tr>\n",
       "    <tr>\n",
       "      <th>29</th>\n",
       "      <td>3</td>\n",
       "      <td>103.666667</td>\n",
       "    </tr>\n",
       "    <tr>\n",
       "      <th>30</th>\n",
       "      <td>2</td>\n",
       "      <td>42.500000</td>\n",
       "    </tr>\n",
       "    <tr>\n",
       "      <th>31</th>\n",
       "      <td>2</td>\n",
       "      <td>71.000000</td>\n",
       "    </tr>\n",
       "    <tr>\n",
       "      <th>32</th>\n",
       "      <td>3</td>\n",
       "      <td>129.666667</td>\n",
       "    </tr>\n",
       "    <tr>\n",
       "      <th>35</th>\n",
       "      <td>2</td>\n",
       "      <td>41.000000</td>\n",
       "    </tr>\n",
       "    <tr>\n",
       "      <th>37</th>\n",
       "      <td>1</td>\n",
       "      <td>64.000000</td>\n",
       "    </tr>\n",
       "    <tr>\n",
       "      <th>39</th>\n",
       "      <td>1</td>\n",
       "      <td>106.000000</td>\n",
       "    </tr>\n",
       "    <tr>\n",
       "      <th>42</th>\n",
       "      <td>1</td>\n",
       "      <td>172.000000</td>\n",
       "    </tr>\n",
       "    <tr>\n",
       "      <th>50</th>\n",
       "      <td>3</td>\n",
       "      <td>38.000000</td>\n",
       "    </tr>\n",
       "  </tbody>\n",
       "</table>\n",
       "</div>"
      ],
      "text/plain": [
       "             days_exposition            \n",
       "                       count        mean\n",
       "total_images                            \n",
       "0                       1035  136.610628\n",
       "1                        828  183.086957\n",
       "2                        615  191.198374\n",
       "3                        739  179.238160\n",
       "4                        961  177.073881\n",
       "5                       1268  170.583596\n",
       "6                       1446  174.359613\n",
       "7                       1483  163.780175\n",
       "8                       1544  158.527850\n",
       "9                       1695  149.085546\n",
       "10                      1764  159.772109\n",
       "11                      1337  147.559461\n",
       "12                      1201  153.120733\n",
       "13                       992  150.633065\n",
       "14                       954  147.540881\n",
       "15                       921  141.198697\n",
       "16                       741  132.024291\n",
       "17                       628  135.342357\n",
       "18                       618  135.135922\n",
       "19                       564  125.411348\n",
       "20                      1577  136.845910\n",
       "21                        12  103.833333\n",
       "22                         8  161.000000\n",
       "23                        15  100.400000\n",
       "24                         8  149.000000\n",
       "26                         4   50.500000\n",
       "27                         2   97.000000\n",
       "28                         3  145.333333\n",
       "29                         3  103.666667\n",
       "30                         2   42.500000\n",
       "31                         2   71.000000\n",
       "32                         3  129.666667\n",
       "35                         2   41.000000\n",
       "37                         1   64.000000\n",
       "39                         1  106.000000\n",
       "42                         1  172.000000\n",
       "50                         3   38.000000"
      ]
     },
     "execution_count": 31,
     "metadata": {},
     "output_type": "execute_result"
    }
   ],
   "source": [
    "data.groupby('total_images').agg({'days_exposition': ['count', 'mean']})\n",
    "\n",
    "# наличие фото неявно, но влияют на быстроту сделки. Именно у быстрых сделок наблюдается наличие фото"
   ]
  },
  {
   "cell_type": "code",
   "execution_count": 32,
   "metadata": {},
   "outputs": [
    {
     "data": {
      "text/html": [
       "<div>\n",
       "<style scoped>\n",
       "    .dataframe tbody tr th:only-of-type {\n",
       "        vertical-align: middle;\n",
       "    }\n",
       "\n",
       "    .dataframe tbody tr th {\n",
       "        vertical-align: top;\n",
       "    }\n",
       "\n",
       "    .dataframe thead th {\n",
       "        text-align: right;\n",
       "    }\n",
       "</style>\n",
       "<table border=\"1\" class=\"dataframe\">\n",
       "  <thead>\n",
       "    <tr style=\"text-align: right;\">\n",
       "      <th></th>\n",
       "      <th>count</th>\n",
       "      <th>mean</th>\n",
       "    </tr>\n",
       "    <tr>\n",
       "      <th>kitchen_area</th>\n",
       "      <th></th>\n",
       "      <th></th>\n",
       "    </tr>\n",
       "  </thead>\n",
       "  <tbody>\n",
       "    <tr>\n",
       "      <th>13.26</th>\n",
       "      <td>2</td>\n",
       "      <td>3.0</td>\n",
       "    </tr>\n",
       "    <tr>\n",
       "      <th>64.00</th>\n",
       "      <td>2</td>\n",
       "      <td>3.5</td>\n",
       "    </tr>\n",
       "    <tr>\n",
       "      <th>5.04</th>\n",
       "      <td>1</td>\n",
       "      <td>4.0</td>\n",
       "    </tr>\n",
       "    <tr>\n",
       "      <th>6.73</th>\n",
       "      <td>1</td>\n",
       "      <td>4.0</td>\n",
       "    </tr>\n",
       "    <tr>\n",
       "      <th>8.18</th>\n",
       "      <td>1</td>\n",
       "      <td>4.0</td>\n",
       "    </tr>\n",
       "  </tbody>\n",
       "</table>\n",
       "</div>"
      ],
      "text/plain": [
       "              count  mean\n",
       "kitchen_area             \n",
       "13.26             2   3.0\n",
       "64.00             2   3.5\n",
       "5.04              1   4.0\n",
       "6.73              1   4.0\n",
       "8.18              1   4.0"
      ]
     },
     "execution_count": 32,
     "metadata": {},
     "output_type": "execute_result"
    }
   ],
   "source": [
    "# проверим влияние размера кухни на быстроту продажи\n",
    "kitchen = data.groupby('kitchen_area').agg({'days_exposition': ['count', 'mean']})\n",
    "kitchen.columns = ['count', 'mean']\n",
    "kitchen = kitchen.loc[kitchen['mean'] != 0]\n",
    "kitchen.sort_values(by='mean').head()\n",
    "\n",
    "\n",
    "# явной закономерности не прослеживается быстро продаются квартиры как с большой, так и  маленькой кухнями"
   ]
  },
  {
   "cell_type": "code",
   "execution_count": 33,
   "metadata": {
    "scrolled": false
   },
   "outputs": [
    {
     "name": "stdout",
     "output_type": "stream",
     "text": [
      "0.6960999803183319\n",
      "0.5437598591308528\n",
      "0.5267691600047733\n"
     ]
    },
    {
     "data": {
      "image/png": "[encoded data removed]",
      "text/plain": [
       "<Figure size 432x288 with 1 Axes>"
      ]
     },
     "metadata": {
      "needs_background": "light"
     },
     "output_type": "display_data"
    },
    {
     "data": {
      "image/png": "[encoded data removed]",
      "text/plain": [
       "<Figure size 432x288 with 1 Axes>"
      ]
     },
     "metadata": {
      "needs_background": "light"
     },
     "output_type": "display_data"
    },
    {
     "data": {
      "image/png": "[encoded data removed]",
      "text/plain": [
       "<Figure size 432x288 with 1 Axes>"
      ]
     },
     "metadata": {
      "needs_background": "light"
     },
     "output_type": "display_data"
    }
   ],
   "source": [
    "# проверим что влияет на стоимость квартиры c помощью коэффициента корреляции \n",
    "# и построим диаграмму рассеивания для анализа зависимости\n",
    "\n",
    "corr_price = ['total_area', 'living_area', 'kitchen_area']\n",
    "\n",
    "for name in corr_price:\n",
    "    print(data['last_price'].corr(data[name]))\n",
    "    data.plot(x=name, y='last_price', kind='scatter')"
   ]
  },
  {
   "cell_type": "code",
   "execution_count": 34,
   "metadata": {
    "scrolled": true
   },
   "outputs": [
    {
     "data": {
      "image/png": "[encoded data removed]",
      "text/plain": [
       "<Figure size 432x288 with 1 Axes>"
      ]
     },
     "metadata": {
      "needs_background": "light"
     },
     "output_type": "display_data"
    }
   ],
   "source": [
    "#наблюдаем прямую зависимость  цены от кол-ва комнат. Чем больше комнат, тем больше цена. Это логично\n",
    "#заметим, что ценовой диапозон многокомнатных квартир как 4, 5, 6-тикомнатных квартир не сильно отличается по цене друг от друга\n",
    "sns.barplot(x=data['rooms'], y=data['last_price']);\n",
    "\n"
   ]
  },
  {
   "cell_type": "code",
   "execution_count": 35,
   "metadata": {},
   "outputs": [
    {
     "data": {
      "image/png": "[encoded data removed]",
      "text/plain": [
       "<Figure size 432x288 with 1 Axes>"
      ]
     },
     "metadata": {
      "needs_background": "light"
     },
     "output_type": "display_data"
    }
   ],
   "source": [
    "# больше покупают квартиры не на первом и последнем этажах\n",
    "sns.barplot(x=data['type_floor'], y=data['last_price']);"
   ]
  },
  {
   "cell_type": "code",
   "execution_count": 36,
   "metadata": {},
   "outputs": [
    {
     "data": {
      "image/png": "[encoded data removed]",
      "text/plain": [
       "<Figure size 432x288 with 1 Axes>"
      ]
     },
     "metadata": {
      "needs_background": "light"
     },
     "output_type": "display_data"
    }
   ],
   "source": [
    "# не наблюдается никакой зависимости общей цены от дня закрытия объявления\n",
    "sns.barplot(x=data['weekday'], y=data['last_price']);"
   ]
  },
  {
   "cell_type": "code",
   "execution_count": 37,
   "metadata": {},
   "outputs": [
    {
     "data": {
      "image/png": "[encoded data removed]",
      "text/plain": [
       "<Figure size 432x288 with 1 Axes>"
      ]
     },
     "metadata": {
      "needs_background": "light"
     },
     "output_type": "display_data"
    }
   ],
   "source": [
    "# не наблюдается никакой зависимости общей стоимости от месяца сделки\n",
    "sns.barplot(x=data['month'], y=data['last_price']);"
   ]
  },
  {
   "cell_type": "code",
   "execution_count": 38,
   "metadata": {},
   "outputs": [
    {
     "data": {
      "image/png": "[encoded data removed]",
      "text/plain": [
       "<Figure size 432x288 with 1 Axes>"
      ]
     },
     "metadata": {
      "needs_background": "light"
     },
     "output_type": "display_data"
    }
   ],
   "source": [
    "# с 2014 года резко упали продажи квартир, возможно это связно с нестабильностью экономики России из-за санкций\n",
    "sns.barplot(x=data['year'], y=data['last_price']);"
   ]
  },
  {
   "cell_type": "markdown",
   "metadata": {},
   "source": [
    "Выводы по коэффициенту корреляции и диаграмме рассеивания\n",
    "- 'total_area' - наблюдается прямая зависимость общей цены от площади квартиру. Диаграмма и корреляция показали что, чем больше площадь, тем больше стоимость за квартиру\n",
    "- 'living_area' - наблюдается не ярко выраженная прямая зависимость общей цены от жилой площади квартиру. Диаграмма и корреляция показали что, чем больше жилой плошади, тем больше стоимость за квартиру.\n",
    "- 'kitchen_area' - наблюдается не ярко выраженная прямая зависимость общей цены от площади кухни. Диаграмма и корреляция показали что, чем больше плошадь кухни, тем больше стоимость за квартиру\n",
    "- 'rooms' - наблюдается прямая зависимость общей цены от количества комнат в квартире. Но судя по диаграмме данная зависимость наблюдается до 3-хкомнатных квартир. Стоимость 4-х, 5-ти и 6-тикомнатные квартиры приблизительно в одной ценовой позиции.\n",
    "- 'type_floor' - в основном  покупают квартиры не на первом и последним этажах\n",
    "- 'weekday' - не наблюдается никакой зависимости общей цены от дня закрытия объявления\n",
    "- 'month' - не наблюдается никакой зависимости общей стоимости от месяца сделки. +/- количество снятых объявлений везде одинаковое\n",
    "- 'year' - с 2014 года резко упали продажи квартир, возможно это связно с нестабильностью экономики России из-за санкций"
   ]
  },
  {
   "cell_type": "code",
   "execution_count": 39,
   "metadata": {},
   "outputs": [
    {
     "data": {
      "text/html": [
       "<div>\n",
       "<style scoped>\n",
       "    .dataframe tbody tr th:only-of-type {\n",
       "        vertical-align: middle;\n",
       "    }\n",
       "\n",
       "    .dataframe tbody tr th {\n",
       "        vertical-align: top;\n",
       "    }\n",
       "\n",
       "    .dataframe thead th {\n",
       "        text-align: right;\n",
       "    }\n",
       "</style>\n",
       "<table border=\"1\" class=\"dataframe\">\n",
       "  <thead>\n",
       "    <tr style=\"text-align: right;\">\n",
       "      <th></th>\n",
       "      <th>count</th>\n",
       "      <th>mean</th>\n",
       "    </tr>\n",
       "    <tr>\n",
       "      <th>locality_name</th>\n",
       "      <th></th>\n",
       "      <th></th>\n",
       "    </tr>\n",
       "  </thead>\n",
       "  <tbody>\n",
       "    <tr>\n",
       "      <th>Санкт-Петербург</th>\n",
       "      <td>15155</td>\n",
       "      <td>112235.804073</td>\n",
       "    </tr>\n",
       "    <tr>\n",
       "      <th>посёлок Мурино</th>\n",
       "      <td>556</td>\n",
       "      <td>85681.762572</td>\n",
       "    </tr>\n",
       "    <tr>\n",
       "      <th>посёлок Шушары</th>\n",
       "      <td>439</td>\n",
       "      <td>78551.344647</td>\n",
       "    </tr>\n",
       "    <tr>\n",
       "      <th>Всеволожск</th>\n",
       "      <td>397</td>\n",
       "      <td>68703.119723</td>\n",
       "    </tr>\n",
       "    <tr>\n",
       "      <th>Пушкин</th>\n",
       "      <td>359</td>\n",
       "      <td>102866.519694</td>\n",
       "    </tr>\n",
       "    <tr>\n",
       "      <th>Колпино</th>\n",
       "      <td>337</td>\n",
       "      <td>75333.295816</td>\n",
       "    </tr>\n",
       "    <tr>\n",
       "      <th>посёлок Парголово</th>\n",
       "      <td>326</td>\n",
       "      <td>90332.262638</td>\n",
       "    </tr>\n",
       "    <tr>\n",
       "      <th>Гатчина</th>\n",
       "      <td>307</td>\n",
       "      <td>68746.146515</td>\n",
       "    </tr>\n",
       "    <tr>\n",
       "      <th>деревня Кудрово</th>\n",
       "      <td>299</td>\n",
       "      <td>92473.547559</td>\n",
       "    </tr>\n",
       "    <tr>\n",
       "      <th>Выборг</th>\n",
       "      <td>235</td>\n",
       "      <td>58075.893915</td>\n",
       "    </tr>\n",
       "  </tbody>\n",
       "</table>\n",
       "</div>"
      ],
      "text/plain": [
       "                   count           mean\n",
       "locality_name                          \n",
       "Санкт-Петербург    15155  112235.804073\n",
       "посёлок Мурино       556   85681.762572\n",
       "посёлок Шушары       439   78551.344647\n",
       "Всеволожск           397   68703.119723\n",
       "Пушкин               359  102866.519694\n",
       "Колпино              337   75333.295816\n",
       "посёлок Парголово    326   90332.262638\n",
       "Гатчина              307   68746.146515\n",
       "деревня Кудрово      299   92473.547559\n",
       "Выборг               235   58075.893915"
      ]
     },
     "execution_count": 39,
     "metadata": {},
     "output_type": "execute_result"
    }
   ],
   "source": [
    "# выведем топ 10 населенных пунктов по кол-ву объявлений и укажем среднюю стоимость за кв метр по населенному пункту\n",
    "local_top_10 = data.groupby('locality_name'). agg({'price_sq_met': ['count', 'mean']})\n",
    "\n",
    "local_top_10.columns = ['count', 'mean']\n",
    "local_top_10 = local_top_10.sort_values(by='count', ascending = False)[0:10]\n",
    "local_top_10\n",
    "\n",
    "# лидером по кол-ву объявлений является крупный город Санкт-Петербург (около 70% всех обьявлений) и средняя стоимость за 1 кв.м у него так же самая высокая\n",
    "# далее из полученной таблицы сделать какие-то определенные выводы нельзя, \n",
    "# т.к. не наблюдается никакой закономерности между кол-ом объявлений и стоимостью за кв.м"
   ]
  },
  {
   "cell_type": "code",
   "execution_count": 40,
   "metadata": {},
   "outputs": [
    {
     "data": {
      "image/png": "[encoded data removed]",
      "text/plain": [
       "<Figure size 432x288 with 1 Axes>"
      ]
     },
     "metadata": {
      "needs_background": "light"
     },
     "output_type": "display_data"
    }
   ],
   "source": [
    "sns.barplot(x=local_top_10['mean'], y=local_top_10.index);"
   ]
  },
  {
   "cell_type": "code",
   "execution_count": 41,
   "metadata": {},
   "outputs": [
    {
     "data": {
      "text/plain": [
       "distance_to_city\n",
       "1     1.164025e+07\n",
       "2     6.001206e+06\n",
       "3     3.176086e+06\n",
       "4     2.468926e+06\n",
       "5     2.093228e+06\n",
       "6     1.811446e+06\n",
       "7     1.651567e+06\n",
       "8     1.028508e+06\n",
       "9     7.524207e+05\n",
       "10    6.199244e+05\n",
       "11    5.485521e+05\n",
       "12    4.788863e+05\n",
       "13    4.592296e+05\n",
       "14    3.958878e+05\n",
       "15    3.803656e+05\n",
       "16    3.306974e+05\n",
       "17    3.035989e+05\n",
       "18    2.649330e+05\n",
       "19    2.651408e+05\n",
       "20    2.975732e+05\n",
       "21    2.615938e+05\n",
       "22    2.415745e+05\n",
       "23    2.039062e+05\n",
       "24    1.606012e+05\n",
       "25    1.621136e+05\n",
       "26    1.528082e+05\n",
       "27    3.074074e+05\n",
       "28    1.795153e+05\n",
       "29    1.460920e+05\n",
       "Name: price_for_km, dtype: float64"
      ]
     },
     "execution_count": 41,
     "metadata": {},
     "output_type": "execute_result"
    }
   ],
   "source": [
    "# выведем данные по Питеру и сравним, влияет ли удаленность от центра на стоимость квартиры и вычислим сред.стоимость одного км\n",
    "# но для начала удалим все данные с нулевым значением в distance_to_city, ранее мы заполняли NaN занчением 0 (в Питере их около 50позиций)\n",
    "\n",
    "location_center_Piter = data.loc[(data['locality_name'] == 'Санкт-Петербург') & (data['distance_to_city'] != 0)]\n",
    "\n",
    "location_center_Piter['price_for_km'] = location_center_Piter['last_price'] / location_center_Piter['distance_to_city']\n",
    "mean_price_for_km = location_center_Piter.groupby('distance_to_city')['price_for_km'].mean()\n",
    "mean_price_for_km\n",
    "\n",
    "# Наблюдается закономерность уменьшения цены за кв. м при увеличении километража, но она не явная, \n",
    "# т..к имеется разброс цен в каждой анализируемой группе, потому что сравниваются неодинаковые квартиры, а различные (разная площадь,  кол-во комнат и т.д) "
   ]
  },
  {
   "cell_type": "code",
   "execution_count": 42,
   "metadata": {},
   "outputs": [
    {
     "data": {
      "image/png": "[encoded data removed]",
      "text/plain": [
       "<Figure size 432x288 with 1 Axes>"
      ]
     },
     "metadata": {
      "needs_background": "light"
     },
     "output_type": "display_data"
    }
   ],
   "source": [
    "# судя по графику центр города заканчивается на 8 км\n",
    "sns.barplot(x=mean_price_for_km.index, y=mean_price_for_km);"
   ]
  },
  {
   "cell_type": "markdown",
   "metadata": {},
   "source": [
    "### Общий вывод"
   ]
  },
  {
   "cell_type": "markdown",
   "metadata": {},
   "source": [
    "ВЫВОД проведенного анализа\n",
    "\n",
    "В предоставленных данных были ошибки и пропуски. Ошибки были исправлены (это не больше 1% данных), пропуски были заменены медианным значением по группе населенного пункта (не больше 10% данных), выбросы были удалены. К анализу был подготовлен датасет с данными, сокращенный всего на 3% от первоначальных данных.\n",
    "\n",
    "Основной объем объявлений по продаже квартир составляет город-многомиллионник Санкт-Петербург (около 70% всех объявлений).\n",
    "Как один из крупных кородов России Питер имеет самую высокую стоимость за кв.м среди изучаемых населенных пунктов. \n",
    "Большая половина квартир продается в течение 3-х месяцев, самые быстрые сделки совершаются в пределах 20-30 дней.\n",
    "На стоимость квартиры влияет несколько признаков:\n",
    "- чем больше площадь квартиры (соот-но кол-во комнат, жилая площадь и площадь кухни), тем дороже стоимость квартиры.\n",
    "- чем ближе квартира к центру, тем стоимость больше (построенный график распределения общей цены помог определить, что центр оканчивается на 8 км, после этого рубежа разница в стоимости квартир небольшая.\n",
    "\n",
    "Проведенный анализ позволил обнаружить некоторые закономерности, которые влияют на быстроту сделки:\n",
    "- чем меньше количество комнат (соответсвенно и общая площадь), тем быстрее продаются квартиры, т.е студии и однокомнатные, а затем двухкомнатные более востребованны рынком недвижимости. Возможно это связано с тем, что данные квартиры более доступны для большинства населения.\n",
    "- этаж также оказывает влияние на быстроту сделки. Быстрее продаются квартиры, которые находятся не на первом и последнем этажах.\n",
    "- наличие фото также способствует ускорению процесса продажи\n",
    "\n",
    "Также удалось выявить особенность рынка недвижимости:\n",
    "- с 2014 года резко упали продажи квартир, возможно это связно с нестабильностью в экономике России из-за санкций\n",
    "- ценовой диапозон многокомнатных квартир, как 4, 5, 6-тикомнатных квартир, не сильно отличается по цене друг от друга. То есть на рубеже с 4-хкомнатной квартиры зависимость цены от общей площади резко снижается. Скорее всего это связано с востребованностью квартир меньшей площадью у большинства населения.\n"
   ]
  }
 ],
 "metadata": {
  "ExecuteTimeLog": [
   {
    "duration": 94,
    "start_time": "2023-01-05T21:38:12.647Z"
   },
   {
    "duration": 421,
    "start_time": "2023-01-05T21:38:15.956Z"
   },
   {
    "duration": 70,
    "start_time": "2023-01-05T21:38:17.164Z"
   },
   {
    "duration": 65,
    "start_time": "2023-01-05T21:38:27.132Z"
   },
   {
    "duration": 3,
    "start_time": "2023-01-05T21:39:10.502Z"
   },
   {
    "duration": 67,
    "start_time": "2023-01-05T21:41:53.367Z"
   },
   {
    "duration": 158,
    "start_time": "2023-01-05T21:42:03.517Z"
   },
   {
    "duration": 68,
    "start_time": "2023-01-05T21:42:26.379Z"
   },
   {
    "duration": 95,
    "start_time": "2023-01-05T21:42:33.084Z"
   },
   {
    "duration": 475,
    "start_time": "2023-01-05T21:42:51.817Z"
   },
   {
    "duration": 141,
    "start_time": "2023-01-05T21:42:59.160Z"
   },
   {
    "duration": 17,
    "start_time": "2023-01-05T21:43:42.907Z"
   },
   {
    "duration": 135,
    "start_time": "2023-01-05T21:50:19.703Z"
   },
   {
    "duration": 441,
    "start_time": "2023-01-06T08:59:14.395Z"
   },
   {
    "duration": 244,
    "start_time": "2023-01-06T08:59:16.425Z"
   },
   {
    "duration": 22,
    "start_time": "2023-01-06T09:11:15.364Z"
   },
   {
    "duration": 2736,
    "start_time": "2023-01-06T09:23:08.080Z"
   },
   {
    "duration": 127,
    "start_time": "2023-01-06T09:29:46.325Z"
   },
   {
    "duration": 22,
    "start_time": "2023-01-06T09:30:02.589Z"
   },
   {
    "duration": 9,
    "start_time": "2023-01-06T09:30:32.281Z"
   },
   {
    "duration": 4,
    "start_time": "2023-01-06T09:30:41.178Z"
   },
   {
    "duration": 5,
    "start_time": "2023-01-06T09:31:04.210Z"
   },
   {
    "duration": 17,
    "start_time": "2023-01-06T09:31:31.880Z"
   },
   {
    "duration": 7,
    "start_time": "2023-01-06T09:31:46.303Z"
   },
   {
    "duration": 14,
    "start_time": "2023-01-06T09:32:00.376Z"
   },
   {
    "duration": 5,
    "start_time": "2023-01-06T09:32:20.500Z"
   },
   {
    "duration": 81,
    "start_time": "2023-01-06T09:32:49.080Z"
   },
   {
    "duration": 165,
    "start_time": "2023-01-06T09:34:16.130Z"
   },
   {
    "duration": 59,
    "start_time": "2023-01-06T09:34:23.880Z"
   },
   {
    "duration": 18,
    "start_time": "2023-01-06T09:34:48.556Z"
   },
   {
    "duration": 20,
    "start_time": "2023-01-06T09:38:13.352Z"
   },
   {
    "duration": 6,
    "start_time": "2023-01-06T09:38:51.318Z"
   },
   {
    "duration": 17,
    "start_time": "2023-01-06T09:40:45.593Z"
   },
   {
    "duration": 124,
    "start_time": "2023-01-06T10:48:40.273Z"
   },
   {
    "duration": 6,
    "start_time": "2023-01-06T10:48:48.360Z"
   },
   {
    "duration": 6,
    "start_time": "2023-01-06T10:50:46.786Z"
   },
   {
    "duration": 113,
    "start_time": "2023-01-06T10:53:05.080Z"
   },
   {
    "duration": 170,
    "start_time": "2023-01-06T10:53:31.414Z"
   },
   {
    "duration": 102,
    "start_time": "2023-01-06T10:54:23.893Z"
   },
   {
    "duration": 79,
    "start_time": "2023-01-06T10:54:53.947Z"
   },
   {
    "duration": 10748,
    "start_time": "2023-01-06T10:55:51.274Z"
   },
   {
    "duration": 1757,
    "start_time": "2023-01-06T10:56:25.446Z"
   },
   {
    "duration": 55,
    "start_time": "2023-01-06T10:58:56.247Z"
   },
   {
    "duration": 10,
    "start_time": "2023-01-06T10:59:02.802Z"
   },
   {
    "duration": 10,
    "start_time": "2023-01-06T11:01:39.154Z"
   },
   {
    "duration": 9,
    "start_time": "2023-01-06T11:03:55.666Z"
   },
   {
    "duration": 11,
    "start_time": "2023-01-06T11:04:13.485Z"
   },
   {
    "duration": 2738,
    "start_time": "2023-01-06T11:05:54.287Z"
   },
   {
    "duration": 15,
    "start_time": "2023-01-06T11:06:54.463Z"
   },
   {
    "duration": 12,
    "start_time": "2023-01-06T11:08:07.407Z"
   },
   {
    "duration": 25,
    "start_time": "2023-01-06T11:08:45.855Z"
   },
   {
    "duration": 19,
    "start_time": "2023-01-06T11:12:50.650Z"
   },
   {
    "duration": 18,
    "start_time": "2023-01-06T11:15:14.501Z"
   },
   {
    "duration": 17,
    "start_time": "2023-01-06T11:16:04.748Z"
   },
   {
    "duration": 24,
    "start_time": "2023-01-06T11:17:43.618Z"
   },
   {
    "duration": 19,
    "start_time": "2023-01-06T11:17:53.317Z"
   },
   {
    "duration": 13,
    "start_time": "2023-01-06T11:22:07.966Z"
   },
   {
    "duration": 16,
    "start_time": "2023-01-06T11:22:20.576Z"
   },
   {
    "duration": 17,
    "start_time": "2023-01-06T11:22:33.762Z"
   },
   {
    "duration": 13,
    "start_time": "2023-01-06T11:22:43.667Z"
   },
   {
    "duration": 35,
    "start_time": "2023-01-06T11:28:12.161Z"
   },
   {
    "duration": 11,
    "start_time": "2023-01-06T11:28:27.360Z"
   },
   {
    "duration": 1537,
    "start_time": "2023-01-06T11:52:33.747Z"
   },
   {
    "duration": 17,
    "start_time": "2023-01-06T11:52:56.305Z"
   },
   {
    "duration": 15,
    "start_time": "2023-01-06T11:56:10.099Z"
   },
   {
    "duration": 2230,
    "start_time": "2023-01-06T11:56:25.401Z"
   },
   {
    "duration": 12,
    "start_time": "2023-01-06T12:05:58.555Z"
   },
   {
    "duration": 26,
    "start_time": "2023-01-06T12:06:26.515Z"
   },
   {
    "duration": 13,
    "start_time": "2023-01-06T12:10:04.501Z"
   },
   {
    "duration": 16,
    "start_time": "2023-01-06T12:13:05.051Z"
   },
   {
    "duration": 24,
    "start_time": "2023-01-06T12:15:25.812Z"
   },
   {
    "duration": 22,
    "start_time": "2023-01-06T12:16:53.348Z"
   },
   {
    "duration": 20,
    "start_time": "2023-01-06T12:18:59.456Z"
   },
   {
    "duration": 18,
    "start_time": "2023-01-06T12:22:14.508Z"
   },
   {
    "duration": 23,
    "start_time": "2023-01-06T12:30:05.448Z"
   },
   {
    "duration": 14,
    "start_time": "2023-01-06T12:52:52.941Z"
   },
   {
    "duration": 16,
    "start_time": "2023-01-06T12:53:33.572Z"
   },
   {
    "duration": 18,
    "start_time": "2023-01-06T12:54:54.365Z"
   },
   {
    "duration": 26,
    "start_time": "2023-01-06T12:55:34.235Z"
   },
   {
    "duration": 13,
    "start_time": "2023-01-06T12:57:25.579Z"
   },
   {
    "duration": 13,
    "start_time": "2023-01-06T12:59:08.752Z"
   },
   {
    "duration": 11,
    "start_time": "2023-01-06T13:00:38.336Z"
   },
   {
    "duration": 10,
    "start_time": "2023-01-06T13:00:57.352Z"
   },
   {
    "duration": 17,
    "start_time": "2023-01-06T13:01:39.930Z"
   },
   {
    "duration": 449,
    "start_time": "2023-01-06T13:02:02.368Z"
   },
   {
    "duration": 115,
    "start_time": "2023-01-06T13:02:03.051Z"
   },
   {
    "duration": 18,
    "start_time": "2023-01-06T13:02:03.900Z"
   },
   {
    "duration": 2587,
    "start_time": "2023-01-06T13:02:04.656Z"
   },
   {
    "duration": 20,
    "start_time": "2023-01-06T13:02:07.246Z"
   },
   {
    "duration": 96,
    "start_time": "2023-01-06T13:02:12.410Z"
   },
   {
    "duration": 11,
    "start_time": "2023-01-06T13:10:38.937Z"
   },
   {
    "duration": 3,
    "start_time": "2023-01-06T13:11:06.660Z"
   },
   {
    "duration": 25,
    "start_time": "2023-01-06T13:11:11.967Z"
   },
   {
    "duration": 11,
    "start_time": "2023-01-06T13:13:53.178Z"
   },
   {
    "duration": 79,
    "start_time": "2023-01-06T13:14:00.630Z"
   },
   {
    "duration": 317,
    "start_time": "2023-01-06T13:14:31.053Z"
   },
   {
    "duration": 13,
    "start_time": "2023-01-06T13:15:09.819Z"
   },
   {
    "duration": 72,
    "start_time": "2023-01-06T13:15:18.992Z"
   },
   {
    "duration": 28,
    "start_time": "2023-01-06T13:19:31.161Z"
   },
   {
    "duration": 28,
    "start_time": "2023-01-06T13:19:42.109Z"
   },
   {
    "duration": 29,
    "start_time": "2023-01-06T13:20:36.330Z"
   },
   {
    "duration": 15,
    "start_time": "2023-01-06T13:21:54.560Z"
   },
   {
    "duration": 32,
    "start_time": "2023-01-06T13:22:09.466Z"
   },
   {
    "duration": 14,
    "start_time": "2023-01-06T13:22:54.930Z"
   },
   {
    "duration": 20,
    "start_time": "2023-01-06T13:23:05.810Z"
   },
   {
    "duration": 50,
    "start_time": "2023-01-06T13:24:13.148Z"
   },
   {
    "duration": 93,
    "start_time": "2023-01-06T13:29:41.372Z"
   },
   {
    "duration": 38,
    "start_time": "2023-01-06T13:30:04.141Z"
   },
   {
    "duration": 48,
    "start_time": "2023-01-06T13:30:19.651Z"
   },
   {
    "duration": 33,
    "start_time": "2023-01-06T13:33:25.604Z"
   },
   {
    "duration": 70,
    "start_time": "2023-01-06T13:34:20.411Z"
   },
   {
    "duration": 42,
    "start_time": "2023-01-06T13:34:48.067Z"
   },
   {
    "duration": 164,
    "start_time": "2023-01-06T13:34:57.338Z"
   },
   {
    "duration": 50,
    "start_time": "2023-01-06T13:39:00.655Z"
   },
   {
    "duration": 75,
    "start_time": "2023-01-06T13:39:42.872Z"
   },
   {
    "duration": 85,
    "start_time": "2023-01-06T13:39:48.950Z"
   },
   {
    "duration": 418,
    "start_time": "2023-01-06T13:40:08.540Z"
   },
   {
    "duration": 113,
    "start_time": "2023-01-06T13:40:10.543Z"
   },
   {
    "duration": 16,
    "start_time": "2023-01-06T13:40:12.665Z"
   },
   {
    "duration": 2678,
    "start_time": "2023-01-06T13:40:13.252Z"
   },
   {
    "duration": 46,
    "start_time": "2023-01-06T13:40:15.933Z"
   },
   {
    "duration": 59,
    "start_time": "2023-01-06T13:40:15.981Z"
   },
   {
    "duration": 49,
    "start_time": "2023-01-06T13:42:40.792Z"
   },
   {
    "duration": 67,
    "start_time": "2023-01-06T13:42:50.003Z"
   },
   {
    "duration": 86,
    "start_time": "2023-01-06T13:44:09.811Z"
   },
   {
    "duration": 139,
    "start_time": "2023-01-06T13:49:25.862Z"
   },
   {
    "duration": 11,
    "start_time": "2023-01-06T13:49:39.593Z"
   },
   {
    "duration": 20,
    "start_time": "2023-01-06T13:51:12.525Z"
   },
   {
    "duration": 14,
    "start_time": "2023-01-06T13:52:36.202Z"
   },
   {
    "duration": 10,
    "start_time": "2023-01-06T13:52:48.399Z"
   },
   {
    "duration": 17,
    "start_time": "2023-01-06T13:53:33.124Z"
   },
   {
    "duration": 9,
    "start_time": "2023-01-06T13:53:39.020Z"
   },
   {
    "duration": 8,
    "start_time": "2023-01-06T13:53:41.828Z"
   },
   {
    "duration": 18,
    "start_time": "2023-01-06T13:56:29.596Z"
   },
   {
    "duration": 68,
    "start_time": "2023-01-06T13:57:16.237Z"
   },
   {
    "duration": 21,
    "start_time": "2023-01-06T13:58:01.440Z"
   },
   {
    "duration": 24,
    "start_time": "2023-01-06T13:59:17.615Z"
   },
   {
    "duration": 1368,
    "start_time": "2023-01-06T14:00:02.179Z"
   },
   {
    "duration": 6,
    "start_time": "2023-01-06T14:00:14.378Z"
   },
   {
    "duration": 35,
    "start_time": "2023-01-06T14:04:05.978Z"
   },
   {
    "duration": 11,
    "start_time": "2023-01-06T14:05:07.338Z"
   },
   {
    "duration": 37,
    "start_time": "2023-01-06T14:05:13.665Z"
   },
   {
    "duration": 6,
    "start_time": "2023-01-06T14:07:25.912Z"
   },
   {
    "duration": 13,
    "start_time": "2023-01-06T14:07:38.658Z"
   },
   {
    "duration": 15,
    "start_time": "2023-01-06T14:07:54.518Z"
   },
   {
    "duration": 113,
    "start_time": "2023-01-06T14:09:10.573Z"
   },
   {
    "duration": 115,
    "start_time": "2023-01-06T14:09:27.487Z"
   },
   {
    "duration": 12,
    "start_time": "2023-01-06T14:11:40.740Z"
   },
   {
    "duration": 36,
    "start_time": "2023-01-06T14:11:44.741Z"
   },
   {
    "duration": 10,
    "start_time": "2023-01-06T14:13:42.521Z"
   },
   {
    "duration": 37,
    "start_time": "2023-01-06T14:13:58.670Z"
   },
   {
    "duration": 44,
    "start_time": "2023-01-06T14:14:24.493Z"
   },
   {
    "duration": 11,
    "start_time": "2023-01-06T14:14:28.866Z"
   },
   {
    "duration": 12,
    "start_time": "2023-01-06T14:14:49.998Z"
   },
   {
    "duration": 13,
    "start_time": "2023-01-06T14:18:12.603Z"
   },
   {
    "duration": 26,
    "start_time": "2023-01-06T14:18:41.136Z"
   },
   {
    "duration": 18,
    "start_time": "2023-01-06T14:18:57.199Z"
   },
   {
    "duration": 12,
    "start_time": "2023-01-06T14:19:45.061Z"
   },
   {
    "duration": 12,
    "start_time": "2023-01-06T14:20:00.551Z"
   },
   {
    "duration": 10,
    "start_time": "2023-01-06T14:20:36.663Z"
   },
   {
    "duration": 39,
    "start_time": "2023-01-06T14:24:23.581Z"
   },
   {
    "duration": 25,
    "start_time": "2023-01-06T14:24:58.294Z"
   },
   {
    "duration": 30,
    "start_time": "2023-01-06T14:25:16.909Z"
   },
   {
    "duration": 11,
    "start_time": "2023-01-06T14:26:28.444Z"
   },
   {
    "duration": 11,
    "start_time": "2023-01-06T14:27:11.175Z"
   },
   {
    "duration": 10,
    "start_time": "2023-01-06T15:18:29.344Z"
   },
   {
    "duration": 9,
    "start_time": "2023-01-06T15:18:39.564Z"
   },
   {
    "duration": 9,
    "start_time": "2023-01-06T15:18:52.087Z"
   },
   {
    "duration": 25,
    "start_time": "2023-01-06T15:19:39.712Z"
   },
   {
    "duration": 28,
    "start_time": "2023-01-06T15:19:55.523Z"
   },
   {
    "duration": 57,
    "start_time": "2023-01-06T15:20:29.186Z"
   },
   {
    "duration": 24,
    "start_time": "2023-01-06T15:23:00.062Z"
   },
   {
    "duration": 50,
    "start_time": "2023-01-06T15:25:38.069Z"
   },
   {
    "duration": 47,
    "start_time": "2023-01-06T15:25:54.173Z"
   },
   {
    "duration": 41,
    "start_time": "2023-01-06T15:26:27.952Z"
   },
   {
    "duration": 68,
    "start_time": "2023-01-06T15:26:43.512Z"
   },
   {
    "duration": 7,
    "start_time": "2023-01-06T15:29:53.296Z"
   },
   {
    "duration": 7,
    "start_time": "2023-01-06T15:29:58.403Z"
   },
   {
    "duration": 47,
    "start_time": "2023-01-06T15:30:07.663Z"
   },
   {
    "duration": 61,
    "start_time": "2023-01-06T15:30:36.685Z"
   },
   {
    "duration": 56,
    "start_time": "2023-01-06T15:31:22.192Z"
   },
   {
    "duration": 1023,
    "start_time": "2023-01-06T15:33:34.164Z"
   },
   {
    "duration": 1011,
    "start_time": "2023-01-06T15:33:44.703Z"
   },
   {
    "duration": 1070,
    "start_time": "2023-01-06T15:35:22.422Z"
   },
   {
    "duration": 960,
    "start_time": "2023-01-06T15:35:51.757Z"
   },
   {
    "duration": 958,
    "start_time": "2023-01-06T15:36:58.584Z"
   },
   {
    "duration": 931,
    "start_time": "2023-01-06T15:38:14.545Z"
   },
   {
    "duration": 16,
    "start_time": "2023-01-06T15:41:34.997Z"
   },
   {
    "duration": 14,
    "start_time": "2023-01-06T15:41:49.934Z"
   },
   {
    "duration": 93,
    "start_time": "2023-01-06T15:42:08.506Z"
   },
   {
    "duration": 9,
    "start_time": "2023-01-06T15:42:13.949Z"
   },
   {
    "duration": 9,
    "start_time": "2023-01-06T15:42:32.345Z"
   },
   {
    "duration": 23,
    "start_time": "2023-01-06T15:45:24.592Z"
   },
   {
    "duration": 21,
    "start_time": "2023-01-06T15:45:38.048Z"
   },
   {
    "duration": 20,
    "start_time": "2023-01-06T15:45:49.073Z"
   },
   {
    "duration": 100,
    "start_time": "2023-01-06T15:46:32.685Z"
   },
   {
    "duration": 17,
    "start_time": "2023-01-06T15:46:49.070Z"
   },
   {
    "duration": 9,
    "start_time": "2023-01-06T15:47:56.561Z"
   },
   {
    "duration": 60,
    "start_time": "2023-01-06T15:48:06.460Z"
   },
   {
    "duration": 11,
    "start_time": "2023-01-06T15:48:43.001Z"
   },
   {
    "duration": 1303,
    "start_time": "2023-01-06T15:48:52.486Z"
   },
   {
    "duration": 14,
    "start_time": "2023-01-06T15:49:18.412Z"
   },
   {
    "duration": 1379,
    "start_time": "2023-01-06T15:49:38.197Z"
   },
   {
    "duration": 1386,
    "start_time": "2023-01-06T15:50:18.684Z"
   },
   {
    "duration": 13,
    "start_time": "2023-01-06T15:50:41.703Z"
   },
   {
    "duration": 1519,
    "start_time": "2023-01-06T15:50:53.697Z"
   },
   {
    "duration": 45,
    "start_time": "2023-01-06T15:51:09.557Z"
   },
   {
    "duration": 41,
    "start_time": "2023-01-06T15:52:15.152Z"
   },
   {
    "duration": 29,
    "start_time": "2023-01-06T15:52:41.404Z"
   },
   {
    "duration": 38,
    "start_time": "2023-01-06T15:52:59.969Z"
   },
   {
    "duration": 20,
    "start_time": "2023-01-06T15:53:22.496Z"
   },
   {
    "duration": 33,
    "start_time": "2023-01-06T15:54:13.316Z"
   },
   {
    "duration": 37,
    "start_time": "2023-01-06T15:54:26.975Z"
   },
   {
    "duration": 43,
    "start_time": "2023-01-06T15:54:56.314Z"
   },
   {
    "duration": 30,
    "start_time": "2023-01-06T15:55:10.366Z"
   },
   {
    "duration": 17,
    "start_time": "2023-01-06T15:57:10.646Z"
   },
   {
    "duration": 47,
    "start_time": "2023-01-06T15:57:35.260Z"
   },
   {
    "duration": 22,
    "start_time": "2023-01-06T15:58:11.880Z"
   },
   {
    "duration": 27,
    "start_time": "2023-01-06T15:58:34.984Z"
   },
   {
    "duration": 11,
    "start_time": "2023-01-06T15:59:50.251Z"
   },
   {
    "duration": 15,
    "start_time": "2023-01-06T16:00:08.167Z"
   },
   {
    "duration": 10,
    "start_time": "2023-01-06T16:00:28.604Z"
   },
   {
    "duration": 98,
    "start_time": "2023-01-06T16:01:03.654Z"
   },
   {
    "duration": 18,
    "start_time": "2023-01-06T16:01:09.648Z"
   },
   {
    "duration": 18,
    "start_time": "2023-01-06T16:01:57.886Z"
   },
   {
    "duration": 10,
    "start_time": "2023-01-06T16:03:38.093Z"
   },
   {
    "duration": 8,
    "start_time": "2023-01-06T16:03:53.761Z"
   },
   {
    "duration": 434,
    "start_time": "2023-01-06T16:04:13.513Z"
   },
   {
    "duration": 139,
    "start_time": "2023-01-06T16:04:14.031Z"
   },
   {
    "duration": 20,
    "start_time": "2023-01-06T16:04:14.496Z"
   },
   {
    "duration": 2471,
    "start_time": "2023-01-06T16:04:14.863Z"
   },
   {
    "duration": 20,
    "start_time": "2023-01-06T16:04:17.335Z"
   },
   {
    "duration": 13,
    "start_time": "2023-01-06T16:04:18.044Z"
   },
   {
    "duration": 15,
    "start_time": "2023-01-06T16:04:19.052Z"
   },
   {
    "duration": 17,
    "start_time": "2023-01-06T16:04:19.804Z"
   },
   {
    "duration": 13,
    "start_time": "2023-01-06T16:04:25.934Z"
   },
   {
    "duration": 111,
    "start_time": "2023-01-06T16:07:16.650Z"
   },
   {
    "duration": 17,
    "start_time": "2023-01-06T16:07:44.849Z"
   },
   {
    "duration": 15,
    "start_time": "2023-01-06T16:07:56.098Z"
   },
   {
    "duration": 93,
    "start_time": "2023-01-06T16:08:19.195Z"
   },
   {
    "duration": 18,
    "start_time": "2023-01-06T16:08:24.284Z"
   },
   {
    "duration": 11,
    "start_time": "2023-01-06T16:08:28.548Z"
   },
   {
    "duration": 15,
    "start_time": "2023-01-06T16:10:39.845Z"
   },
   {
    "duration": 15,
    "start_time": "2023-01-06T16:10:54.148Z"
   },
   {
    "duration": 9,
    "start_time": "2023-01-06T16:11:49.044Z"
   },
   {
    "duration": 11,
    "start_time": "2023-01-06T16:11:56.716Z"
   },
   {
    "duration": 9,
    "start_time": "2023-01-06T16:12:08.396Z"
   },
   {
    "duration": 11,
    "start_time": "2023-01-06T16:12:19.853Z"
   },
   {
    "duration": 22,
    "start_time": "2023-01-06T16:12:54.155Z"
   },
   {
    "duration": 6,
    "start_time": "2023-01-06T16:13:01.255Z"
   },
   {
    "duration": 6,
    "start_time": "2023-01-06T16:13:06.252Z"
   },
   {
    "duration": 1303,
    "start_time": "2023-01-06T16:13:20.460Z"
   },
   {
    "duration": 11,
    "start_time": "2023-01-06T16:13:35.266Z"
   },
   {
    "duration": 9,
    "start_time": "2023-01-06T16:13:56.848Z"
   },
   {
    "duration": 1376,
    "start_time": "2023-01-06T16:14:36.106Z"
   },
   {
    "duration": 1436,
    "start_time": "2023-01-06T16:15:07.216Z"
   },
   {
    "duration": 31,
    "start_time": "2023-01-06T16:15:20.084Z"
   },
   {
    "duration": 10,
    "start_time": "2023-01-06T16:15:43.917Z"
   },
   {
    "duration": 11,
    "start_time": "2023-01-06T16:15:59.242Z"
   },
   {
    "duration": 10,
    "start_time": "2023-01-06T16:16:16.647Z"
   },
   {
    "duration": 14,
    "start_time": "2023-01-06T16:17:28.398Z"
   },
   {
    "duration": 5,
    "start_time": "2023-01-06T16:20:59.428Z"
   },
   {
    "duration": 12,
    "start_time": "2023-01-06T16:21:10.255Z"
   },
   {
    "duration": 6,
    "start_time": "2023-01-06T16:21:16.116Z"
   },
   {
    "duration": 5,
    "start_time": "2023-01-06T16:24:54.730Z"
   },
   {
    "duration": 17,
    "start_time": "2023-01-06T16:25:05.466Z"
   },
   {
    "duration": 4,
    "start_time": "2023-01-06T16:25:47.816Z"
   },
   {
    "duration": 69,
    "start_time": "2023-01-06T16:27:08.184Z"
   },
   {
    "duration": 28,
    "start_time": "2023-01-06T16:27:13.380Z"
   },
   {
    "duration": 4,
    "start_time": "2023-01-06T16:27:29.676Z"
   },
   {
    "duration": 28,
    "start_time": "2023-01-06T16:27:35.614Z"
   },
   {
    "duration": 8,
    "start_time": "2023-01-06T16:27:44.918Z"
   },
   {
    "duration": 5,
    "start_time": "2023-01-06T16:28:49.177Z"
   },
   {
    "duration": 39,
    "start_time": "2023-01-06T16:29:01.876Z"
   },
   {
    "duration": 15,
    "start_time": "2023-01-06T16:29:48.047Z"
   },
   {
    "duration": 36,
    "start_time": "2023-01-06T16:30:30.441Z"
   },
   {
    "duration": 33,
    "start_time": "2023-01-06T16:32:56.076Z"
   },
   {
    "duration": 13,
    "start_time": "2023-01-06T16:39:49.077Z"
   },
   {
    "duration": 29,
    "start_time": "2023-01-06T16:39:56.325Z"
   },
   {
    "duration": 19,
    "start_time": "2023-01-06T16:40:15.018Z"
   },
   {
    "duration": 24,
    "start_time": "2023-01-06T16:40:57.081Z"
   },
   {
    "duration": 29,
    "start_time": "2023-01-06T16:44:43.550Z"
   },
   {
    "duration": 25,
    "start_time": "2023-01-06T17:21:36.848Z"
   },
   {
    "duration": 14,
    "start_time": "2023-01-06T17:23:45.240Z"
   },
   {
    "duration": 11,
    "start_time": "2023-01-06T17:24:48.357Z"
   },
   {
    "duration": 6,
    "start_time": "2023-01-06T17:25:19.896Z"
   },
   {
    "duration": 10,
    "start_time": "2023-01-06T17:28:03.075Z"
   },
   {
    "duration": 14,
    "start_time": "2023-01-06T17:28:57.933Z"
   },
   {
    "duration": 9,
    "start_time": "2023-01-06T17:31:28.766Z"
   },
   {
    "duration": 14,
    "start_time": "2023-01-06T17:41:24.779Z"
   },
   {
    "duration": 41,
    "start_time": "2023-01-06T17:48:14.921Z"
   },
   {
    "duration": 16,
    "start_time": "2023-01-06T17:53:58.448Z"
   },
   {
    "duration": 14,
    "start_time": "2023-01-06T17:54:44.019Z"
   },
   {
    "duration": 15,
    "start_time": "2023-01-06T17:55:21.774Z"
   },
   {
    "duration": 13,
    "start_time": "2023-01-06T17:56:05.789Z"
   },
   {
    "duration": 16,
    "start_time": "2023-01-06T17:56:14.795Z"
   },
   {
    "duration": 15,
    "start_time": "2023-01-06T17:56:49.312Z"
   },
   {
    "duration": 18,
    "start_time": "2023-01-06T17:58:05.731Z"
   },
   {
    "duration": 44,
    "start_time": "2023-01-06T17:58:28.719Z"
   },
   {
    "duration": 18,
    "start_time": "2023-01-06T17:58:48.836Z"
   },
   {
    "duration": 51,
    "start_time": "2023-01-06T17:59:03.825Z"
   },
   {
    "duration": 15,
    "start_time": "2023-01-06T17:59:26.778Z"
   },
   {
    "duration": 52,
    "start_time": "2023-01-06T17:59:50.223Z"
   },
   {
    "duration": 28,
    "start_time": "2023-01-06T18:00:03.343Z"
   },
   {
    "duration": 55,
    "start_time": "2023-01-06T18:00:11.519Z"
   },
   {
    "duration": 18,
    "start_time": "2023-01-06T18:03:16.176Z"
   },
   {
    "duration": 15,
    "start_time": "2023-01-06T18:03:21.671Z"
   },
   {
    "duration": 51,
    "start_time": "2023-01-06T18:03:31.251Z"
   },
   {
    "duration": 46,
    "start_time": "2023-01-06T18:03:49.710Z"
   },
   {
    "duration": 23,
    "start_time": "2023-01-06T18:04:16.055Z"
   },
   {
    "duration": 17,
    "start_time": "2023-01-06T18:04:19.865Z"
   },
   {
    "duration": 55,
    "start_time": "2023-01-06T18:04:24.601Z"
   },
   {
    "duration": 40,
    "start_time": "2023-01-06T18:04:35.144Z"
   },
   {
    "duration": 65,
    "start_time": "2023-01-06T18:05:43.847Z"
   },
   {
    "duration": 44,
    "start_time": "2023-01-06T18:06:05.377Z"
   },
   {
    "duration": 41,
    "start_time": "2023-01-06T18:07:11.195Z"
   },
   {
    "duration": 15,
    "start_time": "2023-01-06T18:09:19.723Z"
   },
   {
    "duration": 751,
    "start_time": "2023-01-06T18:11:24.245Z"
   },
   {
    "duration": 674,
    "start_time": "2023-01-06T18:12:06.838Z"
   },
   {
    "duration": 625,
    "start_time": "2023-01-06T18:12:22.075Z"
   },
   {
    "duration": 609,
    "start_time": "2023-01-06T18:12:31.072Z"
   },
   {
    "duration": 614,
    "start_time": "2023-01-06T18:15:31.948Z"
   },
   {
    "duration": 647,
    "start_time": "2023-01-06T18:16:12.421Z"
   },
   {
    "duration": 716,
    "start_time": "2023-01-06T20:11:53.984Z"
   },
   {
    "duration": 703,
    "start_time": "2023-01-06T20:12:23.750Z"
   },
   {
    "duration": 711,
    "start_time": "2023-01-06T20:12:50.106Z"
   },
   {
    "duration": 552,
    "start_time": "2023-01-06T20:23:13.607Z"
   },
   {
    "duration": 567,
    "start_time": "2023-01-06T20:23:42.381Z"
   },
   {
    "duration": 572,
    "start_time": "2023-01-06T20:23:52.151Z"
   },
   {
    "duration": 570,
    "start_time": "2023-01-06T20:24:36.843Z"
   },
   {
    "duration": 408,
    "start_time": "2023-01-06T20:24:53.842Z"
   },
   {
    "duration": 105,
    "start_time": "2023-01-06T20:24:54.253Z"
   },
   {
    "duration": 15,
    "start_time": "2023-01-06T20:24:54.429Z"
   },
   {
    "duration": 2218,
    "start_time": "2023-01-06T20:24:54.682Z"
   },
   {
    "duration": 14,
    "start_time": "2023-01-06T20:24:56.903Z"
   },
   {
    "duration": 42,
    "start_time": "2023-01-06T20:24:56.919Z"
   },
   {
    "duration": 61,
    "start_time": "2023-01-06T20:24:56.963Z"
   },
   {
    "duration": 11,
    "start_time": "2023-01-06T20:24:57.027Z"
   },
   {
    "duration": 41,
    "start_time": "2023-01-06T20:24:57.039Z"
   },
   {
    "duration": 13,
    "start_time": "2023-01-06T20:24:57.348Z"
   },
   {
    "duration": 49,
    "start_time": "2023-01-06T20:24:58.070Z"
   },
   {
    "duration": 22,
    "start_time": "2023-01-06T20:25:01.178Z"
   },
   {
    "duration": 22,
    "start_time": "2023-01-06T20:25:17.630Z"
   },
   {
    "duration": 16,
    "start_time": "2023-01-06T20:25:26.300Z"
   },
   {
    "duration": 22,
    "start_time": "2023-01-06T20:27:41.356Z"
   },
   {
    "duration": 27,
    "start_time": "2023-01-06T20:28:01.281Z"
   },
   {
    "duration": 33,
    "start_time": "2023-01-06T20:28:16.015Z"
   },
   {
    "duration": 38,
    "start_time": "2023-01-06T20:28:48.320Z"
   },
   {
    "duration": 52,
    "start_time": "2023-01-06T20:31:58.694Z"
   },
   {
    "duration": 60,
    "start_time": "2023-01-06T20:39:28.142Z"
   },
   {
    "duration": 60,
    "start_time": "2023-01-06T20:39:55.310Z"
   },
   {
    "duration": 74,
    "start_time": "2023-01-06T20:40:44.196Z"
   },
   {
    "duration": 84,
    "start_time": "2023-01-06T20:41:57.475Z"
   },
   {
    "duration": 55,
    "start_time": "2023-01-06T20:42:54.895Z"
   },
   {
    "duration": 13,
    "start_time": "2023-01-06T20:44:09.748Z"
   },
   {
    "duration": 61,
    "start_time": "2023-01-06T20:44:40.065Z"
   },
   {
    "duration": 7,
    "start_time": "2023-01-06T20:46:10.286Z"
   },
   {
    "duration": 11,
    "start_time": "2023-01-06T20:47:31.793Z"
   },
   {
    "duration": 11,
    "start_time": "2023-01-06T20:48:02.692Z"
   },
   {
    "duration": 11,
    "start_time": "2023-01-06T20:48:48.182Z"
   },
   {
    "duration": 15,
    "start_time": "2023-01-06T20:48:55.853Z"
   },
   {
    "duration": 12,
    "start_time": "2023-01-06T20:49:00.666Z"
   },
   {
    "duration": 2,
    "start_time": "2023-01-06T21:00:27.102Z"
   },
   {
    "duration": 3,
    "start_time": "2023-01-06T21:00:29.415Z"
   },
   {
    "duration": 13,
    "start_time": "2023-01-06T21:01:17.133Z"
   },
   {
    "duration": 12,
    "start_time": "2023-01-06T21:03:00.332Z"
   },
   {
    "duration": 22,
    "start_time": "2023-01-06T21:03:24.294Z"
   },
   {
    "duration": 71,
    "start_time": "2023-01-06T21:03:59.159Z"
   },
   {
    "duration": 22,
    "start_time": "2023-01-06T21:04:15.098Z"
   },
   {
    "duration": 9,
    "start_time": "2023-01-06T21:04:33.077Z"
   },
   {
    "duration": 12,
    "start_time": "2023-01-06T21:04:39.261Z"
   },
   {
    "duration": 5,
    "start_time": "2023-01-06T21:04:59.105Z"
   },
   {
    "duration": 9,
    "start_time": "2023-01-06T21:05:01.995Z"
   },
   {
    "duration": 16,
    "start_time": "2023-01-06T21:05:37.385Z"
   },
   {
    "duration": 16,
    "start_time": "2023-01-06T21:06:09.636Z"
   },
   {
    "duration": 42,
    "start_time": "2023-01-06T21:07:17.607Z"
   },
   {
    "duration": 37,
    "start_time": "2023-01-06T21:07:53.598Z"
   },
   {
    "duration": 38,
    "start_time": "2023-01-06T21:08:10.286Z"
   },
   {
    "duration": 15,
    "start_time": "2023-01-06T21:09:02.697Z"
   },
   {
    "duration": 16,
    "start_time": "2023-01-06T21:09:15.412Z"
   },
   {
    "duration": 16,
    "start_time": "2023-01-06T21:09:34.302Z"
   },
   {
    "duration": 41,
    "start_time": "2023-01-06T21:10:09.569Z"
   },
   {
    "duration": 16,
    "start_time": "2023-01-06T21:15:15.268Z"
   },
   {
    "duration": 21,
    "start_time": "2023-01-06T21:16:45.575Z"
   },
   {
    "duration": 5,
    "start_time": "2023-01-06T21:16:49.676Z"
   },
   {
    "duration": 19,
    "start_time": "2023-01-06T21:19:03.508Z"
   },
   {
    "duration": 8,
    "start_time": "2023-01-06T21:19:06.709Z"
   },
   {
    "duration": 19,
    "start_time": "2023-01-06T21:20:37.565Z"
   },
   {
    "duration": 7,
    "start_time": "2023-01-06T21:20:40.066Z"
   },
   {
    "duration": 75,
    "start_time": "2023-01-06T21:23:35.307Z"
   },
   {
    "duration": 21,
    "start_time": "2023-01-06T21:23:55.109Z"
   },
   {
    "duration": 19,
    "start_time": "2023-01-06T21:25:28.618Z"
   },
   {
    "duration": 39,
    "start_time": "2023-01-06T21:25:47.164Z"
   },
   {
    "duration": 8,
    "start_time": "2023-01-06T21:25:52.197Z"
   },
   {
    "duration": 39,
    "start_time": "2023-01-06T21:28:52.562Z"
   },
   {
    "duration": 8,
    "start_time": "2023-01-06T21:28:56.110Z"
   },
   {
    "duration": 46,
    "start_time": "2023-01-06T21:32:49.565Z"
   },
   {
    "duration": 8,
    "start_time": "2023-01-06T21:33:13.606Z"
   },
   {
    "duration": 44,
    "start_time": "2023-01-06T21:33:21.475Z"
   },
   {
    "duration": 43,
    "start_time": "2023-01-06T21:34:51.729Z"
   },
   {
    "duration": 41,
    "start_time": "2023-01-06T21:35:03.724Z"
   },
   {
    "duration": 47,
    "start_time": "2023-01-06T21:43:02.312Z"
   },
   {
    "duration": 41,
    "start_time": "2023-01-06T21:43:23.097Z"
   },
   {
    "duration": 43,
    "start_time": "2023-01-06T21:44:15.870Z"
   },
   {
    "duration": 43,
    "start_time": "2023-01-06T21:46:35.138Z"
   },
   {
    "duration": 69,
    "start_time": "2023-01-06T21:46:54.021Z"
   },
   {
    "duration": 27,
    "start_time": "2023-01-06T21:47:33.156Z"
   },
   {
    "duration": 38,
    "start_time": "2023-01-06T21:47:44.920Z"
   },
   {
    "duration": 53,
    "start_time": "2023-01-06T21:48:01.604Z"
   },
   {
    "duration": 53,
    "start_time": "2023-01-06T21:48:41.669Z"
   },
   {
    "duration": 17,
    "start_time": "2023-01-06T21:48:58.032Z"
   },
   {
    "duration": 43,
    "start_time": "2023-01-06T21:49:08.598Z"
   },
   {
    "duration": 19,
    "start_time": "2023-01-06T21:50:22.462Z"
   },
   {
    "duration": 19,
    "start_time": "2023-01-06T21:50:43.465Z"
   },
   {
    "duration": 71,
    "start_time": "2023-01-06T21:59:44.003Z"
   },
   {
    "duration": 26,
    "start_time": "2023-01-06T21:59:53.472Z"
   },
   {
    "duration": 41,
    "start_time": "2023-01-06T22:03:06.661Z"
   },
   {
    "duration": 34,
    "start_time": "2023-01-06T22:03:16.632Z"
   },
   {
    "duration": 25,
    "start_time": "2023-01-06T22:03:32.632Z"
   },
   {
    "duration": 73,
    "start_time": "2023-01-06T22:06:13.632Z"
   },
   {
    "duration": 14,
    "start_time": "2023-01-06T22:06:31.418Z"
   },
   {
    "duration": 31,
    "start_time": "2023-01-06T22:06:41.126Z"
   },
   {
    "duration": 43,
    "start_time": "2023-01-06T22:07:22.454Z"
   },
   {
    "duration": 13,
    "start_time": "2023-01-06T22:08:54.851Z"
   },
   {
    "duration": 20,
    "start_time": "2023-01-06T22:09:20.191Z"
   },
   {
    "duration": 34,
    "start_time": "2023-01-06T22:15:20.089Z"
   },
   {
    "duration": 8,
    "start_time": "2023-01-06T22:17:42.211Z"
   },
   {
    "duration": 3460,
    "start_time": "2023-01-06T22:17:59.151Z"
   },
   {
    "duration": 125,
    "start_time": "2023-01-06T22:18:11.528Z"
   },
   {
    "duration": 103,
    "start_time": "2023-01-06T22:19:31.988Z"
   },
   {
    "duration": 103,
    "start_time": "2023-01-06T22:22:21.248Z"
   },
   {
    "duration": 11,
    "start_time": "2023-01-06T22:22:50.463Z"
   },
   {
    "duration": 14,
    "start_time": "2023-01-06T22:23:03.843Z"
   },
   {
    "duration": 12,
    "start_time": "2023-01-06T22:23:20.403Z"
   },
   {
    "duration": 416,
    "start_time": "2023-01-06T22:23:38.115Z"
   },
   {
    "duration": 100,
    "start_time": "2023-01-06T22:23:38.798Z"
   },
   {
    "duration": 14,
    "start_time": "2023-01-06T22:23:39.075Z"
   },
   {
    "duration": 2032,
    "start_time": "2023-01-06T22:23:39.336Z"
   },
   {
    "duration": 14,
    "start_time": "2023-01-06T22:23:41.369Z"
   },
   {
    "duration": 5,
    "start_time": "2023-01-06T22:23:41.385Z"
   },
   {
    "duration": 43,
    "start_time": "2023-01-06T22:23:41.391Z"
   },
   {
    "duration": 7,
    "start_time": "2023-01-06T22:23:41.435Z"
   },
   {
    "duration": 16,
    "start_time": "2023-01-06T22:23:41.443Z"
   },
   {
    "duration": 10,
    "start_time": "2023-01-06T22:23:41.460Z"
   },
   {
    "duration": 68,
    "start_time": "2023-01-06T22:23:41.472Z"
   },
   {
    "duration": 22,
    "start_time": "2023-01-06T22:23:41.541Z"
   },
   {
    "duration": 10,
    "start_time": "2023-01-06T22:23:42.268Z"
   },
   {
    "duration": 54,
    "start_time": "2023-01-06T22:23:42.903Z"
   },
   {
    "duration": 21,
    "start_time": "2023-01-06T22:23:43.814Z"
   },
   {
    "duration": 13,
    "start_time": "2023-01-06T22:23:44.416Z"
   },
   {
    "duration": 11,
    "start_time": "2023-01-06T22:23:45.207Z"
   },
   {
    "duration": 15,
    "start_time": "2023-01-06T22:26:18.711Z"
   },
   {
    "duration": 20,
    "start_time": "2023-01-06T22:26:27.798Z"
   },
   {
    "duration": 38,
    "start_time": "2023-01-06T22:26:35.839Z"
   },
   {
    "duration": 38,
    "start_time": "2023-01-06T22:26:58.382Z"
   },
   {
    "duration": 13,
    "start_time": "2023-01-06T22:30:04.566Z"
   },
   {
    "duration": 6,
    "start_time": "2023-01-06T22:30:28.977Z"
   },
   {
    "duration": 5,
    "start_time": "2023-01-06T22:30:57.712Z"
   },
   {
    "duration": 43,
    "start_time": "2023-01-06T22:31:48.136Z"
   },
   {
    "duration": 13,
    "start_time": "2023-01-06T22:33:12.850Z"
   },
   {
    "duration": 9,
    "start_time": "2023-01-06T22:33:33.198Z"
   },
   {
    "duration": 11,
    "start_time": "2023-01-06T22:33:52.079Z"
   },
   {
    "duration": 62,
    "start_time": "2023-01-06T22:37:57.912Z"
   },
   {
    "duration": 28,
    "start_time": "2023-01-06T22:38:06.489Z"
   },
   {
    "duration": 24,
    "start_time": "2023-01-06T22:38:42.296Z"
   },
   {
    "duration": 9,
    "start_time": "2023-01-06T22:41:00.357Z"
   },
   {
    "duration": 488,
    "start_time": "2023-01-06T22:41:32.181Z"
   },
   {
    "duration": 6,
    "start_time": "2023-01-06T22:47:10.753Z"
   },
   {
    "duration": 3,
    "start_time": "2023-01-06T22:47:19.847Z"
   },
   {
    "duration": 75,
    "start_time": "2023-01-06T22:47:27.102Z"
   },
   {
    "duration": 86,
    "start_time": "2023-01-06T22:51:55.563Z"
   },
   {
    "duration": 2038,
    "start_time": "2023-01-06T22:53:02.346Z"
   },
   {
    "duration": 7,
    "start_time": "2023-01-06T22:54:21.743Z"
   },
   {
    "duration": 25,
    "start_time": "2023-01-06T22:54:42.484Z"
   },
   {
    "duration": 117,
    "start_time": "2023-01-06T22:56:56.856Z"
   },
   {
    "duration": 112,
    "start_time": "2023-01-06T22:57:10.490Z"
   },
   {
    "duration": 208,
    "start_time": "2023-01-06T22:57:41.190Z"
   },
   {
    "duration": 96,
    "start_time": "2023-01-06T22:59:39.359Z"
   },
   {
    "duration": 93,
    "start_time": "2023-01-06T23:00:07.568Z"
   },
   {
    "duration": 634,
    "start_time": "2023-01-06T23:00:30.501Z"
   },
   {
    "duration": 96,
    "start_time": "2023-01-06T23:00:31.137Z"
   },
   {
    "duration": 14,
    "start_time": "2023-01-06T23:00:31.235Z"
   },
   {
    "duration": 1861,
    "start_time": "2023-01-06T23:00:31.262Z"
   },
   {
    "duration": 12,
    "start_time": "2023-01-06T23:00:33.126Z"
   },
   {
    "duration": 13,
    "start_time": "2023-01-06T23:00:33.140Z"
   },
   {
    "duration": 46,
    "start_time": "2023-01-06T23:00:33.155Z"
   },
   {
    "duration": 7,
    "start_time": "2023-01-06T23:00:33.202Z"
   },
   {
    "duration": 21,
    "start_time": "2023-01-06T23:00:33.211Z"
   },
   {
    "duration": 14,
    "start_time": "2023-01-06T23:00:33.234Z"
   },
   {
    "duration": 47,
    "start_time": "2023-01-06T23:00:33.354Z"
   },
   {
    "duration": 21,
    "start_time": "2023-01-06T23:00:33.846Z"
   },
   {
    "duration": 13,
    "start_time": "2023-01-06T23:00:34.141Z"
   },
   {
    "duration": 53,
    "start_time": "2023-01-06T23:00:34.462Z"
   },
   {
    "duration": 25,
    "start_time": "2023-01-06T23:00:34.858Z"
   },
   {
    "duration": 29,
    "start_time": "2023-01-06T23:00:40.631Z"
   },
   {
    "duration": 100,
    "start_time": "2023-01-06T23:00:44.160Z"
   },
   {
    "duration": 120,
    "start_time": "2023-01-06T23:01:32.633Z"
   },
   {
    "duration": 130,
    "start_time": "2023-01-06T23:04:07.213Z"
   },
   {
    "duration": 130,
    "start_time": "2023-01-06T23:04:23.766Z"
   },
   {
    "duration": 87,
    "start_time": "2023-01-06T23:05:53.228Z"
   },
   {
    "duration": 125,
    "start_time": "2023-01-06T23:06:01.523Z"
   },
   {
    "duration": 585,
    "start_time": "2023-01-06T23:06:45.237Z"
   },
   {
    "duration": 99,
    "start_time": "2023-01-06T23:06:46.831Z"
   },
   {
    "duration": 15,
    "start_time": "2023-01-06T23:06:47.063Z"
   },
   {
    "duration": 1839,
    "start_time": "2023-01-06T23:06:47.255Z"
   },
   {
    "duration": 13,
    "start_time": "2023-01-06T23:06:49.096Z"
   },
   {
    "duration": 28,
    "start_time": "2023-01-06T23:06:49.111Z"
   },
   {
    "duration": 54,
    "start_time": "2023-01-06T23:06:49.141Z"
   },
   {
    "duration": 18,
    "start_time": "2023-01-06T23:06:49.196Z"
   },
   {
    "duration": 30,
    "start_time": "2023-01-06T23:06:49.215Z"
   },
   {
    "duration": 34,
    "start_time": "2023-01-06T23:06:49.246Z"
   },
   {
    "duration": 45,
    "start_time": "2023-01-06T23:06:49.317Z"
   },
   {
    "duration": 22,
    "start_time": "2023-01-06T23:06:49.542Z"
   },
   {
    "duration": 10,
    "start_time": "2023-01-06T23:06:50.220Z"
   },
   {
    "duration": 53,
    "start_time": "2023-01-06T23:06:50.794Z"
   },
   {
    "duration": 26,
    "start_time": "2023-01-06T23:06:51.312Z"
   },
   {
    "duration": 30,
    "start_time": "2023-01-06T23:06:53.857Z"
   },
   {
    "duration": 23,
    "start_time": "2023-01-06T23:07:09.345Z"
   },
   {
    "duration": 569,
    "start_time": "2023-01-06T23:07:26.944Z"
   },
   {
    "duration": 99,
    "start_time": "2023-01-06T23:07:27.815Z"
   },
   {
    "duration": 13,
    "start_time": "2023-01-06T23:07:28.593Z"
   },
   {
    "duration": 1768,
    "start_time": "2023-01-06T23:07:29.316Z"
   },
   {
    "duration": 14,
    "start_time": "2023-01-06T23:07:31.086Z"
   },
   {
    "duration": 19,
    "start_time": "2023-01-06T23:07:31.102Z"
   },
   {
    "duration": 41,
    "start_time": "2023-01-06T23:07:31.650Z"
   },
   {
    "duration": 8,
    "start_time": "2023-01-06T23:07:32.798Z"
   },
   {
    "duration": 11,
    "start_time": "2023-01-06T23:07:33.488Z"
   },
   {
    "duration": 16,
    "start_time": "2023-01-06T23:07:34.135Z"
   },
   {
    "duration": 45,
    "start_time": "2023-01-06T23:07:34.685Z"
   },
   {
    "duration": 20,
    "start_time": "2023-01-06T23:07:35.322Z"
   },
   {
    "duration": 10,
    "start_time": "2023-01-06T23:07:35.879Z"
   },
   {
    "duration": 53,
    "start_time": "2023-01-06T23:07:36.431Z"
   },
   {
    "duration": 24,
    "start_time": "2023-01-06T23:07:37.043Z"
   },
   {
    "duration": 28,
    "start_time": "2023-01-06T23:07:39.595Z"
   },
   {
    "duration": 88,
    "start_time": "2023-01-06T23:07:46.862Z"
   },
   {
    "duration": 139,
    "start_time": "2023-01-06T23:11:11.548Z"
   },
   {
    "duration": 137,
    "start_time": "2023-01-06T23:11:25.032Z"
   },
   {
    "duration": 103,
    "start_time": "2023-01-06T23:11:35.507Z"
   },
   {
    "duration": 91,
    "start_time": "2023-01-06T23:11:45.457Z"
   },
   {
    "duration": 101,
    "start_time": "2023-01-06T23:11:56.323Z"
   },
   {
    "duration": 178,
    "start_time": "2023-01-06T23:13:28.622Z"
   },
   {
    "duration": 90,
    "start_time": "2023-01-06T23:13:58.890Z"
   },
   {
    "duration": 605,
    "start_time": "2023-01-06T23:14:46.483Z"
   },
   {
    "duration": 98,
    "start_time": "2023-01-06T23:14:47.090Z"
   },
   {
    "duration": 13,
    "start_time": "2023-01-06T23:14:47.190Z"
   },
   {
    "duration": 1843,
    "start_time": "2023-01-06T23:14:47.205Z"
   },
   {
    "duration": 17,
    "start_time": "2023-01-06T23:14:49.050Z"
   },
   {
    "duration": 74,
    "start_time": "2023-01-06T23:14:49.069Z"
   },
   {
    "duration": 70,
    "start_time": "2023-01-06T23:14:49.144Z"
   },
   {
    "duration": 8,
    "start_time": "2023-01-06T23:14:49.216Z"
   },
   {
    "duration": 42,
    "start_time": "2023-01-06T23:14:49.226Z"
   },
   {
    "duration": 71,
    "start_time": "2023-01-06T23:14:49.271Z"
   },
   {
    "duration": 108,
    "start_time": "2023-01-06T23:14:49.344Z"
   },
   {
    "duration": 21,
    "start_time": "2023-01-06T23:14:49.454Z"
   },
   {
    "duration": 29,
    "start_time": "2023-01-06T23:14:49.477Z"
   },
   {
    "duration": 102,
    "start_time": "2023-01-06T23:14:49.508Z"
   },
   {
    "duration": 67,
    "start_time": "2023-01-06T23:14:49.612Z"
   },
   {
    "duration": 58,
    "start_time": "2023-01-06T23:14:49.680Z"
   },
   {
    "duration": 110,
    "start_time": "2023-01-06T23:14:49.740Z"
   },
   {
    "duration": 669,
    "start_time": "2023-01-06T23:15:19.599Z"
   },
   {
    "duration": 98,
    "start_time": "2023-01-06T23:15:20.270Z"
   },
   {
    "duration": 14,
    "start_time": "2023-01-06T23:15:20.370Z"
   },
   {
    "duration": 1826,
    "start_time": "2023-01-06T23:15:20.386Z"
   },
   {
    "duration": 14,
    "start_time": "2023-01-06T23:15:22.214Z"
   },
   {
    "duration": 9,
    "start_time": "2023-01-06T23:15:22.229Z"
   },
   {
    "duration": 42,
    "start_time": "2023-01-06T23:15:22.240Z"
   },
   {
    "duration": 7,
    "start_time": "2023-01-06T23:15:22.284Z"
   },
   {
    "duration": 16,
    "start_time": "2023-01-06T23:15:22.293Z"
   },
   {
    "duration": 11,
    "start_time": "2023-01-06T23:15:22.322Z"
   },
   {
    "duration": 41,
    "start_time": "2023-01-06T23:15:22.335Z"
   },
   {
    "duration": 21,
    "start_time": "2023-01-06T23:15:22.378Z"
   },
   {
    "duration": 10,
    "start_time": "2023-01-06T23:15:22.422Z"
   },
   {
    "duration": 94,
    "start_time": "2023-01-06T23:15:22.434Z"
   },
   {
    "duration": 24,
    "start_time": "2023-01-06T23:15:22.529Z"
   },
   {
    "duration": 28,
    "start_time": "2023-01-06T23:15:22.555Z"
   },
   {
    "duration": 103,
    "start_time": "2023-01-06T23:15:22.584Z"
   },
   {
    "duration": 29,
    "start_time": "2023-01-06T23:22:00.863Z"
   },
   {
    "duration": 12,
    "start_time": "2023-01-06T23:23:34.417Z"
   },
   {
    "duration": 33,
    "start_time": "2023-01-06T23:25:20.338Z"
   },
   {
    "duration": 95,
    "start_time": "2023-01-06T23:25:33.267Z"
   },
   {
    "duration": 544,
    "start_time": "2023-01-06T23:26:48.375Z"
   },
   {
    "duration": 103,
    "start_time": "2023-01-06T23:26:48.921Z"
   },
   {
    "duration": 15,
    "start_time": "2023-01-06T23:26:49.026Z"
   },
   {
    "duration": 1779,
    "start_time": "2023-01-06T23:26:49.044Z"
   },
   {
    "duration": 13,
    "start_time": "2023-01-06T23:26:50.826Z"
   },
   {
    "duration": 6,
    "start_time": "2023-01-06T23:26:50.841Z"
   },
   {
    "duration": 38,
    "start_time": "2023-01-06T23:26:50.848Z"
   },
   {
    "duration": 8,
    "start_time": "2023-01-06T23:26:50.887Z"
   },
   {
    "duration": 32,
    "start_time": "2023-01-06T23:26:50.896Z"
   },
   {
    "duration": 17,
    "start_time": "2023-01-06T23:26:50.930Z"
   },
   {
    "duration": 48,
    "start_time": "2023-01-06T23:26:50.948Z"
   },
   {
    "duration": 45,
    "start_time": "2023-01-06T23:26:50.997Z"
   },
   {
    "duration": 30,
    "start_time": "2023-01-06T23:26:51.044Z"
   },
   {
    "duration": 10,
    "start_time": "2023-01-06T23:26:51.076Z"
   },
   {
    "duration": 76,
    "start_time": "2023-01-06T23:26:51.088Z"
   },
   {
    "duration": 25,
    "start_time": "2023-01-06T23:26:51.166Z"
   },
   {
    "duration": 46,
    "start_time": "2023-01-06T23:26:51.192Z"
   },
   {
    "duration": 1397,
    "start_time": "2023-01-06T23:26:51.240Z"
   },
   {
    "duration": 97,
    "start_time": "2023-01-06T23:27:06.731Z"
   },
   {
    "duration": 594,
    "start_time": "2023-01-06T23:27:57.029Z"
   },
   {
    "duration": 95,
    "start_time": "2023-01-06T23:27:57.625Z"
   },
   {
    "duration": 13,
    "start_time": "2023-01-06T23:27:57.721Z"
   },
   {
    "duration": 1727,
    "start_time": "2023-01-06T23:27:57.736Z"
   },
   {
    "duration": 13,
    "start_time": "2023-01-06T23:27:59.466Z"
   },
   {
    "duration": 18,
    "start_time": "2023-01-06T23:27:59.481Z"
   },
   {
    "duration": 38,
    "start_time": "2023-01-06T23:27:59.501Z"
   },
   {
    "duration": 8,
    "start_time": "2023-01-06T23:27:59.542Z"
   },
   {
    "duration": 11,
    "start_time": "2023-01-06T23:27:59.552Z"
   },
   {
    "duration": 11,
    "start_time": "2023-01-06T23:27:59.567Z"
   },
   {
    "duration": 69,
    "start_time": "2023-01-06T23:27:59.579Z"
   },
   {
    "duration": 26,
    "start_time": "2023-01-06T23:27:59.650Z"
   },
   {
    "duration": 19,
    "start_time": "2023-01-06T23:27:59.677Z"
   },
   {
    "duration": 32,
    "start_time": "2023-01-06T23:27:59.698Z"
   },
   {
    "duration": 55,
    "start_time": "2023-01-06T23:27:59.731Z"
   },
   {
    "duration": 36,
    "start_time": "2023-01-06T23:27:59.787Z"
   },
   {
    "duration": 28,
    "start_time": "2023-01-06T23:28:06.548Z"
   },
   {
    "duration": 20,
    "start_time": "2023-01-06T23:28:19.813Z"
   },
   {
    "duration": 15,
    "start_time": "2023-01-06T23:28:31.642Z"
   },
   {
    "duration": 88,
    "start_time": "2023-01-06T23:29:06.738Z"
   },
   {
    "duration": 32,
    "start_time": "2023-01-06T23:30:19.952Z"
   },
   {
    "duration": 4,
    "start_time": "2023-01-06T23:34:39.488Z"
   },
   {
    "duration": 22,
    "start_time": "2023-01-06T23:34:43.695Z"
   },
   {
    "duration": 10,
    "start_time": "2023-01-06T23:34:45.489Z"
   },
   {
    "duration": 53,
    "start_time": "2023-01-06T23:34:46.238Z"
   },
   {
    "duration": 23,
    "start_time": "2023-01-06T23:34:46.793Z"
   },
   {
    "duration": 27,
    "start_time": "2023-01-06T23:34:49.282Z"
   },
   {
    "duration": 13,
    "start_time": "2023-01-06T23:34:50.111Z"
   },
   {
    "duration": 103,
    "start_time": "2023-01-06T23:34:51.860Z"
   },
   {
    "duration": 138,
    "start_time": "2023-01-06T23:34:59.771Z"
   },
   {
    "duration": 823,
    "start_time": "2023-01-07T08:56:11.429Z"
   },
   {
    "duration": 164,
    "start_time": "2023-01-07T08:56:21.122Z"
   },
   {
    "duration": 22,
    "start_time": "2023-01-07T08:56:31.369Z"
   },
   {
    "duration": 1970,
    "start_time": "2023-01-07T08:56:50.605Z"
   },
   {
    "duration": 14,
    "start_time": "2023-01-07T08:59:14.004Z"
   },
   {
    "duration": 1899,
    "start_time": "2023-01-07T08:59:16.691Z"
   },
   {
    "duration": 14,
    "start_time": "2023-01-07T08:59:20.267Z"
   },
   {
    "duration": 8,
    "start_time": "2023-01-07T08:59:36.364Z"
   },
   {
    "duration": 14,
    "start_time": "2023-01-07T09:00:24.663Z"
   },
   {
    "duration": 6,
    "start_time": "2023-01-07T09:00:56.358Z"
   },
   {
    "duration": 13,
    "start_time": "2023-01-07T09:03:28.348Z"
   },
   {
    "duration": 4,
    "start_time": "2023-01-07T09:03:34.112Z"
   },
   {
    "duration": 90,
    "start_time": "2023-01-07T09:03:34.753Z"
   },
   {
    "duration": 14,
    "start_time": "2023-01-07T09:03:35.356Z"
   },
   {
    "duration": 1870,
    "start_time": "2023-01-07T09:03:36.007Z"
   },
   {
    "duration": 13,
    "start_time": "2023-01-07T09:03:37.879Z"
   },
   {
    "duration": 8,
    "start_time": "2023-01-07T09:03:46.375Z"
   },
   {
    "duration": 34,
    "start_time": "2023-01-07T09:04:03.050Z"
   },
   {
    "duration": 33,
    "start_time": "2023-01-07T09:14:47.537Z"
   },
   {
    "duration": 49,
    "start_time": "2023-01-07T09:23:05.638Z"
   },
   {
    "duration": 14,
    "start_time": "2023-01-07T09:24:49.575Z"
   },
   {
    "duration": 16,
    "start_time": "2023-01-07T09:26:35.974Z"
   },
   {
    "duration": 28,
    "start_time": "2023-01-07T09:26:58.818Z"
   },
   {
    "duration": 21,
    "start_time": "2023-01-07T09:27:20.014Z"
   },
   {
    "duration": 4,
    "start_time": "2023-01-07T09:29:48.649Z"
   },
   {
    "duration": 82,
    "start_time": "2023-01-07T09:30:10.566Z"
   },
   {
    "duration": 24,
    "start_time": "2023-01-07T09:30:35.059Z"
   },
   {
    "duration": 24,
    "start_time": "2023-01-07T09:31:24.380Z"
   },
   {
    "duration": 24,
    "start_time": "2023-01-07T09:33:14.640Z"
   },
   {
    "duration": 26,
    "start_time": "2023-01-07T09:38:32.969Z"
   },
   {
    "duration": 38,
    "start_time": "2023-01-07T09:38:44.865Z"
   },
   {
    "duration": 25,
    "start_time": "2023-01-07T09:38:58.785Z"
   },
   {
    "duration": 12,
    "start_time": "2023-01-07T09:41:11.548Z"
   },
   {
    "duration": 641,
    "start_time": "2023-01-07T09:41:25.239Z"
   },
   {
    "duration": 109,
    "start_time": "2023-01-07T09:41:25.883Z"
   },
   {
    "duration": 15,
    "start_time": "2023-01-07T09:41:25.994Z"
   },
   {
    "duration": 1938,
    "start_time": "2023-01-07T09:41:26.010Z"
   },
   {
    "duration": 14,
    "start_time": "2023-01-07T09:41:27.951Z"
   },
   {
    "duration": 29,
    "start_time": "2023-01-07T09:41:27.967Z"
   },
   {
    "duration": 13,
    "start_time": "2023-01-07T09:41:27.998Z"
   },
   {
    "duration": 19,
    "start_time": "2023-01-07T09:41:28.012Z"
   },
   {
    "duration": 32,
    "start_time": "2023-01-07T09:41:28.033Z"
   },
   {
    "duration": 30,
    "start_time": "2023-01-07T09:41:28.068Z"
   },
   {
    "duration": 26,
    "start_time": "2023-01-07T09:41:28.099Z"
   },
   {
    "duration": 26,
    "start_time": "2023-01-07T09:41:28.127Z"
   },
   {
    "duration": 11,
    "start_time": "2023-01-07T09:41:28.155Z"
   },
   {
    "duration": 75,
    "start_time": "2023-01-07T09:41:28.169Z"
   },
   {
    "duration": 24,
    "start_time": "2023-01-07T09:41:28.246Z"
   },
   {
    "duration": 28,
    "start_time": "2023-01-07T09:41:28.272Z"
   },
   {
    "duration": 31,
    "start_time": "2023-01-07T09:41:28.301Z"
   },
   {
    "duration": 110,
    "start_time": "2023-01-07T09:41:28.334Z"
   },
   {
    "duration": 70,
    "start_time": "2023-01-07T09:41:28.445Z"
   },
   {
    "duration": 612,
    "start_time": "2023-01-07T09:48:40.891Z"
   },
   {
    "duration": 99,
    "start_time": "2023-01-07T09:48:41.638Z"
   },
   {
    "duration": 15,
    "start_time": "2023-01-07T09:48:42.459Z"
   },
   {
    "duration": 2005,
    "start_time": "2023-01-07T09:48:43.283Z"
   },
   {
    "duration": 16,
    "start_time": "2023-01-07T09:48:45.290Z"
   },
   {
    "duration": 30,
    "start_time": "2023-01-07T09:48:50.802Z"
   },
   {
    "duration": 11,
    "start_time": "2023-01-07T09:48:52.369Z"
   },
   {
    "duration": 12,
    "start_time": "2023-01-07T09:48:53.580Z"
   },
   {
    "duration": 25,
    "start_time": "2023-01-07T09:48:54.974Z"
   },
   {
    "duration": 27,
    "start_time": "2023-01-07T09:48:56.890Z"
   },
   {
    "duration": 7,
    "start_time": "2023-01-07T09:48:59.055Z"
   },
   {
    "duration": 28,
    "start_time": "2023-01-07T09:49:00.896Z"
   },
   {
    "duration": 11,
    "start_time": "2023-01-07T09:49:02.869Z"
   },
   {
    "duration": 58,
    "start_time": "2023-01-07T09:49:03.709Z"
   },
   {
    "duration": 32,
    "start_time": "2023-01-07T09:49:05.167Z"
   },
   {
    "duration": 29,
    "start_time": "2023-01-07T09:49:10.370Z"
   },
   {
    "duration": 14,
    "start_time": "2023-01-07T09:49:13.167Z"
   },
   {
    "duration": 22,
    "start_time": "2023-01-07T09:50:34.247Z"
   },
   {
    "duration": 88,
    "start_time": "2023-01-07T09:51:50.616Z"
   },
   {
    "duration": 17,
    "start_time": "2023-01-07T09:52:03.798Z"
   },
   {
    "duration": 18,
    "start_time": "2023-01-07T09:52:20.566Z"
   },
   {
    "duration": 100,
    "start_time": "2023-01-07T09:53:13.400Z"
   },
   {
    "duration": 128,
    "start_time": "2023-01-07T09:54:28.323Z"
   },
   {
    "duration": 116,
    "start_time": "2023-01-07T09:54:51.195Z"
   },
   {
    "duration": 2049,
    "start_time": "2023-01-07T09:58:35.460Z"
   },
   {
    "duration": 91,
    "start_time": "2023-01-07T10:34:45.439Z"
   },
   {
    "duration": 6,
    "start_time": "2023-01-07T10:34:48.323Z"
   },
   {
    "duration": 90,
    "start_time": "2023-01-07T10:35:23.580Z"
   },
   {
    "duration": 112,
    "start_time": "2023-01-07T10:37:02.564Z"
   },
   {
    "duration": 21,
    "start_time": "2023-01-07T10:44:05.724Z"
   },
   {
    "duration": 1130,
    "start_time": "2023-01-07T10:46:48.400Z"
   },
   {
    "duration": 574,
    "start_time": "2023-01-07T10:47:17.105Z"
   },
   {
    "duration": 591,
    "start_time": "2023-01-07T10:47:31.310Z"
   },
   {
    "duration": 24,
    "start_time": "2023-01-07T10:50:13.151Z"
   },
   {
    "duration": 26,
    "start_time": "2023-01-07T10:51:25.356Z"
   },
   {
    "duration": 17,
    "start_time": "2023-01-07T10:51:55.039Z"
   },
   {
    "duration": 23,
    "start_time": "2023-01-07T10:54:20.896Z"
   },
   {
    "duration": 8,
    "start_time": "2023-01-07T10:54:42.312Z"
   },
   {
    "duration": 9,
    "start_time": "2023-01-07T10:54:53.678Z"
   },
   {
    "duration": 13,
    "start_time": "2023-01-07T10:55:41.640Z"
   },
   {
    "duration": 70,
    "start_time": "2023-01-07T10:56:40.968Z"
   },
   {
    "duration": 38,
    "start_time": "2023-01-07T10:56:50.163Z"
   },
   {
    "duration": 24,
    "start_time": "2023-01-07T11:00:19.804Z"
   },
   {
    "duration": 30,
    "start_time": "2023-01-07T11:00:28.471Z"
   },
   {
    "duration": 38,
    "start_time": "2023-01-07T11:00:41.305Z"
   },
   {
    "duration": 71,
    "start_time": "2023-01-07T11:01:04.087Z"
   },
   {
    "duration": 60,
    "start_time": "2023-01-07T11:02:08.156Z"
   },
   {
    "duration": 72,
    "start_time": "2023-01-07T11:03:52.811Z"
   },
   {
    "duration": 16,
    "start_time": "2023-01-07T11:05:24.972Z"
   },
   {
    "duration": 14,
    "start_time": "2023-01-07T11:05:36.006Z"
   },
   {
    "duration": 17,
    "start_time": "2023-01-07T11:06:18.910Z"
   },
   {
    "duration": 17,
    "start_time": "2023-01-07T11:06:37.286Z"
   },
   {
    "duration": 16,
    "start_time": "2023-01-07T11:07:32.812Z"
   },
   {
    "duration": 20,
    "start_time": "2023-01-07T11:07:46.956Z"
   },
   {
    "duration": 48,
    "start_time": "2023-01-07T11:12:27.751Z"
   },
   {
    "duration": 34,
    "start_time": "2023-01-07T11:12:57.539Z"
   },
   {
    "duration": 18,
    "start_time": "2023-01-07T11:13:35.323Z"
   },
   {
    "duration": 19,
    "start_time": "2023-01-07T11:14:34.808Z"
   },
   {
    "duration": 13,
    "start_time": "2023-01-07T11:15:32.192Z"
   },
   {
    "duration": 15,
    "start_time": "2023-01-07T11:17:11.737Z"
   },
   {
    "duration": 14,
    "start_time": "2023-01-07T11:18:08.125Z"
   },
   {
    "duration": 15,
    "start_time": "2023-01-07T11:18:40.943Z"
   },
   {
    "duration": 21,
    "start_time": "2023-01-07T11:19:08.594Z"
   },
   {
    "duration": 2028,
    "start_time": "2023-01-07T11:36:06.032Z"
   },
   {
    "duration": 11,
    "start_time": "2023-01-07T11:40:12.704Z"
   },
   {
    "duration": 682,
    "start_time": "2023-01-07T11:42:04.025Z"
   },
   {
    "duration": 116,
    "start_time": "2023-01-07T11:42:04.904Z"
   },
   {
    "duration": 14,
    "start_time": "2023-01-07T11:42:06.543Z"
   },
   {
    "duration": 1933,
    "start_time": "2023-01-07T11:42:07.614Z"
   },
   {
    "duration": 13,
    "start_time": "2023-01-07T11:42:09.549Z"
   },
   {
    "duration": 5,
    "start_time": "2023-01-07T11:45:34.528Z"
   },
   {
    "duration": 191,
    "start_time": "2023-01-07T11:47:05.779Z"
   },
   {
    "duration": 169,
    "start_time": "2023-01-07T11:47:47.683Z"
   },
   {
    "duration": 178,
    "start_time": "2023-01-07T11:47:58.261Z"
   },
   {
    "duration": 203,
    "start_time": "2023-01-07T11:48:22.628Z"
   },
   {
    "duration": 71,
    "start_time": "2023-01-07T11:52:50.356Z"
   },
   {
    "duration": 85,
    "start_time": "2023-01-07T11:53:08.856Z"
   },
   {
    "duration": 11,
    "start_time": "2023-01-07T11:53:20.324Z"
   },
   {
    "duration": 222,
    "start_time": "2023-01-07T11:53:36.376Z"
   },
   {
    "duration": 179,
    "start_time": "2023-01-07T11:54:03.981Z"
   },
   {
    "duration": 230,
    "start_time": "2023-01-07T11:54:21.461Z"
   },
   {
    "duration": 21,
    "start_time": "2023-01-07T11:55:23.805Z"
   },
   {
    "duration": 177,
    "start_time": "2023-01-07T11:55:39.407Z"
   },
   {
    "duration": 194,
    "start_time": "2023-01-07T11:56:19.479Z"
   },
   {
    "duration": 25,
    "start_time": "2023-01-07T11:56:53.664Z"
   },
   {
    "duration": 651,
    "start_time": "2023-01-07T11:59:43.357Z"
   },
   {
    "duration": 120,
    "start_time": "2023-01-07T11:59:44.010Z"
   },
   {
    "duration": 19,
    "start_time": "2023-01-07T11:59:44.133Z"
   },
   {
    "duration": 2066,
    "start_time": "2023-01-07T11:59:44.154Z"
   },
   {
    "duration": 13,
    "start_time": "2023-01-07T11:59:46.222Z"
   },
   {
    "duration": 37,
    "start_time": "2023-01-07T11:59:46.236Z"
   },
   {
    "duration": 11,
    "start_time": "2023-01-07T11:59:46.275Z"
   },
   {
    "duration": 35,
    "start_time": "2023-01-07T11:59:46.287Z"
   },
   {
    "duration": 27,
    "start_time": "2023-01-07T11:59:46.324Z"
   },
   {
    "duration": 32,
    "start_time": "2023-01-07T11:59:46.355Z"
   },
   {
    "duration": 7,
    "start_time": "2023-01-07T11:59:46.388Z"
   },
   {
    "duration": 49,
    "start_time": "2023-01-07T11:59:46.396Z"
   },
   {
    "duration": 17,
    "start_time": "2023-01-07T11:59:46.446Z"
   },
   {
    "duration": 93,
    "start_time": "2023-01-07T11:59:46.465Z"
   },
   {
    "duration": 25,
    "start_time": "2023-01-07T11:59:46.560Z"
   },
   {
    "duration": 45,
    "start_time": "2023-01-07T11:59:46.587Z"
   },
   {
    "duration": 18,
    "start_time": "2023-01-07T11:59:46.633Z"
   },
   {
    "duration": 108,
    "start_time": "2023-01-07T11:59:46.653Z"
   },
   {
    "duration": 7,
    "start_time": "2023-01-07T11:59:46.763Z"
   },
   {
    "duration": 125,
    "start_time": "2023-01-07T11:59:46.772Z"
   },
   {
    "duration": 36,
    "start_time": "2023-01-07T11:59:46.899Z"
   },
   {
    "duration": 25,
    "start_time": "2023-01-07T11:59:46.937Z"
   },
   {
    "duration": 21,
    "start_time": "2023-01-07T11:59:46.964Z"
   },
   {
    "duration": 36,
    "start_time": "2023-01-07T11:59:46.987Z"
   },
   {
    "duration": 21,
    "start_time": "2023-01-07T11:59:47.025Z"
   },
   {
    "duration": 41,
    "start_time": "2023-01-07T12:19:44.764Z"
   },
   {
    "duration": 10,
    "start_time": "2023-01-07T12:22:17.719Z"
   },
   {
    "duration": 11,
    "start_time": "2023-01-07T12:22:40.959Z"
   },
   {
    "duration": 9,
    "start_time": "2023-01-07T12:23:45.981Z"
   },
   {
    "duration": 610,
    "start_time": "2023-01-07T12:24:21.868Z"
   },
   {
    "duration": 97,
    "start_time": "2023-01-07T12:24:22.998Z"
   },
   {
    "duration": 17,
    "start_time": "2023-01-07T12:24:23.518Z"
   },
   {
    "duration": 1961,
    "start_time": "2023-01-07T12:24:24.203Z"
   },
   {
    "duration": 12,
    "start_time": "2023-01-07T12:24:26.166Z"
   },
   {
    "duration": 29,
    "start_time": "2023-01-07T12:24:34.820Z"
   },
   {
    "duration": 12,
    "start_time": "2023-01-07T12:24:41.140Z"
   },
   {
    "duration": 10,
    "start_time": "2023-01-07T12:24:54.012Z"
   },
   {
    "duration": 11,
    "start_time": "2023-01-07T12:25:54.309Z"
   },
   {
    "duration": 8,
    "start_time": "2023-01-07T12:26:20.229Z"
   },
   {
    "duration": 27,
    "start_time": "2023-01-07T12:27:15.702Z"
   },
   {
    "duration": 17,
    "start_time": "2023-01-07T12:27:34.913Z"
   },
   {
    "duration": 31,
    "start_time": "2023-01-07T12:30:14.145Z"
   },
   {
    "duration": 70,
    "start_time": "2023-01-07T12:30:19.871Z"
   },
   {
    "duration": 11,
    "start_time": "2023-01-07T12:30:23.913Z"
   },
   {
    "duration": 11,
    "start_time": "2023-01-07T12:32:12.275Z"
   },
   {
    "duration": 31,
    "start_time": "2023-01-07T12:33:18.402Z"
   },
   {
    "duration": 87,
    "start_time": "2023-01-07T12:34:54.715Z"
   },
   {
    "duration": 105,
    "start_time": "2023-01-07T12:35:34.340Z"
   },
   {
    "duration": 100,
    "start_time": "2023-01-07T12:36:44.500Z"
   },
   {
    "duration": 23,
    "start_time": "2023-01-07T12:37:35.827Z"
   },
   {
    "duration": 665,
    "start_time": "2023-01-07T12:40:00.492Z"
   },
   {
    "duration": 116,
    "start_time": "2023-01-07T12:40:01.159Z"
   },
   {
    "duration": 14,
    "start_time": "2023-01-07T12:40:01.489Z"
   },
   {
    "duration": 2205,
    "start_time": "2023-01-07T12:40:02.123Z"
   },
   {
    "duration": 16,
    "start_time": "2023-01-07T12:40:04.330Z"
   },
   {
    "duration": 27,
    "start_time": "2023-01-07T12:40:13.750Z"
   },
   {
    "duration": 11,
    "start_time": "2023-01-07T12:40:22.718Z"
   },
   {
    "duration": 9,
    "start_time": "2023-01-07T12:40:25.418Z"
   },
   {
    "duration": 31,
    "start_time": "2023-01-07T12:40:33.233Z"
   },
   {
    "duration": 12,
    "start_time": "2023-01-07T12:40:43.430Z"
   },
   {
    "duration": 59,
    "start_time": "2023-01-07T12:40:49.891Z"
   },
   {
    "duration": 32,
    "start_time": "2023-01-07T12:40:53.892Z"
   },
   {
    "duration": 26,
    "start_time": "2023-01-07T12:41:11.709Z"
   },
   {
    "duration": 27,
    "start_time": "2023-01-07T12:42:11.104Z"
   },
   {
    "duration": 35,
    "start_time": "2023-01-07T12:43:35.570Z"
   },
   {
    "duration": 16,
    "start_time": "2023-01-07T12:43:58.392Z"
   },
   {
    "duration": 91,
    "start_time": "2023-01-07T12:48:02.595Z"
   },
   {
    "duration": 102,
    "start_time": "2023-01-07T12:48:46.332Z"
   },
   {
    "duration": 92,
    "start_time": "2023-01-07T12:49:27.081Z"
   },
   {
    "duration": 95,
    "start_time": "2023-01-07T12:51:12.097Z"
   },
   {
    "duration": 105,
    "start_time": "2023-01-07T12:52:06.931Z"
   },
   {
    "duration": 29,
    "start_time": "2023-01-07T12:52:19.189Z"
   },
   {
    "duration": 8,
    "start_time": "2023-01-07T12:52:57.713Z"
   },
   {
    "duration": 26,
    "start_time": "2023-01-07T12:53:11.935Z"
   },
   {
    "duration": 18,
    "start_time": "2023-01-07T12:53:27.338Z"
   },
   {
    "duration": 17,
    "start_time": "2023-01-07T12:54:57.139Z"
   },
   {
    "duration": 36,
    "start_time": "2023-01-07T12:55:28.267Z"
   },
   {
    "duration": 9,
    "start_time": "2023-01-07T12:56:09.216Z"
   },
   {
    "duration": 36,
    "start_time": "2023-01-07T12:56:28.822Z"
   },
   {
    "duration": 16,
    "start_time": "2023-01-07T12:56:55.461Z"
   },
   {
    "duration": 14,
    "start_time": "2023-01-07T12:57:03.504Z"
   },
   {
    "duration": 9,
    "start_time": "2023-01-07T12:57:50.704Z"
   },
   {
    "duration": 14,
    "start_time": "2023-01-07T12:57:55.691Z"
   },
   {
    "duration": 17,
    "start_time": "2023-01-07T12:58:09.013Z"
   },
   {
    "duration": 20,
    "start_time": "2023-01-07T13:27:56.804Z"
   },
   {
    "duration": 31,
    "start_time": "2023-01-07T13:30:16.754Z"
   },
   {
    "duration": 22,
    "start_time": "2023-01-07T13:30:38.393Z"
   },
   {
    "duration": 33,
    "start_time": "2023-01-07T13:35:04.168Z"
   },
   {
    "duration": 106,
    "start_time": "2023-01-07T13:36:53.630Z"
   },
   {
    "duration": 29,
    "start_time": "2023-01-07T13:37:39.598Z"
   },
   {
    "duration": 37,
    "start_time": "2023-01-07T13:38:38.084Z"
   },
   {
    "duration": 79,
    "start_time": "2023-01-07T13:45:44.494Z"
   },
   {
    "duration": 22,
    "start_time": "2023-01-07T13:45:51.527Z"
   },
   {
    "duration": 305,
    "start_time": "2023-01-07T13:46:19.671Z"
   },
   {
    "duration": 344,
    "start_time": "2023-01-07T13:46:49.240Z"
   },
   {
    "duration": 297,
    "start_time": "2023-01-07T13:47:18.974Z"
   },
   {
    "duration": 323,
    "start_time": "2023-01-07T13:47:42.395Z"
   },
   {
    "duration": 300,
    "start_time": "2023-01-07T13:50:32.920Z"
   },
   {
    "duration": 574,
    "start_time": "2023-01-07T13:50:54.976Z"
   },
   {
    "duration": 105,
    "start_time": "2023-01-07T13:50:55.553Z"
   },
   {
    "duration": 16,
    "start_time": "2023-01-07T13:50:55.659Z"
   },
   {
    "duration": 1951,
    "start_time": "2023-01-07T13:50:55.676Z"
   },
   {
    "duration": 13,
    "start_time": "2023-01-07T13:50:57.630Z"
   },
   {
    "duration": 43,
    "start_time": "2023-01-07T13:50:57.645Z"
   },
   {
    "duration": 17,
    "start_time": "2023-01-07T13:50:57.690Z"
   },
   {
    "duration": 38,
    "start_time": "2023-01-07T13:50:57.709Z"
   },
   {
    "duration": 69,
    "start_time": "2023-01-07T13:50:57.750Z"
   },
   {
    "duration": 15,
    "start_time": "2023-01-07T13:50:57.822Z"
   },
   {
    "duration": 110,
    "start_time": "2023-01-07T13:50:57.839Z"
   },
   {
    "duration": 34,
    "start_time": "2023-01-07T13:50:57.951Z"
   },
   {
    "duration": 35,
    "start_time": "2023-01-07T13:50:57.987Z"
   },
   {
    "duration": 19,
    "start_time": "2023-01-07T13:50:58.025Z"
   },
   {
    "duration": 103,
    "start_time": "2023-01-07T13:50:58.045Z"
   },
   {
    "duration": 105,
    "start_time": "2023-01-07T13:50:58.150Z"
   },
   {
    "duration": 16,
    "start_time": "2023-01-07T13:50:58.257Z"
   },
   {
    "duration": 17,
    "start_time": "2023-01-07T13:50:58.275Z"
   },
   {
    "duration": 43,
    "start_time": "2023-01-07T13:50:58.294Z"
   },
   {
    "duration": 18,
    "start_time": "2023-01-07T13:50:58.339Z"
   },
   {
    "duration": 16,
    "start_time": "2023-01-07T13:50:58.359Z"
   },
   {
    "duration": 39,
    "start_time": "2023-01-07T13:50:58.377Z"
   },
   {
    "duration": 47,
    "start_time": "2023-01-07T13:50:58.418Z"
   },
   {
    "duration": 381,
    "start_time": "2023-01-07T13:50:58.467Z"
   },
   {
    "duration": 0,
    "start_time": "2023-01-07T13:50:58.850Z"
   },
   {
    "duration": 41,
    "start_time": "2023-01-07T13:51:33.411Z"
   },
   {
    "duration": 1112,
    "start_time": "2023-01-07T13:53:55.164Z"
   },
   {
    "duration": 24,
    "start_time": "2023-01-07T13:54:29.098Z"
   },
   {
    "duration": 39,
    "start_time": "2023-01-07T13:54:44.931Z"
   },
   {
    "duration": 583,
    "start_time": "2023-01-07T13:55:19.280Z"
   },
   {
    "duration": 107,
    "start_time": "2023-01-07T13:55:19.865Z"
   },
   {
    "duration": 15,
    "start_time": "2023-01-07T13:55:19.973Z"
   },
   {
    "duration": 1932,
    "start_time": "2023-01-07T13:55:19.990Z"
   },
   {
    "duration": 12,
    "start_time": "2023-01-07T13:55:21.924Z"
   },
   {
    "duration": 31,
    "start_time": "2023-01-07T13:55:21.938Z"
   },
   {
    "duration": 59,
    "start_time": "2023-01-07T13:55:21.971Z"
   },
   {
    "duration": 13,
    "start_time": "2023-01-07T13:55:22.032Z"
   },
   {
    "duration": 75,
    "start_time": "2023-01-07T13:55:22.047Z"
   },
   {
    "duration": 11,
    "start_time": "2023-01-07T13:55:22.124Z"
   },
   {
    "duration": 107,
    "start_time": "2023-01-07T13:55:22.137Z"
   },
   {
    "duration": 86,
    "start_time": "2023-01-07T13:55:22.245Z"
   },
   {
    "duration": 24,
    "start_time": "2023-01-07T13:55:22.332Z"
   },
   {
    "duration": 71,
    "start_time": "2023-01-07T13:55:22.357Z"
   },
   {
    "duration": 141,
    "start_time": "2023-01-07T13:55:22.429Z"
   },
   {
    "duration": 198,
    "start_time": "2023-01-07T13:55:22.572Z"
   },
   {
    "duration": 19,
    "start_time": "2023-01-07T13:55:22.822Z"
   },
   {
    "duration": 6,
    "start_time": "2023-01-07T13:55:22.842Z"
   },
   {
    "duration": 19,
    "start_time": "2023-01-07T13:55:22.850Z"
   },
   {
    "duration": 67,
    "start_time": "2023-01-07T13:55:22.870Z"
   },
   {
    "duration": 16,
    "start_time": "2023-01-07T13:55:22.940Z"
   },
   {
    "duration": 12,
    "start_time": "2023-01-07T13:55:23.267Z"
   },
   {
    "duration": 47,
    "start_time": "2023-01-07T13:55:23.281Z"
   },
   {
    "duration": 94,
    "start_time": "2023-01-07T13:55:23.329Z"
   },
   {
    "duration": 24,
    "start_time": "2023-01-07T13:55:23.425Z"
   },
   {
    "duration": 1210,
    "start_time": "2023-01-07T13:59:58.475Z"
   },
   {
    "duration": 1125,
    "start_time": "2023-01-07T14:00:48.302Z"
   },
   {
    "duration": 868,
    "start_time": "2023-01-07T14:02:39.575Z"
   },
   {
    "duration": 43,
    "start_time": "2023-01-07T14:04:26.293Z"
   },
   {
    "duration": 846,
    "start_time": "2023-01-07T14:05:16.695Z"
   },
   {
    "duration": 1763,
    "start_time": "2023-01-07T14:05:34.832Z"
   },
   {
    "duration": 1702,
    "start_time": "2023-01-07T14:05:51.067Z"
   },
   {
    "duration": 23,
    "start_time": "2023-01-07T14:10:21.863Z"
   },
   {
    "duration": 10146,
    "start_time": "2023-01-07T14:10:33.994Z"
   },
   {
    "duration": 614,
    "start_time": "2023-01-07T14:10:59.759Z"
   },
   {
    "duration": 104,
    "start_time": "2023-01-07T14:11:00.375Z"
   },
   {
    "duration": 14,
    "start_time": "2023-01-07T14:11:00.481Z"
   },
   {
    "duration": 2019,
    "start_time": "2023-01-07T14:11:00.497Z"
   },
   {
    "duration": 14,
    "start_time": "2023-01-07T14:11:02.519Z"
   },
   {
    "duration": 29,
    "start_time": "2023-01-07T14:11:02.535Z"
   },
   {
    "duration": 12,
    "start_time": "2023-01-07T14:11:02.566Z"
   },
   {
    "duration": 20,
    "start_time": "2023-01-07T14:11:02.580Z"
   },
   {
    "duration": 47,
    "start_time": "2023-01-07T14:11:02.602Z"
   },
   {
    "duration": 12,
    "start_time": "2023-01-07T14:11:02.652Z"
   },
   {
    "duration": 94,
    "start_time": "2023-01-07T14:11:02.666Z"
   },
   {
    "duration": 39,
    "start_time": "2023-01-07T14:11:02.763Z"
   },
   {
    "duration": 37,
    "start_time": "2023-01-07T14:11:02.803Z"
   },
   {
    "duration": 19,
    "start_time": "2023-01-07T14:11:02.843Z"
   },
   {
    "duration": 117,
    "start_time": "2023-01-07T14:11:02.864Z"
   },
   {
    "duration": 114,
    "start_time": "2023-01-07T14:11:02.982Z"
   },
   {
    "duration": 31,
    "start_time": "2023-01-07T14:11:03.097Z"
   },
   {
    "duration": 13,
    "start_time": "2023-01-07T14:11:03.130Z"
   },
   {
    "duration": 43,
    "start_time": "2023-01-07T14:11:03.144Z"
   },
   {
    "duration": 38,
    "start_time": "2023-01-07T14:11:03.189Z"
   },
   {
    "duration": 68,
    "start_time": "2023-01-07T14:11:03.230Z"
   },
   {
    "duration": 70,
    "start_time": "2023-01-07T14:11:03.300Z"
   },
   {
    "duration": 45,
    "start_time": "2023-01-07T14:11:03.372Z"
   },
   {
    "duration": 1202,
    "start_time": "2023-01-07T14:11:03.419Z"
   },
   {
    "duration": 0,
    "start_time": "2023-01-07T14:11:04.624Z"
   },
   {
    "duration": 1926,
    "start_time": "2023-01-07T14:11:29.481Z"
   },
   {
    "duration": 1781,
    "start_time": "2023-01-07T14:15:34.059Z"
   },
   {
    "duration": 1856,
    "start_time": "2023-01-07T14:15:51.772Z"
   },
   {
    "duration": 2601,
    "start_time": "2023-01-07T14:17:19.301Z"
   },
   {
    "duration": 2421,
    "start_time": "2023-01-07T14:18:49.345Z"
   },
   {
    "duration": 645,
    "start_time": "2023-01-07T14:28:35.218Z"
   },
   {
    "duration": 102,
    "start_time": "2023-01-07T14:28:35.865Z"
   },
   {
    "duration": 15,
    "start_time": "2023-01-07T14:28:35.968Z"
   },
   {
    "duration": 2086,
    "start_time": "2023-01-07T14:28:35.986Z"
   },
   {
    "duration": 12,
    "start_time": "2023-01-07T14:28:38.074Z"
   },
   {
    "duration": 27,
    "start_time": "2023-01-07T14:28:38.088Z"
   },
   {
    "duration": 11,
    "start_time": "2023-01-07T14:28:38.116Z"
   },
   {
    "duration": 17,
    "start_time": "2023-01-07T14:28:38.128Z"
   },
   {
    "duration": 26,
    "start_time": "2023-01-07T14:28:38.146Z"
   },
   {
    "duration": 12,
    "start_time": "2023-01-07T14:28:38.174Z"
   },
   {
    "duration": 83,
    "start_time": "2023-01-07T14:28:38.187Z"
   },
   {
    "duration": 32,
    "start_time": "2023-01-07T14:28:38.271Z"
   },
   {
    "duration": 27,
    "start_time": "2023-01-07T14:28:38.321Z"
   },
   {
    "duration": 20,
    "start_time": "2023-01-07T14:28:38.350Z"
   },
   {
    "duration": 110,
    "start_time": "2023-01-07T14:28:38.371Z"
   },
   {
    "duration": 116,
    "start_time": "2023-01-07T14:28:38.482Z"
   },
   {
    "duration": 36,
    "start_time": "2023-01-07T14:28:38.601Z"
   },
   {
    "duration": 9,
    "start_time": "2023-01-07T14:28:38.639Z"
   },
   {
    "duration": 22,
    "start_time": "2023-01-07T14:28:38.650Z"
   },
   {
    "duration": 21,
    "start_time": "2023-01-07T14:28:38.673Z"
   },
   {
    "duration": 42,
    "start_time": "2023-01-07T14:28:38.696Z"
   },
   {
    "duration": 19,
    "start_time": "2023-01-07T14:28:38.740Z"
   },
   {
    "duration": 28,
    "start_time": "2023-01-07T14:28:38.761Z"
   },
   {
    "duration": 1473,
    "start_time": "2023-01-07T14:28:38.792Z"
   },
   {
    "duration": 2555,
    "start_time": "2023-01-07T14:28:40.267Z"
   },
   {
    "duration": 927,
    "start_time": "2023-01-07T20:18:01.337Z"
   },
   {
    "duration": 194,
    "start_time": "2023-01-07T20:18:02.266Z"
   },
   {
    "duration": 19,
    "start_time": "2023-01-07T20:18:02.462Z"
   },
   {
    "duration": 2178,
    "start_time": "2023-01-07T20:18:02.483Z"
   },
   {
    "duration": 17,
    "start_time": "2023-01-07T20:18:04.663Z"
   },
   {
    "duration": 44,
    "start_time": "2023-01-07T20:18:04.683Z"
   },
   {
    "duration": 32,
    "start_time": "2023-01-07T20:18:04.729Z"
   },
   {
    "duration": 11,
    "start_time": "2023-01-07T20:18:04.763Z"
   },
   {
    "duration": 31,
    "start_time": "2023-01-07T20:18:04.777Z"
   },
   {
    "duration": 49,
    "start_time": "2023-01-07T20:18:04.811Z"
   },
   {
    "duration": 67,
    "start_time": "2023-01-07T20:18:04.861Z"
   },
   {
    "duration": 51,
    "start_time": "2023-01-07T20:18:04.930Z"
   },
   {
    "duration": 26,
    "start_time": "2023-01-07T20:18:04.983Z"
   },
   {
    "duration": 44,
    "start_time": "2023-01-07T20:18:05.011Z"
   },
   {
    "duration": 107,
    "start_time": "2023-01-07T20:18:05.056Z"
   },
   {
    "duration": 123,
    "start_time": "2023-01-07T20:18:05.165Z"
   },
   {
    "duration": 28,
    "start_time": "2023-01-07T20:18:05.290Z"
   },
   {
    "duration": 10,
    "start_time": "2023-01-07T20:18:05.320Z"
   },
   {
    "duration": 30,
    "start_time": "2023-01-07T20:18:05.351Z"
   },
   {
    "duration": 20,
    "start_time": "2023-01-07T20:18:05.384Z"
   },
   {
    "duration": 18,
    "start_time": "2023-01-07T20:18:05.406Z"
   },
   {
    "duration": 18,
    "start_time": "2023-01-07T20:18:05.451Z"
   },
   {
    "duration": 24,
    "start_time": "2023-01-07T20:18:05.471Z"
   },
   {
    "duration": 1537,
    "start_time": "2023-01-07T20:18:05.497Z"
   },
   {
    "duration": 3001,
    "start_time": "2023-01-07T20:18:07.050Z"
   },
   {
    "duration": 12,
    "start_time": "2023-01-07T20:21:05.719Z"
   },
   {
    "duration": 12,
    "start_time": "2023-01-07T20:21:18.672Z"
   },
   {
    "duration": 10,
    "start_time": "2023-01-07T20:21:35.267Z"
   },
   {
    "duration": 16,
    "start_time": "2023-01-07T20:23:45.766Z"
   },
   {
    "duration": 15,
    "start_time": "2023-01-07T20:25:14.377Z"
   },
   {
    "duration": 25,
    "start_time": "2023-01-07T20:26:36.179Z"
   },
   {
    "duration": 12,
    "start_time": "2023-01-07T20:28:05.024Z"
   },
   {
    "duration": 11,
    "start_time": "2023-01-07T20:29:49.629Z"
   },
   {
    "duration": 2836,
    "start_time": "2023-01-07T20:30:23.055Z"
   },
   {
    "duration": 13,
    "start_time": "2023-01-07T20:31:51.780Z"
   },
   {
    "duration": 9,
    "start_time": "2023-01-07T20:32:56.805Z"
   },
   {
    "duration": 10,
    "start_time": "2023-01-07T20:34:08.215Z"
   },
   {
    "duration": 9,
    "start_time": "2023-01-07T20:35:36.820Z"
   },
   {
    "duration": 25,
    "start_time": "2023-01-07T20:35:57.147Z"
   },
   {
    "duration": 14,
    "start_time": "2023-01-07T20:39:21.456Z"
   },
   {
    "duration": 12,
    "start_time": "2023-01-07T20:41:02.330Z"
   },
   {
    "duration": 22,
    "start_time": "2023-01-07T20:43:22.238Z"
   },
   {
    "duration": 17,
    "start_time": "2023-01-07T20:44:21.709Z"
   },
   {
    "duration": 1302,
    "start_time": "2023-01-07T20:46:04.627Z"
   },
   {
    "duration": 10,
    "start_time": "2023-01-07T20:46:38.527Z"
   },
   {
    "duration": 16,
    "start_time": "2023-01-07T20:47:49.159Z"
   },
   {
    "duration": 11,
    "start_time": "2023-01-07T20:48:41.173Z"
   },
   {
    "duration": 2834,
    "start_time": "2023-01-07T20:48:51.079Z"
   },
   {
    "duration": 16,
    "start_time": "2023-01-07T20:49:39.758Z"
   },
   {
    "duration": 3146,
    "start_time": "2023-01-07T20:50:16.418Z"
   },
   {
    "duration": 185,
    "start_time": "2023-01-07T20:53:26.051Z"
   },
   {
    "duration": 174,
    "start_time": "2023-01-07T20:53:51.836Z"
   },
   {
    "duration": 207,
    "start_time": "2023-01-07T20:54:37.023Z"
   },
   {
    "duration": 196,
    "start_time": "2023-01-07T20:55:26.412Z"
   },
   {
    "duration": 174,
    "start_time": "2023-01-07T20:56:26.001Z"
   },
   {
    "duration": 193,
    "start_time": "2023-01-07T20:56:49.205Z"
   },
   {
    "duration": 4480,
    "start_time": "2023-01-07T21:08:57.526Z"
   },
   {
    "duration": 2072,
    "start_time": "2023-01-07T21:09:11.529Z"
   },
   {
    "duration": 156,
    "start_time": "2023-01-07T21:09:41.959Z"
   },
   {
    "duration": 187,
    "start_time": "2023-01-07T21:10:45.642Z"
   },
   {
    "duration": 1186,
    "start_time": "2023-01-07T21:29:31.203Z"
   },
   {
    "duration": 197,
    "start_time": "2023-01-07T21:30:13.748Z"
   },
   {
    "duration": 207,
    "start_time": "2023-01-07T21:30:29.668Z"
   },
   {
    "duration": 1592,
    "start_time": "2023-01-07T21:34:19.372Z"
   },
   {
    "duration": 1960,
    "start_time": "2023-01-07T21:34:31.692Z"
   },
   {
    "duration": 1472,
    "start_time": "2023-01-07T21:35:36.217Z"
   },
   {
    "duration": 1546,
    "start_time": "2023-01-07T21:37:09.471Z"
   },
   {
    "duration": 2094,
    "start_time": "2023-01-07T21:38:23.104Z"
   },
   {
    "duration": 2427,
    "start_time": "2023-01-07T21:39:03.589Z"
   },
   {
    "duration": 2077,
    "start_time": "2023-01-07T21:39:40.247Z"
   },
   {
    "duration": 2047,
    "start_time": "2023-01-07T21:39:48.413Z"
   },
   {
    "duration": 1508,
    "start_time": "2023-01-07T21:40:13.425Z"
   },
   {
    "duration": 1848,
    "start_time": "2023-01-07T21:48:19.444Z"
   },
   {
    "duration": 11,
    "start_time": "2023-01-07T22:08:38.849Z"
   },
   {
    "duration": 27,
    "start_time": "2023-01-07T22:09:11.902Z"
   },
   {
    "duration": 74,
    "start_time": "2023-01-07T22:10:10.020Z"
   },
   {
    "duration": 11,
    "start_time": "2023-01-07T22:10:18.697Z"
   },
   {
    "duration": 16,
    "start_time": "2023-01-07T22:11:29.917Z"
   },
   {
    "duration": 7,
    "start_time": "2023-01-07T22:11:36.507Z"
   },
   {
    "duration": 10,
    "start_time": "2023-01-07T22:11:44.457Z"
   },
   {
    "duration": 11,
    "start_time": "2023-01-07T22:12:01.733Z"
   },
   {
    "duration": 16,
    "start_time": "2023-01-07T22:13:05.103Z"
   },
   {
    "duration": 16,
    "start_time": "2023-01-07T22:13:22.538Z"
   },
   {
    "duration": 12,
    "start_time": "2023-01-07T22:13:47.967Z"
   },
   {
    "duration": 8,
    "start_time": "2023-01-07T22:18:51.066Z"
   },
   {
    "duration": 17,
    "start_time": "2023-01-07T22:21:51.775Z"
   },
   {
    "duration": 16,
    "start_time": "2023-01-07T22:22:32.068Z"
   },
   {
    "duration": 16,
    "start_time": "2023-01-07T22:22:37.613Z"
   },
   {
    "duration": 75,
    "start_time": "2023-01-07T22:24:45.820Z"
   },
   {
    "duration": 13,
    "start_time": "2023-01-07T22:24:51.559Z"
   },
   {
    "duration": 14,
    "start_time": "2023-01-07T22:25:03.943Z"
   },
   {
    "duration": 15,
    "start_time": "2023-01-07T22:25:12.355Z"
   },
   {
    "duration": 18,
    "start_time": "2023-01-07T22:25:43.909Z"
   },
   {
    "duration": 18,
    "start_time": "2023-01-07T22:26:35.796Z"
   },
   {
    "duration": 15,
    "start_time": "2023-01-07T22:26:43.863Z"
   },
   {
    "duration": 9,
    "start_time": "2023-01-07T22:27:46.817Z"
   },
   {
    "duration": 15,
    "start_time": "2023-01-07T22:27:54.911Z"
   },
   {
    "duration": 17,
    "start_time": "2023-01-07T22:28:15.255Z"
   },
   {
    "duration": 17,
    "start_time": "2023-01-07T22:28:37.251Z"
   },
   {
    "duration": 16,
    "start_time": "2023-01-07T22:29:15.576Z"
   },
   {
    "duration": 10,
    "start_time": "2023-01-07T22:31:06.844Z"
   },
   {
    "duration": 14,
    "start_time": "2023-01-07T22:31:23.977Z"
   },
   {
    "duration": 8,
    "start_time": "2023-01-07T22:31:26.966Z"
   },
   {
    "duration": 11,
    "start_time": "2023-01-07T22:45:09.645Z"
   },
   {
    "duration": 32,
    "start_time": "2023-01-07T22:45:42.621Z"
   },
   {
    "duration": 618,
    "start_time": "2023-01-07T22:46:44.697Z"
   },
   {
    "duration": 108,
    "start_time": "2023-01-07T22:46:45.317Z"
   },
   {
    "duration": 24,
    "start_time": "2023-01-07T22:46:45.427Z"
   },
   {
    "duration": 2016,
    "start_time": "2023-01-07T22:46:45.452Z"
   },
   {
    "duration": 13,
    "start_time": "2023-01-07T22:46:47.471Z"
   },
   {
    "duration": 29,
    "start_time": "2023-01-07T22:46:47.486Z"
   },
   {
    "duration": 13,
    "start_time": "2023-01-07T22:46:47.517Z"
   },
   {
    "duration": 21,
    "start_time": "2023-01-07T22:46:47.532Z"
   },
   {
    "duration": 27,
    "start_time": "2023-01-07T22:46:47.555Z"
   },
   {
    "duration": 12,
    "start_time": "2023-01-07T22:46:47.583Z"
   },
   {
    "duration": 92,
    "start_time": "2023-01-07T22:46:47.597Z"
   },
   {
    "duration": 33,
    "start_time": "2023-01-07T22:46:47.690Z"
   },
   {
    "duration": 43,
    "start_time": "2023-01-07T22:46:47.724Z"
   },
   {
    "duration": 22,
    "start_time": "2023-01-07T22:46:47.770Z"
   },
   {
    "duration": 113,
    "start_time": "2023-01-07T22:46:47.793Z"
   },
   {
    "duration": 109,
    "start_time": "2023-01-07T22:46:47.908Z"
   },
   {
    "duration": 32,
    "start_time": "2023-01-07T22:46:48.019Z"
   },
   {
    "duration": 7,
    "start_time": "2023-01-07T22:46:48.053Z"
   },
   {
    "duration": 20,
    "start_time": "2023-01-07T22:46:48.062Z"
   },
   {
    "duration": 18,
    "start_time": "2023-01-07T22:46:48.083Z"
   },
   {
    "duration": 16,
    "start_time": "2023-01-07T22:46:48.103Z"
   },
   {
    "duration": 16,
    "start_time": "2023-01-07T22:46:48.150Z"
   },
   {
    "duration": 20,
    "start_time": "2023-01-07T22:46:48.168Z"
   },
   {
    "duration": 1573,
    "start_time": "2023-01-07T22:46:48.190Z"
   },
   {
    "duration": 2851,
    "start_time": "2023-01-07T22:46:49.765Z"
   },
   {
    "duration": 10,
    "start_time": "2023-01-07T22:46:52.618Z"
   },
   {
    "duration": 186,
    "start_time": "2023-01-07T22:46:52.630Z"
   },
   {
    "duration": 1592,
    "start_time": "2023-01-07T22:46:52.817Z"
   },
   {
    "duration": 14,
    "start_time": "2023-01-07T22:46:54.411Z"
   },
   {
    "duration": 106,
    "start_time": "2023-01-07T22:46:54.426Z"
   },
   {
    "duration": 41,
    "start_time": "2023-01-07T22:47:32.353Z"
   },
   {
    "duration": 32,
    "start_time": "2023-01-07T22:47:38.251Z"
   },
   {
    "duration": 7,
    "start_time": "2023-01-07T22:48:25.581Z"
   },
   {
    "duration": 46,
    "start_time": "2023-01-07T22:48:33.023Z"
   },
   {
    "duration": 55,
    "start_time": "2023-01-07T22:53:30.926Z"
   },
   {
    "duration": 10,
    "start_time": "2023-01-07T22:57:58.290Z"
   },
   {
    "duration": 13,
    "start_time": "2023-01-07T22:58:08.282Z"
   },
   {
    "duration": 55,
    "start_time": "2023-01-07T23:01:03.824Z"
   },
   {
    "duration": 73,
    "start_time": "2023-01-07T23:01:42.116Z"
   },
   {
    "duration": 15,
    "start_time": "2023-01-07T23:04:46.802Z"
   },
   {
    "duration": 54,
    "start_time": "2023-01-07T23:04:58.633Z"
   },
   {
    "duration": 55,
    "start_time": "2023-01-07T23:06:19.433Z"
   },
   {
    "duration": 16,
    "start_time": "2023-01-07T23:06:48.479Z"
   },
   {
    "duration": 822,
    "start_time": "2023-01-08T09:11:02.550Z"
   },
   {
    "duration": 740,
    "start_time": "2023-01-08T09:11:03.375Z"
   },
   {
    "duration": 20,
    "start_time": "2023-01-08T09:11:04.118Z"
   },
   {
    "duration": 2053,
    "start_time": "2023-01-08T09:11:04.140Z"
   },
   {
    "duration": 14,
    "start_time": "2023-01-08T09:11:06.196Z"
   },
   {
    "duration": 42,
    "start_time": "2023-01-08T09:11:06.212Z"
   },
   {
    "duration": 12,
    "start_time": "2023-01-08T09:11:06.256Z"
   },
   {
    "duration": 11,
    "start_time": "2023-01-08T09:11:06.269Z"
   },
   {
    "duration": 55,
    "start_time": "2023-01-08T09:11:06.282Z"
   },
   {
    "duration": 11,
    "start_time": "2023-01-08T09:11:06.339Z"
   },
   {
    "duration": 77,
    "start_time": "2023-01-08T09:11:06.352Z"
   },
   {
    "duration": 33,
    "start_time": "2023-01-08T09:11:06.431Z"
   },
   {
    "duration": 25,
    "start_time": "2023-01-08T09:11:06.465Z"
   },
   {
    "duration": 45,
    "start_time": "2023-01-08T09:11:06.493Z"
   },
   {
    "duration": 99,
    "start_time": "2023-01-08T09:11:06.540Z"
   },
   {
    "duration": 123,
    "start_time": "2023-01-08T09:11:06.641Z"
   },
   {
    "duration": 22,
    "start_time": "2023-01-08T09:11:06.766Z"
   },
   {
    "duration": 9,
    "start_time": "2023-01-08T09:11:06.791Z"
   },
   {
    "duration": 45,
    "start_time": "2023-01-08T09:11:06.803Z"
   },
   {
    "duration": 19,
    "start_time": "2023-01-08T09:11:06.850Z"
   },
   {
    "duration": 21,
    "start_time": "2023-01-08T09:11:06.871Z"
   },
   {
    "duration": 22,
    "start_time": "2023-01-08T09:11:06.894Z"
   },
   {
    "duration": 38,
    "start_time": "2023-01-08T09:11:06.918Z"
   },
   {
    "duration": 1658,
    "start_time": "2023-01-08T09:11:06.958Z"
   },
   {
    "duration": 2876,
    "start_time": "2023-01-08T09:11:08.618Z"
   },
   {
    "duration": 10,
    "start_time": "2023-01-08T09:11:11.496Z"
   },
   {
    "duration": 200,
    "start_time": "2023-01-08T09:11:11.508Z"
   },
   {
    "duration": 1669,
    "start_time": "2023-01-08T09:11:11.710Z"
   },
   {
    "duration": 13,
    "start_time": "2023-01-08T09:11:13.381Z"
   },
   {
    "duration": 27,
    "start_time": "2023-01-08T09:11:13.396Z"
   },
   {
    "duration": 9,
    "start_time": "2023-01-08T09:51:26.299Z"
   },
   {
    "duration": 80,
    "start_time": "2023-01-08T09:51:49.883Z"
   },
   {
    "duration": 8,
    "start_time": "2023-01-08T09:51:55.705Z"
   },
   {
    "duration": 12,
    "start_time": "2023-01-08T09:55:38.281Z"
   },
   {
    "duration": 12,
    "start_time": "2023-01-08T09:55:52.422Z"
   },
   {
    "duration": 9,
    "start_time": "2023-01-08T09:58:04.201Z"
   },
   {
    "duration": 53,
    "start_time": "2023-01-08T09:59:28.016Z"
   },
   {
    "duration": 70,
    "start_time": "2023-01-08T09:59:47.805Z"
   },
   {
    "duration": 59,
    "start_time": "2023-01-08T10:03:23.788Z"
   },
   {
    "duration": 53,
    "start_time": "2023-01-08T10:03:33.011Z"
   },
   {
    "duration": 66,
    "start_time": "2023-01-08T10:03:40.684Z"
   },
   {
    "duration": 1400,
    "start_time": "2023-01-08T10:05:11.791Z"
   },
   {
    "duration": 66,
    "start_time": "2023-01-08T10:22:53.643Z"
   },
   {
    "duration": 12,
    "start_time": "2023-01-08T10:40:55.324Z"
   },
   {
    "duration": 12,
    "start_time": "2023-01-08T10:48:44.058Z"
   },
   {
    "duration": 11,
    "start_time": "2023-01-08T10:48:51.577Z"
   },
   {
    "duration": 12,
    "start_time": "2023-01-08T10:49:36.163Z"
   },
   {
    "duration": 802,
    "start_time": "2023-01-08T15:57:46.034Z"
   },
   {
    "duration": 330,
    "start_time": "2023-01-08T15:57:46.839Z"
   },
   {
    "duration": 14,
    "start_time": "2023-01-08T15:57:47.170Z"
   },
   {
    "duration": 2706,
    "start_time": "2023-01-08T15:57:47.186Z"
   },
   {
    "duration": 12,
    "start_time": "2023-01-08T15:57:49.893Z"
   },
   {
    "duration": 26,
    "start_time": "2023-01-08T15:57:49.906Z"
   },
   {
    "duration": 11,
    "start_time": "2023-01-08T15:57:49.933Z"
   },
   {
    "duration": 12,
    "start_time": "2023-01-08T15:57:49.945Z"
   },
   {
    "duration": 26,
    "start_time": "2023-01-08T15:57:49.958Z"
   },
   {
    "duration": 10,
    "start_time": "2023-01-08T15:57:49.986Z"
   },
   {
    "duration": 59,
    "start_time": "2023-01-08T15:57:50.021Z"
   },
   {
    "duration": 41,
    "start_time": "2023-01-08T15:57:50.081Z"
   },
   {
    "duration": 23,
    "start_time": "2023-01-08T15:57:50.123Z"
   },
   {
    "duration": 17,
    "start_time": "2023-01-08T15:57:50.148Z"
   },
   {
    "duration": 101,
    "start_time": "2023-01-08T15:57:50.167Z"
   },
   {
    "duration": 104,
    "start_time": "2023-01-08T15:57:50.269Z"
   },
   {
    "duration": 16,
    "start_time": "2023-01-08T15:57:50.374Z"
   },
   {
    "duration": 6,
    "start_time": "2023-01-08T15:57:50.392Z"
   },
   {
    "duration": 36,
    "start_time": "2023-01-08T15:57:50.399Z"
   },
   {
    "duration": 15,
    "start_time": "2023-01-08T15:57:50.436Z"
   },
   {
    "duration": 15,
    "start_time": "2023-01-08T15:57:50.453Z"
   },
   {
    "duration": 11,
    "start_time": "2023-01-08T15:57:50.469Z"
   },
   {
    "duration": 41,
    "start_time": "2023-01-08T15:57:50.481Z"
   },
   {
    "duration": 1351,
    "start_time": "2023-01-08T15:57:50.523Z"
   },
   {
    "duration": 2476,
    "start_time": "2023-01-08T15:57:51.876Z"
   },
   {
    "duration": 9,
    "start_time": "2023-01-08T15:57:54.354Z"
   },
   {
    "duration": 159,
    "start_time": "2023-01-08T15:57:54.364Z"
   },
   {
    "duration": 10,
    "start_time": "2023-01-08T15:57:54.526Z"
   },
   {
    "duration": 10,
    "start_time": "2023-01-08T15:57:54.538Z"
   },
   {
    "duration": 1479,
    "start_time": "2023-01-08T15:57:54.549Z"
   },
   {
    "duration": 13,
    "start_time": "2023-01-08T15:57:56.029Z"
   },
   {
    "duration": 15,
    "start_time": "2023-01-08T15:57:56.044Z"
   },
   {
    "duration": 13,
    "start_time": "2023-01-08T15:59:20.283Z"
   },
   {
    "duration": 14,
    "start_time": "2023-01-08T16:01:38.151Z"
   },
   {
    "duration": 6,
    "start_time": "2023-01-08T16:01:51.871Z"
   },
   {
    "duration": 13,
    "start_time": "2023-01-08T16:02:13.146Z"
   },
   {
    "duration": 13,
    "start_time": "2023-01-08T16:05:55.136Z"
   },
   {
    "duration": 18,
    "start_time": "2023-01-08T16:07:11.483Z"
   },
   {
    "duration": 4,
    "start_time": "2023-01-08T16:07:27.569Z"
   },
   {
    "duration": 14,
    "start_time": "2023-01-08T16:07:35.286Z"
   },
   {
    "duration": 42,
    "start_time": "2023-01-08T16:08:17.001Z"
   },
   {
    "duration": 15,
    "start_time": "2023-01-08T16:08:32.461Z"
   },
   {
    "duration": 15,
    "start_time": "2023-01-08T16:08:50.166Z"
   },
   {
    "duration": 12,
    "start_time": "2023-01-08T16:08:58.709Z"
   },
   {
    "duration": 16,
    "start_time": "2023-01-08T16:09:34.756Z"
   },
   {
    "duration": 14,
    "start_time": "2023-01-08T16:09:58.744Z"
   },
   {
    "duration": 725,
    "start_time": "2023-01-08T16:11:02.512Z"
   },
   {
    "duration": 16,
    "start_time": "2023-01-08T16:11:50.070Z"
   },
   {
    "duration": 14,
    "start_time": "2023-01-08T16:12:04.793Z"
   },
   {
    "duration": 3,
    "start_time": "2023-01-08T16:12:42.649Z"
   },
   {
    "duration": 30,
    "start_time": "2023-01-08T16:12:50.013Z"
   },
   {
    "duration": 687,
    "start_time": "2023-01-08T16:13:36.960Z"
   },
   {
    "duration": 677,
    "start_time": "2023-01-08T16:14:06.752Z"
   },
   {
    "duration": 11,
    "start_time": "2023-01-08T16:14:39.523Z"
   },
   {
    "duration": 12,
    "start_time": "2023-01-08T16:15:12.199Z"
   },
   {
    "duration": 9,
    "start_time": "2023-01-08T16:15:48.513Z"
   },
   {
    "duration": 14,
    "start_time": "2023-01-08T16:16:21.704Z"
   },
   {
    "duration": 13,
    "start_time": "2023-01-08T16:16:37.032Z"
   },
   {
    "duration": 18,
    "start_time": "2023-01-08T16:16:42.834Z"
   },
   {
    "duration": 18,
    "start_time": "2023-01-08T16:17:09.615Z"
   },
   {
    "duration": 19,
    "start_time": "2023-01-08T16:17:45.755Z"
   },
   {
    "duration": 19,
    "start_time": "2023-01-08T16:18:10.299Z"
   },
   {
    "duration": 13,
    "start_time": "2023-01-08T16:21:18.356Z"
   },
   {
    "duration": 16,
    "start_time": "2023-01-08T16:21:45.580Z"
   },
   {
    "duration": 688,
    "start_time": "2023-01-08T16:22:58.656Z"
   },
   {
    "duration": 12,
    "start_time": "2023-01-08T16:23:30.537Z"
   },
   {
    "duration": 13,
    "start_time": "2023-01-08T16:23:38.157Z"
   },
   {
    "duration": 13,
    "start_time": "2023-01-08T16:23:49.804Z"
   },
   {
    "duration": 15,
    "start_time": "2023-01-08T16:24:06.449Z"
   },
   {
    "duration": 13,
    "start_time": "2023-01-08T16:24:13.144Z"
   },
   {
    "duration": 683,
    "start_time": "2023-01-08T17:23:11.226Z"
   },
   {
    "duration": 740,
    "start_time": "2023-01-08T17:23:11.911Z"
   },
   {
    "duration": 20,
    "start_time": "2023-01-08T17:23:12.659Z"
   },
   {
    "duration": 1952,
    "start_time": "2023-01-08T17:23:12.681Z"
   },
   {
    "duration": 16,
    "start_time": "2023-01-08T17:23:14.635Z"
   },
   {
    "duration": 29,
    "start_time": "2023-01-08T17:23:14.652Z"
   },
   {
    "duration": 10,
    "start_time": "2023-01-08T17:23:14.683Z"
   },
   {
    "duration": 8,
    "start_time": "2023-01-08T17:23:14.694Z"
   },
   {
    "duration": 61,
    "start_time": "2023-01-08T17:23:14.704Z"
   },
   {
    "duration": 10,
    "start_time": "2023-01-08T17:23:14.766Z"
   },
   {
    "duration": 80,
    "start_time": "2023-01-08T17:23:14.778Z"
   },
   {
    "duration": 29,
    "start_time": "2023-01-08T17:23:14.859Z"
   },
   {
    "duration": 24,
    "start_time": "2023-01-08T17:23:14.890Z"
   },
   {
    "duration": 21,
    "start_time": "2023-01-08T17:23:14.945Z"
   },
   {
    "duration": 90,
    "start_time": "2023-01-08T17:23:14.968Z"
   },
   {
    "duration": 105,
    "start_time": "2023-01-08T17:23:15.060Z"
   },
   {
    "duration": 17,
    "start_time": "2023-01-08T17:23:15.167Z"
   },
   {
    "duration": 6,
    "start_time": "2023-01-08T17:23:15.186Z"
   },
   {
    "duration": 21,
    "start_time": "2023-01-08T17:23:15.194Z"
   },
   {
    "duration": 23,
    "start_time": "2023-01-08T17:23:15.235Z"
   },
   {
    "duration": 20,
    "start_time": "2023-01-08T17:23:15.260Z"
   },
   {
    "duration": 13,
    "start_time": "2023-01-08T17:23:15.281Z"
   },
   {
    "duration": 44,
    "start_time": "2023-01-08T17:23:15.296Z"
   },
   {
    "duration": 1509,
    "start_time": "2023-01-08T17:23:15.347Z"
   },
   {
    "duration": 2799,
    "start_time": "2023-01-08T17:23:16.860Z"
   },
   {
    "duration": 11,
    "start_time": "2023-01-08T17:23:19.662Z"
   },
   {
    "duration": 187,
    "start_time": "2023-01-08T17:23:19.674Z"
   },
   {
    "duration": 16,
    "start_time": "2023-01-08T17:23:19.864Z"
   },
   {
    "duration": 15,
    "start_time": "2023-01-08T17:23:19.882Z"
   },
   {
    "duration": 25,
    "start_time": "2023-01-08T17:23:19.898Z"
   },
   {
    "duration": 28,
    "start_time": "2023-01-08T17:23:19.924Z"
   },
   {
    "duration": 1633,
    "start_time": "2023-01-08T17:23:19.954Z"
   },
   {
    "duration": 14,
    "start_time": "2023-01-08T17:23:21.589Z"
   },
   {
    "duration": 43,
    "start_time": "2023-01-08T17:23:21.605Z"
   },
   {
    "duration": 6,
    "start_time": "2023-01-08T19:15:28.434Z"
   },
   {
    "duration": 13,
    "start_time": "2023-01-08T19:16:56.338Z"
   },
   {
    "duration": 86,
    "start_time": "2023-01-08T19:17:01.001Z"
   },
   {
    "duration": 679,
    "start_time": "2023-01-08T19:17:08.036Z"
   },
   {
    "duration": 113,
    "start_time": "2023-01-08T19:17:08.717Z"
   },
   {
    "duration": 15,
    "start_time": "2023-01-08T19:17:08.832Z"
   },
   {
    "duration": 2108,
    "start_time": "2023-01-08T19:17:08.849Z"
   },
   {
    "duration": 15,
    "start_time": "2023-01-08T19:17:10.961Z"
   },
   {
    "duration": 34,
    "start_time": "2023-01-08T19:17:10.979Z"
   },
   {
    "duration": 23,
    "start_time": "2023-01-08T19:17:11.015Z"
   },
   {
    "duration": 17,
    "start_time": "2023-01-08T19:17:11.040Z"
   },
   {
    "duration": 59,
    "start_time": "2023-01-08T19:17:11.058Z"
   },
   {
    "duration": 13,
    "start_time": "2023-01-08T19:17:11.119Z"
   },
   {
    "duration": 73,
    "start_time": "2023-01-08T19:17:11.134Z"
   },
   {
    "duration": 33,
    "start_time": "2023-01-08T19:17:11.209Z"
   },
   {
    "duration": 24,
    "start_time": "2023-01-08T19:17:11.244Z"
   },
   {
    "duration": 19,
    "start_time": "2023-01-08T19:17:11.271Z"
   },
   {
    "duration": 124,
    "start_time": "2023-01-08T19:17:11.292Z"
   },
   {
    "duration": 123,
    "start_time": "2023-01-08T19:17:11.417Z"
   },
   {
    "duration": 19,
    "start_time": "2023-01-08T19:17:11.541Z"
   },
   {
    "duration": 19,
    "start_time": "2023-01-08T19:17:11.562Z"
   },
   {
    "duration": 23,
    "start_time": "2023-01-08T19:17:11.583Z"
   },
   {
    "duration": 30,
    "start_time": "2023-01-08T19:17:11.608Z"
   },
   {
    "duration": 21,
    "start_time": "2023-01-08T19:17:11.639Z"
   },
   {
    "duration": 13,
    "start_time": "2023-01-08T19:17:11.662Z"
   },
   {
    "duration": 30,
    "start_time": "2023-01-08T19:17:11.677Z"
   },
   {
    "duration": 80,
    "start_time": "2023-01-08T19:17:11.708Z"
   },
   {
    "duration": 1551,
    "start_time": "2023-01-08T19:17:11.790Z"
   },
   {
    "duration": 2739,
    "start_time": "2023-01-08T19:17:13.342Z"
   },
   {
    "duration": 10,
    "start_time": "2023-01-08T19:17:16.083Z"
   },
   {
    "duration": 192,
    "start_time": "2023-01-08T19:17:16.094Z"
   },
   {
    "duration": 12,
    "start_time": "2023-01-08T19:17:16.288Z"
   },
   {
    "duration": 11,
    "start_time": "2023-01-08T19:17:16.301Z"
   },
   {
    "duration": 31,
    "start_time": "2023-01-08T19:17:16.314Z"
   },
   {
    "duration": 32,
    "start_time": "2023-01-08T19:17:16.347Z"
   },
   {
    "duration": 1566,
    "start_time": "2023-01-08T19:17:16.381Z"
   },
   {
    "duration": 14,
    "start_time": "2023-01-08T19:17:17.948Z"
   },
   {
    "duration": 24,
    "start_time": "2023-01-08T19:17:17.964Z"
   },
   {
    "duration": 5,
    "start_time": "2023-01-08T19:17:44.073Z"
   },
   {
    "duration": 776,
    "start_time": "2023-01-09T03:50:53.193Z"
   },
   {
    "duration": 161,
    "start_time": "2023-01-09T03:50:53.972Z"
   },
   {
    "duration": 15,
    "start_time": "2023-01-09T03:50:54.135Z"
   },
   {
    "duration": 1876,
    "start_time": "2023-01-09T03:50:54.152Z"
   },
   {
    "duration": 12,
    "start_time": "2023-01-09T03:50:56.030Z"
   },
   {
    "duration": 28,
    "start_time": "2023-01-09T03:50:56.044Z"
   },
   {
    "duration": 11,
    "start_time": "2023-01-09T03:50:56.074Z"
   },
   {
    "duration": 11,
    "start_time": "2023-01-09T03:50:56.086Z"
   },
   {
    "duration": 25,
    "start_time": "2023-01-09T03:50:56.099Z"
   },
   {
    "duration": 12,
    "start_time": "2023-01-09T03:50:56.126Z"
   },
   {
    "duration": 84,
    "start_time": "2023-01-09T03:50:56.140Z"
   },
   {
    "duration": 33,
    "start_time": "2023-01-09T03:50:56.225Z"
   },
   {
    "duration": 27,
    "start_time": "2023-01-09T03:50:56.279Z"
   },
   {
    "duration": 20,
    "start_time": "2023-01-09T03:50:56.307Z"
   },
   {
    "duration": 111,
    "start_time": "2023-01-09T03:50:56.328Z"
   },
   {
    "duration": 100,
    "start_time": "2023-01-09T03:50:56.440Z"
   },
   {
    "duration": 21,
    "start_time": "2023-01-09T03:50:56.541Z"
   },
   {
    "duration": 7,
    "start_time": "2023-01-09T03:50:56.578Z"
   },
   {
    "duration": 18,
    "start_time": "2023-01-09T03:50:56.586Z"
   },
   {
    "duration": 16,
    "start_time": "2023-01-09T03:50:56.605Z"
   },
   {
    "duration": 15,
    "start_time": "2023-01-09T03:50:56.623Z"
   },
   {
    "duration": 46,
    "start_time": "2023-01-09T03:50:56.640Z"
   },
   {
    "duration": 17,
    "start_time": "2023-01-09T03:50:56.688Z"
   },
   {
    "duration": 1410,
    "start_time": "2023-01-09T03:50:56.707Z"
   },
   {
    "duration": 2602,
    "start_time": "2023-01-09T03:50:58.119Z"
   },
   {
    "duration": 10,
    "start_time": "2023-01-09T03:51:00.723Z"
   },
   {
    "duration": 171,
    "start_time": "2023-01-09T03:51:00.735Z"
   },
   {
    "duration": 12,
    "start_time": "2023-01-09T03:51:00.909Z"
   },
   {
    "duration": 28,
    "start_time": "2023-01-09T03:51:00.923Z"
   },
   {
    "duration": 39,
    "start_time": "2023-01-09T03:51:00.955Z"
   },
   {
    "duration": 20,
    "start_time": "2023-01-09T03:51:00.996Z"
   },
   {
    "duration": 1493,
    "start_time": "2023-01-09T03:51:01.018Z"
   },
   {
    "duration": 14,
    "start_time": "2023-01-09T03:51:02.512Z"
   },
   {
    "duration": 39,
    "start_time": "2023-01-09T03:51:02.528Z"
   },
   {
    "duration": 55,
    "start_time": "2023-01-09T17:58:11.134Z"
   },
   {
    "duration": 846,
    "start_time": "2023-01-09T17:58:18.187Z"
   },
   {
    "duration": 231,
    "start_time": "2023-01-09T17:58:20.019Z"
   },
   {
    "duration": 112,
    "start_time": "2023-01-09T17:58:51.254Z"
   },
   {
    "duration": 133,
    "start_time": "2023-01-09T17:59:02.516Z"
   },
   {
    "duration": 146,
    "start_time": "2023-01-09T17:59:37.650Z"
   },
   {
    "duration": 17,
    "start_time": "2023-01-09T17:59:42.183Z"
   },
   {
    "duration": 2008,
    "start_time": "2023-01-09T18:00:10.989Z"
   },
   {
    "duration": 14,
    "start_time": "2023-01-09T18:00:42.828Z"
   },
   {
    "duration": 672,
    "start_time": "2023-01-09T18:07:24.391Z"
   },
   {
    "duration": 4,
    "start_time": "2023-01-09T18:07:52.061Z"
   },
   {
    "duration": 129,
    "start_time": "2023-01-09T18:07:55.386Z"
   },
   {
    "duration": 16,
    "start_time": "2023-01-09T18:08:00.293Z"
   },
   {
    "duration": 2170,
    "start_time": "2023-01-09T18:08:16.195Z"
   },
   {
    "duration": 14,
    "start_time": "2023-01-09T18:08:28.037Z"
   },
   {
    "duration": 27,
    "start_time": "2023-01-09T18:09:08.617Z"
   },
   {
    "duration": 17,
    "start_time": "2023-01-09T18:09:13.455Z"
   },
   {
    "duration": 9,
    "start_time": "2023-01-09T18:09:34.769Z"
   },
   {
    "duration": 25,
    "start_time": "2023-01-09T18:09:36.082Z"
   },
   {
    "duration": 11,
    "start_time": "2023-01-09T18:09:41.309Z"
   },
   {
    "duration": 66,
    "start_time": "2023-01-09T18:09:49.064Z"
   },
   {
    "duration": 32,
    "start_time": "2023-01-09T18:10:17.739Z"
   },
   {
    "duration": 24,
    "start_time": "2023-01-09T18:10:22.955Z"
   },
   {
    "duration": 20,
    "start_time": "2023-01-09T18:11:33.397Z"
   },
   {
    "duration": 110,
    "start_time": "2023-01-09T18:11:37.354Z"
   },
   {
    "duration": 88,
    "start_time": "2023-01-09T18:11:41.923Z"
   },
   {
    "duration": 18,
    "start_time": "2023-01-09T18:11:45.065Z"
   },
   {
    "duration": 816,
    "start_time": "2023-01-09T18:34:05.265Z"
   },
   {
    "duration": 679,
    "start_time": "2023-01-09T18:34:07.338Z"
   },
   {
    "duration": 14,
    "start_time": "2023-01-09T18:34:11.612Z"
   },
   {
    "duration": 11,
    "start_time": "2023-01-09T18:34:16.676Z"
   },
   {
    "duration": 25,
    "start_time": "2023-01-09T18:34:22.107Z"
   },
   {
    "duration": 11,
    "start_time": "2023-01-09T18:34:25.079Z"
   },
   {
    "duration": 11,
    "start_time": "2023-01-09T18:34:27.937Z"
   },
   {
    "duration": 11,
    "start_time": "2023-01-09T18:34:32.760Z"
   },
   {
    "duration": 58,
    "start_time": "2023-01-09T18:34:35.223Z"
   },
   {
    "duration": 28,
    "start_time": "2023-01-09T18:34:39.937Z"
   },
   {
    "duration": 13,
    "start_time": "2023-01-09T18:34:49.306Z"
   },
   {
    "duration": 82,
    "start_time": "2023-01-09T18:34:53.653Z"
   },
   {
    "duration": 83,
    "start_time": "2023-01-09T18:34:56.863Z"
   },
   {
    "duration": 17,
    "start_time": "2023-01-09T18:35:02.111Z"
   },
   {
    "duration": 47,
    "start_time": "2023-01-09T18:35:55.237Z"
   },
   {
    "duration": 839,
    "start_time": "2023-01-09T18:36:06.977Z"
   },
   {
    "duration": 34,
    "start_time": "2023-01-09T18:36:15.837Z"
   },
   {
    "duration": 25,
    "start_time": "2023-01-09T18:37:02.792Z"
   },
   {
    "duration": 784,
    "start_time": "2023-01-09T18:40:15.877Z"
   },
   {
    "duration": 16,
    "start_time": "2023-01-09T18:41:00.967Z"
   },
   {
    "duration": 28,
    "start_time": "2023-01-09T18:41:13.762Z"
   },
   {
    "duration": 11,
    "start_time": "2023-01-09T18:41:41.375Z"
   },
   {
    "duration": 18,
    "start_time": "2023-01-09T18:41:48.268Z"
   },
   {
    "duration": 23,
    "start_time": "2023-01-09T18:42:16.772Z"
   },
   {
    "duration": 36,
    "start_time": "2023-01-09T18:43:06.120Z"
   },
   {
    "duration": 14,
    "start_time": "2023-01-09T18:43:14.894Z"
   },
   {
    "duration": 17,
    "start_time": "2023-01-09T18:43:32.433Z"
   },
   {
    "duration": 13,
    "start_time": "2023-01-09T18:43:36.442Z"
   },
   {
    "duration": 20,
    "start_time": "2023-01-09T18:44:06.679Z"
   },
   {
    "duration": 21,
    "start_time": "2023-01-09T18:45:04.153Z"
   },
   {
    "duration": 19,
    "start_time": "2023-01-09T18:45:05.935Z"
   },
   {
    "duration": 16,
    "start_time": "2023-01-09T18:45:07.481Z"
   },
   {
    "duration": 12,
    "start_time": "2023-01-09T18:45:09.969Z"
   },
   {
    "duration": 17,
    "start_time": "2023-01-09T18:45:12.266Z"
   },
   {
    "duration": 836,
    "start_time": "2023-01-09T18:45:32.782Z"
   },
   {
    "duration": 902,
    "start_time": "2023-01-09T18:46:27.076Z"
   },
   {
    "duration": 897,
    "start_time": "2023-01-09T18:46:59.559Z"
   },
   {
    "duration": 904,
    "start_time": "2023-01-09T18:47:13.364Z"
   },
   {
    "duration": 964,
    "start_time": "2023-01-09T18:48:24.901Z"
   },
   {
    "duration": 2602,
    "start_time": "2023-01-09T18:49:14.404Z"
   },
   {
    "duration": 2714,
    "start_time": "2023-01-09T18:50:14.744Z"
   },
   {
    "duration": 2197,
    "start_time": "2023-01-09T18:50:30.215Z"
   },
   {
    "duration": 2372,
    "start_time": "2023-01-09T18:50:38.941Z"
   },
   {
    "duration": 2742,
    "start_time": "2023-01-09T18:50:47.062Z"
   },
   {
    "duration": 3611,
    "start_time": "2023-01-09T18:50:56.648Z"
   },
   {
    "duration": 2894,
    "start_time": "2023-01-09T18:51:10.751Z"
   },
   {
    "duration": 2730,
    "start_time": "2023-01-09T18:51:19.578Z"
   },
   {
    "duration": 698,
    "start_time": "2023-01-09T18:52:26.478Z"
   },
   {
    "duration": 193,
    "start_time": "2023-01-09T18:52:43.118Z"
   },
   {
    "duration": 2503,
    "start_time": "2023-01-09T18:53:05.095Z"
   },
   {
    "duration": 2388,
    "start_time": "2023-01-09T18:53:12.587Z"
   },
   {
    "duration": 2304,
    "start_time": "2023-01-09T18:58:59.389Z"
   },
   {
    "duration": 2847,
    "start_time": "2023-01-09T18:59:07.969Z"
   },
   {
    "duration": 9,
    "start_time": "2023-01-09T18:59:42.211Z"
   },
   {
    "duration": 164,
    "start_time": "2023-01-09T18:59:57.833Z"
   },
   {
    "duration": 158,
    "start_time": "2023-01-09T19:00:12.942Z"
   },
   {
    "duration": 123,
    "start_time": "2023-01-09T19:00:57.725Z"
   },
   {
    "duration": 185,
    "start_time": "2023-01-09T19:43:54.883Z"
   },
   {
    "duration": 227,
    "start_time": "2023-01-09T19:43:57.407Z"
   },
   {
    "duration": 14,
    "start_time": "2023-01-09T19:44:03.481Z"
   },
   {
    "duration": 438,
    "start_time": "2023-01-09T19:45:12.986Z"
   },
   {
    "duration": 458,
    "start_time": "2023-01-09T19:45:21.964Z"
   },
   {
    "duration": 11,
    "start_time": "2023-01-09T19:46:49.781Z"
   },
   {
    "duration": 164,
    "start_time": "2023-01-09T19:49:11.386Z"
   },
   {
    "duration": 175,
    "start_time": "2023-01-09T19:49:28.347Z"
   },
   {
    "duration": 9,
    "start_time": "2023-01-09T19:53:14.120Z"
   },
   {
    "duration": 3,
    "start_time": "2023-01-09T19:53:47.882Z"
   },
   {
    "duration": 8,
    "start_time": "2023-01-09T19:54:39.000Z"
   },
   {
    "duration": 9,
    "start_time": "2023-01-09T19:54:50.414Z"
   },
   {
    "duration": 8,
    "start_time": "2023-01-09T19:55:16.375Z"
   },
   {
    "duration": 9,
    "start_time": "2023-01-09T19:55:21.579Z"
   },
   {
    "duration": 8,
    "start_time": "2023-01-09T19:57:27.888Z"
   },
   {
    "duration": 8,
    "start_time": "2023-01-09T19:57:38.913Z"
   },
   {
    "duration": 61,
    "start_time": "2023-01-09T19:57:49.493Z"
   },
   {
    "duration": 44,
    "start_time": "2023-01-09T19:57:59.908Z"
   },
   {
    "duration": 8,
    "start_time": "2023-01-09T19:58:49.277Z"
   },
   {
    "duration": 7,
    "start_time": "2023-01-09T19:58:57.881Z"
   },
   {
    "duration": 7,
    "start_time": "2023-01-09T19:59:06.126Z"
   },
   {
    "duration": 8,
    "start_time": "2023-01-09T19:59:37.135Z"
   },
   {
    "duration": 952,
    "start_time": "2023-01-09T20:04:55.954Z"
   },
   {
    "duration": 13,
    "start_time": "2023-01-09T20:07:31.775Z"
   },
   {
    "duration": 527,
    "start_time": "2023-01-09T20:07:41.279Z"
   },
   {
    "duration": 651,
    "start_time": "2023-01-09T20:07:59.885Z"
   },
   {
    "duration": 207,
    "start_time": "2023-01-09T20:09:33.041Z"
   },
   {
    "duration": 517,
    "start_time": "2023-01-09T20:09:40.870Z"
   },
   {
    "duration": 230,
    "start_time": "2023-01-09T20:10:38.048Z"
   },
   {
    "duration": 399,
    "start_time": "2023-01-09T20:11:41.767Z"
   },
   {
    "duration": 201,
    "start_time": "2023-01-09T20:11:48.834Z"
   },
   {
    "duration": 255,
    "start_time": "2023-01-09T20:11:59.660Z"
   },
   {
    "duration": 276,
    "start_time": "2023-01-09T20:12:40.891Z"
   },
   {
    "duration": 144,
    "start_time": "2023-01-09T20:13:07.493Z"
   },
   {
    "duration": 43,
    "start_time": "2023-01-09T20:13:25.959Z"
   },
   {
    "duration": 115,
    "start_time": "2023-01-09T20:13:31.114Z"
   },
   {
    "duration": 172,
    "start_time": "2023-01-09T20:14:56.562Z"
   },
   {
    "duration": 71,
    "start_time": "2023-01-09T20:15:36.424Z"
   },
   {
    "duration": 60,
    "start_time": "2023-01-09T20:15:49.206Z"
   },
   {
    "duration": 203,
    "start_time": "2023-01-09T20:16:02.744Z"
   },
   {
    "duration": 120,
    "start_time": "2023-01-09T20:16:08.515Z"
   },
   {
    "duration": 115,
    "start_time": "2023-01-09T20:16:13.472Z"
   },
   {
    "duration": 116,
    "start_time": "2023-01-09T20:16:18.837Z"
   },
   {
    "duration": 112,
    "start_time": "2023-01-09T20:16:39.623Z"
   },
   {
    "duration": 128,
    "start_time": "2023-01-09T20:16:52.271Z"
   },
   {
    "duration": 120,
    "start_time": "2023-01-09T20:17:03.128Z"
   },
   {
    "duration": 124,
    "start_time": "2023-01-09T20:17:21.034Z"
   },
   {
    "duration": 122,
    "start_time": "2023-01-09T20:17:26.057Z"
   },
   {
    "duration": 133,
    "start_time": "2023-01-09T20:17:37.343Z"
   },
   {
    "duration": 154,
    "start_time": "2023-01-09T20:17:44.652Z"
   },
   {
    "duration": 43,
    "start_time": "2023-01-09T20:22:53.870Z"
   },
   {
    "duration": 169,
    "start_time": "2023-01-09T20:23:01.261Z"
   },
   {
    "duration": 68,
    "start_time": "2023-01-09T20:23:10.374Z"
   },
   {
    "duration": 96,
    "start_time": "2023-01-09T20:23:29.809Z"
   },
   {
    "duration": 118,
    "start_time": "2023-01-09T20:23:36.923Z"
   },
   {
    "duration": 111,
    "start_time": "2023-01-09T20:25:50.344Z"
   },
   {
    "duration": 126,
    "start_time": "2023-01-09T20:26:01.059Z"
   },
   {
    "duration": 122,
    "start_time": "2023-01-09T20:26:25.757Z"
   },
   {
    "duration": 9,
    "start_time": "2023-01-09T20:27:03.191Z"
   },
   {
    "duration": 117,
    "start_time": "2023-01-09T20:27:08.872Z"
   },
   {
    "duration": 9,
    "start_time": "2023-01-09T20:34:18.024Z"
   },
   {
    "duration": 505,
    "start_time": "2023-01-09T20:34:26.188Z"
   },
   {
    "duration": 40,
    "start_time": "2023-01-09T20:34:41.328Z"
   },
   {
    "duration": 17,
    "start_time": "2023-01-09T20:35:05.239Z"
   },
   {
    "duration": 12,
    "start_time": "2023-01-09T20:35:21.090Z"
   },
   {
    "duration": 330,
    "start_time": "2023-01-09T20:35:32.932Z"
   },
   {
    "duration": 340,
    "start_time": "2023-01-09T20:35:41.143Z"
   },
   {
    "duration": 3,
    "start_time": "2023-01-09T20:43:31.378Z"
   },
   {
    "duration": 114,
    "start_time": "2023-01-09T20:43:33.076Z"
   },
   {
    "duration": 14,
    "start_time": "2023-01-09T20:43:36.574Z"
   },
   {
    "duration": 1797,
    "start_time": "2023-01-09T20:43:37.168Z"
   },
   {
    "duration": 12,
    "start_time": "2023-01-09T20:43:38.967Z"
   },
   {
    "duration": 27,
    "start_time": "2023-01-09T20:43:41.708Z"
   },
   {
    "duration": 10,
    "start_time": "2023-01-09T20:43:42.219Z"
   },
   {
    "duration": 10,
    "start_time": "2023-01-09T20:43:43.340Z"
   },
   {
    "duration": 32,
    "start_time": "2023-01-09T20:43:43.876Z"
   },
   {
    "duration": 11,
    "start_time": "2023-01-09T20:43:44.994Z"
   },
   {
    "duration": 76,
    "start_time": "2023-01-09T20:43:46.065Z"
   },
   {
    "duration": 26,
    "start_time": "2023-01-09T20:43:46.959Z"
   },
   {
    "duration": 25,
    "start_time": "2023-01-09T20:43:47.440Z"
   },
   {
    "duration": 16,
    "start_time": "2023-01-09T20:43:48.187Z"
   },
   {
    "duration": 89,
    "start_time": "2023-01-09T20:43:48.643Z"
   },
   {
    "duration": 115,
    "start_time": "2023-01-09T20:43:49.206Z"
   },
   {
    "duration": 19,
    "start_time": "2023-01-09T20:43:49.941Z"
   },
   {
    "duration": 31,
    "start_time": "2023-01-09T20:43:56.339Z"
   },
   {
    "duration": 17,
    "start_time": "2023-01-09T20:43:59.606Z"
   },
   {
    "duration": 17,
    "start_time": "2023-01-09T20:43:59.873Z"
   },
   {
    "duration": 18,
    "start_time": "2023-01-09T20:44:00.099Z"
   },
   {
    "duration": 16,
    "start_time": "2023-01-09T20:44:00.348Z"
   },
   {
    "duration": 17,
    "start_time": "2023-01-09T20:44:00.710Z"
   },
   {
    "duration": 1348,
    "start_time": "2023-01-09T20:44:01.934Z"
   },
   {
    "duration": 2738,
    "start_time": "2023-01-09T20:44:07.496Z"
   },
   {
    "duration": 10,
    "start_time": "2023-01-09T20:44:16.058Z"
   },
   {
    "duration": 47,
    "start_time": "2023-01-09T20:44:23.285Z"
   },
   {
    "duration": 43,
    "start_time": "2023-01-09T20:44:35.836Z"
   },
   {
    "duration": 160,
    "start_time": "2023-01-09T20:45:17.093Z"
   },
   {
    "duration": 122,
    "start_time": "2023-01-09T20:45:20.708Z"
   },
   {
    "duration": 13,
    "start_time": "2023-01-09T20:45:22.441Z"
   },
   {
    "duration": 11,
    "start_time": "2023-01-09T20:45:25.904Z"
   },
   {
    "duration": 13,
    "start_time": "2023-01-09T20:45:27.911Z"
   },
   {
    "duration": 13,
    "start_time": "2023-01-09T20:45:43.955Z"
   },
   {
    "duration": 658,
    "start_time": "2023-01-09T20:45:46.820Z"
   },
   {
    "duration": 363,
    "start_time": "2023-01-09T20:45:54.793Z"
   },
   {
    "duration": 247,
    "start_time": "2023-01-09T20:46:00.163Z"
   },
   {
    "duration": 348,
    "start_time": "2023-01-09T20:49:37.041Z"
   },
   {
    "duration": 457,
    "start_time": "2023-01-09T20:51:43.740Z"
   },
   {
    "duration": 299,
    "start_time": "2023-01-09T20:54:06.565Z"
   },
   {
    "duration": 9,
    "start_time": "2023-01-09T20:58:58.663Z"
   },
   {
    "duration": 9,
    "start_time": "2023-01-09T20:59:15.890Z"
   },
   {
    "duration": 13,
    "start_time": "2023-01-09T20:59:42.054Z"
   },
   {
    "duration": 133,
    "start_time": "2023-01-09T21:00:17.183Z"
   },
   {
    "duration": 824,
    "start_time": "2023-01-09T21:00:35.863Z"
   },
   {
    "duration": 16,
    "start_time": "2023-01-09T21:00:47.924Z"
   },
   {
    "duration": 138,
    "start_time": "2023-01-09T21:00:53.388Z"
   },
   {
    "duration": 15,
    "start_time": "2023-01-09T21:01:20.654Z"
   },
   {
    "duration": 153,
    "start_time": "2023-01-09T21:01:32.976Z"
   },
   {
    "duration": 9,
    "start_time": "2023-01-09T21:03:37.039Z"
   },
   {
    "duration": 15,
    "start_time": "2023-01-09T21:03:55.752Z"
   },
   {
    "duration": 347,
    "start_time": "2023-01-09T21:03:59.408Z"
   },
   {
    "duration": 13,
    "start_time": "2023-01-09T21:15:15.493Z"
   },
   {
    "duration": 1108,
    "start_time": "2023-01-09T21:16:43.603Z"
   },
   {
    "duration": 118,
    "start_time": "2023-01-09T21:16:44.713Z"
   },
   {
    "duration": 15,
    "start_time": "2023-01-09T21:16:44.832Z"
   },
   {
    "duration": 1781,
    "start_time": "2023-01-09T21:16:44.849Z"
   },
   {
    "duration": 14,
    "start_time": "2023-01-09T21:16:46.632Z"
   },
   {
    "duration": 26,
    "start_time": "2023-01-09T21:16:46.647Z"
   },
   {
    "duration": 25,
    "start_time": "2023-01-09T21:16:46.675Z"
   },
   {
    "duration": 10,
    "start_time": "2023-01-09T21:16:46.702Z"
   },
   {
    "duration": 23,
    "start_time": "2023-01-09T21:16:46.713Z"
   },
   {
    "duration": 10,
    "start_time": "2023-01-09T21:16:46.738Z"
   },
   {
    "duration": 87,
    "start_time": "2023-01-09T21:16:46.749Z"
   },
   {
    "duration": 29,
    "start_time": "2023-01-09T21:16:46.837Z"
   },
   {
    "duration": 48,
    "start_time": "2023-01-09T21:16:46.867Z"
   },
   {
    "duration": 18,
    "start_time": "2023-01-09T21:16:46.917Z"
   },
   {
    "duration": 106,
    "start_time": "2023-01-09T21:16:46.937Z"
   },
   {
    "duration": 94,
    "start_time": "2023-01-09T21:16:47.045Z"
   },
   {
    "duration": 17,
    "start_time": "2023-01-09T21:16:47.140Z"
   },
   {
    "duration": 42,
    "start_time": "2023-01-09T21:16:47.158Z"
   },
   {
    "duration": 16,
    "start_time": "2023-01-09T21:16:47.202Z"
   },
   {
    "duration": 15,
    "start_time": "2023-01-09T21:16:47.220Z"
   },
   {
    "duration": 15,
    "start_time": "2023-01-09T21:16:47.236Z"
   },
   {
    "duration": 11,
    "start_time": "2023-01-09T21:16:47.252Z"
   },
   {
    "duration": 16,
    "start_time": "2023-01-09T21:16:47.298Z"
   },
   {
    "duration": 1354,
    "start_time": "2023-01-09T21:16:47.316Z"
   },
   {
    "duration": 2719,
    "start_time": "2023-01-09T21:16:48.672Z"
   },
   {
    "duration": 11,
    "start_time": "2023-01-09T21:16:51.393Z"
   },
   {
    "duration": 42,
    "start_time": "2023-01-09T21:16:51.405Z"
   },
   {
    "duration": 0,
    "start_time": "2023-01-09T21:16:51.449Z"
   },
   {
    "duration": 0,
    "start_time": "2023-01-09T21:16:51.450Z"
   },
   {
    "duration": 0,
    "start_time": "2023-01-09T21:16:51.451Z"
   },
   {
    "duration": 0,
    "start_time": "2023-01-09T21:16:51.453Z"
   },
   {
    "duration": 0,
    "start_time": "2023-01-09T21:16:51.454Z"
   },
   {
    "duration": 0,
    "start_time": "2023-01-09T21:16:51.456Z"
   },
   {
    "duration": 0,
    "start_time": "2023-01-09T21:16:51.457Z"
   },
   {
    "duration": 0,
    "start_time": "2023-01-09T21:16:51.458Z"
   },
   {
    "duration": 0,
    "start_time": "2023-01-09T21:16:51.460Z"
   },
   {
    "duration": 0,
    "start_time": "2023-01-09T21:16:51.461Z"
   },
   {
    "duration": 0,
    "start_time": "2023-01-09T21:16:51.462Z"
   },
   {
    "duration": 0,
    "start_time": "2023-01-09T21:16:51.464Z"
   },
   {
    "duration": 0,
    "start_time": "2023-01-09T21:16:51.465Z"
   },
   {
    "duration": 0,
    "start_time": "2023-01-09T21:16:51.467Z"
   },
   {
    "duration": 0,
    "start_time": "2023-01-09T21:16:51.468Z"
   },
   {
    "duration": 0,
    "start_time": "2023-01-09T21:16:51.470Z"
   },
   {
    "duration": 46,
    "start_time": "2023-01-09T21:20:31.271Z"
   },
   {
    "duration": 57,
    "start_time": "2023-01-09T21:20:38.281Z"
   },
   {
    "duration": 155,
    "start_time": "2023-01-09T21:20:50.379Z"
   },
   {
    "duration": 1020,
    "start_time": "2023-01-09T21:21:02.958Z"
   },
   {
    "duration": 119,
    "start_time": "2023-01-09T21:21:03.980Z"
   },
   {
    "duration": 13,
    "start_time": "2023-01-09T21:21:04.101Z"
   },
   {
    "duration": 1923,
    "start_time": "2023-01-09T21:21:04.115Z"
   },
   {
    "duration": 11,
    "start_time": "2023-01-09T21:21:06.039Z"
   },
   {
    "duration": 29,
    "start_time": "2023-01-09T21:21:06.052Z"
   },
   {
    "duration": 21,
    "start_time": "2023-01-09T21:21:06.083Z"
   },
   {
    "duration": 7,
    "start_time": "2023-01-09T21:21:06.106Z"
   },
   {
    "duration": 29,
    "start_time": "2023-01-09T21:21:06.115Z"
   },
   {
    "duration": 10,
    "start_time": "2023-01-09T21:21:06.146Z"
   },
   {
    "duration": 88,
    "start_time": "2023-01-09T21:21:06.157Z"
   },
   {
    "duration": 29,
    "start_time": "2023-01-09T21:21:06.246Z"
   },
   {
    "duration": 38,
    "start_time": "2023-01-09T21:21:06.276Z"
   },
   {
    "duration": 18,
    "start_time": "2023-01-09T21:21:06.315Z"
   },
   {
    "duration": 101,
    "start_time": "2023-01-09T21:21:06.334Z"
   },
   {
    "duration": 109,
    "start_time": "2023-01-09T21:21:06.437Z"
   },
   {
    "duration": 16,
    "start_time": "2023-01-09T21:21:06.548Z"
   },
   {
    "duration": 42,
    "start_time": "2023-01-09T21:21:06.566Z"
   },
   {
    "duration": 17,
    "start_time": "2023-01-09T21:21:06.610Z"
   },
   {
    "duration": 16,
    "start_time": "2023-01-09T21:21:06.629Z"
   },
   {
    "duration": 14,
    "start_time": "2023-01-09T21:21:06.647Z"
   },
   {
    "duration": 14,
    "start_time": "2023-01-09T21:21:06.697Z"
   },
   {
    "duration": 18,
    "start_time": "2023-01-09T21:21:06.712Z"
   },
   {
    "duration": 2108,
    "start_time": "2023-01-09T21:21:06.731Z"
   },
   {
    "duration": 2914,
    "start_time": "2023-01-09T21:21:08.841Z"
   },
   {
    "duration": 9,
    "start_time": "2023-01-09T21:21:11.757Z"
   },
   {
    "duration": 55,
    "start_time": "2023-01-09T21:21:11.768Z"
   },
   {
    "duration": 0,
    "start_time": "2023-01-09T21:21:11.826Z"
   },
   {
    "duration": 0,
    "start_time": "2023-01-09T21:21:11.827Z"
   },
   {
    "duration": 0,
    "start_time": "2023-01-09T21:21:11.828Z"
   },
   {
    "duration": 0,
    "start_time": "2023-01-09T21:21:11.830Z"
   },
   {
    "duration": 0,
    "start_time": "2023-01-09T21:21:11.831Z"
   },
   {
    "duration": 0,
    "start_time": "2023-01-09T21:21:11.833Z"
   },
   {
    "duration": 0,
    "start_time": "2023-01-09T21:21:11.834Z"
   },
   {
    "duration": 0,
    "start_time": "2023-01-09T21:21:11.835Z"
   },
   {
    "duration": 0,
    "start_time": "2023-01-09T21:21:11.837Z"
   },
   {
    "duration": 0,
    "start_time": "2023-01-09T21:21:11.839Z"
   },
   {
    "duration": 0,
    "start_time": "2023-01-09T21:21:11.840Z"
   },
   {
    "duration": 0,
    "start_time": "2023-01-09T21:21:11.841Z"
   },
   {
    "duration": 0,
    "start_time": "2023-01-09T21:21:11.842Z"
   },
   {
    "duration": 0,
    "start_time": "2023-01-09T21:21:11.844Z"
   },
   {
    "duration": 0,
    "start_time": "2023-01-09T21:21:11.845Z"
   },
   {
    "duration": 0,
    "start_time": "2023-01-09T21:21:11.846Z"
   },
   {
    "duration": 1108,
    "start_time": "2023-01-09T21:24:21.439Z"
   },
   {
    "duration": 125,
    "start_time": "2023-01-09T21:24:22.549Z"
   },
   {
    "duration": 23,
    "start_time": "2023-01-09T21:24:22.676Z"
   },
   {
    "duration": 2244,
    "start_time": "2023-01-09T21:24:22.702Z"
   },
   {
    "duration": 54,
    "start_time": "2023-01-09T21:24:24.948Z"
   },
   {
    "duration": 37,
    "start_time": "2023-01-09T21:24:25.004Z"
   },
   {
    "duration": 69,
    "start_time": "2023-01-09T21:24:25.043Z"
   },
   {
    "duration": 18,
    "start_time": "2023-01-09T21:24:25.114Z"
   },
   {
    "duration": 81,
    "start_time": "2023-01-09T21:24:25.133Z"
   },
   {
    "duration": 10,
    "start_time": "2023-01-09T21:24:25.217Z"
   },
   {
    "duration": 108,
    "start_time": "2023-01-09T21:24:25.229Z"
   },
   {
    "duration": 81,
    "start_time": "2023-01-09T21:24:25.338Z"
   },
   {
    "duration": 22,
    "start_time": "2023-01-09T21:24:25.421Z"
   },
   {
    "duration": 69,
    "start_time": "2023-01-09T21:24:25.444Z"
   },
   {
    "duration": 188,
    "start_time": "2023-01-09T21:24:25.515Z"
   },
   {
    "duration": 208,
    "start_time": "2023-01-09T21:24:25.705Z"
   },
   {
    "duration": 24,
    "start_time": "2023-01-09T21:24:25.915Z"
   },
   {
    "duration": 92,
    "start_time": "2023-01-09T21:24:25.941Z"
   },
   {
    "duration": 68,
    "start_time": "2023-01-09T21:24:26.035Z"
   },
   {
    "duration": 17,
    "start_time": "2023-01-09T21:24:26.105Z"
   },
   {
    "duration": 16,
    "start_time": "2023-01-09T21:24:26.123Z"
   },
   {
    "duration": 60,
    "start_time": "2023-01-09T21:24:26.140Z"
   },
   {
    "duration": 17,
    "start_time": "2023-01-09T21:24:26.202Z"
   },
   {
    "duration": 1351,
    "start_time": "2023-01-09T21:24:26.220Z"
   },
   {
    "duration": 2716,
    "start_time": "2023-01-09T21:24:27.573Z"
   },
   {
    "duration": 12,
    "start_time": "2023-01-09T21:24:30.291Z"
   },
   {
    "duration": 212,
    "start_time": "2023-01-09T21:24:30.305Z"
   },
   {
    "duration": 150,
    "start_time": "2023-01-09T21:24:30.520Z"
   },
   {
    "duration": 14,
    "start_time": "2023-01-09T21:24:30.672Z"
   },
   {
    "duration": 63,
    "start_time": "2023-01-09T21:24:30.698Z"
   },
   {
    "duration": 52,
    "start_time": "2023-01-09T21:24:30.763Z"
   },
   {
    "duration": 27,
    "start_time": "2023-01-09T21:24:30.817Z"
   },
   {
    "duration": 516,
    "start_time": "2023-01-09T21:24:30.847Z"
   },
   {
    "duration": 448,
    "start_time": "2023-01-09T21:24:31.365Z"
   },
   {
    "duration": 254,
    "start_time": "2023-01-09T21:24:31.815Z"
   },
   {
    "duration": 347,
    "start_time": "2023-01-09T21:24:32.071Z"
   },
   {
    "duration": 449,
    "start_time": "2023-01-09T21:24:32.420Z"
   },
   {
    "duration": 328,
    "start_time": "2023-01-09T21:24:32.871Z"
   },
   {
    "duration": 15,
    "start_time": "2023-01-09T21:24:33.200Z"
   },
   {
    "duration": 162,
    "start_time": "2023-01-09T21:24:33.216Z"
   },
   {
    "duration": 20,
    "start_time": "2023-01-09T21:24:33.380Z"
   },
   {
    "duration": 264,
    "start_time": "2023-01-09T21:24:33.401Z"
   },
   {
    "duration": 1202,
    "start_time": "2023-01-10T18:32:07.455Z"
   },
   {
    "duration": 148,
    "start_time": "2023-01-10T18:32:08.660Z"
   },
   {
    "duration": 15,
    "start_time": "2023-01-10T18:32:08.809Z"
   },
   {
    "duration": 2130,
    "start_time": "2023-01-10T18:32:08.827Z"
   },
   {
    "duration": 13,
    "start_time": "2023-01-10T18:32:10.960Z"
   },
   {
    "duration": 30,
    "start_time": "2023-01-10T18:32:10.975Z"
   },
   {
    "duration": 36,
    "start_time": "2023-01-10T18:32:11.007Z"
   },
   {
    "duration": 15,
    "start_time": "2023-01-10T18:32:11.045Z"
   },
   {
    "duration": 27,
    "start_time": "2023-01-10T18:32:11.062Z"
   },
   {
    "duration": 12,
    "start_time": "2023-01-10T18:32:11.092Z"
   },
   {
    "duration": 91,
    "start_time": "2023-01-10T18:32:11.105Z"
   },
   {
    "duration": 47,
    "start_time": "2023-01-10T18:32:11.197Z"
   },
   {
    "duration": 25,
    "start_time": "2023-01-10T18:32:11.247Z"
   },
   {
    "duration": 19,
    "start_time": "2023-01-10T18:32:11.274Z"
   },
   {
    "duration": 124,
    "start_time": "2023-01-10T18:32:11.295Z"
   },
   {
    "duration": 132,
    "start_time": "2023-01-10T18:32:11.421Z"
   },
   {
    "duration": 19,
    "start_time": "2023-01-10T18:32:11.555Z"
   },
   {
    "duration": 36,
    "start_time": "2023-01-10T18:32:11.576Z"
   },
   {
    "duration": 34,
    "start_time": "2023-01-10T18:32:11.614Z"
   },
   {
    "duration": 18,
    "start_time": "2023-01-10T18:32:11.650Z"
   },
   {
    "duration": 54,
    "start_time": "2023-01-10T18:32:11.670Z"
   },
   {
    "duration": 14,
    "start_time": "2023-01-10T18:32:11.726Z"
   },
   {
    "duration": 27,
    "start_time": "2023-01-10T18:32:11.742Z"
   },
   {
    "duration": 1764,
    "start_time": "2023-01-10T18:32:11.771Z"
   },
   {
    "duration": 3306,
    "start_time": "2023-01-10T18:32:13.537Z"
   },
   {
    "duration": 14,
    "start_time": "2023-01-10T18:32:16.846Z"
   },
   {
    "duration": 240,
    "start_time": "2023-01-10T18:32:16.862Z"
   },
   {
    "duration": 164,
    "start_time": "2023-01-10T18:32:17.106Z"
   },
   {
    "duration": 12,
    "start_time": "2023-01-10T18:32:17.272Z"
   },
   {
    "duration": 33,
    "start_time": "2023-01-10T18:32:17.286Z"
   },
   {
    "duration": 30,
    "start_time": "2023-01-10T18:32:17.321Z"
   },
   {
    "duration": 14,
    "start_time": "2023-01-10T18:32:17.353Z"
   },
   {
    "duration": 556,
    "start_time": "2023-01-10T18:32:17.369Z"
   },
   {
    "duration": 531,
    "start_time": "2023-01-10T18:32:17.927Z"
   },
   {
    "duration": 306,
    "start_time": "2023-01-10T18:32:18.460Z"
   },
   {
    "duration": 427,
    "start_time": "2023-01-10T18:32:18.768Z"
   },
   {
    "duration": 535,
    "start_time": "2023-01-10T18:32:19.197Z"
   },
   {
    "duration": 362,
    "start_time": "2023-01-10T18:32:19.735Z"
   },
   {
    "duration": 15,
    "start_time": "2023-01-10T18:32:20.099Z"
   },
   {
    "duration": 196,
    "start_time": "2023-01-10T18:32:20.116Z"
   },
   {
    "duration": 25,
    "start_time": "2023-01-10T18:32:20.313Z"
   },
   {
    "duration": 321,
    "start_time": "2023-01-10T18:32:20.340Z"
   }
  ],
  "kernelspec": {
   "display_name": "Python 3 (ipykernel)",
   "language": "python",
   "name": "python3"
  },
  "language_info": {
   "codemirror_mode": {
    "name": "ipython",
    "version": 3
   },
   "file_extension": ".py",
   "mimetype": "text/x-python",
   "name": "python",
   "nbconvert_exporter": "python",
   "pygments_lexer": "ipython3",
   "version": "3.9.5"
  },
  "toc": {
   "base_numbering": 1,
   "nav_menu": {},
   "number_sections": true,
   "sideBar": true,
   "skip_h1_title": true,
   "title_cell": "Table of Contents",
   "title_sidebar": "Contents",
   "toc_cell": false,
   "toc_position": {
    "height": "calc(100% - 180px)",
    "left": "10px",
    "top": "150px",
    "width": "194.383px"
   },
   "toc_section_display": true,
   "toc_window_display": true
  }
 },
 "nbformat": 4,
 "nbformat_minor": 2
}
