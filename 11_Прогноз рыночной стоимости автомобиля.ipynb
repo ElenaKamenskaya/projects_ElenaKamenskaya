{
 "cells": [
  {
   "cell_type": "markdown",
   "metadata": {},
   "source": [
    "# Определение стоимости автомобилей"
   ]
  },
  {
   "cell_type": "markdown",
   "metadata": {},
   "source": [
    "**Задача:** Построить модель для определения стоимости автомобиля. Основные критерии для модели качество предсказания, скорость предсказания, время обучения.\n",
    "\n",
    "**Цель:** Разработать приложение для определения стоимости автомобиля и для привлечения новых клиентов.\n",
    "\n",
    "**Исторические данные:** технические характеристики, комплектации и цены автомобилей\n",
    "\n",
    "**Действия:**\n",
    "Предподготовка данных. Построить несколько моделей и на основании основных критериев выбрать оптимальную модель"
   ]
  },
  {
   "cell_type": "markdown",
   "metadata": {},
   "source": [
    "## Подготовка данных"
   ]
  },
  {
   "cell_type": "code",
   "execution_count": 1,
   "metadata": {},
   "outputs": [],
   "source": [
    "# импортируем библиотеки\n",
    "\n",
    "import pandas as pd\n",
    "import numpy as np\n",
    "from matplotlib import pyplot as plt\n",
    "import statistics \n",
    "from sklearn.model_selection import train_test_split\n",
    "from sklearn.preprocessing import OneHotEncoder\n",
    "from sklearn.linear_model import LinearRegression\n",
    "from sklearn.tree import DecisionTreeRegressor\n",
    "from sklearn.metrics import mean_squared_error\n",
    "from catboost import CatBoostRegressor\n",
    "from lightgbm import LGBMRegressor\n",
    "import lightgbm as ltb\n",
    "from sklearn.model_selection import GridSearchCV\n",
    "import warnings\n",
    "warnings.filterwarnings(\"ignore\")\n",
    "from sklearn.preprocessing import OrdinalEncoder"
   ]
  },
  {
   "cell_type": "code",
   "execution_count": 2,
   "metadata": {},
   "outputs": [
    {
     "data": {
      "text/html": [
       "<div>\n",
       "<style scoped>\n",
       "    .dataframe tbody tr th:only-of-type {\n",
       "        vertical-align: middle;\n",
       "    }\n",
       "\n",
       "    .dataframe tbody tr th {\n",
       "        vertical-align: top;\n",
       "    }\n",
       "\n",
       "    .dataframe thead th {\n",
       "        text-align: right;\n",
       "    }\n",
       "</style>\n",
       "<table border=\"1\" class=\"dataframe\">\n",
       "  <thead>\n",
       "    <tr style=\"text-align: right;\">\n",
       "      <th></th>\n",
       "      <th>DateCrawled</th>\n",
       "      <th>Price</th>\n",
       "      <th>VehicleType</th>\n",
       "      <th>RegistrationYear</th>\n",
       "      <th>Gearbox</th>\n",
       "      <th>Power</th>\n",
       "      <th>Model</th>\n",
       "      <th>Kilometer</th>\n",
       "      <th>RegistrationMonth</th>\n",
       "      <th>FuelType</th>\n",
       "      <th>Brand</th>\n",
       "      <th>Repaired</th>\n",
       "      <th>DateCreated</th>\n",
       "      <th>NumberOfPictures</th>\n",
       "      <th>PostalCode</th>\n",
       "      <th>LastSeen</th>\n",
       "    </tr>\n",
       "  </thead>\n",
       "  <tbody>\n",
       "    <tr>\n",
       "      <th>0</th>\n",
       "      <td>2016-03-24 11:52:17</td>\n",
       "      <td>480</td>\n",
       "      <td>NaN</td>\n",
       "      <td>1993</td>\n",
       "      <td>manual</td>\n",
       "      <td>0</td>\n",
       "      <td>golf</td>\n",
       "      <td>150000</td>\n",
       "      <td>0</td>\n",
       "      <td>petrol</td>\n",
       "      <td>volkswagen</td>\n",
       "      <td>NaN</td>\n",
       "      <td>2016-03-24 00:00:00</td>\n",
       "      <td>0</td>\n",
       "      <td>70435</td>\n",
       "      <td>2016-04-07 03:16:57</td>\n",
       "    </tr>\n",
       "    <tr>\n",
       "      <th>1</th>\n",
       "      <td>2016-03-24 10:58:45</td>\n",
       "      <td>18300</td>\n",
       "      <td>coupe</td>\n",
       "      <td>2011</td>\n",
       "      <td>manual</td>\n",
       "      <td>190</td>\n",
       "      <td>NaN</td>\n",
       "      <td>125000</td>\n",
       "      <td>5</td>\n",
       "      <td>gasoline</td>\n",
       "      <td>audi</td>\n",
       "      <td>yes</td>\n",
       "      <td>2016-03-24 00:00:00</td>\n",
       "      <td>0</td>\n",
       "      <td>66954</td>\n",
       "      <td>2016-04-07 01:46:50</td>\n",
       "    </tr>\n",
       "    <tr>\n",
       "      <th>2</th>\n",
       "      <td>2016-03-14 12:52:21</td>\n",
       "      <td>9800</td>\n",
       "      <td>suv</td>\n",
       "      <td>2004</td>\n",
       "      <td>auto</td>\n",
       "      <td>163</td>\n",
       "      <td>grand</td>\n",
       "      <td>125000</td>\n",
       "      <td>8</td>\n",
       "      <td>gasoline</td>\n",
       "      <td>jeep</td>\n",
       "      <td>NaN</td>\n",
       "      <td>2016-03-14 00:00:00</td>\n",
       "      <td>0</td>\n",
       "      <td>90480</td>\n",
       "      <td>2016-04-05 12:47:46</td>\n",
       "    </tr>\n",
       "    <tr>\n",
       "      <th>3</th>\n",
       "      <td>2016-03-17 16:54:04</td>\n",
       "      <td>1500</td>\n",
       "      <td>small</td>\n",
       "      <td>2001</td>\n",
       "      <td>manual</td>\n",
       "      <td>75</td>\n",
       "      <td>golf</td>\n",
       "      <td>150000</td>\n",
       "      <td>6</td>\n",
       "      <td>petrol</td>\n",
       "      <td>volkswagen</td>\n",
       "      <td>no</td>\n",
       "      <td>2016-03-17 00:00:00</td>\n",
       "      <td>0</td>\n",
       "      <td>91074</td>\n",
       "      <td>2016-03-17 17:40:17</td>\n",
       "    </tr>\n",
       "    <tr>\n",
       "      <th>4</th>\n",
       "      <td>2016-03-31 17:25:20</td>\n",
       "      <td>3600</td>\n",
       "      <td>small</td>\n",
       "      <td>2008</td>\n",
       "      <td>manual</td>\n",
       "      <td>69</td>\n",
       "      <td>fabia</td>\n",
       "      <td>90000</td>\n",
       "      <td>7</td>\n",
       "      <td>gasoline</td>\n",
       "      <td>skoda</td>\n",
       "      <td>no</td>\n",
       "      <td>2016-03-31 00:00:00</td>\n",
       "      <td>0</td>\n",
       "      <td>60437</td>\n",
       "      <td>2016-04-06 10:17:21</td>\n",
       "    </tr>\n",
       "  </tbody>\n",
       "</table>\n",
       "</div>"
      ],
      "text/plain": [
       "           DateCrawled  Price VehicleType  RegistrationYear Gearbox  Power  \\\n",
       "0  2016-03-24 11:52:17    480         NaN              1993  manual      0   \n",
       "1  2016-03-24 10:58:45  18300       coupe              2011  manual    190   \n",
       "2  2016-03-14 12:52:21   9800         suv              2004    auto    163   \n",
       "3  2016-03-17 16:54:04   1500       small              2001  manual     75   \n",
       "4  2016-03-31 17:25:20   3600       small              2008  manual     69   \n",
       "\n",
       "   Model  Kilometer  RegistrationMonth  FuelType       Brand Repaired  \\\n",
       "0   golf     150000                  0    petrol  volkswagen      NaN   \n",
       "1    NaN     125000                  5  gasoline        audi      yes   \n",
       "2  grand     125000                  8  gasoline        jeep      NaN   \n",
       "3   golf     150000                  6    petrol  volkswagen       no   \n",
       "4  fabia      90000                  7  gasoline       skoda       no   \n",
       "\n",
       "           DateCreated  NumberOfPictures  PostalCode             LastSeen  \n",
       "0  2016-03-24 00:00:00                 0       70435  2016-04-07 03:16:57  \n",
       "1  2016-03-24 00:00:00                 0       66954  2016-04-07 01:46:50  \n",
       "2  2016-03-14 00:00:00                 0       90480  2016-04-05 12:47:46  \n",
       "3  2016-03-17 00:00:00                 0       91074  2016-03-17 17:40:17  \n",
       "4  2016-03-31 00:00:00                 0       60437  2016-04-06 10:17:21  "
      ]
     },
     "execution_count": 2,
     "metadata": {},
     "output_type": "execute_result"
    }
   ],
   "source": [
    "# загрузим данные для анализа\n",
    "\n",
    "data = pd.read_csv('/datasets/autos.csv')\n",
    "data.head()"
   ]
  },
  {
   "cell_type": "code",
   "execution_count": 3,
   "metadata": {
    "scrolled": false
   },
   "outputs": [
    {
     "name": "stdout",
     "output_type": "stream",
     "text": [
      "<class 'pandas.core.frame.DataFrame'>\n",
      "RangeIndex: 354369 entries, 0 to 354368\n",
      "Data columns (total 16 columns):\n",
      " #   Column             Non-Null Count   Dtype \n",
      "---  ------             --------------   ----- \n",
      " 0   DateCrawled        354369 non-null  object\n",
      " 1   Price              354369 non-null  int64 \n",
      " 2   VehicleType        316879 non-null  object\n",
      " 3   RegistrationYear   354369 non-null  int64 \n",
      " 4   Gearbox            334536 non-null  object\n",
      " 5   Power              354369 non-null  int64 \n",
      " 6   Model              334664 non-null  object\n",
      " 7   Kilometer          354369 non-null  int64 \n",
      " 8   RegistrationMonth  354369 non-null  int64 \n",
      " 9   FuelType           321474 non-null  object\n",
      " 10  Brand              354369 non-null  object\n",
      " 11  Repaired           283215 non-null  object\n",
      " 12  DateCreated        354369 non-null  object\n",
      " 13  NumberOfPictures   354369 non-null  int64 \n",
      " 14  PostalCode         354369 non-null  int64 \n",
      " 15  LastSeen           354369 non-null  object\n",
      "dtypes: int64(7), object(9)\n",
      "memory usage: 43.3+ MB\n"
     ]
    }
   ],
   "source": [
    "# проверим данные\n",
    "\n",
    "data.info()"
   ]
  },
  {
   "cell_type": "code",
   "execution_count": 4,
   "metadata": {},
   "outputs": [
    {
     "data": {
      "text/plain": [
       "Index(['date_crawled', 'price', 'vehicle_type', 'registration_year', 'gearbox',\n",
       "       'power', 'model', 'kilometer', 'registration_month', 'fuel_type',\n",
       "       'brand', 'repaired', 'date_created', 'number_of_pictures',\n",
       "       'postal_code', 'last_seen'],\n",
       "      dtype='object')"
      ]
     },
     "execution_count": 4,
     "metadata": {},
     "output_type": "execute_result"
    }
   ],
   "source": [
    "# приведем все названия к нижнему регистру\n",
    "\n",
    "data.columns = data.columns.str.replace(r\"([A-Z])\", r\" \\1\").str.lower().str.replace(' ', '_').str[1:]\n",
    "data.columns"
   ]
  },
  {
   "cell_type": "code",
   "execution_count": 5,
   "metadata": {},
   "outputs": [],
   "source": [
    "data[data.duplicated()].head()  # 4 строчки дубликатов, удалим их\n",
    "\n",
    "data = data.drop_duplicates()"
   ]
  },
  {
   "cell_type": "code",
   "execution_count": 6,
   "metadata": {},
   "outputs": [
    {
     "data": {
      "text/plain": [
       "array(['2016-03-05 14:06:22', '2016-03-05 14:06:23',\n",
       "       '2016-03-05 14:06:24', ..., '2016-04-07 14:36:55',\n",
       "       '2016-04-07 14:36:56', '2016-04-07 14:36:58'], dtype=object)"
      ]
     },
     "execution_count": 6,
     "metadata": {},
     "output_type": "execute_result"
    }
   ],
   "source": [
    "# проверим даты. База выгружалась за период до '2016-04-07 14:36:58'\n",
    "\n",
    "q = data['date_crawled'].sort_values()\n",
    "q.unique()"
   ]
  },
  {
   "cell_type": "code",
   "execution_count": 7,
   "metadata": {},
   "outputs": [
    {
     "data": {
      "text/plain": [
       "array([1000, 1001, 1039, 1111, 1200, 1234, 1253, 1255, 1300, 1400, 1500,\n",
       "       1600, 1602, 1688, 1800, 1910, 1915, 1919, 1920, 1923, 1925, 1927,\n",
       "       1928, 1929, 1930, 1931, 1932, 1933, 1934, 1935, 1936, 1937, 1938,\n",
       "       1940, 1941, 1942, 1943, 1944, 1945, 1946, 1947, 1948, 1949, 1950,\n",
       "       1951, 1952, 1953, 1954, 1955, 1956, 1957, 1958, 1959, 1960, 1961,\n",
       "       1962, 1963, 1964, 1965, 1966, 1967, 1968, 1969, 1970, 1971, 1972,\n",
       "       1973, 1974, 1975, 1976, 1977, 1978, 1979, 1980, 1981, 1982, 1983,\n",
       "       1984, 1985, 1986, 1987, 1988, 1989, 1990, 1991, 1992, 1993, 1994,\n",
       "       1995, 1996, 1997, 1998, 1999, 2000, 2001, 2002, 2003, 2004, 2005,\n",
       "       2006, 2007, 2008, 2009, 2010, 2011, 2012, 2013, 2014, 2015, 2016,\n",
       "       2017, 2018, 2019, 2066, 2200, 2222, 2290, 2500, 2800, 2900, 3000,\n",
       "       3200, 3500, 3700, 3800, 4000, 4100, 4500, 4800, 5000, 5300, 5555,\n",
       "       5600, 5900, 5911, 6000, 6500, 7000, 7100, 7500, 7800, 8000, 8200,\n",
       "       8455, 8500, 8888, 9000, 9229, 9450, 9996, 9999])"
      ]
     },
     "execution_count": 7,
     "metadata": {},
     "output_type": "execute_result"
    }
   ],
   "source": [
    "# года регистрации автомобиля неадекватные. Встречаются 1000 и 1600 года, когда автомобилей не было.\n",
    "# Не будем рассматривать раритет, а возьмем авто с 1975 года по 2016 год, год выгрузки данной базы\n",
    "\n",
    "s=data['registration_year'].sort_values() \n",
    "s.unique()"
   ]
  },
  {
   "cell_type": "code",
   "execution_count": 8,
   "metadata": {},
   "outputs": [],
   "source": [
    "data = data[(data['registration_year'] <2017) & (data['registration_year'] > 1974)] # фильтрация по годам\n",
    "data = data[~((data['registration_year'] == 2016) & (data['registration_month'] > 4))] # фильтрация до 04/2016\n",
    "\n",
    "# всего осталось 332752 позиции"
   ]
  },
  {
   "cell_type": "code",
   "execution_count": 9,
   "metadata": {},
   "outputs": [
    {
     "data": {
      "text/plain": [
       "date_crawled           0.00\n",
       "price                  0.00\n",
       "vehicle_type           5.37\n",
       "registration_year      0.00\n",
       "gearbox                5.08\n",
       "power                  0.00\n",
       "model                  4.92\n",
       "kilometer              0.00\n",
       "registration_month     0.00\n",
       "fuel_type              7.44\n",
       "brand                  0.00\n",
       "repaired              18.63\n",
       "date_created           0.00\n",
       "number_of_pictures     0.00\n",
       "postal_code            0.00\n",
       "last_seen              0.00\n",
       "dtype: float64"
      ]
     },
     "execution_count": 9,
     "metadata": {},
     "output_type": "execute_result"
    }
   ],
   "source": [
    "# проверим в каком процентном соотношении пропуски в данных\n",
    "\n",
    "round(data.isna().sum()/len(data)*100, 2)"
   ]
  },
  {
   "cell_type": "code",
   "execution_count": 10,
   "metadata": {
    "scrolled": true
   },
   "outputs": [
    {
     "data": {
      "text/plain": [
       "array(['100', '145', '147', '156', '159', '1_reihe', '1er', '200',\n",
       "       '2_reihe', '300c', '3_reihe', '3er', '4_reihe', '500', '5_reihe',\n",
       "       '5er', '601', '6_reihe', '6er', '7er', '80', '850', '90', '900',\n",
       "       '9000', '911', 'a1', 'a2', 'a3', 'a4', 'a5', 'a6', 'a8',\n",
       "       'a_klasse', 'accord', 'agila', 'alhambra', 'almera', 'altea',\n",
       "       'amarok', 'antara', 'arosa', 'astra', 'auris', 'avensis', 'aveo',\n",
       "       'aygo', 'b_klasse', 'b_max', 'beetle', 'berlingo', 'bora',\n",
       "       'boxster', 'bravo', 'c1', 'c2', 'c3', 'c4', 'c5', 'c_klasse',\n",
       "       'c_max', 'c_reihe', 'caddy', 'calibra', 'captiva', 'carisma',\n",
       "       'carnival', 'cayenne', 'cc', 'ceed', 'charade', 'cherokee',\n",
       "       'citigo', 'civic', 'cl', 'clio', 'clk', 'clubman', 'colt', 'combo',\n",
       "       'cooper', 'cordoba', 'corolla', 'corsa', 'cr_reihe', 'croma',\n",
       "       'crossfire', 'cuore', 'cx_reihe', 'defender', 'delta', 'discovery',\n",
       "       'doblo', 'ducato', 'duster', 'e_klasse', 'elefantino', 'eos',\n",
       "       'escort', 'espace', 'exeo', 'fabia', 'fiesta', 'focus', 'forester',\n",
       "       'forfour', 'fortwo', 'fox', 'freelander', 'fusion', 'g_klasse',\n",
       "       'galant', 'galaxy', 'getz', 'gl', 'glk', 'golf', 'grand', 'i3',\n",
       "       'i_reihe', 'ibiza', 'impreza', 'insignia', 'jazz', 'jetta',\n",
       "       'jimny', 'juke', 'justy', 'ka', 'kadett', 'kaefer', 'kalina',\n",
       "       'kalos', 'kangoo', 'kappa', 'kuga', 'laguna', 'lancer', 'lanos',\n",
       "       'legacy', 'leon', 'lodgy', 'logan', 'lupo', 'lybra', 'm_klasse',\n",
       "       'm_reihe', 'materia', 'matiz', 'megane', 'meriva', 'micra', 'mii',\n",
       "       'modus', 'mondeo', 'move', 'musa', 'mustang', 'mx_reihe', 'navara',\n",
       "       'niva', 'note', 'nubira', 'octavia', 'omega', 'one', 'other',\n",
       "       'outlander', 'pajero', 'panda', 'passat', 'phaeton', 'picanto',\n",
       "       'polo', 'primera', 'ptcruiser', 'punto', 'q3', 'q5', 'q7',\n",
       "       'qashqai', 'r19', 'range_rover', 'range_rover_evoque',\n",
       "       'range_rover_sport', 'rangerover', 'rav', 'rio', 'roadster',\n",
       "       'roomster', 'rx_reihe', 's60', 's_klasse', 's_max', 's_type',\n",
       "       'samara', 'sandero', 'santa', 'scenic', 'scirocco', 'seicento',\n",
       "       'serie_1', 'serie_2', 'serie_3', 'sharan', 'signum', 'sirion',\n",
       "       'sl', 'slk', 'sorento', 'spark', 'spider', 'sportage', 'sprinter',\n",
       "       'stilo', 'superb', 'swift', 'terios', 'tigra', 'tiguan', 'toledo',\n",
       "       'touareg', 'touran', 'transit', 'transporter', 'tt', 'tucson',\n",
       "       'twingo', 'up', 'v40', 'v50', 'v60', 'v70', 'v_klasse', 'vectra',\n",
       "       'verso', 'viano', 'vito', 'vivaro', 'voyager', 'wrangler',\n",
       "       'x_reihe', 'x_trail', 'x_type', 'xc_reihe', 'yaris', 'yeti',\n",
       "       'ypsilon', 'z_reihe', 'zafira', nan], dtype=object)"
      ]
     },
     "execution_count": 10,
     "metadata": {},
     "output_type": "execute_result"
    }
   ],
   "source": [
    "# в датасете имеется много пропусков в типе данных object, поэтому средним или медианным значениями данные не заполнить, но мы можем заполнить их модей\n",
    "# попытаемся заполнить пропуски по группировке. Проверим имеются ли скрытые дубикаты в моделях и брендах\n",
    "\n",
    "unique_model = data['model'].sort_values() # \n",
    "unique_model.unique()"
   ]
  },
  {
   "cell_type": "code",
   "execution_count": 11,
   "metadata": {},
   "outputs": [
    {
     "data": {
      "text/plain": [
       "array(['alfa_romeo', 'audi', 'bmw', 'chevrolet', 'chrysler', 'citroen',\n",
       "       'dacia', 'daewoo', 'daihatsu', 'fiat', 'ford', 'honda', 'hyundai',\n",
       "       'jaguar', 'jeep', 'kia', 'lada', 'lancia', 'land_rover', 'mazda',\n",
       "       'mercedes_benz', 'mini', 'mitsubishi', 'nissan', 'opel', 'peugeot',\n",
       "       'porsche', 'renault', 'rover', 'saab', 'seat', 'skoda', 'smart',\n",
       "       'sonstige_autos', 'subaru', 'suzuki', 'toyota', 'trabant',\n",
       "       'volkswagen', 'volvo'], dtype=object)"
      ]
     },
     "execution_count": 11,
     "metadata": {},
     "output_type": "execute_result"
    }
   ],
   "source": [
    "unique_model = data['brand'].sort_values() # \n",
    "unique_model.unique()"
   ]
  },
  {
   "cell_type": "code",
   "execution_count": 12,
   "metadata": {},
   "outputs": [],
   "source": [
    "# дополним все данные по модели модей используя полные данные по бренду и году\n",
    "# после имея данные по бренду и модели заполним тип кузова, тип топлива и коробки передач\n",
    "\n",
    "def fill_with_mode(column, column1, column2):\n",
    "    data[column] = data.groupby([column1, column2])[column].transform(lambda x: x.fillna((x.mode()[0] if not x.mode().empty else \"empty\")))"
   ]
  },
  {
   "cell_type": "code",
   "execution_count": 13,
   "metadata": {},
   "outputs": [],
   "source": [
    "fill_with_mode('model', 'brand', 'registration_year')\n",
    "fill_with_mode('fuel_type', 'brand', 'model')\n",
    "fill_with_mode('vehicle_type', 'brand', 'model')\n",
    "fill_with_mode('gearbox', 'brand', 'model')"
   ]
  },
  {
   "cell_type": "code",
   "execution_count": 14,
   "metadata": {},
   "outputs": [],
   "source": [
    "# удалим все строчки, где не удалось модой внести данные (это приблизительно 2700позиций)\n",
    "\n",
    "data = data[data['model'] != \"empty\"]\n",
    "data = data[data['fuel_type'] != \"empty\"]\n",
    "data = data[data['vehicle_type'] != \"empty\"]\n",
    "data = data[data['gearbox'] != \"empty\"]"
   ]
  },
  {
   "cell_type": "code",
   "execution_count": 15,
   "metadata": {},
   "outputs": [
    {
     "data": {
      "text/plain": [
       "date_crawled            0\n",
       "price                 0.0\n",
       "vehicle_type            0\n",
       "registration_year     0.0\n",
       "gearbox                 0\n",
       "power                 0.0\n",
       "model                   0\n",
       "kilometer             0.0\n",
       "registration_month    0.0\n",
       "fuel_type               0\n",
       "brand                   0\n",
       "repaired                0\n",
       "date_created            0\n",
       "number_of_pictures    0.0\n",
       "postal_code           0.0\n",
       "last_seen               0\n",
       "dtype: object"
      ]
     },
     "execution_count": 15,
     "metadata": {},
     "output_type": "execute_result"
    }
   ],
   "source": [
    "# проверим осталось ли что-то с 'empty'\n",
    "data[data=='empty'].sum()\n"
   ]
  },
  {
   "cell_type": "code",
   "execution_count": 16,
   "metadata": {},
   "outputs": [
    {
     "data": {
      "text/plain": [
       "date_crawled           0.00\n",
       "price                  0.00\n",
       "vehicle_type           0.00\n",
       "registration_year      0.00\n",
       "gearbox                0.00\n",
       "power                  0.00\n",
       "model                  0.00\n",
       "kilometer              0.00\n",
       "registration_month     0.00\n",
       "fuel_type              0.00\n",
       "brand                  0.00\n",
       "repaired              18.48\n",
       "date_created           0.00\n",
       "number_of_pictures     0.00\n",
       "postal_code            0.00\n",
       "last_seen              0.00\n",
       "dtype: float64"
      ]
     },
     "execution_count": 16,
     "metadata": {},
     "output_type": "execute_result"
    }
   ],
   "source": [
    "# проверим оставшиеся пропуски\n",
    "\n",
    "round(data.isna().sum()/len(data)*100, 2)"
   ]
  },
  {
   "cell_type": "code",
   "execution_count": 17,
   "metadata": {},
   "outputs": [],
   "source": [
    "# В колонке Repaired тип данных по сути bool и можно предположить, что отсутствующие данные могут быть знаком, что машина после ремонта. \n",
    "# Но так как данных в датасете много, то лучше удалить все данные с пропуском, чтоб избежать возможного искаженния данных  \n",
    "\n",
    "data = data.dropna(subset=['repaired'])"
   ]
  },
  {
   "cell_type": "code",
   "execution_count": 18,
   "metadata": {},
   "outputs": [
    {
     "data": {
      "text/plain": [
       "no     235167\n",
       "yes     33920\n",
       "Name: repaired, dtype: int64"
      ]
     },
     "execution_count": 18,
     "metadata": {},
     "output_type": "execute_result"
    }
   ],
   "source": [
    "# после удаления пропусков, осталось 269087 данных. Этого достаточно чтоб далее произвести обучение модели\n",
    "# переведем данные  repaired в числовой тип, т.е 0 или 1\n",
    "\n",
    "data['repaired'].value_counts()"
   ]
  },
  {
   "cell_type": "code",
   "execution_count": 19,
   "metadata": {},
   "outputs": [
    {
     "data": {
      "text/plain": [
       "0    235167\n",
       "1     33920\n",
       "Name: was_repair, dtype: int64"
      ]
     },
     "execution_count": 19,
     "metadata": {},
     "output_type": "execute_result"
    }
   ],
   "source": [
    "data['was_repair'] = 0\n",
    "data.loc[data['repaired'] == 'yes', 'was_repair'] = 1\n",
    "data['was_repair'].value_counts()"
   ]
  },
  {
   "cell_type": "code",
   "execution_count": 20,
   "metadata": {},
   "outputs": [
    {
     "data": {
      "text/plain": [
       "0    269087\n",
       "Name: number_of_pictures, dtype: int64"
      ]
     },
     "execution_count": 20,
     "metadata": {},
     "output_type": "execute_result"
    }
   ],
   "source": [
    "data['number_of_pictures'].value_counts()\n",
    "\n",
    "# все значения нулевые. Колонка неинформативная, нужно ее удалить"
   ]
  },
  {
   "cell_type": "code",
   "execution_count": 21,
   "metadata": {},
   "outputs": [
    {
     "data": {
      "text/plain": [
       "manual    214182\n",
       "auto       54905\n",
       "Name: gearbox, dtype: int64"
      ]
     },
     "execution_count": 21,
     "metadata": {},
     "output_type": "execute_result"
    }
   ],
   "source": [
    "# переведем данные  Gearbox в числовой тип, т.е 0 или 1\n",
    "\n",
    "data['gearbox'].value_counts()"
   ]
  },
  {
   "cell_type": "code",
   "execution_count": 22,
   "metadata": {},
   "outputs": [
    {
     "data": {
      "text/plain": [
       "1    214182\n",
       "0     54905\n",
       "Name: manual_gearbox, dtype: int64"
      ]
     },
     "execution_count": 22,
     "metadata": {},
     "output_type": "execute_result"
    }
   ],
   "source": [
    "data['manual_gearbox'] = 0\n",
    "data.loc[data['gearbox'] == 'manual', 'manual_gearbox'] = 1\n",
    "data['manual_gearbox'].value_counts()"
   ]
  },
  {
   "cell_type": "code",
   "execution_count": 23,
   "metadata": {},
   "outputs": [],
   "source": [
    "# удалим лишние данные, чтоб они не тормозили модель при обучении и предсказании - это бренд, ктр является аналогом модели, даты, индексы, кол-во фото, которое равно 0 и т.д)\n",
    "\n",
    "data = data.drop(['date_crawled', 'registration_month', 'brand', 'postal_code', 'date_created', 'last_seen', 'number_of_pictures'], axis=1)"
   ]
  },
  {
   "cell_type": "code",
   "execution_count": 24,
   "metadata": {},
   "outputs": [
    {
     "data": {
      "text/html": [
       "<div>\n",
       "<style scoped>\n",
       "    .dataframe tbody tr th:only-of-type {\n",
       "        vertical-align: middle;\n",
       "    }\n",
       "\n",
       "    .dataframe tbody tr th {\n",
       "        vertical-align: top;\n",
       "    }\n",
       "\n",
       "    .dataframe thead th {\n",
       "        text-align: right;\n",
       "    }\n",
       "</style>\n",
       "<table border=\"1\" class=\"dataframe\">\n",
       "  <thead>\n",
       "    <tr style=\"text-align: right;\">\n",
       "      <th></th>\n",
       "      <th>price</th>\n",
       "      <th>registration_year</th>\n",
       "      <th>power</th>\n",
       "      <th>kilometer</th>\n",
       "      <th>was_repair</th>\n",
       "      <th>manual_gearbox</th>\n",
       "    </tr>\n",
       "  </thead>\n",
       "  <tbody>\n",
       "    <tr>\n",
       "      <th>count</th>\n",
       "      <td>269087.000000</td>\n",
       "      <td>269087.000000</td>\n",
       "      <td>269087.000000</td>\n",
       "      <td>269087.000000</td>\n",
       "      <td>269087.000000</td>\n",
       "      <td>269087.000000</td>\n",
       "    </tr>\n",
       "    <tr>\n",
       "      <th>mean</th>\n",
       "      <td>4904.352871</td>\n",
       "      <td>2002.984585</td>\n",
       "      <td>117.361731</td>\n",
       "      <td>127870.186966</td>\n",
       "      <td>0.126056</td>\n",
       "      <td>0.795958</td>\n",
       "    </tr>\n",
       "    <tr>\n",
       "      <th>std</th>\n",
       "      <td>4660.675116</td>\n",
       "      <td>5.869797</td>\n",
       "      <td>161.161491</td>\n",
       "      <td>36917.470961</td>\n",
       "      <td>0.331913</td>\n",
       "      <td>0.403000</td>\n",
       "    </tr>\n",
       "    <tr>\n",
       "      <th>min</th>\n",
       "      <td>0.000000</td>\n",
       "      <td>1975.000000</td>\n",
       "      <td>0.000000</td>\n",
       "      <td>5000.000000</td>\n",
       "      <td>0.000000</td>\n",
       "      <td>0.000000</td>\n",
       "    </tr>\n",
       "    <tr>\n",
       "      <th>25%</th>\n",
       "      <td>1350.000000</td>\n",
       "      <td>1999.000000</td>\n",
       "      <td>75.000000</td>\n",
       "      <td>125000.000000</td>\n",
       "      <td>0.000000</td>\n",
       "      <td>1.000000</td>\n",
       "    </tr>\n",
       "    <tr>\n",
       "      <th>50%</th>\n",
       "      <td>3200.000000</td>\n",
       "      <td>2003.000000</td>\n",
       "      <td>109.000000</td>\n",
       "      <td>150000.000000</td>\n",
       "      <td>0.000000</td>\n",
       "      <td>1.000000</td>\n",
       "    </tr>\n",
       "    <tr>\n",
       "      <th>75%</th>\n",
       "      <td>7000.000000</td>\n",
       "      <td>2007.000000</td>\n",
       "      <td>150.000000</td>\n",
       "      <td>150000.000000</td>\n",
       "      <td>0.000000</td>\n",
       "      <td>1.000000</td>\n",
       "    </tr>\n",
       "    <tr>\n",
       "      <th>max</th>\n",
       "      <td>20000.000000</td>\n",
       "      <td>2016.000000</td>\n",
       "      <td>20000.000000</td>\n",
       "      <td>150000.000000</td>\n",
       "      <td>1.000000</td>\n",
       "      <td>1.000000</td>\n",
       "    </tr>\n",
       "  </tbody>\n",
       "</table>\n",
       "</div>"
      ],
      "text/plain": [
       "               price  registration_year          power      kilometer  \\\n",
       "count  269087.000000      269087.000000  269087.000000  269087.000000   \n",
       "mean     4904.352871        2002.984585     117.361731  127870.186966   \n",
       "std      4660.675116           5.869797     161.161491   36917.470961   \n",
       "min         0.000000        1975.000000       0.000000    5000.000000   \n",
       "25%      1350.000000        1999.000000      75.000000  125000.000000   \n",
       "50%      3200.000000        2003.000000     109.000000  150000.000000   \n",
       "75%      7000.000000        2007.000000     150.000000  150000.000000   \n",
       "max     20000.000000        2016.000000   20000.000000  150000.000000   \n",
       "\n",
       "          was_repair  manual_gearbox  \n",
       "count  269087.000000   269087.000000  \n",
       "mean        0.126056        0.795958  \n",
       "std         0.331913        0.403000  \n",
       "min         0.000000        0.000000  \n",
       "25%         0.000000        1.000000  \n",
       "50%         0.000000        1.000000  \n",
       "75%         0.000000        1.000000  \n",
       "max         1.000000        1.000000  "
      ]
     },
     "execution_count": 24,
     "metadata": {},
     "output_type": "execute_result"
    }
   ],
   "source": [
    "#  выведем статистические показатели наших числовых признаков/\n",
    "# И проверим снова данные на анамалии или выбрасы - имеются минимальные данные на прайсе и мощности, что анамально\n",
    "\n",
    "data.describe()"
   ]
  },
  {
   "cell_type": "code",
   "execution_count": 25,
   "metadata": {},
   "outputs": [
    {
     "data": {
      "image/png": "[encoded data removed]",
      "text/plain": [
       "<Figure size 1080x576 with 1 Axes>"
      ]
     },
     "metadata": {
      "needs_background": "light"
     },
     "output_type": "display_data"
    }
   ],
   "source": [
    "# построим ящик с усами, чтоб увидеть выбросы\n",
    "\n",
    "data.boxplot(figsize=(15, 8));"
   ]
  },
  {
   "cell_type": "code",
   "execution_count": 26,
   "metadata": {},
   "outputs": [
    {
     "data": {
      "image/png": "[encoded data removed]",
      "text/plain": [
       "<Figure size 576x360 with 1 Axes>"
      ]
     },
     "metadata": {
      "needs_background": "light"
     },
     "output_type": "display_data"
    }
   ],
   "source": [
    "data['price'].hist(bins=100, figsize=(8,5))\n",
    "plt.show()"
   ]
  },
  {
   "cell_type": "code",
   "execution_count": 27,
   "metadata": {},
   "outputs": [],
   "source": [
    "data['price'].value_counts() # цены с нулевым показателем удаляем\n",
    "data = data[data['price'] > 0]\n"
   ]
  },
  {
   "cell_type": "code",
   "execution_count": 28,
   "metadata": {},
   "outputs": [
    {
     "data": {
      "image/png": "[encoded data removed]",
      "text/plain": [
       "<Figure size 576x360 with 1 Axes>"
      ]
     },
     "metadata": {
      "needs_background": "light"
     },
     "output_type": "display_data"
    }
   ],
   "source": [
    "data['power'].hist(bins=5, figsize=(8,5))\n",
    "plt.show()"
   ]
  },
  {
   "cell_type": "code",
   "execution_count": 29,
   "metadata": {},
   "outputs": [],
   "source": [
    "# в данных имеется мощность равная 0, это анамально. Удалим все данные ниже 40 и выше 1000\n",
    "\n",
    "data = data[(data['power'] > 40) & (data['power'] < 1000)]"
   ]
  },
  {
   "cell_type": "code",
   "execution_count": 30,
   "metadata": {},
   "outputs": [
    {
     "data": {
      "image/png": "[encoded data removed]",
      "text/plain": [
       "<Figure size 576x360 with 1 Axes>"
      ]
     },
     "metadata": {
      "needs_background": "light"
     },
     "output_type": "display_data"
    }
   ],
   "source": [
    "# везде имеются выбросы. Но мы не можем удалить выбросы у признаков автомобиля, \n",
    "#потому что уникальность не отменяет того факта, что похожие данные будет использовать пользователь для определения стоимости своего авто\n",
    "# а вот выброс в цене мы можем регулировать. Удалим из анализируемого датасета выбросы в цене \n",
    "data.boxplot('price', figsize=(8, 5));"
   ]
  },
  {
   "cell_type": "code",
   "execution_count": 31,
   "metadata": {},
   "outputs": [],
   "source": [
    "data = data[data['price'] < 17000]"
   ]
  },
  {
   "cell_type": "code",
   "execution_count": 32,
   "metadata": {},
   "outputs": [
    {
     "name": "stdout",
     "output_type": "stream",
     "text": [
      "0.5965794241940675\n",
      "0.48160942357304276\n",
      "-0.3723301396040438\n",
      "-0.22899660529452107\n",
      "-0.23326232916554757\n"
     ]
    }
   ],
   "source": [
    "# проверим корреляцию между признаками и целевым признаком Price\n",
    "\n",
    "lst = ['registration_year', 'power', 'kilometer', 'manual_gearbox', 'was_repair']\n",
    "\n",
    "for i in lst:\n",
    "    print(data['price'].corr(data[i]))\n",
    "    "
   ]
  },
  {
   "cell_type": "markdown",
   "metadata": {},
   "source": [
    "### Вывод\n",
    "В данных было обнаружено большое кол-во пропусков. Пропуски были в данных типа bool или object. Пропуски признаков заполнили mode в большинстве колонок. А вот пропуски в колонке Ремонт пришлось удалить, чтоб они не исказили данные модели. \n",
    "\n",
    "Обнаруженные дубликат удалены (4 строчки)\n",
    "\n",
    "Некоторые колонки не представляли ценности для модели или были неинформативны ('DateCrawled', 'RegistrationMonth', 'PostalCode', 'LastSeen', 'NumberOfPictures', 'Brand'), поэтому их удалили, чтоб лишние данные не влияли на время работы обучения и прогнозирование модели.\n",
    "\n",
    "Колонки Gearbox\tи Repaired перевели в числовие признаки, т.е. 0 и 1, чтоб эти признаки так же были в обучающей модели.\n",
    "В колонках Price и Power были анамальные данные, а именно нулевые показатели, что не может быть, поэтому они были удалены. Также были удалены выбрасы по цене.\n",
    "\n",
    "В итоге после всей подготовки данных из 354369 позиций осталось 241255. Это приблизительно на 32% меньше исходных данных, но зато мы будем уверены, что в модели будут присутствовать оптимальные данные для модели, да и оставшихся данных более чем достаточно."
   ]
  },
  {
   "cell_type": "markdown",
   "metadata": {},
   "source": [
    "## Обучение моделей"
   ]
  },
  {
   "cell_type": "code",
   "execution_count": 33,
   "metadata": {},
   "outputs": [
    {
     "data": {
      "text/html": [
       "<div>\n",
       "<style scoped>\n",
       "    .dataframe tbody tr th:only-of-type {\n",
       "        vertical-align: middle;\n",
       "    }\n",
       "\n",
       "    .dataframe tbody tr th {\n",
       "        vertical-align: top;\n",
       "    }\n",
       "\n",
       "    .dataframe thead th {\n",
       "        text-align: right;\n",
       "    }\n",
       "</style>\n",
       "<table border=\"1\" class=\"dataframe\">\n",
       "  <thead>\n",
       "    <tr style=\"text-align: right;\">\n",
       "      <th></th>\n",
       "      <th>price</th>\n",
       "      <th>vehicle_type</th>\n",
       "      <th>registration_year</th>\n",
       "      <th>gearbox</th>\n",
       "      <th>power</th>\n",
       "      <th>model</th>\n",
       "      <th>kilometer</th>\n",
       "      <th>fuel_type</th>\n",
       "      <th>repaired</th>\n",
       "      <th>was_repair</th>\n",
       "      <th>manual_gearbox</th>\n",
       "    </tr>\n",
       "  </thead>\n",
       "  <tbody>\n",
       "    <tr>\n",
       "      <th>3</th>\n",
       "      <td>1500</td>\n",
       "      <td>small</td>\n",
       "      <td>2001</td>\n",
       "      <td>manual</td>\n",
       "      <td>75</td>\n",
       "      <td>golf</td>\n",
       "      <td>150000</td>\n",
       "      <td>petrol</td>\n",
       "      <td>no</td>\n",
       "      <td>0</td>\n",
       "      <td>1</td>\n",
       "    </tr>\n",
       "    <tr>\n",
       "      <th>4</th>\n",
       "      <td>3600</td>\n",
       "      <td>small</td>\n",
       "      <td>2008</td>\n",
       "      <td>manual</td>\n",
       "      <td>69</td>\n",
       "      <td>fabia</td>\n",
       "      <td>90000</td>\n",
       "      <td>gasoline</td>\n",
       "      <td>no</td>\n",
       "      <td>0</td>\n",
       "      <td>1</td>\n",
       "    </tr>\n",
       "    <tr>\n",
       "      <th>5</th>\n",
       "      <td>650</td>\n",
       "      <td>sedan</td>\n",
       "      <td>1995</td>\n",
       "      <td>manual</td>\n",
       "      <td>102</td>\n",
       "      <td>3er</td>\n",
       "      <td>150000</td>\n",
       "      <td>petrol</td>\n",
       "      <td>yes</td>\n",
       "      <td>1</td>\n",
       "      <td>1</td>\n",
       "    </tr>\n",
       "    <tr>\n",
       "      <th>6</th>\n",
       "      <td>2200</td>\n",
       "      <td>convertible</td>\n",
       "      <td>2004</td>\n",
       "      <td>manual</td>\n",
       "      <td>109</td>\n",
       "      <td>2_reihe</td>\n",
       "      <td>150000</td>\n",
       "      <td>petrol</td>\n",
       "      <td>no</td>\n",
       "      <td>0</td>\n",
       "      <td>1</td>\n",
       "    </tr>\n",
       "    <tr>\n",
       "      <th>10</th>\n",
       "      <td>2000</td>\n",
       "      <td>sedan</td>\n",
       "      <td>2004</td>\n",
       "      <td>manual</td>\n",
       "      <td>105</td>\n",
       "      <td>3_reihe</td>\n",
       "      <td>150000</td>\n",
       "      <td>petrol</td>\n",
       "      <td>no</td>\n",
       "      <td>0</td>\n",
       "      <td>1</td>\n",
       "    </tr>\n",
       "  </tbody>\n",
       "</table>\n",
       "</div>"
      ],
      "text/plain": [
       "    price vehicle_type  registration_year gearbox  power    model  kilometer  \\\n",
       "3    1500        small               2001  manual     75     golf     150000   \n",
       "4    3600        small               2008  manual     69    fabia      90000   \n",
       "5     650        sedan               1995  manual    102      3er     150000   \n",
       "6    2200  convertible               2004  manual    109  2_reihe     150000   \n",
       "10   2000        sedan               2004  manual    105  3_reihe     150000   \n",
       "\n",
       "   fuel_type repaired  was_repair  manual_gearbox  \n",
       "3     petrol       no           0               1  \n",
       "4   gasoline       no           0               1  \n",
       "5     petrol      yes           1               1  \n",
       "6     petrol       no           0               1  \n",
       "10    petrol       no           0               1  "
      ]
     },
     "execution_count": 33,
     "metadata": {},
     "output_type": "execute_result"
    }
   ],
   "source": [
    "data.head()"
   ]
  },
  {
   "cell_type": "code",
   "execution_count": 34,
   "metadata": {},
   "outputs": [],
   "source": [
    "# обозначим числовые признаки и целевой признак\n",
    "\n",
    "features = data.drop(['price', 'repaired', 'gearbox'], axis=1)\n",
    "\n",
    "target = data['price']"
   ]
  },
  {
   "cell_type": "code",
   "execution_count": 35,
   "metadata": {},
   "outputs": [
    {
     "name": "stdout",
     "output_type": "stream",
     "text": [
      "(135705, 8)\n",
      "(45236, 8)\n",
      "(60314, 8)\n",
      "(135705,)\n",
      "(45236,)\n",
      "(60314,)\n"
     ]
    }
   ],
   "source": [
    "#разделим данные на обучающую и тестовую выборки. Затем обучающую разделим на обучающую и валидационную. Проверим верность разбивки\n",
    "\n",
    "features_train_total, features_test, target_train_total, target_test = train_test_split(features, target, test_size=0.25, random_state=12345)\n",
    "features_train, features_valid, target_train, target_valid = train_test_split(features_train_total, target_train_total, test_size=0.25, random_state=12345)\n",
    "\n",
    "print(features_train.shape)\n",
    "print(features_valid.shape)\n",
    "print(features_test.shape)\n",
    "print(target_train.shape)\n",
    "print(target_valid.shape)\n",
    "print(target_test.shape)"
   ]
  },
  {
   "cell_type": "markdown",
   "metadata": {},
   "source": [
    "```python\n",
    "# прямое кодирование (для линейных моделей)\n",
    "features_train_ohe = pd.get_dummies(features_train, drop_first=True)\n",
    "features_valid_ohe = pd.get_dummies(features_valid, drop_first=True)\n",
    "features_test_ohe = pd.get_dummies(features_test, drop_first=True)\n",
    "# после прямого кодирования кол-во признаков в выборках будет отличаться\n",
    "# поэтому стоит удалить лишние признаки в каждой выборке\n",
    "\n",
    "# Найдем общие признаки между обучающей, валидационной и тестовой выборками\n",
    "common_columns = set(features_train_ohe.columns) & set(features_valid_ohe.columns) & set(features_test_ohe.columns)\n",
    "\n",
    "# Оставим в каждой выборке только общие признаки\n",
    "features_train_ohe = features_train_ohe[list(common_columns)]\n",
    "features_valid_ohe = features_valid_ohe[list(common_columns)]\n",
    "features_test_ohe = features_test_ohe[list(common_columns)]\n",
    "```"
   ]
  },
  {
   "cell_type": "markdown",
   "metadata": {},
   "source": [
    "### Линейная регрессия"
   ]
  },
  {
   "cell_type": "code",
   "execution_count": 36,
   "metadata": {},
   "outputs": [],
   "source": [
    "# произведем прямое кодирование признаков. Применим технику ОНЕ, чтоб качественные признаки сделать количественными для модели\n",
    "\n",
    "features_train_ohe = pd.get_dummies(features_train, drop_first=True)\n",
    "features_valid_ohe = pd.get_dummies(features_valid, drop_first=True)\n",
    "features_test_ohe = pd.get_dummies(features_test, drop_first=True)"
   ]
  },
  {
   "cell_type": "code",
   "execution_count": 37,
   "metadata": {},
   "outputs": [],
   "source": [
    "# Найдем общие признаки между обучающей, валидационной и тестовой выборками\n",
    "\n",
    "common_columns = set(features_train_ohe.columns) & set(features_valid_ohe.columns) & set(features_test_ohe.columns)"
   ]
  },
  {
   "cell_type": "code",
   "execution_count": 38,
   "metadata": {},
   "outputs": [],
   "source": [
    "# Оставим в каждой выборке только общие признаки\n",
    "\n",
    "features_train_ohe = features_train_ohe[list(common_columns)]\n",
    "features_valid_ohe = features_valid_ohe[list(common_columns)]\n",
    "features_test_ohe = features_test_ohe[list(common_columns)]"
   ]
  },
  {
   "cell_type": "code",
   "execution_count": 39,
   "metadata": {},
   "outputs": [],
   "source": [
    "# по индексу сгруппируем закодированные признаки для выборок\n",
    "\n",
    "ohe_features_train = features_train_ohe.loc[features_train.index, :]\n",
    "ohe_features_valid = features_valid_ohe.loc[features_valid.index, :]\n",
    "ohe_features_test = features_test_ohe.loc[features_test.index, :]"
   ]
  },
  {
   "cell_type": "code",
   "execution_count": 40,
   "metadata": {},
   "outputs": [
    {
     "name": "stdout",
     "output_type": "stream",
     "text": [
      "CPU times: user 9.01 s, sys: 2.73 s, total: 11.7 s\n",
      "Wall time: 11.7 s\n"
     ]
    },
    {
     "data": {
      "text/plain": [
       "LinearRegression()"
      ]
     },
     "execution_count": 40,
     "metadata": {},
     "output_type": "execute_result"
    }
   ],
   "source": [
    "%%time\n",
    "\n",
    "# время обучения\n",
    "\n",
    "model_LR = LinearRegression()\n",
    "model_LR.fit(ohe_features_train, target_train)"
   ]
  },
  {
   "cell_type": "code",
   "execution_count": 41,
   "metadata": {},
   "outputs": [
    {
     "name": "stdout",
     "output_type": "stream",
     "text": [
      "RMSE линейной регрессии: 2240.713693470715\n",
      "Время работы:\n",
      "CPU times: user 71.6 ms, sys: 107 ms, total: 178 ms\n",
      "Wall time: 147 ms\n"
     ]
    }
   ],
   "source": [
    "%%time\n",
    "\n",
    "# время предсказания\n",
    "\n",
    "predicted_LR = model_LR.predict(ohe_features_valid)\n",
    "rmse_LR = (mean_squared_error(target_valid, predicted_LR))**0.5\n",
    "print(f'RMSE линейной регрессии: {rmse_LR}')\n",
    "print(f'Время работы:')\n"
   ]
  },
  {
   "cell_type": "markdown",
   "metadata": {},
   "source": [
    "### Дерево решений"
   ]
  },
  {
   "cell_type": "code",
   "execution_count": 42,
   "metadata": {},
   "outputs": [
    {
     "data": {
      "text/plain": [
       "OrdinalEncoder(handle_unknown='use_encoded_value', unknown_value=9999)"
      ]
     },
     "execution_count": 42,
     "metadata": {},
     "output_type": "execute_result"
    }
   ],
   "source": [
    "# произведем порядковое кодирование путем OE\n",
    "\n",
    "encoder = OrdinalEncoder(handle_unknown='use_encoded_value', unknown_value=9999)\n",
    "cat_columns = ['vehicle_type', 'model', 'fuel_type', 'was_repair', 'manual_gearbox']\n",
    "encoder.fit(features_train[cat_columns])\n",
    "\n"
   ]
  },
  {
   "cell_type": "code",
   "execution_count": 43,
   "metadata": {},
   "outputs": [],
   "source": [
    "features_train_ord = features_train.copy()\n",
    "features_valid_ord = features_valid.copy()\n",
    "features_test_ord = features_test.copy()\n",
    "\n",
    "features_train_ord[cat_columns] = encoder.transform(features_train_ord[cat_columns])\n",
    "features_valid_ord[cat_columns] = encoder.transform(features_valid_ord[cat_columns])\n",
    "features_test_ord[cat_columns] = encoder.transform(features_test_ord[cat_columns])\n"
   ]
  },
  {
   "cell_type": "code",
   "execution_count": 44,
   "metadata": {},
   "outputs": [
    {
     "data": {
      "text/plain": [
       "\"\\nОпределим оптимальные параметры для обучения и закомментируем результат\\n%%time\\n\\n# определим оптимальные параметры для модели\\n\\nbest_model = None\\nbest_result = 2500\\nbest_depth = 0\\nfor depth in range(1, 6):\\n    model_TR = DecisionTreeRegressor(random_state=12345, max_depth=depth)# инициализируем модель DecisionTreeRegressor с параметром random_state=12345 и max_depth=depth\\n    model_TR.fit(ohe_features_train, target_train) # обучим модель на тренировочной выборке    \\n    predictions_TR = model_TR.predict(ohe_features_train) # получим предсказания модели для выборки\\n    result = (mean_squared_error(target_train, predictions_TR))**0.5 # посчитаем значение метрики rmse на выборке\\n    if result < best_result:\\n        best_model = model_TR\\n        best_result = result\\n        best_depth = depth\\n\\nprint(f'RMSE наилучшей модели Дерева решений: {best_result}, Глубина дерева: {best_depth}')\\nprint(f'Время работы:')\\n\""
      ]
     },
     "execution_count": 44,
     "metadata": {},
     "output_type": "execute_result"
    }
   ],
   "source": [
    "\"\"\"\n",
    "Определим оптимальные параметры для обучения и закомментируем результат\n",
    "%%time\n",
    "\n",
    "# определим оптимальные параметры для модели\n",
    "\n",
    "best_model = None\n",
    "best_result = 2500\n",
    "best_depth = 0\n",
    "for depth in range(1, 6):\n",
    "    model_TR = DecisionTreeRegressor(random_state=12345, max_depth=depth)# инициализируем модель DecisionTreeRegressor с параметром random_state=12345 и max_depth=depth\n",
    "    model_TR.fit(ohe_features_train, target_train) # обучим модель на тренировочной выборке    \n",
    "    predictions_TR = model_TR.predict(ohe_features_train) # получим предсказания модели для выборки\n",
    "    result = (mean_squared_error(target_train, predictions_TR))**0.5 # посчитаем значение метрики rmse на выборке\n",
    "    if result < best_result:\n",
    "        best_model = model_TR\n",
    "        best_result = result\n",
    "        best_depth = depth\n",
    "\n",
    "print(f'RMSE наилучшей модели Дерева решений: {best_result}, Глубина дерева: {best_depth}')\n",
    "print(f'Время работы:')\n",
    "\"\"\""
   ]
  },
  {
   "cell_type": "code",
   "execution_count": 45,
   "metadata": {},
   "outputs": [
    {
     "name": "stdout",
     "output_type": "stream",
     "text": [
      "CPU times: user 171 ms, sys: 10.8 ms, total: 181 ms\n",
      "Wall time: 179 ms\n"
     ]
    },
    {
     "data": {
      "text/plain": [
       "DecisionTreeRegressor(max_depth=5, random_state=12345)"
      ]
     },
     "execution_count": 45,
     "metadata": {},
     "output_type": "execute_result"
    }
   ],
   "source": [
    "%%time\n",
    "\n",
    "# время обучения\n",
    "\n",
    "model_TR = DecisionTreeRegressor(random_state=12345, max_depth=5)\n",
    "model_TR.fit(features_train_ord, target_train)  \n"
   ]
  },
  {
   "cell_type": "code",
   "execution_count": 46,
   "metadata": {},
   "outputs": [
    {
     "name": "stdout",
     "output_type": "stream",
     "text": [
      "RMSE наилучшей модели Дерева решений: 2168.387017375911\n",
      "Время работы:\n",
      "CPU times: user 9 ms, sys: 888 µs, total: 9.89 ms\n",
      "Wall time: 10.4 ms\n"
     ]
    }
   ],
   "source": [
    "%%time\n",
    "\n",
    "# время предсказания\n",
    "\n",
    "predictions_TR = model_TR.predict(features_valid_ord) \n",
    "rmse_TR = (mean_squared_error(target_valid, predictions_TR))**0.5 \n",
    "print(f'RMSE наилучшей модели Дерева решений: {rmse_TR}')\n",
    "print(f'Время работы:')\n"
   ]
  },
  {
   "cell_type": "markdown",
   "metadata": {},
   "source": [
    "### CatBoostRegressor"
   ]
  },
  {
   "cell_type": "code",
   "execution_count": 47,
   "metadata": {},
   "outputs": [
    {
     "name": "stdout",
     "output_type": "stream",
     "text": [
      "CPU times: user 20.5 s, sys: 89.7 ms, total: 20.6 s\n",
      "Wall time: 21.7 s\n"
     ]
    },
    {
     "data": {
      "text/plain": [
       "<catboost.core.CatBoostRegressor at 0x7efed157b910>"
      ]
     },
     "execution_count": 47,
     "metadata": {},
     "output_type": "execute_result"
    }
   ],
   "source": [
    "%%time\n",
    "\n",
    "# время обучения\n",
    "\n",
    "model_CBR = CatBoostRegressor(learning_rate=0.5, random_state=12345, verbose=False) # инициализируем модель\n",
    "model_CBR.fit(ohe_features_train, target_train) # обучим модель\n"
   ]
  },
  {
   "cell_type": "code",
   "execution_count": 48,
   "metadata": {},
   "outputs": [
    {
     "name": "stdout",
     "output_type": "stream",
     "text": [
      "RMSE CatBoostRegressor: 1412.4780007345041\n",
      "Время работы:\n",
      "CPU times: user 111 ms, sys: 4.12 ms, total: 115 ms\n",
      "Wall time: 113 ms\n"
     ]
    }
   ],
   "source": [
    "%%time\n",
    "\n",
    "# время предсказания\n",
    "\n",
    "predicted_CBR = model_CBR.predict(ohe_features_valid)\n",
    "rmse_CBR = (mean_squared_error(target_valid, predicted_CBR))**0.5\n",
    "print(f'RMSE CatBoostRegressor: {rmse_CBR}')\n",
    "print(f'Время работы:')"
   ]
  },
  {
   "cell_type": "markdown",
   "metadata": {},
   "source": [
    "### LightGBM"
   ]
  },
  {
   "cell_type": "code",
   "execution_count": 49,
   "metadata": {},
   "outputs": [],
   "source": [
    "#LGBMRegressor работает только с категориальными признаками, поэтому создадим таблицу только с ними и закодируем признаки через OE:\n",
    "\n",
    "features_lgbm = data.drop(['price', 'was_repair', 'manual_gearbox'], axis=1)\n",
    "\n",
    "target_lgbm = data['price']"
   ]
  },
  {
   "cell_type": "code",
   "execution_count": 50,
   "metadata": {},
   "outputs": [],
   "source": [
    "#разделим данные на обучающую и тестовую выборки, а затме обучающую разобьем на обучающую и валидационную\n",
    "\n",
    "features_lgbm_train_total, features_lgbm_test, target_lgbm_train_total, target_lgbm_test = train_test_split(features_lgbm, target_lgbm, test_size=0.25, random_state=12345)\n",
    "features_lgbm_train, features_lgbm_valid, target_lgbm_train, target_lgbm_valid = train_test_split(features_lgbm_train_total, target_lgbm_train_total, test_size=0.25, random_state=12345)\n"
   ]
  },
  {
   "cell_type": "code",
   "execution_count": 51,
   "metadata": {},
   "outputs": [],
   "source": [
    "encoder = OrdinalEncoder()\n",
    "\n",
    "oe_features_train = features_lgbm_train[['vehicle_type', 'gearbox', 'model', 'fuel_type', 'repaired']]\n",
    "oe_features_train = pd.DataFrame(encoder.fit_transform(features_lgbm_train),\n",
    "                                 columns=features_lgbm_train.columns,\n",
    "                                 index=features_lgbm_train.index)\n",
    "\n",
    "oe_features_valid = features_lgbm_test[['vehicle_type', 'gearbox', 'model', 'fuel_type', 'repaired']]\n",
    "oe_features_valid = pd.DataFrame(encoder.fit_transform(features_lgbm_valid),\n",
    "                                columns=features_lgbm_valid.columns,\n",
    "                                index=features_lgbm_valid.index)\n",
    "\n",
    "oe_features_test = features_lgbm_test[['vehicle_type', 'gearbox', 'model', 'fuel_type', 'repaired']]\n",
    "oe_features_test = pd.DataFrame(encoder.fit_transform(features_lgbm_test),\n",
    "                                columns=features_lgbm_test.columns,\n",
    "                                index=features_lgbm_test.index)\n",
    "\n",
    "oe_target_train = target_lgbm_train\n",
    "oe_target_valid = target_lgbm_valid\n",
    "oe_target_test = target_lgbm_test"
   ]
  },
  {
   "cell_type": "code",
   "execution_count": 52,
   "metadata": {},
   "outputs": [
    {
     "data": {
      "text/plain": [
       "\"\\nАвтоматически определим наилучшие параметры для модели.\\nзакомментируем данные, чтоб избежать очередного обрабатывания данных\\n\\n%%time\\n\\nmodel_lgbmr = LGBMRegressor() \\nparameters = [{'num_leaves':[25, 50, 100, 200], 'learning_rate':[.1, .3, .5]}]\\n\\nclf = GridSearchCV(model_lgbmr, parameters, scoring='neg_mean_squared_error')\\nclf.fit(oe_features_train, oe_target_train)\\n\\nprint(clf.best_params_)\\n\\n_______________\\n{'learning_rate': 0.3, 'num_leaves': 200}\\nCPU times: user 7min 44s, sys: 11.7 s, total: 7min 55s\\nWall time: 7min 59s\\n\""
      ]
     },
     "execution_count": 52,
     "metadata": {},
     "output_type": "execute_result"
    }
   ],
   "source": [
    "\"\"\"\n",
    "Автоматически определим наилучшие параметры для модели.\n",
    "закомментируем данные, чтоб избежать очередного обрабатывания данных\n",
    "\n",
    "%%time\n",
    "\n",
    "model_lgbmr = LGBMRegressor() \n",
    "parameters = [{'num_leaves':[25, 50, 100, 200], 'learning_rate':[.1, .3, .5]}]\n",
    "\n",
    "clf = GridSearchCV(model_lgbmr, parameters, scoring='neg_mean_squared_error')\n",
    "clf.fit(oe_features_train, oe_target_train)\n",
    "\n",
    "print(clf.best_params_)\n",
    "\n",
    "_______________\n",
    "{'learning_rate': 0.3, 'num_leaves': 200}\n",
    "CPU times: user 7min 44s, sys: 11.7 s, total: 7min 55s\n",
    "Wall time: 7min 59s\n",
    "\"\"\""
   ]
  },
  {
   "cell_type": "code",
   "execution_count": 53,
   "metadata": {},
   "outputs": [
    {
     "name": "stdout",
     "output_type": "stream",
     "text": [
      "CPU times: user 8.7 s, sys: 60.5 ms, total: 8.76 s\n",
      "Wall time: 8.86 s\n"
     ]
    },
    {
     "data": {
      "text/plain": [
       "LGBMRegressor(learning_rate=0.3, num_leaves=200)"
      ]
     },
     "execution_count": 53,
     "metadata": {},
     "output_type": "execute_result"
    }
   ],
   "source": [
    "%%time\n",
    "\n",
    "# обучение \n",
    "\n",
    "model_lgbmr = LGBMRegressor(learning_rate = 0.3, num_leaves = 200) \n",
    "model_lgbmr.fit(oe_features_train, oe_target_train)"
   ]
  },
  {
   "cell_type": "code",
   "execution_count": 54,
   "metadata": {},
   "outputs": [
    {
     "name": "stdout",
     "output_type": "stream",
     "text": [
      "RMSE LightGBM: 1774.5027451274982\n",
      "Время работы:\n",
      "CPU times: user 481 ms, sys: 0 ns, total: 481 ms\n",
      "Wall time: 491 ms\n"
     ]
    }
   ],
   "source": [
    "%%time\n",
    "\n",
    "#предсказание\n",
    "\n",
    "predict_lgbmr = model_lgbmr.predict(oe_features_valid)\n",
    "rmse_lgbmr = (mean_squared_error(oe_target_valid, predict_lgbmr))**0.5\n",
    "print(f'RMSE LightGBM: {rmse_lgbmr}')\n",
    "print(f'Время работы:')"
   ]
  },
  {
   "cell_type": "markdown",
   "metadata": {},
   "source": [
    "### Вывод\n",
    "Все четыре модели показали RMSE < 2500, что соответствует требованиям условия. Далее построим сводную таблицу для сравнения полученных данных."
   ]
  },
  {
   "cell_type": "markdown",
   "metadata": {},
   "source": [
    "## Анализ моделей"
   ]
  },
  {
   "cell_type": "code",
   "execution_count": 55,
   "metadata": {},
   "outputs": [
    {
     "data": {
      "text/html": [
       "<div>\n",
       "<style scoped>\n",
       "    .dataframe tbody tr th:only-of-type {\n",
       "        vertical-align: middle;\n",
       "    }\n",
       "\n",
       "    .dataframe tbody tr th {\n",
       "        vertical-align: top;\n",
       "    }\n",
       "\n",
       "    .dataframe thead th {\n",
       "        text-align: right;\n",
       "    }\n",
       "</style>\n",
       "<table border=\"1\" class=\"dataframe\">\n",
       "  <thead>\n",
       "    <tr style=\"text-align: right;\">\n",
       "      <th></th>\n",
       "      <th>RMSE</th>\n",
       "      <th>Время обучения, сек</th>\n",
       "      <th>Время предсказания модели, сек</th>\n",
       "      <th>Общее время</th>\n",
       "    </tr>\n",
       "  </thead>\n",
       "  <tbody>\n",
       "    <tr>\n",
       "      <th>LinearRegression</th>\n",
       "      <td>2240.713693</td>\n",
       "      <td>12.900</td>\n",
       "      <td>0.175</td>\n",
       "      <td>13.075</td>\n",
       "    </tr>\n",
       "    <tr>\n",
       "      <th>DecisionTreeRegressor</th>\n",
       "      <td>2168.387017</td>\n",
       "      <td>0.111</td>\n",
       "      <td>0.008</td>\n",
       "      <td>0.119</td>\n",
       "    </tr>\n",
       "    <tr>\n",
       "      <th>CatBoostRegressor</th>\n",
       "      <td>1412.478001</td>\n",
       "      <td>17.500</td>\n",
       "      <td>0.106</td>\n",
       "      <td>17.606</td>\n",
       "    </tr>\n",
       "    <tr>\n",
       "      <th>LightGBM</th>\n",
       "      <td>1774.502745</td>\n",
       "      <td>86.000</td>\n",
       "      <td>0.414</td>\n",
       "      <td>86.414</td>\n",
       "    </tr>\n",
       "  </tbody>\n",
       "</table>\n",
       "</div>"
      ],
      "text/plain": [
       "                              RMSE  Время обучения, сек  \\\n",
       "LinearRegression       2240.713693               12.900   \n",
       "DecisionTreeRegressor  2168.387017                0.111   \n",
       "CatBoostRegressor      1412.478001               17.500   \n",
       "LightGBM               1774.502745               86.000   \n",
       "\n",
       "                       Время предсказания модели, сек  Общее время  \n",
       "LinearRegression                                0.175       13.075  \n",
       "DecisionTreeRegressor                           0.008        0.119  \n",
       "CatBoostRegressor                               0.106       17.606  \n",
       "LightGBM                                        0.414       86.414  "
      ]
     },
     "execution_count": 55,
     "metadata": {},
     "output_type": "execute_result"
    }
   ],
   "source": [
    "# созданим сводную таблицу данных\n",
    "\n",
    "index = ['LinearRegression', 'DecisionTreeRegressor', 'CatBoostRegressor', 'LightGBM']\n",
    "df_model = {'RMSE': [rmse_LR, rmse_TR, rmse_CBR, rmse_lgbmr],\n",
    "        'Время обучения, сек': [12.9 , 0.111, 17.5, 86],\n",
    "        'Время предсказания модели, сек': [0.175, 0.008, 0.106, 0.414]}\n",
    "df_model = pd.DataFrame(data=df_model, index=index)\n",
    "df_model['Общее время'] = df_model['Время обучения, сек'] + df_model['Время предсказания модели, сек']\n",
    "df_model"
   ]
  },
  {
   "cell_type": "markdown",
   "metadata": {},
   "source": [
    "### Вывод:\n",
    "Было построенно 4 модели LinearRegression, DecisionTreeRegressor, CatBoostRegressor, LGBMRegressor.\n",
    "Все четыре модели показали RMSE < 2500, что соответсвует условию. Но также было условие, чтоб время обучения и предсказания были невысокими. Самая быстрая модель (около 2 сек) оказалась DecisionTreeRegressor, но при этом RMSE самое высокое, что говорит о низком качестве модели по сравнению с др. моделями. Если выбирать оптимальный вариант по качеству и времени, то самая точная модель CatBoostRegressor (RMSE = 1421), а время обработки у нее не самое высокое (всего 17,6 сек).\n"
   ]
  },
  {
   "cell_type": "markdown",
   "metadata": {},
   "source": [
    "## Тестирование лучшей модели"
   ]
  },
  {
   "cell_type": "code",
   "execution_count": 59,
   "metadata": {},
   "outputs": [
    {
     "name": "stdout",
     "output_type": "stream",
     "text": [
      "RMSE CatBoostRegressor: 1412.4780007345041\n",
      "Время работы:\n",
      "CPU times: user 135 ms, sys: 4.09 ms, total: 139 ms\n",
      "Wall time: 138 ms\n"
     ]
    }
   ],
   "source": [
    "%%time\n",
    "\n",
    "# время предсказания на тестовой выборке CatBoostRegressor\n",
    "\n",
    "predicted_CBR_test = model_CBR.predict(ohe_features_test)\n",
    "rmse_CBR_test = (mean_squared_error(target_test, predicted_CBR_test))**0.5\n",
    "print(f'RMSE CatBoostRegressor: {rmse_CBR}')\n",
    "print(f'Время работы:')"
   ]
  },
  {
   "cell_type": "markdown",
   "metadata": {},
   "source": [
    "### Вывод\n",
    "Прогнав все модели на тестовых выборках, мы получила подтверждение предположения, что оптимальный вариант для анализа стоимости автомобиля модель CatBoostRegressor, так как данная модель дает самый точный результат за среднее время."
   ]
  },
  {
   "cell_type": "raw",
   "metadata": {},
   "source": [
    "#Проведем анализ тестовых выборок "
   ]
  },
  {
   "cell_type": "raw",
   "metadata": {},
   "source": [
    "%%time\n",
    "\n",
    "# время предсказания модели Линейной регрессии\n",
    "\n",
    "predicted_LR_test = model_LR.predict(ohe_features_test)\n",
    "rmse_LR_test = (mean_squared_error(target_test, predicted_LR_test))**0.5\n",
    "print(f'RMSE линейной регрессии: {rmse_LR_test}')\n",
    "print(f'Время работы:')"
   ]
  },
  {
   "cell_type": "raw",
   "metadata": {},
   "source": [
    "%%time\n",
    "\n",
    "# время предсказания модели Дерева решений\n",
    "\n",
    "predictions_TR_test = model_TR.predict(features_test_ord) \n",
    "rmse_TR_test = (mean_squared_error(target_test, predictions_TR_test))**0.5 \n",
    "print(f'RMSE Дерева решений: {rmse_TR}')\n",
    "print(f'Время работы:')"
   ]
  },
  {
   "cell_type": "raw",
   "metadata": {},
   "source": [
    "%%time\n",
    "\n",
    "#предсказание на тестовой выборке модели LightGBM\n",
    "\n",
    "predict_lgbmr_test = model_lgbmr.predict(oe_features_test)\n",
    "rmse_lgbmr_test = (mean_squared_error(oe_target_test, predict_lgbmr_test))**0.5\n",
    "print(f'RMSE LightGBM: {rmse_lgbmr_test}')\n",
    "print(f'Время работы:')"
   ]
  }
 ],
 "metadata": {
  "ExecuteTimeLog": [
   {
    "duration": 45,
    "start_time": "2023-04-30T20:16:16.113Z"
   },
   {
    "duration": 429,
    "start_time": "2023-04-30T20:16:18.350Z"
   },
   {
    "duration": 58,
    "start_time": "2023-04-30T20:16:20.455Z"
   },
   {
    "duration": 31,
    "start_time": "2023-04-30T20:16:32.544Z"
   },
   {
    "duration": 2815,
    "start_time": "2023-04-30T20:17:01.020Z"
   },
   {
    "duration": 811,
    "start_time": "2023-04-30T20:17:11.723Z"
   },
   {
    "duration": 114,
    "start_time": "2023-04-30T20:20:07.091Z"
   },
   {
    "duration": 490,
    "start_time": "2023-04-30T20:30:01.796Z"
   },
   {
    "duration": 88,
    "start_time": "2023-04-30T20:31:51.134Z"
   },
   {
    "duration": 48,
    "start_time": "2023-04-30T20:31:54.907Z"
   },
   {
    "duration": 103,
    "start_time": "2023-04-30T20:32:04.717Z"
   },
   {
    "duration": 171,
    "start_time": "2023-04-30T20:33:27.825Z"
   },
   {
    "duration": 77,
    "start_time": "2023-04-30T20:33:28.718Z"
   },
   {
    "duration": 78,
    "start_time": "2023-04-30T20:34:56.598Z"
   },
   {
    "duration": 66,
    "start_time": "2023-04-30T20:35:03.521Z"
   },
   {
    "duration": 67,
    "start_time": "2023-04-30T20:35:14.902Z"
   },
   {
    "duration": 69,
    "start_time": "2023-04-30T20:35:46.734Z"
   },
   {
    "duration": 67,
    "start_time": "2023-04-30T20:35:53.208Z"
   },
   {
    "duration": 78,
    "start_time": "2023-04-30T20:36:06.068Z"
   },
   {
    "duration": 27,
    "start_time": "2023-04-30T20:37:59.867Z"
   },
   {
    "duration": 18,
    "start_time": "2023-04-30T20:40:38.428Z"
   },
   {
    "duration": 28,
    "start_time": "2023-04-30T20:40:41.727Z"
   },
   {
    "duration": 30,
    "start_time": "2023-04-30T20:41:36.589Z"
   },
   {
    "duration": 17,
    "start_time": "2023-04-30T20:42:55.978Z"
   },
   {
    "duration": 411,
    "start_time": "2023-04-30T20:45:36.130Z"
   },
   {
    "duration": 879,
    "start_time": "2023-04-30T20:45:37.356Z"
   },
   {
    "duration": 106,
    "start_time": "2023-04-30T20:45:38.237Z"
   },
   {
    "duration": 263,
    "start_time": "2023-04-30T20:45:41.398Z"
   },
   {
    "duration": 141,
    "start_time": "2023-04-30T20:45:44.052Z"
   },
   {
    "duration": 69,
    "start_time": "2023-04-30T20:51:18.221Z"
   },
   {
    "duration": 69,
    "start_time": "2023-04-30T20:51:19.738Z"
   },
   {
    "duration": 62,
    "start_time": "2023-04-30T20:52:26.893Z"
   },
   {
    "duration": 57,
    "start_time": "2023-04-30T20:52:27.648Z"
   },
   {
    "duration": 24,
    "start_time": "2023-04-30T20:52:58.556Z"
   },
   {
    "duration": 25,
    "start_time": "2023-04-30T20:53:57.865Z"
   },
   {
    "duration": 18,
    "start_time": "2023-04-30T20:54:21.178Z"
   },
   {
    "duration": 57,
    "start_time": "2023-04-30T20:54:29.572Z"
   },
   {
    "duration": 15,
    "start_time": "2023-04-30T20:54:34.605Z"
   },
   {
    "duration": 25,
    "start_time": "2023-04-30T20:54:35.161Z"
   },
   {
    "duration": 16,
    "start_time": "2023-04-30T20:54:40.786Z"
   },
   {
    "duration": 54,
    "start_time": "2023-04-30T20:55:17.782Z"
   },
   {
    "duration": 94,
    "start_time": "2023-04-30T20:55:22.218Z"
   },
   {
    "duration": 60,
    "start_time": "2023-04-30T20:56:02.971Z"
   },
   {
    "duration": 371,
    "start_time": "2023-04-30T20:56:13.597Z"
   },
   {
    "duration": 850,
    "start_time": "2023-04-30T20:56:14.724Z"
   },
   {
    "duration": 111,
    "start_time": "2023-04-30T20:56:15.576Z"
   },
   {
    "duration": 261,
    "start_time": "2023-04-30T20:56:16.395Z"
   },
   {
    "duration": 71,
    "start_time": "2023-04-30T20:56:16.658Z"
   },
   {
    "duration": 82,
    "start_time": "2023-04-30T20:56:16.957Z"
   },
   {
    "duration": 26,
    "start_time": "2023-04-30T20:56:22.518Z"
   },
   {
    "duration": 14,
    "start_time": "2023-04-30T20:56:25.980Z"
   },
   {
    "duration": 30,
    "start_time": "2023-04-30T20:56:26.651Z"
   },
   {
    "duration": 17,
    "start_time": "2023-04-30T20:56:27.750Z"
   },
   {
    "duration": 64,
    "start_time": "2023-04-30T20:56:28.638Z"
   },
   {
    "duration": 1959,
    "start_time": "2023-04-30T20:58:38.158Z"
   },
   {
    "duration": 1554,
    "start_time": "2023-04-30T20:59:17.069Z"
   },
   {
    "duration": 1658,
    "start_time": "2023-04-30T20:59:28.287Z"
   },
   {
    "duration": 1526,
    "start_time": "2023-04-30T20:59:49.533Z"
   },
   {
    "duration": 976,
    "start_time": "2023-04-30T21:01:00.627Z"
   },
   {
    "duration": 14,
    "start_time": "2023-04-30T21:01:22.369Z"
   },
   {
    "duration": 1696,
    "start_time": "2023-04-30T21:01:34.601Z"
   },
   {
    "duration": 1734,
    "start_time": "2023-04-30T21:01:43.215Z"
   },
   {
    "duration": 146,
    "start_time": "2023-04-30T21:03:27.599Z"
   },
   {
    "duration": 8,
    "start_time": "2023-04-30T21:04:19.398Z"
   },
   {
    "duration": 7,
    "start_time": "2023-04-30T21:05:46.610Z"
   },
   {
    "duration": 2,
    "start_time": "2023-04-30T21:06:32.890Z"
   },
   {
    "duration": 9,
    "start_time": "2023-04-30T21:06:38.340Z"
   },
   {
    "duration": 45,
    "start_time": "2023-04-30T21:06:56.525Z"
   },
   {
    "duration": 115104,
    "start_time": "2023-04-30T21:07:05.493Z"
   },
   {
    "duration": 0,
    "start_time": "2023-04-30T21:09:00.601Z"
   },
   {
    "duration": 74,
    "start_time": "2023-04-30T21:09:06.343Z"
   },
   {
    "duration": 17,
    "start_time": "2023-04-30T21:09:08.906Z"
   },
   {
    "duration": 65,
    "start_time": "2023-04-30T21:09:09.638Z"
   },
   {
    "duration": 11229,
    "start_time": "2023-04-30T21:09:14.059Z"
   },
   {
    "duration": 3,
    "start_time": "2023-04-30T21:11:21.743Z"
   },
   {
    "duration": 752,
    "start_time": "2023-05-01T08:49:13.659Z"
   },
   {
    "duration": 974,
    "start_time": "2023-05-01T08:49:16.946Z"
   },
   {
    "duration": 102,
    "start_time": "2023-05-01T08:49:38.482Z"
   },
   {
    "duration": 246,
    "start_time": "2023-05-01T08:49:43.469Z"
   },
   {
    "duration": 28,
    "start_time": "2023-05-01T08:52:06.888Z"
   },
   {
    "duration": 45,
    "start_time": "2023-05-01T08:52:10.681Z"
   },
   {
    "duration": 70,
    "start_time": "2023-05-01T08:52:14.434Z"
   },
   {
    "duration": 29,
    "start_time": "2023-05-01T08:52:17.282Z"
   },
   {
    "duration": 34,
    "start_time": "2023-05-01T08:52:19.924Z"
   },
   {
    "duration": 109,
    "start_time": "2023-05-01T08:53:59.521Z"
   },
   {
    "duration": 49,
    "start_time": "2023-05-01T08:54:03.164Z"
   },
   {
    "duration": 17,
    "start_time": "2023-05-01T08:54:28.086Z"
   },
   {
    "duration": 60,
    "start_time": "2023-05-01T08:54:32.927Z"
   },
   {
    "duration": 177,
    "start_time": "2023-05-01T09:05:26.900Z"
   },
   {
    "duration": 196,
    "start_time": "2023-05-01T09:06:33.901Z"
   },
   {
    "duration": 178,
    "start_time": "2023-05-01T09:06:47.362Z"
   },
   {
    "duration": 206,
    "start_time": "2023-05-01T09:07:40.641Z"
   },
   {
    "duration": 659,
    "start_time": "2023-05-01T09:08:04.704Z"
   },
   {
    "duration": 788,
    "start_time": "2023-05-01T09:08:05.885Z"
   },
   {
    "duration": 103,
    "start_time": "2023-05-01T09:08:06.922Z"
   },
   {
    "duration": 261,
    "start_time": "2023-05-01T09:08:11.705Z"
   },
   {
    "duration": 91,
    "start_time": "2023-05-01T09:08:12.957Z"
   },
   {
    "duration": 29,
    "start_time": "2023-05-01T09:08:19.236Z"
   },
   {
    "duration": 28,
    "start_time": "2023-05-01T09:08:20.391Z"
   },
   {
    "duration": 109,
    "start_time": "2023-05-01T09:08:30.883Z"
   },
   {
    "duration": 59,
    "start_time": "2023-05-01T09:08:33.097Z"
   },
   {
    "duration": 198,
    "start_time": "2023-05-01T09:08:34.938Z"
   },
   {
    "duration": 355,
    "start_time": "2023-05-01T09:11:18.350Z"
   },
   {
    "duration": 464,
    "start_time": "2023-05-01T09:11:26.752Z"
   },
   {
    "duration": 361,
    "start_time": "2023-05-01T09:11:38.981Z"
   },
   {
    "duration": 21,
    "start_time": "2023-05-01T09:11:46.531Z"
   },
   {
    "duration": 55,
    "start_time": "2023-05-01T09:11:59.452Z"
   },
   {
    "duration": 1090,
    "start_time": "2023-05-01T09:12:22.044Z"
   },
   {
    "duration": 49,
    "start_time": "2023-05-01T09:12:49.654Z"
   },
   {
    "duration": 72,
    "start_time": "2023-05-01T09:14:09.851Z"
   },
   {
    "duration": 1047,
    "start_time": "2023-05-01T09:14:23.646Z"
   },
   {
    "duration": 6,
    "start_time": "2023-05-01T09:19:54.001Z"
   },
   {
    "duration": 282,
    "start_time": "2023-05-01T09:19:57.906Z"
   },
   {
    "duration": 938,
    "start_time": "2023-05-01T09:20:06.611Z"
   },
   {
    "duration": 307,
    "start_time": "2023-05-01T09:20:36.212Z"
   },
   {
    "duration": 256,
    "start_time": "2023-05-01T09:20:58.150Z"
   },
   {
    "duration": 312,
    "start_time": "2023-05-01T09:21:08.500Z"
   },
   {
    "duration": 265,
    "start_time": "2023-05-01T09:21:28.400Z"
   },
   {
    "duration": 303,
    "start_time": "2023-05-01T09:21:36.015Z"
   },
   {
    "duration": 7,
    "start_time": "2023-05-01T09:24:27.213Z"
   },
   {
    "duration": 6,
    "start_time": "2023-05-01T09:24:53.836Z"
   },
   {
    "duration": 22,
    "start_time": "2023-05-01T09:26:08.603Z"
   },
   {
    "duration": 274,
    "start_time": "2023-05-01T09:26:20.803Z"
   },
   {
    "duration": 6,
    "start_time": "2023-05-01T09:27:33.138Z"
   },
   {
    "duration": 605,
    "start_time": "2023-05-01T09:29:00.003Z"
   },
   {
    "duration": 712,
    "start_time": "2023-05-01T09:29:02.801Z"
   },
   {
    "duration": 7,
    "start_time": "2023-05-01T09:29:28.017Z"
   },
   {
    "duration": 2,
    "start_time": "2023-05-01T09:31:30.454Z"
   },
   {
    "duration": 690,
    "start_time": "2023-05-01T09:31:32.351Z"
   },
   {
    "duration": 105,
    "start_time": "2023-05-01T09:31:34.991Z"
   },
   {
    "duration": 236,
    "start_time": "2023-05-01T09:31:38.090Z"
   },
   {
    "duration": 70,
    "start_time": "2023-05-01T09:31:40.940Z"
   },
   {
    "duration": 7,
    "start_time": "2023-05-01T09:31:45.716Z"
   },
   {
    "duration": 30,
    "start_time": "2023-05-01T09:31:54.055Z"
   },
   {
    "duration": 27,
    "start_time": "2023-05-01T09:31:55.900Z"
   },
   {
    "duration": 94,
    "start_time": "2023-05-01T09:31:59.332Z"
   },
   {
    "duration": 52,
    "start_time": "2023-05-01T09:32:01.361Z"
   },
   {
    "duration": 371,
    "start_time": "2023-05-01T09:32:05.650Z"
   },
   {
    "duration": 80,
    "start_time": "2023-05-01T09:32:21.543Z"
   },
   {
    "duration": 392,
    "start_time": "2023-05-01T09:32:25.435Z"
   },
   {
    "duration": 20,
    "start_time": "2023-05-01T09:32:30.622Z"
   },
   {
    "duration": 41,
    "start_time": "2023-05-01T09:32:32.643Z"
   },
   {
    "duration": 612,
    "start_time": "2023-05-01T09:33:41.860Z"
   },
   {
    "duration": 691,
    "start_time": "2023-05-01T09:33:44.824Z"
   },
   {
    "duration": 106,
    "start_time": "2023-05-01T09:33:47.504Z"
   },
   {
    "duration": 231,
    "start_time": "2023-05-01T09:33:50.058Z"
   },
   {
    "duration": 69,
    "start_time": "2023-05-01T09:33:54.733Z"
   },
   {
    "duration": 7,
    "start_time": "2023-05-01T09:33:56.655Z"
   },
   {
    "duration": 29,
    "start_time": "2023-05-01T09:33:57.734Z"
   },
   {
    "duration": 99,
    "start_time": "2023-05-01T09:34:11.646Z"
   },
   {
    "duration": 53,
    "start_time": "2023-05-01T09:34:14.813Z"
   },
   {
    "duration": 347,
    "start_time": "2023-05-01T09:34:31.698Z"
   },
   {
    "duration": 51,
    "start_time": "2023-05-01T09:34:38.903Z"
   },
   {
    "duration": 18,
    "start_time": "2023-05-01T09:34:53.330Z"
   },
   {
    "duration": 51,
    "start_time": "2023-05-01T09:35:02.053Z"
   },
   {
    "duration": 2,
    "start_time": "2023-05-01T10:32:31.513Z"
   },
   {
    "duration": 42,
    "start_time": "2023-05-01T10:32:31.708Z"
   },
   {
    "duration": 3,
    "start_time": "2023-05-01T10:36:04.753Z"
   },
   {
    "duration": 851,
    "start_time": "2023-05-01T10:36:05.518Z"
   },
   {
    "duration": 195,
    "start_time": "2023-05-01T10:36:08.794Z"
   },
   {
    "duration": 201,
    "start_time": "2023-05-01T10:36:10.419Z"
   },
   {
    "duration": 52,
    "start_time": "2023-05-01T10:36:14.207Z"
   },
   {
    "duration": 28,
    "start_time": "2023-05-01T10:36:26.715Z"
   },
   {
    "duration": 32,
    "start_time": "2023-05-01T10:36:36.328Z"
   },
   {
    "duration": 107,
    "start_time": "2023-05-01T10:37:25.109Z"
   },
   {
    "duration": 74,
    "start_time": "2023-05-01T10:37:30.294Z"
   },
   {
    "duration": 345,
    "start_time": "2023-05-01T10:37:52.611Z"
   },
   {
    "duration": 701,
    "start_time": "2023-05-01T10:37:59.511Z"
   },
   {
    "duration": 6,
    "start_time": "2023-05-01T10:38:12.027Z"
   },
   {
    "duration": 20,
    "start_time": "2023-05-01T10:38:16.821Z"
   },
   {
    "duration": 41,
    "start_time": "2023-05-01T10:38:20.544Z"
   },
   {
    "duration": 88,
    "start_time": "2023-05-01T10:54:22.919Z"
   },
   {
    "duration": 704,
    "start_time": "2023-05-01T10:55:26.013Z"
   },
   {
    "duration": 39,
    "start_time": "2023-05-01T10:55:32.792Z"
   },
   {
    "duration": 3,
    "start_time": "2023-05-01T11:00:32.521Z"
   },
   {
    "duration": 12,
    "start_time": "2023-05-01T11:00:37.837Z"
   },
   {
    "duration": 17,
    "start_time": "2023-05-01T11:00:51.102Z"
   },
   {
    "duration": 3,
    "start_time": "2023-05-01T11:03:20.213Z"
   },
   {
    "duration": 13,
    "start_time": "2023-05-01T11:06:21.439Z"
   },
   {
    "duration": 60,
    "start_time": "2023-05-01T11:10:15.400Z"
   },
   {
    "duration": 72,
    "start_time": "2023-05-01T11:10:24.913Z"
   },
   {
    "duration": 84,
    "start_time": "2023-05-01T11:11:53.105Z"
   },
   {
    "duration": 65,
    "start_time": "2023-05-01T11:12:43.336Z"
   },
   {
    "duration": 72,
    "start_time": "2023-05-01T11:12:52.409Z"
   },
   {
    "duration": 71,
    "start_time": "2023-05-01T11:13:09.518Z"
   },
   {
    "duration": 71,
    "start_time": "2023-05-01T11:13:17.406Z"
   },
   {
    "duration": 137,
    "start_time": "2023-05-01T11:13:59.720Z"
   },
   {
    "duration": 255,
    "start_time": "2023-05-01T11:14:39.440Z"
   },
   {
    "duration": 189,
    "start_time": "2023-05-01T12:00:23.975Z"
   },
   {
    "duration": 19,
    "start_time": "2023-05-01T12:00:42.107Z"
   },
   {
    "duration": 36,
    "start_time": "2023-05-01T12:00:50.277Z"
   },
   {
    "duration": 21,
    "start_time": "2023-05-01T12:01:08.418Z"
   },
   {
    "duration": 19,
    "start_time": "2023-05-01T12:01:30.483Z"
   },
   {
    "duration": 1247,
    "start_time": "2023-05-01T12:09:58.460Z"
   },
   {
    "duration": 717,
    "start_time": "2023-05-01T12:09:59.812Z"
   },
   {
    "duration": 124,
    "start_time": "2023-05-01T12:10:00.531Z"
   },
   {
    "duration": 104,
    "start_time": "2023-05-01T12:10:04.795Z"
   },
   {
    "duration": 27,
    "start_time": "2023-05-01T12:10:08.176Z"
   },
   {
    "duration": 39,
    "start_time": "2023-05-01T12:10:09.296Z"
   },
   {
    "duration": 103,
    "start_time": "2023-05-01T12:10:11.693Z"
   },
   {
    "duration": 75,
    "start_time": "2023-05-01T12:10:12.462Z"
   },
   {
    "duration": 611,
    "start_time": "2023-05-01T12:10:13.707Z"
   },
   {
    "duration": 6,
    "start_time": "2023-05-01T12:10:14.805Z"
   },
   {
    "duration": 23,
    "start_time": "2023-05-01T12:10:19.033Z"
   },
   {
    "duration": 39,
    "start_time": "2023-05-01T12:10:20.417Z"
   },
   {
    "duration": 20,
    "start_time": "2023-05-01T12:10:21.143Z"
   },
   {
    "duration": 22,
    "start_time": "2023-05-01T12:10:22.904Z"
   },
   {
    "duration": 19,
    "start_time": "2023-05-01T12:10:26.758Z"
   },
   {
    "duration": 18,
    "start_time": "2023-05-01T12:14:14.481Z"
   },
   {
    "duration": 37,
    "start_time": "2023-05-01T12:14:17.604Z"
   },
   {
    "duration": 20,
    "start_time": "2023-05-01T12:14:39.844Z"
   },
   {
    "duration": 15,
    "start_time": "2023-05-01T12:15:32.507Z"
   },
   {
    "duration": 16,
    "start_time": "2023-05-01T12:15:37.960Z"
   },
   {
    "duration": 3,
    "start_time": "2023-05-01T12:16:53.985Z"
   },
   {
    "duration": 49,
    "start_time": "2023-05-01T12:17:00.814Z"
   },
   {
    "duration": 1224,
    "start_time": "2023-05-01T12:17:02.953Z"
   },
   {
    "duration": 723,
    "start_time": "2023-05-01T12:17:06.407Z"
   },
   {
    "duration": 116,
    "start_time": "2023-05-01T12:17:21.435Z"
   },
   {
    "duration": 99,
    "start_time": "2023-05-01T12:17:24.634Z"
   },
   {
    "duration": 26,
    "start_time": "2023-05-01T12:17:25.137Z"
   },
   {
    "duration": 28,
    "start_time": "2023-05-01T12:17:25.687Z"
   },
   {
    "duration": 119,
    "start_time": "2023-05-01T12:17:26.046Z"
   },
   {
    "duration": 76,
    "start_time": "2023-05-01T12:17:26.306Z"
   },
   {
    "duration": 593,
    "start_time": "2023-05-01T12:17:29.298Z"
   },
   {
    "duration": 5,
    "start_time": "2023-05-01T12:17:29.903Z"
   },
   {
    "duration": 26,
    "start_time": "2023-05-01T12:17:31.356Z"
   },
   {
    "duration": 37,
    "start_time": "2023-05-01T12:17:32.340Z"
   },
   {
    "duration": 20,
    "start_time": "2023-05-01T12:17:35.014Z"
   },
   {
    "duration": 20,
    "start_time": "2023-05-01T12:17:35.787Z"
   },
   {
    "duration": 21,
    "start_time": "2023-05-01T12:17:40.303Z"
   },
   {
    "duration": 19,
    "start_time": "2023-05-01T12:17:54.634Z"
   },
   {
    "duration": 22,
    "start_time": "2023-05-01T12:18:07.348Z"
   },
   {
    "duration": 30,
    "start_time": "2023-05-01T12:18:14.463Z"
   },
   {
    "duration": 28,
    "start_time": "2023-05-01T12:18:16.588Z"
   },
   {
    "duration": 14,
    "start_time": "2023-05-01T12:18:49.619Z"
   },
   {
    "duration": 14,
    "start_time": "2023-05-01T12:18:51.810Z"
   },
   {
    "duration": 7,
    "start_time": "2023-05-01T12:19:45.012Z"
   },
   {
    "duration": 30,
    "start_time": "2023-05-01T12:21:33.894Z"
   },
   {
    "duration": 7,
    "start_time": "2023-05-01T12:22:08.318Z"
   },
   {
    "duration": 5,
    "start_time": "2023-05-01T12:22:20.004Z"
   },
   {
    "duration": 6,
    "start_time": "2023-05-01T12:22:29.434Z"
   },
   {
    "duration": 4,
    "start_time": "2023-05-01T12:22:34.838Z"
   },
   {
    "duration": 64,
    "start_time": "2023-05-01T12:22:47.925Z"
   },
   {
    "duration": 8,
    "start_time": "2023-05-01T12:23:13.243Z"
   },
   {
    "duration": 8,
    "start_time": "2023-05-01T12:23:46.076Z"
   },
   {
    "duration": 7,
    "start_time": "2023-05-01T12:23:51.248Z"
   },
   {
    "duration": 7,
    "start_time": "2023-05-01T12:24:04.112Z"
   },
   {
    "duration": 1181,
    "start_time": "2023-05-01T12:24:32.816Z"
   },
   {
    "duration": 660,
    "start_time": "2023-05-01T12:24:34.003Z"
   },
   {
    "duration": 108,
    "start_time": "2023-05-01T12:24:34.664Z"
   },
   {
    "duration": 104,
    "start_time": "2023-05-01T12:24:34.773Z"
   },
   {
    "duration": 29,
    "start_time": "2023-05-01T12:24:34.878Z"
   },
   {
    "duration": 28,
    "start_time": "2023-05-01T12:24:34.909Z"
   },
   {
    "duration": 117,
    "start_time": "2023-05-01T12:24:34.938Z"
   },
   {
    "duration": 87,
    "start_time": "2023-05-01T12:24:35.057Z"
   },
   {
    "duration": 596,
    "start_time": "2023-05-01T12:24:35.146Z"
   },
   {
    "duration": 8,
    "start_time": "2023-05-01T12:24:35.744Z"
   },
   {
    "duration": 38,
    "start_time": "2023-05-01T12:24:35.754Z"
   },
   {
    "duration": 46,
    "start_time": "2023-05-01T12:24:35.794Z"
   },
   {
    "duration": 19,
    "start_time": "2023-05-01T12:24:35.842Z"
   },
   {
    "duration": 30,
    "start_time": "2023-05-01T12:24:35.863Z"
   },
   {
    "duration": 20,
    "start_time": "2023-05-01T12:24:35.895Z"
   },
   {
    "duration": 31,
    "start_time": "2023-05-01T12:24:35.916Z"
   },
   {
    "duration": 29,
    "start_time": "2023-05-01T12:24:35.949Z"
   },
   {
    "duration": 50,
    "start_time": "2023-05-01T12:24:35.980Z"
   },
   {
    "duration": 27,
    "start_time": "2023-05-01T12:24:36.031Z"
   },
   {
    "duration": 1154,
    "start_time": "2023-05-01T12:24:36.072Z"
   },
   {
    "duration": 260,
    "start_time": "2023-05-01T12:24:37.228Z"
   },
   {
    "duration": 14,
    "start_time": "2023-05-01T12:24:37.489Z"
   },
   {
    "duration": 2,
    "start_time": "2023-05-01T12:24:37.505Z"
   },
   {
    "duration": 1233,
    "start_time": "2023-05-01T12:26:26.374Z"
   },
   {
    "duration": 699,
    "start_time": "2023-05-01T12:26:27.608Z"
   },
   {
    "duration": 109,
    "start_time": "2023-05-01T12:26:28.309Z"
   },
   {
    "duration": 103,
    "start_time": "2023-05-01T12:26:28.421Z"
   },
   {
    "duration": 25,
    "start_time": "2023-05-01T12:26:28.525Z"
   },
   {
    "duration": 37,
    "start_time": "2023-05-01T12:26:28.552Z"
   },
   {
    "duration": 104,
    "start_time": "2023-05-01T12:26:28.591Z"
   },
   {
    "duration": 75,
    "start_time": "2023-05-01T12:26:28.697Z"
   },
   {
    "duration": 632,
    "start_time": "2023-05-01T12:26:28.774Z"
   },
   {
    "duration": 6,
    "start_time": "2023-05-01T12:26:29.407Z"
   },
   {
    "duration": 27,
    "start_time": "2023-05-01T12:26:29.415Z"
   },
   {
    "duration": 37,
    "start_time": "2023-05-01T12:26:33.628Z"
   },
   {
    "duration": 19,
    "start_time": "2023-05-01T12:26:33.863Z"
   },
   {
    "duration": 20,
    "start_time": "2023-05-01T12:26:34.126Z"
   },
   {
    "duration": 20,
    "start_time": "2023-05-01T12:26:34.593Z"
   },
   {
    "duration": 18,
    "start_time": "2023-05-01T12:26:34.857Z"
   },
   {
    "duration": 17,
    "start_time": "2023-05-01T12:26:37.509Z"
   },
   {
    "duration": 52,
    "start_time": "2023-05-01T12:26:38.735Z"
   },
   {
    "duration": 211,
    "start_time": "2023-05-01T12:26:41.359Z"
   },
   {
    "duration": 15,
    "start_time": "2023-05-01T12:27:12.822Z"
   },
   {
    "duration": 1126,
    "start_time": "2023-05-01T12:27:30.019Z"
   },
   {
    "duration": 185,
    "start_time": "2023-05-01T12:28:50.310Z"
   },
   {
    "duration": 280,
    "start_time": "2023-05-01T12:30:37.537Z"
   },
   {
    "duration": 145,
    "start_time": "2023-05-01T12:30:53.006Z"
   },
   {
    "duration": 112,
    "start_time": "2023-05-01T12:31:03.992Z"
   },
   {
    "duration": 10,
    "start_time": "2023-05-01T12:32:21.269Z"
   },
   {
    "duration": 114,
    "start_time": "2023-05-01T12:32:53.134Z"
   },
   {
    "duration": 66,
    "start_time": "2023-05-01T12:33:14.443Z"
   },
   {
    "duration": 8,
    "start_time": "2023-05-01T12:33:20.936Z"
   },
   {
    "duration": 14,
    "start_time": "2023-05-01T12:35:42.522Z"
   },
   {
    "duration": 248,
    "start_time": "2023-05-01T12:37:54.169Z"
   },
   {
    "duration": 147,
    "start_time": "2023-05-01T12:37:55.201Z"
   },
   {
    "duration": 25,
    "start_time": "2023-05-01T12:37:56.108Z"
   },
   {
    "duration": 294,
    "start_time": "2023-05-01T12:38:00.163Z"
   },
   {
    "duration": 15,
    "start_time": "2023-05-01T12:38:11.444Z"
   },
   {
    "duration": 233,
    "start_time": "2023-05-01T12:38:45.704Z"
   },
   {
    "duration": 16,
    "start_time": "2023-05-01T12:39:06.318Z"
   },
   {
    "duration": 13,
    "start_time": "2023-05-01T12:39:14.005Z"
   },
   {
    "duration": 73,
    "start_time": "2023-05-01T12:40:53.257Z"
   },
   {
    "duration": 20291,
    "start_time": "2023-05-01T12:41:57.836Z"
   },
   {
    "duration": 34,
    "start_time": "2023-05-01T12:42:18.150Z"
   },
   {
    "duration": 18,
    "start_time": "2023-05-01T12:42:22.943Z"
   },
   {
    "duration": 20494,
    "start_time": "2023-05-01T12:42:28.502Z"
   },
   {
    "duration": 11,
    "start_time": "2023-05-01T12:43:09.513Z"
   },
   {
    "duration": 21107,
    "start_time": "2023-05-01T12:43:26.365Z"
   },
   {
    "duration": 4,
    "start_time": "2023-05-01T12:44:10.947Z"
   },
   {
    "duration": 23672,
    "start_time": "2023-05-01T12:44:43.909Z"
   },
   {
    "duration": 14,
    "start_time": "2023-05-01T12:48:18.208Z"
   },
   {
    "duration": 14,
    "start_time": "2023-05-01T12:48:40.330Z"
   },
   {
    "duration": 17,
    "start_time": "2023-05-01T13:01:02.959Z"
   },
   {
    "duration": 13,
    "start_time": "2023-05-01T13:10:31.231Z"
   },
   {
    "duration": 285,
    "start_time": "2023-05-01T13:10:51.751Z"
   },
   {
    "duration": 35,
    "start_time": "2023-05-01T13:11:08.089Z"
   },
   {
    "duration": 33,
    "start_time": "2023-05-01T13:18:40.689Z"
   },
   {
    "duration": 3,
    "start_time": "2023-05-01T13:19:30.414Z"
   },
   {
    "duration": 4,
    "start_time": "2023-05-01T13:20:19.457Z"
   },
   {
    "duration": 4,
    "start_time": "2023-05-01T13:20:30.228Z"
   },
   {
    "duration": 199,
    "start_time": "2023-05-01T13:21:19.541Z"
   },
   {
    "duration": 49,
    "start_time": "2023-05-01T13:40:19.270Z"
   },
   {
    "duration": 146,
    "start_time": "2023-05-01T13:41:57.524Z"
   },
   {
    "duration": 5,
    "start_time": "2023-05-01T13:41:58.394Z"
   },
   {
    "duration": 158,
    "start_time": "2023-05-01T13:42:11.266Z"
   },
   {
    "duration": 4,
    "start_time": "2023-05-01T13:46:54.037Z"
   },
   {
    "duration": 14,
    "start_time": "2023-05-01T13:47:36.002Z"
   },
   {
    "duration": 127,
    "start_time": "2023-05-01T13:47:50.764Z"
   },
   {
    "duration": 124,
    "start_time": "2023-05-01T13:48:14.347Z"
   },
   {
    "duration": 3,
    "start_time": "2023-05-01T13:48:51.522Z"
   },
   {
    "duration": 97,
    "start_time": "2023-05-01T13:48:56.267Z"
   },
   {
    "duration": 108,
    "start_time": "2023-05-01T13:49:53.063Z"
   },
   {
    "duration": 340,
    "start_time": "2023-05-01T13:50:11.627Z"
   },
   {
    "duration": 89,
    "start_time": "2023-05-01T13:50:50.745Z"
   },
   {
    "duration": 2,
    "start_time": "2023-05-01T13:51:02.599Z"
   },
   {
    "duration": 117,
    "start_time": "2023-05-01T13:51:10.634Z"
   },
   {
    "duration": 5,
    "start_time": "2023-05-01T13:53:31.749Z"
   },
   {
    "duration": 86,
    "start_time": "2023-05-01T13:53:55.116Z"
   },
   {
    "duration": 117,
    "start_time": "2023-05-01T13:55:50.361Z"
   },
   {
    "duration": 1322,
    "start_time": "2023-05-01T13:57:04.396Z"
   },
   {
    "duration": 833,
    "start_time": "2023-05-01T13:57:05.720Z"
   },
   {
    "duration": 123,
    "start_time": "2023-05-01T13:57:06.555Z"
   },
   {
    "duration": 105,
    "start_time": "2023-05-01T13:57:06.680Z"
   },
   {
    "duration": 29,
    "start_time": "2023-05-01T13:57:06.787Z"
   },
   {
    "duration": 46,
    "start_time": "2023-05-01T13:57:06.817Z"
   },
   {
    "duration": 114,
    "start_time": "2023-05-01T13:57:06.865Z"
   },
   {
    "duration": 74,
    "start_time": "2023-05-01T13:57:06.980Z"
   },
   {
    "duration": 652,
    "start_time": "2023-05-01T13:57:07.055Z"
   },
   {
    "duration": 6,
    "start_time": "2023-05-01T13:57:07.710Z"
   },
   {
    "duration": 27,
    "start_time": "2023-05-01T13:57:07.717Z"
   },
   {
    "duration": 62,
    "start_time": "2023-05-01T13:57:07.745Z"
   },
   {
    "duration": 25,
    "start_time": "2023-05-01T13:57:07.809Z"
   },
   {
    "duration": 53,
    "start_time": "2023-05-01T13:57:07.836Z"
   },
   {
    "duration": 38,
    "start_time": "2023-05-01T13:57:07.891Z"
   },
   {
    "duration": 18,
    "start_time": "2023-05-01T13:57:08.007Z"
   },
   {
    "duration": 20,
    "start_time": "2023-05-01T13:57:08.204Z"
   },
   {
    "duration": 56,
    "start_time": "2023-05-01T13:57:08.639Z"
   },
   {
    "duration": 1198,
    "start_time": "2023-05-01T13:57:08.856Z"
   },
   {
    "duration": 240,
    "start_time": "2023-05-01T13:57:10.057Z"
   },
   {
    "duration": 20,
    "start_time": "2023-05-01T13:57:10.299Z"
   },
   {
    "duration": 250,
    "start_time": "2023-05-01T13:57:12.305Z"
   },
   {
    "duration": 131,
    "start_time": "2023-05-01T13:57:12.949Z"
   },
   {
    "duration": 14,
    "start_time": "2023-05-01T13:57:13.241Z"
   },
   {
    "duration": 265,
    "start_time": "2023-05-01T13:57:13.471Z"
   },
   {
    "duration": 14,
    "start_time": "2023-05-01T13:57:13.738Z"
   },
   {
    "duration": 17,
    "start_time": "2023-05-01T13:57:13.929Z"
   },
   {
    "duration": 10,
    "start_time": "2023-05-01T13:57:19.407Z"
   },
   {
    "duration": 282,
    "start_time": "2023-05-01T13:57:19.901Z"
   },
   {
    "duration": 172,
    "start_time": "2023-05-01T13:57:20.502Z"
   },
   {
    "duration": 4,
    "start_time": "2023-05-01T13:57:22.843Z"
   },
   {
    "duration": 180,
    "start_time": "2023-05-01T13:57:29.544Z"
   },
   {
    "duration": 148,
    "start_time": "2023-05-01T13:58:29.099Z"
   },
   {
    "duration": 109,
    "start_time": "2023-05-01T13:58:48.108Z"
   },
   {
    "duration": 141,
    "start_time": "2023-05-01T13:58:53.392Z"
   },
   {
    "duration": 144,
    "start_time": "2023-05-01T13:59:24.747Z"
   },
   {
    "duration": 3,
    "start_time": "2023-05-01T13:59:27.641Z"
   },
   {
    "duration": 4,
    "start_time": "2023-05-01T13:59:46.812Z"
   },
   {
    "duration": 93,
    "start_time": "2023-05-01T14:00:40.652Z"
   },
   {
    "duration": 1310,
    "start_time": "2023-05-01T14:01:17.367Z"
   },
   {
    "duration": 779,
    "start_time": "2023-05-01T14:01:18.710Z"
   },
   {
    "duration": 117,
    "start_time": "2023-05-01T14:01:19.814Z"
   },
   {
    "duration": 147,
    "start_time": "2023-05-01T14:01:22.915Z"
   },
   {
    "duration": 30,
    "start_time": "2023-05-01T14:01:24.133Z"
   },
   {
    "duration": 27,
    "start_time": "2023-05-01T14:01:26.305Z"
   },
   {
    "duration": 119,
    "start_time": "2023-05-01T14:01:28.466Z"
   },
   {
    "duration": 84,
    "start_time": "2023-05-01T14:01:29.758Z"
   },
   {
    "duration": 643,
    "start_time": "2023-05-01T14:01:34.324Z"
   },
   {
    "duration": 7,
    "start_time": "2023-05-01T14:01:35.838Z"
   },
   {
    "duration": 27,
    "start_time": "2023-05-01T14:01:36.815Z"
   },
   {
    "duration": 19,
    "start_time": "2023-05-01T14:01:42.232Z"
   },
   {
    "duration": 20,
    "start_time": "2023-05-01T14:01:42.470Z"
   },
   {
    "duration": 24,
    "start_time": "2023-05-01T14:01:42.730Z"
   },
   {
    "duration": 22,
    "start_time": "2023-05-01T14:01:42.961Z"
   },
   {
    "duration": 19,
    "start_time": "2023-05-01T14:01:43.200Z"
   },
   {
    "duration": 54,
    "start_time": "2023-05-01T14:01:44.249Z"
   },
   {
    "duration": 1133,
    "start_time": "2023-05-01T14:01:44.457Z"
   },
   {
    "duration": 236,
    "start_time": "2023-05-01T14:01:45.591Z"
   },
   {
    "duration": 19,
    "start_time": "2023-05-01T14:01:45.828Z"
   },
   {
    "duration": 282,
    "start_time": "2023-05-01T14:01:45.848Z"
   },
   {
    "duration": 162,
    "start_time": "2023-05-01T14:01:46.132Z"
   },
   {
    "duration": 16,
    "start_time": "2023-05-01T14:01:46.296Z"
   },
   {
    "duration": 250,
    "start_time": "2023-05-01T14:01:46.315Z"
   },
   {
    "duration": 14,
    "start_time": "2023-05-01T14:01:46.572Z"
   },
   {
    "duration": 16,
    "start_time": "2023-05-01T14:01:46.858Z"
   },
   {
    "duration": 40,
    "start_time": "2023-05-01T14:01:59.800Z"
   },
   {
    "duration": 12,
    "start_time": "2023-05-01T14:02:15.574Z"
   },
   {
    "duration": 390,
    "start_time": "2023-05-01T14:02:16.102Z"
   },
   {
    "duration": 219,
    "start_time": "2023-05-01T14:02:16.768Z"
   },
   {
    "duration": 4,
    "start_time": "2023-05-01T14:02:18.159Z"
   },
   {
    "duration": 25672,
    "start_time": "2023-05-01T14:02:19.904Z"
   },
   {
    "duration": 21655,
    "start_time": "2023-05-01T14:02:55.619Z"
   },
   {
    "duration": 4,
    "start_time": "2023-05-01T14:04:30.201Z"
   },
   {
    "duration": 21845,
    "start_time": "2023-05-01T14:05:02.234Z"
   },
   {
    "duration": 24675,
    "start_time": "2023-05-01T14:05:36.696Z"
   },
   {
    "duration": 11,
    "start_time": "2023-05-01T14:12:22.263Z"
   },
   {
    "duration": 9,
    "start_time": "2023-05-01T14:15:08.693Z"
   },
   {
    "duration": 527,
    "start_time": "2023-05-01T14:16:37.200Z"
   },
   {
    "duration": 648,
    "start_time": "2023-05-01T14:17:16.763Z"
   },
   {
    "duration": 5878,
    "start_time": "2023-05-01T14:17:31.582Z"
   },
   {
    "duration": 5864,
    "start_time": "2023-05-01T14:19:24.261Z"
   },
   {
    "duration": 3,
    "start_time": "2023-05-01T14:20:41.412Z"
   },
   {
    "duration": 43,
    "start_time": "2023-05-01T14:20:51.966Z"
   },
   {
    "duration": 1221,
    "start_time": "2023-05-01T14:21:17.506Z"
   },
   {
    "duration": 696,
    "start_time": "2023-05-01T14:21:18.729Z"
   },
   {
    "duration": 106,
    "start_time": "2023-05-01T14:21:19.427Z"
   },
   {
    "duration": 98,
    "start_time": "2023-05-01T14:21:19.534Z"
   },
   {
    "duration": 38,
    "start_time": "2023-05-01T14:21:19.634Z"
   },
   {
    "duration": 26,
    "start_time": "2023-05-01T14:21:19.674Z"
   },
   {
    "duration": 108,
    "start_time": "2023-05-01T14:21:19.701Z"
   },
   {
    "duration": 77,
    "start_time": "2023-05-01T14:21:19.810Z"
   },
   {
    "duration": 611,
    "start_time": "2023-05-01T14:21:19.888Z"
   },
   {
    "duration": 6,
    "start_time": "2023-05-01T14:21:20.500Z"
   },
   {
    "duration": 38,
    "start_time": "2023-05-01T14:21:20.507Z"
   },
   {
    "duration": 31,
    "start_time": "2023-05-01T14:21:20.547Z"
   },
   {
    "duration": 37,
    "start_time": "2023-05-01T14:21:20.579Z"
   },
   {
    "duration": 19,
    "start_time": "2023-05-01T14:21:20.618Z"
   },
   {
    "duration": 23,
    "start_time": "2023-05-01T14:21:20.638Z"
   },
   {
    "duration": 18,
    "start_time": "2023-05-01T14:21:20.662Z"
   },
   {
    "duration": 52,
    "start_time": "2023-05-01T14:21:20.681Z"
   },
   {
    "duration": 1214,
    "start_time": "2023-05-01T14:21:20.734Z"
   },
   {
    "duration": 225,
    "start_time": "2023-05-01T14:21:21.950Z"
   },
   {
    "duration": 20,
    "start_time": "2023-05-01T14:21:22.176Z"
   },
   {
    "duration": 280,
    "start_time": "2023-05-01T14:21:22.198Z"
   },
   {
    "duration": 132,
    "start_time": "2023-05-01T14:21:22.479Z"
   },
   {
    "duration": 15,
    "start_time": "2023-05-01T14:21:22.613Z"
   },
   {
    "duration": 277,
    "start_time": "2023-05-01T14:21:22.629Z"
   },
   {
    "duration": 15,
    "start_time": "2023-05-01T14:21:22.907Z"
   },
   {
    "duration": 18,
    "start_time": "2023-05-01T14:21:22.924Z"
   },
   {
    "duration": 30,
    "start_time": "2023-05-01T14:21:22.944Z"
   },
   {
    "duration": 390,
    "start_time": "2023-05-01T14:21:22.976Z"
   },
   {
    "duration": 246,
    "start_time": "2023-05-01T14:21:23.368Z"
   },
   {
    "duration": 4,
    "start_time": "2023-05-01T14:21:23.615Z"
   },
   {
    "duration": 14753,
    "start_time": "2023-05-01T14:21:23.621Z"
   },
   {
    "duration": 114,
    "start_time": "2023-05-01T14:22:23.908Z"
   },
   {
    "duration": 5810,
    "start_time": "2023-05-01T14:23:24.018Z"
   },
   {
    "duration": 181,
    "start_time": "2023-05-01T14:27:15.250Z"
   },
   {
    "duration": 44,
    "start_time": "2023-05-01T14:28:12.991Z"
   },
   {
    "duration": 3,
    "start_time": "2023-05-01T14:28:23.091Z"
   },
   {
    "duration": 23973,
    "start_time": "2023-05-01T14:28:33.727Z"
   },
   {
    "duration": 1535,
    "start_time": "2023-05-01T17:19:37.644Z"
   },
   {
    "duration": 1176,
    "start_time": "2023-05-01T17:19:39.182Z"
   },
   {
    "duration": 109,
    "start_time": "2023-05-01T17:19:40.360Z"
   },
   {
    "duration": 122,
    "start_time": "2023-05-01T17:19:40.472Z"
   },
   {
    "duration": 30,
    "start_time": "2023-05-01T17:19:40.596Z"
   },
   {
    "duration": 57,
    "start_time": "2023-05-01T17:19:40.628Z"
   },
   {
    "duration": 114,
    "start_time": "2023-05-01T17:19:40.687Z"
   },
   {
    "duration": 90,
    "start_time": "2023-05-01T17:19:40.803Z"
   },
   {
    "duration": 793,
    "start_time": "2023-05-01T17:19:40.896Z"
   },
   {
    "duration": 6,
    "start_time": "2023-05-01T17:19:41.693Z"
   },
   {
    "duration": 26,
    "start_time": "2023-05-01T17:19:41.701Z"
   },
   {
    "duration": 43,
    "start_time": "2023-05-01T17:19:41.729Z"
   },
   {
    "duration": 45,
    "start_time": "2023-05-01T17:19:41.774Z"
   },
   {
    "duration": 30,
    "start_time": "2023-05-01T17:19:41.821Z"
   },
   {
    "duration": 42,
    "start_time": "2023-05-01T17:19:41.853Z"
   },
   {
    "duration": 27,
    "start_time": "2023-05-01T17:19:41.899Z"
   },
   {
    "duration": 90,
    "start_time": "2023-05-01T17:19:41.931Z"
   },
   {
    "duration": 1312,
    "start_time": "2023-05-01T17:19:42.023Z"
   },
   {
    "duration": 283,
    "start_time": "2023-05-01T17:19:43.338Z"
   },
   {
    "duration": 19,
    "start_time": "2023-05-01T17:19:43.623Z"
   },
   {
    "duration": 386,
    "start_time": "2023-05-01T17:19:43.644Z"
   },
   {
    "duration": 167,
    "start_time": "2023-05-01T17:19:44.032Z"
   },
   {
    "duration": 16,
    "start_time": "2023-05-01T17:19:44.201Z"
   },
   {
    "duration": 327,
    "start_time": "2023-05-01T17:19:44.219Z"
   },
   {
    "duration": 16,
    "start_time": "2023-05-01T17:19:44.548Z"
   },
   {
    "duration": 44,
    "start_time": "2023-05-01T17:19:44.566Z"
   },
   {
    "duration": 11,
    "start_time": "2023-05-01T17:19:47.385Z"
   },
   {
    "duration": 575,
    "start_time": "2023-05-01T17:19:47.984Z"
   },
   {
    "duration": 374,
    "start_time": "2023-05-01T17:19:55.716Z"
   },
   {
    "duration": 5,
    "start_time": "2023-05-01T17:19:58.181Z"
   },
   {
    "duration": 28741,
    "start_time": "2023-05-01T17:20:05.068Z"
   },
   {
    "duration": 61093,
    "start_time": "2023-05-01T17:26:29.731Z"
   },
   {
    "duration": 84908,
    "start_time": "2023-05-01T17:28:27.592Z"
   },
   {
    "duration": 654,
    "start_time": "2023-05-01T17:30:05.658Z"
   },
   {
    "duration": 4,
    "start_time": "2023-05-01T17:32:03.536Z"
   },
   {
    "duration": 1143,
    "start_time": "2023-05-01T17:32:29.160Z"
   },
   {
    "duration": 676,
    "start_time": "2023-05-01T17:44:04.868Z"
   },
   {
    "duration": 8956,
    "start_time": "2023-05-01T17:44:28.763Z"
   },
   {
    "duration": 2192,
    "start_time": "2023-05-01T17:49:12.562Z"
   },
   {
    "duration": 290,
    "start_time": "2023-05-01T17:52:03.515Z"
   },
   {
    "duration": 193,
    "start_time": "2023-05-01T17:52:59.566Z"
   },
   {
    "duration": 138,
    "start_time": "2023-05-01T17:53:53.554Z"
   },
   {
    "duration": 138,
    "start_time": "2023-05-01T17:54:28.627Z"
   },
   {
    "duration": 136,
    "start_time": "2023-05-01T17:55:18.751Z"
   },
   {
    "duration": 53,
    "start_time": "2023-05-01T17:59:50.186Z"
   },
   {
    "duration": 19072,
    "start_time": "2023-05-01T18:00:00.330Z"
   },
   {
    "duration": 232,
    "start_time": "2023-05-01T18:00:41.584Z"
   },
   {
    "duration": 8870,
    "start_time": "2023-05-01T18:01:36.933Z"
   },
   {
    "duration": 2198,
    "start_time": "2023-05-01T18:02:40.953Z"
   },
   {
    "duration": 137,
    "start_time": "2023-05-01T18:04:14.669Z"
   },
   {
    "duration": 139,
    "start_time": "2023-05-01T18:09:01.266Z"
   },
   {
    "duration": 25252,
    "start_time": "2023-05-01T18:19:01.281Z"
   },
   {
    "duration": 173,
    "start_time": "2023-05-01T18:20:02.262Z"
   },
   {
    "duration": 9,
    "start_time": "2023-05-01T18:36:12.217Z"
   },
   {
    "duration": 25197,
    "start_time": "2023-05-01T18:36:25.806Z"
   },
   {
    "duration": 397,
    "start_time": "2023-05-01T18:36:51.005Z"
   },
   {
    "duration": 136,
    "start_time": "2023-05-01T18:36:59.785Z"
   },
   {
    "duration": 139,
    "start_time": "2023-05-01T18:37:03.463Z"
   },
   {
    "duration": 4,
    "start_time": "2023-05-01T18:37:06.495Z"
   },
   {
    "duration": 4,
    "start_time": "2023-05-01T18:37:32.851Z"
   },
   {
    "duration": 4,
    "start_time": "2023-05-01T18:38:09.926Z"
   },
   {
    "duration": 10,
    "start_time": "2023-05-01T18:38:15.456Z"
   },
   {
    "duration": 3,
    "start_time": "2023-05-01T18:39:23.748Z"
   },
   {
    "duration": 5,
    "start_time": "2023-05-01T18:39:42.618Z"
   },
   {
    "duration": 11,
    "start_time": "2023-05-01T18:39:55.361Z"
   },
   {
    "duration": 11,
    "start_time": "2023-05-01T18:40:53.754Z"
   },
   {
    "duration": 5,
    "start_time": "2023-05-01T18:41:12.223Z"
   },
   {
    "duration": 11,
    "start_time": "2023-05-01T18:41:17.270Z"
   },
   {
    "duration": 25,
    "start_time": "2023-05-01T18:46:30.151Z"
   },
   {
    "duration": 75,
    "start_time": "2023-05-01T19:03:30.645Z"
   },
   {
    "duration": 24825,
    "start_time": "2023-05-01T19:03:54.425Z"
   },
   {
    "duration": 3,
    "start_time": "2023-05-01T19:09:54.536Z"
   },
   {
    "duration": 25575,
    "start_time": "2023-05-01T19:11:33.715Z"
   },
   {
    "duration": 140,
    "start_time": "2023-05-01T19:11:59.292Z"
   },
   {
    "duration": 11,
    "start_time": "2023-05-01T19:13:52.334Z"
   },
   {
    "duration": 10,
    "start_time": "2023-05-01T19:14:07.913Z"
   },
   {
    "duration": 2337,
    "start_time": "2023-05-01T19:14:19.602Z"
   },
   {
    "duration": 1523,
    "start_time": "2023-05-01T19:15:16.784Z"
   },
   {
    "duration": 1070,
    "start_time": "2023-05-01T19:15:18.309Z"
   },
   {
    "duration": 116,
    "start_time": "2023-05-01T19:15:19.381Z"
   },
   {
    "duration": 117,
    "start_time": "2023-05-01T19:15:19.499Z"
   },
   {
    "duration": 33,
    "start_time": "2023-05-01T19:15:19.618Z"
   },
   {
    "duration": 43,
    "start_time": "2023-05-01T19:15:19.653Z"
   },
   {
    "duration": 107,
    "start_time": "2023-05-01T19:15:19.697Z"
   },
   {
    "duration": 91,
    "start_time": "2023-05-01T19:15:19.806Z"
   },
   {
    "duration": 789,
    "start_time": "2023-05-01T19:15:19.899Z"
   },
   {
    "duration": 7,
    "start_time": "2023-05-01T19:15:20.690Z"
   },
   {
    "duration": 33,
    "start_time": "2023-05-01T19:15:20.698Z"
   },
   {
    "duration": 34,
    "start_time": "2023-05-01T19:15:20.733Z"
   },
   {
    "duration": 27,
    "start_time": "2023-05-01T19:15:20.769Z"
   },
   {
    "duration": 23,
    "start_time": "2023-05-01T19:15:20.799Z"
   },
   {
    "duration": 39,
    "start_time": "2023-05-01T19:15:20.823Z"
   },
   {
    "duration": 40,
    "start_time": "2023-05-01T19:15:20.863Z"
   },
   {
    "duration": 62,
    "start_time": "2023-05-01T19:15:20.905Z"
   },
   {
    "duration": 1270,
    "start_time": "2023-05-01T19:15:20.969Z"
   },
   {
    "duration": 280,
    "start_time": "2023-05-01T19:15:22.241Z"
   },
   {
    "duration": 18,
    "start_time": "2023-05-01T19:15:22.522Z"
   },
   {
    "duration": 352,
    "start_time": "2023-05-01T19:15:22.542Z"
   },
   {
    "duration": 141,
    "start_time": "2023-05-01T19:15:22.896Z"
   },
   {
    "duration": 15,
    "start_time": "2023-05-01T19:15:23.039Z"
   },
   {
    "duration": 325,
    "start_time": "2023-05-01T19:15:23.056Z"
   },
   {
    "duration": 25,
    "start_time": "2023-05-01T19:15:23.383Z"
   },
   {
    "duration": 28,
    "start_time": "2023-05-01T19:15:23.410Z"
   },
   {
    "duration": 11,
    "start_time": "2023-05-01T19:15:23.440Z"
   },
   {
    "duration": 537,
    "start_time": "2023-05-01T19:15:23.453Z"
   },
   {
    "duration": 334,
    "start_time": "2023-05-01T19:15:23.992Z"
   },
   {
    "duration": 4,
    "start_time": "2023-05-01T19:15:24.327Z"
   },
   {
    "duration": 18162,
    "start_time": "2023-05-01T19:15:24.332Z"
   },
   {
    "duration": 396,
    "start_time": "2023-05-01T19:15:42.496Z"
   },
   {
    "duration": 6572,
    "start_time": "2023-05-01T19:15:42.895Z"
   },
   {
    "duration": 2143,
    "start_time": "2023-05-01T19:15:49.469Z"
   },
   {
    "duration": 140,
    "start_time": "2023-05-01T19:15:51.613Z"
   },
   {
    "duration": 24635,
    "start_time": "2023-05-01T19:15:51.755Z"
   },
   {
    "duration": 148,
    "start_time": "2023-05-01T19:16:16.392Z"
   },
   {
    "duration": 2233,
    "start_time": "2023-05-01T19:16:27.584Z"
   },
   {
    "duration": 3,
    "start_time": "2023-05-01T19:17:23.408Z"
   },
   {
    "duration": 10,
    "start_time": "2023-05-01T19:17:49.910Z"
   },
   {
    "duration": 2545,
    "start_time": "2023-05-01T19:17:58.061Z"
   },
   {
    "duration": 2493,
    "start_time": "2023-05-01T19:18:28.709Z"
   },
   {
    "duration": 55,
    "start_time": "2023-05-01T19:24:34.318Z"
   },
   {
    "duration": 2424,
    "start_time": "2023-05-01T19:24:47.146Z"
   },
   {
    "duration": 12,
    "start_time": "2023-05-01T19:51:24.059Z"
   },
   {
    "duration": 1411,
    "start_time": "2023-05-01T19:51:38.192Z"
   },
   {
    "duration": 832,
    "start_time": "2023-05-01T19:51:39.605Z"
   },
   {
    "duration": 131,
    "start_time": "2023-05-01T19:51:40.440Z"
   },
   {
    "duration": 125,
    "start_time": "2023-05-01T19:51:40.572Z"
   },
   {
    "duration": 31,
    "start_time": "2023-05-01T19:51:40.699Z"
   },
   {
    "duration": 40,
    "start_time": "2023-05-01T19:51:40.732Z"
   },
   {
    "duration": 133,
    "start_time": "2023-05-01T19:51:40.774Z"
   },
   {
    "duration": 83,
    "start_time": "2023-05-01T19:51:40.909Z"
   },
   {
    "duration": 826,
    "start_time": "2023-05-01T19:51:40.994Z"
   },
   {
    "duration": 8,
    "start_time": "2023-05-01T19:51:41.822Z"
   },
   {
    "duration": 34,
    "start_time": "2023-05-01T19:51:41.832Z"
   },
   {
    "duration": 48,
    "start_time": "2023-05-01T19:51:41.870Z"
   },
   {
    "duration": 27,
    "start_time": "2023-05-01T19:51:41.920Z"
   },
   {
    "duration": 43,
    "start_time": "2023-05-01T19:51:41.951Z"
   },
   {
    "duration": 26,
    "start_time": "2023-05-01T19:51:41.996Z"
   },
   {
    "duration": 22,
    "start_time": "2023-05-01T19:51:42.024Z"
   },
   {
    "duration": 82,
    "start_time": "2023-05-01T19:51:42.048Z"
   },
   {
    "duration": 1316,
    "start_time": "2023-05-01T19:51:42.132Z"
   },
   {
    "duration": 260,
    "start_time": "2023-05-01T19:51:43.450Z"
   },
   {
    "duration": 22,
    "start_time": "2023-05-01T19:51:43.711Z"
   },
   {
    "duration": 327,
    "start_time": "2023-05-01T19:51:43.734Z"
   },
   {
    "duration": 148,
    "start_time": "2023-05-01T19:51:44.063Z"
   },
   {
    "duration": 16,
    "start_time": "2023-05-01T19:51:44.214Z"
   },
   {
    "duration": 314,
    "start_time": "2023-05-01T19:51:44.232Z"
   },
   {
    "duration": 17,
    "start_time": "2023-05-01T19:51:44.548Z"
   },
   {
    "duration": 31,
    "start_time": "2023-05-01T19:51:44.567Z"
   },
   {
    "duration": 17,
    "start_time": "2023-05-01T19:52:06.756Z"
   },
   {
    "duration": 541,
    "start_time": "2023-05-01T19:52:08.766Z"
   },
   {
    "duration": 46,
    "start_time": "2023-05-01T19:52:11.280Z"
   },
   {
    "duration": 352,
    "start_time": "2023-05-01T19:52:14.533Z"
   },
   {
    "duration": 5,
    "start_time": "2023-05-01T19:52:18.047Z"
   },
   {
    "duration": 50205,
    "start_time": "2023-05-01T19:53:56.889Z"
   },
   {
    "duration": 402,
    "start_time": "2023-05-01T19:54:47.096Z"
   },
   {
    "duration": 6837,
    "start_time": "2023-05-01T19:55:09.619Z"
   },
   {
    "duration": 9046,
    "start_time": "2023-05-01T19:56:14.463Z"
   },
   {
    "duration": 2233,
    "start_time": "2023-05-01T19:56:32.941Z"
   },
   {
    "duration": 141,
    "start_time": "2023-05-01T19:57:02.153Z"
   },
   {
    "duration": 1686,
    "start_time": "2023-05-01T19:58:59.108Z"
   },
   {
    "duration": 3,
    "start_time": "2023-05-01T19:59:46.948Z"
   },
   {
    "duration": 1512,
    "start_time": "2023-05-01T20:05:29.809Z"
   },
   {
    "duration": 856,
    "start_time": "2023-05-01T20:05:31.322Z"
   },
   {
    "duration": 126,
    "start_time": "2023-05-01T20:05:32.179Z"
   },
   {
    "duration": 129,
    "start_time": "2023-05-01T20:05:32.308Z"
   },
   {
    "duration": 30,
    "start_time": "2023-05-01T20:05:32.439Z"
   },
   {
    "duration": 44,
    "start_time": "2023-05-01T20:05:32.471Z"
   },
   {
    "duration": 123,
    "start_time": "2023-05-01T20:05:32.517Z"
   },
   {
    "duration": 82,
    "start_time": "2023-05-01T20:05:32.642Z"
   },
   {
    "duration": 821,
    "start_time": "2023-05-01T20:05:32.726Z"
   },
   {
    "duration": 7,
    "start_time": "2023-05-01T20:05:33.549Z"
   },
   {
    "duration": 37,
    "start_time": "2023-05-01T20:05:33.557Z"
   },
   {
    "duration": 29,
    "start_time": "2023-05-01T20:05:33.596Z"
   },
   {
    "duration": 29,
    "start_time": "2023-05-01T20:05:33.626Z"
   },
   {
    "duration": 22,
    "start_time": "2023-05-01T20:05:33.656Z"
   },
   {
    "duration": 23,
    "start_time": "2023-05-01T20:05:33.692Z"
   },
   {
    "duration": 22,
    "start_time": "2023-05-01T20:05:33.716Z"
   },
   {
    "duration": 77,
    "start_time": "2023-05-01T20:05:33.740Z"
   },
   {
    "duration": 1208,
    "start_time": "2023-05-01T20:05:33.819Z"
   },
   {
    "duration": 255,
    "start_time": "2023-05-01T20:05:35.028Z"
   },
   {
    "duration": 26,
    "start_time": "2023-05-01T20:05:35.285Z"
   },
   {
    "duration": 329,
    "start_time": "2023-05-01T20:05:35.313Z"
   },
   {
    "duration": 139,
    "start_time": "2023-05-01T20:05:35.644Z"
   },
   {
    "duration": 22,
    "start_time": "2023-05-01T20:05:35.784Z"
   },
   {
    "duration": 297,
    "start_time": "2023-05-01T20:05:35.808Z"
   },
   {
    "duration": 15,
    "start_time": "2023-05-01T20:05:36.107Z"
   },
   {
    "duration": 19,
    "start_time": "2023-05-01T20:05:36.124Z"
   },
   {
    "duration": 10,
    "start_time": "2023-05-01T20:05:36.144Z"
   },
   {
    "duration": 526,
    "start_time": "2023-05-01T20:05:36.157Z"
   },
   {
    "duration": 43,
    "start_time": "2023-05-01T20:05:36.685Z"
   },
   {
    "duration": 356,
    "start_time": "2023-05-01T20:05:36.730Z"
   },
   {
    "duration": 262,
    "start_time": "2023-05-01T20:05:42.920Z"
   },
   {
    "duration": 4,
    "start_time": "2023-05-01T20:05:43.643Z"
   },
   {
    "duration": 20417,
    "start_time": "2023-05-01T20:05:46.382Z"
   },
   {
    "duration": 255,
    "start_time": "2023-05-01T20:06:11.843Z"
   },
   {
    "duration": 9143,
    "start_time": "2023-05-01T20:06:48.340Z"
   },
   {
    "duration": 2235,
    "start_time": "2023-05-01T20:07:03.129Z"
   },
   {
    "duration": 155,
    "start_time": "2023-05-01T20:07:23.349Z"
   },
   {
    "duration": 4,
    "start_time": "2023-05-01T20:08:15.376Z"
   },
   {
    "duration": 169,
    "start_time": "2023-05-01T20:08:34.656Z"
   },
   {
    "duration": 1653,
    "start_time": "2023-05-01T20:08:48.524Z"
   },
   {
    "duration": 25941,
    "start_time": "2023-05-01T20:13:02.431Z"
   },
   {
    "duration": 166,
    "start_time": "2023-05-01T20:13:34.338Z"
   },
   {
    "duration": 2151,
    "start_time": "2023-05-01T20:14:01.808Z"
   },
   {
    "duration": 66,
    "start_time": "2023-05-01T20:14:15.544Z"
   },
   {
    "duration": 73,
    "start_time": "2023-05-01T20:14:32.088Z"
   },
   {
    "duration": 4,
    "start_time": "2023-05-01T20:14:38.044Z"
   },
   {
    "duration": 4,
    "start_time": "2023-05-01T20:15:00.419Z"
   },
   {
    "duration": 18,
    "start_time": "2023-05-01T20:15:26.214Z"
   },
   {
    "duration": 6,
    "start_time": "2023-05-01T20:15:48.683Z"
   },
   {
    "duration": 4,
    "start_time": "2023-05-01T20:23:35.680Z"
   },
   {
    "duration": 66,
    "start_time": "2023-05-01T20:23:43.027Z"
   },
   {
    "duration": 2102,
    "start_time": "2023-05-01T20:25:26.654Z"
   },
   {
    "duration": 4,
    "start_time": "2023-05-01T20:27:47.790Z"
   },
   {
    "duration": 55,
    "start_time": "2023-05-01T20:28:05.688Z"
   },
   {
    "duration": 53,
    "start_time": "2023-05-01T20:30:30.209Z"
   },
   {
    "duration": 4,
    "start_time": "2023-05-01T20:31:32.123Z"
   },
   {
    "duration": 47,
    "start_time": "2023-05-01T20:31:35.827Z"
   },
   {
    "duration": 120008,
    "start_time": "2023-05-01T20:34:06.969Z"
   },
   {
    "duration": 4,
    "start_time": "2023-05-01T20:40:43.998Z"
   },
   {
    "duration": 119813,
    "start_time": "2023-05-01T20:42:44.002Z"
   },
   {
    "duration": 26,
    "start_time": "2023-05-01T20:47:26.911Z"
   },
   {
    "duration": 1423,
    "start_time": "2023-05-01T20:48:36.516Z"
   },
   {
    "duration": 874,
    "start_time": "2023-05-01T20:48:38.948Z"
   },
   {
    "duration": 134,
    "start_time": "2023-05-01T20:48:39.825Z"
   },
   {
    "duration": 130,
    "start_time": "2023-05-01T20:48:39.961Z"
   },
   {
    "duration": 35,
    "start_time": "2023-05-01T20:48:40.093Z"
   },
   {
    "duration": 33,
    "start_time": "2023-05-01T20:48:40.130Z"
   },
   {
    "duration": 142,
    "start_time": "2023-05-01T20:48:40.165Z"
   },
   {
    "duration": 99,
    "start_time": "2023-05-01T20:48:40.309Z"
   },
   {
    "duration": 830,
    "start_time": "2023-05-01T20:48:40.412Z"
   },
   {
    "duration": 7,
    "start_time": "2023-05-01T20:48:41.244Z"
   },
   {
    "duration": 48,
    "start_time": "2023-05-01T20:48:41.252Z"
   },
   {
    "duration": 34,
    "start_time": "2023-05-01T20:48:41.304Z"
   },
   {
    "duration": 25,
    "start_time": "2023-05-01T20:48:41.340Z"
   },
   {
    "duration": 32,
    "start_time": "2023-05-01T20:48:41.458Z"
   },
   {
    "duration": 29,
    "start_time": "2023-05-01T20:48:41.658Z"
   },
   {
    "duration": 24,
    "start_time": "2023-05-01T20:48:41.862Z"
   },
   {
    "duration": 77,
    "start_time": "2023-05-01T20:48:42.273Z"
   },
   {
    "duration": 1277,
    "start_time": "2023-05-01T20:48:42.456Z"
   },
   {
    "duration": 276,
    "start_time": "2023-05-01T20:48:43.735Z"
   },
   {
    "duration": 19,
    "start_time": "2023-05-01T20:48:44.012Z"
   },
   {
    "duration": 348,
    "start_time": "2023-05-01T20:48:44.033Z"
   },
   {
    "duration": 161,
    "start_time": "2023-05-01T20:48:44.382Z"
   },
   {
    "duration": 15,
    "start_time": "2023-05-01T20:48:44.544Z"
   },
   {
    "duration": 345,
    "start_time": "2023-05-01T20:48:44.561Z"
   },
   {
    "duration": 15,
    "start_time": "2023-05-01T20:48:44.908Z"
   },
   {
    "duration": 20,
    "start_time": "2023-05-01T20:48:44.926Z"
   },
   {
    "duration": 10,
    "start_time": "2023-05-01T20:48:46.049Z"
   },
   {
    "duration": 427,
    "start_time": "2023-05-01T20:48:46.293Z"
   },
   {
    "duration": 39,
    "start_time": "2023-05-01T20:48:46.722Z"
   },
   {
    "duration": 320,
    "start_time": "2023-05-01T20:48:46.763Z"
   },
   {
    "duration": 3,
    "start_time": "2023-05-01T20:48:47.085Z"
   },
   {
    "duration": 23403,
    "start_time": "2023-05-01T20:48:47.307Z"
   },
   {
    "duration": 381,
    "start_time": "2023-05-01T20:49:10.716Z"
   },
   {
    "duration": 7162,
    "start_time": "2023-05-01T20:49:11.101Z"
   },
   {
    "duration": 1777,
    "start_time": "2023-05-01T20:49:18.265Z"
   },
   {
    "duration": 110,
    "start_time": "2023-05-01T20:49:20.044Z"
   },
   {
    "duration": 23938,
    "start_time": "2023-05-01T20:49:20.156Z"
   },
   {
    "duration": 153,
    "start_time": "2023-05-01T20:49:44.095Z"
   },
   {
    "duration": 1453,
    "start_time": "2023-05-01T20:53:17.906Z"
   },
   {
    "duration": 875,
    "start_time": "2023-05-01T20:53:21.238Z"
   },
   {
    "duration": 120,
    "start_time": "2023-05-01T20:53:22.610Z"
   },
   {
    "duration": 7,
    "start_time": "2023-05-01T20:53:26.398Z"
   },
   {
    "duration": 125,
    "start_time": "2023-05-01T20:53:33.921Z"
   },
   {
    "duration": 29,
    "start_time": "2023-05-01T20:53:43.794Z"
   },
   {
    "duration": 28,
    "start_time": "2023-05-01T20:54:23.953Z"
   },
   {
    "duration": 29,
    "start_time": "2023-05-01T20:54:26.909Z"
   },
   {
    "duration": 121,
    "start_time": "2023-05-01T20:54:55.813Z"
   },
   {
    "duration": 100,
    "start_time": "2023-05-01T20:55:00.593Z"
   },
   {
    "duration": 939,
    "start_time": "2023-05-01T20:55:05.428Z"
   },
   {
    "duration": 11,
    "start_time": "2023-05-01T20:55:17.796Z"
   },
   {
    "duration": 29,
    "start_time": "2023-05-01T20:56:03.660Z"
   },
   {
    "duration": 23,
    "start_time": "2023-05-01T20:56:09.206Z"
   },
   {
    "duration": 24,
    "start_time": "2023-05-01T20:56:34.950Z"
   },
   {
    "duration": 21,
    "start_time": "2023-05-01T20:57:01.323Z"
   },
   {
    "duration": 21,
    "start_time": "2023-05-01T20:57:09.493Z"
   },
   {
    "duration": 59,
    "start_time": "2023-05-01T20:57:12.840Z"
   },
   {
    "duration": 1204,
    "start_time": "2023-05-01T20:57:15.923Z"
   },
   {
    "duration": 272,
    "start_time": "2023-05-01T20:57:23.057Z"
   },
   {
    "duration": 19,
    "start_time": "2023-05-01T20:57:31.997Z"
   },
   {
    "duration": 321,
    "start_time": "2023-05-01T20:57:41.034Z"
   },
   {
    "duration": 16,
    "start_time": "2023-05-01T20:57:52.466Z"
   },
   {
    "duration": 308,
    "start_time": "2023-05-01T20:57:56.700Z"
   },
   {
    "duration": 14,
    "start_time": "2023-05-01T20:58:04.528Z"
   },
   {
    "duration": 20,
    "start_time": "2023-05-01T20:58:35.641Z"
   },
   {
    "duration": 10,
    "start_time": "2023-05-01T21:00:16.303Z"
   },
   {
    "duration": 411,
    "start_time": "2023-05-01T21:00:22.039Z"
   },
   {
    "duration": 42,
    "start_time": "2023-05-01T21:00:23.996Z"
   },
   {
    "duration": 274,
    "start_time": "2023-05-01T21:00:25.795Z"
   },
   {
    "duration": 4,
    "start_time": "2023-05-01T21:00:26.793Z"
   },
   {
    "duration": 13554,
    "start_time": "2023-05-01T21:00:31.941Z"
   },
   {
    "duration": 170,
    "start_time": "2023-05-01T21:00:47.930Z"
   },
   {
    "duration": 6762,
    "start_time": "2023-05-01T21:00:53.064Z"
   },
   {
    "duration": 1718,
    "start_time": "2023-05-01T21:00:59.828Z"
   },
   {
    "duration": 113,
    "start_time": "2023-05-01T21:01:01.548Z"
   },
   {
    "duration": 22970,
    "start_time": "2023-05-01T21:01:04.759Z"
   },
   {
    "duration": 130,
    "start_time": "2023-05-01T21:01:27.730Z"
   },
   {
    "duration": 32,
    "start_time": "2023-05-01T21:01:27.862Z"
   },
   {
    "duration": 1541,
    "start_time": "2023-05-01T21:34:29.277Z"
   },
   {
    "duration": 897,
    "start_time": "2023-05-01T21:34:30.820Z"
   },
   {
    "duration": 129,
    "start_time": "2023-05-01T21:34:31.719Z"
   },
   {
    "duration": 20,
    "start_time": "2023-05-01T21:34:31.850Z"
   },
   {
    "duration": 168,
    "start_time": "2023-05-01T21:34:31.872Z"
   },
   {
    "duration": 42,
    "start_time": "2023-05-01T21:34:32.042Z"
   },
   {
    "duration": 56,
    "start_time": "2023-05-01T21:34:32.086Z"
   },
   {
    "duration": 138,
    "start_time": "2023-05-01T21:34:32.144Z"
   },
   {
    "duration": 111,
    "start_time": "2023-05-01T21:34:32.284Z"
   },
   {
    "duration": 811,
    "start_time": "2023-05-01T21:34:32.400Z"
   },
   {
    "duration": 7,
    "start_time": "2023-05-01T21:34:33.214Z"
   },
   {
    "duration": 28,
    "start_time": "2023-05-01T21:34:33.222Z"
   },
   {
    "duration": 24,
    "start_time": "2023-05-01T21:34:33.251Z"
   },
   {
    "duration": 39,
    "start_time": "2023-05-01T21:34:33.279Z"
   },
   {
    "duration": 23,
    "start_time": "2023-05-01T21:34:33.319Z"
   },
   {
    "duration": 22,
    "start_time": "2023-05-01T21:34:33.343Z"
   },
   {
    "duration": 46,
    "start_time": "2023-05-01T21:34:33.367Z"
   },
   {
    "duration": 62,
    "start_time": "2023-05-01T21:34:33.414Z"
   },
   {
    "duration": 1332,
    "start_time": "2023-05-01T21:34:33.478Z"
   },
   {
    "duration": 272,
    "start_time": "2023-05-01T21:34:34.812Z"
   },
   {
    "duration": 23,
    "start_time": "2023-05-01T21:34:35.086Z"
   },
   {
    "duration": 345,
    "start_time": "2023-05-01T21:34:35.112Z"
   },
   {
    "duration": 159,
    "start_time": "2023-05-01T21:34:35.459Z"
   },
   {
    "duration": 15,
    "start_time": "2023-05-01T21:34:35.619Z"
   },
   {
    "duration": 323,
    "start_time": "2023-05-01T21:34:35.636Z"
   },
   {
    "duration": 15,
    "start_time": "2023-05-01T21:34:35.960Z"
   },
   {
    "duration": 35,
    "start_time": "2023-05-01T21:34:35.976Z"
   },
   {
    "duration": 9,
    "start_time": "2023-05-01T21:34:36.014Z"
   },
   {
    "duration": 426,
    "start_time": "2023-05-01T21:34:36.024Z"
   },
   {
    "duration": 55,
    "start_time": "2023-05-01T21:34:36.452Z"
   },
   {
    "duration": 279,
    "start_time": "2023-05-01T21:34:36.509Z"
   },
   {
    "duration": 10,
    "start_time": "2023-05-01T21:34:36.790Z"
   },
   {
    "duration": 29404,
    "start_time": "2023-05-01T21:34:36.808Z"
   },
   {
    "duration": 298,
    "start_time": "2023-05-01T21:35:06.213Z"
   },
   {
    "duration": 7250,
    "start_time": "2023-05-01T21:35:06.513Z"
   },
   {
    "duration": 1768,
    "start_time": "2023-05-01T21:35:13.765Z"
   },
   {
    "duration": 117,
    "start_time": "2023-05-01T21:35:15.535Z"
   },
   {
    "duration": 25275,
    "start_time": "2023-05-01T21:35:15.654Z"
   },
   {
    "duration": 136,
    "start_time": "2023-05-01T21:35:40.931Z"
   },
   {
    "duration": 32,
    "start_time": "2023-05-01T21:53:16.201Z"
   },
   {
    "duration": 12,
    "start_time": "2023-05-01T21:53:16.235Z"
   },
   {
    "duration": 19321,
    "start_time": "2023-05-01T21:59:04.065Z"
   },
   {
    "duration": 16,
    "start_time": "2023-05-01T21:59:23.388Z"
   },
   {
    "duration": 10,
    "start_time": "2023-05-01T21:59:23.882Z"
   },
   {
    "duration": 9,
    "start_time": "2023-05-01T21:59:27.058Z"
   },
   {
    "duration": 4,
    "start_time": "2023-05-01T21:59:55.661Z"
   },
   {
    "duration": 338,
    "start_time": "2023-05-01T22:00:00.504Z"
   },
   {
    "duration": 346,
    "start_time": "2023-05-01T22:01:02.687Z"
   },
   {
    "duration": 1460,
    "start_time": "2023-05-01T22:11:38.131Z"
   },
   {
    "duration": 865,
    "start_time": "2023-05-01T22:11:39.593Z"
   },
   {
    "duration": 130,
    "start_time": "2023-05-01T22:11:40.459Z"
   },
   {
    "duration": 26,
    "start_time": "2023-05-01T22:11:40.593Z"
   },
   {
    "duration": 118,
    "start_time": "2023-05-01T22:11:40.622Z"
   },
   {
    "duration": 39,
    "start_time": "2023-05-01T22:11:40.742Z"
   },
   {
    "duration": 54,
    "start_time": "2023-05-01T22:11:40.782Z"
   },
   {
    "duration": 123,
    "start_time": "2023-05-01T22:11:40.838Z"
   },
   {
    "duration": 102,
    "start_time": "2023-05-01T22:11:40.963Z"
   },
   {
    "duration": 862,
    "start_time": "2023-05-01T22:11:41.069Z"
   },
   {
    "duration": 9,
    "start_time": "2023-05-01T22:11:41.933Z"
   },
   {
    "duration": 34,
    "start_time": "2023-05-01T22:11:41.944Z"
   },
   {
    "duration": 31,
    "start_time": "2023-05-01T22:11:41.980Z"
   },
   {
    "duration": 24,
    "start_time": "2023-05-01T22:11:42.020Z"
   },
   {
    "duration": 32,
    "start_time": "2023-05-01T22:11:42.046Z"
   },
   {
    "duration": 44,
    "start_time": "2023-05-01T22:11:42.080Z"
   },
   {
    "duration": 21,
    "start_time": "2023-05-01T22:11:42.126Z"
   },
   {
    "duration": 78,
    "start_time": "2023-05-01T22:11:42.149Z"
   },
   {
    "duration": 1375,
    "start_time": "2023-05-01T22:11:42.229Z"
   },
   {
    "duration": 272,
    "start_time": "2023-05-01T22:11:43.605Z"
   },
   {
    "duration": 29,
    "start_time": "2023-05-01T22:11:43.879Z"
   },
   {
    "duration": 351,
    "start_time": "2023-05-01T22:11:43.910Z"
   },
   {
    "duration": 157,
    "start_time": "2023-05-01T22:11:44.262Z"
   },
   {
    "duration": 16,
    "start_time": "2023-05-01T22:11:44.427Z"
   },
   {
    "duration": 329,
    "start_time": "2023-05-01T22:11:44.445Z"
   },
   {
    "duration": 41,
    "start_time": "2023-05-01T22:11:44.776Z"
   },
   {
    "duration": 25,
    "start_time": "2023-05-01T22:11:44.820Z"
   },
   {
    "duration": 9,
    "start_time": "2023-05-01T22:11:44.849Z"
   },
   {
    "duration": 425,
    "start_time": "2023-05-01T22:11:44.859Z"
   },
   {
    "duration": 55,
    "start_time": "2023-05-01T22:11:45.286Z"
   },
   {
    "duration": 301,
    "start_time": "2023-05-01T22:11:45.343Z"
   },
   {
    "duration": 4,
    "start_time": "2023-05-01T22:11:45.646Z"
   },
   {
    "duration": 46260,
    "start_time": "2023-05-01T22:11:45.651Z"
   },
   {
    "duration": 292,
    "start_time": "2023-05-01T22:12:31.913Z"
   },
   {
    "duration": 7344,
    "start_time": "2023-05-01T22:12:32.208Z"
   },
   {
    "duration": 1835,
    "start_time": "2023-05-01T22:12:39.554Z"
   },
   {
    "duration": 137,
    "start_time": "2023-05-01T22:12:41.390Z"
   },
   {
    "duration": 25421,
    "start_time": "2023-05-01T22:12:41.529Z"
   },
   {
    "duration": 139,
    "start_time": "2023-05-01T22:13:06.952Z"
   },
   {
    "duration": 358,
    "start_time": "2023-05-01T22:13:07.096Z"
   },
   {
    "duration": 281077,
    "start_time": "2023-05-01T22:13:07.455Z"
   },
   {
    "duration": 12,
    "start_time": "2023-05-01T22:17:48.534Z"
   },
   {
    "duration": 78,
    "start_time": "2023-05-01T22:17:48.547Z"
   },
   {
    "duration": 1588,
    "start_time": "2023-05-02T03:46:16.411Z"
   },
   {
    "duration": 2771,
    "start_time": "2023-05-02T03:46:18.001Z"
   },
   {
    "duration": 140,
    "start_time": "2023-05-02T03:46:20.774Z"
   },
   {
    "duration": 6,
    "start_time": "2023-05-02T03:46:20.916Z"
   },
   {
    "duration": 140,
    "start_time": "2023-05-02T03:46:20.923Z"
   },
   {
    "duration": 37,
    "start_time": "2023-05-02T03:46:21.064Z"
   },
   {
    "duration": 51,
    "start_time": "2023-05-02T03:46:21.103Z"
   },
   {
    "duration": 145,
    "start_time": "2023-05-02T03:46:21.156Z"
   },
   {
    "duration": 99,
    "start_time": "2023-05-02T03:46:21.303Z"
   },
   {
    "duration": 738,
    "start_time": "2023-05-02T03:46:21.404Z"
   },
   {
    "duration": 6,
    "start_time": "2023-05-02T03:46:22.144Z"
   },
   {
    "duration": 38,
    "start_time": "2023-05-02T03:46:22.152Z"
   },
   {
    "duration": 32,
    "start_time": "2023-05-02T03:46:22.192Z"
   },
   {
    "duration": 75,
    "start_time": "2023-05-02T03:46:22.225Z"
   },
   {
    "duration": 44,
    "start_time": "2023-05-02T03:46:22.302Z"
   },
   {
    "duration": 37,
    "start_time": "2023-05-02T03:46:22.347Z"
   },
   {
    "duration": 59,
    "start_time": "2023-05-02T03:46:22.386Z"
   },
   {
    "duration": 54,
    "start_time": "2023-05-02T03:46:22.447Z"
   },
   {
    "duration": 1256,
    "start_time": "2023-05-02T03:46:22.503Z"
   },
   {
    "duration": 246,
    "start_time": "2023-05-02T03:46:23.761Z"
   },
   {
    "duration": 17,
    "start_time": "2023-05-02T03:46:24.009Z"
   },
   {
    "duration": 334,
    "start_time": "2023-05-02T03:46:24.028Z"
   },
   {
    "duration": 139,
    "start_time": "2023-05-02T03:46:24.363Z"
   },
   {
    "duration": 14,
    "start_time": "2023-05-02T03:46:24.503Z"
   },
   {
    "duration": 323,
    "start_time": "2023-05-02T03:46:24.518Z"
   },
   {
    "duration": 14,
    "start_time": "2023-05-02T03:46:24.843Z"
   },
   {
    "duration": 33,
    "start_time": "2023-05-02T03:46:24.859Z"
   },
   {
    "duration": 8,
    "start_time": "2023-05-02T03:46:24.895Z"
   },
   {
    "duration": 378,
    "start_time": "2023-05-02T03:46:24.905Z"
   },
   {
    "duration": 38,
    "start_time": "2023-05-02T03:46:25.285Z"
   },
   {
    "duration": 270,
    "start_time": "2023-05-02T03:46:25.325Z"
   },
   {
    "duration": 4,
    "start_time": "2023-05-02T03:46:25.596Z"
   },
   {
    "duration": 13583,
    "start_time": "2023-05-02T03:46:25.602Z"
   },
   {
    "duration": 297,
    "start_time": "2023-05-02T03:46:39.187Z"
   },
   {
    "duration": 6817,
    "start_time": "2023-05-02T03:46:39.486Z"
   },
   {
    "duration": 1658,
    "start_time": "2023-05-02T03:46:46.305Z"
   },
   {
    "duration": 113,
    "start_time": "2023-05-02T03:46:47.964Z"
   },
   {
    "duration": 22463,
    "start_time": "2023-05-02T03:46:48.078Z"
   },
   {
    "duration": 138,
    "start_time": "2023-05-02T03:47:10.543Z"
   },
   {
    "duration": 334,
    "start_time": "2023-05-02T03:47:10.684Z"
   },
   {
    "duration": 365864,
    "start_time": "2023-05-02T03:47:11.020Z"
   },
   {
    "duration": 11,
    "start_time": "2023-05-02T03:53:16.886Z"
   },
   {
    "duration": 65,
    "start_time": "2023-05-02T03:53:16.898Z"
   },
   {
    "duration": 1566,
    "start_time": "2023-05-02T17:35:28.503Z"
   },
   {
    "duration": 1017,
    "start_time": "2023-05-02T17:35:58.382Z"
   },
   {
    "duration": 115,
    "start_time": "2023-05-02T17:36:11.411Z"
   },
   {
    "duration": 6,
    "start_time": "2023-05-02T17:36:18.199Z"
   },
   {
    "duration": 100,
    "start_time": "2023-05-02T17:37:06.642Z"
   },
   {
    "duration": 21,
    "start_time": "2023-05-02T17:38:17.578Z"
   },
   {
    "duration": 175,
    "start_time": "2023-05-02T17:38:33.707Z"
   },
   {
    "duration": 11,
    "start_time": "2023-05-02T17:38:56.830Z"
   },
   {
    "duration": 24,
    "start_time": "2023-05-02T17:39:52.679Z"
   },
   {
    "duration": 24,
    "start_time": "2023-05-02T17:40:09.725Z"
   },
   {
    "duration": 26,
    "start_time": "2023-05-02T17:40:17.399Z"
   },
   {
    "duration": 30,
    "start_time": "2023-05-02T17:40:24.095Z"
   },
   {
    "duration": 25,
    "start_time": "2023-05-02T17:40:36.579Z"
   },
   {
    "duration": 23,
    "start_time": "2023-05-02T17:40:46.982Z"
   },
   {
    "duration": 24,
    "start_time": "2023-05-02T17:40:59.395Z"
   },
   {
    "duration": 25,
    "start_time": "2023-05-02T17:41:05.503Z"
   },
   {
    "duration": 19,
    "start_time": "2023-05-02T17:41:39.731Z"
   },
   {
    "duration": 25,
    "start_time": "2023-05-02T17:41:52.975Z"
   },
   {
    "duration": 24,
    "start_time": "2023-05-02T17:41:58.102Z"
   },
   {
    "duration": 9,
    "start_time": "2023-05-02T17:42:05.902Z"
   },
   {
    "duration": 9,
    "start_time": "2023-05-02T17:42:13.338Z"
   },
   {
    "duration": 9,
    "start_time": "2023-05-02T17:42:26.379Z"
   },
   {
    "duration": 24,
    "start_time": "2023-05-02T17:42:35.449Z"
   },
   {
    "duration": 251,
    "start_time": "2023-05-02T17:47:04.713Z"
   },
   {
    "duration": 13,
    "start_time": "2023-05-02T17:55:56.476Z"
   },
   {
    "duration": 107,
    "start_time": "2023-05-02T17:56:33.921Z"
   },
   {
    "duration": 247,
    "start_time": "2023-05-02T17:56:34.675Z"
   },
   {
    "duration": 11,
    "start_time": "2023-05-02T17:56:37.279Z"
   },
   {
    "duration": 4,
    "start_time": "2023-05-02T17:58:07.484Z"
   },
   {
    "duration": 11,
    "start_time": "2023-05-02T17:59:16.695Z"
   },
   {
    "duration": 17,
    "start_time": "2023-05-02T18:00:20.683Z"
   },
   {
    "duration": 11,
    "start_time": "2023-05-02T18:00:45.075Z"
   },
   {
    "duration": 10,
    "start_time": "2023-05-02T18:01:00.082Z"
   },
   {
    "duration": 13,
    "start_time": "2023-05-02T18:03:43.533Z"
   },
   {
    "duration": 12,
    "start_time": "2023-05-02T18:06:37.278Z"
   },
   {
    "duration": 14,
    "start_time": "2023-05-02T18:09:43.698Z"
   },
   {
    "duration": 14,
    "start_time": "2023-05-02T18:09:54.186Z"
   },
   {
    "duration": 7,
    "start_time": "2023-05-02T18:17:32.817Z"
   },
   {
    "duration": 11,
    "start_time": "2023-05-02T18:18:54.598Z"
   },
   {
    "duration": 425,
    "start_time": "2023-05-02T18:19:03.985Z"
   },
   {
    "duration": 10,
    "start_time": "2023-05-02T18:19:14.371Z"
   },
   {
    "duration": 58,
    "start_time": "2023-05-02T18:19:36.054Z"
   },
   {
    "duration": 10,
    "start_time": "2023-05-02T18:21:44.337Z"
   },
   {
    "duration": 10,
    "start_time": "2023-05-02T18:21:52.743Z"
   },
   {
    "duration": 10,
    "start_time": "2023-05-02T18:22:08.235Z"
   },
   {
    "duration": 56,
    "start_time": "2023-05-02T18:22:44.304Z"
   },
   {
    "duration": 12,
    "start_time": "2023-05-02T18:22:59.617Z"
   },
   {
    "duration": 13,
    "start_time": "2023-05-02T18:23:09.816Z"
   },
   {
    "duration": 570,
    "start_time": "2023-05-02T18:23:20.613Z"
   },
   {
    "duration": 10,
    "start_time": "2023-05-02T18:32:57.385Z"
   },
   {
    "duration": 13,
    "start_time": "2023-05-02T18:33:24.600Z"
   },
   {
    "duration": 12,
    "start_time": "2023-05-02T18:37:54.096Z"
   },
   {
    "duration": 429,
    "start_time": "2023-05-02T18:38:05.034Z"
   },
   {
    "duration": 444,
    "start_time": "2023-05-02T18:40:05.313Z"
   },
   {
    "duration": 434,
    "start_time": "2023-05-02T18:41:55.149Z"
   },
   {
    "duration": 66,
    "start_time": "2023-05-02T18:44:34.574Z"
   },
   {
    "duration": 406,
    "start_time": "2023-05-02T18:44:42.878Z"
   },
   {
    "duration": 434,
    "start_time": "2023-05-02T18:44:54.793Z"
   },
   {
    "duration": 4,
    "start_time": "2023-05-02T18:49:26.874Z"
   },
   {
    "duration": 11,
    "start_time": "2023-05-02T18:49:34.167Z"
   },
   {
    "duration": 10,
    "start_time": "2023-05-02T18:50:11.035Z"
   },
   {
    "duration": 10,
    "start_time": "2023-05-02T18:51:27.081Z"
   },
   {
    "duration": 3,
    "start_time": "2023-05-02T18:51:57.110Z"
   },
   {
    "duration": 15,
    "start_time": "2023-05-02T18:52:08.087Z"
   },
   {
    "duration": 3,
    "start_time": "2023-05-02T18:52:30.344Z"
   },
   {
    "duration": 17,
    "start_time": "2023-05-02T18:52:32.881Z"
   },
   {
    "duration": 2099,
    "start_time": "2023-05-02T18:52:59.244Z"
   },
   {
    "duration": 11,
    "start_time": "2023-05-02T18:54:47.331Z"
   },
   {
    "duration": 9,
    "start_time": "2023-05-02T18:54:58.189Z"
   },
   {
    "duration": 9,
    "start_time": "2023-05-02T18:55:11.716Z"
   },
   {
    "duration": 59,
    "start_time": "2023-05-02T18:57:30.386Z"
   },
   {
    "duration": 13,
    "start_time": "2023-05-02T18:57:40.840Z"
   },
   {
    "duration": 11,
    "start_time": "2023-05-02T18:58:20.899Z"
   },
   {
    "duration": 10,
    "start_time": "2023-05-02T18:59:11.633Z"
   },
   {
    "duration": 92,
    "start_time": "2023-05-02T19:00:57.194Z"
   },
   {
    "duration": 209,
    "start_time": "2023-05-02T19:01:05.790Z"
   },
   {
    "duration": 221,
    "start_time": "2023-05-02T19:01:10.745Z"
   },
   {
    "duration": 223,
    "start_time": "2023-05-02T19:01:51.402Z"
   },
   {
    "duration": 234,
    "start_time": "2023-05-02T19:02:00.771Z"
   },
   {
    "duration": 228,
    "start_time": "2023-05-02T19:02:17.734Z"
   },
   {
    "duration": 216,
    "start_time": "2023-05-02T19:02:57.389Z"
   },
   {
    "duration": 320,
    "start_time": "2023-05-02T19:03:06.485Z"
   },
   {
    "duration": 1623,
    "start_time": "2023-05-02T19:03:45.965Z"
   },
   {
    "duration": 805,
    "start_time": "2023-05-02T19:03:47.633Z"
   },
   {
    "duration": 166,
    "start_time": "2023-05-02T19:03:49.109Z"
   },
   {
    "duration": 170,
    "start_time": "2023-05-02T19:03:53.350Z"
   },
   {
    "duration": 6,
    "start_time": "2023-05-02T19:03:56.570Z"
   },
   {
    "duration": 111,
    "start_time": "2023-05-02T19:03:59.095Z"
   },
   {
    "duration": 368,
    "start_time": "2023-05-02T19:04:04.451Z"
   },
   {
    "duration": 186,
    "start_time": "2023-05-02T19:04:29.567Z"
   },
   {
    "duration": 49,
    "start_time": "2023-05-02T19:04:37.155Z"
   },
   {
    "duration": 449,
    "start_time": "2023-05-02T19:05:13.182Z"
   },
   {
    "duration": 425,
    "start_time": "2023-05-02T19:06:08.806Z"
   },
   {
    "duration": 3,
    "start_time": "2023-05-02T19:07:13.582Z"
   },
   {
    "duration": 2076,
    "start_time": "2023-05-02T19:07:15.116Z"
   },
   {
    "duration": 20,
    "start_time": "2023-05-02T19:07:24.835Z"
   },
   {
    "duration": 1336,
    "start_time": "2023-05-02T19:11:02.129Z"
   },
   {
    "duration": 799,
    "start_time": "2023-05-02T19:11:03.467Z"
   },
   {
    "duration": 133,
    "start_time": "2023-05-02T19:11:04.268Z"
   },
   {
    "duration": 6,
    "start_time": "2023-05-02T19:11:04.403Z"
   },
   {
    "duration": 118,
    "start_time": "2023-05-02T19:11:04.410Z"
   },
   {
    "duration": 271,
    "start_time": "2023-05-02T19:11:04.530Z"
   },
   {
    "duration": 41,
    "start_time": "2023-05-02T19:11:04.804Z"
   },
   {
    "duration": 545,
    "start_time": "2023-05-02T19:11:09.375Z"
   },
   {
    "duration": 546,
    "start_time": "2023-05-02T19:11:47.464Z"
   },
   {
    "duration": 3,
    "start_time": "2023-05-02T19:12:59.338Z"
   },
   {
    "duration": 2192,
    "start_time": "2023-05-02T19:13:00.197Z"
   },
   {
    "duration": 96,
    "start_time": "2023-05-02T19:13:09.470Z"
   },
   {
    "duration": 8,
    "start_time": "2023-05-02T19:16:02.956Z"
   },
   {
    "duration": 1341,
    "start_time": "2023-05-02T19:16:09.593Z"
   },
   {
    "duration": 763,
    "start_time": "2023-05-02T19:16:10.936Z"
   },
   {
    "duration": 106,
    "start_time": "2023-05-02T19:16:11.701Z"
   },
   {
    "duration": 6,
    "start_time": "2023-05-02T19:16:11.809Z"
   },
   {
    "duration": 110,
    "start_time": "2023-05-02T19:16:11.816Z"
   },
   {
    "duration": 270,
    "start_time": "2023-05-02T19:16:11.928Z"
   },
   {
    "duration": 38,
    "start_time": "2023-05-02T19:16:12.441Z"
   },
   {
    "duration": 4,
    "start_time": "2023-05-02T19:16:14.594Z"
   },
   {
    "duration": 566,
    "start_time": "2023-05-02T19:16:16.000Z"
   },
   {
    "duration": 3,
    "start_time": "2023-05-02T19:16:59.614Z"
   },
   {
    "duration": 511,
    "start_time": "2023-05-02T19:17:02.303Z"
   },
   {
    "duration": 4,
    "start_time": "2023-05-02T19:17:59.009Z"
   },
   {
    "duration": 520,
    "start_time": "2023-05-02T19:18:10.532Z"
   },
   {
    "duration": 1124,
    "start_time": "2023-05-02T19:20:21.538Z"
   },
   {
    "duration": 1689,
    "start_time": "2023-05-02T19:20:52.559Z"
   },
   {
    "duration": 109,
    "start_time": "2023-05-02T19:25:00.438Z"
   },
   {
    "duration": 134,
    "start_time": "2023-05-02T19:25:28.411Z"
   },
   {
    "duration": 93,
    "start_time": "2023-05-02T19:26:19.783Z"
   },
   {
    "duration": 2073,
    "start_time": "2023-05-02T19:27:28.495Z"
   },
   {
    "duration": 99,
    "start_time": "2023-05-02T19:27:30.570Z"
   },
   {
    "duration": 18,
    "start_time": "2023-05-02T19:29:30.230Z"
   },
   {
    "duration": 1346,
    "start_time": "2023-05-02T19:30:34.203Z"
   },
   {
    "duration": 764,
    "start_time": "2023-05-02T19:30:35.551Z"
   },
   {
    "duration": 108,
    "start_time": "2023-05-02T19:30:36.317Z"
   },
   {
    "duration": 7,
    "start_time": "2023-05-02T19:30:36.426Z"
   },
   {
    "duration": 107,
    "start_time": "2023-05-02T19:30:36.852Z"
   },
   {
    "duration": 243,
    "start_time": "2023-05-02T19:30:37.587Z"
   },
   {
    "duration": 39,
    "start_time": "2023-05-02T19:30:38.313Z"
   },
   {
    "duration": 4,
    "start_time": "2023-05-02T19:30:40.341Z"
   },
   {
    "duration": 2090,
    "start_time": "2023-05-02T19:30:41.087Z"
   },
   {
    "duration": 97,
    "start_time": "2023-05-02T19:30:43.179Z"
   },
   {
    "duration": 1497,
    "start_time": "2023-05-02T19:31:04.783Z"
   },
   {
    "duration": 827,
    "start_time": "2023-05-02T19:31:06.282Z"
   },
   {
    "duration": 131,
    "start_time": "2023-05-02T19:31:07.111Z"
   },
   {
    "duration": 8,
    "start_time": "2023-05-02T19:31:07.245Z"
   },
   {
    "duration": 184,
    "start_time": "2023-05-02T19:31:07.255Z"
   },
   {
    "duration": 274,
    "start_time": "2023-05-02T19:31:07.441Z"
   },
   {
    "duration": 49,
    "start_time": "2023-05-02T19:31:07.717Z"
   },
   {
    "duration": 3,
    "start_time": "2023-05-02T19:31:07.768Z"
   },
   {
    "duration": 2111,
    "start_time": "2023-05-02T19:31:07.838Z"
   },
   {
    "duration": 97,
    "start_time": "2023-05-02T19:31:09.951Z"
   },
   {
    "duration": 18,
    "start_time": "2023-05-02T19:31:10.049Z"
   },
   {
    "duration": 1306,
    "start_time": "2023-05-02T19:32:41.515Z"
   },
   {
    "duration": 750,
    "start_time": "2023-05-02T19:32:42.823Z"
   },
   {
    "duration": 119,
    "start_time": "2023-05-02T19:32:43.575Z"
   },
   {
    "duration": 7,
    "start_time": "2023-05-02T19:32:43.696Z"
   },
   {
    "duration": 140,
    "start_time": "2023-05-02T19:32:43.705Z"
   },
   {
    "duration": 311,
    "start_time": "2023-05-02T19:32:43.847Z"
   },
   {
    "duration": 63,
    "start_time": "2023-05-02T19:32:44.160Z"
   },
   {
    "duration": 46,
    "start_time": "2023-05-02T19:32:47.626Z"
   },
   {
    "duration": 48,
    "start_time": "2023-05-02T19:33:21.077Z"
   },
   {
    "duration": 5,
    "start_time": "2023-05-02T19:34:31.212Z"
   },
   {
    "duration": 52,
    "start_time": "2023-05-02T19:34:37.889Z"
   },
   {
    "duration": 4,
    "start_time": "2023-05-02T19:35:11.087Z"
   },
   {
    "duration": 2000,
    "start_time": "2023-05-02T19:35:13.425Z"
   },
   {
    "duration": 0,
    "start_time": "2023-05-02T19:35:15.427Z"
   },
   {
    "duration": 3,
    "start_time": "2023-05-02T19:35:51.150Z"
   },
   {
    "duration": 1911,
    "start_time": "2023-05-02T19:35:54.237Z"
   },
   {
    "duration": 37,
    "start_time": "2023-05-02T19:37:07.024Z"
   },
   {
    "duration": 112,
    "start_time": "2023-05-02T19:41:06.889Z"
   },
   {
    "duration": 10,
    "start_time": "2023-05-02T19:43:44.843Z"
   },
   {
    "duration": 12,
    "start_time": "2023-05-02T19:44:00.078Z"
   },
   {
    "duration": 9,
    "start_time": "2023-05-02T19:44:50.280Z"
   },
   {
    "duration": 10,
    "start_time": "2023-05-02T19:45:02.903Z"
   },
   {
    "duration": 58,
    "start_time": "2023-05-02T19:47:17.640Z"
   },
   {
    "duration": 247,
    "start_time": "2023-05-02T19:48:11.956Z"
   },
   {
    "duration": 99,
    "start_time": "2023-05-02T19:48:25.995Z"
   },
   {
    "duration": 91,
    "start_time": "2023-05-02T19:49:53.422Z"
   },
   {
    "duration": 16,
    "start_time": "2023-05-02T20:00:56.281Z"
   },
   {
    "duration": 65,
    "start_time": "2023-05-02T20:01:07.962Z"
   },
   {
    "duration": 5,
    "start_time": "2023-05-02T20:01:14.025Z"
   },
   {
    "duration": 1311,
    "start_time": "2023-05-02T20:01:33.822Z"
   },
   {
    "duration": 739,
    "start_time": "2023-05-02T20:01:35.135Z"
   },
   {
    "duration": 102,
    "start_time": "2023-05-02T20:01:35.876Z"
   },
   {
    "duration": 5,
    "start_time": "2023-05-02T20:01:35.980Z"
   },
   {
    "duration": 111,
    "start_time": "2023-05-02T20:01:35.994Z"
   },
   {
    "duration": 250,
    "start_time": "2023-05-02T20:01:36.107Z"
   },
   {
    "duration": 52,
    "start_time": "2023-05-02T20:01:36.358Z"
   },
   {
    "duration": 4,
    "start_time": "2023-05-02T20:01:36.411Z"
   },
   {
    "duration": 2093,
    "start_time": "2023-05-02T20:01:36.416Z"
   },
   {
    "duration": 260,
    "start_time": "2023-05-02T20:01:38.512Z"
   },
   {
    "duration": 94,
    "start_time": "2023-05-02T20:01:38.773Z"
   },
   {
    "duration": 29,
    "start_time": "2023-05-02T20:01:38.868Z"
   },
   {
    "duration": 241,
    "start_time": "2023-05-02T20:01:38.899Z"
   },
   {
    "duration": 232,
    "start_time": "2023-05-02T20:02:11.221Z"
   },
   {
    "duration": 222,
    "start_time": "2023-05-02T20:02:19.254Z"
   },
   {
    "duration": 233,
    "start_time": "2023-05-02T20:02:36.822Z"
   },
   {
    "duration": 234,
    "start_time": "2023-05-02T20:02:52.438Z"
   },
   {
    "duration": 408,
    "start_time": "2023-05-02T20:03:06.392Z"
   },
   {
    "duration": 344,
    "start_time": "2023-05-02T20:03:21.498Z"
   },
   {
    "duration": 92,
    "start_time": "2023-05-02T20:05:24.890Z"
   },
   {
    "duration": 13,
    "start_time": "2023-05-02T20:05:44.342Z"
   },
   {
    "duration": 9,
    "start_time": "2023-05-02T20:06:01.075Z"
   },
   {
    "duration": 40,
    "start_time": "2023-05-02T20:06:26.424Z"
   },
   {
    "duration": 84,
    "start_time": "2023-05-02T20:06:29.223Z"
   },
   {
    "duration": 596,
    "start_time": "2023-05-02T20:06:56.438Z"
   },
   {
    "duration": 20,
    "start_time": "2023-05-02T20:10:16.911Z"
   },
   {
    "duration": 358,
    "start_time": "2023-05-02T20:10:46.562Z"
   },
   {
    "duration": 448,
    "start_time": "2023-05-02T20:12:56.464Z"
   },
   {
    "duration": 22,
    "start_time": "2023-05-02T20:14:45.050Z"
   },
   {
    "duration": 24,
    "start_time": "2023-05-02T20:21:57.140Z"
   },
   {
    "duration": 26,
    "start_time": "2023-05-02T20:25:22.347Z"
   },
   {
    "duration": 74,
    "start_time": "2023-05-02T20:25:29.825Z"
   },
   {
    "duration": 7,
    "start_time": "2023-05-02T20:29:52.624Z"
   },
   {
    "duration": 6,
    "start_time": "2023-05-02T20:30:56.432Z"
   },
   {
    "duration": 68,
    "start_time": "2023-05-02T20:33:13.412Z"
   },
   {
    "duration": 9,
    "start_time": "2023-05-02T20:33:26.974Z"
   },
   {
    "duration": 83,
    "start_time": "2023-05-02T20:34:22.684Z"
   },
   {
    "duration": 186,
    "start_time": "2023-05-02T20:36:49.338Z"
   },
   {
    "duration": 1371,
    "start_time": "2023-05-02T20:39:31.782Z"
   },
   {
    "duration": 780,
    "start_time": "2023-05-02T20:39:36.239Z"
   },
   {
    "duration": 123,
    "start_time": "2023-05-02T20:39:44.229Z"
   },
   {
    "duration": 7,
    "start_time": "2023-05-02T20:40:10.704Z"
   },
   {
    "duration": 465,
    "start_time": "2023-05-02T20:40:21.239Z"
   },
   {
    "duration": 854,
    "start_time": "2023-05-02T20:40:28.776Z"
   },
   {
    "duration": 651,
    "start_time": "2023-05-02T20:40:35.711Z"
   },
   {
    "duration": 27,
    "start_time": "2023-05-02T20:40:52.316Z"
   },
   {
    "duration": 36,
    "start_time": "2023-05-02T20:41:22.283Z"
   },
   {
    "duration": 112,
    "start_time": "2023-05-02T20:41:29.456Z"
   },
   {
    "duration": 114,
    "start_time": "2023-05-02T20:41:44.492Z"
   },
   {
    "duration": 241,
    "start_time": "2023-05-02T20:42:03.090Z"
   },
   {
    "duration": 229,
    "start_time": "2023-05-02T20:42:08.035Z"
   },
   {
    "duration": 3,
    "start_time": "2023-05-02T20:43:41.312Z"
   },
   {
    "duration": 22,
    "start_time": "2023-05-02T20:44:47.264Z"
   },
   {
    "duration": 1676,
    "start_time": "2023-05-02T20:45:57.626Z"
   },
   {
    "duration": 236,
    "start_time": "2023-05-02T20:46:05.895Z"
   },
   {
    "duration": 23,
    "start_time": "2023-05-02T20:46:19.811Z"
   },
   {
    "duration": 219,
    "start_time": "2023-05-02T20:47:00.442Z"
   },
   {
    "duration": 416,
    "start_time": "2023-05-02T20:47:05.394Z"
   },
   {
    "duration": 94,
    "start_time": "2023-05-02T20:47:37.286Z"
   },
   {
    "duration": 109,
    "start_time": "2023-05-02T20:49:54.156Z"
   },
   {
    "duration": 23,
    "start_time": "2023-05-02T20:50:42.825Z"
   },
   {
    "duration": 26,
    "start_time": "2023-05-02T20:51:07.019Z"
   },
   {
    "duration": 24,
    "start_time": "2023-05-02T20:51:47.880Z"
   },
   {
    "duration": 31,
    "start_time": "2023-05-02T20:51:51.177Z"
   },
   {
    "duration": 1315,
    "start_time": "2023-05-02T20:52:40.416Z"
   },
   {
    "duration": 736,
    "start_time": "2023-05-02T20:52:41.733Z"
   },
   {
    "duration": 117,
    "start_time": "2023-05-02T20:52:42.471Z"
   },
   {
    "duration": 6,
    "start_time": "2023-05-02T20:52:42.594Z"
   },
   {
    "duration": 910,
    "start_time": "2023-05-02T20:52:42.601Z"
   },
   {
    "duration": 671,
    "start_time": "2023-05-02T20:52:43.513Z"
   },
   {
    "duration": 43,
    "start_time": "2023-05-02T20:52:44.185Z"
   },
   {
    "duration": 127,
    "start_time": "2023-05-02T20:52:44.230Z"
   },
   {
    "duration": 98,
    "start_time": "2023-05-02T20:52:44.358Z"
   },
   {
    "duration": 246,
    "start_time": "2023-05-02T20:52:44.459Z"
   },
   {
    "duration": 223,
    "start_time": "2023-05-02T20:52:44.707Z"
   },
   {
    "duration": 3,
    "start_time": "2023-05-02T20:52:44.932Z"
   },
   {
    "duration": 1623,
    "start_time": "2023-05-02T20:52:44.937Z"
   },
   {
    "duration": 210,
    "start_time": "2023-05-02T20:52:46.562Z"
   },
   {
    "duration": 351,
    "start_time": "2023-05-02T20:52:46.773Z"
   },
   {
    "duration": 94,
    "start_time": "2023-05-02T20:52:47.126Z"
   },
   {
    "duration": 73,
    "start_time": "2023-05-02T20:52:47.221Z"
   },
   {
    "duration": 22,
    "start_time": "2023-05-02T20:52:47.296Z"
   },
   {
    "duration": 19,
    "start_time": "2023-05-02T20:53:52.938Z"
   },
   {
    "duration": 20,
    "start_time": "2023-05-02T20:54:45.095Z"
   },
   {
    "duration": 6,
    "start_time": "2023-05-02T20:56:13.552Z"
   },
   {
    "duration": 19,
    "start_time": "2023-05-02T20:58:11.841Z"
   },
   {
    "duration": 22,
    "start_time": "2023-05-02T20:58:27.234Z"
   },
   {
    "duration": 21,
    "start_time": "2023-05-02T20:58:28.986Z"
   },
   {
    "duration": 23,
    "start_time": "2023-05-02T20:59:08.911Z"
   },
   {
    "duration": 38,
    "start_time": "2023-05-02T20:59:27.873Z"
   },
   {
    "duration": 112,
    "start_time": "2023-05-02T20:59:50.830Z"
   },
   {
    "duration": 1308,
    "start_time": "2023-05-02T21:00:16.137Z"
   },
   {
    "duration": 748,
    "start_time": "2023-05-02T21:00:17.447Z"
   },
   {
    "duration": 108,
    "start_time": "2023-05-02T21:00:18.197Z"
   },
   {
    "duration": 6,
    "start_time": "2023-05-02T21:00:18.307Z"
   },
   {
    "duration": 868,
    "start_time": "2023-05-02T21:00:18.315Z"
   },
   {
    "duration": 649,
    "start_time": "2023-05-02T21:00:19.185Z"
   },
   {
    "duration": 27,
    "start_time": "2023-05-02T21:00:19.835Z"
   },
   {
    "duration": 121,
    "start_time": "2023-05-02T21:00:19.864Z"
   },
   {
    "duration": 90,
    "start_time": "2023-05-02T21:00:19.986Z"
   },
   {
    "duration": 230,
    "start_time": "2023-05-02T21:00:20.079Z"
   },
   {
    "duration": 247,
    "start_time": "2023-05-02T21:00:20.310Z"
   },
   {
    "duration": 5,
    "start_time": "2023-05-02T21:00:20.558Z"
   },
   {
    "duration": 1731,
    "start_time": "2023-05-02T21:00:20.564Z"
   },
   {
    "duration": 222,
    "start_time": "2023-05-02T21:00:22.297Z"
   },
   {
    "duration": 358,
    "start_time": "2023-05-02T21:00:22.521Z"
   },
   {
    "duration": 114,
    "start_time": "2023-05-02T21:00:22.881Z"
   },
   {
    "duration": 63,
    "start_time": "2023-05-02T21:00:22.997Z"
   },
   {
    "duration": 36,
    "start_time": "2023-05-02T21:00:23.062Z"
   },
   {
    "duration": 25,
    "start_time": "2023-05-02T21:00:23.099Z"
   },
   {
    "duration": 7,
    "start_time": "2023-05-02T21:00:23.126Z"
   },
   {
    "duration": 24,
    "start_time": "2023-05-02T21:00:23.134Z"
   },
   {
    "duration": 63,
    "start_time": "2023-05-02T21:00:23.159Z"
   },
   {
    "duration": 28,
    "start_time": "2023-05-02T21:00:26.149Z"
   },
   {
    "duration": 11,
    "start_time": "2023-05-02T21:00:30.841Z"
   },
   {
    "duration": 32,
    "start_time": "2023-05-02T21:00:32.211Z"
   },
   {
    "duration": 57,
    "start_time": "2023-05-02T21:01:15.174Z"
   },
   {
    "duration": 55,
    "start_time": "2023-05-02T21:02:14.757Z"
   },
   {
    "duration": 256,
    "start_time": "2023-05-02T21:03:18.421Z"
   },
   {
    "duration": 20,
    "start_time": "2023-05-02T21:03:21.434Z"
   },
   {
    "duration": 127,
    "start_time": "2023-05-02T21:03:38.934Z"
   },
   {
    "duration": 124,
    "start_time": "2023-05-02T21:04:22.020Z"
   },
   {
    "duration": 13,
    "start_time": "2023-05-02T21:04:59.053Z"
   },
   {
    "duration": 273,
    "start_time": "2023-05-02T21:06:06.442Z"
   },
   {
    "duration": 16,
    "start_time": "2023-05-02T21:06:13.554Z"
   },
   {
    "duration": 18,
    "start_time": "2023-05-02T21:06:17.250Z"
   },
   {
    "duration": 8,
    "start_time": "2023-05-02T21:11:23.542Z"
   },
   {
    "duration": 388,
    "start_time": "2023-05-02T21:11:25.317Z"
   },
   {
    "duration": 45,
    "start_time": "2023-05-02T21:11:26.473Z"
   },
   {
    "duration": 276,
    "start_time": "2023-05-02T21:11:28.294Z"
   },
   {
    "duration": 4,
    "start_time": "2023-05-02T21:11:48.774Z"
   },
   {
    "duration": 16649,
    "start_time": "2023-05-02T21:11:55.253Z"
   },
   {
    "duration": 180,
    "start_time": "2023-05-02T21:12:15.220Z"
   },
   {
    "duration": 6523,
    "start_time": "2023-05-02T21:12:21.919Z"
   },
   {
    "duration": 1618,
    "start_time": "2023-05-02T21:12:28.443Z"
   },
   {
    "duration": 101,
    "start_time": "2023-05-02T21:12:33.773Z"
   },
   {
    "duration": 23002,
    "start_time": "2023-05-02T21:12:37.380Z"
   },
   {
    "duration": 123,
    "start_time": "2023-05-02T21:13:03.658Z"
   },
   {
    "duration": 153,
    "start_time": "2023-05-02T21:13:22.948Z"
   },
   {
    "duration": 287,
    "start_time": "2023-05-02T21:13:39.889Z"
   },
   {
    "duration": 1299,
    "start_time": "2023-05-02T21:26:20.234Z"
   },
   {
    "duration": 787,
    "start_time": "2023-05-02T21:26:21.535Z"
   },
   {
    "duration": 107,
    "start_time": "2023-05-02T21:26:22.323Z"
   },
   {
    "duration": 5,
    "start_time": "2023-05-02T21:26:22.432Z"
   },
   {
    "duration": 935,
    "start_time": "2023-05-02T21:26:22.438Z"
   },
   {
    "duration": 724,
    "start_time": "2023-05-02T21:26:23.374Z"
   },
   {
    "duration": 33,
    "start_time": "2023-05-02T21:26:24.110Z"
   },
   {
    "duration": 137,
    "start_time": "2023-05-02T21:26:24.146Z"
   },
   {
    "duration": 90,
    "start_time": "2023-05-02T21:26:24.285Z"
   },
   {
    "duration": 245,
    "start_time": "2023-05-02T21:26:24.377Z"
   },
   {
    "duration": 257,
    "start_time": "2023-05-02T21:26:24.624Z"
   },
   {
    "duration": 4,
    "start_time": "2023-05-02T21:26:24.882Z"
   },
   {
    "duration": 1700,
    "start_time": "2023-05-02T21:26:24.887Z"
   },
   {
    "duration": 226,
    "start_time": "2023-05-02T21:26:26.589Z"
   },
   {
    "duration": 372,
    "start_time": "2023-05-02T21:26:26.816Z"
   },
   {
    "duration": 115,
    "start_time": "2023-05-02T21:26:27.193Z"
   },
   {
    "duration": 58,
    "start_time": "2023-05-02T21:26:27.310Z"
   },
   {
    "duration": 36,
    "start_time": "2023-05-02T21:26:27.369Z"
   },
   {
    "duration": 23,
    "start_time": "2023-05-02T21:26:27.407Z"
   },
   {
    "duration": 12,
    "start_time": "2023-05-02T21:26:27.431Z"
   },
   {
    "duration": 48,
    "start_time": "2023-05-02T21:26:27.444Z"
   },
   {
    "duration": 30,
    "start_time": "2023-05-02T21:26:27.494Z"
   },
   {
    "duration": 27,
    "start_time": "2023-05-02T21:26:27.526Z"
   },
   {
    "duration": 14,
    "start_time": "2023-05-02T21:26:27.555Z"
   },
   {
    "duration": 75,
    "start_time": "2023-05-02T21:26:27.571Z"
   },
   {
    "duration": 1228,
    "start_time": "2023-05-02T21:26:27.648Z"
   },
   {
    "duration": 246,
    "start_time": "2023-05-02T21:26:28.878Z"
   },
   {
    "duration": 17,
    "start_time": "2023-05-02T21:26:29.128Z"
   },
   {
    "duration": 140,
    "start_time": "2023-05-02T21:26:29.147Z"
   },
   {
    "duration": 27,
    "start_time": "2023-05-02T21:26:29.289Z"
   },
   {
    "duration": 292,
    "start_time": "2023-05-02T21:26:29.318Z"
   },
   {
    "duration": 14,
    "start_time": "2023-05-02T21:26:29.612Z"
   },
   {
    "duration": 22,
    "start_time": "2023-05-02T21:26:29.628Z"
   },
   {
    "duration": 8,
    "start_time": "2023-05-02T21:26:29.652Z"
   },
   {
    "duration": 387,
    "start_time": "2023-05-02T21:26:29.662Z"
   },
   {
    "duration": 55,
    "start_time": "2023-05-02T21:26:30.051Z"
   },
   {
    "duration": 255,
    "start_time": "2023-05-02T21:26:30.108Z"
   },
   {
    "duration": 3,
    "start_time": "2023-05-02T21:26:30.365Z"
   },
   {
    "duration": 18737,
    "start_time": "2023-05-02T21:26:30.370Z"
   },
   {
    "duration": 386,
    "start_time": "2023-05-02T21:26:49.108Z"
   },
   {
    "duration": 6343,
    "start_time": "2023-05-02T21:26:49.496Z"
   },
   {
    "duration": 1536,
    "start_time": "2023-05-02T21:26:55.841Z"
   },
   {
    "duration": 105,
    "start_time": "2023-05-02T21:26:57.379Z"
   },
   {
    "duration": 22106,
    "start_time": "2023-05-02T21:26:57.485Z"
   },
   {
    "duration": 124,
    "start_time": "2023-05-02T21:27:19.593Z"
   },
   {
    "duration": 238,
    "start_time": "2023-05-02T21:27:19.718Z"
   },
   {
    "duration": 1326,
    "start_time": "2023-05-02T21:31:51.160Z"
   },
   {
    "duration": 751,
    "start_time": "2023-05-02T21:31:52.488Z"
   },
   {
    "duration": 104,
    "start_time": "2023-05-02T21:31:53.241Z"
   },
   {
    "duration": 6,
    "start_time": "2023-05-02T21:31:53.347Z"
   },
   {
    "duration": 916,
    "start_time": "2023-05-02T21:31:53.354Z"
   },
   {
    "duration": 679,
    "start_time": "2023-05-02T21:31:54.272Z"
   },
   {
    "duration": 28,
    "start_time": "2023-05-02T21:31:54.952Z"
   },
   {
    "duration": 132,
    "start_time": "2023-05-02T21:31:54.982Z"
   },
   {
    "duration": 98,
    "start_time": "2023-05-02T21:31:55.115Z"
   },
   {
    "duration": 242,
    "start_time": "2023-05-02T21:31:55.216Z"
   },
   {
    "duration": 238,
    "start_time": "2023-05-02T21:31:55.460Z"
   },
   {
    "duration": 3,
    "start_time": "2023-05-02T21:31:55.707Z"
   },
   {
    "duration": 1701,
    "start_time": "2023-05-02T21:31:55.712Z"
   },
   {
    "duration": 233,
    "start_time": "2023-05-02T21:31:57.416Z"
   },
   {
    "duration": 389,
    "start_time": "2023-05-02T21:31:57.650Z"
   },
   {
    "duration": 92,
    "start_time": "2023-05-02T21:31:58.041Z"
   },
   {
    "duration": 72,
    "start_time": "2023-05-02T21:31:58.135Z"
   },
   {
    "duration": 21,
    "start_time": "2023-05-02T21:31:58.209Z"
   },
   {
    "duration": 21,
    "start_time": "2023-05-02T21:31:58.231Z"
   },
   {
    "duration": 6,
    "start_time": "2023-05-02T21:31:58.253Z"
   },
   {
    "duration": 37,
    "start_time": "2023-05-02T21:31:58.261Z"
   },
   {
    "duration": 25,
    "start_time": "2023-05-02T21:31:58.299Z"
   },
   {
    "duration": 27,
    "start_time": "2023-05-02T21:31:58.325Z"
   },
   {
    "duration": 10,
    "start_time": "2023-05-02T21:31:58.354Z"
   },
   {
    "duration": 71,
    "start_time": "2023-05-02T21:31:58.365Z"
   },
   {
    "duration": 1228,
    "start_time": "2023-05-02T21:31:58.437Z"
   },
   {
    "duration": 243,
    "start_time": "2023-05-02T21:31:59.667Z"
   },
   {
    "duration": 16,
    "start_time": "2023-05-02T21:31:59.912Z"
   },
   {
    "duration": 123,
    "start_time": "2023-05-02T21:31:59.929Z"
   },
   {
    "duration": 12,
    "start_time": "2023-05-02T21:32:00.054Z"
   },
   {
    "duration": 286,
    "start_time": "2023-05-02T21:32:00.067Z"
   },
   {
    "duration": 13,
    "start_time": "2023-05-02T21:32:00.355Z"
   },
   {
    "duration": 52,
    "start_time": "2023-05-02T21:32:00.369Z"
   },
   {
    "duration": 62,
    "start_time": "2023-05-02T21:32:00.422Z"
   },
   {
    "duration": 442,
    "start_time": "2023-05-02T21:32:00.486Z"
   },
   {
    "duration": 37,
    "start_time": "2023-05-02T21:32:00.929Z"
   },
   {
    "duration": 278,
    "start_time": "2023-05-02T21:32:00.968Z"
   },
   {
    "duration": 4,
    "start_time": "2023-05-02T21:32:01.247Z"
   },
   {
    "duration": 19859,
    "start_time": "2023-05-02T21:32:01.252Z"
   },
   {
    "duration": 305,
    "start_time": "2023-05-02T21:32:21.112Z"
   },
   {
    "duration": 6328,
    "start_time": "2023-05-02T21:32:21.499Z"
   },
   {
    "duration": 1518,
    "start_time": "2023-05-02T21:32:27.829Z"
   },
   {
    "duration": 102,
    "start_time": "2023-05-02T21:32:29.349Z"
   },
   {
    "duration": 22036,
    "start_time": "2023-05-02T21:32:29.452Z"
   },
   {
    "duration": 119,
    "start_time": "2023-05-02T21:32:51.490Z"
   },
   {
    "duration": 256,
    "start_time": "2023-05-02T21:32:51.610Z"
   },
   {
    "duration": 1688,
    "start_time": "2023-05-03T03:25:37.748Z"
   },
   {
    "duration": 1154,
    "start_time": "2023-05-03T03:25:39.438Z"
   },
   {
    "duration": 144,
    "start_time": "2023-05-03T03:25:40.593Z"
   },
   {
    "duration": 7,
    "start_time": "2023-05-03T03:25:40.738Z"
   },
   {
    "duration": 1000,
    "start_time": "2023-05-03T03:25:40.747Z"
   },
   {
    "duration": 704,
    "start_time": "2023-05-03T03:25:41.749Z"
   },
   {
    "duration": 38,
    "start_time": "2023-05-03T03:25:42.454Z"
   },
   {
    "duration": 117,
    "start_time": "2023-05-03T03:25:42.493Z"
   },
   {
    "duration": 125,
    "start_time": "2023-05-03T03:25:42.612Z"
   },
   {
    "duration": 302,
    "start_time": "2023-05-03T03:25:42.739Z"
   },
   {
    "duration": 276,
    "start_time": "2023-05-03T03:25:43.042Z"
   },
   {
    "duration": 3,
    "start_time": "2023-05-03T03:25:43.320Z"
   },
   {
    "duration": 1912,
    "start_time": "2023-05-03T03:25:43.325Z"
   },
   {
    "duration": 226,
    "start_time": "2023-05-03T03:25:45.240Z"
   },
   {
    "duration": 419,
    "start_time": "2023-05-03T03:25:45.468Z"
   },
   {
    "duration": 125,
    "start_time": "2023-05-03T03:25:45.889Z"
   },
   {
    "duration": 78,
    "start_time": "2023-05-03T03:25:46.016Z"
   },
   {
    "duration": 27,
    "start_time": "2023-05-03T03:25:46.096Z"
   },
   {
    "duration": 28,
    "start_time": "2023-05-03T03:25:46.124Z"
   },
   {
    "duration": 7,
    "start_time": "2023-05-03T03:25:46.153Z"
   },
   {
    "duration": 43,
    "start_time": "2023-05-03T03:25:46.161Z"
   },
   {
    "duration": 24,
    "start_time": "2023-05-03T03:25:46.206Z"
   },
   {
    "duration": 32,
    "start_time": "2023-05-03T03:25:46.232Z"
   },
   {
    "duration": 30,
    "start_time": "2023-05-03T03:25:46.265Z"
   },
   {
    "duration": 59,
    "start_time": "2023-05-03T03:25:46.297Z"
   },
   {
    "duration": 1447,
    "start_time": "2023-05-03T03:25:46.357Z"
   },
   {
    "duration": 259,
    "start_time": "2023-05-03T03:25:47.806Z"
   },
   {
    "duration": 24,
    "start_time": "2023-05-03T03:25:48.067Z"
   },
   {
    "duration": 155,
    "start_time": "2023-05-03T03:25:48.093Z"
   },
   {
    "duration": 16,
    "start_time": "2023-05-03T03:25:48.251Z"
   },
   {
    "duration": 332,
    "start_time": "2023-05-03T03:25:48.269Z"
   },
   {
    "duration": 13,
    "start_time": "2023-05-03T03:25:48.603Z"
   },
   {
    "duration": 20,
    "start_time": "2023-05-03T03:25:48.618Z"
   },
   {
    "duration": 9,
    "start_time": "2023-05-03T03:25:48.640Z"
   },
   {
    "duration": 408,
    "start_time": "2023-05-03T03:25:48.650Z"
   },
   {
    "duration": 40,
    "start_time": "2023-05-03T03:25:49.060Z"
   },
   {
    "duration": 263,
    "start_time": "2023-05-03T03:25:49.102Z"
   },
   {
    "duration": 4,
    "start_time": "2023-05-03T03:25:49.367Z"
   },
   {
    "duration": 12412,
    "start_time": "2023-05-03T03:25:49.384Z"
   },
   {
    "duration": 209,
    "start_time": "2023-05-03T03:26:01.886Z"
   },
   {
    "duration": 6519,
    "start_time": "2023-05-03T03:26:02.101Z"
   },
   {
    "duration": 1533,
    "start_time": "2023-05-03T03:26:08.622Z"
   },
   {
    "duration": 102,
    "start_time": "2023-05-03T03:26:10.157Z"
   },
   {
    "duration": 23061,
    "start_time": "2023-05-03T03:26:10.260Z"
   },
   {
    "duration": 121,
    "start_time": "2023-05-03T03:26:33.323Z"
   },
   {
    "duration": 279,
    "start_time": "2023-05-03T03:26:33.445Z"
   },
   {
    "duration": 1592,
    "start_time": "2023-05-03T04:02:11.447Z"
   },
   {
    "duration": 991,
    "start_time": "2023-05-03T04:02:13.041Z"
   },
   {
    "duration": 231,
    "start_time": "2023-05-03T04:02:14.034Z"
   },
   {
    "duration": 6,
    "start_time": "2023-05-03T04:02:14.268Z"
   },
   {
    "duration": 1171,
    "start_time": "2023-05-03T04:02:14.288Z"
   },
   {
    "duration": 778,
    "start_time": "2023-05-03T04:02:15.461Z"
   },
   {
    "duration": 30,
    "start_time": "2023-05-03T04:02:16.240Z"
   },
   {
    "duration": 137,
    "start_time": "2023-05-03T04:02:16.272Z"
   },
   {
    "duration": 141,
    "start_time": "2023-05-03T04:02:16.410Z"
   },
   {
    "duration": 373,
    "start_time": "2023-05-03T04:02:16.552Z"
   },
   {
    "duration": 345,
    "start_time": "2023-05-03T04:02:16.927Z"
   },
   {
    "duration": 3,
    "start_time": "2023-05-03T04:02:17.274Z"
   },
   {
    "duration": 2144,
    "start_time": "2023-05-03T04:02:17.286Z"
   },
   {
    "duration": 248,
    "start_time": "2023-05-03T04:02:19.435Z"
   },
   {
    "duration": 485,
    "start_time": "2023-05-03T04:02:19.685Z"
   },
   {
    "duration": 160,
    "start_time": "2023-05-03T04:02:20.171Z"
   },
   {
    "duration": 82,
    "start_time": "2023-05-03T04:02:20.333Z"
   },
   {
    "duration": 35,
    "start_time": "2023-05-03T04:02:20.417Z"
   },
   {
    "duration": 53,
    "start_time": "2023-05-03T04:02:20.454Z"
   },
   {
    "duration": 9,
    "start_time": "2023-05-03T04:02:20.511Z"
   },
   {
    "duration": 30,
    "start_time": "2023-05-03T04:02:20.521Z"
   },
   {
    "duration": 38,
    "start_time": "2023-05-03T04:02:20.553Z"
   },
   {
    "duration": 31,
    "start_time": "2023-05-03T04:02:20.596Z"
   },
   {
    "duration": 13,
    "start_time": "2023-05-03T04:02:20.629Z"
   },
   {
    "duration": 86,
    "start_time": "2023-05-03T04:02:20.644Z"
   },
   {
    "duration": 1818,
    "start_time": "2023-05-03T04:02:20.731Z"
   },
   {
    "duration": 320,
    "start_time": "2023-05-03T04:02:22.551Z"
   },
   {
    "duration": 32,
    "start_time": "2023-05-03T04:02:22.874Z"
   },
   {
    "duration": 193,
    "start_time": "2023-05-03T04:02:22.908Z"
   },
   {
    "duration": 16,
    "start_time": "2023-05-03T04:02:23.109Z"
   },
   {
    "duration": 374,
    "start_time": "2023-05-03T04:02:23.127Z"
   },
   {
    "duration": 15,
    "start_time": "2023-05-03T04:02:23.503Z"
   },
   {
    "duration": 21,
    "start_time": "2023-05-03T04:02:23.520Z"
   },
   {
    "duration": 12,
    "start_time": "2023-05-03T04:02:23.543Z"
   },
   {
    "duration": 477,
    "start_time": "2023-05-03T04:02:23.557Z"
   },
   {
    "duration": 45,
    "start_time": "2023-05-03T04:02:24.036Z"
   },
   {
    "duration": 336,
    "start_time": "2023-05-03T04:02:24.085Z"
   },
   {
    "duration": 7,
    "start_time": "2023-05-03T04:02:24.423Z"
   },
   {
    "duration": 59653,
    "start_time": "2023-05-03T04:02:24.432Z"
   },
   {
    "duration": 240,
    "start_time": "2023-05-03T04:03:24.088Z"
   },
   {
    "duration": 6904,
    "start_time": "2023-05-03T04:03:24.397Z"
   },
   {
    "duration": 1843,
    "start_time": "2023-05-03T04:03:31.311Z"
   },
   {
    "duration": 100,
    "start_time": "2023-05-03T04:03:33.156Z"
   },
   {
    "duration": 25761,
    "start_time": "2023-05-03T04:03:33.258Z"
   },
   {
    "duration": 127,
    "start_time": "2023-05-03T04:03:59.021Z"
   },
   {
    "duration": 313,
    "start_time": "2023-05-03T04:03:59.150Z"
   },
   {
    "duration": 637448,
    "start_time": "2023-05-03T04:03:59.465Z"
   },
   {
    "duration": 65,
    "start_time": "2023-05-03T04:14:36.914Z"
   },
   {
    "duration": 35,
    "start_time": "2023-05-03T04:14:36.982Z"
   },
   {
    "duration": 60,
    "start_time": "2023-05-03T04:14:37.023Z"
   },
   {
    "duration": 0,
    "start_time": "2023-05-03T04:14:37.087Z"
   },
   {
    "duration": 9,
    "start_time": "2023-05-03T04:14:47.140Z"
   },
   {
    "duration": 316,
    "start_time": "2023-05-03T04:14:58.510Z"
   },
   {
    "duration": 165,
    "start_time": "2023-05-03T04:15:08.515Z"
   },
   {
    "duration": 332,
    "start_time": "2023-05-03T04:15:12.484Z"
   },
   {
    "duration": 13,
    "start_time": "2023-05-03T04:15:18.280Z"
   },
   {
    "duration": 4,
    "start_time": "2023-05-03T04:15:32.074Z"
   },
   {
    "duration": 4,
    "start_time": "2023-05-03T04:15:44.769Z"
   },
   {
    "duration": 1442,
    "start_time": "2023-05-03T04:22:16.674Z"
   },
   {
    "duration": 913,
    "start_time": "2023-05-03T04:22:18.118Z"
   },
   {
    "duration": 146,
    "start_time": "2023-05-03T04:22:19.032Z"
   },
   {
    "duration": 16,
    "start_time": "2023-05-03T04:22:19.191Z"
   },
   {
    "duration": 1035,
    "start_time": "2023-05-03T04:22:19.209Z"
   },
   {
    "duration": 776,
    "start_time": "2023-05-03T04:22:20.246Z"
   },
   {
    "duration": 34,
    "start_time": "2023-05-03T04:22:21.024Z"
   },
   {
    "duration": 140,
    "start_time": "2023-05-03T04:22:21.059Z"
   },
   {
    "duration": 132,
    "start_time": "2023-05-03T04:22:21.205Z"
   },
   {
    "duration": 324,
    "start_time": "2023-05-03T04:22:21.339Z"
   },
   {
    "duration": 338,
    "start_time": "2023-05-03T04:22:21.665Z"
   },
   {
    "duration": 5,
    "start_time": "2023-05-03T04:22:22.005Z"
   },
   {
    "duration": 2136,
    "start_time": "2023-05-03T04:22:22.014Z"
   },
   {
    "duration": 266,
    "start_time": "2023-05-03T04:22:24.156Z"
   },
   {
    "duration": 479,
    "start_time": "2023-05-03T04:22:24.423Z"
   },
   {
    "duration": 142,
    "start_time": "2023-05-03T04:22:24.904Z"
   },
   {
    "duration": 81,
    "start_time": "2023-05-03T04:22:25.048Z"
   },
   {
    "duration": 28,
    "start_time": "2023-05-03T04:22:25.131Z"
   },
   {
    "duration": 53,
    "start_time": "2023-05-03T04:22:25.161Z"
   },
   {
    "duration": 7,
    "start_time": "2023-05-03T04:22:25.216Z"
   },
   {
    "duration": 29,
    "start_time": "2023-05-03T04:22:25.224Z"
   },
   {
    "duration": 38,
    "start_time": "2023-05-03T04:22:25.254Z"
   },
   {
    "duration": 28,
    "start_time": "2023-05-03T04:22:25.300Z"
   },
   {
    "duration": 13,
    "start_time": "2023-05-03T04:22:25.330Z"
   },
   {
    "duration": 76,
    "start_time": "2023-05-03T04:22:25.344Z"
   },
   {
    "duration": 1691,
    "start_time": "2023-05-03T04:22:25.422Z"
   },
   {
    "duration": 300,
    "start_time": "2023-05-03T04:22:27.114Z"
   },
   {
    "duration": 18,
    "start_time": "2023-05-03T04:22:27.415Z"
   },
   {
    "duration": 166,
    "start_time": "2023-05-03T04:22:27.435Z"
   },
   {
    "duration": 23,
    "start_time": "2023-05-03T04:22:27.603Z"
   },
   {
    "duration": 335,
    "start_time": "2023-05-03T04:22:27.628Z"
   },
   {
    "duration": 14,
    "start_time": "2023-05-03T04:22:27.964Z"
   },
   {
    "duration": 42,
    "start_time": "2023-05-03T04:22:27.979Z"
   },
   {
    "duration": 135,
    "start_time": "2023-05-03T04:22:28.023Z"
   },
   {
    "duration": 0,
    "start_time": "2023-05-03T04:22:28.160Z"
   },
   {
    "duration": 0,
    "start_time": "2023-05-03T04:22:28.161Z"
   },
   {
    "duration": 0,
    "start_time": "2023-05-03T04:22:28.162Z"
   },
   {
    "duration": 0,
    "start_time": "2023-05-03T04:22:28.163Z"
   },
   {
    "duration": 0,
    "start_time": "2023-05-03T04:22:28.164Z"
   },
   {
    "duration": 0,
    "start_time": "2023-05-03T04:22:28.165Z"
   },
   {
    "duration": 0,
    "start_time": "2023-05-03T04:22:28.166Z"
   },
   {
    "duration": 0,
    "start_time": "2023-05-03T04:22:28.167Z"
   },
   {
    "duration": 0,
    "start_time": "2023-05-03T04:22:28.168Z"
   },
   {
    "duration": 0,
    "start_time": "2023-05-03T04:22:28.169Z"
   },
   {
    "duration": 49,
    "start_time": "2023-05-03T04:23:16.594Z"
   },
   {
    "duration": 20,
    "start_time": "2023-05-03T04:24:02.855Z"
   },
   {
    "duration": 36,
    "start_time": "2023-05-03T04:24:59.691Z"
   },
   {
    "duration": 46,
    "start_time": "2023-05-03T04:25:07.509Z"
   },
   {
    "duration": 1647,
    "start_time": "2023-05-03T04:25:51.703Z"
   },
   {
    "duration": 1210,
    "start_time": "2023-05-03T04:25:53.352Z"
   },
   {
    "duration": 179,
    "start_time": "2023-05-03T04:25:54.564Z"
   },
   {
    "duration": 7,
    "start_time": "2023-05-03T04:25:54.744Z"
   },
   {
    "duration": 1188,
    "start_time": "2023-05-03T04:25:54.753Z"
   },
   {
    "duration": 884,
    "start_time": "2023-05-03T04:25:55.944Z"
   },
   {
    "duration": 32,
    "start_time": "2023-05-03T04:25:56.830Z"
   },
   {
    "duration": 161,
    "start_time": "2023-05-03T04:25:56.864Z"
   },
   {
    "duration": 169,
    "start_time": "2023-05-03T04:25:57.028Z"
   },
   {
    "duration": 373,
    "start_time": "2023-05-03T04:25:57.199Z"
   },
   {
    "duration": 382,
    "start_time": "2023-05-03T04:25:57.574Z"
   },
   {
    "duration": 3,
    "start_time": "2023-05-03T04:25:57.958Z"
   },
   {
    "duration": 2333,
    "start_time": "2023-05-03T04:25:57.963Z"
   },
   {
    "duration": 291,
    "start_time": "2023-05-03T04:26:00.305Z"
   },
   {
    "duration": 557,
    "start_time": "2023-05-03T04:26:00.605Z"
   },
   {
    "duration": 158,
    "start_time": "2023-05-03T04:26:01.163Z"
   },
   {
    "duration": 87,
    "start_time": "2023-05-03T04:26:01.323Z"
   },
   {
    "duration": 32,
    "start_time": "2023-05-03T04:26:01.412Z"
   },
   {
    "duration": 93,
    "start_time": "2023-05-03T04:26:01.445Z"
   },
   {
    "duration": 27,
    "start_time": "2023-05-03T04:26:01.540Z"
   },
   {
    "duration": 62,
    "start_time": "2023-05-03T04:26:01.568Z"
   },
   {
    "duration": 30,
    "start_time": "2023-05-03T04:26:01.632Z"
   },
   {
    "duration": 56,
    "start_time": "2023-05-03T04:26:01.664Z"
   },
   {
    "duration": 84,
    "start_time": "2023-05-03T04:26:01.722Z"
   },
   {
    "duration": 1830,
    "start_time": "2023-05-03T04:26:01.808Z"
   },
   {
    "duration": 300,
    "start_time": "2023-05-03T04:26:03.640Z"
   },
   {
    "duration": 24,
    "start_time": "2023-05-03T04:26:03.943Z"
   },
   {
    "duration": 196,
    "start_time": "2023-05-03T04:26:03.969Z"
   },
   {
    "duration": 37,
    "start_time": "2023-05-03T04:26:04.167Z"
   },
   {
    "duration": 437,
    "start_time": "2023-05-03T04:26:04.210Z"
   },
   {
    "duration": 17,
    "start_time": "2023-05-03T04:26:04.649Z"
   },
   {
    "duration": 27,
    "start_time": "2023-05-03T04:26:04.668Z"
   },
   {
    "duration": 16,
    "start_time": "2023-05-03T04:26:04.700Z"
   },
   {
    "duration": 461,
    "start_time": "2023-05-03T04:26:04.720Z"
   },
   {
    "duration": 57,
    "start_time": "2023-05-03T04:26:05.183Z"
   },
   {
    "duration": 317,
    "start_time": "2023-05-03T04:26:05.242Z"
   },
   {
    "duration": 4,
    "start_time": "2023-05-03T04:26:05.561Z"
   },
   {
    "duration": 28831,
    "start_time": "2023-05-03T04:26:05.566Z"
   },
   {
    "duration": 301,
    "start_time": "2023-05-03T04:26:34.399Z"
   },
   {
    "duration": 7334,
    "start_time": "2023-05-03T04:26:34.702Z"
   },
   {
    "duration": 1811,
    "start_time": "2023-05-03T04:26:42.042Z"
   },
   {
    "duration": 119,
    "start_time": "2023-05-03T04:26:43.855Z"
   },
   {
    "duration": 32075,
    "start_time": "2023-05-03T04:26:43.976Z"
   },
   {
    "duration": 159,
    "start_time": "2023-05-03T04:27:16.053Z"
   },
   {
    "duration": 146,
    "start_time": "2023-05-03T04:27:16.214Z"
   },
   {
    "duration": 0,
    "start_time": "2023-05-03T04:27:16.362Z"
   },
   {
    "duration": 0,
    "start_time": "2023-05-03T04:27:16.363Z"
   },
   {
    "duration": 0,
    "start_time": "2023-05-03T04:27:16.364Z"
   },
   {
    "duration": 0,
    "start_time": "2023-05-03T04:27:16.365Z"
   },
   {
    "duration": 22,
    "start_time": "2023-05-03T04:27:28.105Z"
   },
   {
    "duration": 66,
    "start_time": "2023-05-03T04:28:06.326Z"
   },
   {
    "duration": 14,
    "start_time": "2023-05-03T04:29:28.524Z"
   },
   {
    "duration": 1573,
    "start_time": "2023-05-03T04:31:27.980Z"
   },
   {
    "duration": 983,
    "start_time": "2023-05-03T04:31:29.554Z"
   },
   {
    "duration": 182,
    "start_time": "2023-05-03T04:31:30.539Z"
   },
   {
    "duration": 7,
    "start_time": "2023-05-03T04:31:30.732Z"
   },
   {
    "duration": 1249,
    "start_time": "2023-05-03T04:31:30.741Z"
   },
   {
    "duration": 1003,
    "start_time": "2023-05-03T04:31:31.992Z"
   },
   {
    "duration": 39,
    "start_time": "2023-05-03T04:31:32.996Z"
   },
   {
    "duration": 133,
    "start_time": "2023-05-03T04:31:33.037Z"
   },
   {
    "duration": 157,
    "start_time": "2023-05-03T04:31:33.172Z"
   },
   {
    "duration": 333,
    "start_time": "2023-05-03T04:31:33.332Z"
   },
   {
    "duration": 381,
    "start_time": "2023-05-03T04:31:33.666Z"
   },
   {
    "duration": 4,
    "start_time": "2023-05-03T04:31:34.049Z"
   },
   {
    "duration": 2173,
    "start_time": "2023-05-03T04:31:34.055Z"
   },
   {
    "duration": 271,
    "start_time": "2023-05-03T04:31:36.230Z"
   },
   {
    "duration": 514,
    "start_time": "2023-05-03T04:31:36.511Z"
   },
   {
    "duration": 200,
    "start_time": "2023-05-03T04:31:37.028Z"
   },
   {
    "duration": 95,
    "start_time": "2023-05-03T04:31:37.232Z"
   },
   {
    "duration": 29,
    "start_time": "2023-05-03T04:31:37.329Z"
   },
   {
    "duration": 45,
    "start_time": "2023-05-03T04:31:37.360Z"
   },
   {
    "duration": 16,
    "start_time": "2023-05-03T04:31:37.414Z"
   },
   {
    "duration": 30,
    "start_time": "2023-05-03T04:31:37.432Z"
   },
   {
    "duration": 65,
    "start_time": "2023-05-03T04:31:37.464Z"
   },
   {
    "duration": 31,
    "start_time": "2023-05-03T04:31:37.533Z"
   },
   {
    "duration": 70,
    "start_time": "2023-05-03T04:31:37.565Z"
   },
   {
    "duration": 1864,
    "start_time": "2023-05-03T04:31:37.637Z"
   },
   {
    "duration": 297,
    "start_time": "2023-05-03T04:31:39.510Z"
   },
   {
    "duration": 28,
    "start_time": "2023-05-03T04:31:39.810Z"
   },
   {
    "duration": 181,
    "start_time": "2023-05-03T04:31:39.842Z"
   },
   {
    "duration": 17,
    "start_time": "2023-05-03T04:31:40.025Z"
   },
   {
    "duration": 384,
    "start_time": "2023-05-03T04:31:40.044Z"
   },
   {
    "duration": 20,
    "start_time": "2023-05-03T04:31:40.430Z"
   },
   {
    "duration": 45,
    "start_time": "2023-05-03T04:31:40.451Z"
   },
   {
    "duration": 17,
    "start_time": "2023-05-03T04:31:40.497Z"
   },
   {
    "duration": 409,
    "start_time": "2023-05-03T04:31:40.516Z"
   },
   {
    "duration": 38,
    "start_time": "2023-05-03T04:31:40.928Z"
   },
   {
    "duration": 289,
    "start_time": "2023-05-03T04:31:40.968Z"
   },
   {
    "duration": 4,
    "start_time": "2023-05-03T04:31:41.258Z"
   },
   {
    "duration": 67727,
    "start_time": "2023-05-03T04:31:41.263Z"
   },
   {
    "duration": 402,
    "start_time": "2023-05-03T04:32:48.993Z"
   },
   {
    "duration": 6968,
    "start_time": "2023-05-03T04:32:49.397Z"
   },
   {
    "duration": 1782,
    "start_time": "2023-05-03T04:32:56.366Z"
   },
   {
    "duration": 106,
    "start_time": "2023-05-03T04:32:58.149Z"
   },
   {
    "duration": 27505,
    "start_time": "2023-05-03T04:32:58.257Z"
   },
   {
    "duration": 149,
    "start_time": "2023-05-03T04:33:25.763Z"
   },
   {
    "duration": 58,
    "start_time": "2023-05-03T04:33:25.917Z"
   },
   {
    "duration": 155,
    "start_time": "2023-05-03T04:33:25.977Z"
   },
   {
    "duration": 0,
    "start_time": "2023-05-03T04:33:26.134Z"
   },
   {
    "duration": 0,
    "start_time": "2023-05-03T04:33:26.135Z"
   },
   {
    "duration": 0,
    "start_time": "2023-05-03T04:33:26.136Z"
   },
   {
    "duration": 0,
    "start_time": "2023-05-03T04:33:26.137Z"
   },
   {
    "duration": 1639,
    "start_time": "2023-05-03T18:04:48.085Z"
   },
   {
    "duration": 1267,
    "start_time": "2023-05-03T18:04:59.407Z"
   },
   {
    "duration": 137,
    "start_time": "2023-05-03T18:05:00.677Z"
   },
   {
    "duration": 6,
    "start_time": "2023-05-03T18:05:01.085Z"
   },
   {
    "duration": 979,
    "start_time": "2023-05-03T18:05:01.757Z"
   },
   {
    "duration": 732,
    "start_time": "2023-05-03T18:05:02.738Z"
   },
   {
    "duration": 41,
    "start_time": "2023-05-03T18:05:03.472Z"
   },
   {
    "duration": 122,
    "start_time": "2023-05-03T18:05:03.515Z"
   },
   {
    "duration": 124,
    "start_time": "2023-05-03T18:05:03.639Z"
   },
   {
    "duration": 316,
    "start_time": "2023-05-03T18:05:03.765Z"
   },
   {
    "duration": 296,
    "start_time": "2023-05-03T18:05:04.084Z"
   },
   {
    "duration": 4,
    "start_time": "2023-05-03T18:05:04.382Z"
   },
   {
    "duration": 1862,
    "start_time": "2023-05-03T18:05:04.515Z"
   },
   {
    "duration": 232,
    "start_time": "2023-05-03T18:05:06.379Z"
   },
   {
    "duration": 417,
    "start_time": "2023-05-03T18:05:06.613Z"
   },
   {
    "duration": 129,
    "start_time": "2023-05-03T18:05:07.032Z"
   },
   {
    "duration": 64,
    "start_time": "2023-05-03T18:05:07.583Z"
   },
   {
    "duration": 26,
    "start_time": "2023-05-03T18:05:07.887Z"
   },
   {
    "duration": 27,
    "start_time": "2023-05-03T18:05:07.915Z"
   },
   {
    "duration": 11,
    "start_time": "2023-05-03T18:05:08.209Z"
   },
   {
    "duration": 31,
    "start_time": "2023-05-03T18:05:08.678Z"
   },
   {
    "duration": 28,
    "start_time": "2023-05-03T18:05:09.115Z"
   },
   {
    "duration": 29,
    "start_time": "2023-05-03T18:05:09.712Z"
   },
   {
    "duration": 61,
    "start_time": "2023-05-03T18:05:10.745Z"
   },
   {
    "duration": 1475,
    "start_time": "2023-05-03T18:05:11.258Z"
   },
   {
    "duration": 278,
    "start_time": "2023-05-03T18:05:12.736Z"
   },
   {
    "duration": 21,
    "start_time": "2023-05-03T18:05:13.016Z"
   },
   {
    "duration": 155,
    "start_time": "2023-05-03T18:05:13.039Z"
   },
   {
    "duration": 18,
    "start_time": "2023-05-03T18:05:13.640Z"
   },
   {
    "duration": 327,
    "start_time": "2023-05-03T18:05:14.213Z"
   },
   {
    "duration": 17,
    "start_time": "2023-05-03T18:05:14.745Z"
   },
   {
    "duration": 20,
    "start_time": "2023-05-03T18:05:15.289Z"
   },
   {
    "duration": 19,
    "start_time": "2023-05-03T18:06:45.143Z"
   },
   {
    "duration": 17,
    "start_time": "2023-05-03T18:09:40.274Z"
   },
   {
    "duration": 10,
    "start_time": "2023-05-03T18:10:39.007Z"
   },
   {
    "duration": 427,
    "start_time": "2023-05-03T18:10:40.612Z"
   },
   {
    "duration": 41,
    "start_time": "2023-05-03T18:10:41.647Z"
   },
   {
    "duration": 282,
    "start_time": "2023-05-03T18:10:42.652Z"
   },
   {
    "duration": 4,
    "start_time": "2023-05-03T18:10:43.409Z"
   },
   {
    "duration": 12641,
    "start_time": "2023-05-03T18:10:47.872Z"
   },
   {
    "duration": 245,
    "start_time": "2023-05-03T18:11:24.467Z"
   },
   {
    "duration": 6433,
    "start_time": "2023-05-03T18:11:29.023Z"
   },
   {
    "duration": 1625,
    "start_time": "2023-05-03T18:11:38.635Z"
   },
   {
    "duration": 100,
    "start_time": "2023-05-03T18:11:41.424Z"
   },
   {
    "duration": 24372,
    "start_time": "2023-05-03T18:11:43.015Z"
   },
   {
    "duration": 134,
    "start_time": "2023-05-03T18:12:11.738Z"
   },
   {
    "duration": 12,
    "start_time": "2023-05-03T18:12:26.002Z"
   },
   {
    "duration": 13,
    "start_time": "2023-05-03T18:13:55.556Z"
   },
   {
    "duration": 46,
    "start_time": "2023-05-03T18:14:00.013Z"
   },
   {
    "duration": 392,
    "start_time": "2023-05-03T18:15:44.409Z"
   },
   {
    "duration": 393344,
    "start_time": "2023-05-03T18:16:21.868Z"
   },
   {
    "duration": 191,
    "start_time": "2023-05-03T18:24:00.439Z"
   },
   {
    "duration": 61,
    "start_time": "2023-05-03T18:28:07.913Z"
   },
   {
    "duration": 28,
    "start_time": "2023-05-03T18:29:14.781Z"
   },
   {
    "duration": 472660,
    "start_time": "2023-05-03T18:29:50.566Z"
   },
   {
    "duration": 4,
    "start_time": "2023-05-03T18:43:14.342Z"
   },
   {
    "duration": 63,
    "start_time": "2023-05-03T18:43:35.817Z"
   },
   {
    "duration": 58,
    "start_time": "2023-05-03T18:43:46.682Z"
   },
   {
    "duration": 61,
    "start_time": "2023-05-03T18:48:22.023Z"
   },
   {
    "duration": 8840,
    "start_time": "2023-05-03T18:49:40.386Z"
   },
   {
    "duration": 589,
    "start_time": "2023-05-03T18:51:19.229Z"
   },
   {
    "duration": 4,
    "start_time": "2023-05-03T18:51:56.876Z"
   },
   {
    "duration": 16,
    "start_time": "2023-05-03T18:56:17.511Z"
   },
   {
    "duration": 332,
    "start_time": "2023-05-03T18:56:20.972Z"
   },
   {
    "duration": 17,
    "start_time": "2023-05-03T18:56:22.094Z"
   },
   {
    "duration": 22,
    "start_time": "2023-05-03T18:56:22.434Z"
   },
   {
    "duration": 19,
    "start_time": "2023-05-03T18:56:23.390Z"
   },
   {
    "duration": 12,
    "start_time": "2023-05-03T18:56:23.669Z"
   },
   {
    "duration": 420,
    "start_time": "2023-05-03T18:56:23.884Z"
   },
   {
    "duration": 43,
    "start_time": "2023-05-03T18:56:24.307Z"
   },
   {
    "duration": 285,
    "start_time": "2023-05-03T18:56:24.352Z"
   },
   {
    "duration": 5,
    "start_time": "2023-05-03T18:56:24.639Z"
   },
   {
    "duration": 12666,
    "start_time": "2023-05-03T18:56:25.645Z"
   },
   {
    "duration": 299,
    "start_time": "2023-05-03T18:56:38.313Z"
   },
   {
    "duration": 6770,
    "start_time": "2023-05-03T18:56:38.614Z"
   },
   {
    "duration": 1647,
    "start_time": "2023-05-03T18:56:45.387Z"
   },
   {
    "duration": 115,
    "start_time": "2023-05-03T18:56:47.036Z"
   },
   {
    "duration": 25556,
    "start_time": "2023-05-03T18:56:51.109Z"
   },
   {
    "duration": 139,
    "start_time": "2023-05-03T18:57:18.377Z"
   },
   {
    "duration": 14,
    "start_time": "2023-05-03T18:57:27.229Z"
   },
   {
    "duration": 46,
    "start_time": "2023-05-03T18:57:28.498Z"
   },
   {
    "duration": 409,
    "start_time": "2023-05-03T18:57:31.646Z"
   },
   {
    "duration": 479983,
    "start_time": "2023-05-03T18:58:10.833Z"
   },
   {
    "duration": 5,
    "start_time": "2023-05-03T19:06:48.865Z"
   },
   {
    "duration": 9228,
    "start_time": "2023-05-03T19:06:58.490Z"
   },
   {
    "duration": 496,
    "start_time": "2023-05-03T19:07:11.432Z"
   },
   {
    "duration": 14,
    "start_time": "2023-05-03T19:12:38.804Z"
   },
   {
    "duration": 1564,
    "start_time": "2023-05-03T19:14:41.340Z"
   },
   {
    "duration": 932,
    "start_time": "2023-05-03T19:14:42.906Z"
   },
   {
    "duration": 163,
    "start_time": "2023-05-03T19:14:43.840Z"
   },
   {
    "duration": 7,
    "start_time": "2023-05-03T19:14:44.013Z"
   },
   {
    "duration": 1054,
    "start_time": "2023-05-03T19:14:44.023Z"
   },
   {
    "duration": 835,
    "start_time": "2023-05-03T19:14:45.078Z"
   },
   {
    "duration": 38,
    "start_time": "2023-05-03T19:14:45.915Z"
   },
   {
    "duration": 132,
    "start_time": "2023-05-03T19:14:45.955Z"
   },
   {
    "duration": 145,
    "start_time": "2023-05-03T19:14:46.089Z"
   },
   {
    "duration": 336,
    "start_time": "2023-05-03T19:14:46.236Z"
   },
   {
    "duration": 332,
    "start_time": "2023-05-03T19:14:46.573Z"
   },
   {
    "duration": 5,
    "start_time": "2023-05-03T19:14:46.907Z"
   },
   {
    "duration": 1977,
    "start_time": "2023-05-03T19:14:46.914Z"
   },
   {
    "duration": 280,
    "start_time": "2023-05-03T19:14:48.896Z"
   },
   {
    "duration": 430,
    "start_time": "2023-05-03T19:14:49.178Z"
   },
   {
    "duration": 134,
    "start_time": "2023-05-03T19:14:49.612Z"
   },
   {
    "duration": 75,
    "start_time": "2023-05-03T19:14:49.748Z"
   },
   {
    "duration": 30,
    "start_time": "2023-05-03T19:14:49.824Z"
   },
   {
    "duration": 31,
    "start_time": "2023-05-03T19:14:49.856Z"
   },
   {
    "duration": 25,
    "start_time": "2023-05-03T19:14:49.889Z"
   },
   {
    "duration": 31,
    "start_time": "2023-05-03T19:14:49.917Z"
   },
   {
    "duration": 30,
    "start_time": "2023-05-03T19:14:49.950Z"
   },
   {
    "duration": 55,
    "start_time": "2023-05-03T19:14:49.982Z"
   },
   {
    "duration": 79,
    "start_time": "2023-05-03T19:14:50.039Z"
   },
   {
    "duration": 1517,
    "start_time": "2023-05-03T19:14:50.121Z"
   },
   {
    "duration": 282,
    "start_time": "2023-05-03T19:14:51.640Z"
   },
   {
    "duration": 22,
    "start_time": "2023-05-03T19:14:51.924Z"
   },
   {
    "duration": 157,
    "start_time": "2023-05-03T19:14:51.948Z"
   },
   {
    "duration": 20,
    "start_time": "2023-05-03T19:14:52.107Z"
   },
   {
    "duration": 340,
    "start_time": "2023-05-03T19:14:52.129Z"
   },
   {
    "duration": 17,
    "start_time": "2023-05-03T19:14:52.471Z"
   },
   {
    "duration": 39,
    "start_time": "2023-05-03T19:14:52.490Z"
   },
   {
    "duration": 18,
    "start_time": "2023-05-03T19:14:52.532Z"
   },
   {
    "duration": 29,
    "start_time": "2023-05-03T19:14:52.552Z"
   },
   {
    "duration": 423,
    "start_time": "2023-05-03T19:14:52.583Z"
   },
   {
    "duration": 40,
    "start_time": "2023-05-03T19:14:53.008Z"
   },
   {
    "duration": 283,
    "start_time": "2023-05-03T19:14:53.051Z"
   },
   {
    "duration": 4,
    "start_time": "2023-05-03T19:14:53.336Z"
   },
   {
    "duration": 14274,
    "start_time": "2023-05-03T19:14:53.342Z"
   },
   {
    "duration": 202,
    "start_time": "2023-05-03T19:15:07.617Z"
   },
   {
    "duration": 6744,
    "start_time": "2023-05-03T19:15:07.912Z"
   },
   {
    "duration": 1610,
    "start_time": "2023-05-03T19:15:14.658Z"
   },
   {
    "duration": 114,
    "start_time": "2023-05-03T19:15:16.270Z"
   },
   {
    "duration": 24917,
    "start_time": "2023-05-03T19:15:16.386Z"
   },
   {
    "duration": 133,
    "start_time": "2023-05-03T19:15:41.305Z"
   },
   {
    "duration": 12,
    "start_time": "2023-05-03T19:15:41.439Z"
   },
   {
    "duration": 65,
    "start_time": "2023-05-03T19:15:41.453Z"
   },
   {
    "duration": 412,
    "start_time": "2023-05-03T19:15:41.520Z"
   },
   {
    "duration": 5,
    "start_time": "2023-05-03T19:15:41.934Z"
   },
   {
    "duration": 9257,
    "start_time": "2023-05-03T19:15:41.941Z"
   },
   {
    "duration": 527,
    "start_time": "2023-05-03T19:15:51.200Z"
   },
   {
    "duration": 13,
    "start_time": "2023-05-03T19:15:51.728Z"
   },
   {
    "duration": 46,
    "start_time": "2023-05-03T19:15:51.742Z"
   },
   {
    "duration": 9662,
    "start_time": "2023-05-03T19:16:35.358Z"
   },
   {
    "duration": 571,
    "start_time": "2023-05-03T19:16:49.943Z"
   },
   {
    "duration": 14,
    "start_time": "2023-05-03T19:17:21.238Z"
   },
   {
    "duration": 1409,
    "start_time": "2023-05-03T19:51:16.654Z"
   },
   {
    "duration": 887,
    "start_time": "2023-05-03T19:51:18.065Z"
   },
   {
    "duration": 191,
    "start_time": "2023-05-03T19:51:18.954Z"
   },
   {
    "duration": 19,
    "start_time": "2023-05-03T19:51:19.148Z"
   },
   {
    "duration": 1158,
    "start_time": "2023-05-03T19:51:19.169Z"
   },
   {
    "duration": 865,
    "start_time": "2023-05-03T19:51:20.329Z"
   },
   {
    "duration": 43,
    "start_time": "2023-05-03T19:51:21.197Z"
   },
   {
    "duration": 148,
    "start_time": "2023-05-03T19:51:21.242Z"
   },
   {
    "duration": 144,
    "start_time": "2023-05-03T19:51:21.392Z"
   },
   {
    "duration": 320,
    "start_time": "2023-05-03T19:51:21.539Z"
   },
   {
    "duration": 312,
    "start_time": "2023-05-03T19:51:21.861Z"
   },
   {
    "duration": 5,
    "start_time": "2023-05-03T19:51:22.175Z"
   },
   {
    "duration": 2033,
    "start_time": "2023-05-03T19:51:22.182Z"
   },
   {
    "duration": 251,
    "start_time": "2023-05-03T19:51:24.217Z"
   },
   {
    "duration": 434,
    "start_time": "2023-05-03T19:51:24.473Z"
   },
   {
    "duration": 123,
    "start_time": "2023-05-03T19:51:24.911Z"
   },
   {
    "duration": 76,
    "start_time": "2023-05-03T19:51:25.036Z"
   },
   {
    "duration": 27,
    "start_time": "2023-05-03T19:51:25.114Z"
   },
   {
    "duration": 45,
    "start_time": "2023-05-03T19:51:25.143Z"
   },
   {
    "duration": 6,
    "start_time": "2023-05-03T19:51:25.190Z"
   },
   {
    "duration": 30,
    "start_time": "2023-05-03T19:51:25.198Z"
   },
   {
    "duration": 49,
    "start_time": "2023-05-03T19:51:25.230Z"
   },
   {
    "duration": 29,
    "start_time": "2023-05-03T19:51:25.281Z"
   },
   {
    "duration": 69,
    "start_time": "2023-05-03T19:51:25.312Z"
   },
   {
    "duration": 1562,
    "start_time": "2023-05-03T19:51:25.382Z"
   },
   {
    "duration": 277,
    "start_time": "2023-05-03T19:51:26.946Z"
   },
   {
    "duration": 23,
    "start_time": "2023-05-03T19:51:27.225Z"
   },
   {
    "duration": 173,
    "start_time": "2023-05-03T19:51:27.252Z"
   },
   {
    "duration": 19,
    "start_time": "2023-05-03T19:51:27.427Z"
   },
   {
    "duration": 344,
    "start_time": "2023-05-03T19:51:27.447Z"
   },
   {
    "duration": 30,
    "start_time": "2023-05-03T19:51:27.793Z"
   },
   {
    "duration": 22,
    "start_time": "2023-05-03T19:51:27.824Z"
   },
   {
    "duration": 19,
    "start_time": "2023-05-03T19:51:27.848Z"
   },
   {
    "duration": 11,
    "start_time": "2023-05-03T19:51:27.868Z"
   },
   {
    "duration": 421,
    "start_time": "2023-05-03T19:51:27.881Z"
   },
   {
    "duration": 43,
    "start_time": "2023-05-03T19:51:28.304Z"
   },
   {
    "duration": 281,
    "start_time": "2023-05-03T19:51:28.348Z"
   },
   {
    "duration": 4,
    "start_time": "2023-05-03T19:51:28.632Z"
   },
   {
    "duration": 12881,
    "start_time": "2023-05-03T19:51:28.637Z"
   },
   {
    "duration": 294,
    "start_time": "2023-05-03T19:51:41.521Z"
   },
   {
    "duration": 6690,
    "start_time": "2023-05-03T19:51:41.819Z"
   },
   {
    "duration": 1682,
    "start_time": "2023-05-03T19:51:48.512Z"
   },
   {
    "duration": 104,
    "start_time": "2023-05-03T19:51:50.196Z"
   },
   {
    "duration": 25269,
    "start_time": "2023-05-03T19:51:50.302Z"
   },
   {
    "duration": 139,
    "start_time": "2023-05-03T19:52:15.572Z"
   },
   {
    "duration": 11,
    "start_time": "2023-05-03T19:52:15.713Z"
   },
   {
    "duration": 50,
    "start_time": "2023-05-03T19:52:15.727Z"
   },
   {
    "duration": 421,
    "start_time": "2023-05-03T19:52:15.779Z"
   },
   {
    "duration": 4,
    "start_time": "2023-05-03T19:52:16.202Z"
   },
   {
    "duration": 39806,
    "start_time": "2023-05-03T19:52:16.212Z"
   },
   {
    "duration": 593,
    "start_time": "2023-05-03T19:52:56.020Z"
   },
   {
    "duration": 13,
    "start_time": "2023-05-03T19:52:56.614Z"
   },
   {
    "duration": 57,
    "start_time": "2023-05-03T19:56:51.835Z"
   },
   {
    "duration": 12,
    "start_time": "2023-05-03T19:58:38.306Z"
   },
   {
    "duration": 163,
    "start_time": "2023-05-03T20:05:25.889Z"
   },
   {
    "duration": 14,
    "start_time": "2023-05-03T20:05:45.298Z"
   },
   {
    "duration": 1751,
    "start_time": "2023-05-04T19:58:27.292Z"
   },
   {
    "duration": 3437,
    "start_time": "2023-05-04T19:58:29.045Z"
   },
   {
    "duration": 146,
    "start_time": "2023-05-04T19:58:32.484Z"
   },
   {
    "duration": 7,
    "start_time": "2023-05-04T19:58:32.633Z"
   },
   {
    "duration": 1069,
    "start_time": "2023-05-04T19:58:32.642Z"
   },
   {
    "duration": 756,
    "start_time": "2023-05-04T19:58:33.713Z"
   },
   {
    "duration": 29,
    "start_time": "2023-05-04T19:58:34.470Z"
   },
   {
    "duration": 128,
    "start_time": "2023-05-04T19:58:34.501Z"
   },
   {
    "duration": 139,
    "start_time": "2023-05-04T19:58:34.631Z"
   },
   {
    "duration": 333,
    "start_time": "2023-05-04T19:58:34.773Z"
   },
   {
    "duration": 323,
    "start_time": "2023-05-04T19:58:35.108Z"
   },
   {
    "duration": 4,
    "start_time": "2023-05-04T19:58:35.434Z"
   },
   {
    "duration": 2082,
    "start_time": "2023-05-04T19:58:35.440Z"
   },
   {
    "duration": 242,
    "start_time": "2023-05-04T19:58:37.523Z"
   },
   {
    "duration": 467,
    "start_time": "2023-05-04T19:58:37.767Z"
   },
   {
    "duration": 145,
    "start_time": "2023-05-04T19:58:38.236Z"
   },
   {
    "duration": 81,
    "start_time": "2023-05-04T19:58:38.383Z"
   },
   {
    "duration": 28,
    "start_time": "2023-05-04T19:58:38.466Z"
   },
   {
    "duration": 29,
    "start_time": "2023-05-04T19:58:38.495Z"
   },
   {
    "duration": 7,
    "start_time": "2023-05-04T19:58:38.534Z"
   },
   {
    "duration": 32,
    "start_time": "2023-05-04T19:58:38.543Z"
   },
   {
    "duration": 30,
    "start_time": "2023-05-04T19:58:38.576Z"
   },
   {
    "duration": 54,
    "start_time": "2023-05-04T19:58:38.607Z"
   },
   {
    "duration": 74,
    "start_time": "2023-05-04T19:58:38.664Z"
   },
   {
    "duration": 1499,
    "start_time": "2023-05-04T19:58:38.741Z"
   },
   {
    "duration": 279,
    "start_time": "2023-05-04T19:58:40.243Z"
   },
   {
    "duration": 32,
    "start_time": "2023-05-04T19:58:40.523Z"
   },
   {
    "duration": 156,
    "start_time": "2023-05-04T19:58:40.557Z"
   },
   {
    "duration": 26,
    "start_time": "2023-05-04T19:58:40.715Z"
   },
   {
    "duration": 376,
    "start_time": "2023-05-04T19:58:40.745Z"
   },
   {
    "duration": 24,
    "start_time": "2023-05-04T19:58:41.123Z"
   },
   {
    "duration": 22,
    "start_time": "2023-05-04T19:58:41.435Z"
   },
   {
    "duration": 15,
    "start_time": "2023-05-04T19:58:47.255Z"
   },
   {
    "duration": 10,
    "start_time": "2023-05-04T20:00:35.728Z"
   },
   {
    "duration": 45,
    "start_time": "2023-05-04T20:01:00.966Z"
   },
   {
    "duration": 468,
    "start_time": "2023-05-04T20:02:48.004Z"
   },
   {
    "duration": 54,
    "start_time": "2023-05-04T20:12:50.716Z"
   },
   {
    "duration": 11,
    "start_time": "2023-05-04T20:13:09.293Z"
   },
   {
    "duration": 53,
    "start_time": "2023-05-04T20:13:28.047Z"
   },
   {
    "duration": 59,
    "start_time": "2023-05-04T20:13:46.662Z"
   },
   {
    "duration": 86,
    "start_time": "2023-05-04T20:14:48.687Z"
   },
   {
    "duration": 82,
    "start_time": "2023-05-04T20:16:38.841Z"
   },
   {
    "duration": 76,
    "start_time": "2023-05-04T20:16:53.220Z"
   },
   {
    "duration": 67,
    "start_time": "2023-05-04T20:18:11.260Z"
   },
   {
    "duration": 343,
    "start_time": "2023-05-04T20:18:53.342Z"
   },
   {
    "duration": 13,
    "start_time": "2023-05-04T20:19:32.349Z"
   },
   {
    "duration": 7,
    "start_time": "2023-05-04T20:19:41.591Z"
   },
   {
    "duration": 4,
    "start_time": "2023-05-04T20:19:54.106Z"
   },
   {
    "duration": 118,
    "start_time": "2023-05-04T20:20:00.582Z"
   },
   {
    "duration": 124,
    "start_time": "2023-05-04T20:24:43.381Z"
   },
   {
    "duration": 4,
    "start_time": "2023-05-04T20:24:44.389Z"
   },
   {
    "duration": 4,
    "start_time": "2023-05-04T20:25:21.233Z"
   },
   {
    "duration": 156,
    "start_time": "2023-05-04T20:26:07.238Z"
   },
   {
    "duration": 362,
    "start_time": "2023-05-04T20:27:38.103Z"
   },
   {
    "duration": 3,
    "start_time": "2023-05-04T20:27:39.384Z"
   },
   {
    "duration": 100,
    "start_time": "2023-05-04T20:27:40.283Z"
   },
   {
    "duration": 128,
    "start_time": "2023-05-04T20:27:41.138Z"
   },
   {
    "duration": 18450,
    "start_time": "2023-05-04T20:27:45.797Z"
   },
   {
    "duration": 185,
    "start_time": "2023-05-04T20:28:12.653Z"
   },
   {
    "duration": 119,
    "start_time": "2023-05-04T20:29:56.935Z"
   },
   {
    "duration": 641,
    "start_time": "2023-05-04T20:33:13.125Z"
   },
   {
    "duration": 4351,
    "start_time": "2023-05-04T20:33:36.986Z"
   },
   {
    "duration": 478,
    "start_time": "2023-05-04T20:35:38.891Z"
   },
   {
    "duration": 511,
    "start_time": "2023-05-04T20:38:36.235Z"
   },
   {
    "duration": 4256,
    "start_time": "2023-05-04T20:38:45.030Z"
   },
   {
    "duration": 18,
    "start_time": "2023-05-04T20:43:19.582Z"
   },
   {
    "duration": 12,
    "start_time": "2023-05-04T20:43:54.008Z"
   },
   {
    "duration": 13,
    "start_time": "2023-05-04T20:44:11.605Z"
   },
   {
    "duration": 44,
    "start_time": "2023-05-04T20:45:20.435Z"
   },
   {
    "duration": 13,
    "start_time": "2023-05-04T20:45:55.620Z"
   },
   {
    "duration": 402,
    "start_time": "2023-05-04T20:48:34.203Z"
   },
   {
    "duration": 77,
    "start_time": "2023-05-04T20:50:19.378Z"
   },
   {
    "duration": 4,
    "start_time": "2023-05-04T20:50:34.226Z"
   },
   {
    "duration": 1123,
    "start_time": "2023-05-04T20:50:47.666Z"
   },
   {
    "duration": 403,
    "start_time": "2023-05-04T20:51:20.870Z"
   },
   {
    "duration": 415,
    "start_time": "2023-05-04T20:51:28.307Z"
   },
   {
    "duration": 406,
    "start_time": "2023-05-04T20:51:42.739Z"
   },
   {
    "duration": 416,
    "start_time": "2023-05-04T20:52:03.374Z"
   },
   {
    "duration": 118,
    "start_time": "2023-05-04T20:55:00.148Z"
   },
   {
    "duration": 333,
    "start_time": "2023-05-04T20:55:02.868Z"
   },
   {
    "duration": 9,
    "start_time": "2023-05-04T20:55:57.674Z"
   },
   {
    "duration": 1375,
    "start_time": "2023-05-04T20:59:25.145Z"
   },
   {
    "duration": 875,
    "start_time": "2023-05-04T20:59:26.522Z"
   },
   {
    "duration": 150,
    "start_time": "2023-05-04T20:59:27.398Z"
   },
   {
    "duration": 6,
    "start_time": "2023-05-04T20:59:27.551Z"
   },
   {
    "duration": 1026,
    "start_time": "2023-05-04T20:59:27.559Z"
   },
   {
    "duration": 765,
    "start_time": "2023-05-04T20:59:28.586Z"
   },
   {
    "duration": 31,
    "start_time": "2023-05-04T20:59:29.353Z"
   },
   {
    "duration": 135,
    "start_time": "2023-05-04T20:59:29.385Z"
   },
   {
    "duration": 128,
    "start_time": "2023-05-04T20:59:29.521Z"
   },
   {
    "duration": 303,
    "start_time": "2023-05-04T20:59:29.653Z"
   },
   {
    "duration": 284,
    "start_time": "2023-05-04T20:59:29.957Z"
   },
   {
    "duration": 5,
    "start_time": "2023-05-04T20:59:30.243Z"
   },
   {
    "duration": 1905,
    "start_time": "2023-05-04T20:59:30.250Z"
   },
   {
    "duration": 245,
    "start_time": "2023-05-04T20:59:32.158Z"
   },
   {
    "duration": 423,
    "start_time": "2023-05-04T20:59:32.405Z"
   },
   {
    "duration": 135,
    "start_time": "2023-05-04T20:59:32.830Z"
   },
   {
    "duration": 73,
    "start_time": "2023-05-04T20:59:32.967Z"
   },
   {
    "duration": 34,
    "start_time": "2023-05-04T20:59:33.042Z"
   },
   {
    "duration": 34,
    "start_time": "2023-05-04T20:59:33.077Z"
   },
   {
    "duration": 21,
    "start_time": "2023-05-04T20:59:33.113Z"
   },
   {
    "duration": 45,
    "start_time": "2023-05-04T20:59:33.136Z"
   },
   {
    "duration": 36,
    "start_time": "2023-05-04T20:59:33.183Z"
   },
   {
    "duration": 35,
    "start_time": "2023-05-04T20:59:33.221Z"
   },
   {
    "duration": 57,
    "start_time": "2023-05-04T20:59:33.258Z"
   },
   {
    "duration": 1548,
    "start_time": "2023-05-04T20:59:33.317Z"
   },
   {
    "duration": 260,
    "start_time": "2023-05-04T20:59:34.866Z"
   },
   {
    "duration": 30,
    "start_time": "2023-05-04T20:59:35.133Z"
   },
   {
    "duration": 142,
    "start_time": "2023-05-04T20:59:35.166Z"
   },
   {
    "duration": 30,
    "start_time": "2023-05-04T20:59:35.309Z"
   },
   {
    "duration": 320,
    "start_time": "2023-05-04T20:59:35.341Z"
   },
   {
    "duration": 16,
    "start_time": "2023-05-04T20:59:35.662Z"
   },
   {
    "duration": 19,
    "start_time": "2023-05-04T20:59:35.680Z"
   },
   {
    "duration": 22,
    "start_time": "2023-05-04T20:59:35.701Z"
   },
   {
    "duration": 34,
    "start_time": "2023-05-04T20:59:35.725Z"
   },
   {
    "duration": 103,
    "start_time": "2023-05-04T20:59:35.761Z"
   },
   {
    "duration": 370,
    "start_time": "2023-05-04T20:59:35.866Z"
   },
   {
    "duration": 4,
    "start_time": "2023-05-04T20:59:36.238Z"
   },
   {
    "duration": 139,
    "start_time": "2023-05-04T20:59:36.244Z"
   },
   {
    "duration": 127,
    "start_time": "2023-05-04T20:59:36.385Z"
   },
   {
    "duration": 12921,
    "start_time": "2023-05-04T20:59:36.514Z"
   },
   {
    "duration": 202,
    "start_time": "2023-05-04T20:59:49.437Z"
   },
   {
    "duration": 116,
    "start_time": "2023-05-04T20:59:49.641Z"
   },
   {
    "duration": 432,
    "start_time": "2023-05-04T20:59:49.759Z"
   },
   {
    "duration": 4,
    "start_time": "2023-05-04T20:59:50.193Z"
   },
   {
    "duration": 124,
    "start_time": "2023-05-04T20:59:50.199Z"
   },
   {
    "duration": 15,
    "start_time": "2023-05-04T20:59:50.325Z"
   },
   {
    "duration": 18682,
    "start_time": "2023-05-04T20:59:50.342Z"
   },
   {
    "duration": 167,
    "start_time": "2023-05-04T21:00:09.025Z"
   },
   {
    "duration": 12,
    "start_time": "2023-05-04T21:00:09.194Z"
   },
   {
    "duration": 79,
    "start_time": "2023-05-04T21:00:09.208Z"
   },
   {
    "duration": 463,
    "start_time": "2023-05-04T21:00:09.289Z"
   },
   {
    "duration": 4,
    "start_time": "2023-05-04T21:00:09.754Z"
   },
   {
    "duration": 87081,
    "start_time": "2023-05-04T21:00:09.760Z"
   },
   {
    "duration": 592,
    "start_time": "2023-05-04T21:01:36.844Z"
   },
   {
    "duration": 16,
    "start_time": "2023-05-04T21:01:37.438Z"
   },
   {
    "duration": 100,
    "start_time": "2023-05-04T21:14:53.078Z"
   },
   {
    "duration": 11,
    "start_time": "2023-05-04T21:21:21.691Z"
   },
   {
    "duration": 109,
    "start_time": "2023-05-04T21:24:26.576Z"
   },
   {
    "duration": 39,
    "start_time": "2023-05-04T21:26:10.869Z"
   },
   {
    "duration": 70,
    "start_time": "2023-05-04T21:27:34.682Z"
   },
   {
    "duration": 354,
    "start_time": "2023-05-04T21:29:23.798Z"
   },
   {
    "duration": 543,
    "start_time": "2023-05-04T21:29:52.266Z"
   },
   {
    "duration": 400,
    "start_time": "2023-05-04T21:30:06.641Z"
   },
   {
    "duration": 16,
    "start_time": "2023-05-04T21:31:31.655Z"
   },
   {
    "duration": 182,
    "start_time": "2023-05-04T21:45:07.358Z"
   },
   {
    "duration": 12,
    "start_time": "2023-05-04T21:45:10.691Z"
   },
   {
    "duration": 132,
    "start_time": "2023-05-04T21:45:12.521Z"
   },
   {
    "duration": 534,
    "start_time": "2023-05-04T21:45:14.911Z"
   },
   {
    "duration": 1680,
    "start_time": "2023-05-04T21:49:07.334Z"
   },
   {
    "duration": 1027,
    "start_time": "2023-05-04T21:49:09.016Z"
   },
   {
    "duration": 168,
    "start_time": "2023-05-04T21:49:10.045Z"
   },
   {
    "duration": 7,
    "start_time": "2023-05-04T21:49:10.217Z"
   },
   {
    "duration": 1185,
    "start_time": "2023-05-04T21:49:10.234Z"
   },
   {
    "duration": 929,
    "start_time": "2023-05-04T21:49:11.421Z"
   },
   {
    "duration": 32,
    "start_time": "2023-05-04T21:49:12.352Z"
   },
   {
    "duration": 133,
    "start_time": "2023-05-04T21:49:12.386Z"
   },
   {
    "duration": 137,
    "start_time": "2023-05-04T21:49:12.521Z"
   },
   {
    "duration": 366,
    "start_time": "2023-05-04T21:49:12.661Z"
   },
   {
    "duration": 352,
    "start_time": "2023-05-04T21:49:13.033Z"
   },
   {
    "duration": 4,
    "start_time": "2023-05-04T21:49:13.387Z"
   },
   {
    "duration": 2112,
    "start_time": "2023-05-04T21:49:13.393Z"
   },
   {
    "duration": 263,
    "start_time": "2023-05-04T21:49:15.507Z"
   },
   {
    "duration": 479,
    "start_time": "2023-05-04T21:49:15.772Z"
   },
   {
    "duration": 135,
    "start_time": "2023-05-04T21:49:16.253Z"
   },
   {
    "duration": 87,
    "start_time": "2023-05-04T21:49:16.390Z"
   },
   {
    "duration": 30,
    "start_time": "2023-05-04T21:49:16.479Z"
   },
   {
    "duration": 43,
    "start_time": "2023-05-04T21:49:16.510Z"
   },
   {
    "duration": 13,
    "start_time": "2023-05-04T21:49:16.555Z"
   },
   {
    "duration": 32,
    "start_time": "2023-05-04T21:49:16.569Z"
   },
   {
    "duration": 48,
    "start_time": "2023-05-04T21:49:16.602Z"
   },
   {
    "duration": 36,
    "start_time": "2023-05-04T21:49:16.652Z"
   },
   {
    "duration": 93,
    "start_time": "2023-05-04T21:49:16.689Z"
   },
   {
    "duration": 1762,
    "start_time": "2023-05-04T21:49:16.784Z"
   },
   {
    "duration": 305,
    "start_time": "2023-05-04T21:49:18.548Z"
   },
   {
    "duration": 26,
    "start_time": "2023-05-04T21:49:18.855Z"
   },
   {
    "duration": 171,
    "start_time": "2023-05-04T21:49:18.885Z"
   },
   {
    "duration": 24,
    "start_time": "2023-05-04T21:49:19.058Z"
   },
   {
    "duration": 547,
    "start_time": "2023-05-04T21:49:19.084Z"
   },
   {
    "duration": 19,
    "start_time": "2023-05-04T21:49:19.634Z"
   },
   {
    "duration": 24,
    "start_time": "2023-05-04T21:49:19.655Z"
   },
   {
    "duration": 11,
    "start_time": "2023-05-04T21:49:19.682Z"
   },
   {
    "duration": 13,
    "start_time": "2023-05-04T21:49:19.695Z"
   },
   {
    "duration": 84,
    "start_time": "2023-05-04T21:49:19.734Z"
   },
   {
    "duration": 415,
    "start_time": "2023-05-04T21:49:19.820Z"
   },
   {
    "duration": 3,
    "start_time": "2023-05-04T21:49:20.237Z"
   },
   {
    "duration": 135,
    "start_time": "2023-05-04T21:49:20.242Z"
   },
   {
    "duration": 142,
    "start_time": "2023-05-04T21:49:20.379Z"
   },
   {
    "duration": 11813,
    "start_time": "2023-05-04T21:49:20.522Z"
   },
   {
    "duration": 198,
    "start_time": "2023-05-04T21:49:32.337Z"
   },
   {
    "duration": 127,
    "start_time": "2023-05-04T21:49:32.538Z"
   },
   {
    "duration": 557,
    "start_time": "2023-05-04T21:49:32.667Z"
   },
   {
    "duration": 7,
    "start_time": "2023-05-04T21:49:33.226Z"
   },
   {
    "duration": 221,
    "start_time": "2023-05-04T21:49:33.235Z"
   },
   {
    "duration": 15,
    "start_time": "2023-05-04T21:49:33.458Z"
   },
   {
    "duration": 21702,
    "start_time": "2023-05-04T21:49:33.476Z"
   },
   {
    "duration": 117,
    "start_time": "2023-05-04T21:49:55.179Z"
   },
   {
    "duration": 12,
    "start_time": "2023-05-04T21:49:55.298Z"
   },
   {
    "duration": 104,
    "start_time": "2023-05-04T21:49:55.312Z"
   },
   {
    "duration": 443,
    "start_time": "2023-05-04T21:49:55.418Z"
   },
   {
    "duration": 4,
    "start_time": "2023-05-04T21:49:55.863Z"
   },
   {
    "duration": 8874,
    "start_time": "2023-05-04T21:49:55.868Z"
   },
   {
    "duration": 496,
    "start_time": "2023-05-04T21:50:04.744Z"
   },
   {
    "duration": 18,
    "start_time": "2023-05-04T21:50:05.242Z"
   },
   {
    "duration": 33,
    "start_time": "2023-05-04T21:50:05.262Z"
   },
   {
    "duration": 239,
    "start_time": "2023-05-04T21:50:05.297Z"
   },
   {
    "duration": 104,
    "start_time": "2023-05-04T21:50:05.539Z"
   },
   {
    "duration": 202,
    "start_time": "2023-05-04T21:50:05.644Z"
   },
   {
    "duration": 595,
    "start_time": "2023-05-04T21:50:05.847Z"
   }
  ],
  "kernelspec": {
   "display_name": "Python 3 (ipykernel)",
   "language": "python",
   "name": "python3"
  },
  "language_info": {
   "codemirror_mode": {
    "name": "ipython",
    "version": 3
   },
   "file_extension": ".py",
   "mimetype": "text/x-python",
   "name": "python",
   "nbconvert_exporter": "python",
   "pygments_lexer": "ipython3",
   "version": "3.9.5"
  },
  "toc": {
   "base_numbering": 1,
   "nav_menu": {},
   "number_sections": true,
   "sideBar": true,
   "skip_h1_title": true,
   "title_cell": "Table of Contents",
   "title_sidebar": "Contents",
   "toc_cell": false,
   "toc_position": {
    "height": "calc(100% - 180px)",
    "left": "10px",
    "top": "150px",
    "width": "165px"
   },
   "toc_section_display": true,
   "toc_window_display": true
  }
 },
 "nbformat": 4,
 "nbformat_minor": 2
}
