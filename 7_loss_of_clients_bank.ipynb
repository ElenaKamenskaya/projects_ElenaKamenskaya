{
 "cells": [
  {
   "cell_type": "markdown",
   "metadata": {
    "toc": true
   },
   "source": [
    "<h1>Содержание<span class=\"tocSkip\"></span></h1>\n",
    "<div class=\"toc\"><ul class=\"toc-item\"><li><span><a href=\"#Подготовка-данных\" data-toc-modified-id=\"Подготовка-данных-1\"><span class=\"toc-item-num\">1&nbsp;&nbsp;</span>Подготовка данных</a></span></li><li><span><a href=\"#Вывод\" data-toc-modified-id=\"Вывод-2\"><span class=\"toc-item-num\">2&nbsp;&nbsp;</span>Вывод</a></span></li><li><span><a href=\"#Исследование-задачи\" data-toc-modified-id=\"Исследование-задачи-3\"><span class=\"toc-item-num\">3&nbsp;&nbsp;</span>Исследование задачи</a></span></li><li><span><a href=\"#Борьба-с-дисбалансом\" data-toc-modified-id=\"Борьба-с-дисбалансом-4\"><span class=\"toc-item-num\">4&nbsp;&nbsp;</span>Борьба с дисбалансом</a></span></li><li><span><a href=\"#Тестирование-модели\" data-toc-modified-id=\"Тестирование-модели-5\"><span class=\"toc-item-num\">5&nbsp;&nbsp;</span>Тестирование модели</a></span></li><li><span><a href=\"#Чек-лист-готовности-проекта\" data-toc-modified-id=\"Чек-лист-готовности-проекта-6\"><span class=\"toc-item-num\">6&nbsp;&nbsp;</span>Чек-лист готовности проекта</a></span></li><li><span><a href=\"#Общий-вывод-по-проекту\" data-toc-modified-id=\"Общий-вывод-по-проекту-7\"><span class=\"toc-item-num\">7&nbsp;&nbsp;</span><b>Общий вывод по проекту</b></a></span></li><li><span><a href=\"#Общий-вывод-по-проекту-В2\" data-toc-modified-id=\"Общий-вывод-по-проекту-В2-8\"><span class=\"toc-item-num\">8&nbsp;&nbsp;</span><b>Общий вывод по проекту В2</b></a></span></li><li><span><a href=\"#Общий-вывод-по-проекту-В3\" data-toc-modified-id=\"Общий-вывод-по-проекту-В3-9\"><span class=\"toc-item-num\">9&nbsp;&nbsp;</span><b>Общий вывод по проекту В3</b></a></span></li></ul></div>"
   ]
  },
  {
   "cell_type": "markdown",
   "metadata": {},
   "source": [
    "# Отток клиентов"
   ]
  },
  {
   "cell_type": "markdown",
   "metadata": {},
   "source": [
    "Из «Бета-Банка» стали уходить клиенты. Каждый месяц. Немного, но заметно. Банковские маркетологи посчитали: сохранять текущих клиентов дешевле, чем привлекать новых.\n",
    "\n",
    "Нужно спрогнозировать, уйдёт клиент из банка в ближайшее время или нет. Вам предоставлены исторические данные о поведении клиентов и расторжении договоров с банком. \n",
    "\n",
    "Постройте модель с предельно большим значением *F1*-меры. Чтобы сдать проект успешно, нужно довести метрику до 0.59. Проверьте *F1*-меру на тестовой выборке самостоятельно.\n",
    "\n",
    "Дополнительно измеряйте *AUC-ROC*, сравнивайте её значение с *F1*-мерой.\n",
    "\n",
    "Источник данных: [https://www.kaggle.com/barelydedicated/bank-customer-churn-modeling](https://www.kaggle.com/barelydedicated/bank-customer-churn-modeling)"
   ]
  },
  {
   "cell_type": "markdown",
   "metadata": {},
   "source": [
    "**Проект. Отток клиентов банка**\n",
    "\n",
    "**Задача:** сохранить текущих клиентов банка\n",
    "\n",
    "**Цель:** построить модель для прогноза ухода клиента из банка в близайшее время\n",
    "\n",
    "**Данные:** предоставлены исторические данные о поведении клиентов и расторжении договоров с банком.\n",
    "\n",
    "**План иследования:** провести анализ данных на графиках, построить модели на данных, постороить модели на сбалансированных данных с предельно большим значением F1-меры"
   ]
  },
  {
   "cell_type": "markdown",
   "metadata": {},
   "source": [
    "## Подготовка данных"
   ]
  },
  {
   "cell_type": "code",
   "execution_count": 1,
   "metadata": {},
   "outputs": [],
   "source": [
    "# подключим библиотеки\n",
    "\n",
    "import pandas as pd\n",
    "import numpy as np\n",
    "from sklearn.model_selection import train_test_split\n",
    "from sklearn.tree import DecisionTreeClassifier\n",
    "from sklearn.ensemble import RandomForestClassifier\n",
    "from sklearn.linear_model import LogisticRegression\n",
    "from sklearn.metrics import accuracy_score\n",
    "from sklearn.preprocessing import OrdinalEncoder\n",
    "from sklearn.preprocessing import StandardScaler\n",
    "from sklearn.metrics import f1_score\n",
    "from sklearn.utils import shuffle\n",
    "from sklearn.metrics import roc_curve\n",
    "from sklearn.metrics import roc_auc_score \n",
    "import matplotlib.pyplot as plt\n",
    "\n"
   ]
  },
  {
   "cell_type": "code",
   "execution_count": 2,
   "metadata": {},
   "outputs": [
    {
     "data": {
      "text/html": [
       "<div>\n",
       "<style scoped>\n",
       "    .dataframe tbody tr th:only-of-type {\n",
       "        vertical-align: middle;\n",
       "    }\n",
       "\n",
       "    .dataframe tbody tr th {\n",
       "        vertical-align: top;\n",
       "    }\n",
       "\n",
       "    .dataframe thead th {\n",
       "        text-align: right;\n",
       "    }\n",
       "</style>\n",
       "<table border=\"1\" class=\"dataframe\">\n",
       "  <thead>\n",
       "    <tr style=\"text-align: right;\">\n",
       "      <th></th>\n",
       "      <th>RowNumber</th>\n",
       "      <th>CustomerId</th>\n",
       "      <th>Surname</th>\n",
       "      <th>CreditScore</th>\n",
       "      <th>Geography</th>\n",
       "      <th>Gender</th>\n",
       "      <th>Age</th>\n",
       "      <th>Tenure</th>\n",
       "      <th>Balance</th>\n",
       "      <th>NumOfProducts</th>\n",
       "      <th>HasCrCard</th>\n",
       "      <th>IsActiveMember</th>\n",
       "      <th>EstimatedSalary</th>\n",
       "      <th>Exited</th>\n",
       "    </tr>\n",
       "  </thead>\n",
       "  <tbody>\n",
       "    <tr>\n",
       "      <th>0</th>\n",
       "      <td>1</td>\n",
       "      <td>15634602</td>\n",
       "      <td>Hargrave</td>\n",
       "      <td>619</td>\n",
       "      <td>France</td>\n",
       "      <td>Female</td>\n",
       "      <td>42</td>\n",
       "      <td>2.0</td>\n",
       "      <td>0.00</td>\n",
       "      <td>1</td>\n",
       "      <td>1</td>\n",
       "      <td>1</td>\n",
       "      <td>101348.88</td>\n",
       "      <td>1</td>\n",
       "    </tr>\n",
       "    <tr>\n",
       "      <th>1</th>\n",
       "      <td>2</td>\n",
       "      <td>15647311</td>\n",
       "      <td>Hill</td>\n",
       "      <td>608</td>\n",
       "      <td>Spain</td>\n",
       "      <td>Female</td>\n",
       "      <td>41</td>\n",
       "      <td>1.0</td>\n",
       "      <td>83807.86</td>\n",
       "      <td>1</td>\n",
       "      <td>0</td>\n",
       "      <td>1</td>\n",
       "      <td>112542.58</td>\n",
       "      <td>0</td>\n",
       "    </tr>\n",
       "    <tr>\n",
       "      <th>2</th>\n",
       "      <td>3</td>\n",
       "      <td>15619304</td>\n",
       "      <td>Onio</td>\n",
       "      <td>502</td>\n",
       "      <td>France</td>\n",
       "      <td>Female</td>\n",
       "      <td>42</td>\n",
       "      <td>8.0</td>\n",
       "      <td>159660.80</td>\n",
       "      <td>3</td>\n",
       "      <td>1</td>\n",
       "      <td>0</td>\n",
       "      <td>113931.57</td>\n",
       "      <td>1</td>\n",
       "    </tr>\n",
       "    <tr>\n",
       "      <th>3</th>\n",
       "      <td>4</td>\n",
       "      <td>15701354</td>\n",
       "      <td>Boni</td>\n",
       "      <td>699</td>\n",
       "      <td>France</td>\n",
       "      <td>Female</td>\n",
       "      <td>39</td>\n",
       "      <td>1.0</td>\n",
       "      <td>0.00</td>\n",
       "      <td>2</td>\n",
       "      <td>0</td>\n",
       "      <td>0</td>\n",
       "      <td>93826.63</td>\n",
       "      <td>0</td>\n",
       "    </tr>\n",
       "    <tr>\n",
       "      <th>4</th>\n",
       "      <td>5</td>\n",
       "      <td>15737888</td>\n",
       "      <td>Mitchell</td>\n",
       "      <td>850</td>\n",
       "      <td>Spain</td>\n",
       "      <td>Female</td>\n",
       "      <td>43</td>\n",
       "      <td>2.0</td>\n",
       "      <td>125510.82</td>\n",
       "      <td>1</td>\n",
       "      <td>1</td>\n",
       "      <td>1</td>\n",
       "      <td>79084.10</td>\n",
       "      <td>0</td>\n",
       "    </tr>\n",
       "    <tr>\n",
       "      <th>...</th>\n",
       "      <td>...</td>\n",
       "      <td>...</td>\n",
       "      <td>...</td>\n",
       "      <td>...</td>\n",
       "      <td>...</td>\n",
       "      <td>...</td>\n",
       "      <td>...</td>\n",
       "      <td>...</td>\n",
       "      <td>...</td>\n",
       "      <td>...</td>\n",
       "      <td>...</td>\n",
       "      <td>...</td>\n",
       "      <td>...</td>\n",
       "      <td>...</td>\n",
       "    </tr>\n",
       "    <tr>\n",
       "      <th>9995</th>\n",
       "      <td>9996</td>\n",
       "      <td>15606229</td>\n",
       "      <td>Obijiaku</td>\n",
       "      <td>771</td>\n",
       "      <td>France</td>\n",
       "      <td>Male</td>\n",
       "      <td>39</td>\n",
       "      <td>5.0</td>\n",
       "      <td>0.00</td>\n",
       "      <td>2</td>\n",
       "      <td>1</td>\n",
       "      <td>0</td>\n",
       "      <td>96270.64</td>\n",
       "      <td>0</td>\n",
       "    </tr>\n",
       "    <tr>\n",
       "      <th>9996</th>\n",
       "      <td>9997</td>\n",
       "      <td>15569892</td>\n",
       "      <td>Johnstone</td>\n",
       "      <td>516</td>\n",
       "      <td>France</td>\n",
       "      <td>Male</td>\n",
       "      <td>35</td>\n",
       "      <td>10.0</td>\n",
       "      <td>57369.61</td>\n",
       "      <td>1</td>\n",
       "      <td>1</td>\n",
       "      <td>1</td>\n",
       "      <td>101699.77</td>\n",
       "      <td>0</td>\n",
       "    </tr>\n",
       "    <tr>\n",
       "      <th>9997</th>\n",
       "      <td>9998</td>\n",
       "      <td>15584532</td>\n",
       "      <td>Liu</td>\n",
       "      <td>709</td>\n",
       "      <td>France</td>\n",
       "      <td>Female</td>\n",
       "      <td>36</td>\n",
       "      <td>7.0</td>\n",
       "      <td>0.00</td>\n",
       "      <td>1</td>\n",
       "      <td>0</td>\n",
       "      <td>1</td>\n",
       "      <td>42085.58</td>\n",
       "      <td>1</td>\n",
       "    </tr>\n",
       "    <tr>\n",
       "      <th>9998</th>\n",
       "      <td>9999</td>\n",
       "      <td>15682355</td>\n",
       "      <td>Sabbatini</td>\n",
       "      <td>772</td>\n",
       "      <td>Germany</td>\n",
       "      <td>Male</td>\n",
       "      <td>42</td>\n",
       "      <td>3.0</td>\n",
       "      <td>75075.31</td>\n",
       "      <td>2</td>\n",
       "      <td>1</td>\n",
       "      <td>0</td>\n",
       "      <td>92888.52</td>\n",
       "      <td>1</td>\n",
       "    </tr>\n",
       "    <tr>\n",
       "      <th>9999</th>\n",
       "      <td>10000</td>\n",
       "      <td>15628319</td>\n",
       "      <td>Walker</td>\n",
       "      <td>792</td>\n",
       "      <td>France</td>\n",
       "      <td>Female</td>\n",
       "      <td>28</td>\n",
       "      <td>NaN</td>\n",
       "      <td>130142.79</td>\n",
       "      <td>1</td>\n",
       "      <td>1</td>\n",
       "      <td>0</td>\n",
       "      <td>38190.78</td>\n",
       "      <td>0</td>\n",
       "    </tr>\n",
       "  </tbody>\n",
       "</table>\n",
       "<p>10000 rows × 14 columns</p>\n",
       "</div>"
      ],
      "text/plain": [
       "      RowNumber  CustomerId    Surname  CreditScore Geography  Gender  Age  \\\n",
       "0             1    15634602   Hargrave          619    France  Female   42   \n",
       "1             2    15647311       Hill          608     Spain  Female   41   \n",
       "2             3    15619304       Onio          502    France  Female   42   \n",
       "3             4    15701354       Boni          699    France  Female   39   \n",
       "4             5    15737888   Mitchell          850     Spain  Female   43   \n",
       "...         ...         ...        ...          ...       ...     ...  ...   \n",
       "9995       9996    15606229   Obijiaku          771    France    Male   39   \n",
       "9996       9997    15569892  Johnstone          516    France    Male   35   \n",
       "9997       9998    15584532        Liu          709    France  Female   36   \n",
       "9998       9999    15682355  Sabbatini          772   Germany    Male   42   \n",
       "9999      10000    15628319     Walker          792    France  Female   28   \n",
       "\n",
       "      Tenure    Balance  NumOfProducts  HasCrCard  IsActiveMember  \\\n",
       "0        2.0       0.00              1          1               1   \n",
       "1        1.0   83807.86              1          0               1   \n",
       "2        8.0  159660.80              3          1               0   \n",
       "3        1.0       0.00              2          0               0   \n",
       "4        2.0  125510.82              1          1               1   \n",
       "...      ...        ...            ...        ...             ...   \n",
       "9995     5.0       0.00              2          1               0   \n",
       "9996    10.0   57369.61              1          1               1   \n",
       "9997     7.0       0.00              1          0               1   \n",
       "9998     3.0   75075.31              2          1               0   \n",
       "9999     NaN  130142.79              1          1               0   \n",
       "\n",
       "      EstimatedSalary  Exited  \n",
       "0           101348.88       1  \n",
       "1           112542.58       0  \n",
       "2           113931.57       1  \n",
       "3            93826.63       0  \n",
       "4            79084.10       0  \n",
       "...               ...     ...  \n",
       "9995         96270.64       0  \n",
       "9996        101699.77       0  \n",
       "9997         42085.58       1  \n",
       "9998         92888.52       1  \n",
       "9999         38190.78       0  \n",
       "\n",
       "[10000 rows x 14 columns]"
      ]
     },
     "execution_count": 2,
     "metadata": {},
     "output_type": "execute_result"
    }
   ],
   "source": [
    "# загрузим и откроем данные для анализа\n",
    "\n",
    "try:\n",
    "    data = pd.read_csv('Churn.csv')\n",
    "except:\n",
    "    data = pd.read_csv('/datasets/Churn.csv')\n",
    "data"
   ]
  },
  {
   "cell_type": "code",
   "execution_count": 3,
   "metadata": {},
   "outputs": [
    {
     "name": "stdout",
     "output_type": "stream",
     "text": [
      "<class 'pandas.core.frame.DataFrame'>\n",
      "RangeIndex: 10000 entries, 0 to 9999\n",
      "Data columns (total 14 columns):\n",
      " #   Column           Non-Null Count  Dtype  \n",
      "---  ------           --------------  -----  \n",
      " 0   RowNumber        10000 non-null  int64  \n",
      " 1   CustomerId       10000 non-null  int64  \n",
      " 2   Surname          10000 non-null  object \n",
      " 3   CreditScore      10000 non-null  int64  \n",
      " 4   Geography        10000 non-null  object \n",
      " 5   Gender           10000 non-null  object \n",
      " 6   Age              10000 non-null  int64  \n",
      " 7   Tenure           9091 non-null   float64\n",
      " 8   Balance          10000 non-null  float64\n",
      " 9   NumOfProducts    10000 non-null  int64  \n",
      " 10  HasCrCard        10000 non-null  int64  \n",
      " 11  IsActiveMember   10000 non-null  int64  \n",
      " 12  EstimatedSalary  10000 non-null  float64\n",
      " 13  Exited           10000 non-null  int64  \n",
      "dtypes: float64(3), int64(8), object(3)\n",
      "memory usage: 1.1+ MB\n"
     ]
    }
   ],
   "source": [
    "# проверим данные \n",
    "\n",
    "data.info()"
   ]
  },
  {
   "cell_type": "code",
   "execution_count": 4,
   "metadata": {},
   "outputs": [
    {
     "data": {
      "text/plain": [
       "1.0     952\n",
       "2.0     950\n",
       "8.0     933\n",
       "3.0     928\n",
       "5.0     927\n",
       "7.0     925\n",
       "4.0     885\n",
       "9.0     882\n",
       "6.0     881\n",
       "10.0    446\n",
       "0.0     382\n",
       "Name: Tenure, dtype: int64"
      ]
     },
     "execution_count": 4,
     "metadata": {},
     "output_type": "execute_result"
    }
   ],
   "source": [
    "# в основном все данные полные, за исключением Tenure (9%)\n",
    "# проверим уникальные значения и их кол-во\n",
    "\n",
    "data['Tenure'].value_counts()"
   ]
  },
  {
   "cell_type": "code",
   "execution_count": 5,
   "metadata": {},
   "outputs": [
    {
     "data": {
      "text/html": [
       "<div>\n",
       "<style scoped>\n",
       "    .dataframe tbody tr th:only-of-type {\n",
       "        vertical-align: middle;\n",
       "    }\n",
       "\n",
       "    .dataframe tbody tr th {\n",
       "        vertical-align: top;\n",
       "    }\n",
       "\n",
       "    .dataframe thead th {\n",
       "        text-align: right;\n",
       "    }\n",
       "</style>\n",
       "<table border=\"1\" class=\"dataframe\">\n",
       "  <thead>\n",
       "    <tr style=\"text-align: right;\">\n",
       "      <th></th>\n",
       "      <th>RowNumber</th>\n",
       "      <th>CustomerId</th>\n",
       "      <th>Surname</th>\n",
       "      <th>CreditScore</th>\n",
       "      <th>Geography</th>\n",
       "      <th>Gender</th>\n",
       "      <th>Age</th>\n",
       "      <th>Tenure</th>\n",
       "      <th>Balance</th>\n",
       "      <th>NumOfProducts</th>\n",
       "      <th>HasCrCard</th>\n",
       "      <th>IsActiveMember</th>\n",
       "      <th>EstimatedSalary</th>\n",
       "      <th>Exited</th>\n",
       "    </tr>\n",
       "  </thead>\n",
       "  <tbody>\n",
       "    <tr>\n",
       "      <th>30</th>\n",
       "      <td>31</td>\n",
       "      <td>15589475</td>\n",
       "      <td>Azikiwe</td>\n",
       "      <td>591</td>\n",
       "      <td>Spain</td>\n",
       "      <td>Female</td>\n",
       "      <td>39</td>\n",
       "      <td>NaN</td>\n",
       "      <td>0.00</td>\n",
       "      <td>3</td>\n",
       "      <td>1</td>\n",
       "      <td>0</td>\n",
       "      <td>140469.38</td>\n",
       "      <td>1</td>\n",
       "    </tr>\n",
       "    <tr>\n",
       "      <th>48</th>\n",
       "      <td>49</td>\n",
       "      <td>15766205</td>\n",
       "      <td>Yin</td>\n",
       "      <td>550</td>\n",
       "      <td>Germany</td>\n",
       "      <td>Male</td>\n",
       "      <td>38</td>\n",
       "      <td>NaN</td>\n",
       "      <td>103391.38</td>\n",
       "      <td>1</td>\n",
       "      <td>0</td>\n",
       "      <td>1</td>\n",
       "      <td>90878.13</td>\n",
       "      <td>0</td>\n",
       "    </tr>\n",
       "    <tr>\n",
       "      <th>51</th>\n",
       "      <td>52</td>\n",
       "      <td>15768193</td>\n",
       "      <td>Trevisani</td>\n",
       "      <td>585</td>\n",
       "      <td>Germany</td>\n",
       "      <td>Male</td>\n",
       "      <td>36</td>\n",
       "      <td>NaN</td>\n",
       "      <td>146050.97</td>\n",
       "      <td>2</td>\n",
       "      <td>0</td>\n",
       "      <td>0</td>\n",
       "      <td>86424.57</td>\n",
       "      <td>0</td>\n",
       "    </tr>\n",
       "    <tr>\n",
       "      <th>53</th>\n",
       "      <td>54</td>\n",
       "      <td>15702298</td>\n",
       "      <td>Parkhill</td>\n",
       "      <td>655</td>\n",
       "      <td>Germany</td>\n",
       "      <td>Male</td>\n",
       "      <td>41</td>\n",
       "      <td>NaN</td>\n",
       "      <td>125561.97</td>\n",
       "      <td>1</td>\n",
       "      <td>0</td>\n",
       "      <td>0</td>\n",
       "      <td>164040.94</td>\n",
       "      <td>1</td>\n",
       "    </tr>\n",
       "    <tr>\n",
       "      <th>60</th>\n",
       "      <td>61</td>\n",
       "      <td>15651280</td>\n",
       "      <td>Hunter</td>\n",
       "      <td>742</td>\n",
       "      <td>Germany</td>\n",
       "      <td>Male</td>\n",
       "      <td>35</td>\n",
       "      <td>NaN</td>\n",
       "      <td>136857.00</td>\n",
       "      <td>1</td>\n",
       "      <td>0</td>\n",
       "      <td>0</td>\n",
       "      <td>84509.57</td>\n",
       "      <td>0</td>\n",
       "    </tr>\n",
       "    <tr>\n",
       "      <th>...</th>\n",
       "      <td>...</td>\n",
       "      <td>...</td>\n",
       "      <td>...</td>\n",
       "      <td>...</td>\n",
       "      <td>...</td>\n",
       "      <td>...</td>\n",
       "      <td>...</td>\n",
       "      <td>...</td>\n",
       "      <td>...</td>\n",
       "      <td>...</td>\n",
       "      <td>...</td>\n",
       "      <td>...</td>\n",
       "      <td>...</td>\n",
       "      <td>...</td>\n",
       "    </tr>\n",
       "    <tr>\n",
       "      <th>9944</th>\n",
       "      <td>9945</td>\n",
       "      <td>15703923</td>\n",
       "      <td>Cameron</td>\n",
       "      <td>744</td>\n",
       "      <td>Germany</td>\n",
       "      <td>Male</td>\n",
       "      <td>41</td>\n",
       "      <td>NaN</td>\n",
       "      <td>190409.34</td>\n",
       "      <td>2</td>\n",
       "      <td>1</td>\n",
       "      <td>1</td>\n",
       "      <td>138361.48</td>\n",
       "      <td>0</td>\n",
       "    </tr>\n",
       "    <tr>\n",
       "      <th>9956</th>\n",
       "      <td>9957</td>\n",
       "      <td>15707861</td>\n",
       "      <td>Nucci</td>\n",
       "      <td>520</td>\n",
       "      <td>France</td>\n",
       "      <td>Female</td>\n",
       "      <td>46</td>\n",
       "      <td>NaN</td>\n",
       "      <td>85216.61</td>\n",
       "      <td>1</td>\n",
       "      <td>1</td>\n",
       "      <td>0</td>\n",
       "      <td>117369.52</td>\n",
       "      <td>1</td>\n",
       "    </tr>\n",
       "    <tr>\n",
       "      <th>9964</th>\n",
       "      <td>9965</td>\n",
       "      <td>15642785</td>\n",
       "      <td>Douglas</td>\n",
       "      <td>479</td>\n",
       "      <td>France</td>\n",
       "      <td>Male</td>\n",
       "      <td>34</td>\n",
       "      <td>NaN</td>\n",
       "      <td>117593.48</td>\n",
       "      <td>2</td>\n",
       "      <td>0</td>\n",
       "      <td>0</td>\n",
       "      <td>113308.29</td>\n",
       "      <td>0</td>\n",
       "    </tr>\n",
       "    <tr>\n",
       "      <th>9985</th>\n",
       "      <td>9986</td>\n",
       "      <td>15586914</td>\n",
       "      <td>Nepean</td>\n",
       "      <td>659</td>\n",
       "      <td>France</td>\n",
       "      <td>Male</td>\n",
       "      <td>36</td>\n",
       "      <td>NaN</td>\n",
       "      <td>123841.49</td>\n",
       "      <td>2</td>\n",
       "      <td>1</td>\n",
       "      <td>0</td>\n",
       "      <td>96833.00</td>\n",
       "      <td>0</td>\n",
       "    </tr>\n",
       "    <tr>\n",
       "      <th>9999</th>\n",
       "      <td>10000</td>\n",
       "      <td>15628319</td>\n",
       "      <td>Walker</td>\n",
       "      <td>792</td>\n",
       "      <td>France</td>\n",
       "      <td>Female</td>\n",
       "      <td>28</td>\n",
       "      <td>NaN</td>\n",
       "      <td>130142.79</td>\n",
       "      <td>1</td>\n",
       "      <td>1</td>\n",
       "      <td>0</td>\n",
       "      <td>38190.78</td>\n",
       "      <td>0</td>\n",
       "    </tr>\n",
       "  </tbody>\n",
       "</table>\n",
       "<p>909 rows × 14 columns</p>\n",
       "</div>"
      ],
      "text/plain": [
       "      RowNumber  CustomerId    Surname  CreditScore Geography  Gender  Age  \\\n",
       "30           31    15589475    Azikiwe          591     Spain  Female   39   \n",
       "48           49    15766205        Yin          550   Germany    Male   38   \n",
       "51           52    15768193  Trevisani          585   Germany    Male   36   \n",
       "53           54    15702298   Parkhill          655   Germany    Male   41   \n",
       "60           61    15651280     Hunter          742   Germany    Male   35   \n",
       "...         ...         ...        ...          ...       ...     ...  ...   \n",
       "9944       9945    15703923    Cameron          744   Germany    Male   41   \n",
       "9956       9957    15707861      Nucci          520    France  Female   46   \n",
       "9964       9965    15642785    Douglas          479    France    Male   34   \n",
       "9985       9986    15586914     Nepean          659    France    Male   36   \n",
       "9999      10000    15628319     Walker          792    France  Female   28   \n",
       "\n",
       "      Tenure    Balance  NumOfProducts  HasCrCard  IsActiveMember  \\\n",
       "30       NaN       0.00              3          1               0   \n",
       "48       NaN  103391.38              1          0               1   \n",
       "51       NaN  146050.97              2          0               0   \n",
       "53       NaN  125561.97              1          0               0   \n",
       "60       NaN  136857.00              1          0               0   \n",
       "...      ...        ...            ...        ...             ...   \n",
       "9944     NaN  190409.34              2          1               1   \n",
       "9956     NaN   85216.61              1          1               0   \n",
       "9964     NaN  117593.48              2          0               0   \n",
       "9985     NaN  123841.49              2          1               0   \n",
       "9999     NaN  130142.79              1          1               0   \n",
       "\n",
       "      EstimatedSalary  Exited  \n",
       "30          140469.38       1  \n",
       "48           90878.13       0  \n",
       "51           86424.57       0  \n",
       "53          164040.94       1  \n",
       "60           84509.57       0  \n",
       "...               ...     ...  \n",
       "9944        138361.48       0  \n",
       "9956        117369.52       1  \n",
       "9964        113308.29       0  \n",
       "9985         96833.00       0  \n",
       "9999         38190.78       0  \n",
       "\n",
       "[909 rows x 14 columns]"
      ]
     },
     "execution_count": 5,
     "metadata": {},
     "output_type": "execute_result"
    }
   ],
   "source": [
    "# посмотрим данные, где Tenure не заполнены\n",
    "\n",
    "data.loc[data['Tenure'].isna()]"
   ]
  },
  {
   "cell_type": "code",
   "execution_count": 6,
   "metadata": {},
   "outputs": [
    {
     "data": {
      "text/plain": [
       "array([ 2.,  1.,  8.,  7.,  4.,  6.,  3., 10.,  5.,  9.,  0.])"
      ]
     },
     "execution_count": 6,
     "metadata": {},
     "output_type": "execute_result"
    }
   ],
   "source": [
    "# удалять данные нельзя, чтоб не потерять другие ценные данные, поэтому необходимо определить категории, к которой мы присвоим эти данные\n",
    "# заменим знаечние NaN медианным значением.\n",
    "\n",
    "# data['Tenure'] = data['Tenure'].fillna(0)\n",
    "#median_tenure = data.groupby('Tenure')['Tenure'].transform('median')\n",
    "data['Tenure'] = data['Tenure'].fillna(data['Tenure'].median())\n",
    "data['Tenure'].unique() # проверим корректно ли заполнены медианные значения."
   ]
  },
  {
   "cell_type": "code",
   "execution_count": 7,
   "metadata": {},
   "outputs": [
    {
     "name": "stdout",
     "output_type": "stream",
     "text": [
      "<class 'pandas.core.frame.DataFrame'>\n",
      "RangeIndex: 10000 entries, 0 to 9999\n",
      "Data columns (total 14 columns):\n",
      " #   Column           Non-Null Count  Dtype  \n",
      "---  ------           --------------  -----  \n",
      " 0   RowNumber        10000 non-null  int64  \n",
      " 1   CustomerId       10000 non-null  int64  \n",
      " 2   Surname          10000 non-null  object \n",
      " 3   CreditScore      10000 non-null  int64  \n",
      " 4   Geography        10000 non-null  object \n",
      " 5   Gender           10000 non-null  object \n",
      " 6   Age              10000 non-null  int64  \n",
      " 7   Tenure           10000 non-null  float64\n",
      " 8   Balance          10000 non-null  float64\n",
      " 9   NumOfProducts    10000 non-null  int64  \n",
      " 10  HasCrCard        10000 non-null  int64  \n",
      " 11  IsActiveMember   10000 non-null  int64  \n",
      " 12  EstimatedSalary  10000 non-null  float64\n",
      " 13  Exited           10000 non-null  int64  \n",
      "dtypes: float64(3), int64(8), object(3)\n",
      "memory usage: 1.1+ MB\n"
     ]
    }
   ],
   "source": [
    "data.info() # проверим заполненны ли данные"
   ]
  },
  {
   "cell_type": "code",
   "execution_count": 8,
   "metadata": {},
   "outputs": [],
   "source": [
    "# удалим лишние признаки, которые не влияют на отток клиентов: CustomerId, Surname \n",
    "\n",
    "data = data.drop(['CustomerId', 'Surname', 'RowNumber'], axis=1)"
   ]
  },
  {
   "cell_type": "code",
   "execution_count": 9,
   "metadata": {},
   "outputs": [
    {
     "data": {
      "text/html": [
       "<div>\n",
       "<style scoped>\n",
       "    .dataframe tbody tr th:only-of-type {\n",
       "        vertical-align: middle;\n",
       "    }\n",
       "\n",
       "    .dataframe tbody tr th {\n",
       "        vertical-align: top;\n",
       "    }\n",
       "\n",
       "    .dataframe thead th {\n",
       "        text-align: right;\n",
       "    }\n",
       "</style>\n",
       "<table border=\"1\" class=\"dataframe\">\n",
       "  <thead>\n",
       "    <tr style=\"text-align: right;\">\n",
       "      <th></th>\n",
       "      <th>CreditScore</th>\n",
       "      <th>Geography</th>\n",
       "      <th>Gender</th>\n",
       "      <th>Age</th>\n",
       "      <th>Tenure</th>\n",
       "      <th>Balance</th>\n",
       "      <th>NumOfProducts</th>\n",
       "      <th>HasCrCard</th>\n",
       "      <th>IsActiveMember</th>\n",
       "      <th>EstimatedSalary</th>\n",
       "      <th>Exited</th>\n",
       "    </tr>\n",
       "  </thead>\n",
       "  <tbody>\n",
       "  </tbody>\n",
       "</table>\n",
       "</div>"
      ],
      "text/plain": [
       "Empty DataFrame\n",
       "Columns: [CreditScore, Geography, Gender, Age, Tenure, Balance, NumOfProducts, HasCrCard, IsActiveMember, EstimatedSalary, Exited]\n",
       "Index: []"
      ]
     },
     "execution_count": 9,
     "metadata": {},
     "output_type": "execute_result"
    }
   ],
   "source": [
    "# проверим наличие дубликатов. Их нет\n",
    "\n",
    "data[data.duplicated()]"
   ]
  },
  {
   "cell_type": "code",
   "execution_count": 10,
   "metadata": {},
   "outputs": [
    {
     "data": {
      "text/plain": [
       "0    7963\n",
       "1    2037\n",
       "Name: Exited, dtype: int64"
      ]
     },
     "execution_count": 10,
     "metadata": {},
     "output_type": "execute_result"
    }
   ],
   "source": [
    "# проверим данные на неявные дубликаты\n",
    "\n",
    "data['CreditScore'].value_counts()\n",
    "data['Geography'].value_counts()\n",
    "data['Gender'].value_counts()\n",
    "data['HasCrCard'].value_counts() # булевые значения\n",
    "data['IsActiveMember'].value_counts() # булевые значения\n",
    "data['Exited'].value_counts() # булевые значения"
   ]
  },
  {
   "cell_type": "code",
   "execution_count": 11,
   "metadata": {},
   "outputs": [
    {
     "data": {
      "text/html": [
       "<div>\n",
       "<style scoped>\n",
       "    .dataframe tbody tr th:only-of-type {\n",
       "        vertical-align: middle;\n",
       "    }\n",
       "\n",
       "    .dataframe tbody tr th {\n",
       "        vertical-align: top;\n",
       "    }\n",
       "\n",
       "    .dataframe thead th {\n",
       "        text-align: right;\n",
       "    }\n",
       "</style>\n",
       "<table border=\"1\" class=\"dataframe\">\n",
       "  <thead>\n",
       "    <tr style=\"text-align: right;\">\n",
       "      <th></th>\n",
       "      <th>CreditScore</th>\n",
       "      <th>Age</th>\n",
       "      <th>Tenure</th>\n",
       "      <th>Balance</th>\n",
       "      <th>NumOfProducts</th>\n",
       "      <th>HasCrCard</th>\n",
       "      <th>IsActiveMember</th>\n",
       "      <th>EstimatedSalary</th>\n",
       "      <th>Exited</th>\n",
       "    </tr>\n",
       "  </thead>\n",
       "  <tbody>\n",
       "    <tr>\n",
       "      <th>count</th>\n",
       "      <td>10000.000000</td>\n",
       "      <td>10000.000000</td>\n",
       "      <td>10000.00000</td>\n",
       "      <td>10000.000000</td>\n",
       "      <td>10000.000000</td>\n",
       "      <td>10000.00000</td>\n",
       "      <td>10000.000000</td>\n",
       "      <td>10000.000000</td>\n",
       "      <td>10000.000000</td>\n",
       "    </tr>\n",
       "    <tr>\n",
       "      <th>mean</th>\n",
       "      <td>650.528800</td>\n",
       "      <td>38.921800</td>\n",
       "      <td>4.99790</td>\n",
       "      <td>76485.889288</td>\n",
       "      <td>1.530200</td>\n",
       "      <td>0.70550</td>\n",
       "      <td>0.515100</td>\n",
       "      <td>100090.239881</td>\n",
       "      <td>0.203700</td>\n",
       "    </tr>\n",
       "    <tr>\n",
       "      <th>std</th>\n",
       "      <td>96.653299</td>\n",
       "      <td>10.487806</td>\n",
       "      <td>2.76001</td>\n",
       "      <td>62397.405202</td>\n",
       "      <td>0.581654</td>\n",
       "      <td>0.45584</td>\n",
       "      <td>0.499797</td>\n",
       "      <td>57510.492818</td>\n",
       "      <td>0.402769</td>\n",
       "    </tr>\n",
       "    <tr>\n",
       "      <th>min</th>\n",
       "      <td>350.000000</td>\n",
       "      <td>18.000000</td>\n",
       "      <td>0.00000</td>\n",
       "      <td>0.000000</td>\n",
       "      <td>1.000000</td>\n",
       "      <td>0.00000</td>\n",
       "      <td>0.000000</td>\n",
       "      <td>11.580000</td>\n",
       "      <td>0.000000</td>\n",
       "    </tr>\n",
       "    <tr>\n",
       "      <th>25%</th>\n",
       "      <td>584.000000</td>\n",
       "      <td>32.000000</td>\n",
       "      <td>3.00000</td>\n",
       "      <td>0.000000</td>\n",
       "      <td>1.000000</td>\n",
       "      <td>0.00000</td>\n",
       "      <td>0.000000</td>\n",
       "      <td>51002.110000</td>\n",
       "      <td>0.000000</td>\n",
       "    </tr>\n",
       "    <tr>\n",
       "      <th>50%</th>\n",
       "      <td>652.000000</td>\n",
       "      <td>37.000000</td>\n",
       "      <td>5.00000</td>\n",
       "      <td>97198.540000</td>\n",
       "      <td>1.000000</td>\n",
       "      <td>1.00000</td>\n",
       "      <td>1.000000</td>\n",
       "      <td>100193.915000</td>\n",
       "      <td>0.000000</td>\n",
       "    </tr>\n",
       "    <tr>\n",
       "      <th>75%</th>\n",
       "      <td>718.000000</td>\n",
       "      <td>44.000000</td>\n",
       "      <td>7.00000</td>\n",
       "      <td>127644.240000</td>\n",
       "      <td>2.000000</td>\n",
       "      <td>1.00000</td>\n",
       "      <td>1.000000</td>\n",
       "      <td>149388.247500</td>\n",
       "      <td>0.000000</td>\n",
       "    </tr>\n",
       "    <tr>\n",
       "      <th>max</th>\n",
       "      <td>850.000000</td>\n",
       "      <td>92.000000</td>\n",
       "      <td>10.00000</td>\n",
       "      <td>250898.090000</td>\n",
       "      <td>4.000000</td>\n",
       "      <td>1.00000</td>\n",
       "      <td>1.000000</td>\n",
       "      <td>199992.480000</td>\n",
       "      <td>1.000000</td>\n",
       "    </tr>\n",
       "  </tbody>\n",
       "</table>\n",
       "</div>"
      ],
      "text/plain": [
       "        CreditScore           Age       Tenure        Balance  NumOfProducts  \\\n",
       "count  10000.000000  10000.000000  10000.00000   10000.000000   10000.000000   \n",
       "mean     650.528800     38.921800      4.99790   76485.889288       1.530200   \n",
       "std       96.653299     10.487806      2.76001   62397.405202       0.581654   \n",
       "min      350.000000     18.000000      0.00000       0.000000       1.000000   \n",
       "25%      584.000000     32.000000      3.00000       0.000000       1.000000   \n",
       "50%      652.000000     37.000000      5.00000   97198.540000       1.000000   \n",
       "75%      718.000000     44.000000      7.00000  127644.240000       2.000000   \n",
       "max      850.000000     92.000000     10.00000  250898.090000       4.000000   \n",
       "\n",
       "         HasCrCard  IsActiveMember  EstimatedSalary        Exited  \n",
       "count  10000.00000    10000.000000     10000.000000  10000.000000  \n",
       "mean       0.70550        0.515100    100090.239881      0.203700  \n",
       "std        0.45584        0.499797     57510.492818      0.402769  \n",
       "min        0.00000        0.000000        11.580000      0.000000  \n",
       "25%        0.00000        0.000000     51002.110000      0.000000  \n",
       "50%        1.00000        1.000000    100193.915000      0.000000  \n",
       "75%        1.00000        1.000000    149388.247500      0.000000  \n",
       "max        1.00000        1.000000    199992.480000      1.000000  "
      ]
     },
     "execution_count": 11,
     "metadata": {},
     "output_type": "execute_result"
    }
   ],
   "source": [
    "# выгрузим статистические данные количественных признаков на предмент анамалий и проверим все ли внесенные правки внесены\n",
    "\n",
    "data.describe() "
   ]
  },
  {
   "cell_type": "markdown",
   "metadata": {},
   "source": [
    "## Вывод\n",
    "В предоставленных данных имелись пропуски порядка 9% в данных Tenure (сколько лет клиент является клиентом банка). Данные пропуски могли возникнуть из-за технической ошибки или человеческого фактора. Количество пропусков большое (9%), поэтому удалять нельзя, чтоб не потерять часть данных для исследований. В связи с этим предположим одну из допустимых версий, что при заполнии данных новых клиентов, данный пункт был пропущен, поэтому присвоим всем NaN медианное значение, т.е. это будут новые клиенты банка.\n",
    "В данных имеются булевые значения в колонках 'HasCrCard', 'IsActiveMember', 'Exited'\n",
    "Дубликатов явных и неявных в данных выявлено не было.\n",
    "В названии колонок используются разные регистры написания. Но в связи с тем, что названия сложносочиненные, то было принято решение оставить написание изначальное для лучшей читабельности. Также были удалены 3 колонки, в которых нет необходимости для анализа"
   ]
  },
  {
   "cell_type": "markdown",
   "metadata": {},
   "source": [
    "## Исследование задачи"
   ]
  },
  {
   "cell_type": "code",
   "execution_count": 12,
   "metadata": {},
   "outputs": [
    {
     "data": {
      "text/plain": [
       "0    7963\n",
       "1    2037\n",
       "Name: Exited, dtype: int64"
      ]
     },
     "execution_count": 12,
     "metadata": {},
     "output_type": "execute_result"
    }
   ],
   "source": [
    "# проверим кол-во имеющегося оттока клиентов\n",
    "data['Exited'].value_counts()"
   ]
  },
  {
   "cell_type": "code",
   "execution_count": 13,
   "metadata": {},
   "outputs": [
    {
     "data": {
      "image/png": "[encoded data removed]",
      "text/plain": [
       "<Figure size 144x144 with 1 Axes>"
      ]
     },
     "metadata": {
      "needs_background": "light"
     },
     "output_type": "display_data"
    }
   ],
   "source": [
    "# построим диаграму для визуального восприятия \n",
    " \n",
    "data['Exited'].value_counts().plot(kind='bar', figsize=(2,2));\n",
    "\n",
    "#более 20% оттока - это много. Соотношение оставшихся к ушедшим 1 к 4, что говорит о дисбалансе в данных"
   ]
  },
  {
   "cell_type": "code",
   "execution_count": 14,
   "metadata": {},
   "outputs": [],
   "source": [
    "# создадим таблицу с ушедшими клиентами\n",
    "\n",
    "exited_1 = data[data['Exited']==1]"
   ]
  },
  {
   "cell_type": "code",
   "execution_count": 15,
   "metadata": {},
   "outputs": [
    {
     "data": {
      "image/png": "[encoded data removed]",
      "text/plain": [
       "<Figure size 144x144 with 1 Axes>"
      ]
     },
     "metadata": {
      "needs_background": "light"
     },
     "output_type": "display_data"
    }
   ],
   "source": [
    "#  построим диаграммы зависимости оттока клиентов от признака.\n",
    "\n",
    "exited_1['Geography'].value_counts().plot(kind='bar', figsize=(2,2));\n"
   ]
  },
  {
   "cell_type": "code",
   "execution_count": 16,
   "metadata": {},
   "outputs": [
    {
     "data": {
      "image/png": "[encoded data removed]",
      "text/plain": [
       "<Figure size 144x144 with 1 Axes>"
      ]
     },
     "metadata": {
      "needs_background": "light"
     },
     "output_type": "display_data"
    }
   ],
   "source": [
    "exited_1['Gender'].value_counts().plot(kind='bar', figsize=(2,2));"
   ]
  },
  {
   "cell_type": "code",
   "execution_count": 17,
   "metadata": {},
   "outputs": [
    {
     "data": {
      "text/plain": [
       "<AxesSubplot:>"
      ]
     },
     "execution_count": 17,
     "metadata": {},
     "output_type": "execute_result"
    },
    {
     "data": {
      "image/png": "[encoded data removed]",
      "text/plain": [
       "<Figure size 1440x360 with 1 Axes>"
      ]
     },
     "metadata": {
      "needs_background": "light"
     },
     "output_type": "display_data"
    }
   ],
   "source": [
    "exited_1['Age'].hist(figsize=(20,5))\n"
   ]
  },
  {
   "cell_type": "code",
   "execution_count": 18,
   "metadata": {},
   "outputs": [
    {
     "data": {
      "text/plain": [
       "<AxesSubplot:>"
      ]
     },
     "execution_count": 18,
     "metadata": {},
     "output_type": "execute_result"
    },
    {
     "data": {
      "image/png": "[encoded data removed]",
      "text/plain": [
       "<Figure size 1440x360 with 1 Axes>"
      ]
     },
     "metadata": {
      "needs_background": "light"
     },
     "output_type": "display_data"
    }
   ],
   "source": [
    "exited_1['Tenure'].hist(figsize=(20,5))\n"
   ]
  },
  {
   "cell_type": "code",
   "execution_count": 19,
   "metadata": {},
   "outputs": [
    {
     "data": {
      "text/plain": [
       "<AxesSubplot:>"
      ]
     },
     "execution_count": 19,
     "metadata": {},
     "output_type": "execute_result"
    },
    {
     "data": {
      "image/png": "[encoded data removed]",
      "text/plain": [
       "<Figure size 1440x360 with 1 Axes>"
      ]
     },
     "metadata": {
      "needs_background": "light"
     },
     "output_type": "display_data"
    }
   ],
   "source": [
    "exited_1['Balance'].hist(figsize=(20,5))\n"
   ]
  },
  {
   "cell_type": "code",
   "execution_count": 20,
   "metadata": {},
   "outputs": [
    {
     "data": {
      "text/plain": [
       "<AxesSubplot:>"
      ]
     },
     "execution_count": 20,
     "metadata": {},
     "output_type": "execute_result"
    },
    {
     "data": {
      "image/png": "[encoded data removed]",
      "text/plain": [
       "<Figure size 360x216 with 1 Axes>"
      ]
     },
     "metadata": {
      "needs_background": "light"
     },
     "output_type": "display_data"
    }
   ],
   "source": [
    "exited_1['NumOfProducts'].hist(figsize=(5,3))"
   ]
  },
  {
   "cell_type": "code",
   "execution_count": 21,
   "metadata": {},
   "outputs": [
    {
     "data": {
      "text/plain": [
       "<AxesSubplot:>"
      ]
     },
     "execution_count": 21,
     "metadata": {},
     "output_type": "execute_result"
    },
    {
     "data": {
      "image/png": "[encoded data removed]",
      "text/plain": [
       "<Figure size 216x144 with 1 Axes>"
      ]
     },
     "metadata": {
      "needs_background": "light"
     },
     "output_type": "display_data"
    }
   ],
   "source": [
    "exited_1['HasCrCard'].hist(figsize=(3,2))"
   ]
  },
  {
   "cell_type": "code",
   "execution_count": 22,
   "metadata": {},
   "outputs": [
    {
     "data": {
      "text/plain": [
       "<AxesSubplot:>"
      ]
     },
     "execution_count": 22,
     "metadata": {},
     "output_type": "execute_result"
    },
    {
     "data": {
      "image/png": "[encoded data removed]",
      "text/plain": [
       "<Figure size 216x144 with 1 Axes>"
      ]
     },
     "metadata": {
      "needs_background": "light"
     },
     "output_type": "display_data"
    }
   ],
   "source": [
    "exited_1['IsActiveMember'].hist(figsize=(3,2))"
   ]
  },
  {
   "cell_type": "code",
   "execution_count": 23,
   "metadata": {},
   "outputs": [
    {
     "data": {
      "text/plain": [
       "<AxesSubplot:>"
      ]
     },
     "execution_count": 23,
     "metadata": {},
     "output_type": "execute_result"
    },
    {
     "data": {
      "image/png": "[encoded data removed]",
      "text/plain": [
       "<Figure size 1440x360 with 1 Axes>"
      ]
     },
     "metadata": {
      "needs_background": "light"
     },
     "output_type": "display_data"
    }
   ],
   "source": [
    "exited_1['EstimatedSalary'].hist(figsize=(20,5))"
   ]
  },
  {
   "cell_type": "code",
   "execution_count": 24,
   "metadata": {},
   "outputs": [
    {
     "data": {
      "text/plain": [
       "1    5084\n",
       "2    4590\n",
       "3     266\n",
       "4      60\n",
       "Name: NumOfProducts, dtype: int64"
      ]
     },
     "execution_count": 24,
     "metadata": {},
     "output_type": "execute_result"
    }
   ],
   "source": [
    "# Исследуем категориальные признаки. И приведем их к необходимому формату\n",
    " \n",
    "data['Geography'].value_counts() # три значения (France, Germany, Spain). Сделаем прямое кодирование путем OHE\n",
    "data['Gender'].value_counts()# два значения (М и F). Переведем их к булевым значениям М-1, F-0\n",
    "data['NumOfProducts'].value_counts()# 4 значения (1,2,3,4). Сделаем прямое кодирование путем OHE\n",
    "\n"
   ]
  },
  {
   "cell_type": "code",
   "execution_count": 25,
   "metadata": {},
   "outputs": [
    {
     "data": {
      "text/html": [
       "<div>\n",
       "<style scoped>\n",
       "    .dataframe tbody tr th:only-of-type {\n",
       "        vertical-align: middle;\n",
       "    }\n",
       "\n",
       "    .dataframe tbody tr th {\n",
       "        vertical-align: top;\n",
       "    }\n",
       "\n",
       "    .dataframe thead th {\n",
       "        text-align: right;\n",
       "    }\n",
       "</style>\n",
       "<table border=\"1\" class=\"dataframe\">\n",
       "  <thead>\n",
       "    <tr style=\"text-align: right;\">\n",
       "      <th></th>\n",
       "      <th>CreditScore</th>\n",
       "      <th>Age</th>\n",
       "      <th>Tenure</th>\n",
       "      <th>Balance</th>\n",
       "      <th>NumOfProducts</th>\n",
       "      <th>HasCrCard</th>\n",
       "      <th>IsActiveMember</th>\n",
       "      <th>EstimatedSalary</th>\n",
       "      <th>Exited</th>\n",
       "      <th>Geography_Germany</th>\n",
       "      <th>Geography_Spain</th>\n",
       "      <th>Gender_Male</th>\n",
       "    </tr>\n",
       "  </thead>\n",
       "  <tbody>\n",
       "    <tr>\n",
       "      <th>9995</th>\n",
       "      <td>771</td>\n",
       "      <td>39</td>\n",
       "      <td>5.0</td>\n",
       "      <td>0.00</td>\n",
       "      <td>2</td>\n",
       "      <td>1</td>\n",
       "      <td>0</td>\n",
       "      <td>96270.64</td>\n",
       "      <td>0</td>\n",
       "      <td>0</td>\n",
       "      <td>0</td>\n",
       "      <td>1</td>\n",
       "    </tr>\n",
       "    <tr>\n",
       "      <th>9996</th>\n",
       "      <td>516</td>\n",
       "      <td>35</td>\n",
       "      <td>10.0</td>\n",
       "      <td>57369.61</td>\n",
       "      <td>1</td>\n",
       "      <td>1</td>\n",
       "      <td>1</td>\n",
       "      <td>101699.77</td>\n",
       "      <td>0</td>\n",
       "      <td>0</td>\n",
       "      <td>0</td>\n",
       "      <td>1</td>\n",
       "    </tr>\n",
       "    <tr>\n",
       "      <th>9997</th>\n",
       "      <td>709</td>\n",
       "      <td>36</td>\n",
       "      <td>7.0</td>\n",
       "      <td>0.00</td>\n",
       "      <td>1</td>\n",
       "      <td>0</td>\n",
       "      <td>1</td>\n",
       "      <td>42085.58</td>\n",
       "      <td>1</td>\n",
       "      <td>0</td>\n",
       "      <td>0</td>\n",
       "      <td>0</td>\n",
       "    </tr>\n",
       "    <tr>\n",
       "      <th>9998</th>\n",
       "      <td>772</td>\n",
       "      <td>42</td>\n",
       "      <td>3.0</td>\n",
       "      <td>75075.31</td>\n",
       "      <td>2</td>\n",
       "      <td>1</td>\n",
       "      <td>0</td>\n",
       "      <td>92888.52</td>\n",
       "      <td>1</td>\n",
       "      <td>1</td>\n",
       "      <td>0</td>\n",
       "      <td>1</td>\n",
       "    </tr>\n",
       "    <tr>\n",
       "      <th>9999</th>\n",
       "      <td>792</td>\n",
       "      <td>28</td>\n",
       "      <td>5.0</td>\n",
       "      <td>130142.79</td>\n",
       "      <td>1</td>\n",
       "      <td>1</td>\n",
       "      <td>0</td>\n",
       "      <td>38190.78</td>\n",
       "      <td>0</td>\n",
       "      <td>0</td>\n",
       "      <td>0</td>\n",
       "      <td>0</td>\n",
       "    </tr>\n",
       "  </tbody>\n",
       "</table>\n",
       "</div>"
      ],
      "text/plain": [
       "      CreditScore  Age  Tenure    Balance  NumOfProducts  HasCrCard  \\\n",
       "9995          771   39     5.0       0.00              2          1   \n",
       "9996          516   35    10.0   57369.61              1          1   \n",
       "9997          709   36     7.0       0.00              1          0   \n",
       "9998          772   42     3.0   75075.31              2          1   \n",
       "9999          792   28     5.0  130142.79              1          1   \n",
       "\n",
       "      IsActiveMember  EstimatedSalary  Exited  Geography_Germany  \\\n",
       "9995               0         96270.64       0                  0   \n",
       "9996               1        101699.77       0                  0   \n",
       "9997               1         42085.58       1                  0   \n",
       "9998               0         92888.52       1                  1   \n",
       "9999               0         38190.78       0                  0   \n",
       "\n",
       "      Geography_Spain  Gender_Male  \n",
       "9995                0            1  \n",
       "9996                0            1  \n",
       "9997                0            0  \n",
       "9998                0            1  \n",
       "9999                0            0  "
      ]
     },
     "execution_count": 25,
     "metadata": {},
     "output_type": "execute_result"
    }
   ],
   "source": [
    "# осуществим прямое кодирование категориальных признаков\n",
    "# чтоб избежать дамми-ловушек, удалим колонки первых данных\n",
    "\n",
    "data=pd.get_dummies(data, drop_first=True)\n",
    "data.tail()"
   ]
  },
  {
   "cell_type": "code",
   "execution_count": 26,
   "metadata": {},
   "outputs": [
    {
     "name": "stdout",
     "output_type": "stream",
     "text": [
      "Обучающаяся выборка 4999\n",
      "Валидационная выборка 2501\n",
      "Тестовая выборка 2500\n"
     ]
    }
   ],
   "source": [
    "# Разобьем данные на две выборки (обучающую и тестовую 25%)\n",
    "data_train_total, data_test = train_test_split(data, test_size=0.25, random_state=12345)\n",
    "\n",
    "# Разобьем обучающие данные на две выборки (обучающую и валидационную 25% от общего количества)\n",
    "data_train, data_valid = train_test_split(data_train_total, test_size=0.3334, random_state=12345)\n",
    "\n",
    "# проверим, верно ли разбились данные\n",
    "print('Обучающаяся выборка', len(data_train))\n",
    "print('Валидационная выборка', len(data_valid))\n",
    "print('Тестовая выборка', len(data_test))"
   ]
  },
  {
   "cell_type": "code",
   "execution_count": 27,
   "metadata": {},
   "outputs": [],
   "source": [
    "# разобьем таблицы на целеной признак и остальные признаки\n",
    "\n",
    "features_train = data_train.drop('Exited', axis=1)\n",
    "target_train = data_train['Exited']\n",
    "features_valid = data_valid.drop('Exited', axis=1)\n",
    "target_valid = data_valid['Exited']\n",
    "features_test = data_test.drop('Exited', axis=1)\n",
    "target_test = data_test['Exited']"
   ]
  },
  {
   "cell_type": "code",
   "execution_count": 28,
   "metadata": {},
   "outputs": [],
   "source": [
    "# стандартизуем данные для выборок по конкретным признакам, обучив модель на трейне\n",
    "\n",
    "numeric = ['CreditScore', 'Age', 'Tenure', 'Balance', 'NumOfProducts', 'EstimatedSalary']\n",
    "scaler = StandardScaler() \n",
    "scaler.fit(features_train[numeric])\n",
    "\n",
    "features_train_scaled = scaler.transform(features_train[numeric]) \n",
    "features_valid_scaled = scaler.transform(features_valid[numeric]) \n",
    "features_test_scaled = scaler.transform(features_test[numeric]) \n",
    "\n",
    "\n",
    "\n"
   ]
  },
  {
   "cell_type": "code",
   "execution_count": 29,
   "metadata": {},
   "outputs": [],
   "source": [
    "#from sklearn.preprocessing import OneHotEncoder\n",
    "#onehotencoder = OneHotEncoder()\n",
    "#data_new = onehotencoder.fit_transform(data.values)\n",
    "#pd.DataFrame(data_new, columns=onehotencoder.categories).head(10)"
   ]
  },
  {
   "cell_type": "code",
   "execution_count": 30,
   "metadata": {},
   "outputs": [
    {
     "name": "stdout",
     "output_type": "stream",
     "text": [
      "Accuracy лучшей модели Дерево решений: 0.8560575769692124, глубина - 4\n",
      "f1: 0.5287958115183246\n",
      "auc_roc: 0.829617651143872\n"
     ]
    }
   ],
   "source": [
    "# проверим вариант модели на обучающей выборке- Дерево решений\n",
    "# зададим гиперпараметры, которые позволят ограничить обучение модели\n",
    "\n",
    "best_model = None\n",
    "best_result = 0\n",
    "\n",
    "for depth in range(1, 5):\n",
    "    model = DecisionTreeClassifier(random_state=12345, criterion='gini', min_samples_split=2, min_samples_leaf=1, max_depth = depth) # обучим модель с заданной глубиной дерева\t\n",
    "    model.fit(features_train, target_train) # обучим модель\t\n",
    "    predictions_valid = model.predict(features_valid) # получим предсказания модели\t\n",
    "    result = accuracy_score(target_valid, predictions_valid) # посчитаем качество модели\t\n",
    "    if result > best_result:\n",
    "        best_model = model\n",
    "        best_result = result\n",
    "\n",
    "probabilities_valid = model.predict_proba(features_valid)        \n",
    "probabilities_one_valid = probabilities_valid[:, 1]\n",
    "auc_roc = roc_auc_score(target_valid, probabilities_one_valid)\n",
    "    \n",
    "print(f'Accuracy лучшей модели Дерево решений: {best_result}, глубина - {depth}') \n",
    "print('f1:', f1_score(target_valid, predictions_valid))\n",
    "print('auc_roc:', auc_roc)"
   ]
  },
  {
   "cell_type": "code",
   "execution_count": 31,
   "metadata": {},
   "outputs": [
    {
     "name": "stdout",
     "output_type": "stream",
     "text": [
      "Accuracy лучшей модели Случайный лес: 0.8704518192722911, кол-во деревьев - 200, глубина - 21\n",
      "f1: 0.5854858548585486\n",
      "auc_roc: 0.8647101132958988\n"
     ]
    }
   ],
   "source": [
    "# проверим вариант модели - Случайный лес\n",
    "\n",
    "best_model = None\n",
    "best_result = 0\n",
    "for est in range(50, 201, 10):\n",
    "    for depth in range(3, 22, 3):\n",
    "        model = RandomForestClassifier(random_state=12345, criterion='gini', min_samples_split=2, min_samples_leaf=1, max_depth = depth, n_estimators = est) # обучим модель с заданной кол-ом деревьев\t\n",
    "        model.fit(features_train, target_train) # обучим модель\n",
    "        predictions_valid = model.predict(features_valid) # получим предсказания модели\n",
    "        result = model.score(features_valid, target_valid) # посчитаем качество модели\n",
    "        if result > best_result:\n",
    "            best_model = model\n",
    "            best_result = result\n",
    "            \n",
    "probabilities_valid = model.predict_proba(features_valid)        \n",
    "probabilities_one_valid = probabilities_valid[:, 1]\n",
    "auc_roc = roc_auc_score(target_valid, probabilities_one_valid)\n",
    "     \n",
    "print(f'Accuracy лучшей модели Случайный лес: {best_result}, кол-во деревьев - {est}, глубина - {depth}')\n",
    "print('f1:', f1_score(target_valid, predictions_valid))\n",
    "print('auc_roc:', auc_roc)"
   ]
  },
  {
   "cell_type": "code",
   "execution_count": 32,
   "metadata": {},
   "outputs": [
    {
     "name": "stdout",
     "output_type": "stream",
     "text": [
      "Accuracy лучшей модели Логическая регрессия: 0.7956817273090764\n",
      "f1: 0.5854858548585486\n",
      "auc_roc: 0.6781830988710094\n"
     ]
    }
   ],
   "source": [
    "# проверим вариант модели - Логическая регрессия\n",
    "\n",
    "model = LogisticRegression(random_state=12345, solver='lbfgs', max_iter=1000) \n",
    "model.fit(features_train, target_train) \n",
    "model.predict(features_valid) \n",
    "model.score(features_valid, target_valid) \n",
    "\n",
    "probabilities_valid = model.predict_proba(features_valid)        \n",
    "probabilities_one_valid = probabilities_valid[:, 1]\n",
    "auc_roc = roc_auc_score(target_valid, probabilities_one_valid)\n",
    "\n",
    "\n",
    "print(\"Accuracy лучшей модели Логическая регрессия:\", model.score(features_valid, target_valid))\n",
    "print('f1:', f1_score(target_valid, predictions_valid))\n",
    "print('auc_roc:', auc_roc)"
   ]
  },
  {
   "cell_type": "markdown",
   "metadata": {},
   "source": [
    "Вывод:\n",
    "В связи  с тем, что практически все признаки у нас категориальные нет возможности проверить корреляцию.\n",
    "Но построив диаграмму зависимости оттока клиентов от признака, можно заключить следующее:\n",
    "в основном отток происходит в Германии и Франции, в два раза меньше показали в Испании. Женщины отказываются чаще от услуг банка. Возрастной интервал 38-51 лет. Основные пики отказа на 1 и 10 годе обслуживания. Баланс на момент отказа 0-50 тыс, 100-150тыс. В основном отказники используют один тип продукта. Не наблюдается активность клиента\n",
    "Наличие кредитной карты и уровень заработной платы не влияет на уровень оттока\n",
    "\n",
    "Проведя обучение тремя методами на данных с дисбалансом наилучший результат показал метод Случайный лес - кол-во правильных ответов 87%, f1-мера - 0,59, auc_roc составляет 87% вероятности попадания в класс"
   ]
  },
  {
   "cell_type": "markdown",
   "metadata": {},
   "source": [
    "## Борьба с дисбалансом"
   ]
  },
  {
   "cell_type": "markdown",
   "metadata": {},
   "source": [
    "При исследовании данных мы видели, что количество признаков везде разное\n",
    "Произведем 2 варианта борьбы с дисбалансом: увеличение выборки upsample и уменьшение выборки downsample"
   ]
  },
  {
   "cell_type": "code",
   "execution_count": 33,
   "metadata": {},
   "outputs": [
    {
     "name": "stdout",
     "output_type": "stream",
     "text": [
      "(7990, 11)\n",
      "(7990,)\n"
     ]
    }
   ],
   "source": [
    "# создадим функцию для повышение количества значений меньшего класса к преобладающему\n",
    "\n",
    "def upsample(features, target, repeat):\n",
    "    features_zeros = features_train[target_train == 0]\n",
    "    features_ones = features_train[target_train == 1]\n",
    "    target_zeros = target_train[target_train == 0]\n",
    "    target_ones = target_train[target_train == 1]\n",
    "    \n",
    "    features_upsampled = pd.concat([features_zeros] + [features_ones] * repeat)\n",
    "    target_upsampled = pd.concat([target_zeros] + [target_ones] * repeat)\n",
    "    \n",
    "    features_upsampled = shuffle(features_upsampled, random_state=12345)\n",
    "    target_upsampled = shuffle(target_upsampled, random_state=12345)\n",
    "    \n",
    "    return features_upsampled, target_upsampled \n",
    "    \n",
    "features_upsampled, target_upsampled = upsample(features_train, target_train, 4)\n",
    "\n",
    "print(features_upsampled.shape)\n",
    "print(target_upsampled.shape)\n"
   ]
  },
  {
   "cell_type": "code",
   "execution_count": 34,
   "metadata": {},
   "outputs": [
    {
     "name": "stdout",
     "output_type": "stream",
     "text": [
      "Accuracy лучшей модели Дерево решений: 0.8240703718512595, глубина - 4\n",
      "f1: 0.5436893203883495\n",
      "auc_roc: 0.824925593761781\n"
     ]
    }
   ],
   "source": [
    "# проверим вариант модели на обучающей выборке- Дерево решений\n",
    "# зададим гиперпараметры, которые позволят ограничить обучение модели\n",
    "\n",
    "best_model = None\n",
    "best_result = 0\n",
    "\n",
    "for depth in range(1, 5):\n",
    "    model = DecisionTreeClassifier(random_state=12345, criterion='gini', min_samples_split=2, min_samples_leaf=1, max_depth = depth) # обучим модель с заданной глубиной дерева\t\n",
    "    model.fit(features_upsampled, target_upsampled) # обучим модель\t\n",
    "    predictions_valid = model.predict(features_valid) # получим предсказания модели\t\n",
    "    result = accuracy_score(target_valid, predictions_valid) # посчитаем качество модели\t\n",
    "    if result > best_result:\n",
    "        best_model = model\n",
    "        best_result = result\n",
    "\n",
    "probabilities_valid = model.predict_proba(features_valid)        \n",
    "probabilities_one_valid = probabilities_valid[:, 1]\n",
    "auc_roc = roc_auc_score(target_valid, probabilities_one_valid)\n",
    "    \n",
    "print(f'Accuracy лучшей модели Дерево решений: {best_result}, глубина - {depth}') \n",
    "print('f1:', f1_score(target_valid, predictions_valid))\n",
    "print('auc_roc:', auc_roc)"
   ]
  },
  {
   "cell_type": "code",
   "execution_count": 35,
   "metadata": {},
   "outputs": [
    {
     "name": "stdout",
     "output_type": "stream",
     "text": [
      "Accuracy лучшей модели Случайный лес: 0.8620551779288285, кол-во деревьев - 200, глубина - 21\n",
      "f1: 0.6294307196562835\n",
      "auc_roc: 0.8648331316097542\n"
     ]
    }
   ],
   "source": [
    "# проверим вариант модели на обучающей выборке- Случайный лес\n",
    "# зададим гиперпараметры, которые позволят ограничить обучение модели\n",
    "\n",
    "best_model = None\n",
    "best_result = 0\n",
    "for est in range(50, 201, 10):\n",
    "    for depth in range(3, 22, 3):\n",
    "        model = RandomForestClassifier(random_state=12345, criterion='gini', min_samples_split=2, min_samples_leaf=1, max_depth = depth, n_estimators = est) # обучим модель с заданной кол-ом деревьев\t\n",
    "        model.fit(features_upsampled, target_upsampled) # обучим модель\n",
    "        predictions_valid = model.predict(features_valid) # получим предсказания модели\n",
    "        result = model.score(features_valid, target_valid) # посчитаем качество модели\n",
    "        if result > best_result:\n",
    "            best_model = model\n",
    "            best_result = result\n",
    "            \n",
    "probabilities_valid = model.predict_proba(features_valid)        \n",
    "probabilities_one_valid = probabilities_valid[:, 1]\n",
    "auc_roc = roc_auc_score(target_valid, probabilities_one_valid)\n",
    "     \n",
    "print(f'Accuracy лучшей модели Случайный лес: {best_result}, кол-во деревьев - {est}, глубина - {depth}')\n",
    "print('f1:', f1_score(target_valid, predictions_valid))\n",
    "print('auc_roc:', auc_roc)"
   ]
  },
  {
   "cell_type": "code",
   "execution_count": 36,
   "metadata": {},
   "outputs": [
    {
     "name": "stdout",
     "output_type": "stream",
     "text": [
      "Accuracy лучшей модели Логическая регрессия: 0.646141543382647\n",
      "f1: 0.6294307196562835\n",
      "auc_roc: 0.7306067580705967\n"
     ]
    }
   ],
   "source": [
    "# проверим вариант модели на обучающей выборке- Логистическая регрессия\n",
    "# зададим гиперпараметры, которые позволят ограничить обучение модели\n",
    "\n",
    "model = LogisticRegression(random_state=12345, solver='liblinear') \n",
    "model.fit(features_upsampled, target_upsampled) \n",
    "model.predict(features_valid) \n",
    "model.score(features_valid, target_valid) \n",
    "\n",
    "probabilities_valid = model.predict_proba(features_valid)        \n",
    "probabilities_one_valid = probabilities_valid[:, 1]\n",
    "auc_roc = roc_auc_score(target_valid, probabilities_one_valid)\n",
    "\n",
    "\n",
    "print(\"Accuracy лучшей модели Логическая регрессия:\", model.score(features_valid, target_valid))\n",
    "print('f1:', f1_score(target_valid, predictions_valid))\n",
    "print('auc_roc:', auc_roc)"
   ]
  },
  {
   "cell_type": "code",
   "execution_count": 37,
   "metadata": {},
   "outputs": [
    {
     "name": "stdout",
     "output_type": "stream",
     "text": [
      "(1997, 11)\n",
      "(1997,)\n"
     ]
    }
   ],
   "source": [
    "# создадим функцию для понижения количества значений большего класса к дефицитному\n",
    "\n",
    "def downsample(features, target, fraction):\n",
    "    features_zeros = features[target == 0]\n",
    "    features_ones = features[target == 1]\n",
    "    target_zeros = target[target == 0]\n",
    "    target_ones = target[target == 1]\n",
    "    \n",
    "    features_downsampled = pd.concat([features_zeros.sample(frac = fraction, random_state=12345)] + [features_ones])\n",
    "    target_downsampled = pd.concat([target_zeros.sample(frac = fraction, random_state=12345)] + [target_ones])\n",
    "    features_downsampled = shuffle(features_downsampled, random_state=12345)\n",
    "    target_downsampled = shuffle(target_downsampled, random_state=12345)\n",
    "    \n",
    "    return features_downsampled, target_downsampled\n",
    "\n",
    "features_downsampled, target_downsampled = downsample(features_train, target_train, 0.25)\n",
    "\n",
    "print(features_downsampled.shape)\n",
    "print(target_downsampled.shape)\n"
   ]
  },
  {
   "cell_type": "code",
   "execution_count": 38,
   "metadata": {},
   "outputs": [
    {
     "name": "stdout",
     "output_type": "stream",
     "text": [
      "Accuracy лучшей модели Дерево решений: 0.8144742103158736, глубина - 4\n",
      "f1: 0.5555555555555556\n",
      "auc_roc: 0.825747534673307\n"
     ]
    }
   ],
   "source": [
    "# проверим вариант модели на обучающей выборке- Дерево решений\n",
    "# зададим гиперпараметры, которые позволят ограничить обучение модели\n",
    "\n",
    "best_model = None\n",
    "best_result = 0\n",
    "\n",
    "for depth in range(1, 5):\n",
    "    model = DecisionTreeClassifier(random_state=12345, criterion='gini', min_samples_split=2, min_samples_leaf=1, max_depth = depth) # обучим модель с заданной глубиной дерева\t\n",
    "    model.fit(features_downsampled, target_downsampled) # обучим модель\n",
    "    predictions_valid = model.predict(features_valid) # получим предсказания модели\n",
    "    result = accuracy_score(target_valid, predictions_valid) # посчитаем качество модели\n",
    "    if result > best_result:\n",
    "        best_model = model\n",
    "        best_result = result\n",
    "\n",
    "probabilities_valid = model.predict_proba(features_valid)        \n",
    "probabilities_one_valid = probabilities_valid[:, 1]\n",
    "auc_roc = roc_auc_score(target_valid, probabilities_one_valid)\n",
    "    \n",
    "print(f'Accuracy лучшей модели Дерево решений: {best_result}, глубина - {depth}') \n",
    "print('f1:', f1_score(target_valid, predictions_valid))\n",
    "print('auc_roc:', auc_roc)"
   ]
  },
  {
   "cell_type": "code",
   "execution_count": 39,
   "metadata": {},
   "outputs": [
    {
     "name": "stdout",
     "output_type": "stream",
     "text": [
      "Accuracy лучшей модели Случайный лес: 0.7964814074370252, кол-во деревьев - 200, глубина - 21\n",
      "f1: 0.5875370919881305\n",
      "auc_roc: 0.8636163415940792\n"
     ]
    }
   ],
   "source": [
    "# проверим вариант модели на обучающей выборке- Случайный лес\n",
    "# зададим гиперпараметры, которые позволят ограничить обучение модели\n",
    "\n",
    "best_model = None\n",
    "best_result = 0\n",
    "for est in range(50, 201, 10):\n",
    "    for depth in range(3, 22, 3):\n",
    "        model = RandomForestClassifier(random_state=12345, criterion='gini', min_samples_split=2, min_samples_leaf=1, max_depth = depth, n_estimators = est) # обучим модель с заданной кол-ом деревьев\t\n",
    "        model.fit(features_downsampled, target_downsampled) # обучим модель\n",
    "        predictions_valid = model.predict(features_valid) # получим предсказания модели\n",
    "        result = model.score(features_valid, target_valid) # посчитаем качество модели\n",
    "        if result > best_result:\n",
    "            best_model = model\n",
    "            best_result = result\n",
    "            \n",
    "probabilities_valid = model.predict_proba(features_valid)        \n",
    "probabilities_one_valid = probabilities_valid[:, 1]\n",
    "auc_roc = roc_auc_score(target_valid, probabilities_one_valid)\n",
    "     \n",
    "print(f'Accuracy лучшей модели Случайный лес: {best_result}, кол-во деревьев - {est}, глубина - {depth}')\n",
    "print('f1:', f1_score(target_valid, predictions_valid))\n",
    "print('auc_roc:', auc_roc)"
   ]
  },
  {
   "cell_type": "code",
   "execution_count": 40,
   "metadata": {},
   "outputs": [
    {
     "name": "stdout",
     "output_type": "stream",
     "text": [
      "Accuracy лучшей модели Логическая регрессия: 0.6453418632546981\n",
      "f1: 0.5875370919881305\n",
      "auc_roc: 0.7318944820333736\n"
     ]
    }
   ],
   "source": [
    "model = LogisticRegression(random_state=12345, solver='liblinear') \n",
    "model.fit(features_downsampled, target_downsampled) \n",
    "model.predict(features_valid) \n",
    "model.score(features_valid, target_valid) \n",
    "\n",
    "probabilities_valid = model.predict_proba(features_valid)        \n",
    "probabilities_one_valid = probabilities_valid[:, 1]\n",
    "auc_roc = roc_auc_score(target_valid, probabilities_one_valid)\n",
    "\n",
    "\n",
    "print(\"Accuracy лучшей модели Логическая регрессия:\", model.score(features_valid, target_valid))\n",
    "print('f1:', f1_score(target_valid, predictions_valid))\n",
    "print('auc_roc:', auc_roc)"
   ]
  },
  {
   "cell_type": "markdown",
   "metadata": {},
   "source": [
    "Вывод: Чтоб алгоритм ошибочно не воспринял один признак важнее другого, приведем все признаки к одинаковому количеству при помощи двух способов:\n",
    "- увеличить количество значений меньшего  класса к преобладающему классу при поомщи upsampled\n",
    "- уменьшить количество значений большего класса к дефицитному при помощи downsampled\n",
    "\n",
    "Лучший результат показал upsampled в модели Случайны лес - кол-во правильных ответов 86%, f1-мера - 0,62, auc_roc составляет 86% вероятности попадания в класс"
   ]
  },
  {
   "cell_type": "markdown",
   "metadata": {},
   "source": [
    "## Тестирование модели"
   ]
  },
  {
   "cell_type": "code",
   "execution_count": 41,
   "metadata": {},
   "outputs": [
    {
     "name": "stdout",
     "output_type": "stream",
     "text": [
      "Accuracy лучшей модели Случайный лес: 0.8496\n",
      "f1: 0.6050420168067228\n",
      "auc_roc: 0.8464802263917627\n"
     ]
    }
   ],
   "source": [
    "# проверим вариант модели на тестовой выборке- Случайный лес\n",
    "# зададим гиперпараметры, которые были наилучшими в валидационной выборке\n",
    "\n",
    "model = RandomForestClassifier(random_state=12345, criterion='gini', min_samples_split=2, min_samples_leaf=1, max_depth = 21, n_estimators = 200) # обучим модель с заданной кол-ом деревьев\t\n",
    "model.fit(features_upsampled, target_upsampled) # обучим модель\n",
    "predictions_test = model.predict(features_test) # получим предсказания модели\n",
    "result = model.score(features_test, target_test) # посчитаем качество модели\n",
    "            \n",
    "probabilities_test = model.predict_proba(features_test)        \n",
    "probabilities_one_test = probabilities_test[:, 1]\n",
    "auc_roc = roc_auc_score(target_test, probabilities_one_test)\n",
    "     \n",
    "print(f'Accuracy лучшей модели Случайный лес: {result}')\n",
    "print('f1:', f1_score(target_test, predictions_test))\n",
    "print('auc_roc:', auc_roc)"
   ]
  },
  {
   "cell_type": "code",
   "execution_count": 42,
   "metadata": {},
   "outputs": [],
   "source": [
    "fpr,tpr,thresholds = roc_curve(target_test, probabilities_one_test)"
   ]
  },
  {
   "cell_type": "code",
   "execution_count": 43,
   "metadata": {},
   "outputs": [
    {
     "data": {
      "image/png": "[encoded data removed]",
      "text/plain": [
       "<Figure size 720x432 with 1 Axes>"
      ]
     },
     "metadata": {
      "needs_background": "light"
     },
     "output_type": "display_data"
    }
   ],
   "source": [
    "plt.figure(figsize=(10, 6))\n",
    "plt.plot([0, 1], [0, 1])\n",
    "plt.plot(fpr,tpr)\n",
    "plt.xlabel('FPR')\n",
    "plt.ylabel('TPR')\n",
    "plt.ylim([0.0, 1.0])\n",
    "plt.xlim([0.0, 1.0])\n",
    "plt.title('ROC-Кривая')\n",
    "plt.show()\n"
   ]
  },
  {
   "cell_type": "markdown",
   "metadata": {},
   "source": [
    "Тестовая выборка показала хорошие результаты - кол-во правильных ответов 73%, f1-мера увеличилась 0,68, а auc_roc составляет 84% вероятности попадания в класс и наша модель достаточно сильно отличается от кривой случайных данных."
   ]
  },
  {
   "cell_type": "markdown",
   "metadata": {},
   "source": [
    "ВЫВОД.\n",
    "Для анализа были предоставлены неполные данные. Около 9% пропусков в данных Tenure, которые могли появиться в следствии технического сбоя или человеческого фактора. В связи   тем, что данные удалять нельзя, чтоб не потерять важную информацию для исследования, было принято решение присвоить всем пропускам 0, т.е. присвоить пропускам категорию 0 лет работы с клиентом.\n",
    "\n",
    "Был проведен анализ оттока клиентов по диаграммам, при которых были выявлены ряд закономерностей: в основном отток происходит в Германии и Франции, в два раза меньше показали в Испании. Женщины отказываются чаще от услуг банка. Возрастной интервал 38-51 лет. Основные пики отказа на 1 и 10 годе обслуживания. Баланс на момент отказа 0-50 тыс, 100-150тыс. В основном отказники используют один тип продукта. Не наблюдается активность клиента. Наличие кредитной карты и уровень заработной платы не влияет на уровень оттока.\n",
    "\n",
    "Чтоб постороить модель способную предсказывать поведение клиентов, были построены 3 модели Дерево Решений, Случайный Лес и Логистическая регрессия, при которых наилучший результат показала модель Случайный Лес. Но в связи с тем, что масштаб целевого признака различный 1:4, алгоритм мог некоторые признаки посчитать наиболее важными, чем другие. И чтоб этого избежать мы сбалансировали признаки, продублировав число оттока до размера данных оставшихся клиентов. После построили модель на сбалансированных данных и результат у модели Случайный лес улучшился - кол-во правильных ответов 85%, f1-мера увеличилась 0,60, а auc_roc составляет 85% вероятности попадания в класс и наша модель достаточно сильно отличается от кривой случайных данных."
   ]
  }
 ],
 "metadata": {
  "ExecuteTimeLog": [
   {
    "duration": 56,
    "start_time": "2023-03-05T07:21:30.020Z"
   },
   {
    "duration": 1229,
    "start_time": "2023-03-05T07:22:23.722Z"
   },
   {
    "duration": 143,
    "start_time": "2023-03-05T07:22:26.529Z"
   },
   {
    "duration": 13,
    "start_time": "2023-03-05T07:28:36.867Z"
   },
   {
    "duration": 6,
    "start_time": "2023-03-05T07:32:48.969Z"
   },
   {
    "duration": 66,
    "start_time": "2023-03-05T07:33:57.557Z"
   },
   {
    "duration": 8,
    "start_time": "2023-03-05T07:34:09.414Z"
   },
   {
    "duration": 8,
    "start_time": "2023-03-05T07:34:15.472Z"
   },
   {
    "duration": 9,
    "start_time": "2023-03-05T07:34:50.491Z"
   },
   {
    "duration": 20,
    "start_time": "2023-03-05T07:34:58.648Z"
   },
   {
    "duration": 12,
    "start_time": "2023-03-05T07:35:36.484Z"
   },
   {
    "duration": 8,
    "start_time": "2023-03-05T07:35:55.908Z"
   },
   {
    "duration": 3,
    "start_time": "2023-03-05T07:37:26.930Z"
   },
   {
    "duration": 11,
    "start_time": "2023-03-05T07:37:35.026Z"
   },
   {
    "duration": 6,
    "start_time": "2023-03-05T07:39:49.703Z"
   },
   {
    "duration": 18,
    "start_time": "2023-03-05T07:40:12.338Z"
   },
   {
    "duration": 7,
    "start_time": "2023-03-05T07:45:34.327Z"
   },
   {
    "duration": 2,
    "start_time": "2023-03-05T07:47:10.638Z"
   },
   {
    "duration": 4,
    "start_time": "2023-03-05T07:58:49.684Z"
   },
   {
    "duration": 9,
    "start_time": "2023-03-05T07:59:19.229Z"
   },
   {
    "duration": 13,
    "start_time": "2023-03-05T07:59:45.660Z"
   },
   {
    "duration": 13,
    "start_time": "2023-03-05T08:02:20.271Z"
   },
   {
    "duration": 13,
    "start_time": "2023-03-05T08:02:36.650Z"
   },
   {
    "duration": 13,
    "start_time": "2023-03-05T08:02:50.115Z"
   },
   {
    "duration": 11,
    "start_time": "2023-03-05T08:04:11.205Z"
   },
   {
    "duration": 5,
    "start_time": "2023-03-05T08:04:43.739Z"
   },
   {
    "duration": 6,
    "start_time": "2023-03-05T08:05:07.224Z"
   },
   {
    "duration": 7,
    "start_time": "2023-03-05T08:05:38.275Z"
   },
   {
    "duration": 1429,
    "start_time": "2023-03-05T08:06:37.276Z"
   },
   {
    "duration": 6,
    "start_time": "2023-03-05T08:06:42.515Z"
   },
   {
    "duration": 8,
    "start_time": "2023-03-05T08:07:19.301Z"
   },
   {
    "duration": 8,
    "start_time": "2023-03-05T08:08:05.563Z"
   },
   {
    "duration": 1379,
    "start_time": "2023-03-05T08:08:33.297Z"
   },
   {
    "duration": 8,
    "start_time": "2023-03-05T08:08:38.716Z"
   },
   {
    "duration": 8,
    "start_time": "2023-03-05T08:16:39.215Z"
   },
   {
    "duration": 5,
    "start_time": "2023-03-05T08:30:08.135Z"
   },
   {
    "duration": 7,
    "start_time": "2023-03-05T08:30:34.281Z"
   },
   {
    "duration": 6,
    "start_time": "2023-03-05T08:30:46.308Z"
   },
   {
    "duration": 7,
    "start_time": "2023-03-05T08:30:51.385Z"
   },
   {
    "duration": 6,
    "start_time": "2023-03-05T08:31:00.604Z"
   },
   {
    "duration": 6,
    "start_time": "2023-03-05T08:31:37.871Z"
   },
   {
    "duration": 11,
    "start_time": "2023-03-05T08:35:39.050Z"
   },
   {
    "duration": 7,
    "start_time": "2023-03-05T08:42:37.654Z"
   },
   {
    "duration": 3,
    "start_time": "2023-03-05T08:54:23.455Z"
   },
   {
    "duration": 1210,
    "start_time": "2023-03-05T08:55:26.674Z"
   },
   {
    "duration": 308,
    "start_time": "2023-03-05T08:55:42.697Z"
   },
   {
    "duration": 273,
    "start_time": "2023-03-05T08:55:59.478Z"
   },
   {
    "duration": 327,
    "start_time": "2023-03-05T08:56:27.979Z"
   },
   {
    "duration": 312,
    "start_time": "2023-03-05T08:57:25.492Z"
   },
   {
    "duration": 49,
    "start_time": "2023-03-05T08:57:37.242Z"
   },
   {
    "duration": 306,
    "start_time": "2023-03-05T08:58:47.589Z"
   },
   {
    "duration": 29,
    "start_time": "2023-03-05T09:01:28.431Z"
   },
   {
    "duration": 27,
    "start_time": "2023-03-05T09:01:38.871Z"
   },
   {
    "duration": 40,
    "start_time": "2023-03-05T09:02:11.967Z"
   },
   {
    "duration": 27,
    "start_time": "2023-03-05T09:02:38.926Z"
   },
   {
    "duration": 295,
    "start_time": "2023-03-05T09:04:07.581Z"
   },
   {
    "duration": 527,
    "start_time": "2023-03-05T09:04:33.404Z"
   },
   {
    "duration": 318,
    "start_time": "2023-03-05T09:05:11.615Z"
   },
   {
    "duration": 337,
    "start_time": "2023-03-05T09:05:43.272Z"
   },
   {
    "duration": 281,
    "start_time": "2023-03-05T09:10:25.085Z"
   },
   {
    "duration": 8,
    "start_time": "2023-03-05T09:10:29.457Z"
   },
   {
    "duration": 31,
    "start_time": "2023-03-05T09:11:16.306Z"
   },
   {
    "duration": 357,
    "start_time": "2023-03-05T09:12:38.809Z"
   },
   {
    "duration": 24,
    "start_time": "2023-03-05T09:13:00.641Z"
   },
   {
    "duration": 32,
    "start_time": "2023-03-05T09:16:23.830Z"
   },
   {
    "duration": 17,
    "start_time": "2023-03-05T09:17:24.505Z"
   },
   {
    "duration": 10,
    "start_time": "2023-03-05T09:22:54.214Z"
   },
   {
    "duration": 3,
    "start_time": "2023-03-05T09:23:02.875Z"
   },
   {
    "duration": 39,
    "start_time": "2023-03-05T09:23:08.991Z"
   },
   {
    "duration": 15,
    "start_time": "2023-03-05T09:23:43.929Z"
   },
   {
    "duration": 76,
    "start_time": "2023-03-05T09:25:39.967Z"
   },
   {
    "duration": 13,
    "start_time": "2023-03-05T09:28:38.274Z"
   },
   {
    "duration": 12,
    "start_time": "2023-03-05T09:28:53.598Z"
   },
   {
    "duration": 12,
    "start_time": "2023-03-05T09:29:11.804Z"
   },
   {
    "duration": 17,
    "start_time": "2023-03-05T09:37:24.486Z"
   },
   {
    "duration": 8,
    "start_time": "2023-03-05T09:38:07.186Z"
   },
   {
    "duration": 18,
    "start_time": "2023-03-05T09:38:50.979Z"
   },
   {
    "duration": 17,
    "start_time": "2023-03-05T09:39:00.775Z"
   },
   {
    "duration": 19,
    "start_time": "2023-03-05T09:39:41.578Z"
   },
   {
    "duration": 17,
    "start_time": "2023-03-05T09:47:12.063Z"
   },
   {
    "duration": 32,
    "start_time": "2023-03-05T09:47:21.176Z"
   },
   {
    "duration": 11,
    "start_time": "2023-03-05T09:47:34.324Z"
   },
   {
    "duration": 79,
    "start_time": "2023-03-05T09:48:17.377Z"
   },
   {
    "duration": 4,
    "start_time": "2023-03-05T09:48:22.205Z"
   },
   {
    "duration": 1471,
    "start_time": "2023-03-05T09:48:27.378Z"
   },
   {
    "duration": 1228,
    "start_time": "2023-03-05T09:48:49.917Z"
   },
   {
    "duration": 1194,
    "start_time": "2023-03-05T09:49:28.883Z"
   },
   {
    "duration": 1112,
    "start_time": "2023-03-05T09:49:35.185Z"
   },
   {
    "duration": 1080,
    "start_time": "2023-03-05T09:49:54.062Z"
   },
   {
    "duration": 98,
    "start_time": "2023-03-05T09:49:55.695Z"
   },
   {
    "duration": 11,
    "start_time": "2023-03-05T09:49:58.263Z"
   },
   {
    "duration": 6,
    "start_time": "2023-03-05T09:50:00.405Z"
   },
   {
    "duration": 20,
    "start_time": "2023-03-05T09:50:02.189Z"
   },
   {
    "duration": 12,
    "start_time": "2023-03-05T09:50:04.874Z"
   },
   {
    "duration": 15,
    "start_time": "2023-03-05T09:50:06.882Z"
   },
   {
    "duration": 12,
    "start_time": "2023-03-05T09:50:08.508Z"
   },
   {
    "duration": 8,
    "start_time": "2023-03-05T09:50:11.672Z"
   },
   {
    "duration": 26,
    "start_time": "2023-03-05T09:50:13.988Z"
   },
   {
    "duration": 9,
    "start_time": "2023-03-05T09:50:24.587Z"
   },
   {
    "duration": 9,
    "start_time": "2023-03-05T09:50:31.293Z"
   },
   {
    "duration": 8,
    "start_time": "2023-03-05T09:51:41.672Z"
   },
   {
    "duration": 74,
    "start_time": "2023-03-05T09:53:04.404Z"
   },
   {
    "duration": 72,
    "start_time": "2023-03-05T09:53:12.624Z"
   },
   {
    "duration": 26,
    "start_time": "2023-03-05T09:54:16.100Z"
   },
   {
    "duration": 108,
    "start_time": "2023-03-05T09:59:21.679Z"
   },
   {
    "duration": 4,
    "start_time": "2023-03-05T10:00:52.986Z"
   },
   {
    "duration": 1337,
    "start_time": "2023-03-05T10:00:59.063Z"
   },
   {
    "duration": 1206,
    "start_time": "2023-03-05T10:01:07.391Z"
   },
   {
    "duration": 1066,
    "start_time": "2023-03-05T10:01:30.325Z"
   },
   {
    "duration": 104,
    "start_time": "2023-03-05T10:01:31.392Z"
   },
   {
    "duration": 12,
    "start_time": "2023-03-05T10:01:31.498Z"
   },
   {
    "duration": 5,
    "start_time": "2023-03-05T10:01:31.512Z"
   },
   {
    "duration": 25,
    "start_time": "2023-03-05T10:01:31.791Z"
   },
   {
    "duration": 16,
    "start_time": "2023-03-05T10:01:33.167Z"
   },
   {
    "duration": 22,
    "start_time": "2023-03-05T10:01:34.131Z"
   },
   {
    "duration": 14,
    "start_time": "2023-03-05T10:01:36.024Z"
   },
   {
    "duration": 8,
    "start_time": "2023-03-05T10:01:37.694Z"
   },
   {
    "duration": 38,
    "start_time": "2023-03-05T10:01:39.830Z"
   },
   {
    "duration": 10,
    "start_time": "2023-03-05T10:01:41.616Z"
   },
   {
    "duration": 415,
    "start_time": "2023-03-05T10:06:08.114Z"
   },
   {
    "duration": 8,
    "start_time": "2023-03-05T10:06:20.832Z"
   },
   {
    "duration": 9,
    "start_time": "2023-03-05T10:06:24.087Z"
   },
   {
    "duration": 389,
    "start_time": "2023-03-05T10:06:27.380Z"
   },
   {
    "duration": 28,
    "start_time": "2023-03-05T10:06:36.207Z"
   },
   {
    "duration": 23,
    "start_time": "2023-03-05T10:08:24.107Z"
   },
   {
    "duration": 12,
    "start_time": "2023-03-05T10:11:50.977Z"
   },
   {
    "duration": 8,
    "start_time": "2023-03-05T10:12:14.524Z"
   },
   {
    "duration": 1042,
    "start_time": "2023-03-05T10:12:28.523Z"
   },
   {
    "duration": 103,
    "start_time": "2023-03-05T10:12:30.372Z"
   },
   {
    "duration": 14,
    "start_time": "2023-03-05T10:12:33.496Z"
   },
   {
    "duration": 5,
    "start_time": "2023-03-05T10:12:36.180Z"
   },
   {
    "duration": 19,
    "start_time": "2023-03-05T10:12:38.683Z"
   },
   {
    "duration": 11,
    "start_time": "2023-03-05T10:12:41.074Z"
   },
   {
    "duration": 14,
    "start_time": "2023-03-05T10:12:43.492Z"
   },
   {
    "duration": 10,
    "start_time": "2023-03-05T10:12:44.919Z"
   },
   {
    "duration": 8,
    "start_time": "2023-03-05T10:12:47.979Z"
   },
   {
    "duration": 96,
    "start_time": "2023-03-05T10:12:49.870Z"
   },
   {
    "duration": 7,
    "start_time": "2023-03-05T10:13:37.214Z"
   },
   {
    "duration": 1414,
    "start_time": "2023-03-05T10:14:06.781Z"
   },
   {
    "duration": 1359,
    "start_time": "2023-03-05T10:14:21.109Z"
   },
   {
    "duration": 1088,
    "start_time": "2023-03-05T10:14:44.908Z"
   },
   {
    "duration": 98,
    "start_time": "2023-03-05T10:14:45.998Z"
   },
   {
    "duration": 12,
    "start_time": "2023-03-05T10:14:46.295Z"
   },
   {
    "duration": 6,
    "start_time": "2023-03-05T10:14:46.871Z"
   },
   {
    "duration": 19,
    "start_time": "2023-03-05T10:14:47.221Z"
   },
   {
    "duration": 11,
    "start_time": "2023-03-05T10:14:47.456Z"
   },
   {
    "duration": 15,
    "start_time": "2023-03-05T10:14:47.689Z"
   },
   {
    "duration": 10,
    "start_time": "2023-03-05T10:14:48.004Z"
   },
   {
    "duration": 8,
    "start_time": "2023-03-05T10:14:50.074Z"
   },
   {
    "duration": 25,
    "start_time": "2023-03-05T10:14:52.466Z"
   },
   {
    "duration": 1767,
    "start_time": "2023-03-09T17:49:47.091Z"
   },
   {
    "duration": 289,
    "start_time": "2023-03-09T17:49:49.298Z"
   },
   {
    "duration": 14,
    "start_time": "2023-03-09T17:49:50.684Z"
   },
   {
    "duration": 7,
    "start_time": "2023-03-09T17:49:51.282Z"
   },
   {
    "duration": 24,
    "start_time": "2023-03-09T17:49:51.976Z"
   },
   {
    "duration": 4,
    "start_time": "2023-03-09T17:49:52.719Z"
   },
   {
    "duration": 90,
    "start_time": "2023-03-09T17:49:55.306Z"
   },
   {
    "duration": 68,
    "start_time": "2023-03-09T17:50:20.929Z"
   },
   {
    "duration": 15,
    "start_time": "2023-03-09T17:54:32.682Z"
   },
   {
    "duration": 25,
    "start_time": "2023-03-09T17:54:40.546Z"
   },
   {
    "duration": 951,
    "start_time": "2023-03-09T17:55:25.479Z"
   },
   {
    "duration": 7,
    "start_time": "2023-03-09T17:55:34.425Z"
   },
   {
    "duration": 15,
    "start_time": "2023-03-09T17:56:13.591Z"
   },
   {
    "duration": 5,
    "start_time": "2023-03-09T17:57:22.000Z"
   },
   {
    "duration": 14,
    "start_time": "2023-03-09T17:58:13.687Z"
   },
   {
    "duration": 12,
    "start_time": "2023-03-09T17:58:17.630Z"
   },
   {
    "duration": 39,
    "start_time": "2023-03-09T17:58:25.318Z"
   },
   {
    "duration": 7,
    "start_time": "2023-03-09T17:59:16.569Z"
   },
   {
    "duration": 107,
    "start_time": "2023-03-09T17:59:17.592Z"
   },
   {
    "duration": 5,
    "start_time": "2023-03-09T17:59:39.982Z"
   },
   {
    "duration": 90,
    "start_time": "2023-03-09T17:59:41.114Z"
   },
   {
    "duration": 109,
    "start_time": "2023-03-09T17:59:41.763Z"
   },
   {
    "duration": 189,
    "start_time": "2023-03-09T17:59:42.475Z"
   },
   {
    "duration": 158,
    "start_time": "2023-03-09T17:59:43.088Z"
   },
   {
    "duration": 240,
    "start_time": "2023-03-09T17:59:44.404Z"
   },
   {
    "duration": 156,
    "start_time": "2023-03-09T17:59:44.879Z"
   },
   {
    "duration": 138,
    "start_time": "2023-03-09T17:59:45.141Z"
   },
   {
    "duration": 129,
    "start_time": "2023-03-09T17:59:46.026Z"
   },
   {
    "duration": 188,
    "start_time": "2023-03-09T17:59:46.692Z"
   },
   {
    "duration": 9,
    "start_time": "2023-03-09T17:59:58.006Z"
   },
   {
    "duration": 18,
    "start_time": "2023-03-09T18:00:05.688Z"
   },
   {
    "duration": 9,
    "start_time": "2023-03-09T18:16:28.366Z"
   },
   {
    "duration": 819,
    "start_time": "2023-03-09T18:16:33.162Z"
   },
   {
    "duration": 5,
    "start_time": "2023-03-09T18:16:50.699Z"
   },
   {
    "duration": 79,
    "start_time": "2023-03-09T18:16:56.477Z"
   },
   {
    "duration": 4,
    "start_time": "2023-03-09T18:17:01.469Z"
   },
   {
    "duration": 874,
    "start_time": "2023-03-09T18:17:03.029Z"
   },
   {
    "duration": 0,
    "start_time": "2023-03-09T18:17:03.905Z"
   },
   {
    "duration": 1301,
    "start_time": "2023-03-09T18:17:45.493Z"
   },
   {
    "duration": 102,
    "start_time": "2023-03-09T18:17:46.797Z"
   },
   {
    "duration": 13,
    "start_time": "2023-03-09T18:17:47.000Z"
   },
   {
    "duration": 6,
    "start_time": "2023-03-09T18:17:47.184Z"
   },
   {
    "duration": 20,
    "start_time": "2023-03-09T18:17:47.403Z"
   },
   {
    "duration": 15,
    "start_time": "2023-03-09T18:17:47.603Z"
   },
   {
    "duration": 7,
    "start_time": "2023-03-09T18:17:48.665Z"
   },
   {
    "duration": 13,
    "start_time": "2023-03-09T18:17:49.468Z"
   },
   {
    "duration": 11,
    "start_time": "2023-03-09T18:17:49.717Z"
   },
   {
    "duration": 32,
    "start_time": "2023-03-09T18:17:49.968Z"
   },
   {
    "duration": 7,
    "start_time": "2023-03-09T18:17:52.969Z"
   },
   {
    "duration": 111,
    "start_time": "2023-03-09T18:17:53.212Z"
   },
   {
    "duration": 6,
    "start_time": "2023-03-09T18:17:53.884Z"
   },
   {
    "duration": 96,
    "start_time": "2023-03-09T18:17:55.001Z"
   },
   {
    "duration": 8,
    "start_time": "2023-03-09T18:18:10.403Z"
   },
   {
    "duration": 10,
    "start_time": "2023-03-09T18:20:48.596Z"
   },
   {
    "duration": 121,
    "start_time": "2023-03-09T18:45:46.263Z"
   },
   {
    "duration": 12,
    "start_time": "2023-03-09T18:47:00.824Z"
   },
   {
    "duration": 25,
    "start_time": "2023-03-09T18:47:05.063Z"
   },
   {
    "duration": 13,
    "start_time": "2023-03-09T18:47:12.382Z"
   },
   {
    "duration": 19,
    "start_time": "2023-03-09T18:47:35.420Z"
   },
   {
    "duration": 41,
    "start_time": "2023-03-09T18:48:24.668Z"
   },
   {
    "duration": 19,
    "start_time": "2023-03-09T18:56:29.915Z"
   },
   {
    "duration": 3,
    "start_time": "2023-03-09T19:02:04.527Z"
   },
   {
    "duration": 17,
    "start_time": "2023-03-09T19:02:13.679Z"
   },
   {
    "duration": 11,
    "start_time": "2023-03-09T19:02:50.915Z"
   },
   {
    "duration": 217,
    "start_time": "2023-03-09T19:03:27.140Z"
   },
   {
    "duration": 18,
    "start_time": "2023-03-09T19:03:43.136Z"
   },
   {
    "duration": 16,
    "start_time": "2023-03-09T20:15:01.442Z"
   },
   {
    "duration": 16,
    "start_time": "2023-03-09T20:15:15.121Z"
   },
   {
    "duration": 14,
    "start_time": "2023-03-09T20:16:43.469Z"
   },
   {
    "duration": 20,
    "start_time": "2023-03-09T20:17:00.302Z"
   },
   {
    "duration": 13,
    "start_time": "2023-03-09T20:17:15.503Z"
   },
   {
    "duration": 1304,
    "start_time": "2023-03-09T20:17:24.465Z"
   },
   {
    "duration": 84,
    "start_time": "2023-03-09T20:17:25.771Z"
   },
   {
    "duration": 22,
    "start_time": "2023-03-09T20:17:25.857Z"
   },
   {
    "duration": 8,
    "start_time": "2023-03-09T20:17:25.882Z"
   },
   {
    "duration": 51,
    "start_time": "2023-03-09T20:17:25.892Z"
   },
   {
    "duration": 19,
    "start_time": "2023-03-09T20:17:25.945Z"
   },
   {
    "duration": 6,
    "start_time": "2023-03-09T20:17:25.966Z"
   },
   {
    "duration": 16,
    "start_time": "2023-03-09T20:17:25.974Z"
   },
   {
    "duration": 10,
    "start_time": "2023-03-09T20:17:25.992Z"
   },
   {
    "duration": 88,
    "start_time": "2023-03-09T20:17:26.004Z"
   },
   {
    "duration": 6,
    "start_time": "2023-03-09T20:17:26.095Z"
   },
   {
    "duration": 153,
    "start_time": "2023-03-09T20:17:26.103Z"
   },
   {
    "duration": 6,
    "start_time": "2023-03-09T20:17:26.258Z"
   },
   {
    "duration": 103,
    "start_time": "2023-03-09T20:17:26.266Z"
   },
   {
    "duration": 92,
    "start_time": "2023-03-09T20:17:26.370Z"
   },
   {
    "duration": 210,
    "start_time": "2023-03-09T20:17:26.464Z"
   },
   {
    "duration": 161,
    "start_time": "2023-03-09T20:17:26.675Z"
   },
   {
    "duration": 236,
    "start_time": "2023-03-09T20:17:26.838Z"
   },
   {
    "duration": 151,
    "start_time": "2023-03-09T20:17:27.075Z"
   },
   {
    "duration": 133,
    "start_time": "2023-03-09T20:17:27.228Z"
   },
   {
    "duration": 100,
    "start_time": "2023-03-09T20:17:27.363Z"
   },
   {
    "duration": 168,
    "start_time": "2023-03-09T20:17:27.465Z"
   },
   {
    "duration": 20,
    "start_time": "2023-03-09T20:17:27.635Z"
   },
   {
    "duration": 16,
    "start_time": "2023-03-09T20:17:27.659Z"
   },
   {
    "duration": 409,
    "start_time": "2023-03-09T20:17:27.677Z"
   },
   {
    "duration": 0,
    "start_time": "2023-03-09T20:17:28.089Z"
   },
   {
    "duration": 1,
    "start_time": "2023-03-09T20:17:28.090Z"
   },
   {
    "duration": 0,
    "start_time": "2023-03-09T20:17:28.092Z"
   },
   {
    "duration": 0,
    "start_time": "2023-03-09T20:17:28.094Z"
   },
   {
    "duration": 0,
    "start_time": "2023-03-09T20:17:28.096Z"
   },
   {
    "duration": 0,
    "start_time": "2023-03-09T20:17:28.098Z"
   },
   {
    "duration": 0,
    "start_time": "2023-03-09T20:17:28.099Z"
   },
   {
    "duration": 0,
    "start_time": "2023-03-09T20:17:28.101Z"
   },
   {
    "duration": 0,
    "start_time": "2023-03-09T20:17:28.102Z"
   },
   {
    "duration": 0,
    "start_time": "2023-03-09T20:17:28.104Z"
   },
   {
    "duration": 0,
    "start_time": "2023-03-09T20:17:28.105Z"
   },
   {
    "duration": 16,
    "start_time": "2023-03-09T20:17:44.642Z"
   },
   {
    "duration": 269,
    "start_time": "2023-03-09T20:17:48.086Z"
   },
   {
    "duration": 270,
    "start_time": "2023-03-09T20:18:25.292Z"
   },
   {
    "duration": 413,
    "start_time": "2023-03-09T20:18:44.260Z"
   },
   {
    "duration": 427,
    "start_time": "2023-03-09T20:19:08.839Z"
   },
   {
    "duration": 603,
    "start_time": "2023-03-09T20:19:55.600Z"
   },
   {
    "duration": 645,
    "start_time": "2023-03-09T20:20:21.523Z"
   },
   {
    "duration": 12,
    "start_time": "2023-03-09T20:22:00.778Z"
   },
   {
    "duration": 27,
    "start_time": "2023-03-09T20:22:02.120Z"
   },
   {
    "duration": 366,
    "start_time": "2023-03-09T20:22:17.970Z"
   },
   {
    "duration": 2,
    "start_time": "2023-03-09T20:23:15.696Z"
   },
   {
    "duration": 3,
    "start_time": "2023-03-09T20:26:05.703Z"
   },
   {
    "duration": 26,
    "start_time": "2023-03-09T20:26:09.325Z"
   },
   {
    "duration": 9,
    "start_time": "2023-03-09T20:29:39.957Z"
   },
   {
    "duration": 2,
    "start_time": "2023-03-09T20:29:48.415Z"
   },
   {
    "duration": 20,
    "start_time": "2023-03-09T20:29:50.638Z"
   },
   {
    "duration": 11,
    "start_time": "2023-03-09T20:29:52.185Z"
   },
   {
    "duration": 19,
    "start_time": "2023-03-09T20:29:54.161Z"
   },
   {
    "duration": 20,
    "start_time": "2023-03-09T20:31:02.856Z"
   },
   {
    "duration": 16,
    "start_time": "2023-03-09T20:31:12.354Z"
   },
   {
    "duration": 16,
    "start_time": "2023-03-09T20:33:55.785Z"
   },
   {
    "duration": 7,
    "start_time": "2023-03-09T20:34:01.001Z"
   },
   {
    "duration": 21,
    "start_time": "2023-03-09T20:34:15.791Z"
   },
   {
    "duration": 33,
    "start_time": "2023-03-09T20:37:51.756Z"
   },
   {
    "duration": 31,
    "start_time": "2023-03-09T20:38:23.916Z"
   },
   {
    "duration": 7,
    "start_time": "2023-03-09T20:40:17.021Z"
   },
   {
    "duration": 10,
    "start_time": "2023-03-09T20:40:23.078Z"
   },
   {
    "duration": 29,
    "start_time": "2023-03-09T20:40:28.960Z"
   },
   {
    "duration": 26,
    "start_time": "2023-03-09T20:42:34.259Z"
   },
   {
    "duration": 13,
    "start_time": "2023-03-09T20:42:56.761Z"
   },
   {
    "duration": 10,
    "start_time": "2023-03-09T20:49:07.299Z"
   },
   {
    "duration": 16,
    "start_time": "2023-03-09T20:49:18.211Z"
   },
   {
    "duration": 7,
    "start_time": "2023-03-09T20:49:35.555Z"
   },
   {
    "duration": 15,
    "start_time": "2023-03-09T20:49:39.801Z"
   },
   {
    "duration": 18,
    "start_time": "2023-03-09T20:49:43.555Z"
   },
   {
    "duration": 1268,
    "start_time": "2023-03-09T20:52:07.107Z"
   },
   {
    "duration": 84,
    "start_time": "2023-03-09T20:52:08.376Z"
   },
   {
    "duration": 11,
    "start_time": "2023-03-09T20:52:08.462Z"
   },
   {
    "duration": 5,
    "start_time": "2023-03-09T20:52:08.475Z"
   },
   {
    "duration": 20,
    "start_time": "2023-03-09T20:52:08.481Z"
   },
   {
    "duration": 14,
    "start_time": "2023-03-09T20:52:08.502Z"
   },
   {
    "duration": 15,
    "start_time": "2023-03-09T20:52:08.540Z"
   },
   {
    "duration": 15,
    "start_time": "2023-03-09T20:52:08.556Z"
   },
   {
    "duration": 8,
    "start_time": "2023-03-09T20:52:08.572Z"
   },
   {
    "duration": 30,
    "start_time": "2023-03-09T20:52:08.582Z"
   },
   {
    "duration": 4,
    "start_time": "2023-03-09T20:52:08.614Z"
   },
   {
    "duration": 115,
    "start_time": "2023-03-09T20:52:08.620Z"
   },
   {
    "duration": 5,
    "start_time": "2023-03-09T20:52:08.736Z"
   },
   {
    "duration": 101,
    "start_time": "2023-03-09T20:52:08.744Z"
   },
   {
    "duration": 70,
    "start_time": "2023-03-09T20:52:08.847Z"
   },
   {
    "duration": 157,
    "start_time": "2023-03-09T20:52:08.919Z"
   },
   {
    "duration": 153,
    "start_time": "2023-03-09T20:52:09.077Z"
   },
   {
    "duration": 224,
    "start_time": "2023-03-09T20:52:09.232Z"
   },
   {
    "duration": 131,
    "start_time": "2023-03-09T20:52:09.457Z"
   },
   {
    "duration": 101,
    "start_time": "2023-03-09T20:52:09.590Z"
   },
   {
    "duration": 106,
    "start_time": "2023-03-09T20:52:09.693Z"
   },
   {
    "duration": 167,
    "start_time": "2023-03-09T20:52:09.800Z"
   },
   {
    "duration": 7,
    "start_time": "2023-03-09T20:52:09.969Z"
   },
   {
    "duration": 121,
    "start_time": "2023-03-09T20:52:09.978Z"
   },
   {
    "duration": 0,
    "start_time": "2023-03-09T20:52:10.101Z"
   },
   {
    "duration": 0,
    "start_time": "2023-03-09T20:52:10.102Z"
   },
   {
    "duration": 0,
    "start_time": "2023-03-09T20:52:10.103Z"
   },
   {
    "duration": 0,
    "start_time": "2023-03-09T20:52:10.104Z"
   },
   {
    "duration": 0,
    "start_time": "2023-03-09T20:52:10.105Z"
   },
   {
    "duration": 0,
    "start_time": "2023-03-09T20:52:10.106Z"
   },
   {
    "duration": 0,
    "start_time": "2023-03-09T20:52:10.107Z"
   },
   {
    "duration": 0,
    "start_time": "2023-03-09T20:52:10.108Z"
   },
   {
    "duration": 0,
    "start_time": "2023-03-09T20:52:10.109Z"
   },
   {
    "duration": 0,
    "start_time": "2023-03-09T20:52:10.110Z"
   },
   {
    "duration": 0,
    "start_time": "2023-03-09T20:52:10.111Z"
   },
   {
    "duration": 0,
    "start_time": "2023-03-09T20:52:10.112Z"
   },
   {
    "duration": 0,
    "start_time": "2023-03-09T20:52:10.114Z"
   },
   {
    "duration": 12,
    "start_time": "2023-03-09T20:53:06.754Z"
   },
   {
    "duration": 549,
    "start_time": "2023-03-09T20:53:36.634Z"
   },
   {
    "duration": 2,
    "start_time": "2023-03-09T20:54:02.353Z"
   },
   {
    "duration": 19,
    "start_time": "2023-03-09T20:54:53.105Z"
   },
   {
    "duration": 11,
    "start_time": "2023-03-09T20:55:34.298Z"
   },
   {
    "duration": 12,
    "start_time": "2023-03-09T21:06:33.894Z"
   },
   {
    "duration": 15,
    "start_time": "2023-03-09T21:06:36.401Z"
   },
   {
    "duration": 7,
    "start_time": "2023-03-09T21:07:16.658Z"
   },
   {
    "duration": 24,
    "start_time": "2023-03-09T21:08:12.500Z"
   },
   {
    "duration": 8,
    "start_time": "2023-03-09T21:08:59.681Z"
   },
   {
    "duration": 16,
    "start_time": "2023-03-09T21:09:35.865Z"
   },
   {
    "duration": 33,
    "start_time": "2023-03-09T21:10:55.556Z"
   },
   {
    "duration": 30,
    "start_time": "2023-03-09T21:10:59.060Z"
   },
   {
    "duration": 35,
    "start_time": "2023-03-09T21:15:32.500Z"
   },
   {
    "duration": 28,
    "start_time": "2023-03-09T21:20:23.539Z"
   },
   {
    "duration": 27,
    "start_time": "2023-03-09T21:21:21.332Z"
   },
   {
    "duration": 35,
    "start_time": "2023-03-09T21:22:07.920Z"
   },
   {
    "duration": 27,
    "start_time": "2023-03-09T21:22:32.737Z"
   },
   {
    "duration": 23,
    "start_time": "2023-03-09T21:22:41.005Z"
   },
   {
    "duration": 23,
    "start_time": "2023-03-09T21:23:28.200Z"
   },
   {
    "duration": 29,
    "start_time": "2023-03-09T21:23:50.728Z"
   },
   {
    "duration": 31,
    "start_time": "2023-03-09T21:23:53.907Z"
   },
   {
    "duration": 29,
    "start_time": "2023-03-09T21:23:57.386Z"
   },
   {
    "duration": 29,
    "start_time": "2023-03-09T21:24:01.030Z"
   },
   {
    "duration": 30,
    "start_time": "2023-03-09T21:24:10.135Z"
   },
   {
    "duration": 27,
    "start_time": "2023-03-09T21:24:13.084Z"
   },
   {
    "duration": 1289,
    "start_time": "2023-03-09T21:25:13.289Z"
   },
   {
    "duration": 82,
    "start_time": "2023-03-09T21:25:14.579Z"
   },
   {
    "duration": 11,
    "start_time": "2023-03-09T21:25:14.663Z"
   },
   {
    "duration": 6,
    "start_time": "2023-03-09T21:25:14.675Z"
   },
   {
    "duration": 22,
    "start_time": "2023-03-09T21:25:14.682Z"
   },
   {
    "duration": 19,
    "start_time": "2023-03-09T21:25:14.706Z"
   },
   {
    "duration": 10,
    "start_time": "2023-03-09T21:25:14.740Z"
   },
   {
    "duration": 17,
    "start_time": "2023-03-09T21:25:14.753Z"
   },
   {
    "duration": 11,
    "start_time": "2023-03-09T21:25:14.772Z"
   },
   {
    "duration": 32,
    "start_time": "2023-03-09T21:25:14.785Z"
   },
   {
    "duration": 29,
    "start_time": "2023-03-09T21:25:14.818Z"
   },
   {
    "duration": 86,
    "start_time": "2023-03-09T21:25:14.848Z"
   },
   {
    "duration": 20,
    "start_time": "2023-03-09T21:25:14.936Z"
   },
   {
    "duration": 97,
    "start_time": "2023-03-09T21:25:14.958Z"
   },
   {
    "duration": 76,
    "start_time": "2023-03-09T21:25:15.057Z"
   },
   {
    "duration": 156,
    "start_time": "2023-03-09T21:25:15.141Z"
   },
   {
    "duration": 161,
    "start_time": "2023-03-09T21:25:15.298Z"
   },
   {
    "duration": 229,
    "start_time": "2023-03-09T21:25:15.460Z"
   },
   {
    "duration": 134,
    "start_time": "2023-03-09T21:25:15.691Z"
   },
   {
    "duration": 102,
    "start_time": "2023-03-09T21:25:15.827Z"
   },
   {
    "duration": 124,
    "start_time": "2023-03-09T21:25:15.931Z"
   },
   {
    "duration": 149,
    "start_time": "2023-03-09T21:25:16.057Z"
   },
   {
    "duration": 8,
    "start_time": "2023-03-09T21:25:16.208Z"
   },
   {
    "duration": 11,
    "start_time": "2023-03-09T21:25:16.217Z"
   },
   {
    "duration": 12,
    "start_time": "2023-03-09T21:25:16.244Z"
   },
   {
    "duration": 8,
    "start_time": "2023-03-09T21:25:16.258Z"
   },
   {
    "duration": 22,
    "start_time": "2023-03-09T21:25:16.267Z"
   },
   {
    "duration": 25,
    "start_time": "2023-03-09T21:25:16.292Z"
   },
   {
    "duration": 132,
    "start_time": "2023-03-09T21:25:16.319Z"
   },
   {
    "duration": 0,
    "start_time": "2023-03-09T21:25:16.456Z"
   },
   {
    "duration": 0,
    "start_time": "2023-03-09T21:25:16.458Z"
   },
   {
    "duration": 0,
    "start_time": "2023-03-09T21:25:16.459Z"
   },
   {
    "duration": 0,
    "start_time": "2023-03-09T21:25:16.460Z"
   },
   {
    "duration": 0,
    "start_time": "2023-03-09T21:25:16.462Z"
   },
   {
    "duration": 0,
    "start_time": "2023-03-09T21:25:16.463Z"
   },
   {
    "duration": 0,
    "start_time": "2023-03-09T21:25:16.464Z"
   },
   {
    "duration": 0,
    "start_time": "2023-03-09T21:25:16.466Z"
   },
   {
    "duration": 0,
    "start_time": "2023-03-09T21:25:16.467Z"
   },
   {
    "duration": 25,
    "start_time": "2023-03-09T21:25:31.338Z"
   },
   {
    "duration": 24,
    "start_time": "2023-03-09T21:25:36.157Z"
   },
   {
    "duration": 27,
    "start_time": "2023-03-09T21:25:40.528Z"
   },
   {
    "duration": 27,
    "start_time": "2023-03-09T21:25:43.655Z"
   },
   {
    "duration": 1302,
    "start_time": "2023-03-09T21:26:37.833Z"
   },
   {
    "duration": 95,
    "start_time": "2023-03-09T21:26:39.137Z"
   },
   {
    "duration": 26,
    "start_time": "2023-03-09T21:26:39.236Z"
   },
   {
    "duration": 7,
    "start_time": "2023-03-09T21:26:39.264Z"
   },
   {
    "duration": 21,
    "start_time": "2023-03-09T21:26:39.272Z"
   },
   {
    "duration": 15,
    "start_time": "2023-03-09T21:26:39.295Z"
   },
   {
    "duration": 4,
    "start_time": "2023-03-09T21:26:39.312Z"
   },
   {
    "duration": 40,
    "start_time": "2023-03-09T21:26:39.317Z"
   },
   {
    "duration": 10,
    "start_time": "2023-03-09T21:26:39.359Z"
   },
   {
    "duration": 33,
    "start_time": "2023-03-09T21:26:39.371Z"
   },
   {
    "duration": 5,
    "start_time": "2023-03-09T21:26:39.405Z"
   },
   {
    "duration": 100,
    "start_time": "2023-03-09T21:26:39.411Z"
   },
   {
    "duration": 5,
    "start_time": "2023-03-09T21:26:39.512Z"
   },
   {
    "duration": 97,
    "start_time": "2023-03-09T21:26:39.518Z"
   },
   {
    "duration": 83,
    "start_time": "2023-03-09T21:26:39.616Z"
   },
   {
    "duration": 166,
    "start_time": "2023-03-09T21:26:39.701Z"
   },
   {
    "duration": 153,
    "start_time": "2023-03-09T21:26:39.868Z"
   },
   {
    "duration": 227,
    "start_time": "2023-03-09T21:26:40.023Z"
   },
   {
    "duration": 143,
    "start_time": "2023-03-09T21:26:40.255Z"
   },
   {
    "duration": 104,
    "start_time": "2023-03-09T21:26:40.400Z"
   },
   {
    "duration": 106,
    "start_time": "2023-03-09T21:26:40.506Z"
   },
   {
    "duration": 166,
    "start_time": "2023-03-09T21:26:40.613Z"
   },
   {
    "duration": 8,
    "start_time": "2023-03-09T21:26:40.781Z"
   },
   {
    "duration": 9,
    "start_time": "2023-03-09T21:26:40.790Z"
   },
   {
    "duration": 10,
    "start_time": "2023-03-09T21:26:40.801Z"
   },
   {
    "duration": 9,
    "start_time": "2023-03-09T21:26:40.814Z"
   },
   {
    "duration": 37,
    "start_time": "2023-03-09T21:26:40.824Z"
   },
   {
    "duration": 25,
    "start_time": "2023-03-09T21:26:40.865Z"
   },
   {
    "duration": 132,
    "start_time": "2023-03-09T21:26:40.892Z"
   },
   {
    "duration": 0,
    "start_time": "2023-03-09T21:26:41.026Z"
   },
   {
    "duration": 0,
    "start_time": "2023-03-09T21:26:41.027Z"
   },
   {
    "duration": 0,
    "start_time": "2023-03-09T21:26:41.028Z"
   },
   {
    "duration": 0,
    "start_time": "2023-03-09T21:26:41.029Z"
   },
   {
    "duration": 0,
    "start_time": "2023-03-09T21:26:41.030Z"
   },
   {
    "duration": 0,
    "start_time": "2023-03-09T21:26:41.031Z"
   },
   {
    "duration": 0,
    "start_time": "2023-03-09T21:26:41.032Z"
   },
   {
    "duration": 0,
    "start_time": "2023-03-09T21:26:41.033Z"
   },
   {
    "duration": 0,
    "start_time": "2023-03-09T21:26:41.044Z"
   },
   {
    "duration": 1301,
    "start_time": "2023-03-09T21:27:12.730Z"
   },
   {
    "duration": 90,
    "start_time": "2023-03-09T21:27:14.032Z"
   },
   {
    "duration": 12,
    "start_time": "2023-03-09T21:27:14.123Z"
   },
   {
    "duration": 22,
    "start_time": "2023-03-09T21:27:14.137Z"
   },
   {
    "duration": 21,
    "start_time": "2023-03-09T21:27:14.161Z"
   },
   {
    "duration": 14,
    "start_time": "2023-03-09T21:27:14.183Z"
   },
   {
    "duration": 3,
    "start_time": "2023-03-09T21:27:14.199Z"
   },
   {
    "duration": 15,
    "start_time": "2023-03-09T21:27:14.204Z"
   },
   {
    "duration": 36,
    "start_time": "2023-03-09T21:27:14.220Z"
   },
   {
    "duration": 31,
    "start_time": "2023-03-09T21:27:14.258Z"
   },
   {
    "duration": 4,
    "start_time": "2023-03-09T21:27:14.290Z"
   },
   {
    "duration": 93,
    "start_time": "2023-03-09T21:27:14.296Z"
   },
   {
    "duration": 5,
    "start_time": "2023-03-09T21:27:14.390Z"
   },
   {
    "duration": 100,
    "start_time": "2023-03-09T21:27:14.396Z"
   },
   {
    "duration": 82,
    "start_time": "2023-03-09T21:27:14.497Z"
   },
   {
    "duration": 178,
    "start_time": "2023-03-09T21:27:14.580Z"
   },
   {
    "duration": 163,
    "start_time": "2023-03-09T21:27:14.760Z"
   },
   {
    "duration": 237,
    "start_time": "2023-03-09T21:27:14.925Z"
   },
   {
    "duration": 150,
    "start_time": "2023-03-09T21:27:15.164Z"
   },
   {
    "duration": 103,
    "start_time": "2023-03-09T21:27:15.316Z"
   },
   {
    "duration": 112,
    "start_time": "2023-03-09T21:27:15.421Z"
   },
   {
    "duration": 160,
    "start_time": "2023-03-09T21:27:15.534Z"
   },
   {
    "duration": 8,
    "start_time": "2023-03-09T21:27:15.696Z"
   },
   {
    "duration": 10,
    "start_time": "2023-03-09T21:27:15.706Z"
   },
   {
    "duration": 6,
    "start_time": "2023-03-09T21:27:15.718Z"
   },
   {
    "duration": 17,
    "start_time": "2023-03-09T21:27:15.726Z"
   },
   {
    "duration": 30,
    "start_time": "2023-03-09T21:27:15.745Z"
   },
   {
    "duration": 26,
    "start_time": "2023-03-09T21:27:15.778Z"
   },
   {
    "duration": 120,
    "start_time": "2023-03-09T21:27:15.806Z"
   },
   {
    "duration": 0,
    "start_time": "2023-03-09T21:27:15.928Z"
   },
   {
    "duration": 0,
    "start_time": "2023-03-09T21:27:15.929Z"
   },
   {
    "duration": 0,
    "start_time": "2023-03-09T21:27:15.943Z"
   },
   {
    "duration": 0,
    "start_time": "2023-03-09T21:27:15.944Z"
   },
   {
    "duration": 0,
    "start_time": "2023-03-09T21:27:15.945Z"
   },
   {
    "duration": 0,
    "start_time": "2023-03-09T21:27:15.946Z"
   },
   {
    "duration": 0,
    "start_time": "2023-03-09T21:27:15.947Z"
   },
   {
    "duration": 0,
    "start_time": "2023-03-09T21:27:15.947Z"
   },
   {
    "duration": 0,
    "start_time": "2023-03-09T21:27:15.948Z"
   },
   {
    "duration": 1317,
    "start_time": "2023-03-09T21:30:49.158Z"
   },
   {
    "duration": 89,
    "start_time": "2023-03-09T21:30:51.099Z"
   },
   {
    "duration": 18,
    "start_time": "2023-03-09T21:30:52.488Z"
   },
   {
    "duration": 9,
    "start_time": "2023-03-09T21:30:52.764Z"
   },
   {
    "duration": 32,
    "start_time": "2023-03-09T21:30:53.004Z"
   },
   {
    "duration": 15,
    "start_time": "2023-03-09T21:30:53.260Z"
   },
   {
    "duration": 6,
    "start_time": "2023-03-09T21:30:54.940Z"
   },
   {
    "duration": 19,
    "start_time": "2023-03-09T21:30:56.607Z"
   },
   {
    "duration": 10,
    "start_time": "2023-03-09T21:30:57.022Z"
   },
   {
    "duration": 32,
    "start_time": "2023-03-09T21:30:57.386Z"
   },
   {
    "duration": 6,
    "start_time": "2023-03-09T21:30:59.956Z"
   },
   {
    "duration": 107,
    "start_time": "2023-03-09T21:31:00.177Z"
   },
   {
    "duration": 5,
    "start_time": "2023-03-09T21:31:00.627Z"
   },
   {
    "duration": 79,
    "start_time": "2023-03-09T21:31:00.855Z"
   },
   {
    "duration": 89,
    "start_time": "2023-03-09T21:31:01.048Z"
   },
   {
    "duration": 142,
    "start_time": "2023-03-09T21:31:01.260Z"
   },
   {
    "duration": 144,
    "start_time": "2023-03-09T21:31:01.477Z"
   },
   {
    "duration": 207,
    "start_time": "2023-03-09T21:31:01.685Z"
   },
   {
    "duration": 131,
    "start_time": "2023-03-09T21:31:01.933Z"
   },
   {
    "duration": 92,
    "start_time": "2023-03-09T21:31:02.100Z"
   },
   {
    "duration": 99,
    "start_time": "2023-03-09T21:31:02.687Z"
   },
   {
    "duration": 167,
    "start_time": "2023-03-09T21:31:03.339Z"
   },
   {
    "duration": 8,
    "start_time": "2023-03-09T21:31:05.186Z"
   },
   {
    "duration": 11,
    "start_time": "2023-03-09T21:31:13.310Z"
   },
   {
    "duration": 6,
    "start_time": "2023-03-09T21:31:15.882Z"
   },
   {
    "duration": 2,
    "start_time": "2023-03-09T21:31:18.357Z"
   },
   {
    "duration": 19,
    "start_time": "2023-03-09T21:31:26.970Z"
   },
   {
    "duration": 112,
    "start_time": "2023-03-09T21:32:24.955Z"
   },
   {
    "duration": 17,
    "start_time": "2023-03-09T21:32:36.179Z"
   },
   {
    "duration": 28,
    "start_time": "2023-03-09T21:32:53.993Z"
   },
   {
    "duration": 37,
    "start_time": "2023-03-09T21:33:24.316Z"
   },
   {
    "duration": 20,
    "start_time": "2023-03-09T21:36:35.729Z"
   },
   {
    "duration": 21,
    "start_time": "2023-03-09T21:37:11.186Z"
   },
   {
    "duration": 5,
    "start_time": "2023-03-09T21:39:50.974Z"
   },
   {
    "duration": 5,
    "start_time": "2023-03-09T21:39:56.114Z"
   },
   {
    "duration": 17,
    "start_time": "2023-03-09T21:40:27.961Z"
   },
   {
    "duration": 10,
    "start_time": "2023-03-09T21:46:02.723Z"
   },
   {
    "duration": 10,
    "start_time": "2023-03-09T21:47:23.967Z"
   },
   {
    "duration": 17,
    "start_time": "2023-03-09T21:48:16.187Z"
   },
   {
    "duration": 11,
    "start_time": "2023-03-09T21:49:17.841Z"
   },
   {
    "duration": 11,
    "start_time": "2023-03-09T21:49:55.668Z"
   },
   {
    "duration": 15,
    "start_time": "2023-03-09T21:50:17.755Z"
   },
   {
    "duration": 14,
    "start_time": "2023-03-09T21:50:30.636Z"
   },
   {
    "duration": 21,
    "start_time": "2023-03-09T21:53:52.088Z"
   },
   {
    "duration": 28,
    "start_time": "2023-03-09T21:54:39.336Z"
   },
   {
    "duration": 29,
    "start_time": "2023-03-09T21:54:42.693Z"
   },
   {
    "duration": 26,
    "start_time": "2023-03-09T21:54:53.284Z"
   },
   {
    "duration": 37,
    "start_time": "2023-03-09T21:55:16.490Z"
   },
   {
    "duration": 28,
    "start_time": "2023-03-09T21:55:24.727Z"
   },
   {
    "duration": 1311,
    "start_time": "2023-03-09T21:55:39.918Z"
   },
   {
    "duration": 84,
    "start_time": "2023-03-09T21:55:41.231Z"
   },
   {
    "duration": 12,
    "start_time": "2023-03-09T21:55:41.317Z"
   },
   {
    "duration": 7,
    "start_time": "2023-03-09T21:55:41.332Z"
   },
   {
    "duration": 22,
    "start_time": "2023-03-09T21:55:41.341Z"
   },
   {
    "duration": 22,
    "start_time": "2023-03-09T21:55:41.458Z"
   },
   {
    "duration": 5,
    "start_time": "2023-03-09T21:55:42.643Z"
   },
   {
    "duration": 19,
    "start_time": "2023-03-09T21:55:43.478Z"
   },
   {
    "duration": 14,
    "start_time": "2023-03-09T21:55:44.536Z"
   },
   {
    "duration": 45,
    "start_time": "2023-03-09T21:55:44.561Z"
   },
   {
    "duration": 6,
    "start_time": "2023-03-09T21:55:48.606Z"
   },
   {
    "duration": 89,
    "start_time": "2023-03-09T21:55:48.809Z"
   },
   {
    "duration": 6,
    "start_time": "2023-03-09T21:55:49.217Z"
   },
   {
    "duration": 92,
    "start_time": "2023-03-09T21:55:49.426Z"
   },
   {
    "duration": 81,
    "start_time": "2023-03-09T21:55:49.665Z"
   },
   {
    "duration": 143,
    "start_time": "2023-03-09T21:55:49.886Z"
   },
   {
    "duration": 148,
    "start_time": "2023-03-09T21:55:50.110Z"
   },
   {
    "duration": 212,
    "start_time": "2023-03-09T21:55:50.324Z"
   },
   {
    "duration": 138,
    "start_time": "2023-03-09T21:55:50.541Z"
   },
   {
    "duration": 94,
    "start_time": "2023-03-09T21:55:50.752Z"
   },
   {
    "duration": 128,
    "start_time": "2023-03-09T21:55:50.958Z"
   },
   {
    "duration": 192,
    "start_time": "2023-03-09T21:55:51.185Z"
   },
   {
    "duration": 8,
    "start_time": "2023-03-09T21:55:51.604Z"
   },
   {
    "duration": 13,
    "start_time": "2023-03-09T21:55:53.221Z"
   },
   {
    "duration": 10,
    "start_time": "2023-03-09T21:55:53.741Z"
   },
   {
    "duration": 3,
    "start_time": "2023-03-09T21:55:54.786Z"
   },
   {
    "duration": 17,
    "start_time": "2023-03-09T21:55:55.592Z"
   },
   {
    "duration": 28,
    "start_time": "2023-03-09T21:56:00.407Z"
   },
   {
    "duration": 114,
    "start_time": "2023-03-09T21:56:11.646Z"
   },
   {
    "duration": 24,
    "start_time": "2023-03-09T21:58:10.861Z"
   },
   {
    "duration": 38,
    "start_time": "2023-03-09T21:59:44.600Z"
   },
   {
    "duration": 1328,
    "start_time": "2023-03-09T22:03:14.054Z"
   },
   {
    "duration": 84,
    "start_time": "2023-03-09T22:03:15.384Z"
   },
   {
    "duration": 12,
    "start_time": "2023-03-09T22:03:15.470Z"
   },
   {
    "duration": 12,
    "start_time": "2023-03-09T22:03:15.484Z"
   },
   {
    "duration": 24,
    "start_time": "2023-03-09T22:03:15.498Z"
   },
   {
    "duration": 30,
    "start_time": "2023-03-09T22:03:15.524Z"
   },
   {
    "duration": 4,
    "start_time": "2023-03-09T22:03:16.067Z"
   },
   {
    "duration": 14,
    "start_time": "2023-03-09T22:03:16.915Z"
   },
   {
    "duration": 12,
    "start_time": "2023-03-09T22:03:17.132Z"
   },
   {
    "duration": 33,
    "start_time": "2023-03-09T22:03:17.355Z"
   },
   {
    "duration": 5,
    "start_time": "2023-03-09T22:03:18.168Z"
   },
   {
    "duration": 82,
    "start_time": "2023-03-09T22:03:18.374Z"
   },
   {
    "duration": 7,
    "start_time": "2023-03-09T22:03:18.786Z"
   },
   {
    "duration": 79,
    "start_time": "2023-03-09T22:03:18.991Z"
   },
   {
    "duration": 86,
    "start_time": "2023-03-09T22:03:19.197Z"
   },
   {
    "duration": 159,
    "start_time": "2023-03-09T22:03:19.399Z"
   },
   {
    "duration": 140,
    "start_time": "2023-03-09T22:03:19.629Z"
   },
   {
    "duration": 226,
    "start_time": "2023-03-09T22:03:19.835Z"
   },
   {
    "duration": 142,
    "start_time": "2023-03-09T22:03:20.063Z"
   },
   {
    "duration": 90,
    "start_time": "2023-03-09T22:03:20.238Z"
   },
   {
    "duration": 94,
    "start_time": "2023-03-09T22:03:20.456Z"
   },
   {
    "duration": 144,
    "start_time": "2023-03-09T22:03:20.670Z"
   },
   {
    "duration": 9,
    "start_time": "2023-03-09T22:03:21.098Z"
   },
   {
    "duration": 10,
    "start_time": "2023-03-09T22:03:23.734Z"
   },
   {
    "duration": 7,
    "start_time": "2023-03-09T22:03:24.779Z"
   },
   {
    "duration": 28,
    "start_time": "2023-03-09T22:03:27.146Z"
   },
   {
    "duration": 3,
    "start_time": "2023-03-09T22:03:38.298Z"
   },
   {
    "duration": 26,
    "start_time": "2023-03-09T22:03:39.215Z"
   },
   {
    "duration": 1323,
    "start_time": "2023-03-09T22:05:01.397Z"
   },
   {
    "duration": 103,
    "start_time": "2023-03-09T22:05:02.722Z"
   },
   {
    "duration": 12,
    "start_time": "2023-03-09T22:05:02.827Z"
   },
   {
    "duration": 7,
    "start_time": "2023-03-09T22:05:02.841Z"
   },
   {
    "duration": 21,
    "start_time": "2023-03-09T22:05:03.144Z"
   },
   {
    "duration": 16,
    "start_time": "2023-03-09T22:05:03.429Z"
   },
   {
    "duration": 4,
    "start_time": "2023-03-09T22:05:04.439Z"
   },
   {
    "duration": 13,
    "start_time": "2023-03-09T22:05:05.454Z"
   },
   {
    "duration": 10,
    "start_time": "2023-03-09T22:05:05.697Z"
   },
   {
    "duration": 36,
    "start_time": "2023-03-09T22:05:05.949Z"
   },
   {
    "duration": 6,
    "start_time": "2023-03-09T22:05:07.880Z"
   },
   {
    "duration": 85,
    "start_time": "2023-03-09T22:05:08.181Z"
   },
   {
    "duration": 7,
    "start_time": "2023-03-09T22:05:08.816Z"
   },
   {
    "duration": 91,
    "start_time": "2023-03-09T22:05:09.284Z"
   },
   {
    "duration": 74,
    "start_time": "2023-03-09T22:05:09.500Z"
   },
   {
    "duration": 144,
    "start_time": "2023-03-09T22:05:09.706Z"
   },
   {
    "duration": 145,
    "start_time": "2023-03-09T22:05:09.916Z"
   },
   {
    "duration": 214,
    "start_time": "2023-03-09T22:05:10.139Z"
   },
   {
    "duration": 177,
    "start_time": "2023-03-09T22:05:10.354Z"
   },
   {
    "duration": 104,
    "start_time": "2023-03-09T22:05:10.645Z"
   },
   {
    "duration": 92,
    "start_time": "2023-03-09T22:05:11.092Z"
   },
   {
    "duration": 162,
    "start_time": "2023-03-09T22:05:11.385Z"
   },
   {
    "duration": 8,
    "start_time": "2023-03-09T22:05:11.934Z"
   },
   {
    "duration": 10,
    "start_time": "2023-03-09T22:05:14.716Z"
   },
   {
    "duration": 7,
    "start_time": "2023-03-09T22:05:15.409Z"
   },
   {
    "duration": 2,
    "start_time": "2023-03-09T22:05:17.070Z"
   },
   {
    "duration": 18,
    "start_time": "2023-03-09T22:05:17.869Z"
   },
   {
    "duration": 121,
    "start_time": "2023-03-09T22:05:45.089Z"
   },
   {
    "duration": 2392,
    "start_time": "2023-03-10T20:33:30.663Z"
   },
   {
    "duration": 320,
    "start_time": "2023-03-10T20:33:37.457Z"
   },
   {
    "duration": 16,
    "start_time": "2023-03-10T20:33:39.822Z"
   },
   {
    "duration": 6,
    "start_time": "2023-03-10T20:33:40.520Z"
   },
   {
    "duration": 20,
    "start_time": "2023-03-10T20:33:40.892Z"
   },
   {
    "duration": 16,
    "start_time": "2023-03-10T20:33:41.212Z"
   },
   {
    "duration": 5,
    "start_time": "2023-03-10T20:33:43.032Z"
   },
   {
    "duration": 14,
    "start_time": "2023-03-10T20:33:44.761Z"
   },
   {
    "duration": 9,
    "start_time": "2023-03-10T20:33:45.082Z"
   },
   {
    "duration": 40,
    "start_time": "2023-03-10T20:33:45.432Z"
   },
   {
    "duration": 106,
    "start_time": "2023-03-10T20:34:01.600Z"
   },
   {
    "duration": 19,
    "start_time": "2023-03-10T20:34:11.270Z"
   },
   {
    "duration": 8,
    "start_time": "2023-03-10T20:35:05.072Z"
   },
   {
    "duration": 15,
    "start_time": "2023-03-10T20:35:21.303Z"
   },
   {
    "duration": 23,
    "start_time": "2023-03-10T20:35:46.910Z"
   },
   {
    "duration": 11,
    "start_time": "2023-03-10T20:35:56.782Z"
   },
   {
    "duration": 9,
    "start_time": "2023-03-10T20:35:58.223Z"
   },
   {
    "duration": 34,
    "start_time": "2023-03-10T20:35:59.733Z"
   },
   {
    "duration": 5,
    "start_time": "2023-03-10T20:36:03.663Z"
   },
   {
    "duration": 107,
    "start_time": "2023-03-10T20:36:04.040Z"
   },
   {
    "duration": 5,
    "start_time": "2023-03-10T20:36:04.832Z"
   },
   {
    "duration": 94,
    "start_time": "2023-03-10T20:36:05.223Z"
   },
   {
    "duration": 84,
    "start_time": "2023-03-10T20:36:05.521Z"
   },
   {
    "duration": 168,
    "start_time": "2023-03-10T20:36:05.823Z"
   },
   {
    "duration": 172,
    "start_time": "2023-03-10T20:36:06.113Z"
   },
   {
    "duration": 236,
    "start_time": "2023-03-10T20:36:06.462Z"
   },
   {
    "duration": 146,
    "start_time": "2023-03-10T20:36:06.812Z"
   },
   {
    "duration": 102,
    "start_time": "2023-03-10T20:36:07.245Z"
   },
   {
    "duration": 108,
    "start_time": "2023-03-10T20:36:07.732Z"
   },
   {
    "duration": 174,
    "start_time": "2023-03-10T20:36:08.210Z"
   },
   {
    "duration": 13,
    "start_time": "2023-03-10T20:36:16.515Z"
   },
   {
    "duration": 9,
    "start_time": "2023-03-10T20:36:43.793Z"
   },
   {
    "duration": 6,
    "start_time": "2023-03-10T20:37:20.633Z"
   },
   {
    "duration": 20,
    "start_time": "2023-03-10T20:38:01.893Z"
   },
   {
    "duration": 1273,
    "start_time": "2023-03-10T20:41:17.232Z"
   },
   {
    "duration": 81,
    "start_time": "2023-03-10T20:41:19.208Z"
   },
   {
    "duration": 12,
    "start_time": "2023-03-10T20:41:19.709Z"
   },
   {
    "duration": 6,
    "start_time": "2023-03-10T20:41:19.924Z"
   },
   {
    "duration": 20,
    "start_time": "2023-03-10T20:41:20.172Z"
   },
   {
    "duration": 14,
    "start_time": "2023-03-10T20:41:20.413Z"
   },
   {
    "duration": 4,
    "start_time": "2023-03-10T20:41:21.308Z"
   },
   {
    "duration": 13,
    "start_time": "2023-03-10T20:41:25.282Z"
   },
   {
    "duration": 10,
    "start_time": "2023-03-10T20:41:25.772Z"
   },
   {
    "duration": 33,
    "start_time": "2023-03-10T20:41:26.035Z"
   },
   {
    "duration": 5,
    "start_time": "2023-03-10T20:41:27.833Z"
   },
   {
    "duration": 81,
    "start_time": "2023-03-10T20:41:28.107Z"
   },
   {
    "duration": 5,
    "start_time": "2023-03-10T20:41:28.622Z"
   },
   {
    "duration": 78,
    "start_time": "2023-03-10T20:41:28.832Z"
   },
   {
    "duration": 73,
    "start_time": "2023-03-10T20:41:29.021Z"
   },
   {
    "duration": 141,
    "start_time": "2023-03-10T20:41:29.263Z"
   },
   {
    "duration": 142,
    "start_time": "2023-03-10T20:41:29.461Z"
   },
   {
    "duration": 190,
    "start_time": "2023-03-10T20:41:29.730Z"
   },
   {
    "duration": 118,
    "start_time": "2023-03-10T20:41:29.930Z"
   },
   {
    "duration": 98,
    "start_time": "2023-03-10T20:41:30.144Z"
   },
   {
    "duration": 95,
    "start_time": "2023-03-10T20:41:30.363Z"
   },
   {
    "duration": 147,
    "start_time": "2023-03-10T20:41:30.565Z"
   },
   {
    "duration": 9,
    "start_time": "2023-03-10T20:41:31.016Z"
   },
   {
    "duration": 102,
    "start_time": "2023-03-10T20:41:36.710Z"
   },
   {
    "duration": 9,
    "start_time": "2023-03-10T20:41:54.272Z"
   },
   {
    "duration": 17,
    "start_time": "2023-03-10T20:42:24.552Z"
   },
   {
    "duration": 9,
    "start_time": "2023-03-10T20:42:37.523Z"
   },
   {
    "duration": 6,
    "start_time": "2023-03-10T20:42:43.083Z"
   },
   {
    "duration": 9,
    "start_time": "2023-03-10T20:45:50.608Z"
   },
   {
    "duration": 10,
    "start_time": "2023-03-10T20:45:58.884Z"
   },
   {
    "duration": 10,
    "start_time": "2023-03-10T20:46:39.409Z"
   },
   {
    "duration": 36,
    "start_time": "2023-03-10T20:48:52.867Z"
   },
   {
    "duration": 14,
    "start_time": "2023-03-10T20:49:38.180Z"
   },
   {
    "duration": 12,
    "start_time": "2023-03-10T20:51:11.027Z"
   },
   {
    "duration": 39,
    "start_time": "2023-03-10T20:52:23.867Z"
   },
   {
    "duration": 9,
    "start_time": "2023-03-10T20:52:33.282Z"
   },
   {
    "duration": 7,
    "start_time": "2023-03-10T20:52:55.740Z"
   },
   {
    "duration": 47,
    "start_time": "2023-03-10T20:55:42.113Z"
   },
   {
    "duration": 12030,
    "start_time": "2023-03-10T20:58:01.006Z"
   },
   {
    "duration": 66,
    "start_time": "2023-03-10T21:00:01.165Z"
   },
   {
    "duration": 68424,
    "start_time": "2023-03-10T21:00:09.966Z"
   },
   {
    "duration": 68304,
    "start_time": "2023-03-10T21:02:19.367Z"
   },
   {
    "duration": 406,
    "start_time": "2023-03-10T21:03:58.646Z"
   },
   {
    "duration": 343,
    "start_time": "2023-03-10T21:13:49.002Z"
   },
   {
    "duration": 45,
    "start_time": "2023-03-10T21:34:18.777Z"
   },
   {
    "duration": 13,
    "start_time": "2023-03-10T21:34:51.597Z"
   },
   {
    "duration": 13,
    "start_time": "2023-03-10T21:35:54.153Z"
   },
   {
    "duration": 87212,
    "start_time": "2023-03-10T21:40:17.116Z"
   },
   {
    "duration": 562,
    "start_time": "2023-03-10T21:42:29.688Z"
   },
   {
    "duration": 88670,
    "start_time": "2023-03-10T21:44:29.074Z"
   },
   {
    "duration": 100,
    "start_time": "2023-03-10T21:45:57.745Z"
   },
   {
    "duration": 12,
    "start_time": "2023-03-10T21:49:33.462Z"
   },
   {
    "duration": 62,
    "start_time": "2023-03-10T21:49:56.096Z"
   },
   {
    "duration": 92097,
    "start_time": "2023-03-10T21:50:26.955Z"
   },
   {
    "duration": 204,
    "start_time": "2023-03-10T21:52:54.543Z"
   },
   {
    "duration": 12,
    "start_time": "2023-03-10T21:55:07.729Z"
   },
   {
    "duration": 56,
    "start_time": "2023-03-10T21:55:10.447Z"
   },
   {
    "duration": 51,
    "start_time": "2023-03-10T21:58:15.066Z"
   },
   {
    "duration": 13,
    "start_time": "2023-03-10T22:00:49.402Z"
   },
   {
    "duration": 12,
    "start_time": "2023-03-10T22:04:56.315Z"
   },
   {
    "duration": 1064,
    "start_time": "2023-03-10T22:08:10.972Z"
   },
   {
    "duration": 1295,
    "start_time": "2023-03-10T22:13:20.556Z"
   },
   {
    "duration": 1013,
    "start_time": "2023-03-10T22:14:04.801Z"
   },
   {
    "duration": 1158,
    "start_time": "2023-03-10T22:14:52.027Z"
   },
   {
    "duration": 55,
    "start_time": "2023-03-10T22:16:08.310Z"
   },
   {
    "duration": 354,
    "start_time": "2023-03-10T22:18:46.322Z"
   },
   {
    "duration": 2,
    "start_time": "2023-03-10T22:19:05.739Z"
   },
   {
    "duration": 1297,
    "start_time": "2023-03-10T22:22:12.003Z"
   },
   {
    "duration": 78,
    "start_time": "2023-03-10T22:22:17.443Z"
   },
   {
    "duration": 12,
    "start_time": "2023-03-10T22:22:19.677Z"
   },
   {
    "duration": 6,
    "start_time": "2023-03-10T22:22:20.400Z"
   },
   {
    "duration": 32,
    "start_time": "2023-03-10T22:22:22.263Z"
   },
   {
    "duration": 14,
    "start_time": "2023-03-10T22:22:23.353Z"
   },
   {
    "duration": 100,
    "start_time": "2023-03-10T22:23:09.913Z"
   },
   {
    "duration": 7,
    "start_time": "2023-03-10T22:23:16.823Z"
   },
   {
    "duration": 13,
    "start_time": "2023-03-10T22:23:30.463Z"
   },
   {
    "duration": 4,
    "start_time": "2023-03-10T22:24:29.255Z"
   },
   {
    "duration": 18,
    "start_time": "2023-03-10T22:24:34.357Z"
   },
   {
    "duration": 9,
    "start_time": "2023-03-10T22:24:35.818Z"
   },
   {
    "duration": 32,
    "start_time": "2023-03-10T22:24:37.693Z"
   },
   {
    "duration": 6,
    "start_time": "2023-03-10T22:25:57.532Z"
   },
   {
    "duration": 93,
    "start_time": "2023-03-10T22:25:58.221Z"
   },
   {
    "duration": 5,
    "start_time": "2023-03-10T22:25:59.613Z"
   },
   {
    "duration": 86,
    "start_time": "2023-03-10T22:25:59.903Z"
   },
   {
    "duration": 78,
    "start_time": "2023-03-10T22:26:00.133Z"
   },
   {
    "duration": 152,
    "start_time": "2023-03-10T22:26:00.604Z"
   },
   {
    "duration": 148,
    "start_time": "2023-03-10T22:26:00.809Z"
   },
   {
    "duration": 231,
    "start_time": "2023-03-10T22:26:01.083Z"
   },
   {
    "duration": 122,
    "start_time": "2023-03-10T22:26:01.358Z"
   },
   {
    "duration": 111,
    "start_time": "2023-03-10T22:26:01.680Z"
   },
   {
    "duration": 95,
    "start_time": "2023-03-10T22:26:01.953Z"
   },
   {
    "duration": 152,
    "start_time": "2023-03-10T22:26:02.223Z"
   },
   {
    "duration": 9,
    "start_time": "2023-03-10T22:26:12.133Z"
   },
   {
    "duration": 18,
    "start_time": "2023-03-10T22:27:34.493Z"
   },
   {
    "duration": 9,
    "start_time": "2023-03-10T22:27:38.903Z"
   },
   {
    "duration": 9,
    "start_time": "2023-03-10T22:27:42.084Z"
   },
   {
    "duration": 6,
    "start_time": "2023-03-10T22:28:42.912Z"
   },
   {
    "duration": 12,
    "start_time": "2023-03-10T22:32:00.653Z"
   },
   {
    "duration": 2,
    "start_time": "2023-03-10T22:32:04.753Z"
   },
   {
    "duration": 68078,
    "start_time": "2023-03-10T22:34:22.267Z"
   },
   {
    "duration": 378,
    "start_time": "2023-03-10T22:35:56.973Z"
   },
   {
    "duration": 12,
    "start_time": "2023-03-10T22:49:27.007Z"
   },
   {
    "duration": 49,
    "start_time": "2023-03-10T22:50:31.600Z"
   },
   {
    "duration": 88294,
    "start_time": "2023-03-10T22:51:05.641Z"
   },
   {
    "duration": 58,
    "start_time": "2023-03-10T22:53:14.087Z"
   },
   {
    "duration": 11,
    "start_time": "2023-03-10T22:54:48.577Z"
   },
   {
    "duration": 54,
    "start_time": "2023-03-10T22:55:05.277Z"
   },
   {
    "duration": 87516,
    "start_time": "2023-03-10T22:55:07.951Z"
   },
   {
    "duration": 16,
    "start_time": "2023-03-10T22:57:46.627Z"
   },
   {
    "duration": 14,
    "start_time": "2023-03-10T22:59:13.488Z"
   },
   {
    "duration": 12,
    "start_time": "2023-03-10T22:59:45.295Z"
   },
   {
    "duration": 11,
    "start_time": "2023-03-10T22:59:48.512Z"
   },
   {
    "duration": 11,
    "start_time": "2023-03-10T23:00:00.023Z"
   },
   {
    "duration": 12,
    "start_time": "2023-03-10T23:01:20.753Z"
   },
   {
    "duration": 37,
    "start_time": "2023-03-10T23:02:08.634Z"
   },
   {
    "duration": 36963,
    "start_time": "2023-03-10T23:03:06.652Z"
   },
   {
    "duration": 104,
    "start_time": "2023-03-10T23:04:15.738Z"
   },
   {
    "duration": 55,
    "start_time": "2023-03-10T23:09:45.469Z"
   },
   {
    "duration": 16,
    "start_time": "2023-03-10T23:16:57.980Z"
   },
   {
    "duration": 90,
    "start_time": "2023-03-10T23:18:54.350Z"
   },
   {
    "duration": 36178,
    "start_time": "2023-03-10T23:19:05.824Z"
   },
   {
    "duration": 46,
    "start_time": "2023-03-10T23:20:33.751Z"
   },
   {
    "duration": 1173,
    "start_time": "2023-03-10T23:24:46.857Z"
   },
   {
    "duration": 1736,
    "start_time": "2023-03-10T23:26:10.842Z"
   },
   {
    "duration": 1843,
    "start_time": "2023-03-10T23:29:16.172Z"
   },
   {
    "duration": 1787,
    "start_time": "2023-03-10T23:29:26.698Z"
   },
   {
    "duration": 1767,
    "start_time": "2023-03-10T23:31:45.400Z"
   },
   {
    "duration": 1727,
    "start_time": "2023-03-10T23:32:17.008Z"
   },
   {
    "duration": 1805,
    "start_time": "2023-03-10T23:33:03.429Z"
   },
   {
    "duration": 125,
    "start_time": "2023-03-10T23:33:16.891Z"
   },
   {
    "duration": 4,
    "start_time": "2023-03-10T23:36:50.121Z"
   },
   {
    "duration": 148,
    "start_time": "2023-03-10T23:36:53.531Z"
   },
   {
    "duration": 116,
    "start_time": "2023-03-10T23:37:28.521Z"
   },
   {
    "duration": 134,
    "start_time": "2023-03-10T23:37:56.551Z"
   },
   {
    "duration": 3,
    "start_time": "2023-03-10T23:40:04.600Z"
   },
   {
    "duration": 126,
    "start_time": "2023-03-10T23:40:05.688Z"
   },
   {
    "duration": 1578,
    "start_time": "2023-03-11T06:38:20.278Z"
   },
   {
    "duration": 139,
    "start_time": "2023-03-11T06:38:21.858Z"
   },
   {
    "duration": 13,
    "start_time": "2023-03-11T06:38:21.999Z"
   },
   {
    "duration": 7,
    "start_time": "2023-03-11T06:38:22.016Z"
   },
   {
    "duration": 30,
    "start_time": "2023-03-11T06:38:22.025Z"
   },
   {
    "duration": 124,
    "start_time": "2023-03-11T06:38:22.078Z"
   },
   {
    "duration": 8,
    "start_time": "2023-03-11T06:38:48.888Z"
   },
   {
    "duration": 12,
    "start_time": "2023-03-11T06:38:58.609Z"
   },
   {
    "duration": 7,
    "start_time": "2023-03-11T06:39:20.211Z"
   },
   {
    "duration": 15,
    "start_time": "2023-03-11T06:39:21.727Z"
   },
   {
    "duration": 1439,
    "start_time": "2023-03-11T20:13:49.030Z"
   },
   {
    "duration": 204,
    "start_time": "2023-03-11T20:13:50.471Z"
   },
   {
    "duration": 14,
    "start_time": "2023-03-11T20:13:50.677Z"
   },
   {
    "duration": 6,
    "start_time": "2023-03-11T20:13:50.693Z"
   },
   {
    "duration": 31,
    "start_time": "2023-03-11T20:13:50.700Z"
   },
   {
    "duration": 27,
    "start_time": "2023-03-11T20:13:50.732Z"
   },
   {
    "duration": 24,
    "start_time": "2023-03-11T20:13:50.761Z"
   },
   {
    "duration": 28,
    "start_time": "2023-03-11T20:13:50.787Z"
   },
   {
    "duration": 39,
    "start_time": "2023-03-11T20:13:50.817Z"
   },
   {
    "duration": 10,
    "start_time": "2023-03-11T20:13:50.859Z"
   },
   {
    "duration": 33,
    "start_time": "2023-03-11T20:13:50.871Z"
   },
   {
    "duration": 5,
    "start_time": "2023-03-11T20:13:50.906Z"
   },
   {
    "duration": 93,
    "start_time": "2023-03-11T20:13:50.912Z"
   },
   {
    "duration": 5,
    "start_time": "2023-03-11T20:13:51.007Z"
   },
   {
    "duration": 81,
    "start_time": "2023-03-11T20:13:51.024Z"
   },
   {
    "duration": 86,
    "start_time": "2023-03-11T20:13:51.106Z"
   },
   {
    "duration": 176,
    "start_time": "2023-03-11T20:13:51.194Z"
   },
   {
    "duration": 166,
    "start_time": "2023-03-11T20:13:51.372Z"
   },
   {
    "duration": 229,
    "start_time": "2023-03-11T20:13:51.540Z"
   },
   {
    "duration": 134,
    "start_time": "2023-03-11T20:13:51.770Z"
   },
   {
    "duration": 105,
    "start_time": "2023-03-11T20:13:51.906Z"
   },
   {
    "duration": 117,
    "start_time": "2023-03-11T20:13:52.013Z"
   },
   {
    "duration": 193,
    "start_time": "2023-03-11T20:13:52.132Z"
   },
   {
    "duration": 8,
    "start_time": "2023-03-11T20:13:52.327Z"
   },
   {
    "duration": 19,
    "start_time": "2023-03-11T20:13:52.337Z"
   },
   {
    "duration": 9,
    "start_time": "2023-03-11T20:13:52.358Z"
   },
   {
    "duration": 7,
    "start_time": "2023-03-11T20:13:52.368Z"
   },
   {
    "duration": 49,
    "start_time": "2023-03-11T20:13:52.379Z"
   },
   {
    "duration": 3,
    "start_time": "2023-03-11T20:13:52.430Z"
   },
   {
    "duration": 52,
    "start_time": "2023-03-11T20:13:52.434Z"
   },
   {
    "duration": 73352,
    "start_time": "2023-03-11T20:13:52.488Z"
   },
   {
    "duration": 482,
    "start_time": "2023-03-11T20:15:05.842Z"
   },
   {
    "duration": 99,
    "start_time": "2023-03-11T20:15:06.328Z"
   },
   {
    "duration": 50,
    "start_time": "2023-03-11T20:15:06.429Z"
   },
   {
    "duration": 96832,
    "start_time": "2023-03-11T20:15:06.480Z"
   },
   {
    "duration": 117,
    "start_time": "2023-03-11T20:16:43.314Z"
   },
   {
    "duration": 102,
    "start_time": "2023-03-11T20:16:43.528Z"
   },
   {
    "duration": 34,
    "start_time": "2023-03-11T20:16:43.632Z"
   },
   {
    "duration": 44978,
    "start_time": "2023-03-11T20:16:43.668Z"
   },
   {
    "duration": 182,
    "start_time": "2023-03-11T20:17:28.648Z"
   },
   {
    "duration": 1897,
    "start_time": "2023-03-11T20:17:28.832Z"
   },
   {
    "duration": 4,
    "start_time": "2023-03-11T20:17:30.731Z"
   },
   {
    "duration": 146,
    "start_time": "2023-03-11T20:17:30.736Z"
   },
   {
    "duration": 54,
    "start_time": "2023-03-11T20:24:02.061Z"
   },
   {
    "duration": 53,
    "start_time": "2023-03-11T20:24:24.441Z"
   },
   {
    "duration": 14,
    "start_time": "2023-03-11T20:27:45.790Z"
   },
   {
    "duration": 13,
    "start_time": "2023-03-11T20:29:17.950Z"
   },
   {
    "duration": 1335,
    "start_time": "2023-03-11T20:29:28.690Z"
   },
   {
    "duration": 94,
    "start_time": "2023-03-11T20:29:30.029Z"
   },
   {
    "duration": 11,
    "start_time": "2023-03-11T20:29:30.125Z"
   },
   {
    "duration": 10,
    "start_time": "2023-03-11T20:29:30.138Z"
   },
   {
    "duration": 32,
    "start_time": "2023-03-11T20:29:30.150Z"
   },
   {
    "duration": 24,
    "start_time": "2023-03-11T20:29:30.184Z"
   },
   {
    "duration": 27,
    "start_time": "2023-03-11T20:29:30.209Z"
   },
   {
    "duration": 25,
    "start_time": "2023-03-11T20:29:30.237Z"
   },
   {
    "duration": 40,
    "start_time": "2023-03-11T20:29:30.264Z"
   },
   {
    "duration": 29,
    "start_time": "2023-03-11T20:29:30.307Z"
   },
   {
    "duration": 71,
    "start_time": "2023-03-11T20:29:30.338Z"
   },
   {
    "duration": 16,
    "start_time": "2023-03-11T20:29:30.410Z"
   },
   {
    "duration": 143,
    "start_time": "2023-03-11T20:29:30.428Z"
   },
   {
    "duration": 6,
    "start_time": "2023-03-11T20:29:30.573Z"
   },
   {
    "duration": 125,
    "start_time": "2023-03-11T20:29:30.581Z"
   },
   {
    "duration": 82,
    "start_time": "2023-03-11T20:29:30.708Z"
   },
   {
    "duration": 175,
    "start_time": "2023-03-11T20:29:30.792Z"
   },
   {
    "duration": 166,
    "start_time": "2023-03-11T20:29:30.970Z"
   },
   {
    "duration": 241,
    "start_time": "2023-03-11T20:29:31.138Z"
   },
   {
    "duration": 155,
    "start_time": "2023-03-11T20:29:31.381Z"
   },
   {
    "duration": 113,
    "start_time": "2023-03-11T20:29:31.537Z"
   },
   {
    "duration": 104,
    "start_time": "2023-03-11T20:29:31.651Z"
   },
   {
    "duration": 156,
    "start_time": "2023-03-11T20:29:31.757Z"
   },
   {
    "duration": 14,
    "start_time": "2023-03-11T20:29:31.914Z"
   },
   {
    "duration": 41,
    "start_time": "2023-03-11T20:29:31.930Z"
   },
   {
    "duration": 19,
    "start_time": "2023-03-11T20:29:31.973Z"
   },
   {
    "duration": 9,
    "start_time": "2023-03-11T20:29:31.993Z"
   },
   {
    "duration": 19,
    "start_time": "2023-03-11T20:29:32.006Z"
   },
   {
    "duration": 23,
    "start_time": "2023-03-11T20:29:32.026Z"
   },
   {
    "duration": 65,
    "start_time": "2023-03-11T20:29:32.051Z"
   },
   {
    "duration": 79834,
    "start_time": "2023-03-11T20:29:32.117Z"
   },
   {
    "duration": 85,
    "start_time": "2023-03-11T20:30:51.953Z"
   },
   {
    "duration": 214,
    "start_time": "2023-03-11T20:30:52.128Z"
   },
   {
    "duration": 0,
    "start_time": "2023-03-11T20:30:52.343Z"
   },
   {
    "duration": 0,
    "start_time": "2023-03-11T20:30:52.344Z"
   },
   {
    "duration": 0,
    "start_time": "2023-03-11T20:30:52.345Z"
   },
   {
    "duration": 0,
    "start_time": "2023-03-11T20:30:52.346Z"
   },
   {
    "duration": 0,
    "start_time": "2023-03-11T20:30:52.347Z"
   },
   {
    "duration": 0,
    "start_time": "2023-03-11T20:30:52.348Z"
   },
   {
    "duration": 0,
    "start_time": "2023-03-11T20:30:52.348Z"
   },
   {
    "duration": 0,
    "start_time": "2023-03-11T20:30:52.349Z"
   },
   {
    "duration": 0,
    "start_time": "2023-03-11T20:30:52.351Z"
   },
   {
    "duration": 0,
    "start_time": "2023-03-11T20:30:52.352Z"
   },
   {
    "duration": 26,
    "start_time": "2023-03-11T20:34:04.121Z"
   },
   {
    "duration": 11,
    "start_time": "2023-03-11T20:34:41.880Z"
   },
   {
    "duration": 10,
    "start_time": "2023-03-11T20:34:57.272Z"
   },
   {
    "duration": 1304,
    "start_time": "2023-03-11T20:35:06.954Z"
   },
   {
    "duration": 109,
    "start_time": "2023-03-11T20:35:08.260Z"
   },
   {
    "duration": 21,
    "start_time": "2023-03-11T20:35:08.371Z"
   },
   {
    "duration": 6,
    "start_time": "2023-03-11T20:35:08.394Z"
   },
   {
    "duration": 38,
    "start_time": "2023-03-11T20:35:08.403Z"
   },
   {
    "duration": 7,
    "start_time": "2023-03-11T20:35:08.443Z"
   },
   {
    "duration": 12,
    "start_time": "2023-03-11T20:35:08.452Z"
   },
   {
    "duration": 3,
    "start_time": "2023-03-11T20:35:08.466Z"
   },
   {
    "duration": 15,
    "start_time": "2023-03-11T20:35:08.471Z"
   },
   {
    "duration": 44,
    "start_time": "2023-03-11T20:35:08.488Z"
   },
   {
    "duration": 36,
    "start_time": "2023-03-11T20:35:08.534Z"
   },
   {
    "duration": 5,
    "start_time": "2023-03-11T20:35:08.572Z"
   },
   {
    "duration": 121,
    "start_time": "2023-03-11T20:35:08.579Z"
   },
   {
    "duration": 6,
    "start_time": "2023-03-11T20:35:08.703Z"
   },
   {
    "duration": 112,
    "start_time": "2023-03-11T20:35:08.712Z"
   },
   {
    "duration": 132,
    "start_time": "2023-03-11T20:35:08.826Z"
   },
   {
    "duration": 205,
    "start_time": "2023-03-11T20:35:08.961Z"
   },
   {
    "duration": 172,
    "start_time": "2023-03-11T20:35:09.168Z"
   },
   {
    "duration": 254,
    "start_time": "2023-03-11T20:35:09.342Z"
   },
   {
    "duration": 156,
    "start_time": "2023-03-11T20:35:09.597Z"
   },
   {
    "duration": 119,
    "start_time": "2023-03-11T20:35:09.754Z"
   },
   {
    "duration": 112,
    "start_time": "2023-03-11T20:35:09.875Z"
   },
   {
    "duration": 186,
    "start_time": "2023-03-11T20:35:09.989Z"
   },
   {
    "duration": 10,
    "start_time": "2023-03-11T20:35:10.176Z"
   },
   {
    "duration": 21,
    "start_time": "2023-03-11T20:35:10.187Z"
   },
   {
    "duration": 10,
    "start_time": "2023-03-11T20:35:10.224Z"
   },
   {
    "duration": 6,
    "start_time": "2023-03-11T20:35:10.236Z"
   },
   {
    "duration": 18,
    "start_time": "2023-03-11T20:35:10.244Z"
   },
   {
    "duration": 4,
    "start_time": "2023-03-11T20:35:10.264Z"
   },
   {
    "duration": 75,
    "start_time": "2023-03-11T20:35:10.269Z"
   },
   {
    "duration": 75969,
    "start_time": "2023-03-11T20:35:10.346Z"
   },
   {
    "duration": 516,
    "start_time": "2023-03-11T20:36:26.317Z"
   },
   {
    "duration": 106,
    "start_time": "2023-03-11T20:36:26.926Z"
   },
   {
    "duration": 51,
    "start_time": "2023-03-11T20:36:27.033Z"
   },
   {
    "duration": 96983,
    "start_time": "2023-03-11T20:36:27.086Z"
   },
   {
    "duration": 161,
    "start_time": "2023-03-11T20:38:04.071Z"
   },
   {
    "duration": 104,
    "start_time": "2023-03-11T20:38:04.323Z"
   },
   {
    "duration": 31,
    "start_time": "2023-03-11T20:38:04.429Z"
   },
   {
    "duration": 45967,
    "start_time": "2023-03-11T20:38:04.462Z"
   },
   {
    "duration": 104,
    "start_time": "2023-03-11T20:38:50.430Z"
   },
   {
    "duration": 1797,
    "start_time": "2023-03-11T20:38:50.629Z"
   },
   {
    "duration": 4,
    "start_time": "2023-03-11T20:38:52.428Z"
   },
   {
    "duration": 133,
    "start_time": "2023-03-11T20:38:52.434Z"
   },
   {
    "duration": 48,
    "start_time": "2023-03-11T20:47:15.850Z"
   },
   {
    "duration": 51,
    "start_time": "2023-03-11T20:47:23.773Z"
   }
  ],
  "kernelspec": {
   "display_name": "Python 3 (ipykernel)",
   "language": "python",
   "name": "python3"
  },
  "language_info": {
   "codemirror_mode": {
    "name": "ipython",
    "version": 3
   },
   "file_extension": ".py",
   "mimetype": "text/x-python",
   "name": "python",
   "nbconvert_exporter": "python",
   "pygments_lexer": "ipython3",
   "version": "3.9.5"
  },
  "toc": {
   "base_numbering": 1,
   "nav_menu": {},
   "number_sections": true,
   "sideBar": true,
   "skip_h1_title": true,
   "title_cell": "Содержание",
   "title_sidebar": "Contents",
   "toc_cell": true,
   "toc_position": {
    "height": "calc(100% - 180px)",
    "left": "10px",
    "top": "150px",
    "width": "165px"
   },
   "toc_section_display": true,
   "toc_window_display": true
  }
 },
 "nbformat": 4,
 "nbformat_minor": 2
}
