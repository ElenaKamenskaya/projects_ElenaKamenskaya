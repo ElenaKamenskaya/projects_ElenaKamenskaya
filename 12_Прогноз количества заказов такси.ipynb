{
 "cells": [
  {
   "cell_type": "markdown",
   "metadata": {},
   "source": [
    "#  Прогнозирование заказов такси"
   ]
  },
  {
   "cell_type": "markdown",
   "metadata": {},
   "source": [
    "**Задача:** спрогнозировать количество заказов такси на следующий час\n",
    "\n",
    "**Цель:** построить модель для своевременного привлечения водителей в период пиковой нагрузки\n",
    "\n",
    "**Исторические данные:** исторические данные о заказах такси в аэропортах за март-август 2018г\n",
    "\n",
    "**Действия:** Предподготовка данных. Ресемплирование. Построить несколько моделей и выбрать наилучшую модель, где RMSE меньше 48"
   ]
  },
  {
   "cell_type": "markdown",
   "metadata": {},
   "source": [
    "## Подготовка"
   ]
  },
  {
   "cell_type": "code",
   "execution_count": 1,
   "metadata": {},
   "outputs": [],
   "source": [
    "# подгрузим необходимые библиотеки\n",
    "\n",
    "import pandas as pd\n",
    "import matplotlib.pyplot as plt\n",
    "from statsmodels.tsa.seasonal import seasonal_decompose\n",
    "from sklearn.model_selection import train_test_split, GridSearchCV\n",
    "from sklearn.model_selection import TimeSeriesSplit\n",
    "from sklearn.model_selection import cross_val_score\n",
    "from sklearn.linear_model import LinearRegression\n",
    "from sklearn.tree import DecisionTreeRegressor\n",
    "from sklearn.metrics import mean_squared_error\n",
    "from lightgbm import LGBMRegressor\n",
    "from catboost import CatBoostRegressor"
   ]
  },
  {
   "cell_type": "code",
   "execution_count": 2,
   "metadata": {},
   "outputs": [
    {
     "data": {
      "text/html": [
       "<div>\n",
       "<style scoped>\n",
       "    .dataframe tbody tr th:only-of-type {\n",
       "        vertical-align: middle;\n",
       "    }\n",
       "\n",
       "    .dataframe tbody tr th {\n",
       "        vertical-align: top;\n",
       "    }\n",
       "\n",
       "    .dataframe thead th {\n",
       "        text-align: right;\n",
       "    }\n",
       "</style>\n",
       "<table border=\"1\" class=\"dataframe\">\n",
       "  <thead>\n",
       "    <tr style=\"text-align: right;\">\n",
       "      <th></th>\n",
       "      <th>datetime</th>\n",
       "      <th>num_orders</th>\n",
       "    </tr>\n",
       "  </thead>\n",
       "  <tbody>\n",
       "    <tr>\n",
       "      <th>0</th>\n",
       "      <td>2018-03-01 00:00:00</td>\n",
       "      <td>9</td>\n",
       "    </tr>\n",
       "    <tr>\n",
       "      <th>1</th>\n",
       "      <td>2018-03-01 00:10:00</td>\n",
       "      <td>14</td>\n",
       "    </tr>\n",
       "    <tr>\n",
       "      <th>2</th>\n",
       "      <td>2018-03-01 00:20:00</td>\n",
       "      <td>28</td>\n",
       "    </tr>\n",
       "    <tr>\n",
       "      <th>3</th>\n",
       "      <td>2018-03-01 00:30:00</td>\n",
       "      <td>20</td>\n",
       "    </tr>\n",
       "    <tr>\n",
       "      <th>4</th>\n",
       "      <td>2018-03-01 00:40:00</td>\n",
       "      <td>32</td>\n",
       "    </tr>\n",
       "    <tr>\n",
       "      <th>...</th>\n",
       "      <td>...</td>\n",
       "      <td>...</td>\n",
       "    </tr>\n",
       "    <tr>\n",
       "      <th>26491</th>\n",
       "      <td>2018-08-31 23:10:00</td>\n",
       "      <td>32</td>\n",
       "    </tr>\n",
       "    <tr>\n",
       "      <th>26492</th>\n",
       "      <td>2018-08-31 23:20:00</td>\n",
       "      <td>24</td>\n",
       "    </tr>\n",
       "    <tr>\n",
       "      <th>26493</th>\n",
       "      <td>2018-08-31 23:30:00</td>\n",
       "      <td>27</td>\n",
       "    </tr>\n",
       "    <tr>\n",
       "      <th>26494</th>\n",
       "      <td>2018-08-31 23:40:00</td>\n",
       "      <td>39</td>\n",
       "    </tr>\n",
       "    <tr>\n",
       "      <th>26495</th>\n",
       "      <td>2018-08-31 23:50:00</td>\n",
       "      <td>53</td>\n",
       "    </tr>\n",
       "  </tbody>\n",
       "</table>\n",
       "<p>26496 rows × 2 columns</p>\n",
       "</div>"
      ],
      "text/plain": [
       "                  datetime  num_orders\n",
       "0      2018-03-01 00:00:00           9\n",
       "1      2018-03-01 00:10:00          14\n",
       "2      2018-03-01 00:20:00          28\n",
       "3      2018-03-01 00:30:00          20\n",
       "4      2018-03-01 00:40:00          32\n",
       "...                    ...         ...\n",
       "26491  2018-08-31 23:10:00          32\n",
       "26492  2018-08-31 23:20:00          24\n",
       "26493  2018-08-31 23:30:00          27\n",
       "26494  2018-08-31 23:40:00          39\n",
       "26495  2018-08-31 23:50:00          53\n",
       "\n",
       "[26496 rows x 2 columns]"
      ]
     },
     "execution_count": 2,
     "metadata": {},
     "output_type": "execute_result"
    }
   ],
   "source": [
    "# подгрузим данные\n",
    "\n",
    "data = pd.read_csv('/datasets/taxi.csv')\n",
    "data"
   ]
  },
  {
   "cell_type": "code",
   "execution_count": 3,
   "metadata": {},
   "outputs": [
    {
     "data": {
      "text/html": [
       "<div>\n",
       "<style scoped>\n",
       "    .dataframe tbody tr th:only-of-type {\n",
       "        vertical-align: middle;\n",
       "    }\n",
       "\n",
       "    .dataframe tbody tr th {\n",
       "        vertical-align: top;\n",
       "    }\n",
       "\n",
       "    .dataframe thead th {\n",
       "        text-align: right;\n",
       "    }\n",
       "</style>\n",
       "<table border=\"1\" class=\"dataframe\">\n",
       "  <thead>\n",
       "    <tr style=\"text-align: right;\">\n",
       "      <th></th>\n",
       "      <th>num_orders</th>\n",
       "    </tr>\n",
       "    <tr>\n",
       "      <th>datetime</th>\n",
       "      <th></th>\n",
       "    </tr>\n",
       "  </thead>\n",
       "  <tbody>\n",
       "    <tr>\n",
       "      <th>2018-03-01 00:00:00</th>\n",
       "      <td>9</td>\n",
       "    </tr>\n",
       "    <tr>\n",
       "      <th>2018-03-01 00:10:00</th>\n",
       "      <td>14</td>\n",
       "    </tr>\n",
       "    <tr>\n",
       "      <th>2018-03-01 00:20:00</th>\n",
       "      <td>28</td>\n",
       "    </tr>\n",
       "    <tr>\n",
       "      <th>2018-03-01 00:30:00</th>\n",
       "      <td>20</td>\n",
       "    </tr>\n",
       "    <tr>\n",
       "      <th>2018-03-01 00:40:00</th>\n",
       "      <td>32</td>\n",
       "    </tr>\n",
       "  </tbody>\n",
       "</table>\n",
       "</div>"
      ],
      "text/plain": [
       "                     num_orders\n",
       "datetime                       \n",
       "2018-03-01 00:00:00           9\n",
       "2018-03-01 00:10:00          14\n",
       "2018-03-01 00:20:00          28\n",
       "2018-03-01 00:30:00          20\n",
       "2018-03-01 00:40:00          32"
      ]
     },
     "execution_count": 3,
     "metadata": {},
     "output_type": "execute_result"
    }
   ],
   "source": [
    "# в датесете 2 колонки. Сделаем временной индекс по колонке datetime\n",
    "\n",
    "data = pd.read_csv('/datasets/taxi.csv', index_col=[0], parse_dates=[0])\n",
    "data.head()"
   ]
  },
  {
   "cell_type": "code",
   "execution_count": 4,
   "metadata": {},
   "outputs": [
    {
     "name": "stdout",
     "output_type": "stream",
     "text": [
      "<class 'pandas.core.frame.DataFrame'>\n",
      "DatetimeIndex: 26496 entries, 2018-03-01 00:00:00 to 2018-08-31 23:50:00\n",
      "Data columns (total 1 columns):\n",
      " #   Column      Non-Null Count  Dtype\n",
      "---  ------      --------------  -----\n",
      " 0   num_orders  26496 non-null  int64\n",
      "dtypes: int64(1)\n",
      "memory usage: 414.0 KB\n"
     ]
    }
   ],
   "source": [
    "# получим информацию по данным. Пропусков нет. ТИп данных соответствует данным\n",
    "\n",
    "data.info()"
   ]
  },
  {
   "cell_type": "code",
   "execution_count": 5,
   "metadata": {},
   "outputs": [
    {
     "name": "stdout",
     "output_type": "stream",
     "text": [
      "True\n"
     ]
    }
   ],
   "source": [
    "# проверим в хронологическом ли порядке расположены даты\n",
    "\n",
    "data = data.sort_index()\n",
    "print(data.index.is_monotonic)"
   ]
  },
  {
   "cell_type": "code",
   "execution_count": 6,
   "metadata": {},
   "outputs": [
    {
     "data": {
      "text/html": [
       "<div>\n",
       "<style scoped>\n",
       "    .dataframe tbody tr th:only-of-type {\n",
       "        vertical-align: middle;\n",
       "    }\n",
       "\n",
       "    .dataframe tbody tr th {\n",
       "        vertical-align: top;\n",
       "    }\n",
       "\n",
       "    .dataframe thead th {\n",
       "        text-align: right;\n",
       "    }\n",
       "</style>\n",
       "<table border=\"1\" class=\"dataframe\">\n",
       "  <thead>\n",
       "    <tr style=\"text-align: right;\">\n",
       "      <th></th>\n",
       "      <th>num_orders</th>\n",
       "    </tr>\n",
       "  </thead>\n",
       "  <tbody>\n",
       "    <tr>\n",
       "      <th>count</th>\n",
       "      <td>26496.000000</td>\n",
       "    </tr>\n",
       "    <tr>\n",
       "      <th>mean</th>\n",
       "      <td>14.070463</td>\n",
       "    </tr>\n",
       "    <tr>\n",
       "      <th>std</th>\n",
       "      <td>9.211330</td>\n",
       "    </tr>\n",
       "    <tr>\n",
       "      <th>min</th>\n",
       "      <td>0.000000</td>\n",
       "    </tr>\n",
       "    <tr>\n",
       "      <th>25%</th>\n",
       "      <td>8.000000</td>\n",
       "    </tr>\n",
       "    <tr>\n",
       "      <th>50%</th>\n",
       "      <td>13.000000</td>\n",
       "    </tr>\n",
       "    <tr>\n",
       "      <th>75%</th>\n",
       "      <td>19.000000</td>\n",
       "    </tr>\n",
       "    <tr>\n",
       "      <th>max</th>\n",
       "      <td>119.000000</td>\n",
       "    </tr>\n",
       "  </tbody>\n",
       "</table>\n",
       "</div>"
      ],
      "text/plain": [
       "         num_orders\n",
       "count  26496.000000\n",
       "mean      14.070463\n",
       "std        9.211330\n",
       "min        0.000000\n",
       "25%        8.000000\n",
       "50%       13.000000\n",
       "75%       19.000000\n",
       "max      119.000000"
      ]
     },
     "execution_count": 6,
     "metadata": {},
     "output_type": "execute_result"
    }
   ],
   "source": [
    "# выгрузим статистические данные. Максимальное кол-во заказов приходится менее чем на 25 % всех данных\n",
    "\n",
    "data.describe()"
   ]
  },
  {
   "cell_type": "markdown",
   "metadata": {},
   "source": [
    "### Вывод\n",
    "В данных около 27тыс значений, более чем достаточно для анализа. В данных один признак и один целевой признак. Данные представлены за пол года с 03.2018 по 08.2018.\n",
    "Пропусков в данных нет.\n",
    "Создали временной индекс за счет данных datetime. "
   ]
  },
  {
   "cell_type": "markdown",
   "metadata": {},
   "source": [
    "## Анализ"
   ]
  },
  {
   "cell_type": "code",
   "execution_count": 7,
   "metadata": {},
   "outputs": [
    {
     "data": {
      "image/png": "[encoded data removed]",
      "text/plain": [
       "<Figure size 1512x288 with 1 Axes>"
      ]
     },
     "metadata": {
      "needs_background": "light"
     },
     "output_type": "display_data"
    }
   ],
   "source": [
    "#В связи с тем, что нам нужно спрогнозировать кол-во заказов на час, ресемплируем данные по 1 часу\n",
    "\n",
    "data = data.resample('1H').sum()\n",
    "figsize = (21,4)\n",
    "data.plot(figsize=figsize)\n",
    "plt.title('Суммарное количество заказов за час')\n",
    "plt.show()\n"
   ]
  },
  {
   "cell_type": "code",
   "execution_count": 8,
   "metadata": {},
   "outputs": [
    {
     "data": {
      "image/png": "[encoded data removed]",
      "text/plain": [
       "<Figure size 1512x288 with 1 Axes>"
      ]
     },
     "metadata": {
      "needs_background": "light"
     },
     "output_type": "display_data"
    }
   ],
   "source": [
    "#отобразим скользящую среднюю, чтоб наглядно увидель закономерность.\n",
    "\n",
    "data['rolling_mean'] = data.rolling(100).mean()\n",
    "data.plot(figsize=figsize)\n",
    "plt.title('Скользящая средняя по данным')\n",
    "plt.show()"
   ]
  },
  {
   "cell_type": "code",
   "execution_count": 9,
   "metadata": {},
   "outputs": [
    {
     "name": "stderr",
     "output_type": "stream",
     "text": [
      "/tmp/ipykernel_34/1116282596.py:3: FutureWarning: Indexing a DataFrame with a datetimelike index using a single string to slice the rows, like `frame[string]`, is deprecated and will be removed in a future version. Use `frame.loc[string]` instead.\n",
      "  data_aug = data['2018-08'].plot(figsize=figsize);\n"
     ]
    },
    {
     "data": {
      "image/png": "[encoded data removed]",
      "text/plain": [
       "<Figure size 1512x288 with 1 Axes>"
      ]
     },
     "metadata": {
      "needs_background": "light"
     },
     "output_type": "display_data"
    }
   ],
   "source": [
    "# Наблюдается увеличение заказов ближе к августу. Выведем данные за последний месяц, т.е август\n",
    "\n",
    "data_aug = data['2018-08'].plot(figsize=figsize);\n",
    "plt.title('Суммарное количество заказов за август')\n",
    "plt.show()"
   ]
  },
  {
   "cell_type": "code",
   "execution_count": 10,
   "metadata": {},
   "outputs": [
    {
     "data": {
      "image/png": "[encoded data removed]",
      "text/plain": [
       "<Figure size 1512x288 with 1 Axes>"
      ]
     },
     "metadata": {
      "needs_background": "light"
     },
     "output_type": "display_data"
    }
   ],
   "source": [
    "# Наблюдается активность  с определенной частотой. Выведем данные за неделю\n",
    "\n",
    "figsize = (21,4)\n",
    "data['2018-08-24':].plot(figsize=figsize);\n",
    "plt.title('Суммарное количество заказов за неделю')\n",
    "plt.show()"
   ]
  },
  {
   "cell_type": "code",
   "execution_count": 11,
   "metadata": {},
   "outputs": [
    {
     "data": {
      "image/png": "[encoded data removed]",
      "text/plain": [
       "<Figure size 1512x288 with 1 Axes>"
      ]
     },
     "metadata": {
      "needs_background": "light"
     },
     "output_type": "display_data"
    }
   ],
   "source": [
    "# В течение недели также наблюдается активность с определенной частотой. Выведем данные за 3 дня\n",
    "\n",
    "\n",
    "figsize = (21,4)\n",
    "data['2018-08-29':].plot(figsize=figsize);\n",
    "plt.title('Суммарное количество заказов за 3 дня')\n",
    "plt.show()\n",
    "\n",
    "# Наблюдается спад заказов ночью ближе к 6  утра и в течение дня в определенные интервалы. "
   ]
  },
  {
   "cell_type": "code",
   "execution_count": 12,
   "metadata": {},
   "outputs": [],
   "source": [
    "# декомпозируем данные чтоб определить тренд и сезонность\n",
    "\n",
    "decomposed = seasonal_decompose((data.drop(['rolling_mean'], axis = 1)))"
   ]
  },
  {
   "cell_type": "code",
   "execution_count": 13,
   "metadata": {},
   "outputs": [
    {
     "data": {
      "text/plain": [
       "Text(0.5, 1.0, 'Trend')"
      ]
     },
     "execution_count": 13,
     "metadata": {},
     "output_type": "execute_result"
    },
    {
     "data": {
      "image/png": "[encoded data removed]",
      "text/plain": [
       "<Figure size 1512x288 with 1 Axes>"
      ]
     },
     "metadata": {
      "needs_background": "light"
     },
     "output_type": "display_data"
    }
   ],
   "source": [
    "# Добавим скользящее среднее с разбивкой на недельные заказы\n",
    "\n",
    "figsize = (21,4)\n",
    "decomposed.trend.plot(ax=plt.gca(), figsize=figsize)\n",
    "decomposed.trend.resample('1D').mean().rolling(7).mean().plot(ax=plt.gca(),figsize=figsize);\n",
    "plt.title('Trend')"
   ]
  },
  {
   "cell_type": "code",
   "execution_count": 14,
   "metadata": {
    "scrolled": true
   },
   "outputs": [
    {
     "data": {
      "text/plain": [
       "Text(0.5, 1.0, 'Seasonal')"
      ]
     },
     "execution_count": 14,
     "metadata": {},
     "output_type": "execute_result"
    },
    {
     "data": {
      "image/png": "[encoded data removed]",
      "text/plain": [
       "<Figure size 1512x288 with 1 Axes>"
      ]
     },
     "metadata": {
      "needs_background": "light"
     },
     "output_type": "display_data"
    }
   ],
   "source": [
    "decomposed.seasonal.plot(ax=plt.gca(), figsize=figsize)\n",
    "plt.title('Seasonal')"
   ]
  },
  {
   "cell_type": "markdown",
   "metadata": {},
   "source": [
    "### Вывод\n",
    "С марта по август кол-во заказов увеличивается, т..к ближе к лету люди чаще начинают вылетать из аэропорта, поэтому в признаках модели необходимо будет указать месяц.\n",
    "Также наблюдается увеличение числа заказов к концу месяца и в определенные дни недели, поэтому в признаках укажем числа.\n",
    "В рамках одного дня также наблюдается некоторая сезонность во времени, поэтому необходимо в признаки включить также и часы.\n",
    "В имеющихся данных мы произвели чистку данных от выбросов, чтоб они не влилияли на корректность модели\n"
   ]
  },
  {
   "cell_type": "markdown",
   "metadata": {},
   "source": [
    "## Обучение"
   ]
  },
  {
   "cell_type": "code",
   "execution_count": 15,
   "metadata": {},
   "outputs": [],
   "source": [
    "# напишем фукцию для создания признаков (мнсяц, день, час, день недели)\n",
    "\n",
    "def make_features(df, max_lag, rolling_mean_size):\n",
    "    df = data.copy()\n",
    " \n",
    "    df['month'] = df.index.month\n",
    "    df['day'] = df.index.day\n",
    "    df['hour'] = df.index.hour\n",
    "    df['dayofweek'] = df.index.dayofweek  \n",
    "    \n",
    "    for lag in range(1, max_lag + 1):\n",
    "        df['lag_{}'.format(lag)] = df['num_orders'].shift(lag)\n",
    "\n",
    "    df['rolling_mean'] = df['num_orders'].shift().rolling(rolling_mean_size).mean()\n",
    "    \n",
    "    return df"
   ]
  },
  {
   "cell_type": "markdown",
   "metadata": {},
   "source": [
    "### Линейная регрессия"
   ]
  },
  {
   "cell_type": "code",
   "execution_count": 16,
   "metadata": {},
   "outputs": [
    {
     "name": "stdout",
     "output_type": "stream",
     "text": [
      "лучшее RMSE = 33.91458660157781 при lag 34 и rolling 11\n"
     ]
    }
   ],
   "source": [
    "#обучим модель и найдем наилучшие параметры. В цикле использую уже подобранные интервалы\n",
    "\n",
    "best_rmse_lg = 48\n",
    "\n",
    "for max_lag in range(33, 35):\n",
    "    for rolling_mean_size in range(9, 12):\n",
    "        df = make_features(data, max_lag, rolling_mean_size)\n",
    "        \n",
    "        train, test = train_test_split(df, shuffle=False, test_size=0.10)\n",
    "        train, valid = train_test_split(train, shuffle=False, test_size=0.10)\n",
    "        train = train.dropna()\n",
    "\n",
    "        features_train_lg = train.drop('num_orders', axis=1)\n",
    "        target_train_lg = train['num_orders']\n",
    "\n",
    "        features_valid_lg = valid.drop('num_orders', axis=1)\n",
    "        target_valid_lg = valid['num_orders']\n",
    "\n",
    "        model_lg = LinearRegression()\n",
    "        model_lg.fit(features_train_lg, target_train_lg)\n",
    "        predictions_lg = model_lg.predict(features_valid_lg)\n",
    "        \n",
    "        rmse_lg = mean_squared_error(target_valid_lg, predictions_lg) ** 0.5\n",
    "        \n",
    "        if rmse_lg < best_rmse_lg:\n",
    "            best_rmse_lg = rmse_lg\n",
    "            best_max_lag_lg = max_lag\n",
    "            best_rolling_mean_size_lg = rolling_mean_size\n",
    "            \n",
    "print('лучшее RMSE =', best_rmse_lg, 'при lag', best_max_lag_lg, 'и rolling', best_rolling_mean_size_lg)"
   ]
  },
  {
   "cell_type": "markdown",
   "metadata": {},
   "source": [
    "### Дерево решений"
   ]
  },
  {
   "cell_type": "code",
   "execution_count": 17,
   "metadata": {},
   "outputs": [
    {
     "name": "stdout",
     "output_type": "stream",
     "text": [
      "лучшее RMSE = 39.29688867114967 при lag 1 rolling 1 depth 5\n"
     ]
    }
   ],
   "source": [
    "#обучим модель и найдем наилучшие параметры. В цикле использую уже подобранные интервалы\n",
    "\n",
    "best_rmse_tr = 48\n",
    "\n",
    "for max_lag in range(1, 3):                 \n",
    "    for rolling_mean_size in range(1, 3):\n",
    "        for max_depth_tr in range(3, 6):\n",
    "            df = make_features(data, max_lag, rolling_mean_size)\n",
    "            \n",
    "            features_train_tr = train.drop('num_orders', axis=1)\n",
    "            target_train_tr = train['num_orders']\n",
    "\n",
    "            features_valid_tr = valid.drop('num_orders', axis=1)\n",
    "            target_valid_tr = valid['num_orders']\n",
    "\n",
    "\n",
    "            model_tr = DecisionTreeRegressor(max_depth=max_depth_tr, random_state=123)\n",
    "            model_tr.fit(features_train_tr, target_train_tr)\n",
    "            predictions_tr = model_tr.predict(features_valid_tr)\n",
    "        \n",
    "            rmse_tr = mean_squared_error(target_valid_tr, predictions_tr) ** 0.5\n",
    "        \n",
    "            if rmse_tr < best_rmse_tr:\n",
    "                best_rmse_tr = rmse_tr\n",
    "                best_max_lag_tr = max_lag\n",
    "                best_rolling_mean_size_tr = rolling_mean_size\n",
    "                best_max_depth_tr = max_depth_tr\n",
    "            \n",
    "print('лучшее RMSE =', best_rmse_tr, 'при lag', best_max_lag_tr, 'rolling', best_rolling_mean_size_tr, 'depth', best_max_depth_tr)\n"
   ]
  },
  {
   "cell_type": "markdown",
   "metadata": {},
   "source": [
    "###  LightGBM"
   ]
  },
  {
   "cell_type": "code",
   "execution_count": 18,
   "metadata": {},
   "outputs": [
    {
     "data": {
      "text/plain": [
       "\" закомментировала процесс, т..к он долгий. Полученные результаты использую на тесте\\n\\n#обучим модель и найдем наилучшие параметры. В цикле использую уже подобранные интервалы\\n\\nbest_rmse_lgbm = 48\\n\\nfor max_lag in range(100, 120):                 \\n    for rolling_mean_size in range(5, 7):\\n            df = make_features(data, max_lag, rolling_mean_size)\\n            \\n            features_train_lgbm = train.drop('num_orders', axis=1)\\n            target_train_lgbm = train['num_orders']\\n\\n            features_valid_lgbm = valid.drop('num_orders', axis=1)\\n            target_valid_lgbm = valid['num_orders']\\n\\n\\n            model_lgbm = LGBMRegressor(random_state=123)\\n            model_lgbm.fit(features_train_lgbm, target_train_lgbm)\\n            predictions_lgbm = model_lgbm.predict(features_valid_lgbm)\\n        \\n            rmse_lgbm = mean_squared_error(target_valid_lgbm, predictions_lgbm) ** 0.5\\n        \\n            if rmse_lgbm < best_rmse_lgbm:\\n                best_rmse_lgbm = rmse_lgbm\\n                best_max_lag_lgbm = max_lag\\n                best_rolling_mean_size_lgbm = rolling_mean_size\\n                \\n            \\nprint('лучшее RMSE =', best_rmse_lgbm, 'при lag', best_max_lag_lgbm, 'rolling', best_rolling_mean_size_lgbm)\""
      ]
     },
     "execution_count": 18,
     "metadata": {},
     "output_type": "execute_result"
    }
   ],
   "source": [
    "\"\"\" закомментировала процесс, т..к он долгий. Полученные результаты использую на тесте\n",
    "\n",
    "#обучим модель и найдем наилучшие параметры. В цикле использую уже подобранные интервалы\n",
    "\n",
    "best_rmse_lgbm = 48\n",
    "\n",
    "for max_lag in range(100, 120):                 \n",
    "    for rolling_mean_size in range(5, 7):\n",
    "            df = make_features(data, max_lag, rolling_mean_size)\n",
    "            \n",
    "            features_train_lgbm = train.drop('num_orders', axis=1)\n",
    "            target_train_lgbm = train['num_orders']\n",
    "\n",
    "            features_valid_lgbm = valid.drop('num_orders', axis=1)\n",
    "            target_valid_lgbm = valid['num_orders']\n",
    "\n",
    "\n",
    "            model_lgbm = LGBMRegressor(random_state=123)\n",
    "            model_lgbm.fit(features_train_lgbm, target_train_lgbm)\n",
    "            predictions_lgbm = model_lgbm.predict(features_valid_lgbm)\n",
    "        \n",
    "            rmse_lgbm = mean_squared_error(target_valid_lgbm, predictions_lgbm) ** 0.5\n",
    "        \n",
    "            if rmse_lgbm < best_rmse_lgbm:\n",
    "                best_rmse_lgbm = rmse_lgbm\n",
    "                best_max_lag_lgbm = max_lag\n",
    "                best_rolling_mean_size_lgbm = rolling_mean_size\n",
    "                \n",
    "            \n",
    "print('лучшее RMSE =', best_rmse_lgbm, 'при lag', best_max_lag_lgbm, 'rolling', best_rolling_mean_size_lgbm)\"\"\"\n"
   ]
  },
  {
   "cell_type": "markdown",
   "metadata": {},
   "source": [
    "### Вывод\n",
    "Было построено три модели Линейная регрессия, Дерево решений и LightGBM.\n",
    "Наилучший вариант с RMSE = 27,89 показала модель LightGBM"
   ]
  },
  {
   "cell_type": "markdown",
   "metadata": {},
   "source": [
    "## Тестирование"
   ]
  },
  {
   "cell_type": "code",
   "execution_count": 16,
   "metadata": {},
   "outputs": [
    {
     "name": "stdout",
     "output_type": "stream",
     "text": [
      "RMSE на тестовой выборке: 38.73971722407821\n"
     ]
    }
   ],
   "source": [
    "# проверим модель LightGBM на тестовой выборке\n",
    "\n",
    "df = make_features(data, 100, 5)\n",
    "\n",
    "train, test = train_test_split(df, shuffle=False, test_size=0.10)\n",
    "train = train.dropna()\n",
    "\n",
    "features_train_ = train.drop('num_orders', axis=1)\n",
    "target_train_ = train['num_orders']\n",
    "\n",
    "features_test = test.drop('num_orders', axis=1)\n",
    "target_test = test['num_orders']\n",
    "\n",
    "model_test = LGBMRegressor()\n",
    "model_test.fit(features_train_, target_train_)\n",
    "predictions_test = model_test.predict(features_test)\n",
    "\n",
    "rmse_test = mean_squared_error(target_test, predictions_test) ** 0.5\n",
    "print(f'RMSE на тестовой выборке: {rmse_test}')"
   ]
  },
  {
   "cell_type": "code",
   "execution_count": 17,
   "metadata": {},
   "outputs": [
    {
     "data": {
      "image/png": "[encoded data removed]",
      "text/plain": [
       "<Figure size 432x288 with 1 Axes>"
      ]
     },
     "metadata": {
      "needs_background": "light"
     },
     "output_type": "display_data"
    }
   ],
   "source": [
    "plt.title('Сравнение tagert и предсказания на тестовой выборке')\n",
    "\n",
    "plt.plot(target_test.index, predictions_test, 'g', label='Предсказание на тестовой выборке')\n",
    "plt.plot(target_test.index, target_test.values, 'r', label='Target тестовой выборки')\n",
    "plt.grid(True)\n"
   ]
  },
  {
   "cell_type": "markdown",
   "metadata": {},
   "source": [
    "### Вывод\n",
    "В предоставленных данных было 2 колонки: дата+время и общее кол-во заказов. Данные представлены за пол года с 03.2023 по 08.2023. Пустых значений не было. Колонку datetime привели к временному индексу. Данные ресемплированы по 1 часу для создания модели, которая сможет прогнозировать общее кол-во заказов в течение часа.\n",
    "\n",
    "При анализе данных мы обнаружили несколько закономерностей (тренд, сезонность) в месяцах, числах, днях недели и времени заказа, поэтому для обучения модели мы создадим признаки с этими данными. \n",
    "\n",
    "Было создано 3 модели Линейная регрессия, Дерево решений и LightGBM. Наилучший результат с RMSE = 27,89 показала модель LightGBM. При проверке модели LightGBM на тестовой выборке RMSE = 46.95, что соотвтетсует условию задания, а именно RMSE < 48. В связи с чем делаю вывод, что модель LightGBM рабочая.\n"
   ]
  }
 ],
 "metadata": {
  "ExecuteTimeLog": [
   {
    "duration": 50,
    "start_time": "2023-05-13T10:05:23.454Z"
   },
   {
    "duration": 374,
    "start_time": "2023-05-13T10:05:26.697Z"
   },
   {
    "duration": 161,
    "start_time": "2023-05-13T10:05:28.643Z"
   },
   {
    "duration": 13,
    "start_time": "2023-05-13T10:05:59.817Z"
   },
   {
    "duration": 9,
    "start_time": "2023-05-13T10:08:55.863Z"
   },
   {
    "duration": 62,
    "start_time": "2023-05-13T10:09:08.165Z"
   },
   {
    "duration": 49,
    "start_time": "2023-05-13T10:11:04.032Z"
   },
   {
    "duration": 47,
    "start_time": "2023-05-13T10:11:13.424Z"
   },
   {
    "duration": 58,
    "start_time": "2023-05-13T10:17:44.154Z"
   },
   {
    "duration": 5,
    "start_time": "2023-05-13T10:17:48.918Z"
   },
   {
    "duration": 30,
    "start_time": "2023-05-13T10:20:19.604Z"
   },
   {
    "duration": 9,
    "start_time": "2023-05-13T10:20:46.400Z"
   },
   {
    "duration": 413,
    "start_time": "2023-05-13T10:21:09.289Z"
   },
   {
    "duration": 52,
    "start_time": "2023-05-13T10:21:09.760Z"
   },
   {
    "duration": 12,
    "start_time": "2023-05-13T10:21:09.970Z"
   },
   {
    "duration": 17,
    "start_time": "2023-05-13T10:21:10.184Z"
   },
   {
    "duration": 30,
    "start_time": "2023-05-13T10:21:10.449Z"
   },
   {
    "duration": 65,
    "start_time": "2023-05-13T10:21:10.775Z"
   },
   {
    "duration": 52,
    "start_time": "2023-05-13T10:21:11.111Z"
   },
   {
    "duration": 445,
    "start_time": "2023-05-13T10:21:30.834Z"
   },
   {
    "duration": 51,
    "start_time": "2023-05-13T10:21:31.548Z"
   },
   {
    "duration": 13,
    "start_time": "2023-05-13T10:21:31.786Z"
   },
   {
    "duration": 16,
    "start_time": "2023-05-13T10:21:32.028Z"
   },
   {
    "duration": 31,
    "start_time": "2023-05-13T10:21:32.336Z"
   },
   {
    "duration": 73,
    "start_time": "2023-05-13T10:21:32.757Z"
   },
   {
    "duration": 7,
    "start_time": "2023-05-13T10:21:39.666Z"
   },
   {
    "duration": 472,
    "start_time": "2023-05-13T10:22:19.521Z"
   },
   {
    "duration": 54,
    "start_time": "2023-05-13T10:22:21.520Z"
   },
   {
    "duration": 15,
    "start_time": "2023-05-13T10:22:22.452Z"
   },
   {
    "duration": 17,
    "start_time": "2023-05-13T10:22:23.828Z"
   },
   {
    "duration": 48,
    "start_time": "2023-05-13T10:22:24.861Z"
   },
   {
    "duration": 4,
    "start_time": "2023-05-13T10:22:29.553Z"
   },
   {
    "duration": 11,
    "start_time": "2023-05-13T10:23:23.577Z"
   },
   {
    "duration": 15,
    "start_time": "2023-05-13T10:23:29.230Z"
   },
   {
    "duration": 5,
    "start_time": "2023-05-13T10:25:29.658Z"
   },
   {
    "duration": 616,
    "start_time": "2023-05-13T10:25:41.470Z"
   },
   {
    "duration": 50,
    "start_time": "2023-05-13T10:26:59.666Z"
   },
   {
    "duration": 48,
    "start_time": "2023-05-13T10:27:34.973Z"
   },
   {
    "duration": 499,
    "start_time": "2023-05-13T10:33:14.886Z"
   },
   {
    "duration": 159,
    "start_time": "2023-05-13T10:34:49.378Z"
   },
   {
    "duration": 12,
    "start_time": "2023-05-13T10:35:27.841Z"
   },
   {
    "duration": 11,
    "start_time": "2023-05-13T10:35:35.470Z"
   },
   {
    "duration": 3,
    "start_time": "2023-05-13T10:35:44.608Z"
   },
   {
    "duration": 11,
    "start_time": "2023-05-13T10:35:49.427Z"
   },
   {
    "duration": 47,
    "start_time": "2023-05-13T10:37:36.295Z"
   },
   {
    "duration": 201,
    "start_time": "2023-05-13T10:37:40.832Z"
   },
   {
    "duration": 6,
    "start_time": "2023-05-13T10:37:56.755Z"
   },
   {
    "duration": 9,
    "start_time": "2023-05-13T10:38:07.546Z"
   },
   {
    "duration": 3,
    "start_time": "2023-05-13T10:38:36.372Z"
   },
   {
    "duration": 213,
    "start_time": "2023-05-13T10:38:41.182Z"
   },
   {
    "duration": 6,
    "start_time": "2023-05-13T10:38:46.558Z"
   },
   {
    "duration": 209,
    "start_time": "2023-05-13T10:38:47.739Z"
   },
   {
    "duration": 198,
    "start_time": "2023-05-13T10:38:55.681Z"
   },
   {
    "duration": 14,
    "start_time": "2023-05-13T10:43:43.042Z"
   },
   {
    "duration": 17,
    "start_time": "2023-05-13T10:44:30.196Z"
   },
   {
    "duration": 234,
    "start_time": "2023-05-13T10:45:14.711Z"
   },
   {
    "duration": 1179,
    "start_time": "2023-05-13T21:05:09.101Z"
   },
   {
    "duration": 291,
    "start_time": "2023-05-13T21:05:10.282Z"
   },
   {
    "duration": 11,
    "start_time": "2023-05-13T21:05:10.574Z"
   },
   {
    "duration": 14,
    "start_time": "2023-05-13T21:05:10.587Z"
   },
   {
    "duration": 25,
    "start_time": "2023-05-13T21:05:10.603Z"
   },
   {
    "duration": 3,
    "start_time": "2023-05-13T21:05:10.779Z"
   },
   {
    "duration": 204,
    "start_time": "2023-05-13T21:05:12.148Z"
   },
   {
    "duration": 97,
    "start_time": "2023-05-13T21:05:26.977Z"
   },
   {
    "duration": 243,
    "start_time": "2023-05-13T21:05:45.199Z"
   },
   {
    "duration": 202,
    "start_time": "2023-05-13T21:06:12.334Z"
   },
   {
    "duration": 200,
    "start_time": "2023-05-13T21:08:00.317Z"
   },
   {
    "duration": 209,
    "start_time": "2023-05-13T21:08:08.835Z"
   },
   {
    "duration": 217,
    "start_time": "2023-05-13T21:08:14.043Z"
   },
   {
    "duration": 218,
    "start_time": "2023-05-13T21:08:24.706Z"
   },
   {
    "duration": 211,
    "start_time": "2023-05-13T21:08:39.048Z"
   },
   {
    "duration": 744,
    "start_time": "2023-05-13T21:10:43.822Z"
   },
   {
    "duration": 735,
    "start_time": "2023-05-13T21:11:01.442Z"
   },
   {
    "duration": 4,
    "start_time": "2023-05-13T21:11:21.604Z"
   },
   {
    "duration": 4,
    "start_time": "2023-05-13T21:11:34.831Z"
   },
   {
    "duration": 248,
    "start_time": "2023-05-13T21:11:41.071Z"
   },
   {
    "duration": 174,
    "start_time": "2023-05-13T21:12:12.537Z"
   },
   {
    "duration": 168,
    "start_time": "2023-05-13T21:12:24.946Z"
   },
   {
    "duration": 163,
    "start_time": "2023-05-13T21:18:06.365Z"
   },
   {
    "duration": 289,
    "start_time": "2023-05-13T21:19:34.653Z"
   },
   {
    "duration": 222,
    "start_time": "2023-05-13T21:19:46.047Z"
   },
   {
    "duration": 171,
    "start_time": "2023-05-13T21:19:52.603Z"
   },
   {
    "duration": 153,
    "start_time": "2023-05-13T21:20:12.365Z"
   },
   {
    "duration": 171,
    "start_time": "2023-05-13T21:20:49.524Z"
   },
   {
    "duration": 142,
    "start_time": "2023-05-13T21:21:08.497Z"
   },
   {
    "duration": 159,
    "start_time": "2023-05-13T21:21:53.618Z"
   },
   {
    "duration": 229,
    "start_time": "2023-05-13T21:22:01.655Z"
   },
   {
    "duration": 137,
    "start_time": "2023-05-13T21:22:11.937Z"
   },
   {
    "duration": 163,
    "start_time": "2023-05-13T21:22:23.546Z"
   },
   {
    "duration": 170,
    "start_time": "2023-05-13T21:22:30.858Z"
   },
   {
    "duration": 147,
    "start_time": "2023-05-13T21:22:53.829Z"
   },
   {
    "duration": 146,
    "start_time": "2023-05-13T21:22:58.052Z"
   },
   {
    "duration": 9,
    "start_time": "2023-05-13T21:29:41.368Z"
   },
   {
    "duration": 11,
    "start_time": "2023-05-13T21:29:46.113Z"
   },
   {
    "duration": 6,
    "start_time": "2023-05-13T21:29:51.950Z"
   },
   {
    "duration": 193,
    "start_time": "2023-05-13T21:29:52.813Z"
   },
   {
    "duration": 214,
    "start_time": "2023-05-13T21:29:54.998Z"
   },
   {
    "duration": 206,
    "start_time": "2023-05-13T21:30:36.404Z"
   },
   {
    "duration": 160,
    "start_time": "2023-05-13T21:31:04.992Z"
   },
   {
    "duration": 14,
    "start_time": "2023-05-13T21:31:36.740Z"
   },
   {
    "duration": 182,
    "start_time": "2023-05-13T21:32:04.143Z"
   },
   {
    "duration": 14,
    "start_time": "2023-05-13T21:32:07.662Z"
   },
   {
    "duration": 1061,
    "start_time": "2023-05-13T21:32:22.186Z"
   },
   {
    "duration": 54,
    "start_time": "2023-05-13T21:32:23.248Z"
   },
   {
    "duration": 11,
    "start_time": "2023-05-13T21:32:23.304Z"
   },
   {
    "duration": 17,
    "start_time": "2023-05-13T21:32:23.317Z"
   },
   {
    "duration": 36,
    "start_time": "2023-05-13T21:32:23.336Z"
   },
   {
    "duration": 4,
    "start_time": "2023-05-13T21:32:23.422Z"
   },
   {
    "duration": 212,
    "start_time": "2023-05-13T21:32:24.114Z"
   },
   {
    "duration": 231,
    "start_time": "2023-05-13T21:32:25.056Z"
   },
   {
    "duration": 218,
    "start_time": "2023-05-13T21:32:27.246Z"
   },
   {
    "duration": 191,
    "start_time": "2023-05-13T21:32:27.834Z"
   },
   {
    "duration": 105,
    "start_time": "2023-05-13T21:32:33.036Z"
   },
   {
    "duration": 6,
    "start_time": "2023-05-13T21:33:33.038Z"
   },
   {
    "duration": 221,
    "start_time": "2023-05-13T21:33:44.386Z"
   },
   {
    "duration": 205,
    "start_time": "2023-05-13T21:35:32.732Z"
   },
   {
    "duration": 204,
    "start_time": "2023-05-13T21:35:39.438Z"
   },
   {
    "duration": 182,
    "start_time": "2023-05-13T21:35:53.332Z"
   },
   {
    "duration": 319,
    "start_time": "2023-05-13T21:36:13.544Z"
   },
   {
    "duration": 45,
    "start_time": "2023-05-13T21:36:50.454Z"
   },
   {
    "duration": 241,
    "start_time": "2023-05-13T21:36:59.810Z"
   },
   {
    "duration": 286,
    "start_time": "2023-05-13T21:37:14.663Z"
   },
   {
    "duration": 224,
    "start_time": "2023-05-13T21:37:21.536Z"
   },
   {
    "duration": 6,
    "start_time": "2023-05-13T21:38:23.542Z"
   },
   {
    "duration": 15,
    "start_time": "2023-05-13T21:38:32.472Z"
   },
   {
    "duration": 1141,
    "start_time": "2023-05-13T21:38:52.602Z"
   },
   {
    "duration": 62,
    "start_time": "2023-05-13T21:38:53.746Z"
   },
   {
    "duration": 16,
    "start_time": "2023-05-13T21:38:53.810Z"
   },
   {
    "duration": 22,
    "start_time": "2023-05-13T21:38:53.829Z"
   },
   {
    "duration": 34,
    "start_time": "2023-05-13T21:38:53.857Z"
   },
   {
    "duration": 7,
    "start_time": "2023-05-13T21:38:53.893Z"
   },
   {
    "duration": 305,
    "start_time": "2023-05-13T21:38:53.901Z"
   },
   {
    "duration": 256,
    "start_time": "2023-05-13T21:38:54.209Z"
   },
   {
    "duration": 275,
    "start_time": "2023-05-13T21:38:54.468Z"
   },
   {
    "duration": 221,
    "start_time": "2023-05-13T21:38:54.745Z"
   },
   {
    "duration": 113,
    "start_time": "2023-05-13T21:38:54.969Z"
   },
   {
    "duration": 0,
    "start_time": "2023-05-13T21:38:55.084Z"
   },
   {
    "duration": 0,
    "start_time": "2023-05-13T21:38:55.086Z"
   },
   {
    "duration": 0,
    "start_time": "2023-05-13T21:38:55.087Z"
   },
   {
    "duration": 5,
    "start_time": "2023-05-13T21:39:12.598Z"
   },
   {
    "duration": 12,
    "start_time": "2023-05-13T21:39:19.266Z"
   },
   {
    "duration": 7,
    "start_time": "2023-05-13T21:39:42.666Z"
   },
   {
    "duration": 258,
    "start_time": "2023-05-13T21:39:43.409Z"
   },
   {
    "duration": 53,
    "start_time": "2023-05-13T21:40:21.635Z"
   },
   {
    "duration": 4,
    "start_time": "2023-05-13T21:40:31.980Z"
   },
   {
    "duration": 76,
    "start_time": "2023-05-13T21:40:39.680Z"
   },
   {
    "duration": 49,
    "start_time": "2023-05-13T21:40:52.138Z"
   },
   {
    "duration": 4,
    "start_time": "2023-05-13T21:41:02.911Z"
   },
   {
    "duration": 243,
    "start_time": "2023-05-13T21:41:13.808Z"
   },
   {
    "duration": 276,
    "start_time": "2023-05-13T21:42:14.646Z"
   },
   {
    "duration": 262,
    "start_time": "2023-05-13T21:42:20.340Z"
   },
   {
    "duration": 355,
    "start_time": "2023-05-13T21:42:37.062Z"
   },
   {
    "duration": 4,
    "start_time": "2023-05-13T21:46:11.146Z"
   },
   {
    "duration": 12,
    "start_time": "2023-05-13T21:50:05.878Z"
   },
   {
    "duration": 50,
    "start_time": "2023-05-13T21:50:50.290Z"
   },
   {
    "duration": 306,
    "start_time": "2023-05-13T21:50:59.180Z"
   },
   {
    "duration": 37,
    "start_time": "2023-05-13T21:51:04.056Z"
   },
   {
    "duration": 18,
    "start_time": "2023-05-13T21:52:42.093Z"
   },
   {
    "duration": 10,
    "start_time": "2023-05-13T21:56:13.378Z"
   },
   {
    "duration": 39,
    "start_time": "2023-05-13T21:56:32.295Z"
   },
   {
    "duration": 15,
    "start_time": "2023-05-13T21:56:44.014Z"
   },
   {
    "duration": 3,
    "start_time": "2023-05-13T21:57:35.474Z"
   },
   {
    "duration": 7,
    "start_time": "2023-05-13T21:59:04.200Z"
   },
   {
    "duration": 13,
    "start_time": "2023-05-13T21:59:36.882Z"
   },
   {
    "duration": 50,
    "start_time": "2023-05-13T21:59:44.283Z"
   },
   {
    "duration": 4,
    "start_time": "2023-05-13T22:00:14.817Z"
   },
   {
    "duration": 12,
    "start_time": "2023-05-13T22:00:16.710Z"
   },
   {
    "duration": 12,
    "start_time": "2023-05-13T22:06:16.058Z"
   },
   {
    "duration": 16,
    "start_time": "2023-05-13T22:06:35.653Z"
   },
   {
    "duration": 18,
    "start_time": "2023-05-13T22:08:00.807Z"
   },
   {
    "duration": 4,
    "start_time": "2023-05-13T22:08:40.563Z"
   },
   {
    "duration": 341151,
    "start_time": "2023-05-13T22:08:43.113Z"
   },
   {
    "duration": 122535,
    "start_time": "2023-05-13T23:05:20.376Z"
   },
   {
    "duration": 14,
    "start_time": "2023-05-13T23:11:06.072Z"
   },
   {
    "duration": 25,
    "start_time": "2023-05-13T23:11:26.376Z"
   },
   {
    "duration": 1042292,
    "start_time": "2023-05-13T23:11:32.778Z"
   },
   {
    "duration": 188,
    "start_time": "2023-05-13T23:29:09.415Z"
   },
   {
    "duration": 216,
    "start_time": "2023-05-13T23:29:25.394Z"
   },
   {
    "duration": 217,
    "start_time": "2023-05-13T23:29:36.628Z"
   },
   {
    "duration": 248,
    "start_time": "2023-05-13T23:29:45.674Z"
   },
   {
    "duration": 2946,
    "start_time": "2023-05-13T23:33:01.309Z"
   },
   {
    "duration": 1387,
    "start_time": "2023-05-13T23:33:23.436Z"
   },
   {
    "duration": 51,
    "start_time": "2023-05-13T23:33:24.825Z"
   },
   {
    "duration": 12,
    "start_time": "2023-05-13T23:33:24.877Z"
   },
   {
    "duration": 31,
    "start_time": "2023-05-13T23:33:24.892Z"
   },
   {
    "duration": 26,
    "start_time": "2023-05-13T23:33:25.076Z"
   },
   {
    "duration": 4,
    "start_time": "2023-05-13T23:33:25.379Z"
   },
   {
    "duration": 211,
    "start_time": "2023-05-13T23:33:26.063Z"
   },
   {
    "duration": 209,
    "start_time": "2023-05-13T23:33:28.299Z"
   },
   {
    "duration": 235,
    "start_time": "2023-05-13T23:33:29.281Z"
   },
   {
    "duration": 180,
    "start_time": "2023-05-13T23:33:30.322Z"
   },
   {
    "duration": 7,
    "start_time": "2023-05-13T23:33:31.131Z"
   },
   {
    "duration": 326,
    "start_time": "2023-05-13T23:33:32.385Z"
   },
   {
    "duration": 263,
    "start_time": "2023-05-13T23:33:33.080Z"
   },
   {
    "duration": 250,
    "start_time": "2023-05-13T23:33:37.818Z"
   },
   {
    "duration": 234,
    "start_time": "2023-05-13T23:33:49.376Z"
   },
   {
    "duration": 12,
    "start_time": "2023-05-13T23:51:09.345Z"
   },
   {
    "duration": 110,
    "start_time": "2023-05-13T23:51:27.060Z"
   },
   {
    "duration": 6,
    "start_time": "2023-05-13T23:51:41.561Z"
   },
   {
    "duration": 6,
    "start_time": "2023-05-13T23:52:16.837Z"
   },
   {
    "duration": 6,
    "start_time": "2023-05-13T23:52:45.730Z"
   },
   {
    "duration": 4,
    "start_time": "2023-05-13T23:53:19.455Z"
   },
   {
    "duration": 1278,
    "start_time": "2023-05-13T23:53:51.902Z"
   },
   {
    "duration": 46,
    "start_time": "2023-05-13T23:53:53.182Z"
   },
   {
    "duration": 12,
    "start_time": "2023-05-13T23:53:53.230Z"
   },
   {
    "duration": 16,
    "start_time": "2023-05-13T23:53:53.243Z"
   },
   {
    "duration": 26,
    "start_time": "2023-05-13T23:53:53.261Z"
   },
   {
    "duration": 3,
    "start_time": "2023-05-13T23:53:53.288Z"
   },
   {
    "duration": 220,
    "start_time": "2023-05-13T23:53:53.293Z"
   },
   {
    "duration": 241,
    "start_time": "2023-05-13T23:53:53.514Z"
   },
   {
    "duration": 263,
    "start_time": "2023-05-13T23:53:53.757Z"
   },
   {
    "duration": 193,
    "start_time": "2023-05-13T23:53:54.023Z"
   },
   {
    "duration": 5,
    "start_time": "2023-05-13T23:53:54.219Z"
   },
   {
    "duration": 304,
    "start_time": "2023-05-13T23:53:54.226Z"
   },
   {
    "duration": 255,
    "start_time": "2023-05-13T23:53:54.532Z"
   },
   {
    "duration": 237,
    "start_time": "2023-05-13T23:53:57.658Z"
   },
   {
    "duration": 235,
    "start_time": "2023-05-13T23:53:58.764Z"
   },
   {
    "duration": 5,
    "start_time": "2023-05-13T23:54:01.808Z"
   },
   {
    "duration": 6,
    "start_time": "2023-05-13T23:54:02.662Z"
   },
   {
    "duration": 3,
    "start_time": "2023-05-13T23:54:09.184Z"
   },
   {
    "duration": 1336,
    "start_time": "2023-05-13T23:55:13.127Z"
   },
   {
    "duration": 46,
    "start_time": "2023-05-13T23:55:14.465Z"
   },
   {
    "duration": 12,
    "start_time": "2023-05-13T23:55:14.512Z"
   },
   {
    "duration": 15,
    "start_time": "2023-05-13T23:55:14.525Z"
   },
   {
    "duration": 27,
    "start_time": "2023-05-13T23:55:14.541Z"
   },
   {
    "duration": 3,
    "start_time": "2023-05-13T23:55:14.569Z"
   },
   {
    "duration": 204,
    "start_time": "2023-05-13T23:55:14.574Z"
   },
   {
    "duration": 225,
    "start_time": "2023-05-13T23:55:14.780Z"
   },
   {
    "duration": 217,
    "start_time": "2023-05-13T23:55:15.006Z"
   },
   {
    "duration": 164,
    "start_time": "2023-05-13T23:55:15.225Z"
   },
   {
    "duration": 5,
    "start_time": "2023-05-13T23:55:15.390Z"
   },
   {
    "duration": 287,
    "start_time": "2023-05-13T23:55:15.396Z"
   },
   {
    "duration": 250,
    "start_time": "2023-05-13T23:55:15.685Z"
   },
   {
    "duration": 207,
    "start_time": "2023-05-13T23:55:20.000Z"
   },
   {
    "duration": 219,
    "start_time": "2023-05-13T23:55:21.982Z"
   },
   {
    "duration": 1295,
    "start_time": "2023-05-13T23:55:57.268Z"
   },
   {
    "duration": 49,
    "start_time": "2023-05-13T23:55:58.565Z"
   },
   {
    "duration": 11,
    "start_time": "2023-05-13T23:55:58.615Z"
   },
   {
    "duration": 18,
    "start_time": "2023-05-13T23:55:58.628Z"
   },
   {
    "duration": 27,
    "start_time": "2023-05-13T23:55:58.648Z"
   },
   {
    "duration": 3,
    "start_time": "2023-05-13T23:55:58.677Z"
   },
   {
    "duration": 212,
    "start_time": "2023-05-13T23:55:58.681Z"
   },
   {
    "duration": 233,
    "start_time": "2023-05-13T23:55:58.895Z"
   },
   {
    "duration": 227,
    "start_time": "2023-05-13T23:55:59.130Z"
   },
   {
    "duration": 164,
    "start_time": "2023-05-13T23:55:59.359Z"
   },
   {
    "duration": 5,
    "start_time": "2023-05-13T23:55:59.525Z"
   },
   {
    "duration": 288,
    "start_time": "2023-05-13T23:55:59.531Z"
   },
   {
    "duration": 247,
    "start_time": "2023-05-13T23:55:59.820Z"
   },
   {
    "duration": 208,
    "start_time": "2023-05-13T23:56:02.339Z"
   },
   {
    "duration": 264,
    "start_time": "2023-05-13T23:56:04.598Z"
   },
   {
    "duration": 4,
    "start_time": "2023-05-13T23:56:34.608Z"
   },
   {
    "duration": 6,
    "start_time": "2023-05-13T23:56:35.521Z"
   },
   {
    "duration": 214,
    "start_time": "2023-05-13T23:56:53.850Z"
   },
   {
    "duration": 45,
    "start_time": "2023-05-13T23:57:01.515Z"
   },
   {
    "duration": 43,
    "start_time": "2023-05-13T23:57:05.925Z"
   },
   {
    "duration": 124,
    "start_time": "2023-05-13T23:58:39.550Z"
   },
   {
    "duration": 1356,
    "start_time": "2023-05-13T23:58:53.434Z"
   },
   {
    "duration": 47,
    "start_time": "2023-05-13T23:58:54.792Z"
   },
   {
    "duration": 11,
    "start_time": "2023-05-13T23:58:54.840Z"
   },
   {
    "duration": 16,
    "start_time": "2023-05-13T23:58:54.852Z"
   },
   {
    "duration": 26,
    "start_time": "2023-05-13T23:58:54.870Z"
   },
   {
    "duration": 3,
    "start_time": "2023-05-13T23:58:54.898Z"
   },
   {
    "duration": 230,
    "start_time": "2023-05-13T23:58:54.903Z"
   },
   {
    "duration": 207,
    "start_time": "2023-05-13T23:58:55.135Z"
   },
   {
    "duration": 216,
    "start_time": "2023-05-13T23:58:55.344Z"
   },
   {
    "duration": 164,
    "start_time": "2023-05-13T23:58:55.562Z"
   },
   {
    "duration": 5,
    "start_time": "2023-05-13T23:58:55.728Z"
   },
   {
    "duration": 289,
    "start_time": "2023-05-13T23:58:55.734Z"
   },
   {
    "duration": 227,
    "start_time": "2023-05-13T23:58:56.024Z"
   },
   {
    "duration": 240,
    "start_time": "2023-05-13T23:58:58.600Z"
   },
   {
    "duration": 8,
    "start_time": "2023-05-14T00:01:58.836Z"
   },
   {
    "duration": 7,
    "start_time": "2023-05-14T00:02:20.444Z"
   },
   {
    "duration": 7,
    "start_time": "2023-05-14T00:02:28.772Z"
   },
   {
    "duration": 12,
    "start_time": "2023-05-14T00:02:47.092Z"
   },
   {
    "duration": 8,
    "start_time": "2023-05-14T00:03:08.490Z"
   },
   {
    "duration": 17,
    "start_time": "2023-05-14T00:03:41.591Z"
   },
   {
    "duration": 236,
    "start_time": "2023-05-14T00:04:52.388Z"
   },
   {
    "duration": 1384,
    "start_time": "2023-05-14T00:05:05.637Z"
   },
   {
    "duration": 47,
    "start_time": "2023-05-14T00:05:07.023Z"
   },
   {
    "duration": 11,
    "start_time": "2023-05-14T00:05:07.072Z"
   },
   {
    "duration": 17,
    "start_time": "2023-05-14T00:05:07.084Z"
   },
   {
    "duration": 27,
    "start_time": "2023-05-14T00:05:07.102Z"
   },
   {
    "duration": 3,
    "start_time": "2023-05-14T00:05:07.130Z"
   },
   {
    "duration": 205,
    "start_time": "2023-05-14T00:05:07.156Z"
   },
   {
    "duration": 206,
    "start_time": "2023-05-14T00:05:07.363Z"
   },
   {
    "duration": 228,
    "start_time": "2023-05-14T00:05:07.571Z"
   },
   {
    "duration": 166,
    "start_time": "2023-05-14T00:05:07.801Z"
   },
   {
    "duration": 5,
    "start_time": "2023-05-14T00:05:07.969Z"
   },
   {
    "duration": 292,
    "start_time": "2023-05-14T00:05:07.976Z"
   },
   {
    "duration": 246,
    "start_time": "2023-05-14T00:05:08.269Z"
   },
   {
    "duration": 4,
    "start_time": "2023-05-14T00:05:12.640Z"
   },
   {
    "duration": 8,
    "start_time": "2023-05-14T00:05:14.490Z"
   },
   {
    "duration": 9,
    "start_time": "2023-05-14T00:05:26.046Z"
   },
   {
    "duration": 17,
    "start_time": "2023-05-14T00:21:38.325Z"
   },
   {
    "duration": 1817,
    "start_time": "2023-05-14T06:04:00.078Z"
   },
   {
    "duration": 171,
    "start_time": "2023-05-14T06:04:01.899Z"
   },
   {
    "duration": 15,
    "start_time": "2023-05-14T06:04:02.072Z"
   },
   {
    "duration": 34,
    "start_time": "2023-05-14T06:04:02.089Z"
   },
   {
    "duration": 43,
    "start_time": "2023-05-14T06:04:02.125Z"
   },
   {
    "duration": 8,
    "start_time": "2023-05-14T06:04:02.171Z"
   },
   {
    "duration": 287,
    "start_time": "2023-05-14T06:04:02.181Z"
   },
   {
    "duration": 248,
    "start_time": "2023-05-14T06:04:02.470Z"
   },
   {
    "duration": 308,
    "start_time": "2023-05-14T06:04:02.720Z"
   },
   {
    "duration": 208,
    "start_time": "2023-05-14T06:04:03.030Z"
   },
   {
    "duration": 6,
    "start_time": "2023-05-14T06:04:03.240Z"
   },
   {
    "duration": 373,
    "start_time": "2023-05-14T06:04:03.248Z"
   },
   {
    "duration": 336,
    "start_time": "2023-05-14T06:04:03.624Z"
   },
   {
    "duration": 342,
    "start_time": "2023-05-14T06:04:03.963Z"
   },
   {
    "duration": 6,
    "start_time": "2023-05-14T06:04:04.307Z"
   },
   {
    "duration": 20,
    "start_time": "2023-05-14T06:04:04.315Z"
   },
   {
    "duration": 14,
    "start_time": "2023-05-14T06:04:04.338Z"
   },
   {
    "duration": 0,
    "start_time": "2023-05-14T06:04:04.354Z"
   },
   {
    "duration": 0,
    "start_time": "2023-05-14T06:04:04.355Z"
   },
   {
    "duration": 0,
    "start_time": "2023-05-14T06:04:04.357Z"
   },
   {
    "duration": 5,
    "start_time": "2023-05-14T06:05:16.895Z"
   },
   {
    "duration": 49,
    "start_time": "2023-05-14T06:05:16.902Z"
   },
   {
    "duration": 11,
    "start_time": "2023-05-14T06:05:16.953Z"
   },
   {
    "duration": 17,
    "start_time": "2023-05-14T06:05:16.966Z"
   },
   {
    "duration": 46,
    "start_time": "2023-05-14T06:05:16.986Z"
   },
   {
    "duration": 3,
    "start_time": "2023-05-14T06:05:17.034Z"
   },
   {
    "duration": 239,
    "start_time": "2023-05-14T06:05:17.039Z"
   },
   {
    "duration": 326,
    "start_time": "2023-05-14T06:05:17.280Z"
   },
   {
    "duration": 359,
    "start_time": "2023-05-14T06:05:17.607Z"
   },
   {
    "duration": 208,
    "start_time": "2023-05-14T06:05:17.968Z"
   },
   {
    "duration": 10,
    "start_time": "2023-05-14T06:05:18.178Z"
   },
   {
    "duration": 336,
    "start_time": "2023-05-14T06:05:18.191Z"
   },
   {
    "duration": 302,
    "start_time": "2023-05-14T06:05:18.531Z"
   },
   {
    "duration": 343,
    "start_time": "2023-05-14T06:05:18.836Z"
   },
   {
    "duration": 6,
    "start_time": "2023-05-14T06:05:19.182Z"
   },
   {
    "duration": 28,
    "start_time": "2023-05-14T06:05:19.191Z"
   },
   {
    "duration": 20,
    "start_time": "2023-05-14T06:05:19.221Z"
   },
   {
    "duration": 0,
    "start_time": "2023-05-14T06:05:19.243Z"
   },
   {
    "duration": 0,
    "start_time": "2023-05-14T06:05:19.244Z"
   },
   {
    "duration": 0,
    "start_time": "2023-05-14T06:05:19.245Z"
   },
   {
    "duration": 4,
    "start_time": "2023-05-14T06:05:38.835Z"
   },
   {
    "duration": 57,
    "start_time": "2023-05-14T06:05:38.842Z"
   },
   {
    "duration": 17,
    "start_time": "2023-05-14T06:05:38.901Z"
   },
   {
    "duration": 18,
    "start_time": "2023-05-14T06:05:38.920Z"
   },
   {
    "duration": 52,
    "start_time": "2023-05-14T06:05:38.940Z"
   },
   {
    "duration": 6,
    "start_time": "2023-05-14T06:05:38.995Z"
   },
   {
    "duration": 257,
    "start_time": "2023-05-14T06:05:39.003Z"
   },
   {
    "duration": 361,
    "start_time": "2023-05-14T06:05:39.262Z"
   },
   {
    "duration": 293,
    "start_time": "2023-05-14T06:05:39.625Z"
   },
   {
    "duration": 212,
    "start_time": "2023-05-14T06:05:39.920Z"
   },
   {
    "duration": 5,
    "start_time": "2023-05-14T06:05:40.134Z"
   },
   {
    "duration": 286,
    "start_time": "2023-05-14T06:05:40.141Z"
   },
   {
    "duration": 289,
    "start_time": "2023-05-14T06:05:40.430Z"
   },
   {
    "duration": 350,
    "start_time": "2023-05-14T06:05:40.721Z"
   },
   {
    "duration": 5,
    "start_time": "2023-05-14T06:05:41.073Z"
   },
   {
    "duration": 13,
    "start_time": "2023-05-14T06:05:41.080Z"
   },
   {
    "duration": 163,
    "start_time": "2023-05-14T06:05:41.095Z"
   },
   {
    "duration": 0,
    "start_time": "2023-05-14T06:05:41.260Z"
   },
   {
    "duration": 0,
    "start_time": "2023-05-14T06:05:41.262Z"
   },
   {
    "duration": 0,
    "start_time": "2023-05-14T06:05:41.263Z"
   },
   {
    "duration": 10,
    "start_time": "2023-05-14T06:07:18.796Z"
   },
   {
    "duration": 63,
    "start_time": "2023-05-14T06:07:18.808Z"
   },
   {
    "duration": 17,
    "start_time": "2023-05-14T06:07:18.874Z"
   },
   {
    "duration": 27,
    "start_time": "2023-05-14T06:07:18.893Z"
   },
   {
    "duration": 59,
    "start_time": "2023-05-14T06:07:18.923Z"
   },
   {
    "duration": 5,
    "start_time": "2023-05-14T06:07:18.984Z"
   },
   {
    "duration": 250,
    "start_time": "2023-05-14T06:07:18.991Z"
   },
   {
    "duration": 278,
    "start_time": "2023-05-14T06:07:19.243Z"
   },
   {
    "duration": 316,
    "start_time": "2023-05-14T06:07:19.523Z"
   },
   {
    "duration": 205,
    "start_time": "2023-05-14T06:07:19.841Z"
   },
   {
    "duration": 5,
    "start_time": "2023-05-14T06:07:20.048Z"
   },
   {
    "duration": 278,
    "start_time": "2023-05-14T06:07:20.056Z"
   },
   {
    "duration": 253,
    "start_time": "2023-05-14T06:07:20.336Z"
   },
   {
    "duration": 437,
    "start_time": "2023-05-14T06:07:20.592Z"
   },
   {
    "duration": 5,
    "start_time": "2023-05-14T06:07:21.032Z"
   },
   {
    "duration": 15,
    "start_time": "2023-05-14T06:07:21.039Z"
   },
   {
    "duration": 102,
    "start_time": "2023-05-14T06:07:21.055Z"
   },
   {
    "duration": 0,
    "start_time": "2023-05-14T06:07:21.159Z"
   },
   {
    "duration": 0,
    "start_time": "2023-05-14T06:07:21.160Z"
   },
   {
    "duration": 0,
    "start_time": "2023-05-14T06:07:21.161Z"
   },
   {
    "duration": 1624,
    "start_time": "2023-05-14T06:08:16.915Z"
   },
   {
    "duration": 57,
    "start_time": "2023-05-14T06:08:18.542Z"
   },
   {
    "duration": 16,
    "start_time": "2023-05-14T06:08:18.601Z"
   },
   {
    "duration": 3,
    "start_time": "2023-05-14T06:08:18.620Z"
   },
   {
    "duration": 63,
    "start_time": "2023-05-14T06:08:18.625Z"
   },
   {
    "duration": 6,
    "start_time": "2023-05-14T06:08:18.689Z"
   },
   {
    "duration": 266,
    "start_time": "2023-05-14T06:08:18.696Z"
   },
   {
    "duration": 273,
    "start_time": "2023-05-14T06:08:18.964Z"
   },
   {
    "duration": 314,
    "start_time": "2023-05-14T06:08:19.239Z"
   },
   {
    "duration": 213,
    "start_time": "2023-05-14T06:08:19.557Z"
   },
   {
    "duration": 10,
    "start_time": "2023-05-14T06:08:19.772Z"
   },
   {
    "duration": 383,
    "start_time": "2023-05-14T06:08:19.784Z"
   },
   {
    "duration": 306,
    "start_time": "2023-05-14T06:08:20.169Z"
   },
   {
    "duration": 300,
    "start_time": "2023-05-14T06:08:20.478Z"
   },
   {
    "duration": 5,
    "start_time": "2023-05-14T06:08:20.781Z"
   },
   {
    "duration": 19,
    "start_time": "2023-05-14T06:08:20.788Z"
   },
   {
    "duration": 227,
    "start_time": "2023-05-14T06:08:20.808Z"
   },
   {
    "duration": 0,
    "start_time": "2023-05-14T06:08:21.037Z"
   },
   {
    "duration": 0,
    "start_time": "2023-05-14T06:08:21.038Z"
   },
   {
    "duration": 0,
    "start_time": "2023-05-14T06:08:21.040Z"
   },
   {
    "duration": 1536,
    "start_time": "2023-05-14T06:10:01.537Z"
   },
   {
    "duration": 66,
    "start_time": "2023-05-14T06:10:03.075Z"
   },
   {
    "duration": 12,
    "start_time": "2023-05-14T06:10:03.143Z"
   },
   {
    "duration": 51,
    "start_time": "2023-05-14T06:10:03.158Z"
   },
   {
    "duration": 75,
    "start_time": "2023-05-14T06:10:03.214Z"
   },
   {
    "duration": 11,
    "start_time": "2023-05-14T06:10:03.292Z"
   },
   {
    "duration": 277,
    "start_time": "2023-05-14T06:10:03.306Z"
   },
   {
    "duration": 259,
    "start_time": "2023-05-14T06:10:03.585Z"
   },
   {
    "duration": 326,
    "start_time": "2023-05-14T06:10:03.847Z"
   },
   {
    "duration": 206,
    "start_time": "2023-05-14T06:10:04.176Z"
   },
   {
    "duration": 7,
    "start_time": "2023-05-14T06:10:04.384Z"
   },
   {
    "duration": 381,
    "start_time": "2023-05-14T06:10:04.393Z"
   },
   {
    "duration": 322,
    "start_time": "2023-05-14T06:10:04.775Z"
   },
   {
    "duration": 323,
    "start_time": "2023-05-14T06:10:05.099Z"
   },
   {
    "duration": 4,
    "start_time": "2023-05-14T06:10:05.424Z"
   },
   {
    "duration": 36,
    "start_time": "2023-05-14T06:10:05.431Z"
   },
   {
    "duration": 212,
    "start_time": "2023-05-14T06:10:05.469Z"
   },
   {
    "duration": 0,
    "start_time": "2023-05-14T06:10:05.683Z"
   },
   {
    "duration": 0,
    "start_time": "2023-05-14T06:10:05.686Z"
   },
   {
    "duration": 1528,
    "start_time": "2023-05-14T06:10:56.625Z"
   },
   {
    "duration": 64,
    "start_time": "2023-05-14T06:10:58.155Z"
   },
   {
    "duration": 12,
    "start_time": "2023-05-14T06:10:58.221Z"
   },
   {
    "duration": 15,
    "start_time": "2023-05-14T06:10:58.235Z"
   },
   {
    "duration": 51,
    "start_time": "2023-05-14T06:10:58.251Z"
   },
   {
    "duration": 21,
    "start_time": "2023-05-14T06:10:58.304Z"
   },
   {
    "duration": 236,
    "start_time": "2023-05-14T06:10:58.327Z"
   },
   {
    "duration": 240,
    "start_time": "2023-05-14T06:10:58.565Z"
   },
   {
    "duration": 257,
    "start_time": "2023-05-14T06:10:58.807Z"
   },
   {
    "duration": 224,
    "start_time": "2023-05-14T06:10:59.067Z"
   },
   {
    "duration": 7,
    "start_time": "2023-05-14T06:10:59.294Z"
   },
   {
    "duration": 380,
    "start_time": "2023-05-14T06:10:59.304Z"
   },
   {
    "duration": 317,
    "start_time": "2023-05-14T06:10:59.686Z"
   },
   {
    "duration": 320,
    "start_time": "2023-05-14T06:11:00.005Z"
   },
   {
    "duration": 7,
    "start_time": "2023-05-14T06:11:00.328Z"
   },
   {
    "duration": 49,
    "start_time": "2023-05-14T06:11:00.337Z"
   },
   {
    "duration": 282,
    "start_time": "2023-05-14T06:11:00.388Z"
   },
   {
    "duration": 0,
    "start_time": "2023-05-14T06:11:00.672Z"
   },
   {
    "duration": 0,
    "start_time": "2023-05-14T06:11:00.674Z"
   },
   {
    "duration": 128,
    "start_time": "2023-05-14T06:57:28.970Z"
   },
   {
    "duration": 12,
    "start_time": "2023-05-14T06:59:33.036Z"
   },
   {
    "duration": 21,
    "start_time": "2023-05-14T07:04:34.058Z"
   },
   {
    "duration": 82,
    "start_time": "2023-05-14T07:04:48.110Z"
   },
   {
    "duration": 1639,
    "start_time": "2023-05-14T07:05:12.263Z"
   },
   {
    "duration": 58,
    "start_time": "2023-05-14T07:05:13.904Z"
   },
   {
    "duration": 12,
    "start_time": "2023-05-14T07:05:13.964Z"
   },
   {
    "duration": 42,
    "start_time": "2023-05-14T07:05:13.978Z"
   },
   {
    "duration": 30,
    "start_time": "2023-05-14T07:05:14.034Z"
   },
   {
    "duration": 4,
    "start_time": "2023-05-14T07:05:14.066Z"
   },
   {
    "duration": 271,
    "start_time": "2023-05-14T07:05:14.071Z"
   },
   {
    "duration": 280,
    "start_time": "2023-05-14T07:05:14.343Z"
   },
   {
    "duration": 284,
    "start_time": "2023-05-14T07:05:14.625Z"
   },
   {
    "duration": 226,
    "start_time": "2023-05-14T07:05:14.912Z"
   },
   {
    "duration": 6,
    "start_time": "2023-05-14T07:05:15.139Z"
   },
   {
    "duration": 383,
    "start_time": "2023-05-14T07:05:15.146Z"
   },
   {
    "duration": 353,
    "start_time": "2023-05-14T07:05:15.533Z"
   },
   {
    "duration": 349,
    "start_time": "2023-05-14T07:05:15.893Z"
   },
   {
    "duration": 6,
    "start_time": "2023-05-14T07:05:16.244Z"
   },
   {
    "duration": 184,
    "start_time": "2023-05-14T07:05:16.252Z"
   },
   {
    "duration": 0,
    "start_time": "2023-05-14T07:05:16.438Z"
   },
   {
    "duration": 0,
    "start_time": "2023-05-14T07:05:16.439Z"
   },
   {
    "duration": 0,
    "start_time": "2023-05-14T07:05:16.440Z"
   },
   {
    "duration": 0,
    "start_time": "2023-05-14T07:05:16.441Z"
   },
   {
    "duration": 32,
    "start_time": "2023-05-14T07:05:24.361Z"
   },
   {
    "duration": 2095,
    "start_time": "2023-05-14T07:09:43.792Z"
   },
   {
    "duration": 72,
    "start_time": "2023-05-14T07:09:45.900Z"
   },
   {
    "duration": 18,
    "start_time": "2023-05-14T07:09:45.975Z"
   },
   {
    "duration": 27,
    "start_time": "2023-05-14T07:09:45.996Z"
   },
   {
    "duration": 58,
    "start_time": "2023-05-14T07:09:46.026Z"
   },
   {
    "duration": 4,
    "start_time": "2023-05-14T07:09:46.088Z"
   },
   {
    "duration": 332,
    "start_time": "2023-05-14T07:09:46.095Z"
   },
   {
    "duration": 343,
    "start_time": "2023-05-14T07:09:46.429Z"
   },
   {
    "duration": 383,
    "start_time": "2023-05-14T07:09:46.774Z"
   },
   {
    "duration": 286,
    "start_time": "2023-05-14T07:09:47.160Z"
   },
   {
    "duration": 6,
    "start_time": "2023-05-14T07:09:47.450Z"
   },
   {
    "duration": 422,
    "start_time": "2023-05-14T07:09:47.458Z"
   },
   {
    "duration": 361,
    "start_time": "2023-05-14T07:09:47.882Z"
   },
   {
    "duration": 476,
    "start_time": "2023-05-14T07:09:48.246Z"
   },
   {
    "duration": 5,
    "start_time": "2023-05-14T07:09:48.724Z"
   },
   {
    "duration": 24,
    "start_time": "2023-05-14T07:09:48.731Z"
   },
   {
    "duration": 0,
    "start_time": "2023-05-14T07:09:48.758Z"
   },
   {
    "duration": 0,
    "start_time": "2023-05-14T07:09:48.759Z"
   },
   {
    "duration": 0,
    "start_time": "2023-05-14T07:09:48.762Z"
   },
   {
    "duration": 16,
    "start_time": "2023-05-14T07:10:06.395Z"
   },
   {
    "duration": 1737,
    "start_time": "2023-05-14T07:10:29.595Z"
   },
   {
    "duration": 69,
    "start_time": "2023-05-14T07:10:31.335Z"
   },
   {
    "duration": 22,
    "start_time": "2023-05-14T07:10:31.407Z"
   },
   {
    "duration": 40,
    "start_time": "2023-05-14T07:10:31.432Z"
   },
   {
    "duration": 60,
    "start_time": "2023-05-14T07:10:31.475Z"
   },
   {
    "duration": 4,
    "start_time": "2023-05-14T07:10:31.538Z"
   },
   {
    "duration": 316,
    "start_time": "2023-05-14T07:10:31.544Z"
   },
   {
    "duration": 289,
    "start_time": "2023-05-14T07:10:31.863Z"
   },
   {
    "duration": 308,
    "start_time": "2023-05-14T07:10:32.155Z"
   },
   {
    "duration": 217,
    "start_time": "2023-05-14T07:10:32.465Z"
   },
   {
    "duration": 8,
    "start_time": "2023-05-14T07:10:32.684Z"
   },
   {
    "duration": 378,
    "start_time": "2023-05-14T07:10:32.694Z"
   },
   {
    "duration": 325,
    "start_time": "2023-05-14T07:10:33.074Z"
   },
   {
    "duration": 401,
    "start_time": "2023-05-14T07:10:33.402Z"
   },
   {
    "duration": 8,
    "start_time": "2023-05-14T07:10:33.811Z"
   },
   {
    "duration": 402506,
    "start_time": "2023-05-14T07:10:33.824Z"
   },
   {
    "duration": 138978,
    "start_time": "2023-05-14T07:17:16.332Z"
   },
   {
    "duration": 378917,
    "start_time": "2023-05-14T07:19:35.313Z"
   },
   {
    "duration": 0,
    "start_time": "2023-05-14T07:25:54.232Z"
   },
   {
    "duration": 0,
    "start_time": "2023-05-14T07:25:54.233Z"
   },
   {
    "duration": 35,
    "start_time": "2023-05-14T07:26:11.876Z"
   },
   {
    "duration": 1728,
    "start_time": "2023-05-14T07:30:34.038Z"
   },
   {
    "duration": 89,
    "start_time": "2023-05-14T07:30:35.768Z"
   },
   {
    "duration": 14,
    "start_time": "2023-05-14T07:30:35.860Z"
   },
   {
    "duration": 32,
    "start_time": "2023-05-14T07:30:35.876Z"
   },
   {
    "duration": 7,
    "start_time": "2023-05-14T07:30:35.910Z"
   },
   {
    "duration": 13,
    "start_time": "2023-05-14T07:30:35.919Z"
   },
   {
    "duration": 137,
    "start_time": "2023-05-14T07:30:35.937Z"
   },
   {
    "duration": 0,
    "start_time": "2023-05-14T07:30:36.077Z"
   },
   {
    "duration": 0,
    "start_time": "2023-05-14T07:30:36.078Z"
   },
   {
    "duration": 0,
    "start_time": "2023-05-14T07:30:36.078Z"
   },
   {
    "duration": 0,
    "start_time": "2023-05-14T07:30:36.080Z"
   },
   {
    "duration": 0,
    "start_time": "2023-05-14T07:30:36.081Z"
   },
   {
    "duration": 0,
    "start_time": "2023-05-14T07:30:36.082Z"
   },
   {
    "duration": 0,
    "start_time": "2023-05-14T07:30:36.083Z"
   },
   {
    "duration": 54,
    "start_time": "2023-05-14T07:31:53.894Z"
   },
   {
    "duration": 238,
    "start_time": "2023-05-14T07:31:59.003Z"
   },
   {
    "duration": 300,
    "start_time": "2023-05-14T07:32:05.594Z"
   },
   {
    "duration": 250,
    "start_time": "2023-05-14T07:32:06.015Z"
   },
   {
    "duration": 217,
    "start_time": "2023-05-14T07:32:06.518Z"
   },
   {
    "duration": 6,
    "start_time": "2023-05-14T07:32:07.162Z"
   },
   {
    "duration": 329,
    "start_time": "2023-05-14T07:32:08.516Z"
   },
   {
    "duration": 307,
    "start_time": "2023-05-14T07:32:11.756Z"
   },
   {
    "duration": 361,
    "start_time": "2023-05-14T07:32:12.064Z"
   },
   {
    "duration": 5,
    "start_time": "2023-05-14T07:32:17.990Z"
   },
   {
    "duration": 105030,
    "start_time": "2023-05-14T07:32:21.803Z"
   },
   {
    "duration": 260830,
    "start_time": "2023-05-14T07:35:20.816Z"
   },
   {
    "duration": 1336,
    "start_time": "2023-05-14T12:29:37.346Z"
   },
   {
    "duration": 141,
    "start_time": "2023-05-14T12:29:38.684Z"
   },
   {
    "duration": 10,
    "start_time": "2023-05-14T12:29:39.037Z"
   },
   {
    "duration": 4,
    "start_time": "2023-05-14T12:29:40.152Z"
   },
   {
    "duration": 110,
    "start_time": "2023-05-14T12:29:45.747Z"
   },
   {
    "duration": 41,
    "start_time": "2023-05-14T12:30:27.389Z"
   },
   {
    "duration": 200,
    "start_time": "2023-05-14T12:30:32.298Z"
   },
   {
    "duration": 8,
    "start_time": "2023-05-14T12:36:46.367Z"
   },
   {
    "duration": 1205,
    "start_time": "2023-05-14T12:40:46.455Z"
   },
   {
    "duration": 44,
    "start_time": "2023-05-14T12:40:47.661Z"
   },
   {
    "duration": 9,
    "start_time": "2023-05-14T12:40:47.707Z"
   },
   {
    "duration": 3,
    "start_time": "2023-05-14T12:40:47.718Z"
   },
   {
    "duration": 28,
    "start_time": "2023-05-14T12:40:47.722Z"
   },
   {
    "duration": 4,
    "start_time": "2023-05-14T12:40:47.752Z"
   },
   {
    "duration": 7,
    "start_time": "2023-05-14T12:40:47.757Z"
   },
   {
    "duration": 13,
    "start_time": "2023-05-14T12:40:47.765Z"
   },
   {
    "duration": 598,
    "start_time": "2023-05-14T12:40:47.779Z"
   },
   {
    "duration": 394,
    "start_time": "2023-05-14T12:40:48.379Z"
   },
   {
    "duration": 202,
    "start_time": "2023-05-14T12:40:48.775Z"
   },
   {
    "duration": 126,
    "start_time": "2023-05-14T12:40:48.979Z"
   },
   {
    "duration": 0,
    "start_time": "2023-05-14T12:40:49.107Z"
   },
   {
    "duration": 0,
    "start_time": "2023-05-14T12:40:49.108Z"
   },
   {
    "duration": 0,
    "start_time": "2023-05-14T12:40:49.110Z"
   },
   {
    "duration": 0,
    "start_time": "2023-05-14T12:40:49.112Z"
   },
   {
    "duration": 0,
    "start_time": "2023-05-14T12:40:49.113Z"
   },
   {
    "duration": 0,
    "start_time": "2023-05-14T12:40:49.114Z"
   },
   {
    "duration": 0,
    "start_time": "2023-05-14T12:40:49.116Z"
   },
   {
    "duration": 0,
    "start_time": "2023-05-14T12:40:49.118Z"
   },
   {
    "duration": 0,
    "start_time": "2023-05-14T12:40:49.119Z"
   },
   {
    "duration": 8,
    "start_time": "2023-05-14T12:41:36.123Z"
   },
   {
    "duration": 688,
    "start_time": "2023-05-14T12:41:38.629Z"
   },
   {
    "duration": 289,
    "start_time": "2023-05-14T12:41:42.459Z"
   },
   {
    "duration": 170,
    "start_time": "2023-05-14T12:41:43.988Z"
   },
   {
    "duration": 4,
    "start_time": "2023-05-14T12:41:46.525Z"
   },
   {
    "duration": 10,
    "start_time": "2023-05-14T12:41:50.746Z"
   },
   {
    "duration": 4,
    "start_time": "2023-05-14T12:42:19.808Z"
   },
   {
    "duration": 27,
    "start_time": "2023-05-14T12:42:28.045Z"
   },
   {
    "duration": 27,
    "start_time": "2023-05-14T12:44:22.644Z"
   },
   {
    "duration": 26,
    "start_time": "2023-05-14T12:44:30.693Z"
   },
   {
    "duration": 10,
    "start_time": "2023-05-14T13:07:59.546Z"
   },
   {
    "duration": 13,
    "start_time": "2023-05-14T13:08:55.731Z"
   },
   {
    "duration": 1281,
    "start_time": "2023-05-14T13:09:57.346Z"
   },
   {
    "duration": 46,
    "start_time": "2023-05-14T13:09:58.629Z"
   },
   {
    "duration": 11,
    "start_time": "2023-05-14T13:09:58.676Z"
   },
   {
    "duration": 14,
    "start_time": "2023-05-14T13:09:58.689Z"
   },
   {
    "duration": 33,
    "start_time": "2023-05-14T13:09:58.704Z"
   },
   {
    "duration": 3,
    "start_time": "2023-05-14T13:09:58.739Z"
   },
   {
    "duration": 219,
    "start_time": "2023-05-14T13:09:58.744Z"
   },
   {
    "duration": 9,
    "start_time": "2023-05-14T13:10:04.289Z"
   },
   {
    "duration": 213,
    "start_time": "2023-05-14T13:10:27.983Z"
   },
   {
    "duration": 208,
    "start_time": "2023-05-14T13:10:34.755Z"
   },
   {
    "duration": 213,
    "start_time": "2023-05-14T13:11:15.248Z"
   },
   {
    "duration": 217,
    "start_time": "2023-05-14T13:11:17.930Z"
   },
   {
    "duration": 5,
    "start_time": "2023-05-14T13:11:20.376Z"
   },
   {
    "duration": 190,
    "start_time": "2023-05-14T13:11:24.399Z"
   },
   {
    "duration": 232,
    "start_time": "2023-05-14T13:11:35.753Z"
   },
   {
    "duration": 241,
    "start_time": "2023-05-14T13:11:40.648Z"
   },
   {
    "duration": 227,
    "start_time": "2023-05-14T13:13:06.592Z"
   },
   {
    "duration": 277,
    "start_time": "2023-05-14T13:13:13.791Z"
   },
   {
    "duration": 271,
    "start_time": "2023-05-14T13:13:14.089Z"
   },
   {
    "duration": 187,
    "start_time": "2023-05-14T13:13:15.863Z"
   },
   {
    "duration": 183,
    "start_time": "2023-05-14T13:14:06.948Z"
   },
   {
    "duration": 354,
    "start_time": "2023-05-14T13:14:42.286Z"
   },
   {
    "duration": 175,
    "start_time": "2023-05-14T13:14:48.949Z"
   },
   {
    "duration": 227,
    "start_time": "2023-05-14T13:21:05.891Z"
   },
   {
    "duration": 290,
    "start_time": "2023-05-14T13:22:02.361Z"
   },
   {
    "duration": 233,
    "start_time": "2023-05-14T13:23:20.250Z"
   },
   {
    "duration": 258,
    "start_time": "2023-05-14T13:24:01.099Z"
   },
   {
    "duration": 7,
    "start_time": "2023-05-14T13:24:04.694Z"
   },
   {
    "duration": 225,
    "start_time": "2023-05-14T13:24:11.120Z"
   },
   {
    "duration": 248,
    "start_time": "2023-05-14T13:25:07.351Z"
   },
   {
    "duration": 201,
    "start_time": "2023-05-14T13:25:12.376Z"
   },
   {
    "duration": 237,
    "start_time": "2023-05-14T13:26:02.053Z"
   },
   {
    "duration": 281,
    "start_time": "2023-05-14T13:26:49.196Z"
   },
   {
    "duration": 261,
    "start_time": "2023-05-14T13:28:03.431Z"
   },
   {
    "duration": 1347,
    "start_time": "2023-05-14T13:28:15.298Z"
   },
   {
    "duration": 46,
    "start_time": "2023-05-14T13:28:16.647Z"
   },
   {
    "duration": 20,
    "start_time": "2023-05-14T13:28:16.694Z"
   },
   {
    "duration": 19,
    "start_time": "2023-05-14T13:28:16.722Z"
   },
   {
    "duration": 28,
    "start_time": "2023-05-14T13:28:16.743Z"
   },
   {
    "duration": 5,
    "start_time": "2023-05-14T13:28:16.773Z"
   },
   {
    "duration": 298,
    "start_time": "2023-05-14T13:28:16.780Z"
   },
   {
    "duration": 284,
    "start_time": "2023-05-14T13:28:17.080Z"
   },
   {
    "duration": 323,
    "start_time": "2023-05-14T13:28:17.366Z"
   },
   {
    "duration": 185,
    "start_time": "2023-05-14T13:28:17.691Z"
   },
   {
    "duration": 211,
    "start_time": "2023-05-14T13:28:17.878Z"
   },
   {
    "duration": 24,
    "start_time": "2023-05-14T13:28:18.090Z"
   },
   {
    "duration": 221,
    "start_time": "2023-05-14T13:28:18.121Z"
   },
   {
    "duration": 277,
    "start_time": "2023-05-14T13:28:18.344Z"
   },
   {
    "duration": 334,
    "start_time": "2023-05-14T13:28:18.623Z"
   },
   {
    "duration": 4,
    "start_time": "2023-05-14T13:28:18.959Z"
   },
   {
    "duration": 158,
    "start_time": "2023-05-14T13:28:18.965Z"
   },
   {
    "duration": 0,
    "start_time": "2023-05-14T13:28:19.128Z"
   },
   {
    "duration": 0,
    "start_time": "2023-05-14T13:28:19.129Z"
   },
   {
    "duration": 1,
    "start_time": "2023-05-14T13:28:19.130Z"
   },
   {
    "duration": 0,
    "start_time": "2023-05-14T13:28:19.132Z"
   },
   {
    "duration": 305,
    "start_time": "2023-05-14T13:28:37.787Z"
   },
   {
    "duration": 9,
    "start_time": "2023-05-14T13:30:40.630Z"
   },
   {
    "duration": 250,
    "start_time": "2023-05-14T13:30:50.043Z"
   },
   {
    "duration": 310,
    "start_time": "2023-05-14T13:30:53.886Z"
   },
   {
    "duration": 10,
    "start_time": "2023-05-14T13:31:32.866Z"
   },
   {
    "duration": 160,
    "start_time": "2023-05-14T13:31:33.876Z"
   },
   {
    "duration": 172,
    "start_time": "2023-05-14T13:31:36.736Z"
   },
   {
    "duration": 4,
    "start_time": "2023-05-14T13:35:05.396Z"
   },
   {
    "duration": 13,
    "start_time": "2023-05-14T13:37:16.413Z"
   },
   {
    "duration": 10,
    "start_time": "2023-05-14T13:38:17.339Z"
   },
   {
    "duration": 4,
    "start_time": "2023-05-14T13:38:25.541Z"
   },
   {
    "duration": 11,
    "start_time": "2023-05-14T13:38:30.562Z"
   },
   {
    "duration": 13,
    "start_time": "2023-05-14T13:40:05.513Z"
   },
   {
    "duration": 11,
    "start_time": "2023-05-14T13:40:30.452Z"
   },
   {
    "duration": 175,
    "start_time": "2023-05-14T13:40:46.414Z"
   },
   {
    "duration": 1291,
    "start_time": "2023-05-14T13:44:14.945Z"
   },
   {
    "duration": 56,
    "start_time": "2023-05-14T13:44:16.238Z"
   },
   {
    "duration": 12,
    "start_time": "2023-05-14T13:44:16.295Z"
   },
   {
    "duration": 25,
    "start_time": "2023-05-14T13:44:16.311Z"
   },
   {
    "duration": 37,
    "start_time": "2023-05-14T13:44:16.337Z"
   },
   {
    "duration": 3,
    "start_time": "2023-05-14T13:44:16.376Z"
   },
   {
    "duration": 309,
    "start_time": "2023-05-14T13:44:16.380Z"
   },
   {
    "duration": 250,
    "start_time": "2023-05-14T13:44:16.691Z"
   },
   {
    "duration": 198,
    "start_time": "2023-05-14T13:44:16.943Z"
   },
   {
    "duration": 224,
    "start_time": "2023-05-14T13:44:17.144Z"
   },
   {
    "duration": 8,
    "start_time": "2023-05-14T13:44:17.370Z"
   },
   {
    "duration": 176,
    "start_time": "2023-05-14T13:44:17.380Z"
   },
   {
    "duration": 180,
    "start_time": "2023-05-14T13:44:17.558Z"
   },
   {
    "duration": 3,
    "start_time": "2023-05-14T13:44:17.740Z"
   },
   {
    "duration": 4,
    "start_time": "2023-05-14T13:44:35.396Z"
   },
   {
    "duration": 6,
    "start_time": "2023-05-14T13:44:39.040Z"
   },
   {
    "duration": 1429,
    "start_time": "2023-05-14T14:09:03.468Z"
   },
   {
    "duration": 65,
    "start_time": "2023-05-14T14:09:04.899Z"
   },
   {
    "duration": 10,
    "start_time": "2023-05-14T14:09:04.965Z"
   },
   {
    "duration": 15,
    "start_time": "2023-05-14T14:09:04.977Z"
   },
   {
    "duration": 64,
    "start_time": "2023-05-14T14:09:04.995Z"
   },
   {
    "duration": 4,
    "start_time": "2023-05-14T14:09:05.062Z"
   },
   {
    "duration": 360,
    "start_time": "2023-05-14T14:09:05.067Z"
   },
   {
    "duration": 255,
    "start_time": "2023-05-14T14:09:05.429Z"
   },
   {
    "duration": 267,
    "start_time": "2023-05-14T14:09:05.686Z"
   },
   {
    "duration": 240,
    "start_time": "2023-05-14T14:09:05.960Z"
   },
   {
    "duration": 8,
    "start_time": "2023-05-14T14:09:06.203Z"
   },
   {
    "duration": 204,
    "start_time": "2023-05-14T14:09:06.214Z"
   },
   {
    "duration": 194,
    "start_time": "2023-05-14T14:09:06.421Z"
   },
   {
    "duration": 5,
    "start_time": "2023-05-14T14:09:06.621Z"
   },
   {
    "duration": 4,
    "start_time": "2023-05-14T14:09:13.353Z"
   },
   {
    "duration": 380809,
    "start_time": "2023-05-14T14:09:18.426Z"
   },
   {
    "duration": 54513,
    "start_time": "2023-05-14T14:20:06.548Z"
   },
   {
    "duration": 1381,
    "start_time": "2023-05-14T14:35:39.404Z"
   },
   {
    "duration": 54,
    "start_time": "2023-05-14T14:35:40.787Z"
   },
   {
    "duration": 9,
    "start_time": "2023-05-14T14:35:40.843Z"
   },
   {
    "duration": 14,
    "start_time": "2023-05-14T14:35:40.854Z"
   },
   {
    "duration": 28,
    "start_time": "2023-05-14T14:35:40.869Z"
   },
   {
    "duration": 18,
    "start_time": "2023-05-14T14:35:40.898Z"
   },
   {
    "duration": 26,
    "start_time": "2023-05-14T14:35:40.918Z"
   },
   {
    "duration": 283,
    "start_time": "2023-05-14T14:35:40.946Z"
   },
   {
    "duration": 314,
    "start_time": "2023-05-14T14:35:41.230Z"
   },
   {
    "duration": 267,
    "start_time": "2023-05-14T14:35:41.547Z"
   },
   {
    "duration": 175,
    "start_time": "2023-05-14T14:35:41.824Z"
   },
   {
    "duration": 14,
    "start_time": "2023-05-14T14:35:42.006Z"
   },
   {
    "duration": 245,
    "start_time": "2023-05-14T14:35:42.024Z"
   },
   {
    "duration": 276,
    "start_time": "2023-05-14T14:35:47.552Z"
   },
   {
    "duration": 319,
    "start_time": "2023-05-14T14:36:55.032Z"
   },
   {
    "duration": 254,
    "start_time": "2023-05-14T14:37:11.847Z"
   },
   {
    "duration": 114,
    "start_time": "2023-05-14T14:38:44.781Z"
   },
   {
    "duration": 13,
    "start_time": "2023-05-14T14:39:21.071Z"
   },
   {
    "duration": 150,
    "start_time": "2023-05-14T14:41:38.557Z"
   },
   {
    "duration": 10,
    "start_time": "2023-05-14T14:41:51.720Z"
   },
   {
    "duration": 218,
    "start_time": "2023-05-14T14:41:58.696Z"
   },
   {
    "duration": 9,
    "start_time": "2023-05-14T14:42:14.645Z"
   },
   {
    "duration": 137,
    "start_time": "2023-05-14T14:42:16.886Z"
   },
   {
    "duration": 13,
    "start_time": "2023-05-14T14:42:37.864Z"
   },
   {
    "duration": 19,
    "start_time": "2023-05-14T14:43:01.328Z"
   },
   {
    "duration": 130,
    "start_time": "2023-05-14T14:43:03.427Z"
   },
   {
    "duration": 1611,
    "start_time": "2023-05-14T14:44:52.522Z"
   },
   {
    "duration": 64,
    "start_time": "2023-05-14T14:44:54.138Z"
   },
   {
    "duration": 22,
    "start_time": "2023-05-14T14:44:54.204Z"
   },
   {
    "duration": 44,
    "start_time": "2023-05-14T14:44:54.235Z"
   },
   {
    "duration": 34,
    "start_time": "2023-05-14T14:44:54.281Z"
   },
   {
    "duration": 3,
    "start_time": "2023-05-14T14:44:54.321Z"
   },
   {
    "duration": 26,
    "start_time": "2023-05-14T14:44:54.326Z"
   },
   {
    "duration": 402,
    "start_time": "2023-05-14T14:44:54.356Z"
   },
   {
    "duration": 432,
    "start_time": "2023-05-14T14:44:54.761Z"
   },
   {
    "duration": 310,
    "start_time": "2023-05-14T14:44:55.196Z"
   },
   {
    "duration": 215,
    "start_time": "2023-05-14T14:44:55.510Z"
   },
   {
    "duration": 17,
    "start_time": "2023-05-14T14:44:55.727Z"
   },
   {
    "duration": 298,
    "start_time": "2023-05-14T14:44:55.753Z"
   },
   {
    "duration": 287,
    "start_time": "2023-05-14T14:44:56.055Z"
   },
   {
    "duration": 7,
    "start_time": "2023-05-14T14:44:56.343Z"
   },
   {
    "duration": 119,
    "start_time": "2023-05-14T14:44:56.351Z"
   },
   {
    "duration": 4,
    "start_time": "2023-05-14T14:44:56.471Z"
   },
   {
    "duration": 6,
    "start_time": "2023-05-14T14:44:56.477Z"
   },
   {
    "duration": 1914,
    "start_time": "2023-05-14T14:45:15.882Z"
   },
   {
    "duration": 82,
    "start_time": "2023-05-14T14:45:17.798Z"
   },
   {
    "duration": 13,
    "start_time": "2023-05-14T14:45:17.882Z"
   },
   {
    "duration": 29,
    "start_time": "2023-05-14T14:45:17.897Z"
   },
   {
    "duration": 44,
    "start_time": "2023-05-14T14:45:17.931Z"
   },
   {
    "duration": 12,
    "start_time": "2023-05-14T14:45:17.980Z"
   },
   {
    "duration": 50,
    "start_time": "2023-05-14T14:45:17.994Z"
   },
   {
    "duration": 386,
    "start_time": "2023-05-14T14:45:18.045Z"
   },
   {
    "duration": 482,
    "start_time": "2023-05-14T14:45:18.433Z"
   },
   {
    "duration": 369,
    "start_time": "2023-05-14T14:45:18.927Z"
   },
   {
    "duration": 258,
    "start_time": "2023-05-14T14:45:19.297Z"
   },
   {
    "duration": 8,
    "start_time": "2023-05-14T14:45:19.557Z"
   },
   {
    "duration": 330,
    "start_time": "2023-05-14T14:45:19.566Z"
   },
   {
    "duration": 395,
    "start_time": "2023-05-14T14:45:19.902Z"
   },
   {
    "duration": 17,
    "start_time": "2023-05-14T14:45:20.302Z"
   },
   {
    "duration": 150,
    "start_time": "2023-05-14T14:45:20.324Z"
   },
   {
    "duration": 5,
    "start_time": "2023-05-14T14:45:22.778Z"
   },
   {
    "duration": 210,
    "start_time": "2023-05-14T14:45:27.232Z"
   },
   {
    "duration": 155,
    "start_time": "2023-05-14T14:48:05.424Z"
   },
   {
    "duration": 7,
    "start_time": "2023-05-14T14:48:13.166Z"
   },
   {
    "duration": 5,
    "start_time": "2023-05-14T14:48:13.781Z"
   },
   {
    "duration": 22,
    "start_time": "2023-05-14T14:48:40.941Z"
   },
   {
    "duration": 5,
    "start_time": "2023-05-14T14:48:44.369Z"
   },
   {
    "duration": 7,
    "start_time": "2023-05-14T14:48:45.145Z"
   },
   {
    "duration": 5,
    "start_time": "2023-05-14T14:49:57.660Z"
   },
   {
    "duration": 5,
    "start_time": "2023-05-14T14:50:02.647Z"
   },
   {
    "duration": 6,
    "start_time": "2023-05-14T14:50:03.099Z"
   },
   {
    "duration": 4,
    "start_time": "2023-05-14T14:50:57.345Z"
   },
   {
    "duration": 7,
    "start_time": "2023-05-14T14:51:12.446Z"
   },
   {
    "duration": 6,
    "start_time": "2023-05-14T14:51:34.593Z"
   },
   {
    "duration": 9,
    "start_time": "2023-05-14T14:52:26.694Z"
   },
   {
    "duration": 5,
    "start_time": "2023-05-14T14:52:44.898Z"
   },
   {
    "duration": 5,
    "start_time": "2023-05-14T14:54:12.928Z"
   },
   {
    "duration": 5,
    "start_time": "2023-05-14T14:54:13.894Z"
   },
   {
    "duration": 5,
    "start_time": "2023-05-14T14:54:14.570Z"
   },
   {
    "duration": 3,
    "start_time": "2023-05-14T14:54:15.148Z"
   },
   {
    "duration": 4,
    "start_time": "2023-05-14T14:54:36.293Z"
   },
   {
    "duration": 5,
    "start_time": "2023-05-14T14:54:42.300Z"
   },
   {
    "duration": 6,
    "start_time": "2023-05-14T14:54:42.593Z"
   },
   {
    "duration": 4,
    "start_time": "2023-05-14T14:54:42.885Z"
   },
   {
    "duration": 5,
    "start_time": "2023-05-14T14:55:56.662Z"
   },
   {
    "duration": 4,
    "start_time": "2023-05-14T14:55:57.696Z"
   },
   {
    "duration": 15,
    "start_time": "2023-05-14T14:59:26.726Z"
   },
   {
    "duration": 80,
    "start_time": "2023-05-14T15:01:01.443Z"
   },
   {
    "duration": 14,
    "start_time": "2023-05-14T15:01:35.896Z"
   },
   {
    "duration": 5,
    "start_time": "2023-05-14T15:01:49.497Z"
   },
   {
    "duration": 7,
    "start_time": "2023-05-14T15:13:45.000Z"
   },
   {
    "duration": 12990,
    "start_time": "2023-05-14T15:13:49.048Z"
   },
   {
    "duration": 1267,
    "start_time": "2023-05-14T15:14:45.762Z"
   },
   {
    "duration": 49,
    "start_time": "2023-05-14T15:14:47.031Z"
   },
   {
    "duration": 13,
    "start_time": "2023-05-14T15:14:47.082Z"
   },
   {
    "duration": 25,
    "start_time": "2023-05-14T15:14:47.097Z"
   },
   {
    "duration": 36,
    "start_time": "2023-05-14T15:14:47.125Z"
   },
   {
    "duration": 4,
    "start_time": "2023-05-14T15:14:47.162Z"
   },
   {
    "duration": 12,
    "start_time": "2023-05-14T15:14:47.167Z"
   },
   {
    "duration": 308,
    "start_time": "2023-05-14T15:14:47.181Z"
   },
   {
    "duration": 315,
    "start_time": "2023-05-14T15:14:47.490Z"
   },
   {
    "duration": 268,
    "start_time": "2023-05-14T15:14:47.807Z"
   },
   {
    "duration": 197,
    "start_time": "2023-05-14T15:14:48.076Z"
   },
   {
    "duration": 7,
    "start_time": "2023-05-14T15:14:48.274Z"
   },
   {
    "duration": 266,
    "start_time": "2023-05-14T15:14:48.283Z"
   },
   {
    "duration": 284,
    "start_time": "2023-05-14T15:14:48.550Z"
   },
   {
    "duration": 5,
    "start_time": "2023-05-14T15:14:48.837Z"
   },
   {
    "duration": 121,
    "start_time": "2023-05-14T15:14:48.844Z"
   },
   {
    "duration": 4,
    "start_time": "2023-05-14T15:14:48.966Z"
   },
   {
    "duration": 6,
    "start_time": "2023-05-14T15:14:48.971Z"
   },
   {
    "duration": 213522,
    "start_time": "2023-05-14T15:14:55.997Z"
   },
   {
    "duration": 1863677,
    "start_time": "2023-05-14T15:20:35.898Z"
   },
   {
    "duration": 5569,
    "start_time": "2023-05-14T15:51:52.976Z"
   },
   {
    "duration": 9,
    "start_time": "2023-05-14T15:52:57.572Z"
   },
   {
    "duration": 81,
    "start_time": "2023-05-14T15:53:33.432Z"
   },
   {
    "duration": 387682,
    "start_time": "2023-05-14T15:53:48.167Z"
   },
   {
    "duration": 0,
    "start_time": "2023-05-14T16:00:15.851Z"
   },
   {
    "duration": 4,
    "start_time": "2023-05-14T16:05:21.234Z"
   },
   {
    "duration": 33,
    "start_time": "2023-05-14T16:31:27.631Z"
   },
   {
    "duration": 0,
    "start_time": "2023-05-14T16:36:14.262Z"
   },
   {
    "duration": 16,
    "start_time": "2023-05-14T16:36:17.242Z"
   },
   {
    "duration": 1357,
    "start_time": "2023-05-14T16:47:28.041Z"
   },
   {
    "duration": 69,
    "start_time": "2023-05-14T16:47:29.399Z"
   },
   {
    "duration": 10,
    "start_time": "2023-05-14T16:47:29.469Z"
   },
   {
    "duration": 19,
    "start_time": "2023-05-14T16:47:29.481Z"
   },
   {
    "duration": 55,
    "start_time": "2023-05-14T16:47:29.502Z"
   },
   {
    "duration": 3,
    "start_time": "2023-05-14T16:47:29.558Z"
   },
   {
    "duration": 32,
    "start_time": "2023-05-14T16:47:29.562Z"
   },
   {
    "duration": 297,
    "start_time": "2023-05-14T16:47:29.596Z"
   },
   {
    "duration": 333,
    "start_time": "2023-05-14T16:47:29.894Z"
   },
   {
    "duration": 283,
    "start_time": "2023-05-14T16:47:30.229Z"
   },
   {
    "duration": 208,
    "start_time": "2023-05-14T16:47:30.514Z"
   },
   {
    "duration": 11,
    "start_time": "2023-05-14T16:47:30.740Z"
   },
   {
    "duration": 296,
    "start_time": "2023-05-14T16:47:30.752Z"
   },
   {
    "duration": 303,
    "start_time": "2023-05-14T16:47:31.052Z"
   },
   {
    "duration": 4,
    "start_time": "2023-05-14T16:47:31.357Z"
   },
   {
    "duration": 166,
    "start_time": "2023-05-14T16:47:31.362Z"
   },
   {
    "duration": 5,
    "start_time": "2023-05-14T16:47:31.529Z"
   },
   {
    "duration": 14,
    "start_time": "2023-05-14T16:47:31.536Z"
   },
   {
    "duration": 34,
    "start_time": "2023-05-14T16:47:31.552Z"
   },
   {
    "duration": 37,
    "start_time": "2023-05-14T16:47:31.588Z"
   },
   {
    "duration": 26,
    "start_time": "2023-05-14T16:47:31.629Z"
   },
   {
    "duration": 53612,
    "start_time": "2023-05-14T16:47:31.657Z"
   },
   {
    "duration": 0,
    "start_time": "2023-05-14T16:48:25.271Z"
   },
   {
    "duration": 13990,
    "start_time": "2023-05-14T16:48:50.472Z"
   },
   {
    "duration": 171750,
    "start_time": "2023-05-14T16:52:11.945Z"
   },
   {
    "duration": 0,
    "start_time": "2023-05-14T17:01:44.355Z"
   },
   {
    "duration": 1,
    "start_time": "2023-05-14T17:05:29.914Z"
   },
   {
    "duration": 1271,
    "start_time": "2023-05-14T17:12:14.770Z"
   },
   {
    "duration": 44,
    "start_time": "2023-05-14T17:12:16.043Z"
   },
   {
    "duration": 10,
    "start_time": "2023-05-14T17:12:16.088Z"
   },
   {
    "duration": 25,
    "start_time": "2023-05-14T17:12:16.099Z"
   },
   {
    "duration": 26,
    "start_time": "2023-05-14T17:12:16.129Z"
   },
   {
    "duration": 3,
    "start_time": "2023-05-14T17:12:16.157Z"
   },
   {
    "duration": 17,
    "start_time": "2023-05-14T17:12:16.161Z"
   },
   {
    "duration": 280,
    "start_time": "2023-05-14T17:12:16.179Z"
   },
   {
    "duration": 315,
    "start_time": "2023-05-14T17:12:16.460Z"
   },
   {
    "duration": 272,
    "start_time": "2023-05-14T17:12:16.777Z"
   },
   {
    "duration": 185,
    "start_time": "2023-05-14T17:12:17.050Z"
   },
   {
    "duration": 8,
    "start_time": "2023-05-14T17:12:17.237Z"
   },
   {
    "duration": 253,
    "start_time": "2023-05-14T17:12:17.246Z"
   },
   {
    "duration": 257,
    "start_time": "2023-05-14T17:12:17.506Z"
   },
   {
    "duration": 3,
    "start_time": "2023-05-14T17:12:17.765Z"
   },
   {
    "duration": 118,
    "start_time": "2023-05-14T17:12:17.770Z"
   },
   {
    "duration": 4,
    "start_time": "2023-05-14T17:12:17.890Z"
   },
   {
    "duration": 6,
    "start_time": "2023-05-14T17:12:25.521Z"
   },
   {
    "duration": 122406,
    "start_time": "2023-05-14T17:12:32.349Z"
   },
   {
    "duration": 0,
    "start_time": "2023-05-14T17:16:16.652Z"
   },
   {
    "duration": 1260398,
    "start_time": "2023-05-14T17:16:19.433Z"
   },
   {
    "duration": 70,
    "start_time": "2023-05-14T17:37:51.166Z"
   },
   {
    "duration": 129174,
    "start_time": "2023-05-14T17:37:55.981Z"
   },
   {
    "duration": 1394,
    "start_time": "2023-05-14T17:44:31.600Z"
   },
   {
    "duration": 73,
    "start_time": "2023-05-14T17:44:32.996Z"
   },
   {
    "duration": 13,
    "start_time": "2023-05-14T17:44:33.071Z"
   },
   {
    "duration": 21,
    "start_time": "2023-05-14T17:44:33.086Z"
   },
   {
    "duration": 37,
    "start_time": "2023-05-14T17:44:33.113Z"
   },
   {
    "duration": 4,
    "start_time": "2023-05-14T17:44:33.151Z"
   },
   {
    "duration": 14,
    "start_time": "2023-05-14T17:44:33.157Z"
   },
   {
    "duration": 333,
    "start_time": "2023-05-14T17:44:33.172Z"
   },
   {
    "duration": 388,
    "start_time": "2023-05-14T17:44:33.506Z"
   },
   {
    "duration": 224,
    "start_time": "2023-05-14T17:44:33.895Z"
   },
   {
    "duration": 187,
    "start_time": "2023-05-14T17:44:34.126Z"
   },
   {
    "duration": 12,
    "start_time": "2023-05-14T17:44:34.321Z"
   },
   {
    "duration": 263,
    "start_time": "2023-05-14T17:44:34.334Z"
   },
   {
    "duration": 292,
    "start_time": "2023-05-14T17:44:34.599Z"
   },
   {
    "duration": 5,
    "start_time": "2023-05-14T17:44:34.893Z"
   },
   {
    "duration": 118,
    "start_time": "2023-05-14T17:44:34.919Z"
   },
   {
    "duration": 4,
    "start_time": "2023-05-14T17:44:35.039Z"
   },
   {
    "duration": 14,
    "start_time": "2023-05-14T17:44:35.045Z"
   },
   {
    "duration": 14786,
    "start_time": "2023-05-14T17:44:35.060Z"
   },
   {
    "duration": 43318,
    "start_time": "2023-05-14T17:44:49.921Z"
   },
   {
    "duration": 1833167,
    "start_time": "2023-05-14T17:45:33.240Z"
   },
   {
    "duration": 0,
    "start_time": "2023-05-14T18:16:06.414Z"
   },
   {
    "duration": 0,
    "start_time": "2023-05-14T18:16:06.415Z"
   },
   {
    "duration": 0,
    "start_time": "2023-05-14T18:16:06.419Z"
   },
   {
    "duration": 2647525,
    "start_time": "2023-05-14T18:16:14.218Z"
   },
   {
    "duration": 0,
    "start_time": "2023-05-14T19:00:21.751Z"
   },
   {
    "duration": 20,
    "start_time": "2023-05-14T19:00:28.669Z"
   },
   {
    "duration": 15,
    "start_time": "2023-05-14T19:01:19.728Z"
   },
   {
    "duration": 12,
    "start_time": "2023-05-14T19:01:28.177Z"
   },
   {
    "duration": 16,
    "start_time": "2023-05-14T19:01:33.231Z"
   },
   {
    "duration": 2,
    "start_time": "2023-05-14T19:02:26.585Z"
   },
   {
    "duration": 33770,
    "start_time": "2023-05-14T19:02:36.789Z"
   },
   {
    "duration": 24,
    "start_time": "2023-05-14T19:03:18.926Z"
   },
   {
    "duration": 1384,
    "start_time": "2023-05-14T19:46:41.848Z"
   },
   {
    "duration": 46,
    "start_time": "2023-05-14T19:46:44.761Z"
   },
   {
    "duration": 11,
    "start_time": "2023-05-14T19:46:46.741Z"
   },
   {
    "duration": 25,
    "start_time": "2023-05-14T19:46:47.222Z"
   },
   {
    "duration": 49,
    "start_time": "2023-05-14T19:46:47.532Z"
   },
   {
    "duration": 5,
    "start_time": "2023-05-14T19:46:47.907Z"
   },
   {
    "duration": 18,
    "start_time": "2023-05-14T19:46:48.320Z"
   },
   {
    "duration": 296,
    "start_time": "2023-05-14T19:46:51.177Z"
   },
   {
    "duration": 358,
    "start_time": "2023-05-14T19:46:52.021Z"
   },
   {
    "duration": 223,
    "start_time": "2023-05-14T19:46:54.165Z"
   },
   {
    "duration": 201,
    "start_time": "2023-05-14T19:46:54.751Z"
   },
   {
    "duration": 8,
    "start_time": "2023-05-14T19:46:55.352Z"
   },
   {
    "duration": 307,
    "start_time": "2023-05-14T19:46:55.930Z"
   },
   {
    "duration": 274,
    "start_time": "2023-05-14T19:46:56.658Z"
   },
   {
    "duration": 4,
    "start_time": "2023-05-14T19:46:57.343Z"
   },
   {
    "duration": 107,
    "start_time": "2023-05-14T19:46:58.369Z"
   },
   {
    "duration": 4,
    "start_time": "2023-05-14T19:46:59.065Z"
   },
   {
    "duration": 4,
    "start_time": "2023-05-14T19:48:49.223Z"
   },
   {
    "duration": 5,
    "start_time": "2023-05-14T19:49:54.892Z"
   },
   {
    "duration": 338,
    "start_time": "2023-05-14T19:59:53.349Z"
   },
   {
    "duration": 339,
    "start_time": "2023-05-14T20:00:25.589Z"
   },
   {
    "duration": 355,
    "start_time": "2023-05-14T20:02:55.043Z"
   },
   {
    "duration": 879,
    "start_time": "2023-05-14T20:05:33.030Z"
   },
   {
    "duration": 375,
    "start_time": "2023-05-14T20:06:16.032Z"
   },
   {
    "duration": 293,
    "start_time": "2023-05-14T20:08:34.421Z"
   },
   {
    "duration": 49,
    "start_time": "2023-05-14T20:11:23.672Z"
   },
   {
    "duration": 28,
    "start_time": "2023-05-14T20:12:55.950Z"
   },
   {
    "duration": 319,
    "start_time": "2023-05-14T20:16:02.225Z"
   },
   {
    "duration": 45,
    "start_time": "2023-05-14T20:17:19.266Z"
   },
   {
    "duration": 52,
    "start_time": "2023-05-14T20:17:32.785Z"
   },
   {
    "duration": 42,
    "start_time": "2023-05-14T20:17:51.444Z"
   },
   {
    "duration": 735,
    "start_time": "2023-05-14T20:18:09.824Z"
   },
   {
    "duration": 328,
    "start_time": "2023-05-14T20:18:39.061Z"
   },
   {
    "duration": 1347,
    "start_time": "2023-05-14T20:50:58.441Z"
   },
   {
    "duration": 51,
    "start_time": "2023-05-14T20:50:59.790Z"
   },
   {
    "duration": 10,
    "start_time": "2023-05-14T20:50:59.842Z"
   },
   {
    "duration": 15,
    "start_time": "2023-05-14T20:50:59.853Z"
   },
   {
    "duration": 23,
    "start_time": "2023-05-14T20:50:59.870Z"
   },
   {
    "duration": 17,
    "start_time": "2023-05-14T20:50:59.894Z"
   },
   {
    "duration": 13,
    "start_time": "2023-05-14T20:50:59.912Z"
   },
   {
    "duration": 296,
    "start_time": "2023-05-14T20:50:59.927Z"
   },
   {
    "duration": 372,
    "start_time": "2023-05-14T20:51:00.225Z"
   },
   {
    "duration": 190,
    "start_time": "2023-05-14T20:51:00.612Z"
   },
   {
    "duration": 197,
    "start_time": "2023-05-14T20:51:00.804Z"
   },
   {
    "duration": 18,
    "start_time": "2023-05-14T20:51:01.003Z"
   },
   {
    "duration": 238,
    "start_time": "2023-05-14T20:51:01.022Z"
   },
   {
    "duration": 268,
    "start_time": "2023-05-14T20:51:01.261Z"
   },
   {
    "duration": 5,
    "start_time": "2023-05-14T20:51:01.531Z"
   },
   {
    "duration": 153,
    "start_time": "2023-05-14T20:51:01.537Z"
   },
   {
    "duration": 5,
    "start_time": "2023-05-14T20:51:01.691Z"
   },
   {
    "duration": 5,
    "start_time": "2023-05-14T20:51:41.339Z"
   },
   {
    "duration": 119,
    "start_time": "2023-05-14T20:51:52.042Z"
   },
   {
    "duration": 32,
    "start_time": "2023-05-14T20:52:38.345Z"
   },
   {
    "duration": 4,
    "start_time": "2023-05-14T20:53:34.222Z"
   },
   {
    "duration": 4131,
    "start_time": "2023-05-14T20:53:41.791Z"
   },
   {
    "duration": 15,
    "start_time": "2023-05-14T20:54:21.819Z"
   },
   {
    "duration": 5675,
    "start_time": "2023-05-14T20:54:31.787Z"
   },
   {
    "duration": 15,
    "start_time": "2023-05-14T20:54:44.997Z"
   },
   {
    "duration": 85,
    "start_time": "2023-05-14T20:55:03.531Z"
   },
   {
    "duration": 1626,
    "start_time": "2023-05-14T20:55:20.206Z"
   },
   {
    "duration": 270,
    "start_time": "2023-05-14T20:56:42.491Z"
   },
   {
    "duration": 211,
    "start_time": "2023-05-14T20:56:48.773Z"
   },
   {
    "duration": 294,
    "start_time": "2023-05-14T20:56:54.023Z"
   },
   {
    "duration": 173,
    "start_time": "2023-05-14T20:56:58.850Z"
   },
   {
    "duration": 9,
    "start_time": "2023-05-14T20:57:06.474Z"
   },
   {
    "duration": 232,
    "start_time": "2023-05-14T20:57:08.778Z"
   },
   {
    "duration": 253,
    "start_time": "2023-05-14T20:57:13.195Z"
   },
   {
    "duration": 121,
    "start_time": "2023-05-14T20:57:19.903Z"
   },
   {
    "duration": 5,
    "start_time": "2023-05-14T20:57:43.881Z"
   },
   {
    "duration": 2171,
    "start_time": "2023-05-14T20:57:49.548Z"
   },
   {
    "duration": 9,
    "start_time": "2023-05-14T20:57:52.185Z"
   },
   {
    "duration": 1349,
    "start_time": "2023-05-14T20:57:54.470Z"
   },
   {
    "duration": 191,
    "start_time": "2023-05-14T20:57:58.923Z"
   },
   {
    "duration": 976,
    "start_time": "2023-05-14T20:58:01.876Z"
   },
   {
    "duration": 14877,
    "start_time": "2023-05-14T20:58:09.342Z"
   },
   {
    "duration": 2100,
    "start_time": "2023-05-15T03:33:49.295Z"
   },
   {
    "duration": 158,
    "start_time": "2023-05-15T03:33:51.397Z"
   },
   {
    "duration": 25,
    "start_time": "2023-05-15T03:33:51.558Z"
   },
   {
    "duration": 47,
    "start_time": "2023-05-15T03:33:51.589Z"
   },
   {
    "duration": 41,
    "start_time": "2023-05-15T03:33:51.638Z"
   },
   {
    "duration": 19,
    "start_time": "2023-05-15T03:33:51.683Z"
   },
   {
    "duration": 34,
    "start_time": "2023-05-15T03:33:51.705Z"
   },
   {
    "duration": 376,
    "start_time": "2023-05-15T03:33:51.742Z"
   },
   {
    "duration": 339,
    "start_time": "2023-05-15T03:33:52.120Z"
   },
   {
    "duration": 383,
    "start_time": "2023-05-15T03:33:52.462Z"
   },
   {
    "duration": 216,
    "start_time": "2023-05-15T03:33:52.847Z"
   },
   {
    "duration": 36,
    "start_time": "2023-05-15T03:33:53.065Z"
   },
   {
    "duration": 332,
    "start_time": "2023-05-15T03:33:53.103Z"
   },
   {
    "duration": 370,
    "start_time": "2023-05-15T03:33:53.438Z"
   },
   {
    "duration": 5,
    "start_time": "2023-05-15T03:33:53.810Z"
   },
   {
    "duration": 199,
    "start_time": "2023-05-15T03:33:53.817Z"
   },
   {
    "duration": 0,
    "start_time": "2023-05-15T03:33:54.019Z"
   },
   {
    "duration": 7,
    "start_time": "2023-05-15T03:34:03.011Z"
   },
   {
    "duration": 8562,
    "start_time": "2023-05-15T03:34:03.021Z"
   },
   {
    "duration": 68867,
    "start_time": "2023-05-15T03:34:11.594Z"
   },
   {
    "duration": 973743,
    "start_time": "2023-05-15T03:35:20.464Z"
   },
   {
    "duration": 0,
    "start_time": "2023-05-15T03:51:34.209Z"
   },
   {
    "duration": 0,
    "start_time": "2023-05-15T03:51:34.211Z"
   },
   {
    "duration": 0,
    "start_time": "2023-05-15T03:51:34.213Z"
   },
   {
    "duration": 247,
    "start_time": "2023-05-15T03:52:53.264Z"
   },
   {
    "duration": 185,
    "start_time": "2023-05-15T03:53:41.996Z"
   },
   {
    "duration": 133341,
    "start_time": "2023-05-15T03:53:45.160Z"
   },
   {
    "duration": 0,
    "start_time": "2023-05-15T03:55:58.575Z"
   },
   {
    "duration": 216,
    "start_time": "2023-05-15T03:56:15.935Z"
   },
   {
    "duration": 209,
    "start_time": "2023-05-15T03:56:25.072Z"
   },
   {
    "duration": 184,
    "start_time": "2023-05-15T03:56:41.811Z"
   },
   {
    "duration": 1754,
    "start_time": "2023-05-15T17:46:43.850Z"
   },
   {
    "duration": 125,
    "start_time": "2023-05-15T17:46:45.606Z"
   },
   {
    "duration": 122,
    "start_time": "2023-05-15T17:46:45.732Z"
   },
   {
    "duration": 0,
    "start_time": "2023-05-15T17:46:45.856Z"
   },
   {
    "duration": 0,
    "start_time": "2023-05-15T17:46:45.857Z"
   },
   {
    "duration": 0,
    "start_time": "2023-05-15T17:46:45.858Z"
   },
   {
    "duration": 0,
    "start_time": "2023-05-15T17:46:45.859Z"
   },
   {
    "duration": 0,
    "start_time": "2023-05-15T17:46:45.860Z"
   },
   {
    "duration": 0,
    "start_time": "2023-05-15T17:46:45.861Z"
   },
   {
    "duration": 0,
    "start_time": "2023-05-15T17:46:45.862Z"
   },
   {
    "duration": 0,
    "start_time": "2023-05-15T17:46:45.863Z"
   },
   {
    "duration": 0,
    "start_time": "2023-05-15T17:46:45.864Z"
   },
   {
    "duration": 0,
    "start_time": "2023-05-15T17:46:45.865Z"
   },
   {
    "duration": 0,
    "start_time": "2023-05-15T17:46:45.866Z"
   },
   {
    "duration": 0,
    "start_time": "2023-05-15T17:46:45.867Z"
   },
   {
    "duration": 0,
    "start_time": "2023-05-15T17:46:45.868Z"
   },
   {
    "duration": 0,
    "start_time": "2023-05-15T17:46:45.869Z"
   },
   {
    "duration": 0,
    "start_time": "2023-05-15T17:46:45.869Z"
   },
   {
    "duration": 0,
    "start_time": "2023-05-15T17:46:45.870Z"
   },
   {
    "duration": 0,
    "start_time": "2023-05-15T17:46:45.885Z"
   },
   {
    "duration": 0,
    "start_time": "2023-05-15T17:46:45.886Z"
   },
   {
    "duration": 0,
    "start_time": "2023-05-15T17:46:45.887Z"
   },
   {
    "duration": 0,
    "start_time": "2023-05-15T17:46:45.888Z"
   },
   {
    "duration": 0,
    "start_time": "2023-05-15T17:46:45.890Z"
   },
   {
    "duration": 4,
    "start_time": "2023-05-15T17:47:14.052Z"
   },
   {
    "duration": 57,
    "start_time": "2023-05-15T17:47:14.059Z"
   },
   {
    "duration": 3,
    "start_time": "2023-05-15T17:47:14.118Z"
   },
   {
    "duration": 277,
    "start_time": "2023-05-15T17:47:14.123Z"
   },
   {
    "duration": 358,
    "start_time": "2023-05-15T17:47:14.402Z"
   },
   {
    "duration": 945,
    "start_time": "2023-05-15T17:47:14.761Z"
   },
   {
    "duration": 168,
    "start_time": "2023-05-15T17:47:15.707Z"
   },
   {
    "duration": 198,
    "start_time": "2023-05-15T17:47:15.877Z"
   },
   {
    "duration": 11,
    "start_time": "2023-05-15T17:47:16.076Z"
   },
   {
    "duration": 35,
    "start_time": "2023-05-15T17:47:16.089Z"
   },
   {
    "duration": 27,
    "start_time": "2023-05-15T17:47:16.128Z"
   },
   {
    "duration": 7,
    "start_time": "2023-05-15T17:47:16.157Z"
   },
   {
    "duration": 12,
    "start_time": "2023-05-15T17:47:16.165Z"
   },
   {
    "duration": 18,
    "start_time": "2023-05-15T17:47:16.179Z"
   },
   {
    "duration": 2693,
    "start_time": "2023-05-15T17:47:16.198Z"
   },
   {
    "duration": 96,
    "start_time": "2023-05-15T17:47:18.893Z"
   },
   {
    "duration": 1100,
    "start_time": "2023-05-15T17:47:18.991Z"
   },
   {
    "duration": 11,
    "start_time": "2023-05-15T17:47:20.092Z"
   },
   {
    "duration": 127704,
    "start_time": "2023-05-15T17:47:20.105Z"
   },
   {
    "duration": 11,
    "start_time": "2023-05-15T17:49:27.810Z"
   },
   {
    "duration": 81559,
    "start_time": "2023-05-15T17:49:27.822Z"
   },
   {
    "duration": 11,
    "start_time": "2023-05-15T17:50:49.383Z"
   },
   {
    "duration": 12191,
    "start_time": "2023-05-15T17:50:49.395Z"
   },
   {
    "duration": 11,
    "start_time": "2023-05-15T17:51:01.587Z"
   },
   {
    "duration": 1579,
    "start_time": "2023-05-15T17:54:50.701Z"
   },
   {
    "duration": 50,
    "start_time": "2023-05-15T17:54:56.481Z"
   },
   {
    "duration": 50,
    "start_time": "2023-05-15T17:56:00.808Z"
   },
   {
    "duration": 5,
    "start_time": "2023-05-15T17:57:44.890Z"
   },
   {
    "duration": 15,
    "start_time": "2023-05-15T17:57:47.484Z"
   },
   {
    "duration": 293,
    "start_time": "2023-05-15T17:57:53.110Z"
   },
   {
    "duration": 236,
    "start_time": "2023-05-15T17:57:53.405Z"
   },
   {
    "duration": 268,
    "start_time": "2023-05-15T17:57:53.643Z"
   },
   {
    "duration": 191,
    "start_time": "2023-05-15T17:57:53.913Z"
   },
   {
    "duration": 7,
    "start_time": "2023-05-15T17:57:54.106Z"
   },
   {
    "duration": 260,
    "start_time": "2023-05-15T17:57:54.292Z"
   },
   {
    "duration": 282,
    "start_time": "2023-05-15T17:57:54.554Z"
   },
   {
    "duration": 4,
    "start_time": "2023-05-15T17:57:54.838Z"
   },
   {
    "duration": 157,
    "start_time": "2023-05-15T17:57:54.862Z"
   },
   {
    "duration": 9,
    "start_time": "2023-05-15T17:57:55.360Z"
   },
   {
    "duration": 9,
    "start_time": "2023-05-15T17:58:06.839Z"
   },
   {
    "duration": 1994,
    "start_time": "2023-05-15T17:58:08.492Z"
   },
   {
    "duration": 10,
    "start_time": "2023-05-15T17:58:10.677Z"
   },
   {
    "duration": 1474,
    "start_time": "2023-05-15T17:58:15.072Z"
   },
   {
    "duration": 107,
    "start_time": "2023-05-15T17:58:18.089Z"
   },
   {
    "duration": 1059,
    "start_time": "2023-05-15T17:58:20.147Z"
   },
   {
    "duration": 1532,
    "start_time": "2023-05-15T17:59:30.193Z"
   },
   {
    "duration": 53,
    "start_time": "2023-05-15T17:59:31.727Z"
   },
   {
    "duration": 30,
    "start_time": "2023-05-15T17:59:31.782Z"
   },
   {
    "duration": 9,
    "start_time": "2023-05-15T17:59:31.814Z"
   },
   {
    "duration": 20,
    "start_time": "2023-05-15T17:59:31.824Z"
   },
   {
    "duration": 23,
    "start_time": "2023-05-15T17:59:31.845Z"
   },
   {
    "duration": 270,
    "start_time": "2023-05-15T17:59:31.869Z"
   },
   {
    "duration": 219,
    "start_time": "2023-05-15T17:59:32.141Z"
   },
   {
    "duration": 236,
    "start_time": "2023-05-15T17:59:32.362Z"
   },
   {
    "duration": 163,
    "start_time": "2023-05-15T17:59:32.600Z"
   },
   {
    "duration": 6,
    "start_time": "2023-05-15T17:59:32.765Z"
   },
   {
    "duration": 278,
    "start_time": "2023-05-15T17:59:32.772Z"
   },
   {
    "duration": 282,
    "start_time": "2023-05-15T17:59:33.052Z"
   },
   {
    "duration": 5,
    "start_time": "2023-05-15T17:59:33.335Z"
   },
   {
    "duration": 1536,
    "start_time": "2023-05-15T18:00:16.358Z"
   },
   {
    "duration": 51,
    "start_time": "2023-05-15T18:00:17.896Z"
   },
   {
    "duration": 29,
    "start_time": "2023-05-15T18:00:17.948Z"
   },
   {
    "duration": 9,
    "start_time": "2023-05-15T18:00:17.979Z"
   },
   {
    "duration": 4,
    "start_time": "2023-05-15T18:00:17.989Z"
   },
   {
    "duration": 22,
    "start_time": "2023-05-15T18:00:17.995Z"
   },
   {
    "duration": 313,
    "start_time": "2023-05-15T18:00:18.018Z"
   },
   {
    "duration": 224,
    "start_time": "2023-05-15T18:00:18.333Z"
   },
   {
    "duration": 250,
    "start_time": "2023-05-15T18:00:18.558Z"
   },
   {
    "duration": 163,
    "start_time": "2023-05-15T18:00:18.810Z"
   },
   {
    "duration": 15,
    "start_time": "2023-05-15T18:00:18.974Z"
   },
   {
    "duration": 259,
    "start_time": "2023-05-15T18:00:18.991Z"
   },
   {
    "duration": 306,
    "start_time": "2023-05-15T18:00:19.251Z"
   },
   {
    "duration": 4,
    "start_time": "2023-05-15T18:00:19.558Z"
   },
   {
    "duration": 137,
    "start_time": "2023-05-15T18:00:19.564Z"
   },
   {
    "duration": 8,
    "start_time": "2023-05-15T18:00:23.899Z"
   },
   {
    "duration": 110,
    "start_time": "2023-05-15T18:00:45.421Z"
   },
   {
    "duration": 10,
    "start_time": "2023-05-15T18:00:53.966Z"
   },
   {
    "duration": 5,
    "start_time": "2023-05-15T18:01:00.209Z"
   },
   {
    "duration": 4,
    "start_time": "2023-05-15T18:01:31.345Z"
   },
   {
    "duration": 7135,
    "start_time": "2023-05-15T18:01:34.949Z"
   },
   {
    "duration": 55160,
    "start_time": "2023-05-15T18:01:47.187Z"
   },
   {
    "duration": 400637,
    "start_time": "2023-05-15T18:02:50.072Z"
   },
   {
    "duration": 415,
    "start_time": "2023-05-15T18:12:11.470Z"
   },
   {
    "duration": 291,
    "start_time": "2023-05-15T18:12:53.541Z"
   },
   {
    "duration": 44202,
    "start_time": "2023-05-15T18:13:37.985Z"
   },
   {
    "duration": 90090,
    "start_time": "2023-05-15T18:14:25.215Z"
   },
   {
    "duration": 6811,
    "start_time": "2023-05-15T18:16:06.885Z"
   },
   {
    "duration": 11003,
    "start_time": "2023-05-15T18:16:27.090Z"
   },
   {
    "duration": 15010,
    "start_time": "2023-05-15T18:16:56.393Z"
   },
   {
    "duration": 1589,
    "start_time": "2023-05-15T18:18:03.649Z"
   },
   {
    "duration": 51,
    "start_time": "2023-05-15T18:18:05.239Z"
   },
   {
    "duration": 31,
    "start_time": "2023-05-15T18:18:05.292Z"
   },
   {
    "duration": 17,
    "start_time": "2023-05-15T18:18:05.325Z"
   },
   {
    "duration": 13,
    "start_time": "2023-05-15T18:18:05.344Z"
   },
   {
    "duration": 12,
    "start_time": "2023-05-15T18:18:05.453Z"
   },
   {
    "duration": 271,
    "start_time": "2023-05-15T18:18:08.796Z"
   },
   {
    "duration": 224,
    "start_time": "2023-05-15T18:18:09.069Z"
   },
   {
    "duration": 269,
    "start_time": "2023-05-15T18:18:09.295Z"
   },
   {
    "duration": 149,
    "start_time": "2023-05-15T18:18:09.638Z"
   },
   {
    "duration": 7,
    "start_time": "2023-05-15T18:18:10.649Z"
   },
   {
    "duration": 234,
    "start_time": "2023-05-15T18:18:10.868Z"
   },
   {
    "duration": 277,
    "start_time": "2023-05-15T18:18:12.388Z"
   },
   {
    "duration": 3,
    "start_time": "2023-05-15T18:18:15.126Z"
   },
   {
    "duration": 105,
    "start_time": "2023-05-15T18:18:17.641Z"
   },
   {
    "duration": 5,
    "start_time": "2023-05-15T18:18:20.840Z"
   },
   {
    "duration": 4,
    "start_time": "2023-05-15T18:18:31.948Z"
   },
   {
    "duration": 6164,
    "start_time": "2023-05-15T18:18:34.923Z"
   },
   {
    "duration": 54219,
    "start_time": "2023-05-15T18:18:45.022Z"
   },
   {
    "duration": 25443,
    "start_time": "2023-05-15T18:19:39.242Z"
   },
   {
    "duration": 11581,
    "start_time": "2023-05-15T18:20:05.407Z"
   },
   {
    "duration": 19007,
    "start_time": "2023-05-15T18:20:56.194Z"
   },
   {
    "duration": 16661,
    "start_time": "2023-05-15T18:21:21.363Z"
   },
   {
    "duration": 21509,
    "start_time": "2023-05-15T18:22:07.312Z"
   },
   {
    "duration": 13667,
    "start_time": "2023-05-15T18:22:54.853Z"
   },
   {
    "duration": 1508,
    "start_time": "2023-05-15T18:24:35.020Z"
   },
   {
    "duration": 51,
    "start_time": "2023-05-15T18:24:36.530Z"
   },
   {
    "duration": 28,
    "start_time": "2023-05-15T18:24:36.583Z"
   },
   {
    "duration": 9,
    "start_time": "2023-05-15T18:24:36.614Z"
   },
   {
    "duration": 5,
    "start_time": "2023-05-15T18:24:36.624Z"
   },
   {
    "duration": 12,
    "start_time": "2023-05-15T18:24:36.630Z"
   },
   {
    "duration": 331,
    "start_time": "2023-05-15T18:24:37.004Z"
   },
   {
    "duration": 224,
    "start_time": "2023-05-15T18:24:37.338Z"
   },
   {
    "duration": 252,
    "start_time": "2023-05-15T18:24:37.564Z"
   },
   {
    "duration": 167,
    "start_time": "2023-05-15T18:24:37.818Z"
   },
   {
    "duration": 7,
    "start_time": "2023-05-15T18:24:37.986Z"
   },
   {
    "duration": 276,
    "start_time": "2023-05-15T18:24:38.002Z"
   },
   {
    "duration": 316,
    "start_time": "2023-05-15T18:24:38.280Z"
   },
   {
    "duration": 5,
    "start_time": "2023-05-15T18:24:38.598Z"
   },
   {
    "duration": 106,
    "start_time": "2023-05-15T18:24:38.627Z"
   },
   {
    "duration": 4,
    "start_time": "2023-05-15T18:24:38.832Z"
   },
   {
    "duration": 4,
    "start_time": "2023-05-15T18:24:46.325Z"
   },
   {
    "duration": 11677,
    "start_time": "2023-05-15T18:24:48.919Z"
   },
   {
    "duration": 21926,
    "start_time": "2023-05-15T18:25:00.598Z"
   },
   {
    "duration": 12747,
    "start_time": "2023-05-15T18:25:31.842Z"
   },
   {
    "duration": 310,
    "start_time": "2023-05-15T18:26:13.302Z"
   },
   {
    "duration": 51,
    "start_time": "2023-05-15T18:28:20.939Z"
   },
   {
    "duration": 24,
    "start_time": "2023-05-15T18:28:57.913Z"
   },
   {
    "duration": 10696,
    "start_time": "2023-05-15T18:29:57.219Z"
   },
   {
    "duration": 82,
    "start_time": "2023-05-15T18:30:20.317Z"
   },
   {
    "duration": 60,
    "start_time": "2023-05-15T18:30:23.670Z"
   },
   {
    "duration": 114,
    "start_time": "2023-05-15T18:30:33.183Z"
   },
   {
    "duration": 300890,
    "start_time": "2023-05-15T18:32:57.314Z"
   },
   {
    "duration": 9138,
    "start_time": "2023-05-15T18:47:53.753Z"
   },
   {
    "duration": 20083,
    "start_time": "2023-05-15T18:48:18.802Z"
   },
   {
    "duration": 24013,
    "start_time": "2023-05-15T18:48:54.985Z"
   },
   {
    "duration": 14841,
    "start_time": "2023-05-15T18:49:32.057Z"
   },
   {
    "duration": 11502,
    "start_time": "2023-05-15T18:50:06.889Z"
   },
   {
    "duration": 44422,
    "start_time": "2023-05-15T18:50:31.369Z"
   },
   {
    "duration": 0,
    "start_time": "2023-05-15T18:55:46.211Z"
   },
   {
    "duration": 64658,
    "start_time": "2023-05-15T18:55:47.441Z"
   },
   {
    "duration": 319,
    "start_time": "2023-05-15T18:57:07.468Z"
   },
   {
    "duration": 162,
    "start_time": "2023-05-15T18:57:24.529Z"
   },
   {
    "duration": 63,
    "start_time": "2023-05-15T18:57:29.324Z"
   },
   {
    "duration": 39,
    "start_time": "2023-05-15T18:57:39.166Z"
   },
   {
    "duration": 232,
    "start_time": "2023-05-15T18:57:44.292Z"
   },
   {
    "duration": 237,
    "start_time": "2023-05-15T18:57:49.853Z"
   },
   {
    "duration": 247,
    "start_time": "2023-05-15T18:57:56.254Z"
   },
   {
    "duration": 213,
    "start_time": "2023-05-15T18:58:01.416Z"
   },
   {
    "duration": 190,
    "start_time": "2023-05-15T18:58:07.919Z"
   },
   {
    "duration": 250,
    "start_time": "2023-05-15T18:58:12.936Z"
   },
   {
    "duration": 281,
    "start_time": "2023-05-15T18:58:19.036Z"
   },
   {
    "duration": 290,
    "start_time": "2023-05-15T18:58:34.909Z"
   },
   {
    "duration": 440,
    "start_time": "2023-05-15T18:58:40.751Z"
   },
   {
    "duration": 133,
    "start_time": "2023-05-15T18:58:46.481Z"
   },
   {
    "duration": 61,
    "start_time": "2023-05-15T18:58:50.641Z"
   },
   {
    "duration": 46,
    "start_time": "2023-05-15T18:58:55.755Z"
   },
   {
    "duration": 40,
    "start_time": "2023-05-15T18:59:01.612Z"
   },
   {
    "duration": 124,
    "start_time": "2023-05-15T18:59:07.385Z"
   },
   {
    "duration": 144,
    "start_time": "2023-05-15T18:59:13.460Z"
   },
   {
    "duration": 170,
    "start_time": "2023-05-15T18:59:19.228Z"
   },
   {
    "duration": 210,
    "start_time": "2023-05-15T18:59:24.814Z"
   },
   {
    "duration": 369,
    "start_time": "2023-05-15T18:59:29.317Z"
   },
   {
    "duration": 315,
    "start_time": "2023-05-15T18:59:36.699Z"
   },
   {
    "duration": 333,
    "start_time": "2023-05-15T18:59:42.753Z"
   },
   {
    "duration": 374,
    "start_time": "2023-05-15T18:59:49.920Z"
   },
   {
    "duration": 344,
    "start_time": "2023-05-15T18:59:55.757Z"
   },
   {
    "duration": 1504,
    "start_time": "2023-05-15T19:00:27.270Z"
   },
   {
    "duration": 54,
    "start_time": "2023-05-15T19:00:28.776Z"
   },
   {
    "duration": 44,
    "start_time": "2023-05-15T19:00:28.832Z"
   },
   {
    "duration": 13,
    "start_time": "2023-05-15T19:00:28.878Z"
   },
   {
    "duration": 7,
    "start_time": "2023-05-15T19:00:28.893Z"
   },
   {
    "duration": 18,
    "start_time": "2023-05-15T19:00:28.902Z"
   },
   {
    "duration": 419,
    "start_time": "2023-05-15T19:00:29.302Z"
   },
   {
    "duration": 237,
    "start_time": "2023-05-15T19:00:29.724Z"
   },
   {
    "duration": 306,
    "start_time": "2023-05-15T19:00:29.963Z"
   },
   {
    "duration": 249,
    "start_time": "2023-05-15T19:00:30.272Z"
   },
   {
    "duration": 8,
    "start_time": "2023-05-15T19:00:30.524Z"
   },
   {
    "duration": 328,
    "start_time": "2023-05-15T19:00:30.534Z"
   },
   {
    "duration": 379,
    "start_time": "2023-05-15T19:00:30.864Z"
   },
   {
    "duration": 141,
    "start_time": "2023-05-15T19:00:31.288Z"
   },
   {
    "duration": 7,
    "start_time": "2023-05-15T19:00:31.856Z"
   },
   {
    "duration": 5,
    "start_time": "2023-05-15T19:00:40.937Z"
   },
   {
    "duration": 195,
    "start_time": "2023-05-15T19:00:47.324Z"
   },
   {
    "duration": 14431,
    "start_time": "2023-05-15T19:00:54.276Z"
   },
   {
    "duration": 16791,
    "start_time": "2023-05-15T19:01:14.921Z"
   },
   {
    "duration": 47969,
    "start_time": "2023-05-15T19:01:37.048Z"
   },
   {
    "duration": 265,
    "start_time": "2023-05-15T19:03:04.531Z"
   },
   {
    "duration": 340,
    "start_time": "2023-05-15T19:03:12.178Z"
   },
   {
    "duration": 1734,
    "start_time": "2023-05-15T19:03:38.259Z"
   },
   {
    "duration": 55,
    "start_time": "2023-05-15T19:03:39.996Z"
   },
   {
    "duration": 31,
    "start_time": "2023-05-15T19:03:40.053Z"
   },
   {
    "duration": 18,
    "start_time": "2023-05-15T19:03:40.086Z"
   },
   {
    "duration": 24,
    "start_time": "2023-05-15T19:03:40.106Z"
   },
   {
    "duration": 23,
    "start_time": "2023-05-15T19:03:40.132Z"
   },
   {
    "duration": 417,
    "start_time": "2023-05-15T19:03:40.158Z"
   },
   {
    "duration": 244,
    "start_time": "2023-05-15T19:03:40.577Z"
   },
   {
    "duration": 271,
    "start_time": "2023-05-15T19:03:40.823Z"
   },
   {
    "duration": 204,
    "start_time": "2023-05-15T19:03:41.096Z"
   },
   {
    "duration": 8,
    "start_time": "2023-05-15T19:03:41.301Z"
   },
   {
    "duration": 588,
    "start_time": "2023-05-15T19:03:41.311Z"
   },
   {
    "duration": 707,
    "start_time": "2023-05-15T19:03:41.901Z"
   },
   {
    "duration": 312,
    "start_time": "2023-05-15T19:03:42.610Z"
   },
   {
    "duration": 63,
    "start_time": "2023-05-15T19:03:42.924Z"
   },
   {
    "duration": 175,
    "start_time": "2023-05-15T19:06:17.001Z"
   },
   {
    "duration": 17,
    "start_time": "2023-05-15T19:06:46.205Z"
   },
   {
    "duration": 5,
    "start_time": "2023-05-15T19:09:01.985Z"
   },
   {
    "duration": 14869,
    "start_time": "2023-05-15T19:09:05.622Z"
   },
   {
    "duration": 44,
    "start_time": "2023-05-15T19:13:05.744Z"
   },
   {
    "duration": 60,
    "start_time": "2023-05-15T19:13:35.054Z"
   },
   {
    "duration": 579,
    "start_time": "2023-05-15T19:14:01.846Z"
   },
   {
    "duration": 33103,
    "start_time": "2023-05-15T19:17:07.385Z"
   },
   {
    "duration": 44015,
    "start_time": "2023-05-15T19:19:36.694Z"
   },
   {
    "duration": 11,
    "start_time": "2023-05-15T19:23:55.024Z"
   },
   {
    "duration": 14,
    "start_time": "2023-05-15T19:38:35.019Z"
   },
   {
    "duration": 52876,
    "start_time": "2023-05-15T19:38:46.036Z"
   },
   {
    "duration": 439,
    "start_time": "2023-05-15T19:44:52.464Z"
   },
   {
    "duration": 53602,
    "start_time": "2023-05-15T19:44:56.823Z"
   },
   {
    "duration": 433,
    "start_time": "2023-05-15T19:47:19.682Z"
   },
   {
    "duration": 496,
    "start_time": "2023-05-15T19:47:34.189Z"
   },
   {
    "duration": 10,
    "start_time": "2023-05-15T19:48:52.692Z"
   },
   {
    "duration": 5,
    "start_time": "2023-05-15T19:50:21.280Z"
   },
   {
    "duration": 85721,
    "start_time": "2023-05-15T19:51:22.703Z"
   },
   {
    "duration": 17,
    "start_time": "2023-05-15T19:53:53.694Z"
   },
   {
    "duration": 13,
    "start_time": "2023-05-15T19:54:41.692Z"
   },
   {
    "duration": 8,
    "start_time": "2023-05-15T19:56:02.588Z"
   },
   {
    "duration": 511,
    "start_time": "2023-05-15T19:56:48.189Z"
   },
   {
    "duration": 14,
    "start_time": "2023-05-15T19:57:11.262Z"
   },
   {
    "duration": 82544,
    "start_time": "2023-05-15T19:58:01.753Z"
   },
   {
    "duration": 386,
    "start_time": "2023-05-15T19:59:24.299Z"
   },
   {
    "duration": 281,
    "start_time": "2023-05-15T19:59:49.832Z"
   },
   {
    "duration": 1852,
    "start_time": "2023-05-15T20:00:28.690Z"
   },
   {
    "duration": 54,
    "start_time": "2023-05-15T20:00:31.159Z"
   },
   {
    "duration": 32,
    "start_time": "2023-05-15T20:00:31.357Z"
   },
   {
    "duration": 12,
    "start_time": "2023-05-15T20:00:31.576Z"
   },
   {
    "duration": 5,
    "start_time": "2023-05-15T20:00:32.426Z"
   },
   {
    "duration": 16,
    "start_time": "2023-05-15T20:00:32.642Z"
   },
   {
    "duration": 338,
    "start_time": "2023-05-15T20:00:33.301Z"
   },
   {
    "duration": 233,
    "start_time": "2023-05-15T20:00:33.641Z"
   },
   {
    "duration": 288,
    "start_time": "2023-05-15T20:00:33.885Z"
   },
   {
    "duration": 191,
    "start_time": "2023-05-15T20:00:34.175Z"
   },
   {
    "duration": 21,
    "start_time": "2023-05-15T20:00:34.368Z"
   },
   {
    "duration": 298,
    "start_time": "2023-05-15T20:00:34.391Z"
   },
   {
    "duration": 324,
    "start_time": "2023-05-15T20:00:34.691Z"
   },
   {
    "duration": 175,
    "start_time": "2023-05-15T20:00:35.017Z"
   },
   {
    "duration": 4,
    "start_time": "2023-05-15T20:00:35.194Z"
   },
   {
    "duration": 8,
    "start_time": "2023-05-15T20:00:36.355Z"
   },
   {
    "duration": 1439,
    "start_time": "2023-05-15T20:00:36.954Z"
   },
   {
    "duration": 13,
    "start_time": "2023-05-15T20:00:38.395Z"
   },
   {
    "duration": 1517,
    "start_time": "2023-05-15T20:00:38.410Z"
   },
   {
    "duration": 13,
    "start_time": "2023-05-15T20:00:39.929Z"
   },
   {
    "duration": 1364,
    "start_time": "2023-05-15T20:00:39.943Z"
   },
   {
    "duration": 1430,
    "start_time": "2023-05-15T20:00:50.572Z"
   },
   {
    "duration": 50,
    "start_time": "2023-05-15T20:00:52.005Z"
   },
   {
    "duration": 29,
    "start_time": "2023-05-15T20:00:52.058Z"
   },
   {
    "duration": 11,
    "start_time": "2023-05-15T20:00:52.089Z"
   },
   {
    "duration": 4,
    "start_time": "2023-05-15T20:00:52.377Z"
   },
   {
    "duration": 13,
    "start_time": "2023-05-15T20:00:52.636Z"
   },
   {
    "duration": 310,
    "start_time": "2023-05-15T20:00:53.730Z"
   },
   {
    "duration": 239,
    "start_time": "2023-05-15T20:00:54.042Z"
   },
   {
    "duration": 333,
    "start_time": "2023-05-15T20:00:54.283Z"
   },
   {
    "duration": 230,
    "start_time": "2023-05-15T20:00:54.618Z"
   },
   {
    "duration": 11,
    "start_time": "2023-05-15T20:00:54.851Z"
   },
   {
    "duration": 389,
    "start_time": "2023-05-15T20:00:55.284Z"
   },
   {
    "duration": 401,
    "start_time": "2023-05-15T20:00:55.875Z"
   },
   {
    "duration": 111,
    "start_time": "2023-05-15T20:00:56.568Z"
   },
   {
    "duration": 4,
    "start_time": "2023-05-15T20:00:57.349Z"
   },
   {
    "duration": 4,
    "start_time": "2023-05-15T20:01:03.886Z"
   },
   {
    "duration": 180,
    "start_time": "2023-05-15T20:01:16.705Z"
   },
   {
    "duration": 13,
    "start_time": "2023-05-15T20:01:32.795Z"
   },
   {
    "duration": 13,
    "start_time": "2023-05-15T20:02:19.119Z"
   },
   {
    "duration": 17,
    "start_time": "2023-05-15T20:02:50.728Z"
   },
   {
    "duration": 15,
    "start_time": "2023-05-15T20:04:45.353Z"
   },
   {
    "duration": 17,
    "start_time": "2023-05-15T20:07:33.130Z"
   },
   {
    "duration": 1405,
    "start_time": "2023-05-15T20:15:44.381Z"
   },
   {
    "duration": 64,
    "start_time": "2023-05-15T20:15:45.788Z"
   },
   {
    "duration": 67,
    "start_time": "2023-05-15T20:15:47.065Z"
   },
   {
    "duration": 11,
    "start_time": "2023-05-15T20:15:47.810Z"
   },
   {
    "duration": 4,
    "start_time": "2023-05-15T20:15:50.357Z"
   },
   {
    "duration": 13,
    "start_time": "2023-05-15T20:15:51.223Z"
   },
   {
    "duration": 362,
    "start_time": "2023-05-15T20:15:53.318Z"
   },
   {
    "duration": 354,
    "start_time": "2023-05-15T20:15:54.100Z"
   },
   {
    "duration": 292,
    "start_time": "2023-05-15T20:15:55.071Z"
   },
   {
    "duration": 232,
    "start_time": "2023-05-15T20:15:56.192Z"
   },
   {
    "duration": 9,
    "start_time": "2023-05-15T20:15:57.200Z"
   },
   {
    "duration": 246,
    "start_time": "2023-05-15T20:15:58.113Z"
   },
   {
    "duration": 266,
    "start_time": "2023-05-15T20:15:59.064Z"
   },
   {
    "duration": 151,
    "start_time": "2023-05-15T20:16:00.320Z"
   },
   {
    "duration": 5,
    "start_time": "2023-05-15T20:16:01.502Z"
   },
   {
    "duration": 4,
    "start_time": "2023-05-15T20:16:11.755Z"
   },
   {
    "duration": 5,
    "start_time": "2023-05-15T20:17:11.071Z"
   },
   {
    "duration": 1587,
    "start_time": "2023-05-15T20:17:15.909Z"
   },
   {
    "duration": 49,
    "start_time": "2023-05-15T20:17:36.453Z"
   },
   {
    "duration": 462,
    "start_time": "2023-05-15T20:17:53.678Z"
   },
   {
    "duration": 941666,
    "start_time": "2023-05-15T20:19:29.587Z"
   },
   {
    "duration": 40080,
    "start_time": "2023-05-15T20:35:34.255Z"
   },
   {
    "duration": 4,
    "start_time": "2023-05-15T20:36:29.185Z"
   },
   {
    "duration": 296,
    "start_time": "2023-05-15T20:39:04.705Z"
   },
   {
    "duration": 285,
    "start_time": "2023-05-15T20:41:49.806Z"
   },
   {
    "duration": 552,
    "start_time": "2023-05-15T20:44:21.337Z"
   },
   {
    "duration": 1480,
    "start_time": "2023-05-15T20:48:50.365Z"
   },
   {
    "duration": 53,
    "start_time": "2023-05-15T20:48:51.847Z"
   },
   {
    "duration": 32,
    "start_time": "2023-05-15T20:48:51.902Z"
   },
   {
    "duration": 10,
    "start_time": "2023-05-15T20:48:51.936Z"
   },
   {
    "duration": 4,
    "start_time": "2023-05-15T20:48:51.978Z"
   },
   {
    "duration": 16,
    "start_time": "2023-05-15T20:48:52.254Z"
   },
   {
    "duration": 285,
    "start_time": "2023-05-15T20:48:53.250Z"
   },
   {
    "duration": 255,
    "start_time": "2023-05-15T20:48:54.417Z"
   },
   {
    "duration": 0,
    "start_time": "2023-05-15T20:48:54.674Z"
   },
   {
    "duration": 352,
    "start_time": "2023-05-15T20:49:36.824Z"
   },
   {
    "duration": 250,
    "start_time": "2023-05-15T20:49:44.955Z"
   },
   {
    "duration": 198,
    "start_time": "2023-05-15T20:49:45.545Z"
   },
   {
    "duration": 221,
    "start_time": "2023-05-15T20:49:46.204Z"
   },
   {
    "duration": 15,
    "start_time": "2023-05-15T20:49:47.413Z"
   },
   {
    "duration": 13,
    "start_time": "2023-05-15T20:49:52.552Z"
   },
   {
    "duration": 10,
    "start_time": "2023-05-15T20:50:15.968Z"
   },
   {
    "duration": 10,
    "start_time": "2023-05-15T20:51:25.729Z"
   },
   {
    "duration": 7,
    "start_time": "2023-05-15T20:51:34.695Z"
   },
   {
    "duration": 256,
    "start_time": "2023-05-15T20:51:34.959Z"
   },
   {
    "duration": 392,
    "start_time": "2023-05-15T20:51:36.219Z"
   },
   {
    "duration": 168,
    "start_time": "2023-05-15T20:51:37.745Z"
   },
   {
    "duration": 4,
    "start_time": "2023-05-15T20:51:41.002Z"
   },
   {
    "duration": 4,
    "start_time": "2023-05-15T20:52:34.649Z"
   },
   {
    "duration": 20,
    "start_time": "2023-05-15T20:52:42.720Z"
   },
   {
    "duration": 2090,
    "start_time": "2023-05-15T20:52:53.308Z"
   },
   {
    "duration": 452,
    "start_time": "2023-05-15T20:53:09.178Z"
   },
   {
    "duration": 29749,
    "start_time": "2023-05-15T20:53:24.681Z"
   },
   {
    "duration": 152,
    "start_time": "2023-05-15T20:54:35.746Z"
   },
   {
    "duration": 69,
    "start_time": "2023-05-15T20:58:14.143Z"
   },
   {
    "duration": 6,
    "start_time": "2023-05-15T20:58:36.223Z"
   },
   {
    "duration": 2452,
    "start_time": "2023-05-15T20:58:46.539Z"
   },
   {
    "duration": 215,
    "start_time": "2023-05-15T20:59:06.273Z"
   },
   {
    "duration": 158,
    "start_time": "2023-05-15T21:01:06.971Z"
   },
   {
    "duration": 230,
    "start_time": "2023-05-15T21:01:45.878Z"
   },
   {
    "duration": 164,
    "start_time": "2023-05-15T21:02:26.221Z"
   },
   {
    "duration": 4,
    "start_time": "2023-05-15T21:11:34.616Z"
   },
   {
    "duration": 3,
    "start_time": "2023-05-15T21:11:36.251Z"
   },
   {
    "duration": 4,
    "start_time": "2023-05-15T21:11:36.967Z"
   },
   {
    "duration": 4,
    "start_time": "2023-05-15T21:11:37.576Z"
   },
   {
    "duration": 4,
    "start_time": "2023-05-15T21:11:38.165Z"
   },
   {
    "duration": 10,
    "start_time": "2023-05-15T21:12:29.377Z"
   },
   {
    "duration": 46,
    "start_time": "2023-05-15T21:12:34.487Z"
   },
   {
    "duration": 5,
    "start_time": "2023-05-15T21:12:51.858Z"
   },
   {
    "duration": 6,
    "start_time": "2023-05-15T21:12:52.608Z"
   },
   {
    "duration": 5,
    "start_time": "2023-05-15T21:13:20.617Z"
   },
   {
    "duration": 6,
    "start_time": "2023-05-15T21:13:29.375Z"
   },
   {
    "duration": 5,
    "start_time": "2023-05-15T21:14:27.112Z"
   },
   {
    "duration": 9,
    "start_time": "2023-05-15T21:14:30.173Z"
   },
   {
    "duration": 1432,
    "start_time": "2023-05-15T21:15:04.576Z"
   },
   {
    "duration": 65,
    "start_time": "2023-05-15T21:15:06.012Z"
   },
   {
    "duration": 36,
    "start_time": "2023-05-15T21:15:06.078Z"
   },
   {
    "duration": 13,
    "start_time": "2023-05-15T21:15:06.117Z"
   },
   {
    "duration": 16,
    "start_time": "2023-05-15T21:15:06.132Z"
   },
   {
    "duration": 19,
    "start_time": "2023-05-15T21:15:06.150Z"
   },
   {
    "duration": 284,
    "start_time": "2023-05-15T21:15:06.539Z"
   },
   {
    "duration": 335,
    "start_time": "2023-05-15T21:15:07.327Z"
   },
   {
    "duration": 259,
    "start_time": "2023-05-15T21:15:07.663Z"
   },
   {
    "duration": 181,
    "start_time": "2023-05-15T21:15:08.150Z"
   },
   {
    "duration": 167,
    "start_time": "2023-05-15T21:15:09.029Z"
   },
   {
    "duration": 8,
    "start_time": "2023-05-15T21:15:09.845Z"
   },
   {
    "duration": 242,
    "start_time": "2023-05-15T21:15:10.923Z"
   },
   {
    "duration": 270,
    "start_time": "2023-05-15T21:15:11.957Z"
   },
   {
    "duration": 120,
    "start_time": "2023-05-15T21:15:12.229Z"
   },
   {
    "duration": 4,
    "start_time": "2023-05-15T21:15:13.089Z"
   },
   {
    "duration": 4,
    "start_time": "2023-05-15T21:15:20.673Z"
   },
   {
    "duration": 1557,
    "start_time": "2023-05-15T21:15:24.632Z"
   },
   {
    "duration": 461,
    "start_time": "2023-05-15T21:15:30.837Z"
   },
   {
    "duration": 2560,
    "start_time": "2023-05-15T21:15:35.973Z"
   },
   {
    "duration": 123,
    "start_time": "2023-05-15T21:15:45.007Z"
   },
   {
    "duration": 4,
    "start_time": "2023-05-15T21:24:29.802Z"
   },
   {
    "duration": 21,
    "start_time": "2023-05-15T21:24:31.012Z"
   },
   {
    "duration": 1625,
    "start_time": "2023-05-15T21:24:34.264Z"
   },
   {
    "duration": 493,
    "start_time": "2023-05-15T21:24:41.457Z"
   },
   {
    "duration": 2664,
    "start_time": "2023-05-15T21:24:49.752Z"
   },
   {
    "duration": 90,
    "start_time": "2023-05-15T21:25:03.638Z"
   },
   {
    "duration": 112,
    "start_time": "2023-05-15T21:25:19.002Z"
   },
   {
    "duration": 105,
    "start_time": "2023-05-15T21:25:23.901Z"
   },
   {
    "duration": 139,
    "start_time": "2023-05-15T21:25:29.755Z"
   },
   {
    "duration": 198,
    "start_time": "2023-05-15T21:25:34.791Z"
   },
   {
    "duration": 152,
    "start_time": "2023-05-15T21:25:41.037Z"
   },
   {
    "duration": 197,
    "start_time": "2023-05-15T21:25:47.706Z"
   },
   {
    "duration": 181,
    "start_time": "2023-05-15T21:25:53.008Z"
   },
   {
    "duration": 164,
    "start_time": "2023-05-15T21:25:58.027Z"
   },
   {
    "duration": 152,
    "start_time": "2023-05-15T21:26:02.955Z"
   },
   {
    "duration": 177,
    "start_time": "2023-05-15T21:26:07.736Z"
   },
   {
    "duration": 204,
    "start_time": "2023-05-15T21:26:13.395Z"
   },
   {
    "duration": 129,
    "start_time": "2023-05-15T21:26:18.102Z"
   },
   {
    "duration": 194,
    "start_time": "2023-05-15T21:26:22.691Z"
   },
   {
    "duration": 184,
    "start_time": "2023-05-15T21:26:37.237Z"
   },
   {
    "duration": 155,
    "start_time": "2023-05-15T21:26:43.666Z"
   },
   {
    "duration": 62675,
    "start_time": "2023-05-15T21:27:04.024Z"
   },
   {
    "duration": 331,
    "start_time": "2023-05-15T21:28:32.899Z"
   },
   {
    "duration": 49813,
    "start_time": "2023-05-15T21:29:01.387Z"
   },
   {
    "duration": 375,
    "start_time": "2023-05-15T21:30:02.551Z"
   },
   {
    "duration": 321,
    "start_time": "2023-05-15T21:31:14.414Z"
   },
   {
    "duration": 242,
    "start_time": "2023-05-15T21:31:23.333Z"
   },
   {
    "duration": 5,
    "start_time": "2023-05-15T21:31:49.834Z"
   },
   {
    "duration": 8517,
    "start_time": "2023-05-15T21:32:09.588Z"
   },
   {
    "duration": 6,
    "start_time": "2023-05-15T21:32:31.762Z"
   },
   {
    "duration": 20,
    "start_time": "2023-05-15T21:32:32.862Z"
   },
   {
    "duration": 8644,
    "start_time": "2023-05-15T21:32:42.053Z"
   },
   {
    "duration": 461,
    "start_time": "2023-05-15T21:32:55.373Z"
   },
   {
    "duration": 1397,
    "start_time": "2023-05-15T21:33:20.427Z"
   },
   {
    "duration": 53,
    "start_time": "2023-05-15T21:33:21.826Z"
   },
   {
    "duration": 40,
    "start_time": "2023-05-15T21:33:21.881Z"
   },
   {
    "duration": 10,
    "start_time": "2023-05-15T21:33:21.923Z"
   },
   {
    "duration": 19,
    "start_time": "2023-05-15T21:33:21.934Z"
   },
   {
    "duration": 21,
    "start_time": "2023-05-15T21:33:21.955Z"
   },
   {
    "duration": 287,
    "start_time": "2023-05-15T21:33:21.977Z"
   },
   {
    "duration": 351,
    "start_time": "2023-05-15T21:33:22.266Z"
   },
   {
    "duration": 291,
    "start_time": "2023-05-15T21:33:22.618Z"
   },
   {
    "duration": 218,
    "start_time": "2023-05-15T21:33:22.912Z"
   },
   {
    "duration": 185,
    "start_time": "2023-05-15T21:33:23.132Z"
   },
   {
    "duration": 10,
    "start_time": "2023-05-15T21:33:23.319Z"
   },
   {
    "duration": 269,
    "start_time": "2023-05-15T21:33:23.330Z"
   },
   {
    "duration": 280,
    "start_time": "2023-05-15T21:33:23.601Z"
   },
   {
    "duration": 113,
    "start_time": "2023-05-15T21:33:23.884Z"
   },
   {
    "duration": 4,
    "start_time": "2023-05-15T21:33:23.998Z"
   },
   {
    "duration": 5,
    "start_time": "2023-05-15T21:33:24.004Z"
   },
   {
    "duration": 6,
    "start_time": "2023-05-15T21:33:24.011Z"
   },
   {
    "duration": 5,
    "start_time": "2023-05-15T21:33:24.018Z"
   },
   {
    "duration": 5,
    "start_time": "2023-05-15T21:33:24.025Z"
   },
   {
    "duration": 4,
    "start_time": "2023-05-15T21:33:24.031Z"
   },
   {
    "duration": 9,
    "start_time": "2023-05-15T21:33:24.037Z"
   },
   {
    "duration": 41,
    "start_time": "2023-05-15T21:33:24.047Z"
   },
   {
    "duration": 20,
    "start_time": "2023-05-15T21:33:24.090Z"
   },
   {
    "duration": 1576,
    "start_time": "2023-05-15T21:33:24.112Z"
   },
   {
    "duration": 626,
    "start_time": "2023-05-15T21:33:25.690Z"
   },
   {
    "duration": 4,
    "start_time": "2023-05-15T21:33:26.318Z"
   },
   {
    "duration": 9077,
    "start_time": "2023-05-15T21:33:26.325Z"
   },
   {
    "duration": 4,
    "start_time": "2023-05-15T21:33:35.404Z"
   },
   {
    "duration": 479,
    "start_time": "2023-05-15T21:33:35.409Z"
   },
   {
    "duration": 553,
    "start_time": "2023-05-15T21:38:42.970Z"
   },
   {
    "duration": 17029,
    "start_time": "2023-05-15T21:39:09.461Z"
   },
   {
    "duration": 1405,
    "start_time": "2023-05-15T21:45:32.696Z"
   },
   {
    "duration": 908,
    "start_time": "2023-05-15T21:45:56.924Z"
   },
   {
    "duration": 845,
    "start_time": "2023-05-15T21:50:03.057Z"
   },
   {
    "duration": 1413,
    "start_time": "2023-05-15T21:50:31.573Z"
   },
   {
    "duration": 51,
    "start_time": "2023-05-15T21:50:32.989Z"
   },
   {
    "duration": 28,
    "start_time": "2023-05-15T21:50:33.042Z"
   },
   {
    "duration": 10,
    "start_time": "2023-05-15T21:50:33.071Z"
   },
   {
    "duration": 15,
    "start_time": "2023-05-15T21:50:33.083Z"
   },
   {
    "duration": 12,
    "start_time": "2023-05-15T21:50:33.099Z"
   },
   {
    "duration": 285,
    "start_time": "2023-05-15T21:50:33.112Z"
   },
   {
    "duration": 329,
    "start_time": "2023-05-15T21:50:33.399Z"
   },
   {
    "duration": 238,
    "start_time": "2023-05-15T21:50:33.729Z"
   },
   {
    "duration": 207,
    "start_time": "2023-05-15T21:50:33.969Z"
   },
   {
    "duration": 196,
    "start_time": "2023-05-15T21:50:34.177Z"
   },
   {
    "duration": 11,
    "start_time": "2023-05-15T21:50:34.374Z"
   },
   {
    "duration": 268,
    "start_time": "2023-05-15T21:50:34.386Z"
   },
   {
    "duration": 290,
    "start_time": "2023-05-15T21:50:34.657Z"
   },
   {
    "duration": 114,
    "start_time": "2023-05-15T21:50:34.949Z"
   },
   {
    "duration": 5,
    "start_time": "2023-05-15T21:50:35.065Z"
   },
   {
    "duration": 5,
    "start_time": "2023-05-15T21:50:35.085Z"
   },
   {
    "duration": 7,
    "start_time": "2023-05-15T21:50:35.092Z"
   },
   {
    "duration": 10,
    "start_time": "2023-05-15T21:50:35.101Z"
   },
   {
    "duration": 7,
    "start_time": "2023-05-15T21:50:35.112Z"
   },
   {
    "duration": 7,
    "start_time": "2023-05-15T21:50:35.120Z"
   },
   {
    "duration": 4,
    "start_time": "2023-05-15T21:50:35.129Z"
   },
   {
    "duration": 4,
    "start_time": "2023-05-15T21:50:35.134Z"
   },
   {
    "duration": 50,
    "start_time": "2023-05-15T21:50:35.139Z"
   },
   {
    "duration": 1101,
    "start_time": "2023-05-15T21:50:35.191Z"
   },
   {
    "duration": 587,
    "start_time": "2023-05-15T21:50:36.294Z"
   },
   {
    "duration": 4,
    "start_time": "2023-05-15T21:50:36.884Z"
   },
   {
    "duration": 8306,
    "start_time": "2023-05-15T21:50:36.890Z"
   },
   {
    "duration": 16988,
    "start_time": "2023-05-15T21:50:45.198Z"
   },
   {
    "duration": 4,
    "start_time": "2023-05-15T21:51:02.187Z"
   },
   {
    "duration": 26,
    "start_time": "2023-05-15T21:51:02.193Z"
   },
   {
    "duration": 468,
    "start_time": "2023-05-15T21:51:02.221Z"
   },
   {
    "duration": 1479,
    "start_time": "2023-05-15T21:52:24.960Z"
   },
   {
    "duration": 52,
    "start_time": "2023-05-15T21:52:30.907Z"
   },
   {
    "duration": 64,
    "start_time": "2023-05-15T21:53:29.981Z"
   },
   {
    "duration": 12,
    "start_time": "2023-05-15T21:53:37.030Z"
   },
   {
    "duration": 4,
    "start_time": "2023-05-15T21:54:27.263Z"
   },
   {
    "duration": 13,
    "start_time": "2023-05-15T21:54:29.521Z"
   },
   {
    "duration": 15,
    "start_time": "2023-05-15T21:55:40.973Z"
   },
   {
    "duration": 325,
    "start_time": "2023-05-15T21:57:07.447Z"
   },
   {
    "duration": 346,
    "start_time": "2023-05-15T21:57:52.056Z"
   },
   {
    "duration": 274,
    "start_time": "2023-05-15T21:59:03.077Z"
   },
   {
    "duration": 278,
    "start_time": "2023-05-15T21:59:12.581Z"
   },
   {
    "duration": 264,
    "start_time": "2023-05-15T21:59:20.536Z"
   },
   {
    "duration": 280,
    "start_time": "2023-05-15T21:59:39.605Z"
   },
   {
    "duration": 239,
    "start_time": "2023-05-15T22:00:22.199Z"
   },
   {
    "duration": 193,
    "start_time": "2023-05-15T22:01:54.632Z"
   },
   {
    "duration": 244,
    "start_time": "2023-05-15T22:02:42.586Z"
   },
   {
    "duration": 182,
    "start_time": "2023-05-15T22:03:01.430Z"
   },
   {
    "duration": 186,
    "start_time": "2023-05-15T22:04:02.328Z"
   },
   {
    "duration": 188,
    "start_time": "2023-05-15T22:05:23.989Z"
   },
   {
    "duration": 9,
    "start_time": "2023-05-15T22:06:08.959Z"
   },
   {
    "duration": 251,
    "start_time": "2023-05-15T22:06:39.001Z"
   },
   {
    "duration": 291,
    "start_time": "2023-05-15T22:07:17.430Z"
   },
   {
    "duration": 130,
    "start_time": "2023-05-15T22:07:52.192Z"
   },
   {
    "duration": 4,
    "start_time": "2023-05-15T22:10:14.348Z"
   },
   {
    "duration": 5,
    "start_time": "2023-05-15T22:12:02.323Z"
   },
   {
    "duration": 1587,
    "start_time": "2023-05-15T22:12:45.705Z"
   },
   {
    "duration": 499,
    "start_time": "2023-05-15T22:12:57.156Z"
   },
   {
    "duration": 8482,
    "start_time": "2023-05-15T22:13:37.029Z"
   },
   {
    "duration": 1391,
    "start_time": "2023-05-15T22:15:59.599Z"
   },
   {
    "duration": 51,
    "start_time": "2023-05-15T22:16:00.993Z"
   },
   {
    "duration": 28,
    "start_time": "2023-05-15T22:16:01.046Z"
   },
   {
    "duration": 15,
    "start_time": "2023-05-15T22:16:01.076Z"
   },
   {
    "duration": 40,
    "start_time": "2023-05-15T22:16:01.092Z"
   },
   {
    "duration": 32,
    "start_time": "2023-05-15T22:16:01.133Z"
   },
   {
    "duration": 329,
    "start_time": "2023-05-15T22:16:01.167Z"
   },
   {
    "duration": 348,
    "start_time": "2023-05-15T22:16:01.498Z"
   },
   {
    "duration": 258,
    "start_time": "2023-05-15T22:16:01.848Z"
   },
   {
    "duration": 203,
    "start_time": "2023-05-15T22:16:02.109Z"
   },
   {
    "duration": 203,
    "start_time": "2023-05-15T22:16:02.314Z"
   },
   {
    "duration": 9,
    "start_time": "2023-05-15T22:16:02.519Z"
   },
   {
    "duration": 277,
    "start_time": "2023-05-15T22:16:02.530Z"
   },
   {
    "duration": 276,
    "start_time": "2023-05-15T22:16:02.808Z"
   },
   {
    "duration": 108,
    "start_time": "2023-05-15T22:16:03.086Z"
   },
   {
    "duration": 4,
    "start_time": "2023-05-15T22:16:03.196Z"
   },
   {
    "duration": 25,
    "start_time": "2023-05-15T22:16:03.201Z"
   },
   {
    "duration": 11,
    "start_time": "2023-05-15T22:16:03.227Z"
   },
   {
    "duration": 1269,
    "start_time": "2023-05-15T22:16:03.239Z"
   },
   {
    "duration": 649,
    "start_time": "2023-05-15T22:16:04.510Z"
   },
   {
    "duration": 4,
    "start_time": "2023-05-15T22:16:05.161Z"
   },
   {
    "duration": 1739,
    "start_time": "2023-05-15T22:16:12.269Z"
   },
   {
    "duration": 61177,
    "start_time": "2023-05-15T22:18:00.911Z"
   },
   {
    "duration": 137282,
    "start_time": "2023-05-15T22:21:51.117Z"
   },
   {
    "duration": 3072,
    "start_time": "2023-05-15T22:29:03.522Z"
   },
   {
    "duration": 2706,
    "start_time": "2023-05-15T22:29:49.379Z"
   },
   {
    "duration": 1401,
    "start_time": "2023-05-15T22:30:27.692Z"
   },
   {
    "duration": 51,
    "start_time": "2023-05-15T22:30:29.095Z"
   },
   {
    "duration": 29,
    "start_time": "2023-05-15T22:30:29.147Z"
   },
   {
    "duration": 10,
    "start_time": "2023-05-15T22:30:29.178Z"
   },
   {
    "duration": 16,
    "start_time": "2023-05-15T22:30:29.189Z"
   },
   {
    "duration": 29,
    "start_time": "2023-05-15T22:30:29.207Z"
   },
   {
    "duration": 274,
    "start_time": "2023-05-15T22:30:29.237Z"
   },
   {
    "duration": 323,
    "start_time": "2023-05-15T22:30:29.513Z"
   },
   {
    "duration": 246,
    "start_time": "2023-05-15T22:30:29.838Z"
   },
   {
    "duration": 202,
    "start_time": "2023-05-15T22:30:30.087Z"
   },
   {
    "duration": 193,
    "start_time": "2023-05-15T22:30:30.291Z"
   },
   {
    "duration": 7,
    "start_time": "2023-05-15T22:30:30.486Z"
   },
   {
    "duration": 284,
    "start_time": "2023-05-15T22:30:30.495Z"
   },
   {
    "duration": 284,
    "start_time": "2023-05-15T22:30:30.781Z"
   },
   {
    "duration": 112,
    "start_time": "2023-05-15T22:30:31.067Z"
   },
   {
    "duration": 6,
    "start_time": "2023-05-15T22:30:31.180Z"
   },
   {
    "duration": 39,
    "start_time": "2023-05-15T22:30:31.187Z"
   },
   {
    "duration": 1760,
    "start_time": "2023-05-15T22:30:31.227Z"
   },
   {
    "duration": 568,
    "start_time": "2023-05-15T22:30:32.989Z"
   },
   {
    "duration": 59727,
    "start_time": "2023-05-15T22:30:33.558Z"
   },
   {
    "duration": 2898,
    "start_time": "2023-05-15T22:31:33.287Z"
   },
   {
    "duration": 1482,
    "start_time": "2023-05-15T22:43:05.343Z"
   },
   {
    "duration": 51,
    "start_time": "2023-05-15T22:43:06.827Z"
   },
   {
    "duration": 32,
    "start_time": "2023-05-15T22:43:06.879Z"
   },
   {
    "duration": 10,
    "start_time": "2023-05-15T22:43:06.912Z"
   },
   {
    "duration": 3,
    "start_time": "2023-05-15T22:43:06.924Z"
   },
   {
    "duration": 19,
    "start_time": "2023-05-15T22:43:06.929Z"
   },
   {
    "duration": 330,
    "start_time": "2023-05-15T22:43:06.949Z"
   },
   {
    "duration": 331,
    "start_time": "2023-05-15T22:43:07.281Z"
   },
   {
    "duration": 251,
    "start_time": "2023-05-15T22:43:07.613Z"
   },
   {
    "duration": 209,
    "start_time": "2023-05-15T22:43:07.865Z"
   },
   {
    "duration": 208,
    "start_time": "2023-05-15T22:43:08.076Z"
   },
   {
    "duration": 8,
    "start_time": "2023-05-15T22:43:08.286Z"
   },
   {
    "duration": 271,
    "start_time": "2023-05-15T22:43:08.295Z"
   },
   {
    "duration": 293,
    "start_time": "2023-05-15T22:43:08.569Z"
   },
   {
    "duration": 114,
    "start_time": "2023-05-15T22:43:08.864Z"
   },
   {
    "duration": 4,
    "start_time": "2023-05-15T22:43:08.985Z"
   },
   {
    "duration": 32,
    "start_time": "2023-05-15T22:43:08.991Z"
   },
   {
    "duration": 1362,
    "start_time": "2023-05-15T22:43:09.024Z"
   },
   {
    "duration": 576,
    "start_time": "2023-05-15T22:43:10.388Z"
   },
   {
    "duration": 59125,
    "start_time": "2023-05-15T22:43:10.966Z"
   },
   {
    "duration": 3097,
    "start_time": "2023-05-15T22:44:10.094Z"
   },
   {
    "duration": 74,
    "start_time": "2023-05-17T03:29:53.727Z"
   },
   {
    "duration": 1550,
    "start_time": "2023-05-17T03:32:10.979Z"
   },
   {
    "duration": 115,
    "start_time": "2023-05-17T03:32:12.531Z"
   },
   {
    "duration": 26,
    "start_time": "2023-05-17T03:32:12.647Z"
   },
   {
    "duration": 9,
    "start_time": "2023-05-17T03:32:12.900Z"
   },
   {
    "duration": 4,
    "start_time": "2023-05-17T03:32:13.527Z"
   },
   {
    "duration": 13,
    "start_time": "2023-05-17T03:32:14.113Z"
   },
   {
    "duration": 290,
    "start_time": "2023-05-17T03:33:41.841Z"
   },
   {
    "duration": 291,
    "start_time": "2023-05-17T03:35:51.969Z"
   },
   {
    "duration": 213,
    "start_time": "2023-05-17T03:36:27.194Z"
   },
   {
    "duration": 194,
    "start_time": "2023-05-17T03:36:45.809Z"
   },
   {
    "duration": 200,
    "start_time": "2023-05-17T03:37:06.028Z"
   },
   {
    "duration": 222,
    "start_time": "2023-05-17T03:38:27.671Z"
   },
   {
    "duration": 188,
    "start_time": "2023-05-17T03:38:28.231Z"
   },
   {
    "duration": 175,
    "start_time": "2023-05-17T03:38:28.975Z"
   },
   {
    "duration": 12,
    "start_time": "2023-05-17T03:38:34.753Z"
   },
   {
    "duration": 238,
    "start_time": "2023-05-17T03:38:36.317Z"
   },
   {
    "duration": 280,
    "start_time": "2023-05-17T03:38:39.821Z"
   },
   {
    "duration": 5,
    "start_time": "2023-05-17T03:38:49.712Z"
   },
   {
    "duration": 1601,
    "start_time": "2023-05-17T03:38:53.885Z"
   },
   {
    "duration": 418,
    "start_time": "2023-05-17T03:38:56.563Z"
   },
   {
    "duration": 1299,
    "start_time": "2023-05-17T03:41:29.016Z"
   },
   {
    "duration": 48,
    "start_time": "2023-05-17T03:41:30.317Z"
   },
   {
    "duration": 41,
    "start_time": "2023-05-17T03:41:30.366Z"
   },
   {
    "duration": 42,
    "start_time": "2023-05-17T03:41:30.410Z"
   },
   {
    "duration": 30,
    "start_time": "2023-05-17T03:41:30.453Z"
   },
   {
    "duration": 32,
    "start_time": "2023-05-17T03:41:30.485Z"
   },
   {
    "duration": 344,
    "start_time": "2023-05-17T03:41:30.519Z"
   },
   {
    "duration": 306,
    "start_time": "2023-05-17T03:41:30.865Z"
   },
   {
    "duration": 225,
    "start_time": "2023-05-17T03:41:31.173Z"
   },
   {
    "duration": 196,
    "start_time": "2023-05-17T03:41:31.400Z"
   },
   {
    "duration": 201,
    "start_time": "2023-05-17T03:41:31.598Z"
   },
   {
    "duration": 8,
    "start_time": "2023-05-17T03:41:31.800Z"
   },
   {
    "duration": 237,
    "start_time": "2023-05-17T03:41:31.810Z"
   },
   {
    "duration": 250,
    "start_time": "2023-05-17T03:41:32.048Z"
   },
   {
    "duration": 4,
    "start_time": "2023-05-17T03:41:32.299Z"
   },
   {
    "duration": 1679,
    "start_time": "2023-05-17T03:41:32.305Z"
   },
   {
    "duration": 456,
    "start_time": "2023-05-17T03:41:33.986Z"
   },
   {
    "duration": 1321,
    "start_time": "2023-05-17T04:11:56.932Z"
   },
   {
    "duration": 57,
    "start_time": "2023-05-17T04:11:58.255Z"
   },
   {
    "duration": 28,
    "start_time": "2023-05-17T04:11:58.314Z"
   },
   {
    "duration": 8,
    "start_time": "2023-05-17T04:11:58.344Z"
   },
   {
    "duration": 5,
    "start_time": "2023-05-17T04:11:58.353Z"
   },
   {
    "duration": 26,
    "start_time": "2023-05-17T04:11:58.359Z"
   },
   {
    "duration": 286,
    "start_time": "2023-05-17T04:11:58.387Z"
   },
   {
    "duration": 308,
    "start_time": "2023-05-17T04:11:58.675Z"
   },
   {
    "duration": 241,
    "start_time": "2023-05-17T04:11:58.986Z"
   },
   {
    "duration": 210,
    "start_time": "2023-05-17T04:11:59.229Z"
   },
   {
    "duration": 1089,
    "start_time": "2023-05-17T04:11:59.441Z"
   },
   {
    "duration": 451,
    "start_time": "2023-05-17T04:12:00.532Z"
   },
   {
    "duration": 369,
    "start_time": "2023-05-17T04:12:00.984Z"
   },
   {
    "duration": 277,
    "start_time": "2023-05-17T04:12:01.354Z"
   },
   {
    "duration": 5,
    "start_time": "2023-05-17T04:12:01.633Z"
   },
   {
    "duration": 1752,
    "start_time": "2023-05-17T04:12:01.640Z"
   },
   {
    "duration": 542,
    "start_time": "2023-05-17T04:12:03.399Z"
   },
   {
    "duration": 1172323,
    "start_time": "2023-05-17T04:12:03.942Z"
   },
   {
    "duration": 0,
    "start_time": "2023-05-17T04:31:36.268Z"
   },
   {
    "duration": 0,
    "start_time": "2023-05-17T04:31:36.269Z"
   },
   {
    "duration": 0,
    "start_time": "2023-05-17T04:31:36.270Z"
   },
   {
    "duration": 130,
    "start_time": "2023-05-17T04:31:54.581Z"
   },
   {
    "duration": 130,
    "start_time": "2023-05-17T04:32:02.606Z"
   },
   {
    "duration": 307,
    "start_time": "2023-05-17T04:32:12.045Z"
   },
   {
    "duration": 9,
    "start_time": "2023-05-17T04:32:30.570Z"
   },
   {
    "duration": 93,
    "start_time": "2023-05-17T04:32:44.706Z"
   },
   {
    "duration": 9,
    "start_time": "2023-05-17T04:32:53.839Z"
   },
   {
    "duration": 359,
    "start_time": "2023-05-17T04:32:59.381Z"
   },
   {
    "duration": 1358,
    "start_time": "2023-05-17T04:36:44.224Z"
   },
   {
    "duration": 78,
    "start_time": "2023-05-17T04:36:45.586Z"
   },
   {
    "duration": 46,
    "start_time": "2023-05-17T04:36:45.665Z"
   },
   {
    "duration": 12,
    "start_time": "2023-05-17T04:36:45.713Z"
   },
   {
    "duration": 13,
    "start_time": "2023-05-17T04:36:45.726Z"
   },
   {
    "duration": 16,
    "start_time": "2023-05-17T04:36:45.740Z"
   },
   {
    "duration": 341,
    "start_time": "2023-05-17T04:36:45.757Z"
   },
   {
    "duration": 351,
    "start_time": "2023-05-17T04:36:46.100Z"
   },
   {
    "duration": 260,
    "start_time": "2023-05-17T04:36:46.452Z"
   },
   {
    "duration": 212,
    "start_time": "2023-05-17T04:36:46.715Z"
   },
   {
    "duration": 210,
    "start_time": "2023-05-17T04:36:46.929Z"
   },
   {
    "duration": 8,
    "start_time": "2023-05-17T04:36:47.140Z"
   },
   {
    "duration": 277,
    "start_time": "2023-05-17T04:36:47.149Z"
   },
   {
    "duration": 274,
    "start_time": "2023-05-17T04:36:47.428Z"
   },
   {
    "duration": 7,
    "start_time": "2023-05-17T04:36:47.703Z"
   },
   {
    "duration": 2480,
    "start_time": "2023-05-17T04:36:47.711Z"
   },
   {
    "duration": 572,
    "start_time": "2023-05-17T04:36:50.193Z"
   },
   {
    "duration": 4,
    "start_time": "2023-05-17T04:36:50.767Z"
   },
   {
    "duration": 6970,
    "start_time": "2023-05-17T22:44:59.847Z"
   },
   {
    "duration": 221,
    "start_time": "2023-05-17T22:45:06.819Z"
   },
   {
    "duration": 26,
    "start_time": "2023-05-17T22:45:07.042Z"
   },
   {
    "duration": 9,
    "start_time": "2023-05-17T22:45:07.071Z"
   },
   {
    "duration": 3,
    "start_time": "2023-05-17T22:45:07.082Z"
   },
   {
    "duration": 20,
    "start_time": "2023-05-17T22:45:07.087Z"
   },
   {
    "duration": 318,
    "start_time": "2023-05-17T22:45:07.110Z"
   },
   {
    "duration": 328,
    "start_time": "2023-05-17T22:45:07.430Z"
   },
   {
    "duration": 284,
    "start_time": "2023-05-17T22:45:07.760Z"
   },
   {
    "duration": 215,
    "start_time": "2023-05-17T22:45:08.046Z"
   },
   {
    "duration": 204,
    "start_time": "2023-05-17T22:45:08.262Z"
   },
   {
    "duration": 8,
    "start_time": "2023-05-17T22:45:08.467Z"
   },
   {
    "duration": 278,
    "start_time": "2023-05-17T22:45:08.476Z"
   },
   {
    "duration": 303,
    "start_time": "2023-05-17T22:45:08.756Z"
   },
   {
    "duration": 4,
    "start_time": "2023-05-17T22:45:09.060Z"
   },
   {
    "duration": 209737,
    "start_time": "2023-05-17T22:45:20.003Z"
   },
   {
    "duration": 359,
    "start_time": "2023-05-17T22:48:49.742Z"
   }
  ],
  "kernelspec": {
   "display_name": "Python 3 (ipykernel)",
   "language": "python",
   "name": "python3"
  },
  "language_info": {
   "codemirror_mode": {
    "name": "ipython",
    "version": 3
   },
   "file_extension": ".py",
   "mimetype": "text/x-python",
   "name": "python",
   "nbconvert_exporter": "python",
   "pygments_lexer": "ipython3",
   "version": "3.9.5"
  },
  "toc": {
   "base_numbering": 1,
   "nav_menu": {},
   "number_sections": true,
   "sideBar": false,
   "skip_h1_title": true,
   "title_cell": "Содержание",
   "title_sidebar": "Contents",
   "toc_cell": true,
   "toc_position": {
    "height": "764px",
    "left": "26px",
    "top": "111.333px",
    "width": "165px"
   },
   "toc_section_display": true,
   "toc_window_display": false
  }
 },
 "nbformat": 4,
 "nbformat_minor": 2
}
