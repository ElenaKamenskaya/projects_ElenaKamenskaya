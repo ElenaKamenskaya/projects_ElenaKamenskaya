{
 "cells": [
  {
   "cell_type": "markdown",
   "metadata": {},
   "source": [
    "# Проект для «Викишоп»"
   ]
  },
  {
   "cell_type": "markdown",
   "metadata": {},
   "source": [
    "**Проект Поиск токсичных комментариев**\n",
    "\n",
    "**Задача:** Обучить модель классифицировать комментарии на позитивные и негативные\n",
    "\n",
    "**Цель:** Построить модель со значением метрики качества F1 не меньше 0.75.\n",
    "\n",
    "**Данные:** В вашем распоряжении набор данных с разметкой о токсичности правок.\n",
    "\n",
    "**Действия:** проверить данные, удалить все лишние символы из текста, осуществить ламматизацию текста, убрать стоп-слова и построить несколько моделей."
   ]
  },
  {
   "cell_type": "markdown",
   "metadata": {},
   "source": [
    "## Подготовка"
   ]
  },
  {
   "cell_type": "code",
   "execution_count": 1,
   "metadata": {
    "scrolled": true
   },
   "outputs": [
    {
     "name": "stderr",
     "output_type": "stream",
     "text": [
      "[nltk_data] Downloading package stopwords to /home/jovyan/nltk_data...\n",
      "[nltk_data]   Package stopwords is already up-to-date!\n",
      "[nltk_data] Downloading package wordnet to /home/jovyan/nltk_data...\n",
      "[nltk_data]   Package wordnet is already up-to-date!\n",
      "[nltk_data] Downloading package averaged_perceptron_tagger to\n",
      "[nltk_data]     /home/jovyan/nltk_data...\n",
      "[nltk_data]   Package averaged_perceptron_tagger is already up-to-\n",
      "[nltk_data]       date!\n"
     ]
    },
    {
     "data": {
      "text/plain": [
       "True"
      ]
     },
     "execution_count": 1,
     "metadata": {},
     "output_type": "execute_result"
    }
   ],
   "source": [
    "# Загрузим библиотеки\n",
    "\n",
    "import pandas as pd\n",
    "from pymystem3 import Mystem\n",
    "\n",
    "import re\n",
    "from nltk.corpus import stopwords \n",
    "from nltk.corpus import wordnet\n",
    "import nltk\n",
    "nltk.download('stopwords')\n",
    "import nltk\n",
    "nltk.download('wordnet')\n",
    "from nltk.stem import WordNetLemmatizer\n",
    "\n",
    "from sklearn.model_selection import train_test_split\n",
    "from sklearn.feature_extraction.text import TfidfVectorizer\n",
    "from sklearn.linear_model import LogisticRegression\n",
    "from sklearn.ensemble import RandomForestClassifier\n",
    "from catboost import CatBoostClassifier\n",
    "from lightgbm import LGBMClassifier\n",
    "from sklearn.model_selection import cross_val_score, GridSearchCV\n",
    "from nltk.corpus import stopwords as nltk_stopwords\n",
    "import warnings\n",
    "warnings.filterwarnings('ignore')\n",
    "from sklearn.metrics import f1_score\n",
    "import nltk\n",
    "nltk.download('averaged_perceptron_tagger')"
   ]
  },
  {
   "cell_type": "code",
   "execution_count": 2,
   "metadata": {},
   "outputs": [
    {
     "data": {
      "text/html": [
       "<div>\n",
       "<style scoped>\n",
       "    .dataframe tbody tr th:only-of-type {\n",
       "        vertical-align: middle;\n",
       "    }\n",
       "\n",
       "    .dataframe tbody tr th {\n",
       "        vertical-align: top;\n",
       "    }\n",
       "\n",
       "    .dataframe thead th {\n",
       "        text-align: right;\n",
       "    }\n",
       "</style>\n",
       "<table border=\"1\" class=\"dataframe\">\n",
       "  <thead>\n",
       "    <tr style=\"text-align: right;\">\n",
       "      <th></th>\n",
       "      <th>Unnamed: 0</th>\n",
       "      <th>text</th>\n",
       "      <th>toxic</th>\n",
       "    </tr>\n",
       "  </thead>\n",
       "  <tbody>\n",
       "    <tr>\n",
       "      <th>0</th>\n",
       "      <td>0</td>\n",
       "      <td>Explanation\\nWhy the edits made under my usern...</td>\n",
       "      <td>0</td>\n",
       "    </tr>\n",
       "    <tr>\n",
       "      <th>1</th>\n",
       "      <td>1</td>\n",
       "      <td>D'aww! He matches this background colour I'm s...</td>\n",
       "      <td>0</td>\n",
       "    </tr>\n",
       "    <tr>\n",
       "      <th>2</th>\n",
       "      <td>2</td>\n",
       "      <td>Hey man, I'm really not trying to edit war. It...</td>\n",
       "      <td>0</td>\n",
       "    </tr>\n",
       "    <tr>\n",
       "      <th>3</th>\n",
       "      <td>3</td>\n",
       "      <td>\"\\nMore\\nI can't make any real suggestions on ...</td>\n",
       "      <td>0</td>\n",
       "    </tr>\n",
       "    <tr>\n",
       "      <th>4</th>\n",
       "      <td>4</td>\n",
       "      <td>You, sir, are my hero. Any chance you remember...</td>\n",
       "      <td>0</td>\n",
       "    </tr>\n",
       "  </tbody>\n",
       "</table>\n",
       "</div>"
      ],
      "text/plain": [
       "   Unnamed: 0                                               text  toxic\n",
       "0           0  Explanation\\nWhy the edits made under my usern...      0\n",
       "1           1  D'aww! He matches this background colour I'm s...      0\n",
       "2           2  Hey man, I'm really not trying to edit war. It...      0\n",
       "3           3  \"\\nMore\\nI can't make any real suggestions on ...      0\n",
       "4           4  You, sir, are my hero. Any chance you remember...      0"
      ]
     },
     "execution_count": 2,
     "metadata": {},
     "output_type": "execute_result"
    }
   ],
   "source": [
    "# откроем данные для ознакомления\n",
    "\n",
    "data = pd.read_csv('/datasets/toxic_comments.csv')\n",
    "data.head()"
   ]
  },
  {
   "cell_type": "code",
   "execution_count": 3,
   "metadata": {},
   "outputs": [
    {
     "name": "stdout",
     "output_type": "stream",
     "text": [
      "<class 'pandas.core.frame.DataFrame'>\n",
      "RangeIndex: 159292 entries, 0 to 159291\n",
      "Data columns (total 3 columns):\n",
      " #   Column      Non-Null Count   Dtype \n",
      "---  ------      --------------   ----- \n",
      " 0   Unnamed: 0  159292 non-null  int64 \n",
      " 1   text        159292 non-null  object\n",
      " 2   toxic       159292 non-null  int64 \n",
      "dtypes: int64(2), object(1)\n",
      "memory usage: 3.6+ MB\n"
     ]
    }
   ],
   "source": [
    "# получим информацию о данных\n",
    "\n",
    "data.info()"
   ]
  },
  {
   "cell_type": "code",
   "execution_count": 4,
   "metadata": {},
   "outputs": [],
   "source": [
    "# колонка Unnamed неинформативная, поэтому удалим ее\n",
    "\n",
    "data = data.drop('Unnamed: 0', axis=1)"
   ]
  },
  {
   "cell_type": "code",
   "execution_count": 5,
   "metadata": {},
   "outputs": [
    {
     "data": {
      "text/plain": [
       "0    143106\n",
       "1     16186\n",
       "Name: toxic, dtype: int64"
      ]
     },
     "execution_count": 5,
     "metadata": {},
     "output_type": "execute_result"
    }
   ],
   "source": [
    "# в колонке Toxic содерится только бинарное значение, как и должно быть \n",
    "\n",
    "data['toxic'].value_counts()"
   ]
  },
  {
   "cell_type": "code",
   "execution_count": 6,
   "metadata": {},
   "outputs": [
    {
     "data": {
      "text/plain": [
       "0"
      ]
     },
     "execution_count": 6,
     "metadata": {},
     "output_type": "execute_result"
    }
   ],
   "source": [
    "# проверим наличие дубликатов\n",
    "\n",
    "data.duplicated().sum()"
   ]
  },
  {
   "cell_type": "code",
   "execution_count": 14,
   "metadata": {},
   "outputs": [],
   "source": [
    "# напишем функции лемматизации и удаления лишних символов\n",
    "\n",
    "def clear_text(text):\n",
    "    text = re.sub(r\"[^a-zA-Z']\", ' ', text)\n",
    "    text = text.split()\n",
    "    text = \" \".join(text)\n",
    "\n",
    "    return text\n",
    "\n"
   ]
  },
  {
   "cell_type": "code",
   "execution_count": 15,
   "metadata": {},
   "outputs": [],
   "source": [
    "def get_wordnet_pos(word):\n",
    "    tag = nltk.pos_tag([word])[0][1][0].upper()\n",
    "    tag_dict = {\"J\": wordnet.ADJ,\n",
    "                \"N\": wordnet.NOUN,\n",
    "                \"V\": wordnet.VERB,\n",
    "                \"R\": wordnet.ADV}\n",
    "    return tag_dict.get(tag, wordnet.NOUN)\n",
    "\n",
    "m = WordNetLemmatizer()\n",
    "\n",
    "def lemmatize(text):\n",
    "    text = nltk.word_tokenize(text)\n",
    "    \n",
    "    return ' '.join([m.lemmatize(w, get_wordnet_pos(w)) for w in text])"
   ]
  },
  {
   "cell_type": "code",
   "execution_count": 16,
   "metadata": {
    "scrolled": true
   },
   "outputs": [
    {
     "name": "stdout",
     "output_type": "stream",
     "text": [
      "CPU times: user 17min 11s, sys: 1min 39s, total: 18min 51s\n",
      "Wall time: 18min 52s\n"
     ]
    }
   ],
   "source": [
    "%%time\n",
    "\n",
    "data['text'] = data['text'].apply(clear_text)\n",
    "data['lemm_text'] = data['text'].apply(lemmatize)"
   ]
  },
  {
   "cell_type": "code",
   "execution_count": 18,
   "metadata": {},
   "outputs": [],
   "source": [
    "# после создания лемматизированного текста. Первоначальный текст можно удалить из признаков\n",
    "\n",
    "data = data.drop(['text'], axis=1)"
   ]
  },
  {
   "cell_type": "markdown",
   "metadata": {},
   "source": [
    "## Вывод:\n",
    "Предоставленные данные полностью заполнены,не имеют пропусков и дубликатов. В данных была неинформационная колонка, которая дублирует индекс, ее целесообразно было удалить из данных. В тексте были удалены лишние символы и создан лемматизированный текст для дальнейшей обработки."
   ]
  },
  {
   "cell_type": "markdown",
   "metadata": {},
   "source": [
    "## Обучение"
   ]
  },
  {
   "cell_type": "markdown",
   "metadata": {},
   "source": [
    "### Подготовка данных к обучению"
   ]
  },
  {
   "cell_type": "code",
   "execution_count": 19,
   "metadata": {},
   "outputs": [],
   "source": [
    "corpus = data['lemm_text'].values"
   ]
  },
  {
   "cell_type": "code",
   "execution_count": 20,
   "metadata": {},
   "outputs": [],
   "source": [
    "# разобьем данные на признак и целевой признак, а затем разобьем данные на обучающую и тестовую выборки\n",
    "\n",
    "feature = corpus\n",
    "target = data['toxic'].values\n",
    "\n",
    "feature_train, feature_test, target_train, target_test = train_test_split(feature, target, test_size=.2, random_state=12345)\n"
   ]
  },
  {
   "cell_type": "code",
   "execution_count": 21,
   "metadata": {},
   "outputs": [
    {
     "name": "stdout",
     "output_type": "stream",
     "text": [
      "(127433,)\n",
      "(127433,)\n",
      "(31859,)\n",
      "(31859,)\n"
     ]
    }
   ],
   "source": [
    "# проверим корректность разбивки выборок\n",
    "\n",
    "print(feature_train.shape)\n",
    "print(target_train.shape)\n",
    "print(feature_test.shape)\n",
    "print(target_test.shape)"
   ]
  },
  {
   "cell_type": "code",
   "execution_count": 22,
   "metadata": {},
   "outputs": [
    {
     "name": "stdout",
     "output_type": "stream",
     "text": [
      "CPU times: user 6.43 s, sys: 44 ms, total: 6.48 s\n",
      "Wall time: 6.48 s\n"
     ]
    }
   ],
   "source": [
    "%%time\n",
    "\n",
    "# удалим неинформативные слова из текста\n",
    "\n",
    "stopwords = set(nltk_stopwords.words('english'))\n",
    "\n",
    "count_tf_idf = TfidfVectorizer(stop_words = stopwords)\n",
    "feature_train = count_tf_idf.fit_transform(feature_train)\n",
    "feature_test = count_tf_idf.transform(feature_test)"
   ]
  },
  {
   "cell_type": "code",
   "execution_count": 23,
   "metadata": {
    "scrolled": true
   },
   "outputs": [
    {
     "name": "stdout",
     "output_type": "stream",
     "text": [
      "(127433, 139501)\n",
      "(127433,)\n",
      "(31859, 139501)\n",
      "(31859,)\n"
     ]
    }
   ],
   "source": [
    "print(feature_train.shape)\n",
    "print(target_train.shape)\n",
    "print(feature_test.shape)\n",
    "print(target_test.shape)"
   ]
  },
  {
   "cell_type": "code",
   "execution_count": 24,
   "metadata": {},
   "outputs": [],
   "source": [
    "# напишем функцию модели\n",
    "\n",
    "def model_look(model, parameters, feature, target):\n",
    "    model_grid = GridSearchCV(model, parameters, cv=3, scoring='f1', verbose=5)\n",
    "    model_grid.fit(feature, target)\n",
    "    return model_grid.best_score_, model_grid.best_params_"
   ]
  },
  {
   "cell_type": "markdown",
   "metadata": {},
   "source": [
    "### Линейная регрессия"
   ]
  },
  {
   "cell_type": "code",
   "execution_count": 25,
   "metadata": {
    "scrolled": true
   },
   "outputs": [
    {
     "name": "stdout",
     "output_type": "stream",
     "text": [
      "Fitting 3 folds for each of 4 candidates, totalling 12 fits\n",
      "[CV 1/3] END ...............................C=22, max_iter=8; total time=   5.2s\n",
      "[CV 2/3] END ...............................C=22, max_iter=8; total time=   5.2s\n",
      "[CV 3/3] END ...............................C=22, max_iter=8; total time=   5.1s\n",
      "[CV 1/3] END ...............................C=22, max_iter=9; total time=   6.1s\n",
      "[CV 2/3] END ...............................C=22, max_iter=9; total time=   6.0s\n",
      "[CV 3/3] END ...............................C=22, max_iter=9; total time=   5.9s\n",
      "[CV 1/3] END ...............................C=24, max_iter=8; total time=   5.1s\n",
      "[CV 2/3] END ...............................C=24, max_iter=8; total time=   5.2s\n",
      "[CV 3/3] END ...............................C=24, max_iter=8; total time=   5.1s\n",
      "[CV 1/3] END ...............................C=24, max_iter=9; total time=   5.9s\n",
      "[CV 2/3] END ...............................C=24, max_iter=9; total time=   5.7s\n",
      "[CV 3/3] END ...............................C=24, max_iter=9; total time=   6.0s\n",
      "Лучшие параметры модели линейной регрессии: {'C': 22, 'max_iter': 8}\n",
      "F1 линейной регреcсии: 0.7588890636627128\n",
      "CPU times: user 24.3 s, sys: 47.3 s, total: 1min 11s\n",
      "Wall time: 1min 11s\n"
     ]
    }
   ],
   "source": [
    "%%time\n",
    "\n",
    "# найдем наилучшие параметры для модели при помощи GridSearchCV\n",
    "\n",
    "parameters_lg = {'C': range(22, 26, 2), 'max_iter': range(8, 10, 1)}\n",
    "f1, best_parameters_lg = model_look(LogisticRegression(random_state=12345, solver='liblinear'), parameters_lg, feature_train, target_train)\n",
    "print('Лучшие параметры модели линейной регрессии:', best_parameters_lg)\n",
    "print('F1 линейной регреcсии:', f1)"
   ]
  },
  {
   "cell_type": "code",
   "execution_count": 27,
   "metadata": {},
   "outputs": [
    {
     "data": {
      "text/html": [
       "<div>\n",
       "<style scoped>\n",
       "    .dataframe tbody tr th:only-of-type {\n",
       "        vertical-align: middle;\n",
       "    }\n",
       "\n",
       "    .dataframe tbody tr th {\n",
       "        vertical-align: top;\n",
       "    }\n",
       "\n",
       "    .dataframe thead th {\n",
       "        text-align: right;\n",
       "    }\n",
       "</style>\n",
       "<table border=\"1\" class=\"dataframe\">\n",
       "  <thead>\n",
       "    <tr style=\"text-align: right;\">\n",
       "      <th></th>\n",
       "      <th>model</th>\n",
       "      <th>best_parameters_train</th>\n",
       "      <th>f1_train</th>\n",
       "    </tr>\n",
       "  </thead>\n",
       "  <tbody>\n",
       "    <tr>\n",
       "      <th>0</th>\n",
       "      <td>LogisticRegression</td>\n",
       "      <td>{'C': 22, 'max_iter': 8}</td>\n",
       "      <td>0.777892</td>\n",
       "    </tr>\n",
       "  </tbody>\n",
       "</table>\n",
       "</div>"
      ],
      "text/plain": [
       "                model     best_parameters_train  f1_train\n",
       "0  LogisticRegression  {'C': 22, 'max_iter': 8}  0.777892"
      ]
     },
     "execution_count": 27,
     "metadata": {},
     "output_type": "execute_result"
    }
   ],
   "source": [
    "# создадим датасет с полученными данными \n",
    "\n",
    "results = pd.DataFrame ({'model':['LogisticRegression'], 'best_parameters_train':[best_parameters_lg], 'f1_train':[f1]})\n",
    "results"
   ]
  },
  {
   "cell_type": "markdown",
   "metadata": {},
   "source": [
    "### Случайный лес"
   ]
  },
  {
   "cell_type": "code",
   "execution_count": 24,
   "metadata": {},
   "outputs": [
    {
     "name": "stdout",
     "output_type": "stream",
     "text": [
      "Fitting 3 folds for each of 2 candidates, totalling 6 fits\n",
      "[CV 1/3] END ..................max_depth=212, n_estimators=2; total time=  10.1s\n",
      "[CV 2/3] END ..................max_depth=212, n_estimators=2; total time=   9.9s\n",
      "[CV 3/3] END ..................max_depth=212, n_estimators=2; total time=  10.0s\n",
      "[CV 1/3] END ..................max_depth=212, n_estimators=4; total time=  20.1s\n",
      "[CV 2/3] END ..................max_depth=212, n_estimators=4; total time=  19.3s\n",
      "[CV 3/3] END ..................max_depth=212, n_estimators=4; total time=  22.0s\n",
      "Лучшие параметры модели случайного леса: {'max_depth': 212, 'n_estimators': 4}\n",
      "F1 модели Случайный лес: 0.5733774541471263\n",
      "CPU times: user 1min 46s, sys: 454 ms, total: 1min 46s\n",
      "Wall time: 1min 47s\n"
     ]
    }
   ],
   "source": [
    "%%time\n",
    "\n",
    "# # найдем наилучшие параметры для модели при помощи GridSearchCV\n",
    "# прошлась диапазонами по max_depth, но ни один результат не дал необходимого результата\n",
    "\n",
    "parameters_rf = {'max_depth': range(212, 213, 1), 'n_estimators': range(2, 6, 2)}\n",
    "f1, best_parameters_rf = model_look(RandomForestClassifier(random_state=123), parameters_rf, feature_train, target_train)\n",
    "print('Лучшие параметры модели случайного леса:', best_parameters_rf)\n",
    "print('F1 модели Случайный лес:', f1)"
   ]
  },
  {
   "cell_type": "code",
   "execution_count": 26,
   "metadata": {},
   "outputs": [
    {
     "data": {
      "text/html": [
       "<div>\n",
       "<style scoped>\n",
       "    .dataframe tbody tr th:only-of-type {\n",
       "        vertical-align: middle;\n",
       "    }\n",
       "\n",
       "    .dataframe tbody tr th {\n",
       "        vertical-align: top;\n",
       "    }\n",
       "\n",
       "    .dataframe thead th {\n",
       "        text-align: right;\n",
       "    }\n",
       "</style>\n",
       "<table border=\"1\" class=\"dataframe\">\n",
       "  <thead>\n",
       "    <tr style=\"text-align: right;\">\n",
       "      <th></th>\n",
       "      <th>model</th>\n",
       "      <th>best_parameters_train</th>\n",
       "      <th>f1_train</th>\n",
       "    </tr>\n",
       "  </thead>\n",
       "  <tbody>\n",
       "    <tr>\n",
       "      <th>0</th>\n",
       "      <td>LogisticRegression</td>\n",
       "      <td>{'C': 24, 'max_iter': 8}</td>\n",
       "      <td>0.762972</td>\n",
       "    </tr>\n",
       "    <tr>\n",
       "      <th>1</th>\n",
       "      <td>RandomForestClassifier</td>\n",
       "      <td>{'max_depth': 212, 'n_estimators': 4}</td>\n",
       "      <td>0.573377</td>\n",
       "    </tr>\n",
       "  </tbody>\n",
       "</table>\n",
       "</div>"
      ],
      "text/plain": [
       "                    model                  best_parameters_train  f1_train\n",
       "0      LogisticRegression               {'C': 24, 'max_iter': 8}  0.762972\n",
       "1  RandomForestClassifier  {'max_depth': 212, 'n_estimators': 4}  0.573377"
      ]
     },
     "execution_count": 26,
     "metadata": {},
     "output_type": "execute_result"
    }
   ],
   "source": [
    "# внесем полученные данные в датасет\n",
    "\n",
    "results = results.append({'model':'RandomForestClassifier', 'best_parameters_train':best_parameters_rf, 'f1_train':f1}, ignore_index=True)\n",
    "results"
   ]
  },
  {
   "cell_type": "markdown",
   "metadata": {},
   "source": [
    "### CatBoostClassifier"
   ]
  },
  {
   "cell_type": "code",
   "execution_count": null,
   "metadata": {},
   "outputs": [],
   "source": [
    "# закомментировала модель, т.к. ее обработка идет несколько часов\n",
    "\n",
    "\"\"\"%%time \n",
    "\n",
    "# найдем наилучшие параметры для модели при помощи GridSearchCV\n",
    "\n",
    "parameters_cat = {'iterations': range(1000, 1010, 3)}\n",
    "f1, best_parameters_cat = model_look (CatBoostClassifier(random_state=123), parameters_cat, feature_train, target_train)\n",
    "print('Лучшие параметры модели:', best_parameters_cat)\n",
    "print('F1 модели CatBoostClassifier:', f1)\"\"\""
   ]
  },
  {
   "cell_type": "code",
   "execution_count": null,
   "metadata": {},
   "outputs": [],
   "source": [
    "\"\"\"results = results.append({'model':'CatBoostClassifier', 'best_parameters_train':best_parameters_cat, 'f1_train':f1}, ignore_index=True)\n",
    "results\"\"\""
   ]
  },
  {
   "cell_type": "markdown",
   "metadata": {},
   "source": [
    "### Проверка на тестовой выборке"
   ]
  },
  {
   "cell_type": "code",
   "execution_count": 28,
   "metadata": {},
   "outputs": [
    {
     "name": "stdout",
     "output_type": "stream",
     "text": [
      "F1: 0.7780821917808219\n"
     ]
    }
   ],
   "source": [
    "# Наилучший результат дала модель Линейная регрессия с результатом F1 = 0,76. Проверим результаты на тестовой выборке\n",
    "\n",
    "model_lg = LogisticRegression(random_state=12345, solver='liblinear', C = 22,  max_iter = 8)\n",
    "model_lg.fit(feature_train, target_train)\n",
    "predictions = model_lg.predict(feature_test)\n",
    "f1 = f1_score(target_test, predictions)\n",
    "\n",
    "print('F1:', f1)"
   ]
  },
  {
   "cell_type": "markdown",
   "metadata": {},
   "source": [
    "## Выводы"
   ]
  },
  {
   "cell_type": "markdown",
   "metadata": {},
   "source": [
    "Предоставленные данные полностью заполнены, не имеют пропусков и дубликатов. В данных была неинформационная колонка, которая дублирует индекс, ее целесообразно было удалить из данных. В тексте были удалены лишние символы и создан лемматизированный текст для дальнейшей обработки.\n",
    "В ходе анализа были созданы 3 модели: Линейная регрессия, Случайный лес и CatBoostClassifier. Наилучший результат на обучающей выборке показала Линейная регрессиия с F1 = 0.76. Финишный этап проверки модели Линейной регрессии на тестовой выборке показал F1 = 0,78, что соответствует требованиям задания, поэтому модель Линейной регрессии можно считать рабочей для данного проекта."
   ]
  }
 ],
 "metadata": {
  "ExecuteTimeLog": [
   {
    "duration": 56,
    "start_time": "2023-05-21T12:31:28.109Z"
   },
   {
    "duration": 518,
    "start_time": "2023-05-21T12:31:30.491Z"
   },
   {
    "duration": 2673,
    "start_time": "2023-05-21T12:31:32.076Z"
   },
   {
    "duration": 33,
    "start_time": "2023-05-21T12:34:20.022Z"
   },
   {
    "duration": 50,
    "start_time": "2023-05-21T12:34:51.842Z"
   },
   {
    "duration": 34,
    "start_time": "2023-05-21T12:35:04.217Z"
   },
   {
    "duration": 11,
    "start_time": "2023-05-21T12:35:16.898Z"
   },
   {
    "duration": 24,
    "start_time": "2023-05-21T12:35:25.118Z"
   },
   {
    "duration": 20,
    "start_time": "2023-05-21T12:35:36.017Z"
   },
   {
    "duration": 954,
    "start_time": "2023-05-21T12:37:31.595Z"
   },
   {
    "duration": 5,
    "start_time": "2023-05-21T12:39:12.540Z"
   },
   {
    "duration": 32,
    "start_time": "2023-05-21T12:44:09.959Z"
   },
   {
    "duration": 7726,
    "start_time": "2023-05-21T12:44:11.693Z"
   },
   {
    "duration": 16,
    "start_time": "2023-05-21T12:45:12.586Z"
   },
   {
    "duration": 3,
    "start_time": "2023-05-21T12:45:27.656Z"
   },
   {
    "duration": 38,
    "start_time": "2023-05-21T12:45:31.200Z"
   },
   {
    "duration": 18,
    "start_time": "2023-05-21T12:45:32.517Z"
   },
   {
    "duration": 8123,
    "start_time": "2023-05-21T12:45:56.846Z"
   },
   {
    "duration": 35,
    "start_time": "2023-05-21T12:46:55.317Z"
   },
   {
    "duration": 4,
    "start_time": "2023-05-21T12:46:56.557Z"
   },
   {
    "duration": 12,
    "start_time": "2023-05-21T12:47:03.472Z"
   },
   {
    "duration": 35,
    "start_time": "2023-05-21T12:47:07.325Z"
   },
   {
    "duration": 13,
    "start_time": "2023-05-21T12:47:08.460Z"
   },
   {
    "duration": 2,
    "start_time": "2023-05-21T12:47:18.793Z"
   },
   {
    "duration": 5,
    "start_time": "2023-05-21T12:47:23.487Z"
   },
   {
    "duration": 5,
    "start_time": "2023-05-21T12:47:30.753Z"
   },
   {
    "duration": 3,
    "start_time": "2023-05-21T12:47:36.393Z"
   },
   {
    "duration": 46,
    "start_time": "2023-05-21T19:56:07.892Z"
   },
   {
    "duration": 411,
    "start_time": "2023-05-21T19:56:11.883Z"
   },
   {
    "duration": 2251,
    "start_time": "2023-05-21T19:56:12.402Z"
   },
   {
    "duration": 27,
    "start_time": "2023-05-21T19:56:14.655Z"
   },
   {
    "duration": 15,
    "start_time": "2023-05-21T19:56:14.683Z"
   },
   {
    "duration": 8,
    "start_time": "2023-05-21T19:56:14.700Z"
   },
   {
    "duration": 6,
    "start_time": "2023-05-21T19:56:31.191Z"
   },
   {
    "duration": 3,
    "start_time": "2023-05-21T19:57:05.922Z"
   },
   {
    "duration": 214,
    "start_time": "2023-05-21T19:57:10.963Z"
   },
   {
    "duration": 401,
    "start_time": "2023-05-21T19:57:45.842Z"
   },
   {
    "duration": 2295,
    "start_time": "2023-05-21T19:57:46.245Z"
   },
   {
    "duration": 28,
    "start_time": "2023-05-21T19:57:48.541Z"
   },
   {
    "duration": 15,
    "start_time": "2023-05-21T19:57:48.570Z"
   },
   {
    "duration": 11,
    "start_time": "2023-05-21T19:57:48.587Z"
   },
   {
    "duration": 225,
    "start_time": "2023-05-21T19:57:48.599Z"
   },
   {
    "duration": 51,
    "start_time": "2023-05-21T19:58:12.266Z"
   },
   {
    "duration": 6,
    "start_time": "2023-05-21T19:58:22.544Z"
   },
   {
    "duration": 343,
    "start_time": "2023-05-21T19:58:27.257Z"
   },
   {
    "duration": 2301,
    "start_time": "2023-05-21T19:58:28.399Z"
   },
   {
    "duration": 31,
    "start_time": "2023-05-21T19:58:31.591Z"
   },
   {
    "duration": 17,
    "start_time": "2023-05-21T19:58:31.889Z"
   },
   {
    "duration": 6,
    "start_time": "2023-05-21T19:58:32.196Z"
   },
   {
    "duration": 208,
    "start_time": "2023-05-21T19:58:33.166Z"
   },
   {
    "duration": 45,
    "start_time": "2023-05-21T19:58:45.566Z"
   },
   {
    "duration": 345,
    "start_time": "2023-05-21T19:58:50.341Z"
   },
   {
    "duration": 2229,
    "start_time": "2023-05-21T19:58:51.391Z"
   },
   {
    "duration": 27,
    "start_time": "2023-05-21T19:58:53.622Z"
   },
   {
    "duration": 15,
    "start_time": "2023-05-21T19:58:54.317Z"
   },
   {
    "duration": 6,
    "start_time": "2023-05-21T19:58:58.294Z"
   },
   {
    "duration": 224,
    "start_time": "2023-05-21T19:59:00.357Z"
   },
   {
    "duration": 184,
    "start_time": "2023-05-21T20:00:32.561Z"
   },
   {
    "duration": 9,
    "start_time": "2023-05-21T20:00:37.526Z"
   },
   {
    "duration": 2,
    "start_time": "2023-05-21T20:00:43.438Z"
   },
   {
    "duration": 820,
    "start_time": "2023-05-21T20:00:44.114Z"
   },
   {
    "duration": 26,
    "start_time": "2023-05-21T20:00:44.936Z"
   },
   {
    "duration": 17,
    "start_time": "2023-05-21T20:00:45.690Z"
   },
   {
    "duration": 5,
    "start_time": "2023-05-21T20:00:46.775Z"
   },
   {
    "duration": 210,
    "start_time": "2023-05-21T20:00:47.587Z"
   },
   {
    "duration": 9,
    "start_time": "2023-05-21T20:00:49.078Z"
   },
   {
    "duration": 10,
    "start_time": "2023-05-21T20:01:18.280Z"
   },
   {
    "duration": 5,
    "start_time": "2023-05-21T20:01:19.115Z"
   },
   {
    "duration": 174,
    "start_time": "2023-05-21T20:01:20.130Z"
   },
   {
    "duration": 7,
    "start_time": "2023-05-21T20:01:21.042Z"
   },
   {
    "duration": 29,
    "start_time": "2023-05-21T20:03:18.571Z"
   },
   {
    "duration": 27,
    "start_time": "2023-05-21T20:03:22.090Z"
   },
   {
    "duration": 1031,
    "start_time": "2023-05-21T20:04:28.624Z"
   },
   {
    "duration": 4,
    "start_time": "2023-05-21T20:04:36.728Z"
   },
   {
    "duration": 31,
    "start_time": "2023-05-21T20:04:41.011Z"
   },
   {
    "duration": 686,
    "start_time": "2023-05-21T20:04:44.072Z"
   },
   {
    "duration": 64,
    "start_time": "2023-05-21T20:04:50.454Z"
   },
   {
    "duration": 638,
    "start_time": "2023-05-21T20:04:58.125Z"
   },
   {
    "duration": 17,
    "start_time": "2023-05-21T20:06:03.707Z"
   },
   {
    "duration": 11,
    "start_time": "2023-05-21T20:06:08.322Z"
   },
   {
    "duration": 54,
    "start_time": "2023-05-21T20:06:13.292Z"
   },
   {
    "duration": 12,
    "start_time": "2023-05-21T20:06:14.715Z"
   },
   {
    "duration": 12,
    "start_time": "2023-05-21T20:06:33.686Z"
   },
   {
    "duration": 1587,
    "start_time": "2023-05-21T20:10:58.729Z"
   },
   {
    "duration": 2295,
    "start_time": "2023-05-21T20:11:01.261Z"
   },
   {
    "duration": 106,
    "start_time": "2023-05-21T20:11:07.675Z"
   },
   {
    "duration": 1869,
    "start_time": "2023-05-21T20:11:15.089Z"
   },
   {
    "duration": 3,
    "start_time": "2023-05-21T20:12:15.383Z"
   },
   {
    "duration": 9233,
    "start_time": "2023-05-21T20:12:23.029Z"
   },
   {
    "duration": 7140,
    "start_time": "2023-05-21T20:12:37.572Z"
   },
   {
    "duration": 5,
    "start_time": "2023-05-21T20:13:38.402Z"
   },
   {
    "duration": 1477,
    "start_time": "2023-05-21T20:13:46.943Z"
   },
   {
    "duration": 936,
    "start_time": "2023-05-21T20:13:49.910Z"
   },
   {
    "duration": 38,
    "start_time": "2023-05-21T20:13:53.708Z"
   },
   {
    "duration": 13,
    "start_time": "2023-05-21T20:13:54.606Z"
   },
   {
    "duration": 6,
    "start_time": "2023-05-21T20:13:55.701Z"
   },
   {
    "duration": 210,
    "start_time": "2023-05-21T20:13:56.595Z"
   },
   {
    "duration": 4,
    "start_time": "2023-05-21T20:13:58.434Z"
   },
   {
    "duration": 1837,
    "start_time": "2023-05-21T20:13:59.224Z"
   },
   {
    "duration": 4,
    "start_time": "2023-05-21T20:14:02.219Z"
   },
   {
    "duration": 8867,
    "start_time": "2023-05-21T20:14:04.900Z"
   },
   {
    "duration": 9179,
    "start_time": "2023-05-21T20:14:46.223Z"
   },
   {
    "duration": 9216,
    "start_time": "2023-05-21T20:15:06.096Z"
   },
   {
    "duration": 373,
    "start_time": "2023-05-21T20:15:18.786Z"
   },
   {
    "duration": 358,
    "start_time": "2023-05-21T20:15:41.399Z"
   },
   {
    "duration": 3,
    "start_time": "2023-05-21T20:18:35.289Z"
   },
   {
    "duration": 9606,
    "start_time": "2023-05-21T20:19:16.284Z"
   },
   {
    "duration": 354,
    "start_time": "2023-05-21T20:19:25.894Z"
   },
   {
    "duration": 372,
    "start_time": "2023-05-21T20:19:26.250Z"
   },
   {
    "duration": 4,
    "start_time": "2023-05-21T20:19:29.093Z"
   },
   {
    "duration": 146,
    "start_time": "2023-05-21T20:19:43.976Z"
   },
   {
    "duration": 1160,
    "start_time": "2023-05-21T20:20:20.329Z"
   },
   {
    "duration": 4,
    "start_time": "2023-05-21T20:20:39.923Z"
   },
   {
    "duration": 3,
    "start_time": "2023-05-21T20:20:43.134Z"
   },
   {
    "duration": 1427,
    "start_time": "2023-05-21T20:21:09.085Z"
   },
   {
    "duration": 2245,
    "start_time": "2023-05-21T20:21:10.516Z"
   },
   {
    "duration": 26,
    "start_time": "2023-05-21T20:21:12.766Z"
   },
   {
    "duration": 9,
    "start_time": "2023-05-21T20:21:12.795Z"
   },
   {
    "duration": 6,
    "start_time": "2023-05-21T20:21:13.223Z"
   },
   {
    "duration": 4,
    "start_time": "2023-05-21T20:21:13.835Z"
   },
   {
    "duration": 1884,
    "start_time": "2023-05-21T20:21:14.545Z"
   },
   {
    "duration": 16,
    "start_time": "2023-05-21T20:21:16.431Z"
   },
   {
    "duration": 9247,
    "start_time": "2023-05-21T20:21:18.086Z"
   },
   {
    "duration": 161,
    "start_time": "2023-05-21T20:21:27.334Z"
   },
   {
    "duration": 169,
    "start_time": "2023-05-21T20:21:27.497Z"
   },
   {
    "duration": 3,
    "start_time": "2023-05-21T20:21:27.668Z"
   },
   {
    "duration": 881417,
    "start_time": "2023-05-21T20:21:27.673Z"
   },
   {
    "duration": 1435,
    "start_time": "2023-05-21T20:36:18.481Z"
   },
   {
    "duration": 877,
    "start_time": "2023-05-21T20:36:19.918Z"
   },
   {
    "duration": 31,
    "start_time": "2023-05-21T20:36:25.895Z"
   },
   {
    "duration": 11,
    "start_time": "2023-05-21T20:36:29.449Z"
   },
   {
    "duration": 5,
    "start_time": "2023-05-21T20:36:30.945Z"
   },
   {
    "duration": 4,
    "start_time": "2023-05-21T20:36:32.252Z"
   },
   {
    "duration": 1956,
    "start_time": "2023-05-21T20:36:36.347Z"
   },
   {
    "duration": 3,
    "start_time": "2023-05-21T20:36:46.653Z"
   },
   {
    "duration": 8881,
    "start_time": "2023-05-21T20:36:50.215Z"
   },
   {
    "duration": 160,
    "start_time": "2023-05-21T20:37:00.570Z"
   },
   {
    "duration": 164,
    "start_time": "2023-05-21T20:37:03.968Z"
   },
   {
    "duration": 108,
    "start_time": "2023-05-21T20:38:02.413Z"
   },
   {
    "duration": 5,
    "start_time": "2023-05-21T20:39:07.681Z"
   },
   {
    "duration": 3,
    "start_time": "2023-05-21T20:39:12.841Z"
   },
   {
    "duration": 3159,
    "start_time": "2023-05-21T20:39:42.847Z"
   },
   {
    "duration": 171,
    "start_time": "2023-05-21T20:40:02.212Z"
   },
   {
    "duration": 1582,
    "start_time": "2023-05-22T18:18:54.654Z"
   },
   {
    "duration": 2234,
    "start_time": "2023-05-22T18:18:56.238Z"
   },
   {
    "duration": 29,
    "start_time": "2023-05-22T18:18:58.473Z"
   },
   {
    "duration": 10,
    "start_time": "2023-05-22T18:18:58.504Z"
   },
   {
    "duration": 14,
    "start_time": "2023-05-22T18:18:58.516Z"
   },
   {
    "duration": 5,
    "start_time": "2023-05-22T18:18:58.532Z"
   },
   {
    "duration": 1892,
    "start_time": "2023-05-22T18:18:58.538Z"
   },
   {
    "duration": 18,
    "start_time": "2023-05-22T18:19:00.431Z"
   },
   {
    "duration": 3726,
    "start_time": "2023-05-22T18:19:00.450Z"
   },
   {
    "duration": 166,
    "start_time": "2023-05-22T18:19:04.178Z"
   },
   {
    "duration": 180,
    "start_time": "2023-05-22T18:19:04.345Z"
   },
   {
    "duration": 5206,
    "start_time": "2023-05-22T18:19:04.527Z"
   },
   {
    "duration": 5,
    "start_time": "2023-05-22T18:19:37.983Z"
   },
   {
    "duration": 793,
    "start_time": "2023-05-22T18:19:37.990Z"
   },
   {
    "duration": 29,
    "start_time": "2023-05-22T18:19:38.784Z"
   },
   {
    "duration": 10,
    "start_time": "2023-05-22T18:19:38.814Z"
   },
   {
    "duration": 10,
    "start_time": "2023-05-22T18:19:38.826Z"
   },
   {
    "duration": 5,
    "start_time": "2023-05-22T18:19:38.837Z"
   },
   {
    "duration": 1423,
    "start_time": "2023-05-22T18:19:59.548Z"
   },
   {
    "duration": 2260,
    "start_time": "2023-05-22T18:20:00.973Z"
   },
   {
    "duration": 26,
    "start_time": "2023-05-22T18:20:03.235Z"
   },
   {
    "duration": 32,
    "start_time": "2023-05-22T18:20:03.263Z"
   },
   {
    "duration": 18,
    "start_time": "2023-05-22T18:20:03.297Z"
   },
   {
    "duration": 42,
    "start_time": "2023-05-22T18:20:03.316Z"
   },
   {
    "duration": 1878,
    "start_time": "2023-05-22T18:20:03.359Z"
   },
   {
    "duration": 18,
    "start_time": "2023-05-22T18:20:05.238Z"
   },
   {
    "duration": 3797,
    "start_time": "2023-05-22T18:20:05.257Z"
   },
   {
    "duration": 173,
    "start_time": "2023-05-22T18:20:09.056Z"
   },
   {
    "duration": 181,
    "start_time": "2023-05-22T18:20:09.230Z"
   },
   {
    "duration": 73690,
    "start_time": "2023-05-22T18:20:09.413Z"
   },
   {
    "duration": 114,
    "start_time": "2023-05-22T18:24:25.988Z"
   },
   {
    "duration": 4,
    "start_time": "2023-05-22T18:24:49.993Z"
   },
   {
    "duration": 13,
    "start_time": "2023-05-22T18:24:53.987Z"
   },
   {
    "duration": 1566,
    "start_time": "2023-05-22T18:26:26.583Z"
   },
   {
    "duration": 907,
    "start_time": "2023-05-22T18:26:28.150Z"
   },
   {
    "duration": 39,
    "start_time": "2023-05-22T18:26:29.058Z"
   },
   {
    "duration": 11,
    "start_time": "2023-05-22T18:26:29.099Z"
   },
   {
    "duration": 15,
    "start_time": "2023-05-22T18:26:29.112Z"
   },
   {
    "duration": 254,
    "start_time": "2023-05-22T18:26:29.129Z"
   },
   {
    "duration": 231,
    "start_time": "2023-05-22T18:26:29.385Z"
   },
   {
    "duration": 5,
    "start_time": "2023-05-22T18:26:29.617Z"
   },
   {
    "duration": 1986,
    "start_time": "2023-05-22T18:26:29.623Z"
   },
   {
    "duration": 26,
    "start_time": "2023-05-22T18:26:31.612Z"
   },
   {
    "duration": 3900,
    "start_time": "2023-05-22T18:26:31.641Z"
   },
   {
    "duration": 75103,
    "start_time": "2023-05-22T18:26:35.543Z"
   },
   {
    "duration": 43,
    "start_time": "2023-05-22T18:28:12.204Z"
   },
   {
    "duration": 1379,
    "start_time": "2023-05-22T18:28:41.986Z"
   },
   {
    "duration": 2264,
    "start_time": "2023-05-22T18:28:43.367Z"
   },
   {
    "duration": 29,
    "start_time": "2023-05-22T18:28:45.633Z"
   },
   {
    "duration": 15,
    "start_time": "2023-05-22T18:28:45.663Z"
   },
   {
    "duration": 15,
    "start_time": "2023-05-22T18:28:45.679Z"
   },
   {
    "duration": 214,
    "start_time": "2023-05-22T18:28:45.696Z"
   },
   {
    "duration": 202,
    "start_time": "2023-05-22T18:28:45.911Z"
   },
   {
    "duration": 4,
    "start_time": "2023-05-22T18:28:46.115Z"
   },
   {
    "duration": 1866,
    "start_time": "2023-05-22T18:28:46.120Z"
   },
   {
    "duration": 8,
    "start_time": "2023-05-22T18:28:47.988Z"
   },
   {
    "duration": 3688,
    "start_time": "2023-05-22T18:28:47.997Z"
   },
   {
    "duration": 86375,
    "start_time": "2023-05-22T18:28:51.686Z"
   },
   {
    "duration": 58,
    "start_time": "2023-05-22T18:30:37.781Z"
   },
   {
    "duration": 7,
    "start_time": "2023-05-22T18:30:43.188Z"
   },
   {
    "duration": 1704,
    "start_time": "2023-05-22T18:31:01.250Z"
   },
   {
    "duration": 2587,
    "start_time": "2023-05-22T18:31:02.956Z"
   },
   {
    "duration": 36,
    "start_time": "2023-05-22T18:31:05.545Z"
   },
   {
    "duration": 27,
    "start_time": "2023-05-22T18:31:05.583Z"
   },
   {
    "duration": 26,
    "start_time": "2023-05-22T18:31:05.613Z"
   },
   {
    "duration": 267,
    "start_time": "2023-05-22T18:31:05.641Z"
   },
   {
    "duration": 246,
    "start_time": "2023-05-22T18:31:05.909Z"
   },
   {
    "duration": 4,
    "start_time": "2023-05-22T18:31:06.157Z"
   },
   {
    "duration": 2171,
    "start_time": "2023-05-22T18:31:06.163Z"
   },
   {
    "duration": 21,
    "start_time": "2023-05-22T18:31:08.336Z"
   },
   {
    "duration": 3769,
    "start_time": "2023-05-22T18:31:12.890Z"
   },
   {
    "duration": 89730,
    "start_time": "2023-05-22T18:31:17.537Z"
   },
   {
    "duration": 48,
    "start_time": "2023-05-22T18:33:03.369Z"
   },
   {
    "duration": 91,
    "start_time": "2023-05-22T18:33:06.359Z"
   },
   {
    "duration": 5,
    "start_time": "2023-05-22T18:33:52.045Z"
   },
   {
    "duration": 13,
    "start_time": "2023-05-22T18:33:55.287Z"
   },
   {
    "duration": 5,
    "start_time": "2023-05-22T18:35:10.303Z"
   },
   {
    "duration": 12,
    "start_time": "2023-05-22T18:35:21.603Z"
   },
   {
    "duration": 6602,
    "start_time": "2023-05-22T18:36:02.437Z"
   },
   {
    "duration": 12,
    "start_time": "2023-05-22T18:36:33.528Z"
   },
   {
    "duration": 11,
    "start_time": "2023-05-22T18:36:43.753Z"
   },
   {
    "duration": 84,
    "start_time": "2023-05-22T18:37:19.269Z"
   },
   {
    "duration": 5,
    "start_time": "2023-05-22T18:37:24.108Z"
   },
   {
    "duration": 12,
    "start_time": "2023-05-22T18:38:17.567Z"
   },
   {
    "duration": 4,
    "start_time": "2023-05-22T18:39:07.929Z"
   },
   {
    "duration": 4,
    "start_time": "2023-05-22T18:39:46.391Z"
   },
   {
    "duration": 9,
    "start_time": "2023-05-22T18:41:28.310Z"
   },
   {
    "duration": 15,
    "start_time": "2023-05-22T18:41:55.444Z"
   },
   {
    "duration": 15,
    "start_time": "2023-05-22T18:42:15.409Z"
   },
   {
    "duration": 74,
    "start_time": "2023-05-22T18:43:34.302Z"
   },
   {
    "duration": 2997,
    "start_time": "2023-05-22T18:43:46.011Z"
   },
   {
    "duration": 14,
    "start_time": "2023-05-22T18:43:56.106Z"
   },
   {
    "duration": 141,
    "start_time": "2023-05-22T18:45:47.847Z"
   },
   {
    "duration": 3,
    "start_time": "2023-05-22T18:46:33.180Z"
   },
   {
    "duration": 15,
    "start_time": "2023-05-22T18:46:42.908Z"
   },
   {
    "duration": 4,
    "start_time": "2023-05-22T18:47:11.448Z"
   },
   {
    "duration": 10,
    "start_time": "2023-05-22T18:47:17.735Z"
   },
   {
    "duration": 3,
    "start_time": "2023-05-22T18:47:52.977Z"
   },
   {
    "duration": 11,
    "start_time": "2023-05-22T18:48:01.374Z"
   },
   {
    "duration": 14,
    "start_time": "2023-05-22T18:48:26.100Z"
   },
   {
    "duration": 1385,
    "start_time": "2023-05-22T18:49:43.883Z"
   },
   {
    "duration": 863,
    "start_time": "2023-05-22T18:49:45.271Z"
   },
   {
    "duration": 36,
    "start_time": "2023-05-22T18:49:46.136Z"
   },
   {
    "duration": 13,
    "start_time": "2023-05-22T18:49:46.175Z"
   },
   {
    "duration": 7,
    "start_time": "2023-05-22T18:49:46.197Z"
   },
   {
    "duration": 232,
    "start_time": "2023-05-22T18:49:46.205Z"
   },
   {
    "duration": 202,
    "start_time": "2023-05-22T18:49:46.439Z"
   },
   {
    "duration": 4,
    "start_time": "2023-05-22T18:49:46.642Z"
   },
   {
    "duration": 10,
    "start_time": "2023-05-22T18:49:46.648Z"
   },
   {
    "duration": 14,
    "start_time": "2023-05-22T18:49:46.660Z"
   },
   {
    "duration": 3571,
    "start_time": "2023-05-22T18:49:46.677Z"
   },
   {
    "duration": 503,
    "start_time": "2023-05-22T18:49:50.250Z"
   },
   {
    "duration": 1192,
    "start_time": "2023-05-22T18:49:50.755Z"
   },
   {
    "duration": 0,
    "start_time": "2023-05-22T18:49:51.948Z"
   },
   {
    "duration": 0,
    "start_time": "2023-05-22T18:49:51.950Z"
   },
   {
    "duration": 0,
    "start_time": "2023-05-22T18:49:51.951Z"
   },
   {
    "duration": 225,
    "start_time": "2023-05-22T18:50:27.487Z"
   },
   {
    "duration": 75754,
    "start_time": "2023-05-22T18:50:33.778Z"
   },
   {
    "duration": 29,
    "start_time": "2023-05-22T18:53:44.614Z"
   },
   {
    "duration": 4,
    "start_time": "2023-05-22T18:53:48.265Z"
   },
   {
    "duration": 5267,
    "start_time": "2023-05-22T18:55:34.571Z"
   },
   {
    "duration": 145,
    "start_time": "2023-05-22T18:58:29.714Z"
   },
   {
    "duration": 194118,
    "start_time": "2023-05-22T18:58:53.879Z"
   },
   {
    "duration": 6,
    "start_time": "2023-05-22T19:02:08.001Z"
   },
   {
    "duration": 194,
    "start_time": "2023-05-22T19:02:08.009Z"
   },
   {
    "duration": 16,
    "start_time": "2023-05-22T19:03:50.635Z"
   },
   {
    "duration": 12,
    "start_time": "2023-05-22T19:06:56.104Z"
   },
   {
    "duration": 9,
    "start_time": "2023-05-22T19:08:09.016Z"
   },
   {
    "duration": 4,
    "start_time": "2023-05-22T19:08:42.062Z"
   },
   {
    "duration": 14,
    "start_time": "2023-05-22T19:08:49.173Z"
   },
   {
    "duration": 1498,
    "start_time": "2023-05-22T19:15:57.799Z"
   },
   {
    "duration": 928,
    "start_time": "2023-05-22T19:15:59.299Z"
   },
   {
    "duration": 32,
    "start_time": "2023-05-22T19:16:00.229Z"
   },
   {
    "duration": 30,
    "start_time": "2023-05-22T19:16:00.263Z"
   },
   {
    "duration": 42,
    "start_time": "2023-05-22T19:16:00.295Z"
   },
   {
    "duration": 241,
    "start_time": "2023-05-22T19:16:00.339Z"
   },
   {
    "duration": 207,
    "start_time": "2023-05-22T19:16:00.582Z"
   },
   {
    "duration": 1607,
    "start_time": "2023-05-22T19:16:22.997Z"
   },
   {
    "duration": 2263,
    "start_time": "2023-05-22T19:16:24.605Z"
   },
   {
    "duration": 32,
    "start_time": "2023-05-22T19:16:26.869Z"
   },
   {
    "duration": 12,
    "start_time": "2023-05-22T19:16:26.903Z"
   },
   {
    "duration": 10,
    "start_time": "2023-05-22T19:16:26.918Z"
   },
   {
    "duration": 239,
    "start_time": "2023-05-22T19:16:26.930Z"
   },
   {
    "duration": 228,
    "start_time": "2023-05-22T19:16:27.171Z"
   },
   {
    "duration": 134,
    "start_time": "2023-05-22T19:21:10.946Z"
   },
   {
    "duration": 1710,
    "start_time": "2023-05-22T19:21:34.665Z"
   },
   {
    "duration": 5,
    "start_time": "2023-05-22T19:22:10.934Z"
   },
   {
    "duration": 2236,
    "start_time": "2023-05-22T19:22:13.311Z"
   },
   {
    "duration": 32,
    "start_time": "2023-05-22T19:22:22.060Z"
   },
   {
    "duration": 11,
    "start_time": "2023-05-22T19:22:22.975Z"
   },
   {
    "duration": 8,
    "start_time": "2023-05-22T19:22:23.782Z"
   },
   {
    "duration": 228,
    "start_time": "2023-05-22T19:22:24.656Z"
   },
   {
    "duration": 191,
    "start_time": "2023-05-22T19:22:29.986Z"
   },
   {
    "duration": 1580,
    "start_time": "2023-05-22T19:23:02.638Z"
   },
   {
    "duration": 2230,
    "start_time": "2023-05-22T19:23:04.220Z"
   },
   {
    "duration": 28,
    "start_time": "2023-05-22T19:23:06.452Z"
   },
   {
    "duration": 9,
    "start_time": "2023-05-22T19:23:06.482Z"
   },
   {
    "duration": 9,
    "start_time": "2023-05-22T19:23:06.493Z"
   },
   {
    "duration": 246,
    "start_time": "2023-05-22T19:23:06.504Z"
   },
   {
    "duration": 195,
    "start_time": "2023-05-22T19:23:06.752Z"
   },
   {
    "duration": 1604,
    "start_time": "2023-05-22T19:44:24.340Z"
   },
   {
    "duration": 2380,
    "start_time": "2023-05-22T19:44:26.624Z"
   },
   {
    "duration": 3,
    "start_time": "2023-05-22T19:44:41.175Z"
   },
   {
    "duration": 80379,
    "start_time": "2023-05-22T19:44:58.733Z"
   },
   {
    "duration": 30,
    "start_time": "2023-05-22T19:46:19.113Z"
   },
   {
    "duration": 2,
    "start_time": "2023-05-22T19:46:19.145Z"
   },
   {
    "duration": 19,
    "start_time": "2023-05-22T19:47:04.814Z"
   },
   {
    "duration": 5270,
    "start_time": "2023-05-22T19:47:06.001Z"
   },
   {
    "duration": 1346,
    "start_time": "2023-05-22T19:47:12.212Z"
   },
   {
    "duration": 9,
    "start_time": "2023-05-22T19:50:34.502Z"
   },
   {
    "duration": 192100,
    "start_time": "2023-05-22T19:50:34.598Z"
   },
   {
    "duration": 131,
    "start_time": "2023-05-22T19:54:06.754Z"
   },
   {
    "duration": 806,
    "start_time": "2023-05-22T19:54:10.749Z"
   },
   {
    "duration": 29,
    "start_time": "2023-05-22T19:54:11.827Z"
   },
   {
    "duration": 10,
    "start_time": "2023-05-22T19:54:49.052Z"
   },
   {
    "duration": 7,
    "start_time": "2023-05-22T19:55:00.710Z"
   },
   {
    "duration": 1638,
    "start_time": "2023-05-22T19:55:54.609Z"
   },
   {
    "duration": 904,
    "start_time": "2023-05-22T19:55:56.861Z"
   },
   {
    "duration": 33,
    "start_time": "2023-05-22T19:56:00.772Z"
   },
   {
    "duration": 11,
    "start_time": "2023-05-22T19:56:02.112Z"
   },
   {
    "duration": 6,
    "start_time": "2023-05-22T19:56:02.746Z"
   },
   {
    "duration": 226,
    "start_time": "2023-05-22T19:56:03.545Z"
   },
   {
    "duration": 204,
    "start_time": "2023-05-22T19:56:05.065Z"
   },
   {
    "duration": 11,
    "start_time": "2023-05-22T20:00:11.904Z"
   },
   {
    "duration": 34,
    "start_time": "2023-05-22T20:00:15.044Z"
   },
   {
    "duration": 194188,
    "start_time": "2023-05-22T20:02:08.956Z"
   },
   {
    "duration": 12,
    "start_time": "2023-05-22T20:05:39.357Z"
   },
   {
    "duration": 31,
    "start_time": "2023-05-22T20:07:37.900Z"
   },
   {
    "duration": 22,
    "start_time": "2023-05-22T20:08:21.082Z"
   },
   {
    "duration": 3,
    "start_time": "2023-05-22T20:09:03.750Z"
   },
   {
    "duration": 278,
    "start_time": "2023-05-22T20:09:28.163Z"
   },
   {
    "duration": 382,
    "start_time": "2023-05-22T20:17:39.476Z"
   },
   {
    "duration": 387,
    "start_time": "2023-05-22T20:18:30.691Z"
   },
   {
    "duration": 115,
    "start_time": "2023-05-22T20:28:24.799Z"
   },
   {
    "duration": 31,
    "start_time": "2023-05-22T20:31:34.887Z"
   },
   {
    "duration": 4,
    "start_time": "2023-05-22T20:31:36.511Z"
   },
   {
    "duration": 277,
    "start_time": "2023-05-22T20:31:58.523Z"
   },
   {
    "duration": 4412,
    "start_time": "2023-05-22T20:34:02.864Z"
   },
   {
    "duration": 5735,
    "start_time": "2023-05-22T20:35:04.211Z"
   },
   {
    "duration": 101267,
    "start_time": "2023-05-22T20:42:14.151Z"
   },
   {
    "duration": 2478,
    "start_time": "2023-05-22T20:44:55.462Z"
   },
   {
    "duration": 10,
    "start_time": "2023-05-22T20:47:11.504Z"
   },
   {
    "duration": 174808,
    "start_time": "2023-05-22T20:47:39.993Z"
   },
   {
    "duration": 87047,
    "start_time": "2023-05-22T20:51:40.188Z"
   },
   {
    "duration": 390,
    "start_time": "2023-05-22T20:53:10.207Z"
   },
   {
    "duration": 75,
    "start_time": "2023-05-22T20:53:48.941Z"
   },
   {
    "duration": 116,
    "start_time": "2023-05-22T20:54:00.627Z"
   },
   {
    "duration": 72,
    "start_time": "2023-05-22T20:54:13.870Z"
   },
   {
    "duration": 330,
    "start_time": "2023-05-22T20:54:41.269Z"
   },
   {
    "duration": 312,
    "start_time": "2023-05-22T20:55:11.727Z"
   },
   {
    "duration": 392,
    "start_time": "2023-05-22T20:55:25.981Z"
   },
   {
    "duration": 78,
    "start_time": "2023-05-22T20:56:25.486Z"
   },
   {
    "duration": 91,
    "start_time": "2023-05-22T20:56:46.764Z"
   },
   {
    "duration": 2371,
    "start_time": "2023-05-22T20:57:03.527Z"
   },
   {
    "duration": 14,
    "start_time": "2023-05-22T20:57:36.331Z"
   },
   {
    "duration": 12,
    "start_time": "2023-05-22T20:59:11.427Z"
   },
   {
    "duration": 34054,
    "start_time": "2023-05-22T21:04:00.627Z"
   },
   {
    "duration": 33344,
    "start_time": "2023-05-22T21:05:15.510Z"
   },
   {
    "duration": 34230,
    "start_time": "2023-05-22T21:07:03.192Z"
   },
   {
    "duration": 119,
    "start_time": "2023-05-22T21:11:29.710Z"
   },
   {
    "duration": 321,
    "start_time": "2023-05-22T21:12:19.838Z"
   },
   {
    "duration": 34753,
    "start_time": "2023-05-22T21:12:29.157Z"
   },
   {
    "duration": 417,
    "start_time": "2023-05-22T21:13:20.452Z"
   },
   {
    "duration": 383,
    "start_time": "2023-05-22T21:13:51.776Z"
   },
   {
    "duration": 312,
    "start_time": "2023-05-22T21:14:19.576Z"
   },
   {
    "duration": 381,
    "start_time": "2023-05-22T21:14:32.672Z"
   },
   {
    "duration": 1648,
    "start_time": "2023-05-22T21:14:44.090Z"
   },
   {
    "duration": 897,
    "start_time": "2023-05-22T21:14:45.740Z"
   },
   {
    "duration": 26,
    "start_time": "2023-05-22T21:14:46.639Z"
   },
   {
    "duration": 16,
    "start_time": "2023-05-22T21:14:46.667Z"
   },
   {
    "duration": 23,
    "start_time": "2023-05-22T21:14:46.685Z"
   },
   {
    "duration": 229,
    "start_time": "2023-05-22T21:14:46.709Z"
   },
   {
    "duration": 229,
    "start_time": "2023-05-22T21:14:46.940Z"
   },
   {
    "duration": 3,
    "start_time": "2023-05-22T21:14:47.171Z"
   },
   {
    "duration": 198094,
    "start_time": "2023-05-22T21:14:47.176Z"
   },
   {
    "duration": 13,
    "start_time": "2023-05-22T21:18:05.274Z"
   },
   {
    "duration": 11,
    "start_time": "2023-05-22T21:18:05.289Z"
   },
   {
    "duration": 182,
    "start_time": "2023-05-22T21:18:05.302Z"
   },
   {
    "duration": 0,
    "start_time": "2023-05-22T21:18:05.486Z"
   },
   {
    "duration": 0,
    "start_time": "2023-05-22T21:18:05.488Z"
   },
   {
    "duration": 0,
    "start_time": "2023-05-22T21:18:05.489Z"
   },
   {
    "duration": 0,
    "start_time": "2023-05-22T21:18:05.490Z"
   },
   {
    "duration": 0,
    "start_time": "2023-05-22T21:18:05.492Z"
   },
   {
    "duration": 10,
    "start_time": "2023-05-22T21:18:53.836Z"
   },
   {
    "duration": 10,
    "start_time": "2023-05-22T21:20:31.830Z"
   },
   {
    "duration": 23,
    "start_time": "2023-05-22T21:20:49.827Z"
   },
   {
    "duration": 4,
    "start_time": "2023-05-22T21:20:50.929Z"
   },
   {
    "duration": 281,
    "start_time": "2023-05-22T21:20:53.524Z"
   },
   {
    "duration": 305,
    "start_time": "2023-05-22T21:20:56.738Z"
   },
   {
    "duration": 411,
    "start_time": "2023-05-22T21:21:01.540Z"
   },
   {
    "duration": 2,
    "start_time": "2023-05-22T21:21:12.353Z"
   },
   {
    "duration": 3,
    "start_time": "2023-05-22T21:21:19.386Z"
   },
   {
    "duration": 4,
    "start_time": "2023-05-22T21:21:26.538Z"
   },
   {
    "duration": 410,
    "start_time": "2023-05-22T21:21:38.921Z"
   },
   {
    "duration": 380,
    "start_time": "2023-05-22T21:22:03.812Z"
   },
   {
    "duration": 380,
    "start_time": "2023-05-22T21:24:55.054Z"
   },
   {
    "duration": 392,
    "start_time": "2023-05-22T21:25:16.620Z"
   },
   {
    "duration": 3,
    "start_time": "2023-05-22T21:25:36.115Z"
   },
   {
    "duration": 450,
    "start_time": "2023-05-22T21:26:01.707Z"
   },
   {
    "duration": 387,
    "start_time": "2023-05-22T21:26:08.625Z"
   },
   {
    "duration": 378,
    "start_time": "2023-05-22T21:26:51.395Z"
   },
   {
    "duration": 11,
    "start_time": "2023-05-22T21:29:00.548Z"
   },
   {
    "duration": 21,
    "start_time": "2023-05-22T21:29:57.201Z"
   },
   {
    "duration": 18662,
    "start_time": "2023-05-22T21:30:25.091Z"
   },
   {
    "duration": 4532,
    "start_time": "2023-05-22T21:32:29.176Z"
   },
   {
    "duration": 78869,
    "start_time": "2023-05-22T21:35:43.133Z"
   },
   {
    "duration": 4,
    "start_time": "2023-05-22T21:37:28.853Z"
   },
   {
    "duration": 334,
    "start_time": "2023-05-22T21:37:41.822Z"
   },
   {
    "duration": 74,
    "start_time": "2023-05-22T21:39:02.110Z"
   },
   {
    "duration": 3,
    "start_time": "2023-05-22T21:39:13.638Z"
   },
   {
    "duration": 10,
    "start_time": "2023-05-22T21:40:07.319Z"
   },
   {
    "duration": 1702,
    "start_time": "2023-05-22T21:40:31.010Z"
   },
   {
    "duration": 2015,
    "start_time": "2023-05-22T21:40:45.817Z"
   },
   {
    "duration": 1702,
    "start_time": "2023-05-22T21:41:04.122Z"
   },
   {
    "duration": 15,
    "start_time": "2023-05-22T21:41:41.124Z"
   },
   {
    "duration": 4,
    "start_time": "2023-05-22T21:41:45.157Z"
   },
   {
    "duration": 3,
    "start_time": "2023-05-22T21:41:52.121Z"
   },
   {
    "duration": 25,
    "start_time": "2023-05-22T21:41:57.317Z"
   },
   {
    "duration": 4,
    "start_time": "2023-05-22T21:41:58.435Z"
   },
   {
    "duration": 1834,
    "start_time": "2023-05-22T21:42:25.725Z"
   },
   {
    "duration": 908,
    "start_time": "2023-05-22T21:42:27.560Z"
   },
   {
    "duration": 24,
    "start_time": "2023-05-22T21:42:28.470Z"
   },
   {
    "duration": 18,
    "start_time": "2023-05-22T21:42:28.498Z"
   },
   {
    "duration": 17,
    "start_time": "2023-05-22T21:42:28.518Z"
   },
   {
    "duration": 221,
    "start_time": "2023-05-22T21:42:28.537Z"
   },
   {
    "duration": 202,
    "start_time": "2023-05-22T21:42:28.760Z"
   },
   {
    "duration": 4,
    "start_time": "2023-05-22T21:42:28.964Z"
   },
   {
    "duration": 201723,
    "start_time": "2023-05-22T21:42:28.969Z"
   },
   {
    "duration": 16,
    "start_time": "2023-05-22T21:45:50.695Z"
   },
   {
    "duration": 23,
    "start_time": "2023-05-22T21:45:50.718Z"
   },
   {
    "duration": 25,
    "start_time": "2023-05-22T21:45:50.742Z"
   },
   {
    "duration": 4,
    "start_time": "2023-05-22T21:45:50.769Z"
   },
   {
    "duration": 318,
    "start_time": "2023-05-22T21:45:50.774Z"
   },
   {
    "duration": 354,
    "start_time": "2023-05-22T21:45:51.094Z"
   },
   {
    "duration": 80602,
    "start_time": "2023-05-22T21:46:57.924Z"
   },
   {
    "duration": 2327,
    "start_time": "2023-05-22T21:49:02.522Z"
   },
   {
    "duration": 4,
    "start_time": "2023-05-22T21:49:25.922Z"
   },
   {
    "duration": 3,
    "start_time": "2023-05-22T21:49:32.884Z"
   },
   {
    "duration": 4,
    "start_time": "2023-05-22T21:50:09.208Z"
   },
   {
    "duration": 5,
    "start_time": "2023-05-22T21:50:50.852Z"
   },
   {
    "duration": 10,
    "start_time": "2023-05-22T21:56:36.322Z"
   },
   {
    "duration": 10,
    "start_time": "2023-05-22T21:56:52.164Z"
   },
   {
    "duration": 16,
    "start_time": "2023-05-22T21:58:02.859Z"
   },
   {
    "duration": 19,
    "start_time": "2023-05-22T21:58:21.612Z"
   },
   {
    "duration": 6,
    "start_time": "2023-05-22T21:58:58.718Z"
   },
   {
    "duration": 839,
    "start_time": "2023-05-22T21:58:58.726Z"
   },
   {
    "duration": 23,
    "start_time": "2023-05-22T21:58:59.567Z"
   },
   {
    "duration": 31,
    "start_time": "2023-05-22T21:58:59.601Z"
   },
   {
    "duration": 11,
    "start_time": "2023-05-22T21:58:59.634Z"
   },
   {
    "duration": 215,
    "start_time": "2023-05-22T21:58:59.646Z"
   },
   {
    "duration": 202,
    "start_time": "2023-05-22T21:58:59.863Z"
   },
   {
    "duration": 3,
    "start_time": "2023-05-22T21:59:00.066Z"
   },
   {
    "duration": 1826,
    "start_time": "2023-05-22T22:01:26.252Z"
   },
   {
    "duration": 1104,
    "start_time": "2023-05-22T22:01:28.080Z"
   },
   {
    "duration": 49,
    "start_time": "2023-05-22T22:01:29.185Z"
   },
   {
    "duration": 17,
    "start_time": "2023-05-22T22:01:29.236Z"
   },
   {
    "duration": 7,
    "start_time": "2023-05-22T22:01:29.387Z"
   },
   {
    "duration": 244,
    "start_time": "2023-05-22T22:01:30.039Z"
   },
   {
    "duration": 223,
    "start_time": "2023-05-22T22:01:31.058Z"
   },
   {
    "duration": 4,
    "start_time": "2023-05-22T22:01:33.023Z"
   },
   {
    "duration": 203549,
    "start_time": "2023-05-22T22:01:36.542Z"
   },
   {
    "duration": 19,
    "start_time": "2023-05-22T22:05:00.093Z"
   },
   {
    "duration": 49,
    "start_time": "2023-05-22T22:05:00.113Z"
   },
   {
    "duration": 64,
    "start_time": "2023-05-22T22:05:00.164Z"
   },
   {
    "duration": 25,
    "start_time": "2023-05-22T22:05:00.229Z"
   },
   {
    "duration": 496,
    "start_time": "2023-05-22T22:05:00.256Z"
   },
   {
    "duration": 36,
    "start_time": "2023-05-22T22:05:24.595Z"
   },
   {
    "duration": 22,
    "start_time": "2023-05-22T22:05:45.870Z"
   },
   {
    "duration": 31,
    "start_time": "2023-05-22T22:05:54.691Z"
   },
   {
    "duration": 24,
    "start_time": "2023-05-22T22:08:36.896Z"
   },
   {
    "duration": 28,
    "start_time": "2023-05-22T22:08:44.286Z"
   },
   {
    "duration": 12,
    "start_time": "2023-05-22T22:08:46.295Z"
   },
   {
    "duration": 376,
    "start_time": "2023-05-22T22:08:51.958Z"
   },
   {
    "duration": 4,
    "start_time": "2023-05-22T22:08:57.386Z"
   },
   {
    "duration": 15,
    "start_time": "2023-05-22T22:09:27.070Z"
   },
   {
    "duration": 98430,
    "start_time": "2023-05-22T22:10:34.703Z"
   },
   {
    "duration": 1638,
    "start_time": "2023-05-22T22:12:54.424Z"
   },
   {
    "duration": 993,
    "start_time": "2023-05-22T22:12:56.064Z"
   },
   {
    "duration": 29,
    "start_time": "2023-05-22T22:12:57.059Z"
   },
   {
    "duration": 13,
    "start_time": "2023-05-22T22:12:57.089Z"
   },
   {
    "duration": 34,
    "start_time": "2023-05-22T22:12:57.103Z"
   },
   {
    "duration": 236,
    "start_time": "2023-05-22T22:12:57.138Z"
   },
   {
    "duration": 206,
    "start_time": "2023-05-22T22:12:57.375Z"
   },
   {
    "duration": 4,
    "start_time": "2023-05-22T22:12:57.583Z"
   },
   {
    "duration": 204078,
    "start_time": "2023-05-22T22:12:57.589Z"
   },
   {
    "duration": 5,
    "start_time": "2023-05-22T22:16:28.536Z"
   },
   {
    "duration": 13,
    "start_time": "2023-05-22T22:16:37.294Z"
   },
   {
    "duration": 3,
    "start_time": "2023-05-22T22:16:42.048Z"
   },
   {
    "duration": 17,
    "start_time": "2023-05-22T22:16:43.617Z"
   },
   {
    "duration": 10,
    "start_time": "2023-05-22T22:16:47.012Z"
   },
   {
    "duration": 310,
    "start_time": "2023-05-22T22:16:54.083Z"
   },
   {
    "duration": 4,
    "start_time": "2023-05-22T22:16:57.437Z"
   },
   {
    "duration": 5397,
    "start_time": "2023-05-22T22:22:07.889Z"
   },
   {
    "duration": 19501,
    "start_time": "2023-05-22T22:22:24.837Z"
   },
   {
    "duration": 20275,
    "start_time": "2023-05-22T22:23:10.188Z"
   },
   {
    "duration": 19403,
    "start_time": "2023-05-22T22:24:15.332Z"
   },
   {
    "duration": 1606,
    "start_time": "2023-05-24T20:25:55.157Z"
   },
   {
    "duration": 2385,
    "start_time": "2023-05-24T20:25:56.765Z"
   },
   {
    "duration": 27,
    "start_time": "2023-05-24T20:25:59.151Z"
   },
   {
    "duration": 9,
    "start_time": "2023-05-24T20:25:59.180Z"
   },
   {
    "duration": 13,
    "start_time": "2023-05-24T20:25:59.190Z"
   },
   {
    "duration": 218,
    "start_time": "2023-05-24T20:25:59.204Z"
   },
   {
    "duration": 191,
    "start_time": "2023-05-24T20:25:59.424Z"
   },
   {
    "duration": 3,
    "start_time": "2023-05-24T20:25:59.617Z"
   },
   {
    "duration": 183752,
    "start_time": "2023-05-24T20:25:59.621Z"
   },
   {
    "duration": 12,
    "start_time": "2023-05-24T20:29:03.376Z"
   },
   {
    "duration": 11,
    "start_time": "2023-05-24T20:29:03.389Z"
   },
   {
    "duration": 25,
    "start_time": "2023-05-24T20:29:03.401Z"
   },
   {
    "duration": 4,
    "start_time": "2023-05-24T20:29:03.427Z"
   },
   {
    "duration": 289,
    "start_time": "2023-05-24T20:29:03.433Z"
   },
   {
    "duration": 4,
    "start_time": "2023-05-24T20:29:03.723Z"
   },
   {
    "duration": 310,
    "start_time": "2023-05-24T20:29:03.729Z"
   },
   {
    "duration": 10588,
    "start_time": "2023-05-24T20:29:24.210Z"
   },
   {
    "duration": 88,
    "start_time": "2023-05-24T20:31:02.624Z"
   },
   {
    "duration": 23409,
    "start_time": "2023-05-24T20:31:11.951Z"
   },
   {
    "duration": 1454,
    "start_time": "2023-05-24T20:42:10.660Z"
   },
   {
    "duration": 851,
    "start_time": "2023-05-24T20:42:12.116Z"
   },
   {
    "duration": 31,
    "start_time": "2023-05-24T20:42:12.969Z"
   },
   {
    "duration": 12,
    "start_time": "2023-05-24T20:42:13.001Z"
   },
   {
    "duration": 8,
    "start_time": "2023-05-24T20:42:13.015Z"
   },
   {
    "duration": 231,
    "start_time": "2023-05-24T20:42:13.025Z"
   },
   {
    "duration": 197,
    "start_time": "2023-05-24T20:42:13.258Z"
   },
   {
    "duration": 4,
    "start_time": "2023-05-24T20:42:13.456Z"
   },
   {
    "duration": 1486,
    "start_time": "2023-05-24T20:43:19.210Z"
   },
   {
    "duration": 861,
    "start_time": "2023-05-24T20:43:20.698Z"
   },
   {
    "duration": 36,
    "start_time": "2023-05-24T20:43:21.561Z"
   },
   {
    "duration": 10,
    "start_time": "2023-05-24T20:43:21.599Z"
   },
   {
    "duration": 12,
    "start_time": "2023-05-24T20:43:21.611Z"
   },
   {
    "duration": 224,
    "start_time": "2023-05-24T20:43:21.625Z"
   },
   {
    "duration": 195,
    "start_time": "2023-05-24T20:43:21.850Z"
   },
   {
    "duration": 5,
    "start_time": "2023-05-24T20:43:22.047Z"
   },
   {
    "duration": 178638,
    "start_time": "2023-05-24T20:43:22.054Z"
   },
   {
    "duration": 12,
    "start_time": "2023-05-24T20:46:20.694Z"
   },
   {
    "duration": 5,
    "start_time": "2023-05-24T20:46:20.707Z"
   },
   {
    "duration": 29,
    "start_time": "2023-05-24T20:46:20.714Z"
   },
   {
    "duration": 5,
    "start_time": "2023-05-24T20:46:20.745Z"
   },
   {
    "duration": 275,
    "start_time": "2023-05-24T20:46:20.752Z"
   },
   {
    "duration": 4,
    "start_time": "2023-05-24T20:46:28.852Z"
   },
   {
    "duration": 10592,
    "start_time": "2023-05-24T20:46:37.609Z"
   },
   {
    "duration": 3804,
    "start_time": "2023-05-24T20:46:48.203Z"
   },
   {
    "duration": 4,
    "start_time": "2023-05-24T20:47:20.681Z"
   },
   {
    "duration": 15946,
    "start_time": "2023-05-24T20:47:53.996Z"
   },
   {
    "duration": 4224,
    "start_time": "2023-05-24T20:49:12.408Z"
   },
   {
    "duration": 12314,
    "start_time": "2023-05-24T20:50:10.388Z"
   },
   {
    "duration": 74,
    "start_time": "2023-05-24T20:51:28.485Z"
   },
   {
    "duration": 79,
    "start_time": "2023-05-24T20:51:38.052Z"
   },
   {
    "duration": 1713,
    "start_time": "2023-05-24T21:09:56.997Z"
   },
   {
    "duration": 851,
    "start_time": "2023-05-24T21:09:58.711Z"
   },
   {
    "duration": 33,
    "start_time": "2023-05-24T21:09:59.564Z"
   },
   {
    "duration": 10,
    "start_time": "2023-05-24T21:09:59.599Z"
   },
   {
    "duration": 9,
    "start_time": "2023-05-24T21:09:59.610Z"
   },
   {
    "duration": 219,
    "start_time": "2023-05-24T21:09:59.620Z"
   },
   {
    "duration": 196,
    "start_time": "2023-05-24T21:09:59.840Z"
   },
   {
    "duration": 3,
    "start_time": "2023-05-24T21:10:00.038Z"
   },
   {
    "duration": 179924,
    "start_time": "2023-05-24T21:10:00.042Z"
   },
   {
    "duration": 10,
    "start_time": "2023-05-24T21:12:59.968Z"
   },
   {
    "duration": 3,
    "start_time": "2023-05-24T21:12:59.979Z"
   },
   {
    "duration": 26,
    "start_time": "2023-05-24T21:12:59.983Z"
   },
   {
    "duration": 4,
    "start_time": "2023-05-24T21:13:00.011Z"
   },
   {
    "duration": 280,
    "start_time": "2023-05-24T21:13:00.017Z"
   },
   {
    "duration": 4,
    "start_time": "2023-05-24T21:17:21.914Z"
   },
   {
    "duration": 185,
    "start_time": "2023-05-24T21:17:27.312Z"
   },
   {
    "duration": 1524,
    "start_time": "2023-05-24T21:17:51.195Z"
   },
   {
    "duration": 840,
    "start_time": "2023-05-24T21:17:52.721Z"
   },
   {
    "duration": 23,
    "start_time": "2023-05-24T21:17:53.562Z"
   },
   {
    "duration": 18,
    "start_time": "2023-05-24T21:17:53.587Z"
   },
   {
    "duration": 11,
    "start_time": "2023-05-24T21:17:53.606Z"
   },
   {
    "duration": 211,
    "start_time": "2023-05-24T21:17:53.618Z"
   },
   {
    "duration": 3,
    "start_time": "2023-05-24T21:17:53.831Z"
   },
   {
    "duration": 180627,
    "start_time": "2023-05-24T21:17:53.836Z"
   },
   {
    "duration": 13,
    "start_time": "2023-05-24T21:20:54.465Z"
   },
   {
    "duration": 4,
    "start_time": "2023-05-24T21:20:54.481Z"
   },
   {
    "duration": 17,
    "start_time": "2023-05-24T21:20:54.497Z"
   },
   {
    "duration": 10,
    "start_time": "2023-05-24T21:20:54.516Z"
   },
   {
    "duration": 314,
    "start_time": "2023-05-24T21:20:54.527Z"
   },
   {
    "duration": 4,
    "start_time": "2023-05-24T21:21:33.959Z"
   },
   {
    "duration": 317,
    "start_time": "2023-05-24T21:22:31.356Z"
   },
   {
    "duration": 120,
    "start_time": "2023-05-24T21:26:54.408Z"
   },
   {
    "duration": 10,
    "start_time": "2023-05-24T21:27:52.009Z"
   },
   {
    "duration": 114847,
    "start_time": "2023-05-24T21:36:55.259Z"
   },
   {
    "duration": 34,
    "start_time": "2023-05-24T21:39:07.927Z"
   },
   {
    "duration": 18575,
    "start_time": "2023-05-24T21:39:25.973Z"
   },
   {
    "duration": 32487,
    "start_time": "2023-05-24T21:40:30.641Z"
   },
   {
    "duration": 167,
    "start_time": "2023-05-24T21:41:59.896Z"
   },
   {
    "duration": 154,
    "start_time": "2023-05-24T21:47:06.794Z"
   },
   {
    "duration": 78,
    "start_time": "2023-05-24T21:47:33.056Z"
   },
   {
    "duration": 1876,
    "start_time": "2023-05-24T21:47:56.548Z"
   },
   {
    "duration": 1052,
    "start_time": "2023-05-24T21:47:58.427Z"
   },
   {
    "duration": 37,
    "start_time": "2023-05-24T21:47:59.481Z"
   },
   {
    "duration": 12,
    "start_time": "2023-05-24T21:47:59.520Z"
   },
   {
    "duration": 16,
    "start_time": "2023-05-24T21:47:59.537Z"
   },
   {
    "duration": 267,
    "start_time": "2023-05-24T21:47:59.555Z"
   },
   {
    "duration": 5,
    "start_time": "2023-05-24T21:47:59.825Z"
   },
   {
    "duration": 205353,
    "start_time": "2023-05-24T21:47:59.832Z"
   },
   {
    "duration": 14,
    "start_time": "2023-05-24T21:51:25.188Z"
   },
   {
    "duration": 7,
    "start_time": "2023-05-24T21:51:25.204Z"
   },
   {
    "duration": 26,
    "start_time": "2023-05-24T21:51:25.213Z"
   },
   {
    "duration": 5,
    "start_time": "2023-05-24T21:51:25.241Z"
   },
   {
    "duration": 367,
    "start_time": "2023-05-24T21:51:25.248Z"
   },
   {
    "duration": 5,
    "start_time": "2023-05-24T21:51:25.618Z"
   },
   {
    "duration": 398,
    "start_time": "2023-05-24T21:51:25.625Z"
   },
   {
    "duration": 21086,
    "start_time": "2023-05-24T21:51:26.025Z"
   },
   {
    "duration": 3896,
    "start_time": "2023-05-24T21:51:47.114Z"
   },
   {
    "duration": 12086,
    "start_time": "2023-05-24T21:51:51.012Z"
   },
   {
    "duration": 200,
    "start_time": "2023-05-24T21:52:36.490Z"
   },
   {
    "duration": 18191,
    "start_time": "2023-05-24T21:52:36.693Z"
   },
   {
    "duration": 1,
    "start_time": "2023-05-24T21:52:54.885Z"
   },
   {
    "duration": 33228,
    "start_time": "2023-05-24T21:53:00.484Z"
   },
   {
    "duration": 135,
    "start_time": "2023-05-24T21:53:38.755Z"
   },
   {
    "duration": 11,
    "start_time": "2023-05-24T21:57:24.957Z"
   },
   {
    "duration": 145,
    "start_time": "2023-05-24T22:14:57.435Z"
   },
   {
    "duration": 11,
    "start_time": "2023-05-24T22:14:58.585Z"
   },
   {
    "duration": 13,
    "start_time": "2023-05-24T22:15:37.475Z"
   },
   {
    "duration": 4,
    "start_time": "2023-05-24T22:15:56.186Z"
   },
   {
    "duration": 9,
    "start_time": "2023-05-24T22:16:07.091Z"
   },
   {
    "duration": 4,
    "start_time": "2023-05-24T22:16:21.812Z"
   },
   {
    "duration": 4,
    "start_time": "2023-05-24T22:16:37.897Z"
   },
   {
    "duration": 4,
    "start_time": "2023-05-24T22:17:12.034Z"
   },
   {
    "duration": 4,
    "start_time": "2023-05-24T22:17:23.477Z"
   },
   {
    "duration": 4,
    "start_time": "2023-05-24T22:17:53.186Z"
   },
   {
    "duration": 10,
    "start_time": "2023-05-24T22:18:15.942Z"
   },
   {
    "duration": 5,
    "start_time": "2023-05-24T22:18:30.602Z"
   },
   {
    "duration": 5,
    "start_time": "2023-05-24T22:18:57.200Z"
   },
   {
    "duration": 5,
    "start_time": "2023-05-24T22:19:09.783Z"
   },
   {
    "duration": 4,
    "start_time": "2023-05-24T22:19:19.872Z"
   },
   {
    "duration": 12,
    "start_time": "2023-05-24T22:21:42.987Z"
   },
   {
    "duration": 11,
    "start_time": "2023-05-24T22:21:47.116Z"
   },
   {
    "duration": 4,
    "start_time": "2023-05-24T22:22:11.066Z"
   },
   {
    "duration": 11,
    "start_time": "2023-05-24T22:24:10.106Z"
   },
   {
    "duration": 12,
    "start_time": "2023-05-24T22:24:16.025Z"
   },
   {
    "duration": 4,
    "start_time": "2023-05-24T22:24:21.553Z"
   },
   {
    "duration": 5,
    "start_time": "2023-05-24T22:25:35.068Z"
   },
   {
    "duration": 13443,
    "start_time": "2023-05-24T22:26:08.066Z"
   },
   {
    "duration": 4017,
    "start_time": "2023-05-24T22:26:41.692Z"
   },
   {
    "duration": 914,
    "start_time": "2023-05-24T22:30:42.794Z"
   },
   {
    "duration": 4,
    "start_time": "2023-05-24T22:34:42.302Z"
   },
   {
    "duration": 7,
    "start_time": "2023-05-24T22:34:53.109Z"
   },
   {
    "duration": 1748,
    "start_time": "2023-05-24T22:35:45.648Z"
   },
   {
    "duration": 1038,
    "start_time": "2023-05-24T22:35:47.399Z"
   },
   {
    "duration": 38,
    "start_time": "2023-05-24T22:35:48.438Z"
   },
   {
    "duration": 25,
    "start_time": "2023-05-24T22:35:48.478Z"
   },
   {
    "duration": 12,
    "start_time": "2023-05-24T22:35:48.505Z"
   },
   {
    "duration": 262,
    "start_time": "2023-05-24T22:35:48.519Z"
   },
   {
    "duration": 3,
    "start_time": "2023-05-24T22:35:48.783Z"
   },
   {
    "duration": 210365,
    "start_time": "2023-05-24T22:35:48.788Z"
   },
   {
    "duration": 13,
    "start_time": "2023-05-24T22:39:19.156Z"
   },
   {
    "duration": 14,
    "start_time": "2023-05-24T22:39:19.172Z"
   },
   {
    "duration": 35,
    "start_time": "2023-05-24T22:39:19.188Z"
   },
   {
    "duration": 4,
    "start_time": "2023-05-24T22:39:31.184Z"
   },
   {
    "duration": 31,
    "start_time": "2023-05-24T22:39:32.070Z"
   },
   {
    "duration": 5,
    "start_time": "2023-05-24T22:39:36.337Z"
   },
   {
    "duration": 308,
    "start_time": "2023-05-24T22:39:39.048Z"
   },
   {
    "duration": 5,
    "start_time": "2023-05-24T22:39:45.209Z"
   },
   {
    "duration": 368,
    "start_time": "2023-05-24T22:39:50.164Z"
   },
   {
    "duration": 33437,
    "start_time": "2023-05-24T22:39:56.798Z"
   },
   {
    "duration": 104,
    "start_time": "2023-05-24T22:40:41.001Z"
   },
   {
    "duration": 136,
    "start_time": "2023-05-24T22:41:12.674Z"
   },
   {
    "duration": 793,
    "start_time": "2023-05-24T22:41:32.181Z"
   },
   {
    "duration": 13,
    "start_time": "2023-05-24T22:43:37.933Z"
   },
   {
    "duration": 374,
    "start_time": "2023-05-24T22:43:45.142Z"
   },
   {
    "duration": 1109,
    "start_time": "2023-05-24T22:53:33.670Z"
   },
   {
    "duration": 4,
    "start_time": "2023-05-24T22:53:39.980Z"
   },
   {
    "duration": 734,
    "start_time": "2023-05-24T22:53:47.437Z"
   },
   {
    "duration": 4,
    "start_time": "2023-05-24T22:53:50.757Z"
   },
   {
    "duration": 317,
    "start_time": "2023-05-24T22:53:55.206Z"
   },
   {
    "duration": 126,
    "start_time": "2023-05-24T23:02:58.300Z"
   },
   {
    "duration": 127,
    "start_time": "2023-05-24T23:03:07.833Z"
   },
   {
    "duration": 4,
    "start_time": "2023-05-24T23:03:34.429Z"
   },
   {
    "duration": 1556,
    "start_time": "2023-05-24T23:04:15.337Z"
   },
   {
    "duration": 833,
    "start_time": "2023-05-24T23:04:16.895Z"
   },
   {
    "duration": 25,
    "start_time": "2023-05-24T23:04:17.730Z"
   },
   {
    "duration": 20,
    "start_time": "2023-05-24T23:04:17.757Z"
   },
   {
    "duration": 32,
    "start_time": "2023-05-24T23:04:17.779Z"
   },
   {
    "duration": 216,
    "start_time": "2023-05-24T23:04:17.813Z"
   },
   {
    "duration": 4,
    "start_time": "2023-05-24T23:04:18.030Z"
   },
   {
    "duration": 181605,
    "start_time": "2023-05-24T23:04:18.035Z"
   },
   {
    "duration": 10,
    "start_time": "2023-05-24T23:07:19.642Z"
   },
   {
    "duration": 4,
    "start_time": "2023-05-24T23:07:19.655Z"
   },
   {
    "duration": 1116,
    "start_time": "2023-05-24T23:07:19.660Z"
   },
   {
    "duration": 4,
    "start_time": "2023-05-24T23:07:20.778Z"
   },
   {
    "duration": 760,
    "start_time": "2023-05-24T23:07:20.784Z"
   },
   {
    "duration": 4,
    "start_time": "2023-05-24T23:07:21.545Z"
   },
   {
    "duration": 136,
    "start_time": "2023-05-24T23:09:05.418Z"
   },
   {
    "duration": 347,
    "start_time": "2023-05-24T23:09:16.560Z"
   },
   {
    "duration": 27833,
    "start_time": "2023-05-24T23:09:20.309Z"
   },
   {
    "duration": 140,
    "start_time": "2023-05-24T23:09:51.286Z"
   },
   {
    "duration": 44,
    "start_time": "2023-05-24T23:10:25.540Z"
   },
   {
    "duration": 1549,
    "start_time": "2023-05-24T23:10:58.403Z"
   },
   {
    "duration": 861,
    "start_time": "2023-05-24T23:11:01.016Z"
   },
   {
    "duration": 31,
    "start_time": "2023-05-24T23:11:02.868Z"
   },
   {
    "duration": 3,
    "start_time": "2023-05-24T23:11:04.486Z"
   },
   {
    "duration": 3415,
    "start_time": "2023-05-24T23:11:07.990Z"
   },
   {
    "duration": 70999,
    "start_time": "2023-05-24T23:11:12.355Z"
   },
   {
    "duration": 29,
    "start_time": "2023-05-24T23:13:32.223Z"
   },
   {
    "duration": 3,
    "start_time": "2023-05-24T23:13:38.039Z"
   },
   {
    "duration": 18,
    "start_time": "2023-05-24T23:13:41.196Z"
   },
   {
    "duration": 4855,
    "start_time": "2023-05-24T23:13:42.139Z"
   },
   {
    "duration": 1146,
    "start_time": "2023-05-24T23:13:49.782Z"
   },
   {
    "duration": 184781,
    "start_time": "2023-05-24T23:13:52.122Z"
   },
   {
    "duration": 1605,
    "start_time": "2023-05-25T16:30:20.228Z"
   },
   {
    "duration": 3392,
    "start_time": "2023-05-25T16:30:21.989Z"
   },
   {
    "duration": 35,
    "start_time": "2023-05-25T16:30:25.383Z"
   },
   {
    "duration": 11,
    "start_time": "2023-05-25T16:30:28.128Z"
   },
   {
    "duration": 8,
    "start_time": "2023-05-25T16:30:28.949Z"
   },
   {
    "duration": 237,
    "start_time": "2023-05-25T16:30:30.572Z"
   },
   {
    "duration": 4,
    "start_time": "2023-05-25T16:30:33.424Z"
   },
   {
    "duration": 351,
    "start_time": "2023-05-25T16:31:02.851Z"
   },
   {
    "duration": 4,
    "start_time": "2023-05-25T16:31:45.746Z"
   },
   {
    "duration": 80315,
    "start_time": "2023-05-25T16:31:48.427Z"
   },
   {
    "duration": 37,
    "start_time": "2023-05-25T16:34:05.419Z"
   },
   {
    "duration": 3,
    "start_time": "2023-05-25T16:34:25.520Z"
   },
   {
    "duration": 25,
    "start_time": "2023-05-25T16:35:38.841Z"
   },
   {
    "duration": 5,
    "start_time": "2023-05-25T16:35:49.027Z"
   },
   {
    "duration": 7108,
    "start_time": "2023-05-25T16:36:22.882Z"
   },
   {
    "duration": 32,
    "start_time": "2023-05-25T16:36:29.992Z"
   },
   {
    "duration": 4,
    "start_time": "2023-05-25T16:36:48.939Z"
   },
   {
    "duration": 175440,
    "start_time": "2023-05-25T16:36:55.624Z"
   },
   {
    "duration": 212585,
    "start_time": "2023-05-25T16:42:16.720Z"
   },
   {
    "duration": 773,
    "start_time": "2023-05-25T16:46:29.560Z"
   },
   {
    "duration": 1003,
    "start_time": "2023-05-25T16:48:28.938Z"
   },
   {
    "duration": 12,
    "start_time": "2023-05-25T16:54:17.267Z"
   },
   {
    "duration": 11,
    "start_time": "2023-05-25T16:55:14.365Z"
   },
   {
    "duration": 51,
    "start_time": "2023-05-25T16:56:12.782Z"
   },
   {
    "duration": 1663,
    "start_time": "2023-05-25T16:56:30.549Z"
   },
   {
    "duration": 3385,
    "start_time": "2023-05-25T16:56:32.214Z"
   },
   {
    "duration": 35,
    "start_time": "2023-05-25T16:56:35.601Z"
   },
   {
    "duration": 17,
    "start_time": "2023-05-25T16:56:35.638Z"
   },
   {
    "duration": 26,
    "start_time": "2023-05-25T16:56:35.657Z"
   },
   {
    "duration": 240,
    "start_time": "2023-05-25T16:56:35.685Z"
   },
   {
    "duration": 4,
    "start_time": "2023-05-25T16:56:35.927Z"
   },
   {
    "duration": 80757,
    "start_time": "2023-05-25T16:56:35.932Z"
   },
   {
    "duration": 53,
    "start_time": "2023-05-25T16:57:56.690Z"
   },
   {
    "duration": 13,
    "start_time": "2023-05-25T16:57:56.744Z"
   },
   {
    "duration": 26,
    "start_time": "2023-05-25T16:57:56.759Z"
   },
   {
    "duration": 5,
    "start_time": "2023-05-25T16:57:56.787Z"
   },
   {
    "duration": 7109,
    "start_time": "2023-05-25T16:57:56.794Z"
   },
   {
    "duration": 4,
    "start_time": "2023-05-25T16:58:03.906Z"
   },
   {
    "duration": 173846,
    "start_time": "2023-05-25T16:58:03.912Z"
   },
   {
    "duration": 221690,
    "start_time": "2023-05-25T17:00:57.760Z"
   },
   {
    "duration": 956,
    "start_time": "2023-05-25T17:04:39.452Z"
   },
   {
    "duration": 1793,
    "start_time": "2023-05-25T17:06:11.884Z"
   },
   {
    "duration": 3496,
    "start_time": "2023-05-25T17:06:13.679Z"
   },
   {
    "duration": 42,
    "start_time": "2023-05-25T17:06:17.176Z"
   },
   {
    "duration": 18,
    "start_time": "2023-05-25T17:06:17.221Z"
   },
   {
    "duration": 20,
    "start_time": "2023-05-25T17:06:17.241Z"
   },
   {
    "duration": 261,
    "start_time": "2023-05-25T17:06:17.264Z"
   },
   {
    "duration": 4,
    "start_time": "2023-05-25T17:06:17.527Z"
   },
   {
    "duration": 83656,
    "start_time": "2023-05-25T17:06:17.533Z"
   },
   {
    "duration": 66,
    "start_time": "2023-05-25T17:07:41.191Z"
   },
   {
    "duration": 3,
    "start_time": "2023-05-25T17:07:41.259Z"
   },
   {
    "duration": 39,
    "start_time": "2023-05-25T17:07:41.264Z"
   },
   {
    "duration": 4,
    "start_time": "2023-05-25T17:07:41.305Z"
   },
   {
    "duration": 6947,
    "start_time": "2023-05-25T17:07:41.311Z"
   },
   {
    "duration": 3,
    "start_time": "2023-05-25T17:07:48.260Z"
   },
   {
    "duration": 181694,
    "start_time": "2023-05-25T17:07:48.265Z"
   },
   {
    "duration": 5,
    "start_time": "2023-05-25T17:10:49.962Z"
   },
   {
    "duration": 278,
    "start_time": "2023-05-25T17:10:49.969Z"
   },
   {
    "duration": 1733,
    "start_time": "2023-05-25T17:12:22.358Z"
   },
   {
    "duration": 3488,
    "start_time": "2023-05-25T17:12:24.093Z"
   },
   {
    "duration": 37,
    "start_time": "2023-05-25T17:12:27.583Z"
   },
   {
    "duration": 14,
    "start_time": "2023-05-25T17:12:27.622Z"
   },
   {
    "duration": 13,
    "start_time": "2023-05-25T17:12:27.637Z"
   },
   {
    "duration": 241,
    "start_time": "2023-05-25T17:12:27.656Z"
   },
   {
    "duration": 3,
    "start_time": "2023-05-25T17:12:27.900Z"
   },
   {
    "duration": 80899,
    "start_time": "2023-05-25T17:12:27.905Z"
   },
   {
    "duration": 77,
    "start_time": "2023-05-25T17:13:48.806Z"
   },
   {
    "duration": 4,
    "start_time": "2023-05-25T17:13:48.887Z"
   },
   {
    "duration": 43,
    "start_time": "2023-05-25T17:13:48.893Z"
   },
   {
    "duration": 5,
    "start_time": "2023-05-25T17:13:48.939Z"
   },
   {
    "duration": 7046,
    "start_time": "2023-05-25T17:13:48.945Z"
   },
   {
    "duration": 4,
    "start_time": "2023-05-25T17:13:55.993Z"
   },
   {
    "duration": 17,
    "start_time": "2023-05-25T17:13:55.999Z"
   },
   {
    "duration": 0,
    "start_time": "2023-05-25T17:13:56.018Z"
   },
   {
    "duration": 0,
    "start_time": "2023-05-25T17:13:56.020Z"
   },
   {
    "duration": 0,
    "start_time": "2023-05-25T17:13:56.021Z"
   },
   {
    "duration": 1748,
    "start_time": "2023-05-25T17:20:53.639Z"
   },
   {
    "duration": 3514,
    "start_time": "2023-05-25T17:20:55.389Z"
   },
   {
    "duration": 43,
    "start_time": "2023-05-25T17:20:58.904Z"
   },
   {
    "duration": 16,
    "start_time": "2023-05-25T17:20:58.950Z"
   },
   {
    "duration": 26,
    "start_time": "2023-05-25T17:20:58.968Z"
   },
   {
    "duration": 291,
    "start_time": "2023-05-25T17:20:58.996Z"
   },
   {
    "duration": 4,
    "start_time": "2023-05-25T17:20:59.289Z"
   },
   {
    "duration": 79720,
    "start_time": "2023-05-25T17:20:59.295Z"
   },
   {
    "duration": 82,
    "start_time": "2023-05-25T17:22:19.018Z"
   },
   {
    "duration": 4,
    "start_time": "2023-05-25T17:22:19.104Z"
   },
   {
    "duration": 54,
    "start_time": "2023-05-25T17:22:19.110Z"
   },
   {
    "duration": 4,
    "start_time": "2023-05-25T17:22:19.167Z"
   },
   {
    "duration": 6777,
    "start_time": "2023-05-25T17:22:19.173Z"
   },
   {
    "duration": 7,
    "start_time": "2023-05-25T17:22:25.952Z"
   },
   {
    "duration": 4,
    "start_time": "2023-05-25T17:22:25.961Z"
   },
   {
    "duration": 0,
    "start_time": "2023-05-25T17:22:25.966Z"
   },
   {
    "duration": 0,
    "start_time": "2023-05-25T17:22:25.967Z"
   },
   {
    "duration": 0,
    "start_time": "2023-05-25T17:22:25.968Z"
   },
   {
    "duration": 52,
    "start_time": "2023-05-25T17:29:00.273Z"
   },
   {
    "duration": 1799,
    "start_time": "2023-05-25T17:29:06.283Z"
   },
   {
    "duration": 3508,
    "start_time": "2023-05-25T17:29:08.084Z"
   },
   {
    "duration": 38,
    "start_time": "2023-05-25T17:29:11.594Z"
   },
   {
    "duration": 13,
    "start_time": "2023-05-25T17:29:11.634Z"
   },
   {
    "duration": 8,
    "start_time": "2023-05-25T17:29:11.658Z"
   },
   {
    "duration": 263,
    "start_time": "2023-05-25T17:29:11.668Z"
   },
   {
    "duration": 4,
    "start_time": "2023-05-25T17:29:11.933Z"
   },
   {
    "duration": 81437,
    "start_time": "2023-05-25T17:29:11.939Z"
   },
   {
    "duration": 65,
    "start_time": "2023-05-25T17:30:33.377Z"
   },
   {
    "duration": 12,
    "start_time": "2023-05-25T17:30:33.444Z"
   },
   {
    "duration": 32,
    "start_time": "2023-05-25T17:30:33.458Z"
   },
   {
    "duration": 4,
    "start_time": "2023-05-25T17:30:33.491Z"
   },
   {
    "duration": 7080,
    "start_time": "2023-05-25T17:30:33.497Z"
   },
   {
    "duration": 4,
    "start_time": "2023-05-25T17:30:40.580Z"
   },
   {
    "duration": 176071,
    "start_time": "2023-05-25T17:30:40.586Z"
   },
   {
    "duration": 198,
    "start_time": "2023-05-25T17:33:36.659Z"
   },
   {
    "duration": 1706,
    "start_time": "2023-05-25T17:36:06.886Z"
   },
   {
    "duration": 3499,
    "start_time": "2023-05-25T17:36:08.594Z"
   },
   {
    "duration": 39,
    "start_time": "2023-05-25T17:36:12.094Z"
   },
   {
    "duration": 13,
    "start_time": "2023-05-25T17:36:12.135Z"
   },
   {
    "duration": 8,
    "start_time": "2023-05-25T17:36:12.155Z"
   },
   {
    "duration": 252,
    "start_time": "2023-05-25T17:36:12.164Z"
   },
   {
    "duration": 4,
    "start_time": "2023-05-25T17:36:12.418Z"
   },
   {
    "duration": 81370,
    "start_time": "2023-05-25T17:36:12.424Z"
   },
   {
    "duration": 70,
    "start_time": "2023-05-25T17:37:33.796Z"
   },
   {
    "duration": 3,
    "start_time": "2023-05-25T17:37:33.869Z"
   },
   {
    "duration": 44,
    "start_time": "2023-05-25T17:37:33.874Z"
   },
   {
    "duration": 4,
    "start_time": "2023-05-25T17:37:33.920Z"
   },
   {
    "duration": 7166,
    "start_time": "2023-05-25T17:37:33.926Z"
   },
   {
    "duration": 4,
    "start_time": "2023-05-25T17:37:41.094Z"
   },
   {
    "duration": 202857,
    "start_time": "2023-05-25T17:37:41.100Z"
   },
   {
    "duration": 766942,
    "start_time": "2023-05-25T17:42:01.226Z"
   },
   {
    "duration": 41189,
    "start_time": "2023-05-25T17:55:34.269Z"
   },
   {
    "duration": 50,
    "start_time": "2023-05-25T17:57:02.097Z"
   },
   {
    "duration": 701984,
    "start_time": "2023-05-25T17:57:11.001Z"
   },
   {
    "duration": 0,
    "start_time": "2023-05-25T18:08:52.986Z"
   },
   {
    "duration": 3,
    "start_time": "2023-05-25T18:08:57.198Z"
   },
   {
    "duration": 12,
    "start_time": "2023-05-25T18:08:58.436Z"
   },
   {
    "duration": 61265,
    "start_time": "2023-05-25T18:09:11.747Z"
   },
   {
    "duration": 123154,
    "start_time": "2023-05-25T18:10:14.244Z"
   },
   {
    "duration": 61,
    "start_time": "2023-05-25T18:22:40.553Z"
   },
   {
    "duration": 39272,
    "start_time": "2023-05-25T18:22:55.413Z"
   },
   {
    "duration": 38169,
    "start_time": "2023-05-25T18:23:58.315Z"
   },
   {
    "duration": 6975,
    "start_time": "2023-05-27T08:00:00.225Z"
   },
   {
    "duration": 4146,
    "start_time": "2023-05-27T08:00:07.208Z"
   },
   {
    "duration": 42,
    "start_time": "2023-05-27T08:00:11.355Z"
   },
   {
    "duration": 44,
    "start_time": "2023-05-27T08:00:11.405Z"
   },
   {
    "duration": 94,
    "start_time": "2023-05-27T08:00:11.456Z"
   },
   {
    "duration": 386,
    "start_time": "2023-05-27T08:00:11.552Z"
   },
   {
    "duration": 13,
    "start_time": "2023-05-27T08:00:11.940Z"
   },
   {
    "duration": 146025,
    "start_time": "2023-05-27T08:00:11.955Z"
   },
   {
    "duration": 70,
    "start_time": "2023-05-27T08:02:37.982Z"
   },
   {
    "duration": 6,
    "start_time": "2023-05-27T08:02:38.054Z"
   },
   {
    "duration": 69,
    "start_time": "2023-05-27T08:02:38.061Z"
   },
   {
    "duration": 9,
    "start_time": "2023-05-27T08:02:38.132Z"
   },
   {
    "duration": 10787,
    "start_time": "2023-05-27T08:02:38.142Z"
   },
   {
    "duration": 4,
    "start_time": "2023-05-27T08:02:48.932Z"
   },
   {
    "duration": 30,
    "start_time": "2023-05-27T08:02:48.938Z"
   },
   {
    "duration": 29,
    "start_time": "2023-05-27T08:02:48.977Z"
   },
   {
    "duration": 50970,
    "start_time": "2023-05-27T08:02:49.008Z"
   },
   {
    "duration": 178009,
    "start_time": "2023-05-27T08:22:58.992Z"
   },
   {
    "duration": 13,
    "start_time": "2023-05-27T08:27:11.020Z"
   },
   {
    "duration": 238,
    "start_time": "2023-05-27T08:27:46.605Z"
   },
   {
    "duration": 180,
    "start_time": "2023-05-27T08:29:24.195Z"
   },
   {
    "duration": 436095,
    "start_time": "2023-05-27T08:30:05.993Z"
   },
   {
    "duration": 51624,
    "start_time": "2023-05-27T08:37:45.911Z"
   },
   {
    "duration": 60894,
    "start_time": "2023-05-27T08:39:30.769Z"
   },
   {
    "duration": 416591,
    "start_time": "2023-05-27T08:40:35.144Z"
   },
   {
    "duration": 29,
    "start_time": "2023-05-27T08:48:32.710Z"
   },
   {
    "duration": 95,
    "start_time": "2023-05-27T08:51:27.088Z"
   },
   {
    "duration": 18,
    "start_time": "2023-05-27T08:51:37.654Z"
   },
   {
    "duration": 3141099,
    "start_time": "2023-05-27T08:51:48.504Z"
   },
   {
    "duration": 0,
    "start_time": "2023-05-27T09:44:09.608Z"
   },
   {
    "duration": 29,
    "start_time": "2023-05-27T09:44:23.682Z"
   },
   {
    "duration": 101,
    "start_time": "2023-05-27T09:44:34.419Z"
   },
   {
    "duration": 102,
    "start_time": "2023-05-27T09:47:20.418Z"
   },
   {
    "duration": 4357,
    "start_time": "2023-05-27T09:47:27.139Z"
   },
   {
    "duration": 6091,
    "start_time": "2023-05-27T09:48:07.307Z"
   },
   {
    "duration": 6,
    "start_time": "2023-05-27T09:57:20.395Z"
   },
   {
    "duration": 77968,
    "start_time": "2023-05-27T09:57:20.415Z"
   },
   {
    "duration": 6,
    "start_time": "2023-05-27T09:58:38.410Z"
   },
   {
    "duration": 6401,
    "start_time": "2023-05-27T09:58:48.112Z"
   },
   {
    "duration": 6896,
    "start_time": "2023-05-27T09:59:22.490Z"
   },
   {
    "duration": 5088,
    "start_time": "2023-05-27T09:59:29.399Z"
   },
   {
    "duration": 57,
    "start_time": "2023-05-27T09:59:34.488Z"
   },
   {
    "duration": 204,
    "start_time": "2023-05-27T09:59:34.551Z"
   },
   {
    "duration": 125,
    "start_time": "2023-05-27T09:59:34.757Z"
   },
   {
    "duration": 514,
    "start_time": "2023-05-27T09:59:34.885Z"
   },
   {
    "duration": 13,
    "start_time": "2023-05-27T09:59:35.405Z"
   },
   {
    "duration": 153104,
    "start_time": "2023-05-27T09:59:35.425Z"
   },
   {
    "duration": 81,
    "start_time": "2023-05-27T10:02:08.531Z"
   },
   {
    "duration": 4,
    "start_time": "2023-05-27T10:02:08.616Z"
   },
   {
    "duration": 48,
    "start_time": "2023-05-27T10:02:08.622Z"
   },
   {
    "duration": 11,
    "start_time": "2023-05-27T10:02:08.672Z"
   },
   {
    "duration": 10939,
    "start_time": "2023-05-27T10:02:08.685Z"
   },
   {
    "duration": 5,
    "start_time": "2023-05-27T10:02:19.626Z"
   },
   {
    "duration": 42,
    "start_time": "2023-05-27T10:02:19.634Z"
   },
   {
    "duration": 28,
    "start_time": "2023-05-27T10:02:19.681Z"
   },
   {
    "duration": 75013,
    "start_time": "2023-05-27T10:02:19.711Z"
   },
   {
    "duration": 13,
    "start_time": "2023-05-27T10:03:34.727Z"
   },
   {
    "duration": 0,
    "start_time": "2023-05-27T10:03:34.742Z"
   },
   {
    "duration": 0,
    "start_time": "2023-05-27T10:03:34.744Z"
   },
   {
    "duration": 0,
    "start_time": "2023-05-27T10:03:34.747Z"
   },
   {
    "duration": 0,
    "start_time": "2023-05-27T10:03:34.748Z"
   },
   {
    "duration": 0,
    "start_time": "2023-05-27T10:03:34.749Z"
   },
   {
    "duration": 0,
    "start_time": "2023-05-27T10:03:34.751Z"
   },
   {
    "duration": 0,
    "start_time": "2023-05-27T10:03:34.757Z"
   },
   {
    "duration": 0,
    "start_time": "2023-05-27T10:03:34.758Z"
   },
   {
    "duration": 0,
    "start_time": "2023-05-27T10:03:34.761Z"
   },
   {
    "duration": 0,
    "start_time": "2023-05-27T10:03:34.765Z"
   },
   {
    "duration": 0,
    "start_time": "2023-05-27T10:03:34.766Z"
   },
   {
    "duration": 0,
    "start_time": "2023-05-27T10:03:34.767Z"
   },
   {
    "duration": 0,
    "start_time": "2023-05-27T10:03:34.768Z"
   },
   {
    "duration": 0,
    "start_time": "2023-05-27T10:03:34.769Z"
   },
   {
    "duration": 68911,
    "start_time": "2023-05-27T10:06:10.298Z"
   },
   {
    "duration": 10,
    "start_time": "2023-05-27T10:07:24.786Z"
   },
   {
    "duration": 10,
    "start_time": "2023-05-27T10:07:39.594Z"
   },
   {
    "duration": 66119,
    "start_time": "2023-05-27T10:07:39.607Z"
   },
   {
    "duration": 12,
    "start_time": "2023-05-27T10:08:45.728Z"
   },
   {
    "duration": 0,
    "start_time": "2023-05-27T10:08:45.742Z"
   },
   {
    "duration": 0,
    "start_time": "2023-05-27T10:08:45.744Z"
   },
   {
    "duration": 0,
    "start_time": "2023-05-27T10:08:45.746Z"
   },
   {
    "duration": 0,
    "start_time": "2023-05-27T10:08:45.747Z"
   },
   {
    "duration": 0,
    "start_time": "2023-05-27T10:08:45.748Z"
   },
   {
    "duration": 0,
    "start_time": "2023-05-27T10:08:45.749Z"
   },
   {
    "duration": 0,
    "start_time": "2023-05-27T10:08:45.750Z"
   },
   {
    "duration": 0,
    "start_time": "2023-05-27T10:08:45.751Z"
   },
   {
    "duration": 0,
    "start_time": "2023-05-27T10:08:45.752Z"
   },
   {
    "duration": 0,
    "start_time": "2023-05-27T10:08:45.753Z"
   },
   {
    "duration": 0,
    "start_time": "2023-05-27T10:08:45.754Z"
   },
   {
    "duration": 1,
    "start_time": "2023-05-27T10:08:45.755Z"
   },
   {
    "duration": 107666,
    "start_time": "2023-05-27T10:09:52.467Z"
   },
   {
    "duration": 22,
    "start_time": "2023-05-27T10:11:40.135Z"
   },
   {
    "duration": 0,
    "start_time": "2023-05-27T10:11:40.159Z"
   },
   {
    "duration": 0,
    "start_time": "2023-05-27T10:11:40.163Z"
   },
   {
    "duration": 0,
    "start_time": "2023-05-27T10:11:40.163Z"
   },
   {
    "duration": 0,
    "start_time": "2023-05-27T10:11:40.164Z"
   },
   {
    "duration": 0,
    "start_time": "2023-05-27T10:11:40.165Z"
   },
   {
    "duration": 0,
    "start_time": "2023-05-27T10:11:40.171Z"
   },
   {
    "duration": 0,
    "start_time": "2023-05-27T10:11:40.172Z"
   },
   {
    "duration": 0,
    "start_time": "2023-05-27T10:11:40.174Z"
   },
   {
    "duration": 0,
    "start_time": "2023-05-27T10:11:40.175Z"
   },
   {
    "duration": 0,
    "start_time": "2023-05-27T10:11:40.176Z"
   },
   {
    "duration": 0,
    "start_time": "2023-05-27T10:11:40.179Z"
   },
   {
    "duration": 0,
    "start_time": "2023-05-27T10:11:40.182Z"
   },
   {
    "duration": 24,
    "start_time": "2023-05-27T10:12:08.091Z"
   },
   {
    "duration": 4920695,
    "start_time": "2023-05-27T10:13:32.395Z"
   },
   {
    "duration": 6008,
    "start_time": "2023-05-27T11:36:50.510Z"
   },
   {
    "duration": 3024,
    "start_time": "2023-05-27T20:26:59.153Z"
   },
   {
    "duration": 2502,
    "start_time": "2023-05-27T20:27:05.472Z"
   },
   {
    "duration": 38,
    "start_time": "2023-05-27T20:27:10.897Z"
   },
   {
    "duration": 13,
    "start_time": "2023-05-27T20:27:14.274Z"
   },
   {
    "duration": 8,
    "start_time": "2023-05-27T20:27:16.121Z"
   },
   {
    "duration": 249,
    "start_time": "2023-05-27T20:27:17.226Z"
   },
   {
    "duration": 6,
    "start_time": "2023-05-27T20:28:15.295Z"
   },
   {
    "duration": 4,
    "start_time": "2023-05-27T20:30:46.610Z"
   },
   {
    "duration": 488,
    "start_time": "2023-05-27T20:30:50.774Z"
   },
   {
    "duration": 7,
    "start_time": "2023-05-27T20:31:23.619Z"
   },
   {
    "duration": 451,
    "start_time": "2023-05-27T20:31:25.037Z"
   },
   {
    "duration": 437,
    "start_time": "2023-05-27T20:32:58.617Z"
   },
   {
    "duration": 5,
    "start_time": "2023-05-27T20:33:07.325Z"
   },
   {
    "duration": 27431,
    "start_time": "2023-05-27T20:33:09.985Z"
   },
   {
    "duration": 4,
    "start_time": "2023-05-27T20:34:35.573Z"
   },
   {
    "duration": 396,
    "start_time": "2023-05-27T20:34:38.152Z"
   },
   {
    "duration": 1626,
    "start_time": "2023-05-27T20:34:53.278Z"
   },
   {
    "duration": 871,
    "start_time": "2023-05-27T20:34:56.783Z"
   },
   {
    "duration": 33,
    "start_time": "2023-05-27T20:34:57.656Z"
   },
   {
    "duration": 16,
    "start_time": "2023-05-27T20:34:58.199Z"
   },
   {
    "duration": 7,
    "start_time": "2023-05-27T20:34:59.079Z"
   },
   {
    "duration": 234,
    "start_time": "2023-05-27T20:35:00.149Z"
   },
   {
    "duration": 4,
    "start_time": "2023-05-27T20:35:02.265Z"
   },
   {
    "duration": 80500,
    "start_time": "2023-05-27T20:35:05.176Z"
   },
   {
    "duration": 13,
    "start_time": "2023-05-27T20:36:41.852Z"
   },
   {
    "duration": 150,
    "start_time": "2023-05-27T20:48:33.106Z"
   },
   {
    "duration": 4,
    "start_time": "2023-05-27T20:50:54.244Z"
   },
   {
    "duration": 3,
    "start_time": "2023-05-27T20:50:54.927Z"
   },
   {
    "duration": 83719,
    "start_time": "2023-05-27T20:50:58.896Z"
   },
   {
    "duration": 5,
    "start_time": "2023-05-27T20:52:57.685Z"
   },
   {
    "duration": 4,
    "start_time": "2023-05-27T20:52:59.680Z"
   },
   {
    "duration": 1132508,
    "start_time": "2023-05-27T20:53:04.986Z"
   },
   {
    "duration": 11,
    "start_time": "2023-05-27T21:17:38.907Z"
   },
   {
    "duration": 35,
    "start_time": "2023-05-27T21:21:27.965Z"
   },
   {
    "duration": 4,
    "start_time": "2023-05-27T21:21:31.420Z"
   },
   {
    "duration": 26,
    "start_time": "2023-05-27T21:21:32.635Z"
   },
   {
    "duration": 4,
    "start_time": "2023-05-27T21:21:33.911Z"
   },
   {
    "duration": 6487,
    "start_time": "2023-05-27T21:21:37.352Z"
   },
   {
    "duration": 3,
    "start_time": "2023-05-27T21:21:43.842Z"
   },
   {
    "duration": 4,
    "start_time": "2023-05-27T21:21:48.579Z"
   },
   {
    "duration": 71769,
    "start_time": "2023-05-27T21:21:53.099Z"
   },
   {
    "duration": 5287,
    "start_time": "2023-05-27T21:23:51.289Z"
   },
   {
    "duration": 9,
    "start_time": "2023-05-27T21:24:09.857Z"
   },
   {
    "duration": 5258,
    "start_time": "2023-05-27T21:24:25.425Z"
   }
  ],
  "kernelspec": {
   "display_name": "Python 3 (ipykernel)",
   "language": "python",
   "name": "python3"
  },
  "language_info": {
   "codemirror_mode": {
    "name": "ipython",
    "version": 3
   },
   "file_extension": ".py",
   "mimetype": "text/x-python",
   "name": "python",
   "nbconvert_exporter": "python",
   "pygments_lexer": "ipython3",
   "version": "3.9.5"
  },
  "toc": {
   "base_numbering": 1,
   "nav_menu": {},
   "number_sections": true,
   "sideBar": true,
   "skip_h1_title": true,
   "title_cell": "Содержание",
   "title_sidebar": "Contents",
   "toc_cell": true,
   "toc_position": {
    "height": "calc(100% - 180px)",
    "left": "10px",
    "top": "150px",
    "width": "302.344px"
   },
   "toc_section_display": true,
   "toc_window_display": false
  }
 },
 "nbformat": 4,
 "nbformat_minor": 2
}
