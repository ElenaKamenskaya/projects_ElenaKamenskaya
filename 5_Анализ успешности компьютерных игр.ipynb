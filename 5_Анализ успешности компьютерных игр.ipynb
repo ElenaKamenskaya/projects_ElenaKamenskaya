{
 "cells": [
  {
   "cell_type": "markdown",
   "metadata": {},
   "source": [
    "# Анализ успешности компьютерных игр\n",
    "\n",
    "**Задача:** изучить данные комьютерных игр из открытых источников\n",
    "\n",
    "**Цель:** выявить определяющие успешность игры закономерности. Это позволит сделать ставку на потенциально популярный продукт и спланировать рекламные кампании.\n",
    "\n",
    "**Данные:** данные собраны из открытых источников за период 1980 - 2016 года\n",
    "\n",
    "**Исследование:** \n",
    "- определим жизненный цикл платформ на основании исходных данных\n",
    "- определим период данных для анализа\n",
    "- выясним влияние наличия рейтингов на продажи\n",
    "- выясним самые продаваемые жанры, успешные платформы\n",
    "- определим влияние региона на продажи"
   ]
  },
  {
   "cell_type": "markdown",
   "metadata": {},
   "source": [
    "## Обзор данных"
   ]
  },
  {
   "cell_type": "code",
   "execution_count": 26,
   "metadata": {},
   "outputs": [],
   "source": [
    "import pandas as pd\n",
    "import matplotlib.pyplot as plt\n",
    "import seaborn as sns\n",
    "import warnings\n",
    "warnings.simplefilter(\"ignore\")\n",
    "from scipy import stats as st"
   ]
  },
  {
   "cell_type": "code",
   "execution_count": 27,
   "metadata": {},
   "outputs": [
    {
     "data": {
      "text/html": [
       "<div>\n",
       "<style scoped>\n",
       "    .dataframe tbody tr th:only-of-type {\n",
       "        vertical-align: middle;\n",
       "    }\n",
       "\n",
       "    .dataframe tbody tr th {\n",
       "        vertical-align: top;\n",
       "    }\n",
       "\n",
       "    .dataframe thead th {\n",
       "        text-align: right;\n",
       "    }\n",
       "</style>\n",
       "<table border=\"1\" class=\"dataframe\">\n",
       "  <thead>\n",
       "    <tr style=\"text-align: right;\">\n",
       "      <th></th>\n",
       "      <th>Name</th>\n",
       "      <th>Platform</th>\n",
       "      <th>Year_of_Release</th>\n",
       "      <th>Genre</th>\n",
       "      <th>NA_sales</th>\n",
       "      <th>EU_sales</th>\n",
       "      <th>JP_sales</th>\n",
       "      <th>Other_sales</th>\n",
       "      <th>Critic_Score</th>\n",
       "      <th>User_Score</th>\n",
       "      <th>Rating</th>\n",
       "    </tr>\n",
       "  </thead>\n",
       "  <tbody>\n",
       "    <tr>\n",
       "      <th>0</th>\n",
       "      <td>Wii Sports</td>\n",
       "      <td>Wii</td>\n",
       "      <td>2006.0</td>\n",
       "      <td>Sports</td>\n",
       "      <td>41.36</td>\n",
       "      <td>28.96</td>\n",
       "      <td>3.77</td>\n",
       "      <td>8.45</td>\n",
       "      <td>76.0</td>\n",
       "      <td>8</td>\n",
       "      <td>E</td>\n",
       "    </tr>\n",
       "    <tr>\n",
       "      <th>1</th>\n",
       "      <td>Super Mario Bros.</td>\n",
       "      <td>NES</td>\n",
       "      <td>1985.0</td>\n",
       "      <td>Platform</td>\n",
       "      <td>29.08</td>\n",
       "      <td>3.58</td>\n",
       "      <td>6.81</td>\n",
       "      <td>0.77</td>\n",
       "      <td>NaN</td>\n",
       "      <td>NaN</td>\n",
       "      <td>NaN</td>\n",
       "    </tr>\n",
       "    <tr>\n",
       "      <th>2</th>\n",
       "      <td>Mario Kart Wii</td>\n",
       "      <td>Wii</td>\n",
       "      <td>2008.0</td>\n",
       "      <td>Racing</td>\n",
       "      <td>15.68</td>\n",
       "      <td>12.76</td>\n",
       "      <td>3.79</td>\n",
       "      <td>3.29</td>\n",
       "      <td>82.0</td>\n",
       "      <td>8.3</td>\n",
       "      <td>E</td>\n",
       "    </tr>\n",
       "    <tr>\n",
       "      <th>3</th>\n",
       "      <td>Wii Sports Resort</td>\n",
       "      <td>Wii</td>\n",
       "      <td>2009.0</td>\n",
       "      <td>Sports</td>\n",
       "      <td>15.61</td>\n",
       "      <td>10.93</td>\n",
       "      <td>3.28</td>\n",
       "      <td>2.95</td>\n",
       "      <td>80.0</td>\n",
       "      <td>8</td>\n",
       "      <td>E</td>\n",
       "    </tr>\n",
       "    <tr>\n",
       "      <th>4</th>\n",
       "      <td>Pokemon Red/Pokemon Blue</td>\n",
       "      <td>GB</td>\n",
       "      <td>1996.0</td>\n",
       "      <td>Role-Playing</td>\n",
       "      <td>11.27</td>\n",
       "      <td>8.89</td>\n",
       "      <td>10.22</td>\n",
       "      <td>1.00</td>\n",
       "      <td>NaN</td>\n",
       "      <td>NaN</td>\n",
       "      <td>NaN</td>\n",
       "    </tr>\n",
       "  </tbody>\n",
       "</table>\n",
       "</div>"
      ],
      "text/plain": [
       "                       Name Platform  Year_of_Release         Genre  NA_sales  \\\n",
       "0                Wii Sports      Wii           2006.0        Sports     41.36   \n",
       "1         Super Mario Bros.      NES           1985.0      Platform     29.08   \n",
       "2            Mario Kart Wii      Wii           2008.0        Racing     15.68   \n",
       "3         Wii Sports Resort      Wii           2009.0        Sports     15.61   \n",
       "4  Pokemon Red/Pokemon Blue       GB           1996.0  Role-Playing     11.27   \n",
       "\n",
       "   EU_sales  JP_sales  Other_sales  Critic_Score User_Score Rating  \n",
       "0     28.96      3.77         8.45          76.0          8      E  \n",
       "1      3.58      6.81         0.77           NaN        NaN    NaN  \n",
       "2     12.76      3.79         3.29          82.0        8.3      E  \n",
       "3     10.93      3.28         2.95          80.0          8      E  \n",
       "4      8.89     10.22         1.00           NaN        NaN    NaN  "
      ]
     },
     "execution_count": 27,
     "metadata": {},
     "output_type": "execute_result"
    }
   ],
   "source": [
    "# открываем датасет для изучения\n",
    "\n",
    "try:\n",
    "    data = pd.read_csv('/datasets/games.csv')\n",
    "except:\n",
    "    data = pd.read_csv('C:\\\\Users\\e-kam\\OneDrive\\Рабочий стол\\Яндекс_data_science\\проекты\\1_Общий проект')\n",
    "    \n",
    "data.head()"
   ]
  },
  {
   "cell_type": "code",
   "execution_count": 28,
   "metadata": {
    "scrolled": true
   },
   "outputs": [
    {
     "name": "stdout",
     "output_type": "stream",
     "text": [
      "<class 'pandas.core.frame.DataFrame'>\n",
      "RangeIndex: 16715 entries, 0 to 16714\n",
      "Data columns (total 11 columns):\n",
      " #   Column           Non-Null Count  Dtype  \n",
      "---  ------           --------------  -----  \n",
      " 0   Name             16713 non-null  object \n",
      " 1   Platform         16715 non-null  object \n",
      " 2   Year_of_Release  16446 non-null  float64\n",
      " 3   Genre            16713 non-null  object \n",
      " 4   NA_sales         16715 non-null  float64\n",
      " 5   EU_sales         16715 non-null  float64\n",
      " 6   JP_sales         16715 non-null  float64\n",
      " 7   Other_sales      16715 non-null  float64\n",
      " 8   Critic_Score     8137 non-null   float64\n",
      " 9   User_Score       10014 non-null  object \n",
      " 10  Rating           9949 non-null   object \n",
      "dtypes: float64(6), object(5)\n",
      "memory usage: 1.4+ MB\n"
     ]
    }
   ],
   "source": [
    "# функции info() показывает отсутствие большого кол-ва данных, необходимость доработать названия колонок, преобразовать типы данных.\n",
    "\n",
    "data.info()"
   ]
  },
  {
   "cell_type": "code",
   "execution_count": 29,
   "metadata": {},
   "outputs": [
    {
     "data": {
      "image/png": "[encoded data removed]",
      "text/plain": [
       "<Figure size 1440x1440 with 6 Axes>"
      ]
     },
     "metadata": {
      "needs_background": "light"
     },
     "output_type": "display_data"
    }
   ],
   "source": [
    "# построим диаграммы для наглядности данных\n",
    "\n",
    "data.hist(figsize=(20, 20));\n",
    "\n",
    "# далее при изучении необходимо будет верно выставить диапазон для анализа, т..к сейчас диаграммы неинформативны"
   ]
  },
  {
   "cell_type": "code",
   "execution_count": 30,
   "metadata": {},
   "outputs": [
    {
     "data": {
      "text/html": [
       "<div>\n",
       "<style scoped>\n",
       "    .dataframe tbody tr th:only-of-type {\n",
       "        vertical-align: middle;\n",
       "    }\n",
       "\n",
       "    .dataframe tbody tr th {\n",
       "        vertical-align: top;\n",
       "    }\n",
       "\n",
       "    .dataframe thead th {\n",
       "        text-align: right;\n",
       "    }\n",
       "</style>\n",
       "<table border=\"1\" class=\"dataframe\">\n",
       "  <thead>\n",
       "    <tr style=\"text-align: right;\">\n",
       "      <th></th>\n",
       "      <th>Year_of_Release</th>\n",
       "      <th>NA_sales</th>\n",
       "      <th>EU_sales</th>\n",
       "      <th>JP_sales</th>\n",
       "      <th>Other_sales</th>\n",
       "      <th>Critic_Score</th>\n",
       "    </tr>\n",
       "  </thead>\n",
       "  <tbody>\n",
       "    <tr>\n",
       "      <th>count</th>\n",
       "      <td>16446.000000</td>\n",
       "      <td>16715.000000</td>\n",
       "      <td>16715.000000</td>\n",
       "      <td>16715.000000</td>\n",
       "      <td>16715.000000</td>\n",
       "      <td>8137.000000</td>\n",
       "    </tr>\n",
       "    <tr>\n",
       "      <th>mean</th>\n",
       "      <td>2006.484616</td>\n",
       "      <td>0.263377</td>\n",
       "      <td>0.145060</td>\n",
       "      <td>0.077617</td>\n",
       "      <td>0.047342</td>\n",
       "      <td>68.967679</td>\n",
       "    </tr>\n",
       "    <tr>\n",
       "      <th>std</th>\n",
       "      <td>5.877050</td>\n",
       "      <td>0.813604</td>\n",
       "      <td>0.503339</td>\n",
       "      <td>0.308853</td>\n",
       "      <td>0.186731</td>\n",
       "      <td>13.938165</td>\n",
       "    </tr>\n",
       "    <tr>\n",
       "      <th>min</th>\n",
       "      <td>1980.000000</td>\n",
       "      <td>0.000000</td>\n",
       "      <td>0.000000</td>\n",
       "      <td>0.000000</td>\n",
       "      <td>0.000000</td>\n",
       "      <td>13.000000</td>\n",
       "    </tr>\n",
       "    <tr>\n",
       "      <th>25%</th>\n",
       "      <td>2003.000000</td>\n",
       "      <td>0.000000</td>\n",
       "      <td>0.000000</td>\n",
       "      <td>0.000000</td>\n",
       "      <td>0.000000</td>\n",
       "      <td>60.000000</td>\n",
       "    </tr>\n",
       "    <tr>\n",
       "      <th>50%</th>\n",
       "      <td>2007.000000</td>\n",
       "      <td>0.080000</td>\n",
       "      <td>0.020000</td>\n",
       "      <td>0.000000</td>\n",
       "      <td>0.010000</td>\n",
       "      <td>71.000000</td>\n",
       "    </tr>\n",
       "    <tr>\n",
       "      <th>75%</th>\n",
       "      <td>2010.000000</td>\n",
       "      <td>0.240000</td>\n",
       "      <td>0.110000</td>\n",
       "      <td>0.040000</td>\n",
       "      <td>0.030000</td>\n",
       "      <td>79.000000</td>\n",
       "    </tr>\n",
       "    <tr>\n",
       "      <th>max</th>\n",
       "      <td>2016.000000</td>\n",
       "      <td>41.360000</td>\n",
       "      <td>28.960000</td>\n",
       "      <td>10.220000</td>\n",
       "      <td>10.570000</td>\n",
       "      <td>98.000000</td>\n",
       "    </tr>\n",
       "  </tbody>\n",
       "</table>\n",
       "</div>"
      ],
      "text/plain": [
       "       Year_of_Release      NA_sales      EU_sales      JP_sales  \\\n",
       "count     16446.000000  16715.000000  16715.000000  16715.000000   \n",
       "mean       2006.484616      0.263377      0.145060      0.077617   \n",
       "std           5.877050      0.813604      0.503339      0.308853   \n",
       "min        1980.000000      0.000000      0.000000      0.000000   \n",
       "25%        2003.000000      0.000000      0.000000      0.000000   \n",
       "50%        2007.000000      0.080000      0.020000      0.000000   \n",
       "75%        2010.000000      0.240000      0.110000      0.040000   \n",
       "max        2016.000000     41.360000     28.960000     10.220000   \n",
       "\n",
       "        Other_sales  Critic_Score  \n",
       "count  16715.000000   8137.000000  \n",
       "mean       0.047342     68.967679  \n",
       "std        0.186731     13.938165  \n",
       "min        0.000000     13.000000  \n",
       "25%        0.000000     60.000000  \n",
       "50%        0.010000     71.000000  \n",
       "75%        0.030000     79.000000  \n",
       "max       10.570000     98.000000  "
      ]
     },
     "execution_count": 30,
     "metadata": {},
     "output_type": "execute_result"
    }
   ],
   "source": [
    "# проверим статистические данные количественных показателей\n",
    "\n",
    "data.describe()\n",
    "\n",
    "# более чем у четверти данных (продажи, рейтинги) отсутствуют значения"
   ]
  },
  {
   "cell_type": "markdown",
   "metadata": {},
   "source": [
    "### Вывод\n",
    "\n",
    "Обзор данных показал, что в исходных данных содержится большое кол-во пропусков в продажах и более 40% пропусков в рейтингах (3 колонки). В ходе работы необходимо заменить пропуски значениями, т..е присвоить им некоторую категорию, чтоб была возможность проводить с данными анализ.\n",
    "В названиях колонок наблюдается верхний регистр, названия необходимо перевести в нижний регистр для простоты работы с кодом. В данных необходимо заменить тип данных: User_Score переведем в float, Year_of_Release и Critic_Score переведем int"
   ]
  },
  {
   "cell_type": "markdown",
   "metadata": {},
   "source": [
    "## Предобработка данных"
   ]
  },
  {
   "cell_type": "markdown",
   "metadata": {},
   "source": [
    "### Название колонок"
   ]
  },
  {
   "cell_type": "code",
   "execution_count": 31,
   "metadata": {},
   "outputs": [
    {
     "data": {
      "text/html": [
       "<div>\n",
       "<style scoped>\n",
       "    .dataframe tbody tr th:only-of-type {\n",
       "        vertical-align: middle;\n",
       "    }\n",
       "\n",
       "    .dataframe tbody tr th {\n",
       "        vertical-align: top;\n",
       "    }\n",
       "\n",
       "    .dataframe thead th {\n",
       "        text-align: right;\n",
       "    }\n",
       "</style>\n",
       "<table border=\"1\" class=\"dataframe\">\n",
       "  <thead>\n",
       "    <tr style=\"text-align: right;\">\n",
       "      <th></th>\n",
       "      <th>name</th>\n",
       "      <th>platform</th>\n",
       "      <th>year_of_release</th>\n",
       "      <th>genre</th>\n",
       "      <th>na_sales</th>\n",
       "      <th>eu_sales</th>\n",
       "      <th>jp_sales</th>\n",
       "      <th>other_sales</th>\n",
       "      <th>critic_score</th>\n",
       "      <th>user_score</th>\n",
       "      <th>rating</th>\n",
       "    </tr>\n",
       "  </thead>\n",
       "  <tbody>\n",
       "    <tr>\n",
       "      <th>0</th>\n",
       "      <td>Wii Sports</td>\n",
       "      <td>Wii</td>\n",
       "      <td>2006.0</td>\n",
       "      <td>Sports</td>\n",
       "      <td>41.36</td>\n",
       "      <td>28.96</td>\n",
       "      <td>3.77</td>\n",
       "      <td>8.45</td>\n",
       "      <td>76.0</td>\n",
       "      <td>8</td>\n",
       "      <td>E</td>\n",
       "    </tr>\n",
       "    <tr>\n",
       "      <th>1</th>\n",
       "      <td>Super Mario Bros.</td>\n",
       "      <td>NES</td>\n",
       "      <td>1985.0</td>\n",
       "      <td>Platform</td>\n",
       "      <td>29.08</td>\n",
       "      <td>3.58</td>\n",
       "      <td>6.81</td>\n",
       "      <td>0.77</td>\n",
       "      <td>NaN</td>\n",
       "      <td>NaN</td>\n",
       "      <td>NaN</td>\n",
       "    </tr>\n",
       "    <tr>\n",
       "      <th>2</th>\n",
       "      <td>Mario Kart Wii</td>\n",
       "      <td>Wii</td>\n",
       "      <td>2008.0</td>\n",
       "      <td>Racing</td>\n",
       "      <td>15.68</td>\n",
       "      <td>12.76</td>\n",
       "      <td>3.79</td>\n",
       "      <td>3.29</td>\n",
       "      <td>82.0</td>\n",
       "      <td>8.3</td>\n",
       "      <td>E</td>\n",
       "    </tr>\n",
       "    <tr>\n",
       "      <th>3</th>\n",
       "      <td>Wii Sports Resort</td>\n",
       "      <td>Wii</td>\n",
       "      <td>2009.0</td>\n",
       "      <td>Sports</td>\n",
       "      <td>15.61</td>\n",
       "      <td>10.93</td>\n",
       "      <td>3.28</td>\n",
       "      <td>2.95</td>\n",
       "      <td>80.0</td>\n",
       "      <td>8</td>\n",
       "      <td>E</td>\n",
       "    </tr>\n",
       "    <tr>\n",
       "      <th>4</th>\n",
       "      <td>Pokemon Red/Pokemon Blue</td>\n",
       "      <td>GB</td>\n",
       "      <td>1996.0</td>\n",
       "      <td>Role-Playing</td>\n",
       "      <td>11.27</td>\n",
       "      <td>8.89</td>\n",
       "      <td>10.22</td>\n",
       "      <td>1.00</td>\n",
       "      <td>NaN</td>\n",
       "      <td>NaN</td>\n",
       "      <td>NaN</td>\n",
       "    </tr>\n",
       "  </tbody>\n",
       "</table>\n",
       "</div>"
      ],
      "text/plain": [
       "                       name platform  year_of_release         genre  na_sales  \\\n",
       "0                Wii Sports      Wii           2006.0        Sports     41.36   \n",
       "1         Super Mario Bros.      NES           1985.0      Platform     29.08   \n",
       "2            Mario Kart Wii      Wii           2008.0        Racing     15.68   \n",
       "3         Wii Sports Resort      Wii           2009.0        Sports     15.61   \n",
       "4  Pokemon Red/Pokemon Blue       GB           1996.0  Role-Playing     11.27   \n",
       "\n",
       "   eu_sales  jp_sales  other_sales  critic_score user_score rating  \n",
       "0     28.96      3.77         8.45          76.0          8      E  \n",
       "1      3.58      6.81         0.77           NaN        NaN    NaN  \n",
       "2     12.76      3.79         3.29          82.0        8.3      E  \n",
       "3     10.93      3.28         2.95          80.0          8      E  \n",
       "4      8.89     10.22         1.00           NaN        NaN    NaN  "
      ]
     },
     "execution_count": 31,
     "metadata": {},
     "output_type": "execute_result"
    }
   ],
   "source": [
    "# укажем название колок в нижнем регистре\n",
    "\n",
    "data.columns = map(str.lower, data.columns)\n",
    "data.head()"
   ]
  },
  {
   "cell_type": "code",
   "execution_count": 32,
   "metadata": {},
   "outputs": [
    {
     "data": {
      "text/html": [
       "<div>\n",
       "<style scoped>\n",
       "    .dataframe tbody tr th:only-of-type {\n",
       "        vertical-align: middle;\n",
       "    }\n",
       "\n",
       "    .dataframe tbody tr th {\n",
       "        vertical-align: top;\n",
       "    }\n",
       "\n",
       "    .dataframe thead th {\n",
       "        text-align: right;\n",
       "    }\n",
       "</style>\n",
       "<table border=\"1\" class=\"dataframe\">\n",
       "  <thead>\n",
       "    <tr style=\"text-align: right;\">\n",
       "      <th></th>\n",
       "      <th>name</th>\n",
       "      <th>platform</th>\n",
       "      <th>year_of_release</th>\n",
       "      <th>genre</th>\n",
       "      <th>na_sales</th>\n",
       "      <th>eu_sales</th>\n",
       "      <th>jp_sales</th>\n",
       "      <th>other_sales</th>\n",
       "      <th>critic_score</th>\n",
       "      <th>user_score</th>\n",
       "      <th>rating</th>\n",
       "    </tr>\n",
       "  </thead>\n",
       "  <tbody>\n",
       "  </tbody>\n",
       "</table>\n",
       "</div>"
      ],
      "text/plain": [
       "Empty DataFrame\n",
       "Columns: [name, platform, year_of_release, genre, na_sales, eu_sales, jp_sales, other_sales, critic_score, user_score, rating]\n",
       "Index: []"
      ]
     },
     "execution_count": 32,
     "metadata": {},
     "output_type": "execute_result"
    }
   ],
   "source": [
    "# проверим наличие дубликатов в данных\n",
    "\n",
    "data[data.duplicated()].head() # дубликатов в датасете нет"
   ]
  },
  {
   "cell_type": "markdown",
   "metadata": {},
   "source": [
    "### Обработка пропусков"
   ]
  },
  {
   "cell_type": "code",
   "execution_count": 33,
   "metadata": {},
   "outputs": [
    {
     "data": {
      "text/plain": [
       "name                  2\n",
       "platform              0\n",
       "year_of_release     269\n",
       "genre                 2\n",
       "na_sales              0\n",
       "eu_sales              0\n",
       "jp_sales              0\n",
       "other_sales           0\n",
       "critic_score       8578\n",
       "user_score         6701\n",
       "rating             6766\n",
       "dtype: int64"
      ]
     },
     "execution_count": 33,
     "metadata": {},
     "output_type": "execute_result"
    }
   ],
   "source": [
    "data.isna().sum() #найдем пропуски в данных"
   ]
  },
  {
   "cell_type": "code",
   "execution_count": 34,
   "metadata": {},
   "outputs": [
    {
     "data": {
      "text/plain": [
       "name               0.00\n",
       "platform           0.00\n",
       "year_of_release    0.02\n",
       "genre              0.00\n",
       "na_sales           0.00\n",
       "eu_sales           0.00\n",
       "jp_sales           0.00\n",
       "other_sales        0.00\n",
       "critic_score       0.51\n",
       "user_score         0.40\n",
       "rating             0.40\n",
       "dtype: float64"
      ]
     },
     "execution_count": 34,
     "metadata": {},
     "output_type": "execute_result"
    }
   ],
   "source": [
    "# выведем долю пропусков\n",
    "\n",
    "round(data.isna().sum() / len(data), 2)\n",
    "\n",
    "# name - пропуски даже не отражаются в долях, поэтому спокойно удаляем эти данные и не тратим на них время. \n",
    "# year_of_release -  2% слишком малое значение, поэтому так же удаляем из датасета"
   ]
  },
  {
   "cell_type": "code",
   "execution_count": 35,
   "metadata": {},
   "outputs": [
    {
     "name": "stdout",
     "output_type": "stream",
     "text": [
      "<class 'pandas.core.frame.DataFrame'>\n",
      "Int64Index: 16444 entries, 0 to 16714\n",
      "Data columns (total 11 columns):\n",
      " #   Column           Non-Null Count  Dtype  \n",
      "---  ------           --------------  -----  \n",
      " 0   name             16444 non-null  object \n",
      " 1   platform         16444 non-null  object \n",
      " 2   year_of_release  16444 non-null  float64\n",
      " 3   genre            16444 non-null  object \n",
      " 4   na_sales         16444 non-null  float64\n",
      " 5   eu_sales         16444 non-null  float64\n",
      " 6   jp_sales         16444 non-null  float64\n",
      " 7   other_sales      16444 non-null  float64\n",
      " 8   critic_score     7983 non-null   float64\n",
      " 9   user_score       9839 non-null   object \n",
      " 10  rating           9768 non-null   object \n",
      "dtypes: float64(6), object(5)\n",
      "memory usage: 1.5+ MB\n"
     ]
    }
   ],
   "source": [
    " # удаляем все пропуски по колонке name и year_of_release\n",
    "    \n",
    "data = data.dropna(subset=['name', 'year_of_release'])\n",
    "\n",
    "data.info() # Проверим. Данных стало  меньше - 16444"
   ]
  },
  {
   "cell_type": "code",
   "execution_count": 36,
   "metadata": {},
   "outputs": [],
   "source": [
    "# переведем сразу года в тип данных int\n",
    "\n",
    "data['year_of_release'] = data['year_of_release'].astype('int')"
   ]
  },
  {
   "cell_type": "markdown",
   "metadata": {},
   "source": [
    "Изучим колонки рейтингов. Ранее мы наблюдали большое кол-во пропусков в 3-х колонках с рейтингами\n",
    "\n",
    "Проверим рейтинг от организации ESRB:\n",
    "- EC «Для детей младшего возраста \n",
    "- E «Для всех» \n",
    "- E10+ «Для всех от 10 лет и старше»: \n",
    "- T «Подросткам» \n",
    "- M «Для взрослых» \n",
    "- AO «Только для взрослых»: \n",
    "- RP «Рейтинг ожидается» \n",
    "- K-A неопределен"
   ]
  },
  {
   "cell_type": "code",
   "execution_count": 37,
   "metadata": {},
   "outputs": [
    {
     "data": {
      "text/plain": [
       "rating\n",
       "AO         1\n",
       "E       3921\n",
       "E10+    1393\n",
       "EC         8\n",
       "K-A        3\n",
       "M       1536\n",
       "RP         1\n",
       "T       2905\n",
       "Name: rating, dtype: int64"
      ]
     },
     "execution_count": 37,
     "metadata": {},
     "output_type": "execute_result"
    }
   ],
   "source": [
    "# посчитаем кол-во значений для каждой категории\n",
    "data.groupby('rating')['rating'].count() # в основном преоблажают категории Е и Т, затем E10+ и М, около 40% с неизвестный возрастной категорией\n"
   ]
  },
  {
   "cell_type": "code",
   "execution_count": 38,
   "metadata": {},
   "outputs": [
    {
     "data": {
      "text/plain": [
       "name                  0\n",
       "platform              0\n",
       "year_of_release       0\n",
       "genre                 0\n",
       "na_sales              0\n",
       "eu_sales              0\n",
       "jp_sales              0\n",
       "other_sales           0\n",
       "critic_score       8461\n",
       "user_score         6605\n",
       "rating             6676\n",
       "dtype: int64"
      ]
     },
     "execution_count": 38,
     "metadata": {},
     "output_type": "execute_result"
    }
   ],
   "source": [
    "data.isna().sum()"
   ]
  },
  {
   "cell_type": "code",
   "execution_count": 39,
   "metadata": {},
   "outputs": [
    {
     "data": {
      "text/html": [
       "<div>\n",
       "<style scoped>\n",
       "    .dataframe tbody tr th:only-of-type {\n",
       "        vertical-align: middle;\n",
       "    }\n",
       "\n",
       "    .dataframe tbody tr th {\n",
       "        vertical-align: top;\n",
       "    }\n",
       "\n",
       "    .dataframe thead th {\n",
       "        text-align: right;\n",
       "    }\n",
       "</style>\n",
       "<table border=\"1\" class=\"dataframe\">\n",
       "  <thead>\n",
       "    <tr style=\"text-align: right;\">\n",
       "      <th></th>\n",
       "      <th>name</th>\n",
       "      <th>platform</th>\n",
       "      <th>year_of_release</th>\n",
       "      <th>genre</th>\n",
       "      <th>na_sales</th>\n",
       "      <th>eu_sales</th>\n",
       "      <th>jp_sales</th>\n",
       "      <th>other_sales</th>\n",
       "      <th>critic_score</th>\n",
       "      <th>user_score</th>\n",
       "      <th>rating</th>\n",
       "    </tr>\n",
       "  </thead>\n",
       "  <tbody>\n",
       "    <tr>\n",
       "      <th>1</th>\n",
       "      <td>Super Mario Bros.</td>\n",
       "      <td>NES</td>\n",
       "      <td>1985</td>\n",
       "      <td>Platform</td>\n",
       "      <td>29.08</td>\n",
       "      <td>3.58</td>\n",
       "      <td>6.81</td>\n",
       "      <td>0.77</td>\n",
       "      <td>NaN</td>\n",
       "      <td>NaN</td>\n",
       "      <td>NaN</td>\n",
       "    </tr>\n",
       "    <tr>\n",
       "      <th>4</th>\n",
       "      <td>Pokemon Red/Pokemon Blue</td>\n",
       "      <td>GB</td>\n",
       "      <td>1996</td>\n",
       "      <td>Role-Playing</td>\n",
       "      <td>11.27</td>\n",
       "      <td>8.89</td>\n",
       "      <td>10.22</td>\n",
       "      <td>1.00</td>\n",
       "      <td>NaN</td>\n",
       "      <td>NaN</td>\n",
       "      <td>NaN</td>\n",
       "    </tr>\n",
       "    <tr>\n",
       "      <th>5</th>\n",
       "      <td>Tetris</td>\n",
       "      <td>GB</td>\n",
       "      <td>1989</td>\n",
       "      <td>Puzzle</td>\n",
       "      <td>23.20</td>\n",
       "      <td>2.26</td>\n",
       "      <td>4.22</td>\n",
       "      <td>0.58</td>\n",
       "      <td>NaN</td>\n",
       "      <td>NaN</td>\n",
       "      <td>NaN</td>\n",
       "    </tr>\n",
       "    <tr>\n",
       "      <th>9</th>\n",
       "      <td>Duck Hunt</td>\n",
       "      <td>NES</td>\n",
       "      <td>1984</td>\n",
       "      <td>Shooter</td>\n",
       "      <td>26.93</td>\n",
       "      <td>0.63</td>\n",
       "      <td>0.28</td>\n",
       "      <td>0.47</td>\n",
       "      <td>NaN</td>\n",
       "      <td>NaN</td>\n",
       "      <td>NaN</td>\n",
       "    </tr>\n",
       "    <tr>\n",
       "      <th>10</th>\n",
       "      <td>Nintendogs</td>\n",
       "      <td>DS</td>\n",
       "      <td>2005</td>\n",
       "      <td>Simulation</td>\n",
       "      <td>9.05</td>\n",
       "      <td>10.95</td>\n",
       "      <td>1.93</td>\n",
       "      <td>2.74</td>\n",
       "      <td>NaN</td>\n",
       "      <td>NaN</td>\n",
       "      <td>NaN</td>\n",
       "    </tr>\n",
       "    <tr>\n",
       "      <th>...</th>\n",
       "      <td>...</td>\n",
       "      <td>...</td>\n",
       "      <td>...</td>\n",
       "      <td>...</td>\n",
       "      <td>...</td>\n",
       "      <td>...</td>\n",
       "      <td>...</td>\n",
       "      <td>...</td>\n",
       "      <td>...</td>\n",
       "      <td>...</td>\n",
       "      <td>...</td>\n",
       "    </tr>\n",
       "    <tr>\n",
       "      <th>16710</th>\n",
       "      <td>Samurai Warriors: Sanada Maru</td>\n",
       "      <td>PS3</td>\n",
       "      <td>2016</td>\n",
       "      <td>Action</td>\n",
       "      <td>0.00</td>\n",
       "      <td>0.00</td>\n",
       "      <td>0.01</td>\n",
       "      <td>0.00</td>\n",
       "      <td>NaN</td>\n",
       "      <td>NaN</td>\n",
       "      <td>NaN</td>\n",
       "    </tr>\n",
       "    <tr>\n",
       "      <th>16711</th>\n",
       "      <td>LMA Manager 2007</td>\n",
       "      <td>X360</td>\n",
       "      <td>2006</td>\n",
       "      <td>Sports</td>\n",
       "      <td>0.00</td>\n",
       "      <td>0.01</td>\n",
       "      <td>0.00</td>\n",
       "      <td>0.00</td>\n",
       "      <td>NaN</td>\n",
       "      <td>NaN</td>\n",
       "      <td>NaN</td>\n",
       "    </tr>\n",
       "    <tr>\n",
       "      <th>16712</th>\n",
       "      <td>Haitaka no Psychedelica</td>\n",
       "      <td>PSV</td>\n",
       "      <td>2016</td>\n",
       "      <td>Adventure</td>\n",
       "      <td>0.00</td>\n",
       "      <td>0.00</td>\n",
       "      <td>0.01</td>\n",
       "      <td>0.00</td>\n",
       "      <td>NaN</td>\n",
       "      <td>NaN</td>\n",
       "      <td>NaN</td>\n",
       "    </tr>\n",
       "    <tr>\n",
       "      <th>16713</th>\n",
       "      <td>Spirits &amp; Spells</td>\n",
       "      <td>GBA</td>\n",
       "      <td>2003</td>\n",
       "      <td>Platform</td>\n",
       "      <td>0.01</td>\n",
       "      <td>0.00</td>\n",
       "      <td>0.00</td>\n",
       "      <td>0.00</td>\n",
       "      <td>NaN</td>\n",
       "      <td>NaN</td>\n",
       "      <td>NaN</td>\n",
       "    </tr>\n",
       "    <tr>\n",
       "      <th>16714</th>\n",
       "      <td>Winning Post 8 2016</td>\n",
       "      <td>PSV</td>\n",
       "      <td>2016</td>\n",
       "      <td>Simulation</td>\n",
       "      <td>0.00</td>\n",
       "      <td>0.00</td>\n",
       "      <td>0.01</td>\n",
       "      <td>0.00</td>\n",
       "      <td>NaN</td>\n",
       "      <td>NaN</td>\n",
       "      <td>NaN</td>\n",
       "    </tr>\n",
       "  </tbody>\n",
       "</table>\n",
       "<p>6543 rows × 11 columns</p>\n",
       "</div>"
      ],
      "text/plain": [
       "                                name platform  year_of_release         genre  \\\n",
       "1                  Super Mario Bros.      NES             1985      Platform   \n",
       "4           Pokemon Red/Pokemon Blue       GB             1996  Role-Playing   \n",
       "5                             Tetris       GB             1989        Puzzle   \n",
       "9                          Duck Hunt      NES             1984       Shooter   \n",
       "10                        Nintendogs       DS             2005    Simulation   \n",
       "...                              ...      ...              ...           ...   \n",
       "16710  Samurai Warriors: Sanada Maru      PS3             2016        Action   \n",
       "16711               LMA Manager 2007     X360             2006        Sports   \n",
       "16712        Haitaka no Psychedelica      PSV             2016     Adventure   \n",
       "16713               Spirits & Spells      GBA             2003      Platform   \n",
       "16714            Winning Post 8 2016      PSV             2016    Simulation   \n",
       "\n",
       "       na_sales  eu_sales  jp_sales  other_sales  critic_score user_score  \\\n",
       "1         29.08      3.58      6.81         0.77           NaN        NaN   \n",
       "4         11.27      8.89     10.22         1.00           NaN        NaN   \n",
       "5         23.20      2.26      4.22         0.58           NaN        NaN   \n",
       "9         26.93      0.63      0.28         0.47           NaN        NaN   \n",
       "10         9.05     10.95      1.93         2.74           NaN        NaN   \n",
       "...         ...       ...       ...          ...           ...        ...   \n",
       "16710      0.00      0.00      0.01         0.00           NaN        NaN   \n",
       "16711      0.00      0.01      0.00         0.00           NaN        NaN   \n",
       "16712      0.00      0.00      0.01         0.00           NaN        NaN   \n",
       "16713      0.01      0.00      0.00         0.00           NaN        NaN   \n",
       "16714      0.00      0.00      0.01         0.00           NaN        NaN   \n",
       "\n",
       "      rating  \n",
       "1        NaN  \n",
       "4        NaN  \n",
       "5        NaN  \n",
       "9        NaN  \n",
       "10       NaN  \n",
       "...      ...  \n",
       "16710    NaN  \n",
       "16711    NaN  \n",
       "16712    NaN  \n",
       "16713    NaN  \n",
       "16714    NaN  \n",
       "\n",
       "[6543 rows x 11 columns]"
      ]
     },
     "execution_count": 39,
     "metadata": {},
     "output_type": "execute_result"
    }
   ],
   "source": [
    "# кол-во пропусков в колонках 'user_score' и 'rating' практически совпадают. Проверим одинаковые ли это строчки\n",
    "\n",
    "data[(data['user_score'].isna()) & (data['rating'].isna())] #пропуски в рейтингах user_score и rating практически совпадают из 6605 совпало 6543, отличие не более 1%  \n"
   ]
  },
  {
   "cell_type": "code",
   "execution_count": 40,
   "metadata": {},
   "outputs": [
    {
     "data": {
      "text/html": [
       "<div>\n",
       "<style scoped>\n",
       "    .dataframe tbody tr th:only-of-type {\n",
       "        vertical-align: middle;\n",
       "    }\n",
       "\n",
       "    .dataframe tbody tr th {\n",
       "        vertical-align: top;\n",
       "    }\n",
       "\n",
       "    .dataframe thead th {\n",
       "        text-align: right;\n",
       "    }\n",
       "</style>\n",
       "<table border=\"1\" class=\"dataframe\">\n",
       "  <thead>\n",
       "    <tr style=\"text-align: right;\">\n",
       "      <th></th>\n",
       "      <th>name</th>\n",
       "      <th>platform</th>\n",
       "      <th>year_of_release</th>\n",
       "      <th>genre</th>\n",
       "      <th>na_sales</th>\n",
       "      <th>eu_sales</th>\n",
       "      <th>jp_sales</th>\n",
       "      <th>other_sales</th>\n",
       "      <th>critic_score</th>\n",
       "      <th>user_score</th>\n",
       "      <th>rating</th>\n",
       "    </tr>\n",
       "  </thead>\n",
       "  <tbody>\n",
       "    <tr>\n",
       "      <th>1</th>\n",
       "      <td>Super Mario Bros.</td>\n",
       "      <td>NES</td>\n",
       "      <td>1985</td>\n",
       "      <td>Platform</td>\n",
       "      <td>29.08</td>\n",
       "      <td>3.58</td>\n",
       "      <td>6.81</td>\n",
       "      <td>0.77</td>\n",
       "      <td>NaN</td>\n",
       "      <td>NaN</td>\n",
       "      <td>NaN</td>\n",
       "    </tr>\n",
       "    <tr>\n",
       "      <th>4</th>\n",
       "      <td>Pokemon Red/Pokemon Blue</td>\n",
       "      <td>GB</td>\n",
       "      <td>1996</td>\n",
       "      <td>Role-Playing</td>\n",
       "      <td>11.27</td>\n",
       "      <td>8.89</td>\n",
       "      <td>10.22</td>\n",
       "      <td>1.00</td>\n",
       "      <td>NaN</td>\n",
       "      <td>NaN</td>\n",
       "      <td>NaN</td>\n",
       "    </tr>\n",
       "    <tr>\n",
       "      <th>5</th>\n",
       "      <td>Tetris</td>\n",
       "      <td>GB</td>\n",
       "      <td>1989</td>\n",
       "      <td>Puzzle</td>\n",
       "      <td>23.20</td>\n",
       "      <td>2.26</td>\n",
       "      <td>4.22</td>\n",
       "      <td>0.58</td>\n",
       "      <td>NaN</td>\n",
       "      <td>NaN</td>\n",
       "      <td>NaN</td>\n",
       "    </tr>\n",
       "    <tr>\n",
       "      <th>9</th>\n",
       "      <td>Duck Hunt</td>\n",
       "      <td>NES</td>\n",
       "      <td>1984</td>\n",
       "      <td>Shooter</td>\n",
       "      <td>26.93</td>\n",
       "      <td>0.63</td>\n",
       "      <td>0.28</td>\n",
       "      <td>0.47</td>\n",
       "      <td>NaN</td>\n",
       "      <td>NaN</td>\n",
       "      <td>NaN</td>\n",
       "    </tr>\n",
       "    <tr>\n",
       "      <th>10</th>\n",
       "      <td>Nintendogs</td>\n",
       "      <td>DS</td>\n",
       "      <td>2005</td>\n",
       "      <td>Simulation</td>\n",
       "      <td>9.05</td>\n",
       "      <td>10.95</td>\n",
       "      <td>1.93</td>\n",
       "      <td>2.74</td>\n",
       "      <td>NaN</td>\n",
       "      <td>NaN</td>\n",
       "      <td>NaN</td>\n",
       "    </tr>\n",
       "    <tr>\n",
       "      <th>...</th>\n",
       "      <td>...</td>\n",
       "      <td>...</td>\n",
       "      <td>...</td>\n",
       "      <td>...</td>\n",
       "      <td>...</td>\n",
       "      <td>...</td>\n",
       "      <td>...</td>\n",
       "      <td>...</td>\n",
       "      <td>...</td>\n",
       "      <td>...</td>\n",
       "      <td>...</td>\n",
       "    </tr>\n",
       "    <tr>\n",
       "      <th>16710</th>\n",
       "      <td>Samurai Warriors: Sanada Maru</td>\n",
       "      <td>PS3</td>\n",
       "      <td>2016</td>\n",
       "      <td>Action</td>\n",
       "      <td>0.00</td>\n",
       "      <td>0.00</td>\n",
       "      <td>0.01</td>\n",
       "      <td>0.00</td>\n",
       "      <td>NaN</td>\n",
       "      <td>NaN</td>\n",
       "      <td>NaN</td>\n",
       "    </tr>\n",
       "    <tr>\n",
       "      <th>16711</th>\n",
       "      <td>LMA Manager 2007</td>\n",
       "      <td>X360</td>\n",
       "      <td>2006</td>\n",
       "      <td>Sports</td>\n",
       "      <td>0.00</td>\n",
       "      <td>0.01</td>\n",
       "      <td>0.00</td>\n",
       "      <td>0.00</td>\n",
       "      <td>NaN</td>\n",
       "      <td>NaN</td>\n",
       "      <td>NaN</td>\n",
       "    </tr>\n",
       "    <tr>\n",
       "      <th>16712</th>\n",
       "      <td>Haitaka no Psychedelica</td>\n",
       "      <td>PSV</td>\n",
       "      <td>2016</td>\n",
       "      <td>Adventure</td>\n",
       "      <td>0.00</td>\n",
       "      <td>0.00</td>\n",
       "      <td>0.01</td>\n",
       "      <td>0.00</td>\n",
       "      <td>NaN</td>\n",
       "      <td>NaN</td>\n",
       "      <td>NaN</td>\n",
       "    </tr>\n",
       "    <tr>\n",
       "      <th>16713</th>\n",
       "      <td>Spirits &amp; Spells</td>\n",
       "      <td>GBA</td>\n",
       "      <td>2003</td>\n",
       "      <td>Platform</td>\n",
       "      <td>0.01</td>\n",
       "      <td>0.00</td>\n",
       "      <td>0.00</td>\n",
       "      <td>0.00</td>\n",
       "      <td>NaN</td>\n",
       "      <td>NaN</td>\n",
       "      <td>NaN</td>\n",
       "    </tr>\n",
       "    <tr>\n",
       "      <th>16714</th>\n",
       "      <td>Winning Post 8 2016</td>\n",
       "      <td>PSV</td>\n",
       "      <td>2016</td>\n",
       "      <td>Simulation</td>\n",
       "      <td>0.00</td>\n",
       "      <td>0.00</td>\n",
       "      <td>0.01</td>\n",
       "      <td>0.00</td>\n",
       "      <td>NaN</td>\n",
       "      <td>NaN</td>\n",
       "      <td>NaN</td>\n",
       "    </tr>\n",
       "  </tbody>\n",
       "</table>\n",
       "<p>6534 rows × 11 columns</p>\n",
       "</div>"
      ],
      "text/plain": [
       "                                name platform  year_of_release         genre  \\\n",
       "1                  Super Mario Bros.      NES             1985      Platform   \n",
       "4           Pokemon Red/Pokemon Blue       GB             1996  Role-Playing   \n",
       "5                             Tetris       GB             1989        Puzzle   \n",
       "9                          Duck Hunt      NES             1984       Shooter   \n",
       "10                        Nintendogs       DS             2005    Simulation   \n",
       "...                              ...      ...              ...           ...   \n",
       "16710  Samurai Warriors: Sanada Maru      PS3             2016        Action   \n",
       "16711               LMA Manager 2007     X360             2006        Sports   \n",
       "16712        Haitaka no Psychedelica      PSV             2016     Adventure   \n",
       "16713               Spirits & Spells      GBA             2003      Platform   \n",
       "16714            Winning Post 8 2016      PSV             2016    Simulation   \n",
       "\n",
       "       na_sales  eu_sales  jp_sales  other_sales  critic_score user_score  \\\n",
       "1         29.08      3.58      6.81         0.77           NaN        NaN   \n",
       "4         11.27      8.89     10.22         1.00           NaN        NaN   \n",
       "5         23.20      2.26      4.22         0.58           NaN        NaN   \n",
       "9         26.93      0.63      0.28         0.47           NaN        NaN   \n",
       "10         9.05     10.95      1.93         2.74           NaN        NaN   \n",
       "...         ...       ...       ...          ...           ...        ...   \n",
       "16710      0.00      0.00      0.01         0.00           NaN        NaN   \n",
       "16711      0.00      0.01      0.00         0.00           NaN        NaN   \n",
       "16712      0.00      0.00      0.01         0.00           NaN        NaN   \n",
       "16713      0.01      0.00      0.00         0.00           NaN        NaN   \n",
       "16714      0.00      0.00      0.01         0.00           NaN        NaN   \n",
       "\n",
       "      rating  \n",
       "1        NaN  \n",
       "4        NaN  \n",
       "5        NaN  \n",
       "9        NaN  \n",
       "10       NaN  \n",
       "...      ...  \n",
       "16710    NaN  \n",
       "16711    NaN  \n",
       "16712    NaN  \n",
       "16713    NaN  \n",
       "16714    NaN  \n",
       "\n",
       "[6534 rows x 11 columns]"
      ]
     },
     "execution_count": 40,
     "metadata": {},
     "output_type": "execute_result"
    }
   ],
   "source": [
    "# по той же аналогии проверим 3 рейтинга одновременно\n",
    "\n",
    "data[(data['critic_score'].isna()) & (data['user_score'].isna()) & (data['rating'].isna())]\n",
    "\n",
    "# практически 99% совпадений пропусков по 3-м рейтингам (если считать по рейтингу с минимальным пропуском user_score)"
   ]
  },
  {
   "cell_type": "code",
   "execution_count": 41,
   "metadata": {},
   "outputs": [
    {
     "name": "stdout",
     "output_type": "stream",
     "text": [
      "[13. 17. 19. 20. 21. 23. 24. 25. 26. 27. 28. 29. 30. 31. 32. 33. 34. 35.\n",
      " 36. 37. 38. 39. 40. 41. 42. 43. 44. 45. 46. 47. 48. 49. 50. 51. 52. 53.\n",
      " 54. 55. 56. 57. 58. 59. 60. 61. 62. 63. 64. 65. 66. 67. 68. 69. 70. 71.\n",
      " 72. 73. 74. 75. 76. 77. 78. 79. 80. 81. 82. 83. 84. 85. 86. 87. 88. 89.\n",
      " 90. 91. 92. 93. 94. 95. 96. 97. 98. nan]\n",
      "['0' '0.2' '0.3' '0.5' '0.6' '0.7' '0.9' '1' '1.1' '1.2' '1.3' '1.4' '1.5'\n",
      " '1.6' '1.7' '1.8' '1.9' '2' '2.1' '2.2' '2.3' '2.4' '2.5' '2.6' '2.7'\n",
      " '2.8' '2.9' '3' '3.1' '3.2' '3.3' '3.4' '3.5' '3.6' '3.7' '3.8' '3.9' '4'\n",
      " '4.1' '4.2' '4.3' '4.4' '4.5' '4.6' '4.7' '4.8' '4.9' '5' '5.1' '5.2'\n",
      " '5.3' '5.4' '5.5' '5.6' '5.7' '5.8' '5.9' '6' '6.1' '6.2' '6.3' '6.4'\n",
      " '6.5' '6.6' '6.7' '6.8' '6.9' '7' '7.1' '7.2' '7.3' '7.4' '7.5' '7.6'\n",
      " '7.7' '7.8' '7.9' '8' '8.1' '8.2' '8.3' '8.4' '8.5' '8.6' '8.7' '8.8'\n",
      " '8.9' '9' '9.1' '9.2' '9.3' '9.4' '9.5' '9.6' '9.7' 'tbd' nan]\n",
      "['AO' 'E' 'E10+' 'EC' 'K-A' 'M' 'RP' 'T' nan]\n"
     ]
    }
   ],
   "source": [
    "# проверим уникальные значения рейтингов\n",
    "print(data['critic_score'].sort_values().unique())\n",
    "print(data['user_score'].sort_values().unique())\n",
    "print(data['rating'].sort_values().unique())\n",
    "\n",
    "# уникальные значения сходятся с вводными по данным. \n"
   ]
  },
  {
   "cell_type": "code",
   "execution_count": 42,
   "metadata": {
    "scrolled": true
   },
   "outputs": [
    {
     "data": {
      "text/html": [
       "<div>\n",
       "<style scoped>\n",
       "    .dataframe tbody tr th:only-of-type {\n",
       "        vertical-align: middle;\n",
       "    }\n",
       "\n",
       "    .dataframe tbody tr th {\n",
       "        vertical-align: top;\n",
       "    }\n",
       "\n",
       "    .dataframe thead th {\n",
       "        text-align: right;\n",
       "    }\n",
       "</style>\n",
       "<table border=\"1\" class=\"dataframe\">\n",
       "  <thead>\n",
       "    <tr style=\"text-align: right;\">\n",
       "      <th></th>\n",
       "      <th>name</th>\n",
       "      <th>platform</th>\n",
       "      <th>year_of_release</th>\n",
       "      <th>genre</th>\n",
       "      <th>na_sales</th>\n",
       "      <th>eu_sales</th>\n",
       "      <th>jp_sales</th>\n",
       "      <th>other_sales</th>\n",
       "      <th>critic_score</th>\n",
       "      <th>user_score</th>\n",
       "      <th>rating</th>\n",
       "    </tr>\n",
       "  </thead>\n",
       "  <tbody>\n",
       "    <tr>\n",
       "      <th>2835</th>\n",
       "      <td>My Little Pony: Pinkie Pie's Party</td>\n",
       "      <td>DS</td>\n",
       "      <td>2008</td>\n",
       "      <td>Adventure</td>\n",
       "      <td>0.66</td>\n",
       "      <td>0.0</td>\n",
       "      <td>0.0</td>\n",
       "      <td>0.06</td>\n",
       "      <td>NaN</td>\n",
       "      <td>0</td>\n",
       "      <td>E</td>\n",
       "    </tr>\n",
       "  </tbody>\n",
       "</table>\n",
       "</div>"
      ],
      "text/plain": [
       "                                    name platform  year_of_release      genre  \\\n",
       "2835  My Little Pony: Pinkie Pie's Party       DS             2008  Adventure   \n",
       "\n",
       "      na_sales  eu_sales  jp_sales  other_sales  critic_score user_score  \\\n",
       "2835      0.66       0.0       0.0         0.06           NaN          0   \n",
       "\n",
       "     rating  \n",
       "2835      E  "
      ]
     },
     "execution_count": 42,
     "metadata": {},
     "output_type": "execute_result"
    }
   ],
   "source": [
    "# в рейтинге 'user_score' наблидается 0 значение, проверим какое количеcтво имеется. Т.к. тип данных пока object, вызываем '0'\n",
    "\n",
    "data.loc[data['user_score']=='0'] # обнаружено одно значение\n"
   ]
  },
  {
   "cell_type": "code",
   "execution_count": 43,
   "metadata": {},
   "outputs": [],
   "source": [
    "# в исходных данных имеется всего одно нулевое значение.\n",
    "# поэтому все Nan мы можем заменить на 0 значения, и в дальнейшем, при необходимости, исключить нулевые данные из анализа без потери чистоты анализа\n",
    "data['user_score'] = data['user_score'].fillna(0)\n",
    "data['critic_score'] = data['critic_score'].fillna(0)\n",
    "data['rating'] = data['rating'].fillna('неизвестно') # тип данных object, поэтому нет привязки к числовому значению"
   ]
  },
  {
   "cell_type": "code",
   "execution_count": 44,
   "metadata": {},
   "outputs": [
    {
     "data": {
      "text/plain": [
       "0.2    0.0001\n",
       "0.9    0.0001\n",
       "9.6    0.0001\n",
       "0      0.0001\n",
       "9.7    0.0001\n",
       "Name: user_score, dtype: float64"
      ]
     },
     "execution_count": 44,
     "metadata": {},
     "output_type": "execute_result"
    }
   ],
   "source": [
    "# проверим долю 'user_score'\n",
    "\n",
    "round(data['user_score'].value_counts() / len(data), 4).tail()\n",
    "\n",
    "# значений с низкой долей очень большое. Удалять не будем, чтоб не потерять данные других колонок, а объединить нет возможности, \n",
    "# т.к. не обнаружен общий признак, по которому можно сгруппировать данные"
   ]
  },
  {
   "cell_type": "code",
   "execution_count": 45,
   "metadata": {},
   "outputs": [
    {
     "data": {
      "text/plain": [
       "20.0    0.0002\n",
       "29.0    0.0002\n",
       "21.0    0.0001\n",
       "17.0    0.0001\n",
       "13.0    0.0001\n",
       "Name: critic_score, dtype: float64"
      ]
     },
     "execution_count": 45,
     "metadata": {},
     "output_type": "execute_result"
    }
   ],
   "source": [
    "# проверим долю 'critic_score'\n",
    "\n",
    "round(data['critic_score'].value_counts() / len(data), 4).tail()\n",
    "\n",
    "# значений с низкой долей много. Удалять не будем, чтоб не потерять данные других колонок, а объединить нет возможности, \n",
    "# т.к. не обнаружен общий признак, по которому можно сгруппировать данные"
   ]
  },
  {
   "cell_type": "code",
   "execution_count": 46,
   "metadata": {},
   "outputs": [
    {
     "data": {
      "text/plain": [
       "неизвестно    0.4060\n",
       "E             0.2384\n",
       "T             0.1767\n",
       "M             0.0934\n",
       "E10+          0.0847\n",
       "EC            0.0005\n",
       "K-A           0.0002\n",
       "AO            0.0001\n",
       "RP            0.0001\n",
       "Name: rating, dtype: float64"
      ]
     },
     "execution_count": 46,
     "metadata": {},
     "output_type": "execute_result"
    }
   ],
   "source": [
    "# проверим долю 'rating'\n",
    "\n",
    "round(data['rating'].value_counts() / len(data), 4).head(15)\n",
    "\n",
    "# значений с низкой долей много. Удалять не будем, чтоб не потерять данные других колонок, а объединять не вижу смысл, \n",
    "# т..к данные значения в небольшом кол-ве и не должны повлиять на анализ"
   ]
  },
  {
   "cell_type": "code",
   "execution_count": 49,
   "metadata": {},
   "outputs": [
    {
     "data": {
      "text/html": [
       "<div>\n",
       "<style scoped>\n",
       "    .dataframe tbody tr th:only-of-type {\n",
       "        vertical-align: middle;\n",
       "    }\n",
       "\n",
       "    .dataframe tbody tr th {\n",
       "        vertical-align: top;\n",
       "    }\n",
       "\n",
       "    .dataframe thead th {\n",
       "        text-align: right;\n",
       "    }\n",
       "</style>\n",
       "<table border=\"1\" class=\"dataframe\">\n",
       "  <thead>\n",
       "    <tr style=\"text-align: right;\">\n",
       "      <th></th>\n",
       "      <th>name</th>\n",
       "      <th>platform</th>\n",
       "      <th>year_of_release</th>\n",
       "      <th>genre</th>\n",
       "      <th>na_sales</th>\n",
       "      <th>eu_sales</th>\n",
       "      <th>jp_sales</th>\n",
       "      <th>other_sales</th>\n",
       "      <th>critic_score</th>\n",
       "      <th>user_score</th>\n",
       "      <th>rating</th>\n",
       "    </tr>\n",
       "  </thead>\n",
       "  <tbody>\n",
       "    <tr>\n",
       "      <th>0</th>\n",
       "      <td>Wii Sports</td>\n",
       "      <td>Wii</td>\n",
       "      <td>2006</td>\n",
       "      <td>Sports</td>\n",
       "      <td>41.36</td>\n",
       "      <td>28.96</td>\n",
       "      <td>3.77</td>\n",
       "      <td>8.45</td>\n",
       "      <td>76.0</td>\n",
       "      <td>8</td>\n",
       "      <td>E</td>\n",
       "    </tr>\n",
       "    <tr>\n",
       "      <th>1</th>\n",
       "      <td>Super Mario Bros.</td>\n",
       "      <td>NES</td>\n",
       "      <td>1985</td>\n",
       "      <td>Platform</td>\n",
       "      <td>29.08</td>\n",
       "      <td>3.58</td>\n",
       "      <td>6.81</td>\n",
       "      <td>0.77</td>\n",
       "      <td>0.0</td>\n",
       "      <td>0</td>\n",
       "      <td>неизвестно</td>\n",
       "    </tr>\n",
       "    <tr>\n",
       "      <th>2</th>\n",
       "      <td>Mario Kart Wii</td>\n",
       "      <td>Wii</td>\n",
       "      <td>2008</td>\n",
       "      <td>Racing</td>\n",
       "      <td>15.68</td>\n",
       "      <td>12.76</td>\n",
       "      <td>3.79</td>\n",
       "      <td>3.29</td>\n",
       "      <td>82.0</td>\n",
       "      <td>8.3</td>\n",
       "      <td>E</td>\n",
       "    </tr>\n",
       "    <tr>\n",
       "      <th>3</th>\n",
       "      <td>Wii Sports Resort</td>\n",
       "      <td>Wii</td>\n",
       "      <td>2009</td>\n",
       "      <td>Sports</td>\n",
       "      <td>15.61</td>\n",
       "      <td>10.93</td>\n",
       "      <td>3.28</td>\n",
       "      <td>2.95</td>\n",
       "      <td>80.0</td>\n",
       "      <td>8</td>\n",
       "      <td>E</td>\n",
       "    </tr>\n",
       "    <tr>\n",
       "      <th>4</th>\n",
       "      <td>Pokemon Red/Pokemon Blue</td>\n",
       "      <td>GB</td>\n",
       "      <td>1996</td>\n",
       "      <td>Role-Playing</td>\n",
       "      <td>11.27</td>\n",
       "      <td>8.89</td>\n",
       "      <td>10.22</td>\n",
       "      <td>1.00</td>\n",
       "      <td>0.0</td>\n",
       "      <td>0</td>\n",
       "      <td>неизвестно</td>\n",
       "    </tr>\n",
       "    <tr>\n",
       "      <th>...</th>\n",
       "      <td>...</td>\n",
       "      <td>...</td>\n",
       "      <td>...</td>\n",
       "      <td>...</td>\n",
       "      <td>...</td>\n",
       "      <td>...</td>\n",
       "      <td>...</td>\n",
       "      <td>...</td>\n",
       "      <td>...</td>\n",
       "      <td>...</td>\n",
       "      <td>...</td>\n",
       "    </tr>\n",
       "    <tr>\n",
       "      <th>16710</th>\n",
       "      <td>Samurai Warriors: Sanada Maru</td>\n",
       "      <td>PS3</td>\n",
       "      <td>2016</td>\n",
       "      <td>Action</td>\n",
       "      <td>0.00</td>\n",
       "      <td>0.00</td>\n",
       "      <td>0.01</td>\n",
       "      <td>0.00</td>\n",
       "      <td>0.0</td>\n",
       "      <td>0</td>\n",
       "      <td>неизвестно</td>\n",
       "    </tr>\n",
       "    <tr>\n",
       "      <th>16711</th>\n",
       "      <td>LMA Manager 2007</td>\n",
       "      <td>X360</td>\n",
       "      <td>2006</td>\n",
       "      <td>Sports</td>\n",
       "      <td>0.00</td>\n",
       "      <td>0.01</td>\n",
       "      <td>0.00</td>\n",
       "      <td>0.00</td>\n",
       "      <td>0.0</td>\n",
       "      <td>0</td>\n",
       "      <td>неизвестно</td>\n",
       "    </tr>\n",
       "    <tr>\n",
       "      <th>16712</th>\n",
       "      <td>Haitaka no Psychedelica</td>\n",
       "      <td>PSV</td>\n",
       "      <td>2016</td>\n",
       "      <td>Adventure</td>\n",
       "      <td>0.00</td>\n",
       "      <td>0.00</td>\n",
       "      <td>0.01</td>\n",
       "      <td>0.00</td>\n",
       "      <td>0.0</td>\n",
       "      <td>0</td>\n",
       "      <td>неизвестно</td>\n",
       "    </tr>\n",
       "    <tr>\n",
       "      <th>16713</th>\n",
       "      <td>Spirits &amp; Spells</td>\n",
       "      <td>GBA</td>\n",
       "      <td>2003</td>\n",
       "      <td>Platform</td>\n",
       "      <td>0.01</td>\n",
       "      <td>0.00</td>\n",
       "      <td>0.00</td>\n",
       "      <td>0.00</td>\n",
       "      <td>0.0</td>\n",
       "      <td>0</td>\n",
       "      <td>неизвестно</td>\n",
       "    </tr>\n",
       "    <tr>\n",
       "      <th>16714</th>\n",
       "      <td>Winning Post 8 2016</td>\n",
       "      <td>PSV</td>\n",
       "      <td>2016</td>\n",
       "      <td>Simulation</td>\n",
       "      <td>0.00</td>\n",
       "      <td>0.00</td>\n",
       "      <td>0.01</td>\n",
       "      <td>0.00</td>\n",
       "      <td>0.0</td>\n",
       "      <td>0</td>\n",
       "      <td>неизвестно</td>\n",
       "    </tr>\n",
       "  </tbody>\n",
       "</table>\n",
       "<p>16444 rows × 11 columns</p>\n",
       "</div>"
      ],
      "text/plain": [
       "                                name platform  year_of_release         genre  \\\n",
       "0                         Wii Sports      Wii             2006        Sports   \n",
       "1                  Super Mario Bros.      NES             1985      Platform   \n",
       "2                     Mario Kart Wii      Wii             2008        Racing   \n",
       "3                  Wii Sports Resort      Wii             2009        Sports   \n",
       "4           Pokemon Red/Pokemon Blue       GB             1996  Role-Playing   \n",
       "...                              ...      ...              ...           ...   \n",
       "16710  Samurai Warriors: Sanada Maru      PS3             2016        Action   \n",
       "16711               LMA Manager 2007     X360             2006        Sports   \n",
       "16712        Haitaka no Psychedelica      PSV             2016     Adventure   \n",
       "16713               Spirits & Spells      GBA             2003      Platform   \n",
       "16714            Winning Post 8 2016      PSV             2016    Simulation   \n",
       "\n",
       "       na_sales  eu_sales  jp_sales  other_sales  critic_score user_score  \\\n",
       "0         41.36     28.96      3.77         8.45          76.0          8   \n",
       "1         29.08      3.58      6.81         0.77           0.0          0   \n",
       "2         15.68     12.76      3.79         3.29          82.0        8.3   \n",
       "3         15.61     10.93      3.28         2.95          80.0          8   \n",
       "4         11.27      8.89     10.22         1.00           0.0          0   \n",
       "...         ...       ...       ...          ...           ...        ...   \n",
       "16710      0.00      0.00      0.01         0.00           0.0          0   \n",
       "16711      0.00      0.01      0.00         0.00           0.0          0   \n",
       "16712      0.00      0.00      0.01         0.00           0.0          0   \n",
       "16713      0.01      0.00      0.00         0.00           0.0          0   \n",
       "16714      0.00      0.00      0.01         0.00           0.0          0   \n",
       "\n",
       "           rating  \n",
       "0               E  \n",
       "1      неизвестно  \n",
       "2               E  \n",
       "3               E  \n",
       "4      неизвестно  \n",
       "...           ...  \n",
       "16710  неизвестно  \n",
       "16711  неизвестно  \n",
       "16712  неизвестно  \n",
       "16713  неизвестно  \n",
       "16714  неизвестно  \n",
       "\n",
       "[16444 rows x 11 columns]"
      ]
     },
     "execution_count": 49,
     "metadata": {},
     "output_type": "execute_result"
    }
   ],
   "source": [
    "data"
   ]
  },
  {
   "cell_type": "code",
   "execution_count": 50,
   "metadata": {},
   "outputs": [],
   "source": [
    "# сразу переведем знаяения 'critic_score' в int\n",
    "data['critic_score'] = data['critic_score'].astype('int')"
   ]
  },
  {
   "cell_type": "code",
   "execution_count": 51,
   "metadata": {},
   "outputs": [
    {
     "name": "stdout",
     "output_type": "stream",
     "text": [
      "<class 'pandas.core.frame.DataFrame'>\n",
      "Int64Index: 16444 entries, 0 to 16714\n",
      "Data columns (total 11 columns):\n",
      " #   Column           Non-Null Count  Dtype  \n",
      "---  ------           --------------  -----  \n",
      " 0   name             16444 non-null  object \n",
      " 1   platform         16444 non-null  object \n",
      " 2   year_of_release  16444 non-null  int64  \n",
      " 3   genre            16444 non-null  object \n",
      " 4   na_sales         16444 non-null  float64\n",
      " 5   eu_sales         16444 non-null  float64\n",
      " 6   jp_sales         16444 non-null  float64\n",
      " 7   other_sales      16444 non-null  float64\n",
      " 8   critic_score     16444 non-null  int64  \n",
      " 9   user_score       16444 non-null  object \n",
      " 10  rating           16444 non-null  object \n",
      "dtypes: float64(4), int64(2), object(5)\n",
      "memory usage: 1.5+ MB\n"
     ]
    }
   ],
   "source": [
    "data.info()\n",
    "# всего осталось 16444 позиций. Все пропуски заполнены, тип данных указан верно"
   ]
  },
  {
   "cell_type": "code",
   "execution_count": 52,
   "metadata": {},
   "outputs": [
    {
     "data": {
      "text/plain": [
       "year_of_release\n",
       "1980      9\n",
       "1981     46\n",
       "1982     36\n",
       "1983     17\n",
       "1984     14\n",
       "1985     13\n",
       "1986     21\n",
       "1987     16\n",
       "1988     14\n",
       "1989     17\n",
       "1990     16\n",
       "1991     41\n",
       "1992     42\n",
       "1993     60\n",
       "1994    120\n",
       "1995    219\n",
       "1996    255\n",
       "1997    270\n",
       "1998    348\n",
       "1999    299\n",
       "2000    200\n",
       "2001    143\n",
       "2002    173\n",
       "2003    164\n",
       "2004    166\n",
       "2005    235\n",
       "2006    330\n",
       "2007    376\n",
       "2008    440\n",
       "2009    407\n",
       "2010    457\n",
       "2011    418\n",
       "2012    290\n",
       "2013    225\n",
       "2014    231\n",
       "2015    271\n",
       "2016    206\n",
       "Name: year_of_release, dtype: int64"
      ]
     },
     "execution_count": 52,
     "metadata": {},
     "output_type": "execute_result"
    }
   ],
   "source": [
    "# посмотрим закономерности пропуском и попробуем определить причины их появления\n",
    "# т.к. многие пропуски совпадали в рейтингах, можем проверить один из рейтингов\n",
    "\n",
    "data.loc[data['user_score']==0].groupby('genre')['genre'].count() \n",
    "# по жанрам закономерность не обнаружена\n",
    "\n",
    "data.loc[data['user_score']==0].groupby('rating')['rating'].count() \n",
    "# как ранее и указывали, пропуски у категорий совпадают, поэтому основное кол-во совпало с пропусками в rating. Более выводов не сделать\n",
    "\n",
    "data.loc[data['user_score']==0].groupby('year_of_release')['year_of_release'].count() \n",
    "#наблюдается увеличение пропусков с 1994 по 2011год, далее идет спад. \n",
    "#Возможно было выпущено огромное разнообразие игр, поэтому многие игры геймеры обошли вниманием или возможно в этот период была не развита система рейтингов\n"
   ]
  },
  {
   "cell_type": "code",
   "execution_count": 53,
   "metadata": {},
   "outputs": [
    {
     "data": {
      "text/html": [
       "<div>\n",
       "<style scoped>\n",
       "    .dataframe tbody tr th:only-of-type {\n",
       "        vertical-align: middle;\n",
       "    }\n",
       "\n",
       "    .dataframe tbody tr th {\n",
       "        vertical-align: top;\n",
       "    }\n",
       "\n",
       "    .dataframe thead th {\n",
       "        text-align: right;\n",
       "    }\n",
       "</style>\n",
       "<table border=\"1\" class=\"dataframe\">\n",
       "  <thead>\n",
       "    <tr style=\"text-align: right;\">\n",
       "      <th></th>\n",
       "      <th>name</th>\n",
       "      <th>platform</th>\n",
       "      <th>year_of_release</th>\n",
       "      <th>genre</th>\n",
       "      <th>na_sales</th>\n",
       "      <th>eu_sales</th>\n",
       "      <th>jp_sales</th>\n",
       "      <th>other_sales</th>\n",
       "      <th>critic_score</th>\n",
       "      <th>user_score</th>\n",
       "      <th>rating</th>\n",
       "    </tr>\n",
       "  </thead>\n",
       "  <tbody>\n",
       "    <tr>\n",
       "      <th>119</th>\n",
       "      <td>Zumba Fitness</td>\n",
       "      <td>Wii</td>\n",
       "      <td>2010</td>\n",
       "      <td>Sports</td>\n",
       "      <td>3.45</td>\n",
       "      <td>2.59</td>\n",
       "      <td>0.0</td>\n",
       "      <td>0.66</td>\n",
       "      <td>0</td>\n",
       "      <td>tbd</td>\n",
       "      <td>E</td>\n",
       "    </tr>\n",
       "    <tr>\n",
       "      <th>301</th>\n",
       "      <td>Namco Museum: 50th Anniversary</td>\n",
       "      <td>PS2</td>\n",
       "      <td>2005</td>\n",
       "      <td>Misc</td>\n",
       "      <td>2.08</td>\n",
       "      <td>1.35</td>\n",
       "      <td>0.0</td>\n",
       "      <td>0.54</td>\n",
       "      <td>61</td>\n",
       "      <td>tbd</td>\n",
       "      <td>E10+</td>\n",
       "    </tr>\n",
       "    <tr>\n",
       "      <th>520</th>\n",
       "      <td>Zumba Fitness 2</td>\n",
       "      <td>Wii</td>\n",
       "      <td>2011</td>\n",
       "      <td>Sports</td>\n",
       "      <td>1.51</td>\n",
       "      <td>1.03</td>\n",
       "      <td>0.0</td>\n",
       "      <td>0.27</td>\n",
       "      <td>0</td>\n",
       "      <td>tbd</td>\n",
       "      <td>T</td>\n",
       "    </tr>\n",
       "    <tr>\n",
       "      <th>645</th>\n",
       "      <td>uDraw Studio</td>\n",
       "      <td>Wii</td>\n",
       "      <td>2010</td>\n",
       "      <td>Misc</td>\n",
       "      <td>1.65</td>\n",
       "      <td>0.57</td>\n",
       "      <td>0.0</td>\n",
       "      <td>0.20</td>\n",
       "      <td>71</td>\n",
       "      <td>tbd</td>\n",
       "      <td>E</td>\n",
       "    </tr>\n",
       "    <tr>\n",
       "      <th>718</th>\n",
       "      <td>Just Dance Kids</td>\n",
       "      <td>Wii</td>\n",
       "      <td>2010</td>\n",
       "      <td>Misc</td>\n",
       "      <td>1.52</td>\n",
       "      <td>0.54</td>\n",
       "      <td>0.0</td>\n",
       "      <td>0.18</td>\n",
       "      <td>0</td>\n",
       "      <td>tbd</td>\n",
       "      <td>E</td>\n",
       "    </tr>\n",
       "    <tr>\n",
       "      <th>...</th>\n",
       "      <td>...</td>\n",
       "      <td>...</td>\n",
       "      <td>...</td>\n",
       "      <td>...</td>\n",
       "      <td>...</td>\n",
       "      <td>...</td>\n",
       "      <td>...</td>\n",
       "      <td>...</td>\n",
       "      <td>...</td>\n",
       "      <td>...</td>\n",
       "      <td>...</td>\n",
       "    </tr>\n",
       "    <tr>\n",
       "      <th>16695</th>\n",
       "      <td>Planet Monsters</td>\n",
       "      <td>GBA</td>\n",
       "      <td>2001</td>\n",
       "      <td>Action</td>\n",
       "      <td>0.01</td>\n",
       "      <td>0.00</td>\n",
       "      <td>0.0</td>\n",
       "      <td>0.00</td>\n",
       "      <td>67</td>\n",
       "      <td>tbd</td>\n",
       "      <td>E</td>\n",
       "    </tr>\n",
       "    <tr>\n",
       "      <th>16697</th>\n",
       "      <td>Bust-A-Move 3000</td>\n",
       "      <td>GC</td>\n",
       "      <td>2003</td>\n",
       "      <td>Puzzle</td>\n",
       "      <td>0.01</td>\n",
       "      <td>0.00</td>\n",
       "      <td>0.0</td>\n",
       "      <td>0.00</td>\n",
       "      <td>53</td>\n",
       "      <td>tbd</td>\n",
       "      <td>E</td>\n",
       "    </tr>\n",
       "    <tr>\n",
       "      <th>16698</th>\n",
       "      <td>Mega Brain Boost</td>\n",
       "      <td>DS</td>\n",
       "      <td>2008</td>\n",
       "      <td>Puzzle</td>\n",
       "      <td>0.01</td>\n",
       "      <td>0.00</td>\n",
       "      <td>0.0</td>\n",
       "      <td>0.00</td>\n",
       "      <td>48</td>\n",
       "      <td>tbd</td>\n",
       "      <td>E</td>\n",
       "    </tr>\n",
       "    <tr>\n",
       "      <th>16704</th>\n",
       "      <td>Plushees</td>\n",
       "      <td>DS</td>\n",
       "      <td>2008</td>\n",
       "      <td>Simulation</td>\n",
       "      <td>0.01</td>\n",
       "      <td>0.00</td>\n",
       "      <td>0.0</td>\n",
       "      <td>0.00</td>\n",
       "      <td>0</td>\n",
       "      <td>tbd</td>\n",
       "      <td>E</td>\n",
       "    </tr>\n",
       "    <tr>\n",
       "      <th>16706</th>\n",
       "      <td>Men in Black II: Alien Escape</td>\n",
       "      <td>GC</td>\n",
       "      <td>2003</td>\n",
       "      <td>Shooter</td>\n",
       "      <td>0.01</td>\n",
       "      <td>0.00</td>\n",
       "      <td>0.0</td>\n",
       "      <td>0.00</td>\n",
       "      <td>0</td>\n",
       "      <td>tbd</td>\n",
       "      <td>T</td>\n",
       "    </tr>\n",
       "  </tbody>\n",
       "</table>\n",
       "<p>2376 rows × 11 columns</p>\n",
       "</div>"
      ],
      "text/plain": [
       "                                 name platform  year_of_release       genre  \\\n",
       "119                     Zumba Fitness      Wii             2010      Sports   \n",
       "301    Namco Museum: 50th Anniversary      PS2             2005        Misc   \n",
       "520                   Zumba Fitness 2      Wii             2011      Sports   \n",
       "645                      uDraw Studio      Wii             2010        Misc   \n",
       "718                   Just Dance Kids      Wii             2010        Misc   \n",
       "...                               ...      ...              ...         ...   \n",
       "16695                 Planet Monsters      GBA             2001      Action   \n",
       "16697                Bust-A-Move 3000       GC             2003      Puzzle   \n",
       "16698                Mega Brain Boost       DS             2008      Puzzle   \n",
       "16704                        Plushees       DS             2008  Simulation   \n",
       "16706   Men in Black II: Alien Escape       GC             2003     Shooter   \n",
       "\n",
       "       na_sales  eu_sales  jp_sales  other_sales  critic_score user_score  \\\n",
       "119        3.45      2.59       0.0         0.66             0        tbd   \n",
       "301        2.08      1.35       0.0         0.54            61        tbd   \n",
       "520        1.51      1.03       0.0         0.27             0        tbd   \n",
       "645        1.65      0.57       0.0         0.20            71        tbd   \n",
       "718        1.52      0.54       0.0         0.18             0        tbd   \n",
       "...         ...       ...       ...          ...           ...        ...   \n",
       "16695      0.01      0.00       0.0         0.00            67        tbd   \n",
       "16697      0.01      0.00       0.0         0.00            53        tbd   \n",
       "16698      0.01      0.00       0.0         0.00            48        tbd   \n",
       "16704      0.01      0.00       0.0         0.00             0        tbd   \n",
       "16706      0.01      0.00       0.0         0.00             0        tbd   \n",
       "\n",
       "      rating  \n",
       "119        E  \n",
       "301     E10+  \n",
       "520        T  \n",
       "645        E  \n",
       "718        E  \n",
       "...      ...  \n",
       "16695      E  \n",
       "16697      E  \n",
       "16698      E  \n",
       "16704      E  \n",
       "16706      T  \n",
       "\n",
       "[2376 rows x 11 columns]"
      ]
     },
     "execution_count": 53,
     "metadata": {},
     "output_type": "execute_result"
    }
   ],
   "source": [
    "# осталось разобраться с tbd в колонке user_score \n",
    "# TBD — сокращение от To Be Determined. Служит для отметки неясностей или пропусков, которые надо заполнить, в информации требований.\n",
    "# данных с таким значением - 2376шт, это практически 15% всех данных и это много\n",
    "\n",
    "data.loc[data['user_score']=='tbd']"
   ]
  },
  {
   "cell_type": "code",
   "execution_count": 54,
   "metadata": {},
   "outputs": [
    {
     "data": {
      "text/plain": [
       "rating\n",
       "E             1548\n",
       "E10+           360\n",
       "EC               7\n",
       "M               42\n",
       "T              369\n",
       "неизвестно      50\n",
       "Name: rating, dtype: int64"
      ]
     },
     "execution_count": 54,
     "metadata": {},
     "output_type": "execute_result"
    }
   ],
   "source": [
    "# посмотрим имеется ли закономерность значений 'tbd'\n",
    "\n",
    "data.loc[data['user_score']=='tbd'].groupby('genre')['genre'].count() \n",
    "# закономерности в жанре не обнаружено, они различные с разным процентным соотношением\n",
    "\n",
    "data.loc[data['user_score']=='tbd'].groupby('year_of_release')['year_of_release'].count() \n",
    "#основная масса 'tbd' была с 2000 по 2011 год. Возможно это может быть связано с некорректной оценкой пользователя/геймера\n",
    "\n",
    "data.loc[data['user_score']=='tbd'].groupby('rating')['rating'].count() \n",
    "# почти 65% составляют универсальные игры, т.е из категории Для всех\n"
   ]
  },
  {
   "cell_type": "code",
   "execution_count": 55,
   "metadata": {},
   "outputs": [
    {
     "data": {
      "text/html": [
       "<div>\n",
       "<style scoped>\n",
       "    .dataframe tbody tr th:only-of-type {\n",
       "        vertical-align: middle;\n",
       "    }\n",
       "\n",
       "    .dataframe tbody tr th {\n",
       "        vertical-align: top;\n",
       "    }\n",
       "\n",
       "    .dataframe thead th {\n",
       "        text-align: right;\n",
       "    }\n",
       "</style>\n",
       "<table border=\"1\" class=\"dataframe\">\n",
       "  <thead>\n",
       "    <tr style=\"text-align: right;\">\n",
       "      <th></th>\n",
       "      <th>name</th>\n",
       "      <th>platform</th>\n",
       "      <th>year_of_release</th>\n",
       "      <th>genre</th>\n",
       "      <th>na_sales</th>\n",
       "      <th>eu_sales</th>\n",
       "      <th>jp_sales</th>\n",
       "      <th>other_sales</th>\n",
       "      <th>critic_score</th>\n",
       "      <th>user_score</th>\n",
       "      <th>rating</th>\n",
       "    </tr>\n",
       "  </thead>\n",
       "  <tbody>\n",
       "    <tr>\n",
       "      <th>0</th>\n",
       "      <td>Wii Sports</td>\n",
       "      <td>Wii</td>\n",
       "      <td>2006</td>\n",
       "      <td>Sports</td>\n",
       "      <td>41.36</td>\n",
       "      <td>28.96</td>\n",
       "      <td>3.77</td>\n",
       "      <td>8.45</td>\n",
       "      <td>76</td>\n",
       "      <td>8</td>\n",
       "      <td>E</td>\n",
       "    </tr>\n",
       "    <tr>\n",
       "      <th>1</th>\n",
       "      <td>Super Mario Bros.</td>\n",
       "      <td>NES</td>\n",
       "      <td>1985</td>\n",
       "      <td>Platform</td>\n",
       "      <td>29.08</td>\n",
       "      <td>3.58</td>\n",
       "      <td>6.81</td>\n",
       "      <td>0.77</td>\n",
       "      <td>0</td>\n",
       "      <td>0</td>\n",
       "      <td>неизвестно</td>\n",
       "    </tr>\n",
       "    <tr>\n",
       "      <th>2</th>\n",
       "      <td>Mario Kart Wii</td>\n",
       "      <td>Wii</td>\n",
       "      <td>2008</td>\n",
       "      <td>Racing</td>\n",
       "      <td>15.68</td>\n",
       "      <td>12.76</td>\n",
       "      <td>3.79</td>\n",
       "      <td>3.29</td>\n",
       "      <td>82</td>\n",
       "      <td>8.3</td>\n",
       "      <td>E</td>\n",
       "    </tr>\n",
       "    <tr>\n",
       "      <th>3</th>\n",
       "      <td>Wii Sports Resort</td>\n",
       "      <td>Wii</td>\n",
       "      <td>2009</td>\n",
       "      <td>Sports</td>\n",
       "      <td>15.61</td>\n",
       "      <td>10.93</td>\n",
       "      <td>3.28</td>\n",
       "      <td>2.95</td>\n",
       "      <td>80</td>\n",
       "      <td>8</td>\n",
       "      <td>E</td>\n",
       "    </tr>\n",
       "    <tr>\n",
       "      <th>4</th>\n",
       "      <td>Pokemon Red/Pokemon Blue</td>\n",
       "      <td>GB</td>\n",
       "      <td>1996</td>\n",
       "      <td>Role-Playing</td>\n",
       "      <td>11.27</td>\n",
       "      <td>8.89</td>\n",
       "      <td>10.22</td>\n",
       "      <td>1.00</td>\n",
       "      <td>0</td>\n",
       "      <td>0</td>\n",
       "      <td>неизвестно</td>\n",
       "    </tr>\n",
       "  </tbody>\n",
       "</table>\n",
       "</div>"
      ],
      "text/plain": [
       "                       name platform  year_of_release         genre  na_sales  \\\n",
       "0                Wii Sports      Wii             2006        Sports     41.36   \n",
       "1         Super Mario Bros.      NES             1985      Platform     29.08   \n",
       "2            Mario Kart Wii      Wii             2008        Racing     15.68   \n",
       "3         Wii Sports Resort      Wii             2009        Sports     15.61   \n",
       "4  Pokemon Red/Pokemon Blue       GB             1996  Role-Playing     11.27   \n",
       "\n",
       "   eu_sales  jp_sales  other_sales  critic_score user_score      rating  \n",
       "0     28.96      3.77         8.45            76          8           E  \n",
       "1      3.58      6.81         0.77             0          0  неизвестно  \n",
       "2     12.76      3.79         3.29            82        8.3           E  \n",
       "3     10.93      3.28         2.95            80          8           E  \n",
       "4      8.89     10.22         1.00             0          0  неизвестно  "
      ]
     },
     "execution_count": 55,
     "metadata": {},
     "output_type": "execute_result"
    }
   ],
   "source": [
    "# нам необходима данная колонка user_score для дальнейшего анализа количественных данных, поэтому данные необходимо заполнить числовым значением.\n",
    "# в связи с тем, что мы не смогли выявить явной закономерности, то оптимально считать, что у признака tbd нет рейтинга, т.е. укажем 0, как и в Nan ранее. \n",
    "# но чтоб данные не повлияли на чистоту анализа, необходимо в дальнейшем отфильтровывать все нулевые рейтинги из анализа \n",
    "\n",
    "def user_score(score):\n",
    "    if score == 'tbd':\n",
    "        return 0\n",
    "    elif score != 'tbd':\n",
    "        return score\n",
    "data['user_score'] = data['user_score'].apply(user_score)\n",
    "data.head()"
   ]
  },
  {
   "cell_type": "code",
   "execution_count": 57,
   "metadata": {},
   "outputs": [
    {
     "data": {
      "text/html": [
       "<div>\n",
       "<style scoped>\n",
       "    .dataframe tbody tr th:only-of-type {\n",
       "        vertical-align: middle;\n",
       "    }\n",
       "\n",
       "    .dataframe tbody tr th {\n",
       "        vertical-align: top;\n",
       "    }\n",
       "\n",
       "    .dataframe thead th {\n",
       "        text-align: right;\n",
       "    }\n",
       "</style>\n",
       "<table border=\"1\" class=\"dataframe\">\n",
       "  <thead>\n",
       "    <tr style=\"text-align: right;\">\n",
       "      <th></th>\n",
       "      <th>name</th>\n",
       "      <th>platform</th>\n",
       "      <th>year_of_release</th>\n",
       "      <th>genre</th>\n",
       "      <th>na_sales</th>\n",
       "      <th>eu_sales</th>\n",
       "      <th>jp_sales</th>\n",
       "      <th>other_sales</th>\n",
       "      <th>critic_score</th>\n",
       "      <th>user_score</th>\n",
       "      <th>rating</th>\n",
       "    </tr>\n",
       "  </thead>\n",
       "  <tbody>\n",
       "    <tr>\n",
       "      <th>1</th>\n",
       "      <td>Super Mario Bros.</td>\n",
       "      <td>NES</td>\n",
       "      <td>1985</td>\n",
       "      <td>Platform</td>\n",
       "      <td>29.08</td>\n",
       "      <td>3.58</td>\n",
       "      <td>6.81</td>\n",
       "      <td>0.77</td>\n",
       "      <td>0</td>\n",
       "      <td>0</td>\n",
       "      <td>неизвестно</td>\n",
       "    </tr>\n",
       "    <tr>\n",
       "      <th>4</th>\n",
       "      <td>Pokemon Red/Pokemon Blue</td>\n",
       "      <td>GB</td>\n",
       "      <td>1996</td>\n",
       "      <td>Role-Playing</td>\n",
       "      <td>11.27</td>\n",
       "      <td>8.89</td>\n",
       "      <td>10.22</td>\n",
       "      <td>1.00</td>\n",
       "      <td>0</td>\n",
       "      <td>0</td>\n",
       "      <td>неизвестно</td>\n",
       "    </tr>\n",
       "    <tr>\n",
       "      <th>5</th>\n",
       "      <td>Tetris</td>\n",
       "      <td>GB</td>\n",
       "      <td>1989</td>\n",
       "      <td>Puzzle</td>\n",
       "      <td>23.20</td>\n",
       "      <td>2.26</td>\n",
       "      <td>4.22</td>\n",
       "      <td>0.58</td>\n",
       "      <td>0</td>\n",
       "      <td>0</td>\n",
       "      <td>неизвестно</td>\n",
       "    </tr>\n",
       "    <tr>\n",
       "      <th>9</th>\n",
       "      <td>Duck Hunt</td>\n",
       "      <td>NES</td>\n",
       "      <td>1984</td>\n",
       "      <td>Shooter</td>\n",
       "      <td>26.93</td>\n",
       "      <td>0.63</td>\n",
       "      <td>0.28</td>\n",
       "      <td>0.47</td>\n",
       "      <td>0</td>\n",
       "      <td>0</td>\n",
       "      <td>неизвестно</td>\n",
       "    </tr>\n",
       "    <tr>\n",
       "      <th>10</th>\n",
       "      <td>Nintendogs</td>\n",
       "      <td>DS</td>\n",
       "      <td>2005</td>\n",
       "      <td>Simulation</td>\n",
       "      <td>9.05</td>\n",
       "      <td>10.95</td>\n",
       "      <td>1.93</td>\n",
       "      <td>2.74</td>\n",
       "      <td>0</td>\n",
       "      <td>0</td>\n",
       "      <td>неизвестно</td>\n",
       "    </tr>\n",
       "    <tr>\n",
       "      <th>...</th>\n",
       "      <td>...</td>\n",
       "      <td>...</td>\n",
       "      <td>...</td>\n",
       "      <td>...</td>\n",
       "      <td>...</td>\n",
       "      <td>...</td>\n",
       "      <td>...</td>\n",
       "      <td>...</td>\n",
       "      <td>...</td>\n",
       "      <td>...</td>\n",
       "      <td>...</td>\n",
       "    </tr>\n",
       "    <tr>\n",
       "      <th>16710</th>\n",
       "      <td>Samurai Warriors: Sanada Maru</td>\n",
       "      <td>PS3</td>\n",
       "      <td>2016</td>\n",
       "      <td>Action</td>\n",
       "      <td>0.00</td>\n",
       "      <td>0.00</td>\n",
       "      <td>0.01</td>\n",
       "      <td>0.00</td>\n",
       "      <td>0</td>\n",
       "      <td>0</td>\n",
       "      <td>неизвестно</td>\n",
       "    </tr>\n",
       "    <tr>\n",
       "      <th>16711</th>\n",
       "      <td>LMA Manager 2007</td>\n",
       "      <td>X360</td>\n",
       "      <td>2006</td>\n",
       "      <td>Sports</td>\n",
       "      <td>0.00</td>\n",
       "      <td>0.01</td>\n",
       "      <td>0.00</td>\n",
       "      <td>0.00</td>\n",
       "      <td>0</td>\n",
       "      <td>0</td>\n",
       "      <td>неизвестно</td>\n",
       "    </tr>\n",
       "    <tr>\n",
       "      <th>16712</th>\n",
       "      <td>Haitaka no Psychedelica</td>\n",
       "      <td>PSV</td>\n",
       "      <td>2016</td>\n",
       "      <td>Adventure</td>\n",
       "      <td>0.00</td>\n",
       "      <td>0.00</td>\n",
       "      <td>0.01</td>\n",
       "      <td>0.00</td>\n",
       "      <td>0</td>\n",
       "      <td>0</td>\n",
       "      <td>неизвестно</td>\n",
       "    </tr>\n",
       "    <tr>\n",
       "      <th>16713</th>\n",
       "      <td>Spirits &amp; Spells</td>\n",
       "      <td>GBA</td>\n",
       "      <td>2003</td>\n",
       "      <td>Platform</td>\n",
       "      <td>0.01</td>\n",
       "      <td>0.00</td>\n",
       "      <td>0.00</td>\n",
       "      <td>0.00</td>\n",
       "      <td>0</td>\n",
       "      <td>0</td>\n",
       "      <td>неизвестно</td>\n",
       "    </tr>\n",
       "    <tr>\n",
       "      <th>16714</th>\n",
       "      <td>Winning Post 8 2016</td>\n",
       "      <td>PSV</td>\n",
       "      <td>2016</td>\n",
       "      <td>Simulation</td>\n",
       "      <td>0.00</td>\n",
       "      <td>0.00</td>\n",
       "      <td>0.01</td>\n",
       "      <td>0.00</td>\n",
       "      <td>0</td>\n",
       "      <td>0</td>\n",
       "      <td>неизвестно</td>\n",
       "    </tr>\n",
       "  </tbody>\n",
       "</table>\n",
       "<p>8981 rows × 11 columns</p>\n",
       "</div>"
      ],
      "text/plain": [
       "                                name platform  year_of_release         genre  \\\n",
       "1                  Super Mario Bros.      NES             1985      Platform   \n",
       "4           Pokemon Red/Pokemon Blue       GB             1996  Role-Playing   \n",
       "5                             Tetris       GB             1989        Puzzle   \n",
       "9                          Duck Hunt      NES             1984       Shooter   \n",
       "10                        Nintendogs       DS             2005    Simulation   \n",
       "...                              ...      ...              ...           ...   \n",
       "16710  Samurai Warriors: Sanada Maru      PS3             2016        Action   \n",
       "16711               LMA Manager 2007     X360             2006        Sports   \n",
       "16712        Haitaka no Psychedelica      PSV             2016     Adventure   \n",
       "16713               Spirits & Spells      GBA             2003      Platform   \n",
       "16714            Winning Post 8 2016      PSV             2016    Simulation   \n",
       "\n",
       "       na_sales  eu_sales  jp_sales  other_sales  critic_score user_score  \\\n",
       "1         29.08      3.58      6.81         0.77             0          0   \n",
       "4         11.27      8.89     10.22         1.00             0          0   \n",
       "5         23.20      2.26      4.22         0.58             0          0   \n",
       "9         26.93      0.63      0.28         0.47             0          0   \n",
       "10         9.05     10.95      1.93         2.74             0          0   \n",
       "...         ...       ...       ...          ...           ...        ...   \n",
       "16710      0.00      0.00      0.01         0.00             0          0   \n",
       "16711      0.00      0.01      0.00         0.00             0          0   \n",
       "16712      0.00      0.00      0.01         0.00             0          0   \n",
       "16713      0.01      0.00      0.00         0.00             0          0   \n",
       "16714      0.00      0.00      0.01         0.00             0          0   \n",
       "\n",
       "           rating  \n",
       "1      неизвестно  \n",
       "4      неизвестно  \n",
       "5      неизвестно  \n",
       "9      неизвестно  \n",
       "10     неизвестно  \n",
       "...           ...  \n",
       "16710  неизвестно  \n",
       "16711  неизвестно  \n",
       "16712  неизвестно  \n",
       "16713  неизвестно  \n",
       "16714  неизвестно  \n",
       "\n",
       "[8981 rows x 11 columns]"
      ]
     },
     "execution_count": 57,
     "metadata": {},
     "output_type": "execute_result"
    }
   ],
   "source": [
    "# проверим верное ли количество нулевых данных стало 8981 позиций. Все верно!\n",
    "\n",
    "data.loc[data['user_score']==0]"
   ]
  },
  {
   "cell_type": "code",
   "execution_count": 58,
   "metadata": {},
   "outputs": [],
   "source": [
    "# Проверим и поменяем тип данных user_score на float\n",
    "\n",
    "data['user_score'] = data['user_score'].astype('float')"
   ]
  },
  {
   "cell_type": "code",
   "execution_count": 59,
   "metadata": {
    "scrolled": true
   },
   "outputs": [
    {
     "name": "stdout",
     "output_type": "stream",
     "text": [
      "<class 'pandas.core.frame.DataFrame'>\n",
      "Int64Index: 16444 entries, 0 to 16714\n",
      "Data columns (total 11 columns):\n",
      " #   Column           Non-Null Count  Dtype  \n",
      "---  ------           --------------  -----  \n",
      " 0   name             16444 non-null  object \n",
      " 1   platform         16444 non-null  object \n",
      " 2   year_of_release  16444 non-null  int64  \n",
      " 3   genre            16444 non-null  object \n",
      " 4   na_sales         16444 non-null  float64\n",
      " 5   eu_sales         16444 non-null  float64\n",
      " 6   jp_sales         16444 non-null  float64\n",
      " 7   other_sales      16444 non-null  float64\n",
      " 8   critic_score     16444 non-null  int64  \n",
      " 9   user_score       16444 non-null  float64\n",
      " 10  rating           16444 non-null  object \n",
      "dtypes: float64(5), int64(2), object(4)\n",
      "memory usage: 1.5+ MB\n"
     ]
    }
   ],
   "source": [
    "# проверим, внесены ли все наши исправления\n",
    "data.info()\n"
   ]
  },
  {
   "cell_type": "markdown",
   "metadata": {},
   "source": [
    "### Создание колонки с суммой продаж"
   ]
  },
  {
   "cell_type": "code",
   "execution_count": 60,
   "metadata": {
    "scrolled": true
   },
   "outputs": [
    {
     "data": {
      "text/html": [
       "<div>\n",
       "<style scoped>\n",
       "    .dataframe tbody tr th:only-of-type {\n",
       "        vertical-align: middle;\n",
       "    }\n",
       "\n",
       "    .dataframe tbody tr th {\n",
       "        vertical-align: top;\n",
       "    }\n",
       "\n",
       "    .dataframe thead th {\n",
       "        text-align: right;\n",
       "    }\n",
       "</style>\n",
       "<table border=\"1\" class=\"dataframe\">\n",
       "  <thead>\n",
       "    <tr style=\"text-align: right;\">\n",
       "      <th></th>\n",
       "      <th>name</th>\n",
       "      <th>platform</th>\n",
       "      <th>year_of_release</th>\n",
       "      <th>genre</th>\n",
       "      <th>na_sales</th>\n",
       "      <th>eu_sales</th>\n",
       "      <th>jp_sales</th>\n",
       "      <th>other_sales</th>\n",
       "      <th>critic_score</th>\n",
       "      <th>user_score</th>\n",
       "      <th>rating</th>\n",
       "      <th>total_sales</th>\n",
       "    </tr>\n",
       "  </thead>\n",
       "  <tbody>\n",
       "    <tr>\n",
       "      <th>0</th>\n",
       "      <td>Wii Sports</td>\n",
       "      <td>Wii</td>\n",
       "      <td>2006</td>\n",
       "      <td>Sports</td>\n",
       "      <td>41.36</td>\n",
       "      <td>28.96</td>\n",
       "      <td>3.77</td>\n",
       "      <td>8.45</td>\n",
       "      <td>76</td>\n",
       "      <td>8.0</td>\n",
       "      <td>E</td>\n",
       "      <td>82.54</td>\n",
       "    </tr>\n",
       "    <tr>\n",
       "      <th>1</th>\n",
       "      <td>Super Mario Bros.</td>\n",
       "      <td>NES</td>\n",
       "      <td>1985</td>\n",
       "      <td>Platform</td>\n",
       "      <td>29.08</td>\n",
       "      <td>3.58</td>\n",
       "      <td>6.81</td>\n",
       "      <td>0.77</td>\n",
       "      <td>0</td>\n",
       "      <td>0.0</td>\n",
       "      <td>неизвестно</td>\n",
       "      <td>40.24</td>\n",
       "    </tr>\n",
       "    <tr>\n",
       "      <th>2</th>\n",
       "      <td>Mario Kart Wii</td>\n",
       "      <td>Wii</td>\n",
       "      <td>2008</td>\n",
       "      <td>Racing</td>\n",
       "      <td>15.68</td>\n",
       "      <td>12.76</td>\n",
       "      <td>3.79</td>\n",
       "      <td>3.29</td>\n",
       "      <td>82</td>\n",
       "      <td>8.3</td>\n",
       "      <td>E</td>\n",
       "      <td>35.52</td>\n",
       "    </tr>\n",
       "    <tr>\n",
       "      <th>3</th>\n",
       "      <td>Wii Sports Resort</td>\n",
       "      <td>Wii</td>\n",
       "      <td>2009</td>\n",
       "      <td>Sports</td>\n",
       "      <td>15.61</td>\n",
       "      <td>10.93</td>\n",
       "      <td>3.28</td>\n",
       "      <td>2.95</td>\n",
       "      <td>80</td>\n",
       "      <td>8.0</td>\n",
       "      <td>E</td>\n",
       "      <td>32.77</td>\n",
       "    </tr>\n",
       "    <tr>\n",
       "      <th>4</th>\n",
       "      <td>Pokemon Red/Pokemon Blue</td>\n",
       "      <td>GB</td>\n",
       "      <td>1996</td>\n",
       "      <td>Role-Playing</td>\n",
       "      <td>11.27</td>\n",
       "      <td>8.89</td>\n",
       "      <td>10.22</td>\n",
       "      <td>1.00</td>\n",
       "      <td>0</td>\n",
       "      <td>0.0</td>\n",
       "      <td>неизвестно</td>\n",
       "      <td>31.38</td>\n",
       "    </tr>\n",
       "  </tbody>\n",
       "</table>\n",
       "</div>"
      ],
      "text/plain": [
       "                       name platform  year_of_release         genre  na_sales  \\\n",
       "0                Wii Sports      Wii             2006        Sports     41.36   \n",
       "1         Super Mario Bros.      NES             1985      Platform     29.08   \n",
       "2            Mario Kart Wii      Wii             2008        Racing     15.68   \n",
       "3         Wii Sports Resort      Wii             2009        Sports     15.61   \n",
       "4  Pokemon Red/Pokemon Blue       GB             1996  Role-Playing     11.27   \n",
       "\n",
       "   eu_sales  jp_sales  other_sales  critic_score  user_score      rating  \\\n",
       "0     28.96      3.77         8.45            76         8.0           E   \n",
       "1      3.58      6.81         0.77             0         0.0  неизвестно   \n",
       "2     12.76      3.79         3.29            82         8.3           E   \n",
       "3     10.93      3.28         2.95            80         8.0           E   \n",
       "4      8.89     10.22         1.00             0         0.0  неизвестно   \n",
       "\n",
       "   total_sales  \n",
       "0        82.54  \n",
       "1        40.24  \n",
       "2        35.52  \n",
       "3        32.77  \n",
       "4        31.38  "
      ]
     },
     "execution_count": 60,
     "metadata": {},
     "output_type": "execute_result"
    }
   ],
   "source": [
    "# для дальнейшего анализа создадим столбец с суммой всех продаж\n",
    "\n",
    "data['total_sales'] = data[['na_sales', 'eu_sales', 'jp_sales', 'other_sales']].sum(axis = 1)\n",
    "\n",
    "data.head()"
   ]
  },
  {
   "cell_type": "markdown",
   "metadata": {},
   "source": [
    "### Вывод  \n",
    "В датасете очень много пропусков в данных райтингов. Отсутствие рейтингов в 3-х колонках, практически полностью совпадают  между собой. Большое кол-во отсутствующих данных в рейтингах замечается в период 1995-2011 года, возможно это может быть связано с выходом большого кол-ва и разнообразных игр и не все игры в итоге были оценены геймерами или ассоциациями. Но, т.к. отсутствие данных совпадает по всем рейтингам, предположу, что это может быть связано с техническими сложностями, которые привели к потере части информации. Также категория tbd в рейтинге user_score (около 15%) могла возникнуть в следствии некорректного ввода оценки пользователем/геймером.\n",
    "\n",
    "Имеющиеся пропуски были заменены на 0, чтоб была возможность строить диаграммы и проводить анализ. При необходимости все нулевые значения для анализа в дальнейшем будем отфильтровывать. Заменять данные медианным или средним значением не релевантно, т.к. пропусков большое кол-во и это исказит данные анализа.\n",
    "\n",
    "Поиск дублированых данных не привел к их наличию.\n",
    "\n",
    "В данных были заменены типы данных для возможности проведения в дальнейшем анализа, в основном правки касались рейтингов, т..к по ним мы будем проводить количественный анализ\n",
    "- year_of_release и critic_score преобразовали int64 \n",
    "- user_score - float64"
   ]
  },
  {
   "cell_type": "markdown",
   "metadata": {},
   "source": [
    "## Исследовательский анализ данных"
   ]
  },
  {
   "cell_type": "markdown",
   "metadata": {},
   "source": [
    "### Анализ 'year_of_release'"
   ]
  },
  {
   "cell_type": "code",
   "execution_count": 61,
   "metadata": {},
   "outputs": [
    {
     "data": {
      "text/plain": [
       "year_of_release\n",
       "1980       9\n",
       "1981      46\n",
       "1982      36\n",
       "1983      17\n",
       "1984      14\n",
       "1985      14\n",
       "1986      21\n",
       "1987      16\n",
       "1988      15\n",
       "1989      17\n",
       "1990      16\n",
       "1991      41\n",
       "1992      43\n",
       "1993      60\n",
       "1994     121\n",
       "1995     219\n",
       "1996     263\n",
       "1997     289\n",
       "1998     379\n",
       "1999     338\n",
       "2000     350\n",
       "2001     482\n",
       "2002     829\n",
       "2003     775\n",
       "2004     762\n",
       "2005     939\n",
       "2006    1006\n",
       "2007    1197\n",
       "2008    1427\n",
       "2009    1426\n",
       "2010    1255\n",
       "2011    1136\n",
       "2012     653\n",
       "2013     544\n",
       "2014     581\n",
       "2015     606\n",
       "2016     502\n",
       "Name: name, dtype: int64"
      ]
     },
     "execution_count": 61,
     "metadata": {},
     "output_type": "execute_result"
    }
   ],
   "source": [
    "# Проверим сколько игр выпускалось в разные года\n",
    "\n",
    "data.groupby('year_of_release')['name'].count()\n",
    "\n",
    "#в период с 1995 по 2011 года  замечается прямая зависимость значительного увеличения выпуска игр. \n",
    "#Как ранее в предобработке данных и было высказано предположение об этом периоде"
   ]
  },
  {
   "cell_type": "code",
   "execution_count": 63,
   "metadata": {},
   "outputs": [
    {
     "data": {
      "text/plain": [
       "count    16444.000000\n",
       "mean         0.536023\n",
       "std          1.558786\n",
       "min          0.000000\n",
       "25%          0.060000\n",
       "50%          0.170000\n",
       "75%          0.470000\n",
       "max         82.540000\n",
       "Name: total_sales, dtype: float64"
      ]
     },
     "execution_count": 63,
     "metadata": {},
     "output_type": "execute_result"
    }
   ],
   "source": [
    "#до 1994 года кол-во выпусков игр было минимальным. Проверим, необходимы ли нам данные за эти периоды\n",
    "# Но для начала поймем какие статистические данные по total_sales в целом по данным\n",
    "data['total_sales'].describe()"
   ]
  },
  {
   "cell_type": "code",
   "execution_count": 64,
   "metadata": {},
   "outputs": [
    {
     "data": {
      "image/png": "[encoded data removed]",
      "text/plain": [
       "<Figure size 432x288 with 1 Axes>"
      ]
     },
     "metadata": {
      "needs_background": "light"
     },
     "output_type": "display_data"
    }
   ],
   "source": [
    "# построим диаграмму total_sales (диапазон до 10 млн копий)\n",
    "data['total_sales'].hist(range = (0, 10));\n"
   ]
  },
  {
   "cell_type": "code",
   "execution_count": 65,
   "metadata": {},
   "outputs": [
    {
     "data": {
      "image/png": "[encoded data removed]",
      "text/plain": [
       "<Figure size 432x288 with 1 Axes>"
      ]
     },
     "metadata": {
      "needs_background": "light"
     },
     "output_type": "display_data"
    }
   ],
   "source": [
    "# построим диаграмму с Диапазоном до 1 млн копий. Гистограмма указала что среднее значение до 200 000 экз.\n",
    "data['total_sales'].hist(range = (0, 1));"
   ]
  },
  {
   "cell_type": "code",
   "execution_count": 66,
   "metadata": {},
   "outputs": [
    {
     "data": {
      "text/plain": [
       "count    365.000000\n",
       "mean       1.589671\n",
       "std        3.621390\n",
       "min        0.010000\n",
       "25%        0.290000\n",
       "50%        0.730000\n",
       "75%        1.520000\n",
       "max       40.240000\n",
       "Name: total_sales, dtype: float64"
      ]
     },
     "execution_count": 66,
     "metadata": {},
     "output_type": "execute_result"
    }
   ],
   "source": [
    "# выведем статистические данные за период до 1994 года\n",
    "data.loc[data['year_of_release'] < 1994]['total_sales'].describe()  \n"
   ]
  },
  {
   "cell_type": "markdown",
   "metadata": {},
   "source": [
    "Данные за период до 1994 года различны, есть низкие значения и высокие. \n",
    "Но исходя из того, что интерес и требования к компьютерным играм за последние несколько лет сильно изменился, считаю нерелевантными данные до 2010 годов. \n",
    "Данные таблицы можно использовать для анализа жизненного цикла платформы, но для планирования рекламной кампании нужно брать период за 2-3 года, не больше."
   ]
  },
  {
   "cell_type": "markdown",
   "metadata": {},
   "source": [
    "### Анализ 'platform'"
   ]
  },
  {
   "cell_type": "code",
   "execution_count": 67,
   "metadata": {},
   "outputs": [
    {
     "data": {
      "text/plain": [
       "platform\n",
       "PS2     1233.56\n",
       "X360     961.24\n",
       "PS3      931.34\n",
       "Wii      891.18\n",
       "DS       802.78\n",
       "PS       727.58\n",
       "PS4      314.14\n",
       "GBA      312.88\n",
       "PSP      289.53\n",
       "3DS      257.81\n",
       "PC       255.76\n",
       "GB       254.43\n",
       "XB       251.57\n",
       "NES      251.05\n",
       "N64      218.01\n",
       "SNES     200.04\n",
       "GC       196.73\n",
       "XOne     159.32\n",
       "2600      86.48\n",
       "WiiU      82.19\n",
       "PSV       53.81\n",
       "SAT       33.59\n",
       "GEN       28.35\n",
       "DC        15.95\n",
       "SCD        1.86\n",
       "NG         1.44\n",
       "WS         1.42\n",
       "TG16       0.16\n",
       "3DO        0.10\n",
       "GG         0.04\n",
       "PCFX       0.03\n",
       "Name: total_sales, dtype: float64"
      ]
     },
     "execution_count": 67,
     "metadata": {},
     "output_type": "execute_result"
    }
   ],
   "source": [
    "# проверим как менялись продажи по платформам\n",
    "\n",
    "data.groupby('platform')['total_sales'].sum().sort_values(ascending=False)\n"
   ]
  },
  {
   "cell_type": "code",
   "execution_count": 68,
   "metadata": {},
   "outputs": [
    {
     "data": {
      "image/png": "[encoded data removed]",
      "text/plain": [
       "<Figure size 720x360 with 1 Axes>"
      ]
     },
     "metadata": {
      "needs_background": "light"
     },
     "output_type": "display_data"
    }
   ],
   "source": [
    "# определим топ-6 платформ за весь изучаемый период и выведем диаграмму\n",
    "name = ['PS2', 'X360', 'PS3', 'Wii', 'DS', 'PS']\n",
    "\n",
    "for i in name:\n",
    "    year_sales = data[(data['platform'] == i) & (data['year_of_release'] != 0)].groupby('year_of_release')['total_sales'].sum()\n",
    "    year_sales.plot(x='year_of_release', style='o-', xlim=(1985, 2016), figsize=(10,5), legend=True, label = i)\n",
    "\n",
    "   "
   ]
  },
  {
   "cell_type": "markdown",
   "metadata": {},
   "source": [
    "Проанализировав диаграмму топ-6 платформ по уровню проданных копий, можно заключить следующее:\n",
    "- топ-6 платформ появились только с 1994 года\n",
    "- в основном каждая платформа приходила на смену другой, особенно это видно с 1994 по 2008. После лидирующие позиии начали занимать 4 платформы, скорее всего это связано с прогрессивным скачком данного направления в мире\n",
    "- у всех платформ были максимальные уровни продажи (где-то наблюдается 2 пика активности) в середине их жизненного цикла, после их уровень продаж начинал сокращаться\n",
    "- средний период активности платформы 5-7 лет, скорее всего это связано с упадком интереса к определенным играм. В связи с чем необходимо постоянно искать новые фичи  и направления в компьютерных играх, чтоб сохранить интерес пользователей к платформе\n",
    "- у платформы DS в далеком 1985 году был выход на рынок с минимальным кол-вом продаж, возможно даже с 0, а потом он только вернулся на рынок в 2004 году. Но скорее всего это ошибка в данных, и  платформа начала свою деятельность только с 2004 года\n"
   ]
  },
  {
   "cell_type": "code",
   "execution_count": 71,
   "metadata": {},
   "outputs": [
    {
     "data": {
      "text/html": [
       "<div>\n",
       "<style scoped>\n",
       "    .dataframe tbody tr th:only-of-type {\n",
       "        vertical-align: middle;\n",
       "    }\n",
       "\n",
       "    .dataframe tbody tr th {\n",
       "        vertical-align: top;\n",
       "    }\n",
       "\n",
       "    .dataframe thead th {\n",
       "        text-align: right;\n",
       "    }\n",
       "</style>\n",
       "<table border=\"1\" class=\"dataframe\">\n",
       "  <thead>\n",
       "    <tr style=\"text-align: right;\">\n",
       "      <th></th>\n",
       "      <th>name</th>\n",
       "      <th>platform</th>\n",
       "      <th>year_of_release</th>\n",
       "      <th>genre</th>\n",
       "      <th>na_sales</th>\n",
       "      <th>eu_sales</th>\n",
       "      <th>jp_sales</th>\n",
       "      <th>other_sales</th>\n",
       "      <th>critic_score</th>\n",
       "      <th>user_score</th>\n",
       "      <th>rating</th>\n",
       "      <th>total_sales</th>\n",
       "    </tr>\n",
       "  </thead>\n",
       "  <tbody>\n",
       "    <tr>\n",
       "      <th>31</th>\n",
       "      <td>Call of Duty: Black Ops 3</td>\n",
       "      <td>PS4</td>\n",
       "      <td>2015</td>\n",
       "      <td>Shooter</td>\n",
       "      <td>6.03</td>\n",
       "      <td>5.86</td>\n",
       "      <td>0.36</td>\n",
       "      <td>2.38</td>\n",
       "      <td>0</td>\n",
       "      <td>0.0</td>\n",
       "      <td>неизвестно</td>\n",
       "      <td>14.63</td>\n",
       "    </tr>\n",
       "    <tr>\n",
       "      <th>42</th>\n",
       "      <td>Grand Theft Auto V</td>\n",
       "      <td>PS4</td>\n",
       "      <td>2014</td>\n",
       "      <td>Action</td>\n",
       "      <td>3.96</td>\n",
       "      <td>6.31</td>\n",
       "      <td>0.38</td>\n",
       "      <td>1.97</td>\n",
       "      <td>97</td>\n",
       "      <td>8.3</td>\n",
       "      <td>M</td>\n",
       "      <td>12.62</td>\n",
       "    </tr>\n",
       "    <tr>\n",
       "      <th>47</th>\n",
       "      <td>Pokemon Omega Ruby/Pokemon Alpha Sapphire</td>\n",
       "      <td>3DS</td>\n",
       "      <td>2014</td>\n",
       "      <td>Role-Playing</td>\n",
       "      <td>4.35</td>\n",
       "      <td>3.49</td>\n",
       "      <td>3.10</td>\n",
       "      <td>0.74</td>\n",
       "      <td>0</td>\n",
       "      <td>0.0</td>\n",
       "      <td>неизвестно</td>\n",
       "      <td>11.68</td>\n",
       "    </tr>\n",
       "    <tr>\n",
       "      <th>77</th>\n",
       "      <td>FIFA 16</td>\n",
       "      <td>PS4</td>\n",
       "      <td>2015</td>\n",
       "      <td>Sports</td>\n",
       "      <td>1.12</td>\n",
       "      <td>6.12</td>\n",
       "      <td>0.06</td>\n",
       "      <td>1.28</td>\n",
       "      <td>82</td>\n",
       "      <td>4.3</td>\n",
       "      <td>E</td>\n",
       "      <td>8.58</td>\n",
       "    </tr>\n",
       "    <tr>\n",
       "      <th>87</th>\n",
       "      <td>Star Wars Battlefront (2015)</td>\n",
       "      <td>PS4</td>\n",
       "      <td>2015</td>\n",
       "      <td>Shooter</td>\n",
       "      <td>2.99</td>\n",
       "      <td>3.49</td>\n",
       "      <td>0.22</td>\n",
       "      <td>1.28</td>\n",
       "      <td>0</td>\n",
       "      <td>0.0</td>\n",
       "      <td>неизвестно</td>\n",
       "      <td>7.98</td>\n",
       "    </tr>\n",
       "    <tr>\n",
       "      <th>...</th>\n",
       "      <td>...</td>\n",
       "      <td>...</td>\n",
       "      <td>...</td>\n",
       "      <td>...</td>\n",
       "      <td>...</td>\n",
       "      <td>...</td>\n",
       "      <td>...</td>\n",
       "      <td>...</td>\n",
       "      <td>...</td>\n",
       "      <td>...</td>\n",
       "      <td>...</td>\n",
       "      <td>...</td>\n",
       "    </tr>\n",
       "    <tr>\n",
       "      <th>16703</th>\n",
       "      <td>Strawberry Nauts</td>\n",
       "      <td>PSV</td>\n",
       "      <td>2016</td>\n",
       "      <td>Adventure</td>\n",
       "      <td>0.00</td>\n",
       "      <td>0.00</td>\n",
       "      <td>0.01</td>\n",
       "      <td>0.00</td>\n",
       "      <td>0</td>\n",
       "      <td>0.0</td>\n",
       "      <td>неизвестно</td>\n",
       "      <td>0.01</td>\n",
       "    </tr>\n",
       "    <tr>\n",
       "      <th>16707</th>\n",
       "      <td>Aiyoku no Eustia</td>\n",
       "      <td>PSV</td>\n",
       "      <td>2014</td>\n",
       "      <td>Misc</td>\n",
       "      <td>0.00</td>\n",
       "      <td>0.00</td>\n",
       "      <td>0.01</td>\n",
       "      <td>0.00</td>\n",
       "      <td>0</td>\n",
       "      <td>0.0</td>\n",
       "      <td>неизвестно</td>\n",
       "      <td>0.01</td>\n",
       "    </tr>\n",
       "    <tr>\n",
       "      <th>16710</th>\n",
       "      <td>Samurai Warriors: Sanada Maru</td>\n",
       "      <td>PS3</td>\n",
       "      <td>2016</td>\n",
       "      <td>Action</td>\n",
       "      <td>0.00</td>\n",
       "      <td>0.00</td>\n",
       "      <td>0.01</td>\n",
       "      <td>0.00</td>\n",
       "      <td>0</td>\n",
       "      <td>0.0</td>\n",
       "      <td>неизвестно</td>\n",
       "      <td>0.01</td>\n",
       "    </tr>\n",
       "    <tr>\n",
       "      <th>16712</th>\n",
       "      <td>Haitaka no Psychedelica</td>\n",
       "      <td>PSV</td>\n",
       "      <td>2016</td>\n",
       "      <td>Adventure</td>\n",
       "      <td>0.00</td>\n",
       "      <td>0.00</td>\n",
       "      <td>0.01</td>\n",
       "      <td>0.00</td>\n",
       "      <td>0</td>\n",
       "      <td>0.0</td>\n",
       "      <td>неизвестно</td>\n",
       "      <td>0.01</td>\n",
       "    </tr>\n",
       "    <tr>\n",
       "      <th>16714</th>\n",
       "      <td>Winning Post 8 2016</td>\n",
       "      <td>PSV</td>\n",
       "      <td>2016</td>\n",
       "      <td>Simulation</td>\n",
       "      <td>0.00</td>\n",
       "      <td>0.00</td>\n",
       "      <td>0.01</td>\n",
       "      <td>0.00</td>\n",
       "      <td>0</td>\n",
       "      <td>0.0</td>\n",
       "      <td>неизвестно</td>\n",
       "      <td>0.01</td>\n",
       "    </tr>\n",
       "  </tbody>\n",
       "</table>\n",
       "<p>1689 rows × 12 columns</p>\n",
       "</div>"
      ],
      "text/plain": [
       "                                            name platform  year_of_release  \\\n",
       "31                     Call of Duty: Black Ops 3      PS4             2015   \n",
       "42                            Grand Theft Auto V      PS4             2014   \n",
       "47     Pokemon Omega Ruby/Pokemon Alpha Sapphire      3DS             2014   \n",
       "77                                       FIFA 16      PS4             2015   \n",
       "87                  Star Wars Battlefront (2015)      PS4             2015   \n",
       "...                                          ...      ...              ...   \n",
       "16703                           Strawberry Nauts      PSV             2016   \n",
       "16707                           Aiyoku no Eustia      PSV             2014   \n",
       "16710              Samurai Warriors: Sanada Maru      PS3             2016   \n",
       "16712                    Haitaka no Psychedelica      PSV             2016   \n",
       "16714                        Winning Post 8 2016      PSV             2016   \n",
       "\n",
       "              genre  na_sales  eu_sales  jp_sales  other_sales  critic_score  \\\n",
       "31          Shooter      6.03      5.86      0.36         2.38             0   \n",
       "42           Action      3.96      6.31      0.38         1.97            97   \n",
       "47     Role-Playing      4.35      3.49      3.10         0.74             0   \n",
       "77           Sports      1.12      6.12      0.06         1.28            82   \n",
       "87          Shooter      2.99      3.49      0.22         1.28             0   \n",
       "...             ...       ...       ...       ...          ...           ...   \n",
       "16703     Adventure      0.00      0.00      0.01         0.00             0   \n",
       "16707          Misc      0.00      0.00      0.01         0.00             0   \n",
       "16710        Action      0.00      0.00      0.01         0.00             0   \n",
       "16712     Adventure      0.00      0.00      0.01         0.00             0   \n",
       "16714    Simulation      0.00      0.00      0.01         0.00             0   \n",
       "\n",
       "       user_score      rating  total_sales  \n",
       "31            0.0  неизвестно        14.63  \n",
       "42            8.3           M        12.62  \n",
       "47            0.0  неизвестно        11.68  \n",
       "77            4.3           E         8.58  \n",
       "87            0.0  неизвестно         7.98  \n",
       "...           ...         ...          ...  \n",
       "16703         0.0  неизвестно         0.01  \n",
       "16707         0.0  неизвестно         0.01  \n",
       "16710         0.0  неизвестно         0.01  \n",
       "16712         0.0  неизвестно         0.01  \n",
       "16714         0.0  неизвестно         0.01  \n",
       "\n",
       "[1689 rows x 12 columns]"
      ]
     },
     "execution_count": 71,
     "metadata": {},
     "output_type": "execute_result"
    }
   ],
   "source": [
    "# В связи с тем, что рынок и потребности постоянно меняются, для анализа и планирования рекламной кампании \n",
    "# необходимо использовать максимально свежые данные, например с 2014 по 2016 год включительно.\n",
    "\n",
    "data = data.query('2014 <= year_of_release <= 2016')\n",
    "data\n",
    "\n",
    "# для анализа будет использовано 1689 позиции"
   ]
  },
  {
   "cell_type": "code",
   "execution_count": 72,
   "metadata": {},
   "outputs": [
    {
     "data": {
      "image/png": "[encoded data removed]",
      "text/plain": [
       "<Figure size 576x360 with 1 Axes>"
      ]
     },
     "metadata": {
      "needs_background": "light"
     },
     "output_type": "display_data"
    }
   ],
   "source": [
    "# выведем гистограммы по всем платформам по заданному периоду\n",
    "\n",
    "for i in data['platform'].unique():\n",
    "    year_sales = data[(data['platform'] == i)].groupby('year_of_release')['total_sales'].sum()\n",
    "    year_sales.plot(x='year_of_release', style='o-', xlim=(2014, 2016), figsize=(8,5), legend=True, label = i)"
   ]
  },
  {
   "cell_type": "markdown",
   "metadata": {},
   "source": [
    "По ранее выведенной диагремме за более дольший период, можно сказать с уверенностью, что жизненный цикл платформы, как и у Топ-6, тоже не большой 5-6 лет, есть исключения около 10 лет, но их суммарный уровень продаж никогда не переходил рубеж 40 млн копий  за год.\n",
    "Среди молодых платформ  выделяется PS4, у которой наблюдается рост продаж и, с большой вероятностью, рост должен остаться стабильным еще несколько лет, если судить по среднему жизненному циклу платформ.\n",
    "Также выделяется еще молодая платформа XOne, которая имет не такой значительный рост, как у PS4, но тем не менее есть предположения что и у нее в ближ.годы будет положительная динамика в росте."
   ]
  },
  {
   "cell_type": "code",
   "execution_count": 73,
   "metadata": {},
   "outputs": [
    {
     "data": {
      "text/plain": [
       "platform\n",
       "PS4     288.15\n",
       "XOne    140.36\n",
       "3DS      86.68\n",
       "PS3      68.18\n",
       "X360     48.22\n",
       "WiiU     42.98\n",
       "PC       27.05\n",
       "PSV      22.40\n",
       "Wii       5.07\n",
       "PSP       0.36\n",
       "Name: total_sales, dtype: float64"
      ]
     },
     "execution_count": 73,
     "metadata": {},
     "output_type": "execute_result"
    }
   ],
   "source": [
    "# проверим как менялись продажи по платформам на отфильтрованном датасете (за 2014 по 2016года)\n",
    "\n",
    "data.groupby('platform')['total_sales'].sum().sort_values(ascending=False)"
   ]
  },
  {
   "cell_type": "code",
   "execution_count": 75,
   "metadata": {},
   "outputs": [
    {
     "data": {
      "image/png": "[encoded data removed]",
      "text/plain": [
       "<Figure size 1080x504 with 1 Axes>"
      ]
     },
     "metadata": {
      "needs_background": "light"
     },
     "output_type": "display_data"
    }
   ],
   "source": [
    "# построим boxplot. Необходимо было поставить фильтр на величину total_sales, т.к. из-за высоких выбросов диаграмма была нечитабельна\n",
    "\n",
    "f, ax = plt.subplots(figsize=(15, 7))\n",
    "fig = sns.boxplot(x='platform',   y='total_sales', data = data[data['total_sales'] < 4])"
   ]
  },
  {
   "cell_type": "markdown",
   "metadata": {},
   "source": [
    "Проверим топ-6 лидеров по продажам ['PS4', 'XOne', '3DS', 'PS3', 'X360',   'WiiU']\n",
    "- 'PS4, 'XOne' - их медианное значение не сильно, но выше других платформ, а так же они вышли в лидеры продаж, за счет частых высоких выбросов.\n",
    "- WiiU, Wii -  их медианное значение на уровне с лидерами и верхняя граница усов находится достаточно высоко, но отсутствие частых крупных продаж (выбрасов) не позволили данным платформам выйтив в лидеры"
   ]
  },
  {
   "cell_type": "markdown",
   "metadata": {},
   "source": [
    "### Анализ 'critic_score' и 'user_score'"
   ]
  },
  {
   "cell_type": "code",
   "execution_count": 76,
   "metadata": {},
   "outputs": [
    {
     "name": "stdout",
     "output_type": "stream",
     "text": [
      "critic_score 0.328105086966363\n",
      "user_score -0.013070305002484585\n"
     ]
    },
    {
     "data": {
      "image/png": "[encoded data removed]",
      "text/plain": [
       "<Figure size 432x288 with 1 Axes>"
      ]
     },
     "metadata": {
      "needs_background": "light"
     },
     "output_type": "display_data"
    },
    {
     "data": {
      "image/png": "[encoded data removed]",
      "text/plain": [
       "<Figure size 432x288 with 1 Axes>"
      ]
     },
     "metadata": {
      "needs_background": "light"
     },
     "output_type": "display_data"
    }
   ],
   "source": [
    "# посмотрим как влияют на продажи внутри одной платформы рейтинги пользователей и критиков\n",
    "# построим диаграмму рассеивания и посчитаем корреляцию без нулевых значений, чтоб они не отразились на расчет коэфф. корреляции\n",
    "\n",
    "corr_critic_score = data[data['critic_score'] != 0]\n",
    "corr_user_score = data[data['user_score'] != 0]\n",
    "\n",
    "print('critic_score', corr_critic_score['total_sales'].corr(corr_critic_score['critic_score']))\n",
    "print('user_score', corr_user_score['total_sales'].corr(corr_user_score['user_score']))\n",
    "\n",
    "corr_critic_score[corr_critic_score['platform']=='PS3'].plot(x = 'total_sales', y = 'critic_score', kind = 'scatter');\n",
    "corr_user_score[corr_user_score['platform']=='PS3'].plot(x = 'total_sales', y = 'user_score', kind = 'scatter');\n",
    "\n",
    "# судя по диаграмме рассеивания и коэфф. корреляции, critic_score влияет на кол-во покупок прямопропорционально, хоть зависимость не сильная, но она присутствует\n",
    "# user_score - зависимость отсутсвует"
   ]
  },
  {
   "cell_type": "code",
   "execution_count": 77,
   "metadata": {},
   "outputs": [
    {
     "data": {
      "image/png": "[encoded data removed]",
      "text/plain": [
       "<Figure size 432x288 with 1 Axes>"
      ]
     },
     "metadata": {
      "needs_background": "light"
     },
     "output_type": "display_data"
    },
    {
     "data": {
      "image/png": "[encoded data removed]",
      "text/plain": [
       "<Figure size 432x288 with 1 Axes>"
      ]
     },
     "metadata": {
      "needs_background": "light"
     },
     "output_type": "display_data"
    },
    {
     "data": {
      "image/png": "[encoded data removed]",
      "text/plain": [
       "<Figure size 432x288 with 1 Axes>"
      ]
     },
     "metadata": {
      "needs_background": "light"
     },
     "output_type": "display_data"
    },
    {
     "data": {
      "image/png": "[encoded data removed]",
      "text/plain": [
       "<Figure size 432x288 with 1 Axes>"
      ]
     },
     "metadata": {
      "needs_background": "light"
     },
     "output_type": "display_data"
    }
   ],
   "source": [
    "# проверим наше предположение на двух других платформах, построив диаграмму рассеивания\n",
    "\n",
    "corr_critic_score[corr_critic_score['platform']=='PS4'].plot(x = 'total_sales', y = 'critic_score', kind = 'scatter');\n",
    "corr_user_score[corr_user_score['platform']=='PS4'].plot(x = 'total_sales', y = 'user_score', kind = 'scatter');\n",
    "\n",
    "corr_critic_score[corr_critic_score['platform']=='XOne'].plot(x = 'total_sales', y = 'critic_score', kind = 'scatter');\n",
    "corr_user_score[corr_user_score['platform']=='XOne'].plot(x = 'total_sales', y = 'user_score', kind = 'scatter');\n",
    "\n",
    "# ситуация повторилась, прямая зависимость имеется только у critic_score"
   ]
  },
  {
   "cell_type": "markdown",
   "metadata": {},
   "source": [
    "### Анализ жанра"
   ]
  },
  {
   "cell_type": "code",
   "execution_count": 60,
   "metadata": {},
   "outputs": [
    {
     "data": {
      "image/png": "[encoded data removed]",
      "text/plain": [
       "<Figure size 432x288 with 1 Axes>"
      ]
     },
     "metadata": {
      "needs_background": "light"
     },
     "output_type": "display_data"
    }
   ],
   "source": [
    "# построим диаграмму жанров по убыванию продаж для наглядности\n",
    "data.pivot_table(index='genre', values='total_sales').sort_values(by='total_sales', ascending=False).plot(kind='bar');\n"
   ]
  },
  {
   "cell_type": "code",
   "execution_count": 61,
   "metadata": {},
   "outputs": [
    {
     "data": {
      "text/html": [
       "<div>\n",
       "<style scoped>\n",
       "    .dataframe tbody tr th:only-of-type {\n",
       "        vertical-align: middle;\n",
       "    }\n",
       "\n",
       "    .dataframe tbody tr th {\n",
       "        vertical-align: top;\n",
       "    }\n",
       "\n",
       "    .dataframe thead th {\n",
       "        text-align: right;\n",
       "    }\n",
       "</style>\n",
       "<table border=\"1\" class=\"dataframe\">\n",
       "  <thead>\n",
       "    <tr style=\"text-align: right;\">\n",
       "      <th></th>\n",
       "      <th>count</th>\n",
       "      <th>mean</th>\n",
       "      <th>std</th>\n",
       "      <th>min</th>\n",
       "      <th>25%</th>\n",
       "      <th>50%</th>\n",
       "      <th>75%</th>\n",
       "      <th>max</th>\n",
       "    </tr>\n",
       "    <tr>\n",
       "      <th>genre</th>\n",
       "      <th></th>\n",
       "      <th></th>\n",
       "      <th></th>\n",
       "      <th></th>\n",
       "      <th></th>\n",
       "      <th></th>\n",
       "      <th></th>\n",
       "      <th></th>\n",
       "    </tr>\n",
       "  </thead>\n",
       "  <tbody>\n",
       "    <tr>\n",
       "      <th>Shooter</th>\n",
       "      <td>128.0</td>\n",
       "      <td>1.335469</td>\n",
       "      <td>2.050567</td>\n",
       "      <td>0.01</td>\n",
       "      <td>0.1725</td>\n",
       "      <td>0.515</td>\n",
       "      <td>1.6175</td>\n",
       "      <td>14.63</td>\n",
       "    </tr>\n",
       "    <tr>\n",
       "      <th>Sports</th>\n",
       "      <td>161.0</td>\n",
       "      <td>0.680000</td>\n",
       "      <td>1.239736</td>\n",
       "      <td>0.01</td>\n",
       "      <td>0.0600</td>\n",
       "      <td>0.180</td>\n",
       "      <td>0.6400</td>\n",
       "      <td>8.58</td>\n",
       "    </tr>\n",
       "    <tr>\n",
       "      <th>Platform</th>\n",
       "      <td>38.0</td>\n",
       "      <td>0.476053</td>\n",
       "      <td>0.722561</td>\n",
       "      <td>0.01</td>\n",
       "      <td>0.0625</td>\n",
       "      <td>0.140</td>\n",
       "      <td>0.4675</td>\n",
       "      <td>3.21</td>\n",
       "    </tr>\n",
       "    <tr>\n",
       "      <th>Fighting</th>\n",
       "      <td>60.0</td>\n",
       "      <td>0.470333</td>\n",
       "      <td>1.188053</td>\n",
       "      <td>0.01</td>\n",
       "      <td>0.0600</td>\n",
       "      <td>0.125</td>\n",
       "      <td>0.3200</td>\n",
       "      <td>7.55</td>\n",
       "    </tr>\n",
       "    <tr>\n",
       "      <th>Role-Playing</th>\n",
       "      <td>221.0</td>\n",
       "      <td>0.459005</td>\n",
       "      <td>1.177284</td>\n",
       "      <td>0.01</td>\n",
       "      <td>0.0500</td>\n",
       "      <td>0.110</td>\n",
       "      <td>0.3600</td>\n",
       "      <td>11.68</td>\n",
       "    </tr>\n",
       "    <tr>\n",
       "      <th>Racing</th>\n",
       "      <td>69.0</td>\n",
       "      <td>0.398841</td>\n",
       "      <td>0.963716</td>\n",
       "      <td>0.01</td>\n",
       "      <td>0.0300</td>\n",
       "      <td>0.090</td>\n",
       "      <td>0.2500</td>\n",
       "      <td>7.09</td>\n",
       "    </tr>\n",
       "    <tr>\n",
       "      <th>Misc</th>\n",
       "      <td>113.0</td>\n",
       "      <td>0.332301</td>\n",
       "      <td>0.736999</td>\n",
       "      <td>0.01</td>\n",
       "      <td>0.0300</td>\n",
       "      <td>0.090</td>\n",
       "      <td>0.3200</td>\n",
       "      <td>5.27</td>\n",
       "    </tr>\n",
       "    <tr>\n",
       "      <th>Action</th>\n",
       "      <td>619.0</td>\n",
       "      <td>0.322068</td>\n",
       "      <td>0.798181</td>\n",
       "      <td>0.01</td>\n",
       "      <td>0.0300</td>\n",
       "      <td>0.090</td>\n",
       "      <td>0.2800</td>\n",
       "      <td>12.62</td>\n",
       "    </tr>\n",
       "    <tr>\n",
       "      <th>Simulation</th>\n",
       "      <td>44.0</td>\n",
       "      <td>0.298409</td>\n",
       "      <td>0.646925</td>\n",
       "      <td>0.01</td>\n",
       "      <td>0.0200</td>\n",
       "      <td>0.100</td>\n",
       "      <td>0.3275</td>\n",
       "      <td>3.05</td>\n",
       "    </tr>\n",
       "    <tr>\n",
       "      <th>Puzzle</th>\n",
       "      <td>14.0</td>\n",
       "      <td>0.157857</td>\n",
       "      <td>0.320629</td>\n",
       "      <td>0.01</td>\n",
       "      <td>0.0200</td>\n",
       "      <td>0.045</td>\n",
       "      <td>0.1000</td>\n",
       "      <td>1.19</td>\n",
       "    </tr>\n",
       "    <tr>\n",
       "      <th>Strategy</th>\n",
       "      <td>37.0</td>\n",
       "      <td>0.107027</td>\n",
       "      <td>0.118412</td>\n",
       "      <td>0.01</td>\n",
       "      <td>0.0300</td>\n",
       "      <td>0.060</td>\n",
       "      <td>0.1400</td>\n",
       "      <td>0.52</td>\n",
       "    </tr>\n",
       "    <tr>\n",
       "      <th>Adventure</th>\n",
       "      <td>185.0</td>\n",
       "      <td>0.094865</td>\n",
       "      <td>0.203147</td>\n",
       "      <td>0.01</td>\n",
       "      <td>0.0200</td>\n",
       "      <td>0.030</td>\n",
       "      <td>0.0800</td>\n",
       "      <td>1.66</td>\n",
       "    </tr>\n",
       "  </tbody>\n",
       "</table>\n",
       "</div>"
      ],
      "text/plain": [
       "              count      mean       std   min     25%    50%     75%    max\n",
       "genre                                                                      \n",
       "Shooter       128.0  1.335469  2.050567  0.01  0.1725  0.515  1.6175  14.63\n",
       "Sports        161.0  0.680000  1.239736  0.01  0.0600  0.180  0.6400   8.58\n",
       "Platform       38.0  0.476053  0.722561  0.01  0.0625  0.140  0.4675   3.21\n",
       "Fighting       60.0  0.470333  1.188053  0.01  0.0600  0.125  0.3200   7.55\n",
       "Role-Playing  221.0  0.459005  1.177284  0.01  0.0500  0.110  0.3600  11.68\n",
       "Racing         69.0  0.398841  0.963716  0.01  0.0300  0.090  0.2500   7.09\n",
       "Misc          113.0  0.332301  0.736999  0.01  0.0300  0.090  0.3200   5.27\n",
       "Action        619.0  0.322068  0.798181  0.01  0.0300  0.090  0.2800  12.62\n",
       "Simulation     44.0  0.298409  0.646925  0.01  0.0200  0.100  0.3275   3.05\n",
       "Puzzle         14.0  0.157857  0.320629  0.01  0.0200  0.045  0.1000   1.19\n",
       "Strategy       37.0  0.107027  0.118412  0.01  0.0300  0.060  0.1400   0.52\n",
       "Adventure     185.0  0.094865  0.203147  0.01  0.0200  0.030  0.0800   1.66"
      ]
     },
     "execution_count": 61,
     "metadata": {},
     "output_type": "execute_result"
    }
   ],
   "source": [
    "# Выведем статистичекие данные для анализа жанра и отсортируем данные по значению mean\n",
    "\n",
    "data.groupby('genre')['total_sales'].describe().sort_values(by ='mean', ascending=False)\n",
    "\n",
    "# Shooter и Sports - хоть кол-во представленных игр данных жанров и не самое большое, средняя и медиана высокие, что говорит о наибольшей продаваемости игр именно этих жанра\n",
    "# Малоприбыльные жанры Adventure, Strategy, Puzzle"
   ]
  },
  {
   "cell_type": "markdown",
   "metadata": {},
   "source": [
    "### Вывод \n",
    "-  для анализа было принято решение не использовать старые данные, по причине их неактуальности. Рынок компьютерных игр постоянно меняется, поэтому для планирования рекламной кампании было принято решение использовать относительно свежие данные, т.е. период с 2014 по 2016 года\n",
    "- за изучаемый период имеется много платформ, но среди всех выделяются топ-6 платформ ['PS4', 'XOne', '3DS', 'PS3', 'X360', 'WiiU'] с высоким уровнем продаж комп.игр. Средний жизненный цикл платформы 5-7 лет, на середине активности платформа, как правило, достигает своего пика (в некоторых случаях двойного пика), а затем идет на упад.\n",
    "- среди Топ-6 платформ выделяются 2 молодые платформы ['PS4', 'XOne'], у которых наблюдается высокий уровень продаж, о чем сказали нам высокие средняя и медиана. И если исходить из полученных знаний о среднем жизненном цикле платформы, то с большой вероятностью ближайшие несколько лет у них будет рост продаж.\n",
    "- построенные диаграммы рассеивания и коэф. корреляции показали слабую зависимость продаж от critic_score. Значение корреляции невелико, поэтому нельзя с уверенностью сказать об имеющейся зависимости. А вот об отсутствии зависимости продаж от rating мы можем смело заявить.\n",
    "- выделяются самые прибыльные жанры Shooter, Sports  и малоприбыльные жанры  Adventure, Puzzle, Strategy"
   ]
  },
  {
   "cell_type": "markdown",
   "metadata": {},
   "source": [
    "## Портрет пользователя каждого региона"
   ]
  },
  {
   "cell_type": "markdown",
   "metadata": {},
   "source": [
    "### NA"
   ]
  },
  {
   "cell_type": "code",
   "execution_count": 78,
   "metadata": {},
   "outputs": [
    {
     "data": {
      "text/html": [
       "<div>\n",
       "<style scoped>\n",
       "    .dataframe tbody tr th:only-of-type {\n",
       "        vertical-align: middle;\n",
       "    }\n",
       "\n",
       "    .dataframe tbody tr th {\n",
       "        vertical-align: top;\n",
       "    }\n",
       "\n",
       "    .dataframe thead th {\n",
       "        text-align: right;\n",
       "    }\n",
       "</style>\n",
       "<table border=\"1\" class=\"dataframe\">\n",
       "  <thead>\n",
       "    <tr style=\"text-align: right;\">\n",
       "      <th></th>\n",
       "      <th>name</th>\n",
       "      <th>platform</th>\n",
       "      <th>year_of_release</th>\n",
       "      <th>genre</th>\n",
       "      <th>na_sales</th>\n",
       "      <th>eu_sales</th>\n",
       "      <th>jp_sales</th>\n",
       "      <th>other_sales</th>\n",
       "      <th>critic_score</th>\n",
       "      <th>user_score</th>\n",
       "      <th>rating</th>\n",
       "      <th>total_sales</th>\n",
       "      <th>corr_na</th>\n",
       "    </tr>\n",
       "  </thead>\n",
       "  <tbody>\n",
       "    <tr>\n",
       "      <th>31</th>\n",
       "      <td>Call of Duty: Black Ops 3</td>\n",
       "      <td>PS4</td>\n",
       "      <td>2015</td>\n",
       "      <td>Shooter</td>\n",
       "      <td>6.03</td>\n",
       "      <td>5.86</td>\n",
       "      <td>0.36</td>\n",
       "      <td>2.38</td>\n",
       "      <td>0</td>\n",
       "      <td>0.0</td>\n",
       "      <td>неизвестно</td>\n",
       "      <td>14.63</td>\n",
       "      <td>0.021228</td>\n",
       "    </tr>\n",
       "    <tr>\n",
       "      <th>42</th>\n",
       "      <td>Grand Theft Auto V</td>\n",
       "      <td>PS4</td>\n",
       "      <td>2014</td>\n",
       "      <td>Action</td>\n",
       "      <td>3.96</td>\n",
       "      <td>6.31</td>\n",
       "      <td>0.38</td>\n",
       "      <td>1.97</td>\n",
       "      <td>97</td>\n",
       "      <td>8.3</td>\n",
       "      <td>M</td>\n",
       "      <td>12.62</td>\n",
       "      <td>0.013941</td>\n",
       "    </tr>\n",
       "    <tr>\n",
       "      <th>47</th>\n",
       "      <td>Pokemon Omega Ruby/Pokemon Alpha Sapphire</td>\n",
       "      <td>3DS</td>\n",
       "      <td>2014</td>\n",
       "      <td>Role-Playing</td>\n",
       "      <td>4.35</td>\n",
       "      <td>3.49</td>\n",
       "      <td>3.10</td>\n",
       "      <td>0.74</td>\n",
       "      <td>0</td>\n",
       "      <td>0.0</td>\n",
       "      <td>неизвестно</td>\n",
       "      <td>11.68</td>\n",
       "      <td>0.015314</td>\n",
       "    </tr>\n",
       "    <tr>\n",
       "      <th>77</th>\n",
       "      <td>FIFA 16</td>\n",
       "      <td>PS4</td>\n",
       "      <td>2015</td>\n",
       "      <td>Sports</td>\n",
       "      <td>1.12</td>\n",
       "      <td>6.12</td>\n",
       "      <td>0.06</td>\n",
       "      <td>1.28</td>\n",
       "      <td>82</td>\n",
       "      <td>4.3</td>\n",
       "      <td>E</td>\n",
       "      <td>8.58</td>\n",
       "      <td>0.003943</td>\n",
       "    </tr>\n",
       "    <tr>\n",
       "      <th>87</th>\n",
       "      <td>Star Wars Battlefront (2015)</td>\n",
       "      <td>PS4</td>\n",
       "      <td>2015</td>\n",
       "      <td>Shooter</td>\n",
       "      <td>2.99</td>\n",
       "      <td>3.49</td>\n",
       "      <td>0.22</td>\n",
       "      <td>1.28</td>\n",
       "      <td>0</td>\n",
       "      <td>0.0</td>\n",
       "      <td>неизвестно</td>\n",
       "      <td>7.98</td>\n",
       "      <td>0.010526</td>\n",
       "    </tr>\n",
       "  </tbody>\n",
       "</table>\n",
       "</div>"
      ],
      "text/plain": [
       "                                         name platform  year_of_release  \\\n",
       "31                  Call of Duty: Black Ops 3      PS4             2015   \n",
       "42                         Grand Theft Auto V      PS4             2014   \n",
       "47  Pokemon Omega Ruby/Pokemon Alpha Sapphire      3DS             2014   \n",
       "77                                    FIFA 16      PS4             2015   \n",
       "87               Star Wars Battlefront (2015)      PS4             2015   \n",
       "\n",
       "           genre  na_sales  eu_sales  jp_sales  other_sales  critic_score  \\\n",
       "31       Shooter      6.03      5.86      0.36         2.38             0   \n",
       "42        Action      3.96      6.31      0.38         1.97            97   \n",
       "47  Role-Playing      4.35      3.49      3.10         0.74             0   \n",
       "77        Sports      1.12      6.12      0.06         1.28            82   \n",
       "87       Shooter      2.99      3.49      0.22         1.28             0   \n",
       "\n",
       "    user_score      rating  total_sales   corr_na  \n",
       "31         0.0  неизвестно        14.63  0.021228  \n",
       "42         8.3           M        12.62  0.013941  \n",
       "47         0.0  неизвестно        11.68  0.015314  \n",
       "77         4.3           E         8.58  0.003943  \n",
       "87         0.0  неизвестно         7.98  0.010526  "
      ]
     },
     "execution_count": 78,
     "metadata": {},
     "output_type": "execute_result"
    }
   ],
   "source": [
    "# определим самые популярные платформы в Америке и их доли от основных продаж\n",
    "\n",
    "sum_na = data['na_sales'].sum() # определим сумму всех продаж в регионе\n",
    "\n",
    "data['corr_na'] = data['na_sales'] / sum_na # создадим колонку с долей от всех продаж\n",
    "data.head()"
   ]
  },
  {
   "cell_type": "code",
   "execution_count": 80,
   "metadata": {},
   "outputs": [
    {
     "data": {
      "image/png": "[encoded data removed]",
      "text/plain": [
       "<Figure size 432x288 with 1 Axes>"
      ]
     },
     "metadata": {},
     "output_type": "display_data"
    }
   ],
   "source": [
    "# определим Топ-5 платформ в Америке и построим круговую диаграмму по доле продаж (пустая зона - это все остальные платформы) \n",
    "\n",
    "na_platform = data.pivot_table(index=['platform'], values=['na_sales', 'corr_na'], aggfunc = 'sum').sort_values(by='na_sales', ascending=False).head(5)\n",
    "na_platform.pivot_table(index='platform', values='corr_na').plot(kind='pie', autopct='%1.0f%%', legend=False, subplots=True, title='Доля продаж В Америке');\n"
   ]
  },
  {
   "cell_type": "code",
   "execution_count": 81,
   "metadata": {},
   "outputs": [
    {
     "data": {
      "text/plain": [
       "genre\n",
       "Shooter         79.02\n",
       "Action          72.53\n",
       "Sports          46.13\n",
       "Role-Playing    33.47\n",
       "Misc            15.05\n",
       "Fighting        12.43\n",
       "Racing           8.74\n",
       "Platform         6.79\n",
       "Adventure        5.64\n",
       "Simulation       2.63\n",
       "Strategy         0.98\n",
       "Puzzle           0.65\n",
       "Name: na_sales, dtype: float64"
      ]
     },
     "execution_count": 81,
     "metadata": {},
     "output_type": "execute_result"
    },
    {
     "data": {
      "image/png": "[encoded data removed]",
      "text/plain": [
       "<Figure size 432x288 with 1 Axes>"
      ]
     },
     "metadata": {
      "needs_background": "light"
     },
     "output_type": "display_data"
    }
   ],
   "source": [
    "# определим популярные жанры для Америки\n",
    "data.pivot_table(index='genre', values='na_sales').sort_values(by='na_sales', ascending=False).plot(kind='bar');\n",
    "data.groupby('genre')['na_sales'].sum().sort_values(ascending=False)\n",
    "\n",
    "# маловостребованные жанры Puzzle Strategy Adventure \n",
    "# популярные жанры в Америке Shooter Action  Sports Role-Playing Misc "
   ]
  },
  {
   "cell_type": "code",
   "execution_count": 82,
   "metadata": {},
   "outputs": [
    {
     "data": {
      "text/plain": [
       "rating\n",
       "E10+          33.23\n",
       "T             38.95\n",
       "E             50.74\n",
       "неизвестно    64.72\n",
       "M             96.42\n",
       "Name: na_sales, dtype: float64"
      ]
     },
     "execution_count": 82,
     "metadata": {},
     "output_type": "execute_result"
    }
   ],
   "source": [
    "# определим влияет ли рейтинг ESRB на продажи в регионе\n",
    "data.groupby('rating')['na_sales'].sum().sort_values()\n",
    "\n",
    "#самые продаваемые возрастные категории М и Е"
   ]
  },
  {
   "cell_type": "markdown",
   "metadata": {},
   "source": [
    "### EU"
   ]
  },
  {
   "cell_type": "code",
   "execution_count": 83,
   "metadata": {},
   "outputs": [
    {
     "data": {
      "text/html": [
       "<div>\n",
       "<style scoped>\n",
       "    .dataframe tbody tr th:only-of-type {\n",
       "        vertical-align: middle;\n",
       "    }\n",
       "\n",
       "    .dataframe tbody tr th {\n",
       "        vertical-align: top;\n",
       "    }\n",
       "\n",
       "    .dataframe thead th {\n",
       "        text-align: right;\n",
       "    }\n",
       "</style>\n",
       "<table border=\"1\" class=\"dataframe\">\n",
       "  <thead>\n",
       "    <tr style=\"text-align: right;\">\n",
       "      <th></th>\n",
       "      <th>name</th>\n",
       "      <th>platform</th>\n",
       "      <th>year_of_release</th>\n",
       "      <th>genre</th>\n",
       "      <th>na_sales</th>\n",
       "      <th>eu_sales</th>\n",
       "      <th>jp_sales</th>\n",
       "      <th>other_sales</th>\n",
       "      <th>critic_score</th>\n",
       "      <th>user_score</th>\n",
       "      <th>rating</th>\n",
       "      <th>total_sales</th>\n",
       "      <th>corr_na</th>\n",
       "      <th>corr_eu</th>\n",
       "    </tr>\n",
       "  </thead>\n",
       "  <tbody>\n",
       "    <tr>\n",
       "      <th>31</th>\n",
       "      <td>Call of Duty: Black Ops 3</td>\n",
       "      <td>PS4</td>\n",
       "      <td>2015</td>\n",
       "      <td>Shooter</td>\n",
       "      <td>6.03</td>\n",
       "      <td>5.86</td>\n",
       "      <td>0.36</td>\n",
       "      <td>2.38</td>\n",
       "      <td>0</td>\n",
       "      <td>0.0</td>\n",
       "      <td>неизвестно</td>\n",
       "      <td>14.63</td>\n",
       "      <td>0.021228</td>\n",
       "      <td>0.021649</td>\n",
       "    </tr>\n",
       "    <tr>\n",
       "      <th>42</th>\n",
       "      <td>Grand Theft Auto V</td>\n",
       "      <td>PS4</td>\n",
       "      <td>2014</td>\n",
       "      <td>Action</td>\n",
       "      <td>3.96</td>\n",
       "      <td>6.31</td>\n",
       "      <td>0.38</td>\n",
       "      <td>1.97</td>\n",
       "      <td>97</td>\n",
       "      <td>8.3</td>\n",
       "      <td>M</td>\n",
       "      <td>12.62</td>\n",
       "      <td>0.013941</td>\n",
       "      <td>0.023312</td>\n",
       "    </tr>\n",
       "    <tr>\n",
       "      <th>47</th>\n",
       "      <td>Pokemon Omega Ruby/Pokemon Alpha Sapphire</td>\n",
       "      <td>3DS</td>\n",
       "      <td>2014</td>\n",
       "      <td>Role-Playing</td>\n",
       "      <td>4.35</td>\n",
       "      <td>3.49</td>\n",
       "      <td>3.10</td>\n",
       "      <td>0.74</td>\n",
       "      <td>0</td>\n",
       "      <td>0.0</td>\n",
       "      <td>неизвестно</td>\n",
       "      <td>11.68</td>\n",
       "      <td>0.015314</td>\n",
       "      <td>0.012893</td>\n",
       "    </tr>\n",
       "    <tr>\n",
       "      <th>77</th>\n",
       "      <td>FIFA 16</td>\n",
       "      <td>PS4</td>\n",
       "      <td>2015</td>\n",
       "      <td>Sports</td>\n",
       "      <td>1.12</td>\n",
       "      <td>6.12</td>\n",
       "      <td>0.06</td>\n",
       "      <td>1.28</td>\n",
       "      <td>82</td>\n",
       "      <td>4.3</td>\n",
       "      <td>E</td>\n",
       "      <td>8.58</td>\n",
       "      <td>0.003943</td>\n",
       "      <td>0.022610</td>\n",
       "    </tr>\n",
       "    <tr>\n",
       "      <th>87</th>\n",
       "      <td>Star Wars Battlefront (2015)</td>\n",
       "      <td>PS4</td>\n",
       "      <td>2015</td>\n",
       "      <td>Shooter</td>\n",
       "      <td>2.99</td>\n",
       "      <td>3.49</td>\n",
       "      <td>0.22</td>\n",
       "      <td>1.28</td>\n",
       "      <td>0</td>\n",
       "      <td>0.0</td>\n",
       "      <td>неизвестно</td>\n",
       "      <td>7.98</td>\n",
       "      <td>0.010526</td>\n",
       "      <td>0.012893</td>\n",
       "    </tr>\n",
       "  </tbody>\n",
       "</table>\n",
       "</div>"
      ],
      "text/plain": [
       "                                         name platform  year_of_release  \\\n",
       "31                  Call of Duty: Black Ops 3      PS4             2015   \n",
       "42                         Grand Theft Auto V      PS4             2014   \n",
       "47  Pokemon Omega Ruby/Pokemon Alpha Sapphire      3DS             2014   \n",
       "77                                    FIFA 16      PS4             2015   \n",
       "87               Star Wars Battlefront (2015)      PS4             2015   \n",
       "\n",
       "           genre  na_sales  eu_sales  jp_sales  other_sales  critic_score  \\\n",
       "31       Shooter      6.03      5.86      0.36         2.38             0   \n",
       "42        Action      3.96      6.31      0.38         1.97            97   \n",
       "47  Role-Playing      4.35      3.49      3.10         0.74             0   \n",
       "77        Sports      1.12      6.12      0.06         1.28            82   \n",
       "87       Shooter      2.99      3.49      0.22         1.28             0   \n",
       "\n",
       "    user_score      rating  total_sales   corr_na   corr_eu  \n",
       "31         0.0  неизвестно        14.63  0.021228  0.021649  \n",
       "42         8.3           M        12.62  0.013941  0.023312  \n",
       "47         0.0  неизвестно        11.68  0.015314  0.012893  \n",
       "77         4.3           E         8.58  0.003943  0.022610  \n",
       "87         0.0  неизвестно         7.98  0.010526  0.012893  "
      ]
     },
     "execution_count": 83,
     "metadata": {},
     "output_type": "execute_result"
    }
   ],
   "source": [
    "# определим самые популярные платформы в Европе и их доли от основных продаж\n",
    "\n",
    "sum_eu = data['eu_sales'].sum() # определим сумму всех продаж в регионе\n",
    "data['corr_eu'] = data['eu_sales'] / sum_eu # создадим колонку с долей от всех продаж\n",
    "data.head()"
   ]
  },
  {
   "cell_type": "code",
   "execution_count": 84,
   "metadata": {},
   "outputs": [
    {
     "data": {
      "image/png": "[encoded data removed]",
      "text/plain": [
       "<Figure size 432x288 with 1 Axes>"
      ]
     },
     "metadata": {},
     "output_type": "display_data"
    }
   ],
   "source": [
    "# определим Топ-5 платформ в Европе\n",
    "\n",
    "eu_platform = data.pivot_table(index=['platform'], values=['eu_sales', 'corr_eu'], aggfunc = 'sum').sort_values(by='eu_sales', ascending=False).head(5)\n",
    "eu_platform.pivot_table(index='platform', values='corr_eu').plot(kind='pie', autopct='%1.0f%%', legend=False, subplots=True, title='Доля продаж в Европе');\n"
   ]
  },
  {
   "cell_type": "code",
   "execution_count": 88,
   "metadata": {},
   "outputs": [
    {
     "data": {
      "text/plain": [
       "genre\n",
       "Action          74.68\n",
       "Shooter         65.52\n",
       "Sports          45.73\n",
       "Role-Playing    28.17\n",
       "Racing          14.13\n",
       "Misc            12.86\n",
       "Simulation       7.30\n",
       "Platform         6.80\n",
       "Fighting         6.69\n",
       "Adventure        6.49\n",
       "Strategy         1.79\n",
       "Puzzle           0.52\n",
       "Name: eu_sales, dtype: float64"
      ]
     },
     "execution_count": 88,
     "metadata": {},
     "output_type": "execute_result"
    },
    {
     "data": {
      "image/png": "[encoded data removed]",
      "text/plain": [
       "<Figure size 432x288 with 1 Axes>"
      ]
     },
     "metadata": {
      "needs_background": "light"
     },
     "output_type": "display_data"
    }
   ],
   "source": [
    "# определим популярные жанры в Европе\n",
    "data.pivot_table(index='genre', values='eu_sales').sort_values(by='eu_sales', ascending=False).plot(kind='bar');\n",
    "data.groupby('genre')['eu_sales'].sum().sort_values(ascending=False)\n",
    "\n",
    "# маловостребованные жанры  Adventure  Strategy Puzzle\n",
    "# популярные жанры в Америке Action Shooter Sports Role-Playing Racing  Misc "
   ]
  },
  {
   "cell_type": "code",
   "execution_count": 89,
   "metadata": {},
   "outputs": [
    {
     "data": {
      "text/plain": [
       "rating\n",
       "E10+          26.16\n",
       "T             34.07\n",
       "E             58.06\n",
       "неизвестно    58.95\n",
       "M             93.44\n",
       "Name: eu_sales, dtype: float64"
      ]
     },
     "execution_count": 89,
     "metadata": {},
     "output_type": "execute_result"
    }
   ],
   "source": [
    "# определим влияет ли рейтинг ESRB на продажи в регионе\n",
    "data.groupby('rating')['eu_sales'].sum().sort_values()"
   ]
  },
  {
   "cell_type": "markdown",
   "metadata": {},
   "source": [
    "### JP"
   ]
  },
  {
   "cell_type": "code",
   "execution_count": 90,
   "metadata": {},
   "outputs": [
    {
     "data": {
      "text/html": [
       "<div>\n",
       "<style scoped>\n",
       "    .dataframe tbody tr th:only-of-type {\n",
       "        vertical-align: middle;\n",
       "    }\n",
       "\n",
       "    .dataframe tbody tr th {\n",
       "        vertical-align: top;\n",
       "    }\n",
       "\n",
       "    .dataframe thead th {\n",
       "        text-align: right;\n",
       "    }\n",
       "</style>\n",
       "<table border=\"1\" class=\"dataframe\">\n",
       "  <thead>\n",
       "    <tr style=\"text-align: right;\">\n",
       "      <th></th>\n",
       "      <th>name</th>\n",
       "      <th>platform</th>\n",
       "      <th>year_of_release</th>\n",
       "      <th>genre</th>\n",
       "      <th>na_sales</th>\n",
       "      <th>eu_sales</th>\n",
       "      <th>jp_sales</th>\n",
       "      <th>other_sales</th>\n",
       "      <th>critic_score</th>\n",
       "      <th>user_score</th>\n",
       "      <th>rating</th>\n",
       "      <th>total_sales</th>\n",
       "      <th>corr_na</th>\n",
       "      <th>corr_eu</th>\n",
       "      <th>corr_jp</th>\n",
       "    </tr>\n",
       "  </thead>\n",
       "  <tbody>\n",
       "    <tr>\n",
       "      <th>31</th>\n",
       "      <td>Call of Duty: Black Ops 3</td>\n",
       "      <td>PS4</td>\n",
       "      <td>2015</td>\n",
       "      <td>Shooter</td>\n",
       "      <td>6.03</td>\n",
       "      <td>5.86</td>\n",
       "      <td>0.36</td>\n",
       "      <td>2.38</td>\n",
       "      <td>0</td>\n",
       "      <td>0.0</td>\n",
       "      <td>неизвестно</td>\n",
       "      <td>14.63</td>\n",
       "      <td>0.021228</td>\n",
       "      <td>0.021649</td>\n",
       "      <td>0.003867</td>\n",
       "    </tr>\n",
       "    <tr>\n",
       "      <th>42</th>\n",
       "      <td>Grand Theft Auto V</td>\n",
       "      <td>PS4</td>\n",
       "      <td>2014</td>\n",
       "      <td>Action</td>\n",
       "      <td>3.96</td>\n",
       "      <td>6.31</td>\n",
       "      <td>0.38</td>\n",
       "      <td>1.97</td>\n",
       "      <td>97</td>\n",
       "      <td>8.3</td>\n",
       "      <td>M</td>\n",
       "      <td>12.62</td>\n",
       "      <td>0.013941</td>\n",
       "      <td>0.023312</td>\n",
       "      <td>0.004082</td>\n",
       "    </tr>\n",
       "    <tr>\n",
       "      <th>47</th>\n",
       "      <td>Pokemon Omega Ruby/Pokemon Alpha Sapphire</td>\n",
       "      <td>3DS</td>\n",
       "      <td>2014</td>\n",
       "      <td>Role-Playing</td>\n",
       "      <td>4.35</td>\n",
       "      <td>3.49</td>\n",
       "      <td>3.10</td>\n",
       "      <td>0.74</td>\n",
       "      <td>0</td>\n",
       "      <td>0.0</td>\n",
       "      <td>неизвестно</td>\n",
       "      <td>11.68</td>\n",
       "      <td>0.015314</td>\n",
       "      <td>0.012893</td>\n",
       "      <td>0.033301</td>\n",
       "    </tr>\n",
       "    <tr>\n",
       "      <th>77</th>\n",
       "      <td>FIFA 16</td>\n",
       "      <td>PS4</td>\n",
       "      <td>2015</td>\n",
       "      <td>Sports</td>\n",
       "      <td>1.12</td>\n",
       "      <td>6.12</td>\n",
       "      <td>0.06</td>\n",
       "      <td>1.28</td>\n",
       "      <td>82</td>\n",
       "      <td>4.3</td>\n",
       "      <td>E</td>\n",
       "      <td>8.58</td>\n",
       "      <td>0.003943</td>\n",
       "      <td>0.022610</td>\n",
       "      <td>0.000645</td>\n",
       "    </tr>\n",
       "    <tr>\n",
       "      <th>87</th>\n",
       "      <td>Star Wars Battlefront (2015)</td>\n",
       "      <td>PS4</td>\n",
       "      <td>2015</td>\n",
       "      <td>Shooter</td>\n",
       "      <td>2.99</td>\n",
       "      <td>3.49</td>\n",
       "      <td>0.22</td>\n",
       "      <td>1.28</td>\n",
       "      <td>0</td>\n",
       "      <td>0.0</td>\n",
       "      <td>неизвестно</td>\n",
       "      <td>7.98</td>\n",
       "      <td>0.010526</td>\n",
       "      <td>0.012893</td>\n",
       "      <td>0.002363</td>\n",
       "    </tr>\n",
       "  </tbody>\n",
       "</table>\n",
       "</div>"
      ],
      "text/plain": [
       "                                         name platform  year_of_release  \\\n",
       "31                  Call of Duty: Black Ops 3      PS4             2015   \n",
       "42                         Grand Theft Auto V      PS4             2014   \n",
       "47  Pokemon Omega Ruby/Pokemon Alpha Sapphire      3DS             2014   \n",
       "77                                    FIFA 16      PS4             2015   \n",
       "87               Star Wars Battlefront (2015)      PS4             2015   \n",
       "\n",
       "           genre  na_sales  eu_sales  jp_sales  other_sales  critic_score  \\\n",
       "31       Shooter      6.03      5.86      0.36         2.38             0   \n",
       "42        Action      3.96      6.31      0.38         1.97            97   \n",
       "47  Role-Playing      4.35      3.49      3.10         0.74             0   \n",
       "77        Sports      1.12      6.12      0.06         1.28            82   \n",
       "87       Shooter      2.99      3.49      0.22         1.28             0   \n",
       "\n",
       "    user_score      rating  total_sales   corr_na   corr_eu   corr_jp  \n",
       "31         0.0  неизвестно        14.63  0.021228  0.021649  0.003867  \n",
       "42         8.3           M        12.62  0.013941  0.023312  0.004082  \n",
       "47         0.0  неизвестно        11.68  0.015314  0.012893  0.033301  \n",
       "77         4.3           E         8.58  0.003943  0.022610  0.000645  \n",
       "87         0.0  неизвестно         7.98  0.010526  0.012893  0.002363  "
      ]
     },
     "execution_count": 90,
     "metadata": {},
     "output_type": "execute_result"
    }
   ],
   "source": [
    "# определим самые популярные платформы в Японии и их доли от основных продаж\n",
    "\n",
    "sum_jp = data['jp_sales'].sum() # определим сумму всех продаж в регионе\n",
    "data['corr_jp'] = data['jp_sales'] / sum_jp # создадим колонку с долей от всех продаж\n",
    "data.head()\n",
    "    "
   ]
  },
  {
   "cell_type": "code",
   "execution_count": 91,
   "metadata": {},
   "outputs": [
    {
     "data": {
      "image/png": "[encoded data removed]",
      "text/plain": [
       "<Figure size 432x288 with 1 Axes>"
      ]
     },
     "metadata": {},
     "output_type": "display_data"
    }
   ],
   "source": [
    "# определим Топ-5 платформ в Японии\n",
    "\n",
    "jp_platform = data.pivot_table(index=['platform'], values=['jp_sales', 'corr_jp'], aggfunc = 'sum').sort_values(by='jp_sales', ascending=False).head(5)\n",
    "jp_platform.pivot_table(index='platform', values='corr_jp').plot(kind='pie', autopct='%1.0f%%', legend=False, subplots=True, title='Доля продаж в Японии');\n",
    "\n"
   ]
  },
  {
   "cell_type": "code",
   "execution_count": 93,
   "metadata": {
    "scrolled": true
   },
   "outputs": [
    {
     "data": {
      "text/plain": [
       "genre\n",
       "Role-Playing    31.16\n",
       "Action          29.58\n",
       "Fighting         6.37\n",
       "Misc             5.61\n",
       "Shooter          4.87\n",
       "Adventure        3.60\n",
       "Sports           3.26\n",
       "Platform         2.69\n",
       "Simulation       2.31\n",
       "Racing           1.76\n",
       "Strategy         0.95\n",
       "Puzzle           0.93\n",
       "Name: jp_sales, dtype: float64"
      ]
     },
     "execution_count": 93,
     "metadata": {},
     "output_type": "execute_result"
    },
    {
     "data": {
      "image/png": "[encoded data removed]",
      "text/plain": [
       "<Figure size 432x288 with 1 Axes>"
      ]
     },
     "metadata": {
      "needs_background": "light"
     },
     "output_type": "display_data"
    }
   ],
   "source": [
    "# определим популярные жанры в Японии\n",
    "\n",
    "data.pivot_table(index='genre', values='jp_sales').sort_values(by='jp_sales', ascending=False).plot(kind='bar');\n",
    "data.groupby('genre')['jp_sales'].sum().sort_values(ascending=False)\n",
    "\n",
    "# маловостребованные жанры  Adventure  Strategy Puzzle\n",
    "# популярные жанры в Японии Role-Playing Action Fighting "
   ]
  },
  {
   "cell_type": "code",
   "execution_count": 94,
   "metadata": {},
   "outputs": [
    {
     "data": {
      "text/plain": [
       "rating\n",
       "E10+           4.46\n",
       "M              8.01\n",
       "E              8.94\n",
       "T             14.78\n",
       "неизвестно    56.90\n",
       "Name: jp_sales, dtype: float64"
      ]
     },
     "execution_count": 94,
     "metadata": {},
     "output_type": "execute_result"
    }
   ],
   "source": [
    "# определим влияет ли рейтинг ESRB на продажи в регионе\n",
    "data.groupby('rating')['jp_sales'].sum().sort_values()"
   ]
  },
  {
   "cell_type": "markdown",
   "metadata": {},
   "source": [
    "### Другие регионы"
   ]
  },
  {
   "cell_type": "code",
   "execution_count": 95,
   "metadata": {},
   "outputs": [
    {
     "data": {
      "text/html": [
       "<div>\n",
       "<style scoped>\n",
       "    .dataframe tbody tr th:only-of-type {\n",
       "        vertical-align: middle;\n",
       "    }\n",
       "\n",
       "    .dataframe tbody tr th {\n",
       "        vertical-align: top;\n",
       "    }\n",
       "\n",
       "    .dataframe thead th {\n",
       "        text-align: right;\n",
       "    }\n",
       "</style>\n",
       "<table border=\"1\" class=\"dataframe\">\n",
       "  <thead>\n",
       "    <tr style=\"text-align: right;\">\n",
       "      <th></th>\n",
       "      <th>name</th>\n",
       "      <th>platform</th>\n",
       "      <th>year_of_release</th>\n",
       "      <th>genre</th>\n",
       "      <th>na_sales</th>\n",
       "      <th>eu_sales</th>\n",
       "      <th>jp_sales</th>\n",
       "      <th>other_sales</th>\n",
       "      <th>critic_score</th>\n",
       "      <th>user_score</th>\n",
       "      <th>rating</th>\n",
       "      <th>total_sales</th>\n",
       "      <th>corr_na</th>\n",
       "      <th>corr_eu</th>\n",
       "      <th>corr_jp</th>\n",
       "      <th>corr_other</th>\n",
       "    </tr>\n",
       "  </thead>\n",
       "  <tbody>\n",
       "    <tr>\n",
       "      <th>31</th>\n",
       "      <td>Call of Duty: Black Ops 3</td>\n",
       "      <td>PS4</td>\n",
       "      <td>2015</td>\n",
       "      <td>Shooter</td>\n",
       "      <td>6.03</td>\n",
       "      <td>5.86</td>\n",
       "      <td>0.36</td>\n",
       "      <td>2.38</td>\n",
       "      <td>0</td>\n",
       "      <td>0.0</td>\n",
       "      <td>неизвестно</td>\n",
       "      <td>14.63</td>\n",
       "      <td>0.021228</td>\n",
       "      <td>0.021649</td>\n",
       "      <td>0.003867</td>\n",
       "      <td>0.029160</td>\n",
       "    </tr>\n",
       "    <tr>\n",
       "      <th>42</th>\n",
       "      <td>Grand Theft Auto V</td>\n",
       "      <td>PS4</td>\n",
       "      <td>2014</td>\n",
       "      <td>Action</td>\n",
       "      <td>3.96</td>\n",
       "      <td>6.31</td>\n",
       "      <td>0.38</td>\n",
       "      <td>1.97</td>\n",
       "      <td>97</td>\n",
       "      <td>8.3</td>\n",
       "      <td>M</td>\n",
       "      <td>12.62</td>\n",
       "      <td>0.013941</td>\n",
       "      <td>0.023312</td>\n",
       "      <td>0.004082</td>\n",
       "      <td>0.024136</td>\n",
       "    </tr>\n",
       "    <tr>\n",
       "      <th>47</th>\n",
       "      <td>Pokemon Omega Ruby/Pokemon Alpha Sapphire</td>\n",
       "      <td>3DS</td>\n",
       "      <td>2014</td>\n",
       "      <td>Role-Playing</td>\n",
       "      <td>4.35</td>\n",
       "      <td>3.49</td>\n",
       "      <td>3.10</td>\n",
       "      <td>0.74</td>\n",
       "      <td>0</td>\n",
       "      <td>0.0</td>\n",
       "      <td>неизвестно</td>\n",
       "      <td>11.68</td>\n",
       "      <td>0.015314</td>\n",
       "      <td>0.012893</td>\n",
       "      <td>0.033301</td>\n",
       "      <td>0.009066</td>\n",
       "    </tr>\n",
       "    <tr>\n",
       "      <th>77</th>\n",
       "      <td>FIFA 16</td>\n",
       "      <td>PS4</td>\n",
       "      <td>2015</td>\n",
       "      <td>Sports</td>\n",
       "      <td>1.12</td>\n",
       "      <td>6.12</td>\n",
       "      <td>0.06</td>\n",
       "      <td>1.28</td>\n",
       "      <td>82</td>\n",
       "      <td>4.3</td>\n",
       "      <td>E</td>\n",
       "      <td>8.58</td>\n",
       "      <td>0.003943</td>\n",
       "      <td>0.022610</td>\n",
       "      <td>0.000645</td>\n",
       "      <td>0.015682</td>\n",
       "    </tr>\n",
       "    <tr>\n",
       "      <th>87</th>\n",
       "      <td>Star Wars Battlefront (2015)</td>\n",
       "      <td>PS4</td>\n",
       "      <td>2015</td>\n",
       "      <td>Shooter</td>\n",
       "      <td>2.99</td>\n",
       "      <td>3.49</td>\n",
       "      <td>0.22</td>\n",
       "      <td>1.28</td>\n",
       "      <td>0</td>\n",
       "      <td>0.0</td>\n",
       "      <td>неизвестно</td>\n",
       "      <td>7.98</td>\n",
       "      <td>0.010526</td>\n",
       "      <td>0.012893</td>\n",
       "      <td>0.002363</td>\n",
       "      <td>0.015682</td>\n",
       "    </tr>\n",
       "  </tbody>\n",
       "</table>\n",
       "</div>"
      ],
      "text/plain": [
       "                                         name platform  year_of_release  \\\n",
       "31                  Call of Duty: Black Ops 3      PS4             2015   \n",
       "42                         Grand Theft Auto V      PS4             2014   \n",
       "47  Pokemon Omega Ruby/Pokemon Alpha Sapphire      3DS             2014   \n",
       "77                                    FIFA 16      PS4             2015   \n",
       "87               Star Wars Battlefront (2015)      PS4             2015   \n",
       "\n",
       "           genre  na_sales  eu_sales  jp_sales  other_sales  critic_score  \\\n",
       "31       Shooter      6.03      5.86      0.36         2.38             0   \n",
       "42        Action      3.96      6.31      0.38         1.97            97   \n",
       "47  Role-Playing      4.35      3.49      3.10         0.74             0   \n",
       "77        Sports      1.12      6.12      0.06         1.28            82   \n",
       "87       Shooter      2.99      3.49      0.22         1.28             0   \n",
       "\n",
       "    user_score      rating  total_sales   corr_na   corr_eu   corr_jp  \\\n",
       "31         0.0  неизвестно        14.63  0.021228  0.021649  0.003867   \n",
       "42         8.3           M        12.62  0.013941  0.023312  0.004082   \n",
       "47         0.0  неизвестно        11.68  0.015314  0.012893  0.033301   \n",
       "77         4.3           E         8.58  0.003943  0.022610  0.000645   \n",
       "87         0.0  неизвестно         7.98  0.010526  0.012893  0.002363   \n",
       "\n",
       "    corr_other  \n",
       "31    0.029160  \n",
       "42    0.024136  \n",
       "47    0.009066  \n",
       "77    0.015682  \n",
       "87    0.015682  "
      ]
     },
     "execution_count": 95,
     "metadata": {},
     "output_type": "execute_result"
    }
   ],
   "source": [
    "# определим самые популярные платформы в Других регионах и их доли от основных продаж\n",
    "\n",
    "sum_other = data['other_sales'].sum() # определим сумму всех продаж в регионе\n",
    "data['corr_other'] = data['other_sales'] / sum_other # создадим колонку с долей от всех продаж\n",
    "data.head()"
   ]
  },
  {
   "cell_type": "code",
   "execution_count": 97,
   "metadata": {},
   "outputs": [
    {
     "data": {
      "image/png": "[encoded data removed]",
      "text/plain": [
       "<Figure size 432x288 with 1 Axes>"
      ]
     },
     "metadata": {},
     "output_type": "display_data"
    }
   ],
   "source": [
    "# определим Топ-5 платформ в других странах\n",
    "\n",
    "other_platform = data.pivot_table(index=['platform'], values=['other_sales', 'corr_other'], aggfunc = 'sum').sort_values(by='other_sales', ascending=False).head(5)\n",
    "other_platform.pivot_table(index='platform', values='corr_other').plot(kind='pie', autopct='%1.0f%%', legend=False, subplots=True, title='Доля продаж в других регионах');"
   ]
  },
  {
   "cell_type": "code",
   "execution_count": 99,
   "metadata": {},
   "outputs": [
    {
     "data": {
      "text/plain": [
       "genre\n",
       "Action          22.57\n",
       "Shooter         21.53\n",
       "Sports          14.36\n",
       "Role-Playing     8.64\n",
       "Misc             4.03\n",
       "Racing           2.89\n",
       "Fighting         2.73\n",
       "Adventure        1.82\n",
       "Platform         1.81\n",
       "Simulation       0.89\n",
       "Strategy         0.24\n",
       "Puzzle           0.11\n",
       "Name: other_sales, dtype: float64"
      ]
     },
     "execution_count": 99,
     "metadata": {},
     "output_type": "execute_result"
    },
    {
     "data": {
      "image/png": "[encoded data removed]",
      "text/plain": [
       "<Figure size 432x288 with 1 Axes>"
      ]
     },
     "metadata": {
      "needs_background": "light"
     },
     "output_type": "display_data"
    }
   ],
   "source": [
    "# определим популярные жанры в Других странах\n",
    "\n",
    "data.pivot_table(index='genre', values='other_sales').sort_values(by='other_sales', ascending=False).plot(kind='bar');\n",
    "data.groupby('genre')['other_sales'].sum().sort_values(ascending=False)\n",
    "\n",
    "# маловостребованные жанры  Adventure  Strategy Puzzle\n",
    "# популярные жанры в Америке  Shooter Sports Action Role-Playing Misc "
   ]
  },
  {
   "cell_type": "code",
   "execution_count": 100,
   "metadata": {},
   "outputs": [
    {
     "data": {
      "text/plain": [
       "rating\n",
       "E10+           7.83\n",
       "T             11.33\n",
       "E             15.39\n",
       "неизвестно    18.40\n",
       "M             28.67\n",
       "Name: other_sales, dtype: float64"
      ]
     },
     "execution_count": 100,
     "metadata": {},
     "output_type": "execute_result"
    }
   ],
   "source": [
    "# определим влияет ли рейтинг ESRB на продажи в регионе\n",
    "data.groupby('rating')['other_sales'].sum().sort_values()"
   ]
  },
  {
   "cell_type": "code",
   "execution_count": 101,
   "metadata": {},
   "outputs": [
    {
     "data": {
      "image/png": "[encoded data removed]",
      "text/plain": [
       "<Figure size 432x288 with 1 Axes>"
      ]
     },
     "metadata": {},
     "output_type": "display_data"
    },
    {
     "data": {
      "image/png": "[encoded data removed]",
      "text/plain": [
       "<Figure size 432x288 with 1 Axes>"
      ]
     },
     "metadata": {},
     "output_type": "display_data"
    },
    {
     "data": {
      "image/png": "[encoded data removed]",
      "text/plain": [
       "<Figure size 432x288 with 1 Axes>"
      ]
     },
     "metadata": {},
     "output_type": "display_data"
    },
    {
     "data": {
      "image/png": "[encoded data removed]",
      "text/plain": [
       "<Figure size 432x288 with 1 Axes>"
      ]
     },
     "metadata": {},
     "output_type": "display_data"
    }
   ],
   "source": [
    "# выведем платформы Топ-5 всех регионов вместе для сравнения\n",
    "\n",
    "na_platform.pivot_table(index='platform', values='corr_na').plot(kind='pie', autopct='%1.0f%%', legend=False, subplots=True, title='Доля продаж В Америке');\n",
    "eu_platform.pivot_table(index='platform', values='corr_eu').plot(kind='pie', autopct='%1.0f%%', legend=False, subplots=True, title='Доля продаж в Европе');\n",
    "jp_platform.pivot_table(index='platform', values='corr_jp').plot(kind='pie', autopct='%1.0f%%', legend=False, subplots=True, title='Доля продаж в Японии');\n",
    "other_platform.pivot_table(index='platform', values='corr_other').plot(kind='pie', autopct='%1.0f%%', legend=False, subplots=True, title='Доля продаж в других регионах');\n",
    "\n",
    "# во всех регионах пользуется популярностью платформа PS4 (в сред 50% рынка региона по продажам) и XOne (в сред 20% рынка региона по продажам, кроме Японии. \n",
    "# В Японии же преобладает платформа 3DS (японская платформа), в то время как в др. регонах она занимает не больше 6-7 % рынка"
   ]
  },
  {
   "cell_type": "markdown",
   "metadata": {},
   "source": [
    "### Вывод\n",
    "Произведенный анализ показал, что портрет потребителя отличается в зависимости от региона.\n",
    "Самые активно играющие региона с 2014 года  Северная Америка и Европа. \n",
    "Платформы во всех регионах практически используются одинаковые, кроме Японии. Скорее всего в Японии большую популярность имеют собственные платформы. Во всех регионах, кроме Японии, пользуется популярностью платформа PS4 (в сред 50% рынка региона по продажам) и XOne (в сред 20% рынка региона по продажам).\n",
    "Пятерка лидеров в регионах занимает практически 85-90% локального рынка. \n",
    "Популярность жанров в регионах практически одинаковая Action Shooter Sports, только в Японии огромную популярность имеет направление Role-Playing. Менее популярные жанры у всех одинаковые Adventure  Strategy Puzzle. \n",
    "Самые популярные актегории в компьютерных играх - М (Для взрослых), Е (Для всех)."
   ]
  },
  {
   "cell_type": "markdown",
   "metadata": {},
   "source": [
    "## Проверка гипотез"
   ]
  },
  {
   "cell_type": "code",
   "execution_count": 102,
   "metadata": {},
   "outputs": [],
   "source": [
    "### Гипотеза №1 Средние пользовательские рейтинги платформ Xbox One и PC одинаковые"
   ]
  },
  {
   "cell_type": "code",
   "execution_count": 103,
   "metadata": {},
   "outputs": [
    {
     "name": "stdout",
     "output_type": "stream",
     "text": [
      "mean_user_score_XOne 4.772368421052631\n",
      "mean_user_score_PC 5.088741721854304\n"
     ]
    }
   ],
   "source": [
    "#проверим средние пользовательские рейтинги платформ Xbox One и PC\n",
    "\n",
    "mean_user_score_XOne = data.query('platform == \"XOne\"')\n",
    "print('mean_user_score_XOne', mean_user_score_XOne['user_score'].mean())\n",
    "\n",
    "mean_user_score_PC = data.query('platform == \"PC\"')\n",
    "print('mean_user_score_PC', mean_user_score_PC['user_score'].mean())\n",
    "\n",
    "# по предварительным данным средние разные, но проверим этот факт на тетсе"
   ]
  },
  {
   "cell_type": "markdown",
   "metadata": {},
   "source": [
    "Эта гипотеза о равенстве средних двух генеральных совокупностей. \n",
    "У нас выборка значений разной длины, поэтому указываем в параметре equel_var=False, чтоб тест посчитал дисперсии по отдельноости.\n",
    "За нулевую гипотезу принимаем то, что между платформами нет отличий, т.е. Средние пользовательские рейтинги платформ Xbox One и PC одинаковые. Альтернативная гипотеза - соот-но наоборот, Средние пользовательские рейтинги платформ Xbox One и PC разные"
   ]
  },
  {
   "cell_type": "code",
   "execution_count": 104,
   "metadata": {},
   "outputs": [
    {
     "name": "stdout",
     "output_type": "stream",
     "text": [
      "1.0\n",
      "Принимаем нулевую гипотезу. Средний пользовательский рейтинг у платформ Xbox One и PC одинаковый\n"
     ]
    }
   ],
   "source": [
    "user_score_XOne = data[data['platform'] == 'XOne']\n",
    "user_score_XOne = data['user_score']\n",
    "user_score_PC = data[data['platform'] == 'PC']\n",
    "user_score_PC = data['user_score']\n",
    "\n",
    "alpha = 0.05 # задаем значение уровня значимости\n",
    "\n",
    "res = st.ttest_ind(user_score_XOne, user_score_PC, equal_var=False)\n",
    "\n",
    "print(res.pvalue)\n",
    "\n",
    "if res.pvalue < alpha:\n",
    "    print('Отвергаем нулевую гипотезу. Средний пользовательский рейтинг у платформ Xbox One и PC разный')\n",
    "else:\n",
    "    print('Принимаем нулевую гипотезу. Средний пользовательский рейтинг у платформ Xbox One и PC одинаковый')"
   ]
  },
  {
   "cell_type": "code",
   "execution_count": 105,
   "metadata": {},
   "outputs": [],
   "source": [
    "### Гипотеза №2 Средние пользовательские рейтинги жанров Action и Sports разные"
   ]
  },
  {
   "cell_type": "code",
   "execution_count": 106,
   "metadata": {},
   "outputs": [
    {
     "name": "stdout",
     "output_type": "stream",
     "text": [
      "mean_user_score_Action 3.2437802907915994\n",
      "mean_user_score_Sports 4.121739130434783\n"
     ]
    }
   ],
   "source": [
    "#проверим средние пользовательские рейтинги жанров Action и Sports\n",
    "\n",
    "mean_user_score_Action = data.query('genre == \"Action\"')\n",
    "print('mean_user_score_Action', mean_user_score_Action['user_score'].mean())\n",
    "\n",
    "mean_user_score_Sports = data.query('genre == \"Sports\"')\n",
    "print('mean_user_score_Sports', mean_user_score_Sports['user_score'].mean())\n",
    "\n",
    "# по предварительным данным средние разные, но проверим этот факт на тетсе"
   ]
  },
  {
   "cell_type": "code",
   "execution_count": 107,
   "metadata": {},
   "outputs": [
    {
     "name": "stdout",
     "output_type": "stream",
     "text": [
      "1.0\n",
      "Принимаем нулевую гипотезу. Средний пользовательский рейтинг у жанров Action и Sport одинаковый\n"
     ]
    }
   ],
   "source": [
    "# все по аналогии с гипотезой 1\n",
    "\n",
    "user_score_Action = data[data['genre'] == 'Action']\n",
    "user_score_Action = data['user_score']\n",
    "user_score_Sports = data[data['genre'] == 'Sports']\n",
    "user_score_Sports = data['user_score']\n",
    "\n",
    "alpha = 0.05 # задаем значение уровня значимости\n",
    "\n",
    "res = st.ttest_ind(user_score_Action, user_score_Sports, equal_var=False)\n",
    "\n",
    "print(res.pvalue)\n",
    "\n",
    "if res.pvalue < alpha:\n",
    "    print('Отвергаем нулевую гипотезу. Средний пользовательский рейтинг у жанров Action и Sports разный')\n",
    "else:\n",
    "    print('Принимаем нулевую гипотезу. Средний пользовательский рейтинг у жанров Action и Sport одинаковый')"
   ]
  },
  {
   "cell_type": "markdown",
   "metadata": {},
   "source": [
    "## Вывод\n",
    "Для анализа планирования рекламной кампании в 2017 году для организации «Стримчик» использовались данные из открытых источников за период с 1980 по 2016 года.\n",
    "\n",
    "В исходных данных имелось большое кол-во пропусков в рейтингах, которые в последствии были заменены на 0, для возможности проведения в дальнейшем анализа (или заполнены словом 'неизвестно' в колонке 'rating'). Практически 90% пропусков совпадают в 3-х колонках (колонки с рейтингами), поэтому предположительно это техническая проблема, в ходе которой была потеряна часть информации (как правило, многие потери пришлись на период 1995-2011гг). Также категория tbd (отметка неясностей или пропусков) в рейтинге user_score (около 15%) могла возникнуть в следствии некорректного ввода оценки пользователем/геймером. Также в данных пришлось заменить тип данных в рейтингах для возможности проведения анализа.\n",
    "\n",
    "Для понимания жизненного цикла платформ были проанализированы платформы за весь исходный период. Данный анализ позволил понять, что средний жизненный цикл платформы 5-7 лет. На середине активности платформа, как правило, достигает своего пика (в некоторых случаях двойного пика), а затем идет на спад.\n",
    "Далее для анализа было принято решение не использовать старые данные, по причине их неактуальности. Рынок компьютерных игр постоянно меняется, поэтому для планирования рекламной кампании было принято решение использовать свежие данные, т.е. период с 2014 по 2016 года.\n",
    "\n",
    "На успех игры влияют платформы, жанры, возрастные категории, регионы. Никакого влияния на успех игры не оказывают рейтинги.\n",
    "- **Платформа**\n",
    "За последние 3 года изучаемого периода имеется много платформ, но среди всех выделяются топ-6 платформ ['PS4', 'XOne', '3DS', 'PS3', 'X360', 'WiiU'] с высоким уровнем продаж комп.игр. \n",
    "Для планирования рекламной компании рекомендуется обратить внимание на молодые платформы ['PS4', 'XOne']. Уровень продаж достаточно стабильный, о чем говорят нам высокие показатели средней и медианы. Жизненный цикл платформы еще небольшой, поэтому имеются основания предполагать, что платформа находится на этапе развития и в 2017 году так же будет наблюдаться стабильный рост продаж.\n",
    "- **Жанр и возрастная категория**\n",
    "При выборе жанра рекомендуется использовать жанры  Action, Shooter, Sports, так как эти жанры оказались самыми продаваемыми.\n",
    "Следует обратить внимание на игры возрастной категории M (Для взрослых) и Е (Для всех), так как именно эти категории являются самыми востребованными.\n",
    "Малопопулярные игры жанра Adventure, Puzzle, Strategy и возрастной категории EC (Для детей младшего возраста), E10+ (Для всех от 10 лет и старше): \n",
    "- **Регион**\n",
    "Во всех регионах практически похожая ситуация с популярностью жанров, платформ, возрастной категорией, кроме Японии. \n",
    "Если рекламная компания будет направлена локально, пусть то Япония или другая развитая страна, необходимо обязательно провести более глубокий анализ предпочтений конкретного региона.\n",
    "\n",
    "\n",
    "\n"
   ]
  },
  {
   "cell_type": "code",
   "execution_count": null,
   "metadata": {},
   "outputs": [],
   "source": []
  }
 ],
 "metadata": {
  "ExecuteTimeLog": [
   {
    "duration": 450,
    "start_time": "2023-02-02T19:16:54.792Z"
   },
   {
    "duration": 101,
    "start_time": "2023-02-02T19:17:22.054Z"
   },
   {
    "duration": 2,
    "start_time": "2023-02-02T19:17:25.340Z"
   },
   {
    "duration": 206,
    "start_time": "2023-02-02T19:18:00.442Z"
   },
   {
    "duration": 13,
    "start_time": "2023-02-02T19:18:17.347Z"
   },
   {
    "duration": 17,
    "start_time": "2023-02-02T19:18:34.000Z"
   },
   {
    "duration": 21,
    "start_time": "2023-02-02T19:18:43.657Z"
   },
   {
    "duration": 9,
    "start_time": "2023-02-02T19:18:50.492Z"
   },
   {
    "duration": 13,
    "start_time": "2023-02-02T19:19:16.991Z"
   },
   {
    "duration": 8,
    "start_time": "2023-02-02T19:19:25.755Z"
   },
   {
    "duration": 19,
    "start_time": "2023-02-02T19:19:32.875Z"
   },
   {
    "duration": 15,
    "start_time": "2023-02-02T19:20:22.869Z"
   },
   {
    "duration": 17,
    "start_time": "2023-02-02T19:20:28.975Z"
   },
   {
    "duration": 22,
    "start_time": "2023-02-02T19:21:18.346Z"
   },
   {
    "duration": 23,
    "start_time": "2023-02-02T19:23:05.426Z"
   },
   {
    "duration": 21,
    "start_time": "2023-02-02T19:23:16.194Z"
   },
   {
    "duration": 22,
    "start_time": "2023-02-02T19:23:24.686Z"
   },
   {
    "duration": 20,
    "start_time": "2023-02-02T19:24:27.490Z"
   },
   {
    "duration": 42,
    "start_time": "2023-02-02T19:25:38.043Z"
   },
   {
    "duration": 19,
    "start_time": "2023-02-02T19:26:38.269Z"
   },
   {
    "duration": 18,
    "start_time": "2023-02-02T19:28:11.523Z"
   },
   {
    "duration": 5,
    "start_time": "2023-02-02T19:28:26.304Z"
   },
   {
    "duration": 18,
    "start_time": "2023-02-02T19:29:21.451Z"
   },
   {
    "duration": 19,
    "start_time": "2023-02-02T19:29:37.420Z"
   },
   {
    "duration": 23,
    "start_time": "2023-02-02T19:33:19.573Z"
   },
   {
    "duration": 7,
    "start_time": "2023-02-02T19:33:26.446Z"
   },
   {
    "duration": 15,
    "start_time": "2023-02-02T19:33:50.100Z"
   },
   {
    "duration": 17,
    "start_time": "2023-02-02T19:34:59.400Z"
   },
   {
    "duration": 17,
    "start_time": "2023-02-02T19:35:20.825Z"
   },
   {
    "duration": 18,
    "start_time": "2023-02-02T19:35:32.719Z"
   },
   {
    "duration": 18,
    "start_time": "2023-02-02T19:36:03.217Z"
   },
   {
    "duration": 10,
    "start_time": "2023-02-02T19:38:54.182Z"
   },
   {
    "duration": 11,
    "start_time": "2023-02-02T19:39:03.810Z"
   },
   {
    "duration": 12,
    "start_time": "2023-02-02T19:39:06.345Z"
   },
   {
    "duration": 12,
    "start_time": "2023-02-02T19:39:17.784Z"
   },
   {
    "duration": 6,
    "start_time": "2023-02-02T19:42:37.306Z"
   },
   {
    "duration": 373,
    "start_time": "2023-02-02T19:42:51.119Z"
   },
   {
    "duration": 66,
    "start_time": "2023-02-02T19:42:51.494Z"
   },
   {
    "duration": 13,
    "start_time": "2023-02-02T19:42:51.562Z"
   },
   {
    "duration": 13,
    "start_time": "2023-02-02T19:42:51.576Z"
   },
   {
    "duration": 22,
    "start_time": "2023-02-02T19:42:51.591Z"
   },
   {
    "duration": 8,
    "start_time": "2023-02-02T19:42:51.614Z"
   },
   {
    "duration": 18,
    "start_time": "2023-02-02T19:42:51.624Z"
   },
   {
    "duration": 14,
    "start_time": "2023-02-02T19:42:51.644Z"
   },
   {
    "duration": 6,
    "start_time": "2023-02-02T19:42:51.660Z"
   },
   {
    "duration": 64,
    "start_time": "2023-02-02T19:43:38.707Z"
   },
   {
    "duration": 23,
    "start_time": "2023-02-02T19:43:42.946Z"
   },
   {
    "duration": 67,
    "start_time": "2023-02-02T19:43:54.322Z"
   },
   {
    "duration": 6,
    "start_time": "2023-02-02T19:44:04.907Z"
   },
   {
    "duration": 7,
    "start_time": "2023-02-02T19:44:17.754Z"
   },
   {
    "duration": 9,
    "start_time": "2023-02-02T19:45:16.430Z"
   },
   {
    "duration": 8,
    "start_time": "2023-02-02T19:45:21.060Z"
   },
   {
    "duration": 6,
    "start_time": "2023-02-02T19:45:23.565Z"
   },
   {
    "duration": 19,
    "start_time": "2023-02-02T19:45:32.481Z"
   },
   {
    "duration": 17,
    "start_time": "2023-02-02T19:46:07.852Z"
   },
   {
    "duration": 21,
    "start_time": "2023-02-02T19:46:11.615Z"
   },
   {
    "duration": 21,
    "start_time": "2023-02-02T19:46:37.305Z"
   },
   {
    "duration": 16,
    "start_time": "2023-02-02T19:46:42.755Z"
   },
   {
    "duration": 17,
    "start_time": "2023-02-02T19:46:45.558Z"
   },
   {
    "duration": 17,
    "start_time": "2023-02-02T19:51:06.860Z"
   },
   {
    "duration": 24,
    "start_time": "2023-02-02T19:51:10.800Z"
   },
   {
    "duration": 13,
    "start_time": "2023-02-02T19:56:25.740Z"
   },
   {
    "duration": 33,
    "start_time": "2023-02-02T19:57:05.312Z"
   },
   {
    "duration": 22,
    "start_time": "2023-02-02T19:57:24.502Z"
   },
   {
    "duration": 34,
    "start_time": "2023-02-02T19:57:41.754Z"
   },
   {
    "duration": 34,
    "start_time": "2023-02-02T19:58:02.722Z"
   },
   {
    "duration": 22,
    "start_time": "2023-02-02T19:58:55.520Z"
   },
   {
    "duration": 24,
    "start_time": "2023-02-02T19:59:07.974Z"
   },
   {
    "duration": 18,
    "start_time": "2023-02-02T19:59:13.250Z"
   },
   {
    "duration": 18,
    "start_time": "2023-02-02T19:59:29.179Z"
   },
   {
    "duration": 20,
    "start_time": "2023-02-02T19:59:31.754Z"
   },
   {
    "duration": 19,
    "start_time": "2023-02-02T19:59:39.170Z"
   },
   {
    "duration": 19,
    "start_time": "2023-02-02T19:59:55.852Z"
   },
   {
    "duration": 19,
    "start_time": "2023-02-02T20:00:03.338Z"
   },
   {
    "duration": 41,
    "start_time": "2023-02-02T20:02:36.004Z"
   },
   {
    "duration": 3,
    "start_time": "2023-02-02T20:14:34.540Z"
   },
   {
    "duration": 3,
    "start_time": "2023-02-02T20:14:56.517Z"
   },
   {
    "duration": 4,
    "start_time": "2023-02-02T20:15:19.265Z"
   },
   {
    "duration": 9,
    "start_time": "2023-02-02T20:16:22.193Z"
   },
   {
    "duration": 4,
    "start_time": "2023-02-02T20:17:01.944Z"
   },
   {
    "duration": 3,
    "start_time": "2023-02-02T20:17:08.091Z"
   },
   {
    "duration": 20,
    "start_time": "2023-02-02T20:17:16.821Z"
   },
   {
    "duration": 21,
    "start_time": "2023-02-02T20:17:33.100Z"
   },
   {
    "duration": 7,
    "start_time": "2023-02-02T20:19:38.534Z"
   },
   {
    "duration": 5,
    "start_time": "2023-02-02T20:21:17.952Z"
   },
   {
    "duration": 6,
    "start_time": "2023-02-02T20:21:27.951Z"
   },
   {
    "duration": 3,
    "start_time": "2023-02-02T20:21:32.521Z"
   },
   {
    "duration": 8,
    "start_time": "2023-02-02T20:21:38.905Z"
   },
   {
    "duration": 6,
    "start_time": "2023-02-02T20:22:07.787Z"
   },
   {
    "duration": 7,
    "start_time": "2023-02-02T20:22:11.943Z"
   },
   {
    "duration": 380,
    "start_time": "2023-02-02T20:22:22.323Z"
   },
   {
    "duration": 68,
    "start_time": "2023-02-02T20:22:22.705Z"
   },
   {
    "duration": 14,
    "start_time": "2023-02-02T20:22:22.775Z"
   },
   {
    "duration": 13,
    "start_time": "2023-02-02T20:22:22.791Z"
   },
   {
    "duration": 22,
    "start_time": "2023-02-02T20:22:22.805Z"
   },
   {
    "duration": 9,
    "start_time": "2023-02-02T20:22:22.828Z"
   },
   {
    "duration": 13,
    "start_time": "2023-02-02T20:22:22.839Z"
   },
   {
    "duration": 16,
    "start_time": "2023-02-02T20:22:22.854Z"
   },
   {
    "duration": 38,
    "start_time": "2023-02-02T20:22:22.872Z"
   },
   {
    "duration": 6,
    "start_time": "2023-02-02T20:22:22.912Z"
   },
   {
    "duration": 68,
    "start_time": "2023-02-02T20:22:22.919Z"
   },
   {
    "duration": 6,
    "start_time": "2023-02-02T20:22:34.367Z"
   },
   {
    "duration": 7,
    "start_time": "2023-02-02T20:22:47.077Z"
   },
   {
    "duration": 8,
    "start_time": "2023-02-02T20:23:53.542Z"
   },
   {
    "duration": 430,
    "start_time": "2023-02-02T20:24:02.778Z"
   },
   {
    "duration": 68,
    "start_time": "2023-02-02T20:24:03.211Z"
   },
   {
    "duration": 14,
    "start_time": "2023-02-02T20:24:03.281Z"
   },
   {
    "duration": 19,
    "start_time": "2023-02-02T20:24:03.297Z"
   },
   {
    "duration": 22,
    "start_time": "2023-02-02T20:24:03.317Z"
   },
   {
    "duration": 8,
    "start_time": "2023-02-02T20:24:03.341Z"
   },
   {
    "duration": 16,
    "start_time": "2023-02-02T20:24:03.350Z"
   },
   {
    "duration": 9,
    "start_time": "2023-02-02T20:24:03.367Z"
   },
   {
    "duration": 39,
    "start_time": "2023-02-02T20:24:03.378Z"
   },
   {
    "duration": 6,
    "start_time": "2023-02-02T20:24:03.419Z"
   },
   {
    "duration": 8,
    "start_time": "2023-02-02T20:24:03.426Z"
   },
   {
    "duration": 6,
    "start_time": "2023-02-02T20:24:28.997Z"
   },
   {
    "duration": 64,
    "start_time": "2023-02-02T20:24:31.358Z"
   },
   {
    "duration": 8,
    "start_time": "2023-02-02T20:24:56.639Z"
   },
   {
    "duration": 9,
    "start_time": "2023-02-02T20:25:31.326Z"
   },
   {
    "duration": 397,
    "start_time": "2023-02-02T20:25:41.739Z"
   },
   {
    "duration": 72,
    "start_time": "2023-02-02T20:25:42.138Z"
   },
   {
    "duration": 13,
    "start_time": "2023-02-02T20:25:42.212Z"
   },
   {
    "duration": 13,
    "start_time": "2023-02-02T20:25:42.227Z"
   },
   {
    "duration": 27,
    "start_time": "2023-02-02T20:25:42.241Z"
   },
   {
    "duration": 8,
    "start_time": "2023-02-02T20:25:42.270Z"
   },
   {
    "duration": 28,
    "start_time": "2023-02-02T20:25:42.279Z"
   },
   {
    "duration": 9,
    "start_time": "2023-02-02T20:25:42.309Z"
   },
   {
    "duration": 27,
    "start_time": "2023-02-02T20:25:42.319Z"
   },
   {
    "duration": 5,
    "start_time": "2023-02-02T20:25:42.348Z"
   },
   {
    "duration": 74,
    "start_time": "2023-02-02T20:25:42.355Z"
   },
   {
    "duration": 7,
    "start_time": "2023-02-02T20:26:30.051Z"
   },
   {
    "duration": 428,
    "start_time": "2023-02-02T20:26:36.800Z"
   },
   {
    "duration": 89,
    "start_time": "2023-02-02T20:26:37.230Z"
   },
   {
    "duration": 14,
    "start_time": "2023-02-02T20:26:37.321Z"
   },
   {
    "duration": 14,
    "start_time": "2023-02-02T20:26:37.336Z"
   },
   {
    "duration": 22,
    "start_time": "2023-02-02T20:26:37.352Z"
   },
   {
    "duration": 29,
    "start_time": "2023-02-02T20:26:37.376Z"
   },
   {
    "duration": 14,
    "start_time": "2023-02-02T20:26:37.406Z"
   },
   {
    "duration": 8,
    "start_time": "2023-02-02T20:26:37.421Z"
   },
   {
    "duration": 21,
    "start_time": "2023-02-02T20:26:37.432Z"
   },
   {
    "duration": 6,
    "start_time": "2023-02-02T20:26:37.455Z"
   },
   {
    "duration": 96,
    "start_time": "2023-02-02T20:26:37.463Z"
   },
   {
    "duration": 8,
    "start_time": "2023-02-02T20:27:52.211Z"
   },
   {
    "duration": 418,
    "start_time": "2023-02-02T20:27:57.990Z"
   },
   {
    "duration": 68,
    "start_time": "2023-02-02T20:27:58.410Z"
   },
   {
    "duration": 13,
    "start_time": "2023-02-02T20:27:58.480Z"
   },
   {
    "duration": 19,
    "start_time": "2023-02-02T20:27:58.496Z"
   },
   {
    "duration": 34,
    "start_time": "2023-02-02T20:27:58.517Z"
   },
   {
    "duration": 8,
    "start_time": "2023-02-02T20:27:58.552Z"
   },
   {
    "duration": 12,
    "start_time": "2023-02-02T20:27:58.562Z"
   },
   {
    "duration": 27,
    "start_time": "2023-02-02T20:27:58.576Z"
   },
   {
    "duration": 19,
    "start_time": "2023-02-02T20:27:58.605Z"
   },
   {
    "duration": 6,
    "start_time": "2023-02-02T20:27:58.626Z"
   },
   {
    "duration": 6,
    "start_time": "2023-02-02T20:27:58.633Z"
   },
   {
    "duration": 8,
    "start_time": "2023-02-02T20:28:19.377Z"
   },
   {
    "duration": 5,
    "start_time": "2023-02-02T20:28:44.143Z"
   },
   {
    "duration": 19,
    "start_time": "2023-02-02T20:28:51.665Z"
   },
   {
    "duration": 6,
    "start_time": "2023-02-02T20:29:40.685Z"
   },
   {
    "duration": 3,
    "start_time": "2023-02-02T20:36:34.674Z"
   },
   {
    "duration": 17,
    "start_time": "2023-02-02T20:36:36.693Z"
   },
   {
    "duration": 2,
    "start_time": "2023-02-02T20:40:21.339Z"
   },
   {
    "duration": 2,
    "start_time": "2023-02-02T20:41:31.614Z"
   },
   {
    "duration": 5,
    "start_time": "2023-02-02T20:47:12.952Z"
   },
   {
    "duration": 59,
    "start_time": "2023-02-02T20:53:49.478Z"
   },
   {
    "duration": 18,
    "start_time": "2023-02-02T20:54:07.948Z"
   },
   {
    "duration": 7,
    "start_time": "2023-02-02T20:54:25.711Z"
   },
   {
    "duration": 10,
    "start_time": "2023-02-02T20:55:23.948Z"
   },
   {
    "duration": 6,
    "start_time": "2023-02-02T20:56:40.373Z"
   },
   {
    "duration": 5,
    "start_time": "2023-02-02T20:57:20.133Z"
   },
   {
    "duration": 0,
    "start_time": "2023-02-02T21:01:08.375Z"
   },
   {
    "duration": 2,
    "start_time": "2023-02-02T21:01:10.230Z"
   },
   {
    "duration": 70,
    "start_time": "2023-02-02T21:01:10.234Z"
   },
   {
    "duration": 12,
    "start_time": "2023-02-02T21:01:10.306Z"
   },
   {
    "duration": 25,
    "start_time": "2023-02-02T21:01:10.320Z"
   },
   {
    "duration": 22,
    "start_time": "2023-02-02T21:01:10.347Z"
   },
   {
    "duration": 9,
    "start_time": "2023-02-02T21:01:10.371Z"
   },
   {
    "duration": 23,
    "start_time": "2023-02-02T21:01:10.381Z"
   },
   {
    "duration": 6,
    "start_time": "2023-02-02T21:01:10.406Z"
   },
   {
    "duration": 20,
    "start_time": "2023-02-02T21:01:10.414Z"
   },
   {
    "duration": 6,
    "start_time": "2023-02-02T21:01:10.436Z"
   },
   {
    "duration": 7,
    "start_time": "2023-02-02T21:01:10.443Z"
   },
   {
    "duration": 3,
    "start_time": "2023-02-02T21:01:10.452Z"
   },
   {
    "duration": 14,
    "start_time": "2023-02-02T21:01:10.458Z"
   },
   {
    "duration": 5,
    "start_time": "2023-02-02T21:01:10.504Z"
   },
   {
    "duration": 15,
    "start_time": "2023-02-02T21:01:10.511Z"
   },
   {
    "duration": 7,
    "start_time": "2023-02-02T21:02:46.491Z"
   },
   {
    "duration": 11,
    "start_time": "2023-02-02T21:02:56.637Z"
   },
   {
    "duration": 15,
    "start_time": "2023-02-02T21:03:39.803Z"
   },
   {
    "duration": 8,
    "start_time": "2023-02-02T21:04:53.745Z"
   },
   {
    "duration": 6,
    "start_time": "2023-02-02T21:05:22.575Z"
   },
   {
    "duration": 1146,
    "start_time": "2023-02-02T21:10:27.334Z"
   },
   {
    "duration": 7,
    "start_time": "2023-02-02T21:10:41.664Z"
   },
   {
    "duration": 6,
    "start_time": "2023-02-02T21:11:11.258Z"
   },
   {
    "duration": 4,
    "start_time": "2023-02-02T21:11:13.117Z"
   },
   {
    "duration": 8,
    "start_time": "2023-02-02T21:11:14.698Z"
   },
   {
    "duration": 426,
    "start_time": "2023-02-02T21:11:25.179Z"
   },
   {
    "duration": 67,
    "start_time": "2023-02-02T21:11:25.607Z"
   },
   {
    "duration": 14,
    "start_time": "2023-02-02T21:11:25.676Z"
   },
   {
    "duration": 14,
    "start_time": "2023-02-02T21:11:25.693Z"
   },
   {
    "duration": 20,
    "start_time": "2023-02-02T21:11:25.709Z"
   },
   {
    "duration": 9,
    "start_time": "2023-02-02T21:11:25.731Z"
   },
   {
    "duration": 20,
    "start_time": "2023-02-02T21:11:25.742Z"
   },
   {
    "duration": 9,
    "start_time": "2023-02-02T21:11:25.763Z"
   },
   {
    "duration": 43,
    "start_time": "2023-02-02T21:11:25.773Z"
   },
   {
    "duration": 6,
    "start_time": "2023-02-02T21:11:25.818Z"
   },
   {
    "duration": 7,
    "start_time": "2023-02-02T21:11:25.825Z"
   },
   {
    "duration": 4,
    "start_time": "2023-02-02T21:11:25.833Z"
   },
   {
    "duration": 11,
    "start_time": "2023-02-02T21:11:25.838Z"
   },
   {
    "duration": 7,
    "start_time": "2023-02-02T21:11:25.851Z"
   },
   {
    "duration": 17,
    "start_time": "2023-02-02T21:11:25.859Z"
   },
   {
    "duration": 7,
    "start_time": "2023-02-02T21:11:57.521Z"
   },
   {
    "duration": 389,
    "start_time": "2023-02-02T21:12:15.816Z"
   },
   {
    "duration": 69,
    "start_time": "2023-02-02T21:12:16.207Z"
   },
   {
    "duration": 15,
    "start_time": "2023-02-02T21:12:16.278Z"
   },
   {
    "duration": 16,
    "start_time": "2023-02-02T21:12:16.297Z"
   },
   {
    "duration": 19,
    "start_time": "2023-02-02T21:12:16.315Z"
   },
   {
    "duration": 9,
    "start_time": "2023-02-02T21:12:16.335Z"
   },
   {
    "duration": 14,
    "start_time": "2023-02-02T21:12:16.345Z"
   },
   {
    "duration": 12,
    "start_time": "2023-02-02T21:12:16.361Z"
   },
   {
    "duration": 35,
    "start_time": "2023-02-02T21:12:16.374Z"
   },
   {
    "duration": 6,
    "start_time": "2023-02-02T21:12:16.411Z"
   },
   {
    "duration": 7,
    "start_time": "2023-02-02T21:12:16.419Z"
   },
   {
    "duration": 4,
    "start_time": "2023-02-02T21:12:16.428Z"
   },
   {
    "duration": 9,
    "start_time": "2023-02-02T21:12:16.433Z"
   },
   {
    "duration": 8,
    "start_time": "2023-02-02T21:12:16.443Z"
   },
   {
    "duration": 14,
    "start_time": "2023-02-02T21:12:16.452Z"
   },
   {
    "duration": 6,
    "start_time": "2023-02-02T21:12:44.977Z"
   },
   {
    "duration": 9,
    "start_time": "2023-02-02T21:13:06.520Z"
   },
   {
    "duration": 4,
    "start_time": "2023-02-02T21:13:58.684Z"
   },
   {
    "duration": 13,
    "start_time": "2023-02-02T21:14:02.489Z"
   },
   {
    "duration": 11,
    "start_time": "2023-02-02T21:16:34.939Z"
   },
   {
    "duration": 21,
    "start_time": "2023-02-02T21:22:20.546Z"
   },
   {
    "duration": 4,
    "start_time": "2023-02-02T21:25:06.649Z"
   },
   {
    "duration": 13,
    "start_time": "2023-02-02T21:25:10.293Z"
   },
   {
    "duration": 22,
    "start_time": "2023-02-02T21:25:44.550Z"
   },
   {
    "duration": 21,
    "start_time": "2023-02-02T21:26:16.066Z"
   },
   {
    "duration": 21,
    "start_time": "2023-02-02T21:26:41.553Z"
   },
   {
    "duration": 5,
    "start_time": "2023-02-02T21:31:31.660Z"
   },
   {
    "duration": 5,
    "start_time": "2023-02-02T21:31:52.492Z"
   },
   {
    "duration": 4,
    "start_time": "2023-02-02T21:32:03.941Z"
   },
   {
    "duration": 75,
    "start_time": "2023-02-02T21:32:25.236Z"
   },
   {
    "duration": 15,
    "start_time": "2023-02-02T21:32:34.073Z"
   },
   {
    "duration": 3,
    "start_time": "2023-02-02T21:33:57.441Z"
   },
   {
    "duration": 7,
    "start_time": "2023-02-02T21:34:04.420Z"
   },
   {
    "duration": 4,
    "start_time": "2023-02-02T21:34:30.290Z"
   },
   {
    "duration": 5,
    "start_time": "2023-02-02T21:34:33.846Z"
   },
   {
    "duration": 7,
    "start_time": "2023-02-02T21:34:36.869Z"
   },
   {
    "duration": 7,
    "start_time": "2023-02-02T21:34:39.243Z"
   },
   {
    "duration": 7,
    "start_time": "2023-02-02T21:38:46.331Z"
   },
   {
    "duration": 4,
    "start_time": "2023-02-02T21:38:50.664Z"
   },
   {
    "duration": 3,
    "start_time": "2023-02-02T21:39:06.313Z"
   },
   {
    "duration": 4,
    "start_time": "2023-02-02T21:39:11.275Z"
   },
   {
    "duration": 5,
    "start_time": "2023-02-02T21:39:19.796Z"
   },
   {
    "duration": 4,
    "start_time": "2023-02-02T21:39:24.673Z"
   },
   {
    "duration": 3,
    "start_time": "2023-02-02T21:39:29.197Z"
   },
   {
    "duration": 4,
    "start_time": "2023-02-02T21:39:42.559Z"
   },
   {
    "duration": 80,
    "start_time": "2023-02-02T21:40:11.613Z"
   },
   {
    "duration": 4,
    "start_time": "2023-02-02T21:40:18.836Z"
   },
   {
    "duration": 344,
    "start_time": "2023-02-02T21:41:29.860Z"
   },
   {
    "duration": 79,
    "start_time": "2023-02-02T21:41:30.206Z"
   },
   {
    "duration": 14,
    "start_time": "2023-02-02T21:41:30.286Z"
   },
   {
    "duration": 42,
    "start_time": "2023-02-02T21:41:30.303Z"
   },
   {
    "duration": 53,
    "start_time": "2023-02-02T21:41:30.347Z"
   },
   {
    "duration": 15,
    "start_time": "2023-02-02T21:41:30.401Z"
   },
   {
    "duration": 36,
    "start_time": "2023-02-02T21:41:30.418Z"
   },
   {
    "duration": 27,
    "start_time": "2023-02-02T21:41:30.456Z"
   },
   {
    "duration": 48,
    "start_time": "2023-02-02T21:41:30.484Z"
   },
   {
    "duration": 33,
    "start_time": "2023-02-02T21:41:30.534Z"
   },
   {
    "duration": 23,
    "start_time": "2023-02-02T21:41:30.569Z"
   },
   {
    "duration": 20,
    "start_time": "2023-02-02T21:41:30.593Z"
   },
   {
    "duration": 51,
    "start_time": "2023-02-02T21:41:30.615Z"
   },
   {
    "duration": 49,
    "start_time": "2023-02-02T21:41:30.668Z"
   },
   {
    "duration": 31,
    "start_time": "2023-02-02T21:41:30.718Z"
   },
   {
    "duration": 45,
    "start_time": "2023-02-02T21:41:30.751Z"
   },
   {
    "duration": 36,
    "start_time": "2023-02-02T21:41:30.798Z"
   },
   {
    "duration": 35,
    "start_time": "2023-02-02T21:41:30.836Z"
   },
   {
    "duration": 26,
    "start_time": "2023-02-02T21:41:30.873Z"
   },
   {
    "duration": 11,
    "start_time": "2023-02-02T21:41:30.901Z"
   },
   {
    "duration": 25,
    "start_time": "2023-02-02T21:41:30.914Z"
   },
   {
    "duration": 12,
    "start_time": "2023-02-02T21:43:35.962Z"
   },
   {
    "duration": 8,
    "start_time": "2023-02-02T21:44:47.961Z"
   },
   {
    "duration": 13,
    "start_time": "2023-02-02T21:44:55.778Z"
   },
   {
    "duration": 417,
    "start_time": "2023-02-04T07:08:42.175Z"
   },
   {
    "duration": 2,
    "start_time": "2023-02-04T07:12:19.609Z"
   },
   {
    "duration": 3,
    "start_time": "2023-02-04T07:12:34.589Z"
   },
   {
    "duration": 108,
    "start_time": "2023-02-04T07:12:38.397Z"
   },
   {
    "duration": 3,
    "start_time": "2023-02-04T07:13:31.565Z"
   },
   {
    "duration": 61,
    "start_time": "2023-02-04T07:14:36.909Z"
   },
   {
    "duration": 15,
    "start_time": "2023-02-04T07:14:47.189Z"
   },
   {
    "duration": 12,
    "start_time": "2023-02-04T07:16:12.609Z"
   },
   {
    "duration": 17,
    "start_time": "2023-02-04T07:20:55.013Z"
   },
   {
    "duration": 21,
    "start_time": "2023-02-04T07:22:17.117Z"
   },
   {
    "duration": 9,
    "start_time": "2023-02-04T07:22:55.689Z"
   },
   {
    "duration": 19,
    "start_time": "2023-02-04T07:25:34.363Z"
   },
   {
    "duration": 14,
    "start_time": "2023-02-04T07:26:16.439Z"
   },
   {
    "duration": 8,
    "start_time": "2023-02-04T07:26:18.774Z"
   },
   {
    "duration": 16,
    "start_time": "2023-02-04T07:27:37.383Z"
   },
   {
    "duration": 8,
    "start_time": "2023-02-04T07:29:57.173Z"
   },
   {
    "duration": 8,
    "start_time": "2023-02-04T07:30:13.400Z"
   },
   {
    "duration": 64,
    "start_time": "2023-02-04T07:30:25.300Z"
   },
   {
    "duration": 9,
    "start_time": "2023-02-04T07:30:36.269Z"
   },
   {
    "duration": 9,
    "start_time": "2023-02-04T07:37:07.890Z"
   },
   {
    "duration": 9,
    "start_time": "2023-02-04T07:37:14.319Z"
   },
   {
    "duration": 8,
    "start_time": "2023-02-04T07:37:23.562Z"
   },
   {
    "duration": 9,
    "start_time": "2023-02-04T07:37:33.100Z"
   },
   {
    "duration": 8,
    "start_time": "2023-02-04T07:37:37.763Z"
   },
   {
    "duration": 8,
    "start_time": "2023-02-04T07:37:41.453Z"
   },
   {
    "duration": 5,
    "start_time": "2023-02-04T07:38:16.254Z"
   },
   {
    "duration": 25,
    "start_time": "2023-02-04T07:39:23.510Z"
   },
   {
    "duration": 7,
    "start_time": "2023-02-04T07:43:10.056Z"
   },
   {
    "duration": 4,
    "start_time": "2023-02-04T07:43:31.500Z"
   },
   {
    "duration": 6,
    "start_time": "2023-02-04T07:44:16.112Z"
   },
   {
    "duration": 7,
    "start_time": "2023-02-04T07:44:27.760Z"
   },
   {
    "duration": 16,
    "start_time": "2023-02-04T07:46:13.991Z"
   },
   {
    "duration": 20,
    "start_time": "2023-02-04T07:46:58.468Z"
   },
   {
    "duration": 192,
    "start_time": "2023-02-04T07:48:05.469Z"
   },
   {
    "duration": 191,
    "start_time": "2023-02-04T07:48:21.371Z"
   },
   {
    "duration": 372,
    "start_time": "2023-02-04T07:48:36.190Z"
   },
   {
    "duration": 413,
    "start_time": "2023-02-04T07:48:57.010Z"
   },
   {
    "duration": 66,
    "start_time": "2023-02-04T07:48:57.425Z"
   },
   {
    "duration": 20,
    "start_time": "2023-02-04T07:48:57.493Z"
   },
   {
    "duration": 15,
    "start_time": "2023-02-04T07:48:57.515Z"
   },
   {
    "duration": 21,
    "start_time": "2023-02-04T07:48:57.532Z"
   },
   {
    "duration": 9,
    "start_time": "2023-02-04T07:48:57.554Z"
   },
   {
    "duration": 41,
    "start_time": "2023-02-04T07:48:57.564Z"
   },
   {
    "duration": 21,
    "start_time": "2023-02-04T07:48:57.606Z"
   },
   {
    "duration": 5,
    "start_time": "2023-02-04T07:48:57.629Z"
   },
   {
    "duration": 8,
    "start_time": "2023-02-04T07:48:57.636Z"
   },
   {
    "duration": 260,
    "start_time": "2023-02-04T07:48:57.645Z"
   },
   {
    "duration": 0,
    "start_time": "2023-02-04T07:48:57.907Z"
   },
   {
    "duration": 0,
    "start_time": "2023-02-04T07:48:57.909Z"
   },
   {
    "duration": 0,
    "start_time": "2023-02-04T07:48:57.910Z"
   },
   {
    "duration": 0,
    "start_time": "2023-02-04T07:48:57.911Z"
   },
   {
    "duration": 0,
    "start_time": "2023-02-04T07:48:57.911Z"
   },
   {
    "duration": 0,
    "start_time": "2023-02-04T07:48:57.913Z"
   },
   {
    "duration": 0,
    "start_time": "2023-02-04T07:48:57.914Z"
   },
   {
    "duration": 0,
    "start_time": "2023-02-04T07:48:57.915Z"
   },
   {
    "duration": 0,
    "start_time": "2023-02-04T07:48:57.916Z"
   },
   {
    "duration": 0,
    "start_time": "2023-02-04T07:48:57.917Z"
   },
   {
    "duration": 3,
    "start_time": "2023-02-04T07:49:30.610Z"
   },
   {
    "duration": 114,
    "start_time": "2023-02-04T07:49:30.615Z"
   },
   {
    "duration": 14,
    "start_time": "2023-02-04T07:49:30.730Z"
   },
   {
    "duration": 32,
    "start_time": "2023-02-04T07:49:30.745Z"
   },
   {
    "duration": 42,
    "start_time": "2023-02-04T07:49:30.779Z"
   },
   {
    "duration": 11,
    "start_time": "2023-02-04T07:49:30.823Z"
   },
   {
    "duration": 29,
    "start_time": "2023-02-04T07:49:30.836Z"
   },
   {
    "duration": 39,
    "start_time": "2023-02-04T07:49:30.867Z"
   },
   {
    "duration": 39,
    "start_time": "2023-02-04T07:49:30.908Z"
   },
   {
    "duration": 25,
    "start_time": "2023-02-04T07:49:30.949Z"
   },
   {
    "duration": 204,
    "start_time": "2023-02-04T07:49:30.976Z"
   },
   {
    "duration": 0,
    "start_time": "2023-02-04T07:49:31.182Z"
   },
   {
    "duration": 0,
    "start_time": "2023-02-04T07:49:31.184Z"
   },
   {
    "duration": 0,
    "start_time": "2023-02-04T07:49:31.185Z"
   },
   {
    "duration": 0,
    "start_time": "2023-02-04T07:49:31.185Z"
   },
   {
    "duration": 0,
    "start_time": "2023-02-04T07:49:31.187Z"
   },
   {
    "duration": 0,
    "start_time": "2023-02-04T07:49:31.188Z"
   },
   {
    "duration": 0,
    "start_time": "2023-02-04T07:49:31.189Z"
   },
   {
    "duration": 0,
    "start_time": "2023-02-04T07:49:31.190Z"
   },
   {
    "duration": 0,
    "start_time": "2023-02-04T07:49:31.191Z"
   },
   {
    "duration": 0,
    "start_time": "2023-02-04T07:49:31.192Z"
   },
   {
    "duration": 42,
    "start_time": "2023-02-04T07:50:55.445Z"
   },
   {
    "duration": 9,
    "start_time": "2023-02-04T07:51:03.833Z"
   },
   {
    "duration": 5,
    "start_time": "2023-02-04T07:51:33.080Z"
   },
   {
    "duration": 416,
    "start_time": "2023-02-04T07:52:01.079Z"
   },
   {
    "duration": 372,
    "start_time": "2023-02-04T07:52:55.331Z"
   },
   {
    "duration": 4,
    "start_time": "2023-02-04T07:57:55.271Z"
   },
   {
    "duration": 15,
    "start_time": "2023-02-04T07:58:28.343Z"
   },
   {
    "duration": 20,
    "start_time": "2023-02-04T07:58:35.701Z"
   },
   {
    "duration": 33,
    "start_time": "2023-02-04T07:58:50.188Z"
   },
   {
    "duration": 24,
    "start_time": "2023-02-04T08:00:50.276Z"
   },
   {
    "duration": 16,
    "start_time": "2023-02-04T08:01:38.621Z"
   },
   {
    "duration": 25,
    "start_time": "2023-02-04T08:01:51.246Z"
   },
   {
    "duration": 16,
    "start_time": "2023-02-04T08:02:43.680Z"
   },
   {
    "duration": 3,
    "start_time": "2023-02-04T08:02:55.072Z"
   },
   {
    "duration": 31,
    "start_time": "2023-02-04T08:03:12.120Z"
   },
   {
    "duration": 4,
    "start_time": "2023-02-04T08:03:57.921Z"
   },
   {
    "duration": 28,
    "start_time": "2023-02-04T08:04:27.699Z"
   },
   {
    "duration": 22,
    "start_time": "2023-02-04T08:06:17.342Z"
   },
   {
    "duration": 23,
    "start_time": "2023-02-04T08:08:42.601Z"
   },
   {
    "duration": 20,
    "start_time": "2023-02-04T08:13:46.298Z"
   },
   {
    "duration": 2,
    "start_time": "2023-02-04T08:14:30.068Z"
   },
   {
    "duration": 66,
    "start_time": "2023-02-04T08:14:30.072Z"
   },
   {
    "duration": 14,
    "start_time": "2023-02-04T08:14:30.140Z"
   },
   {
    "duration": 45,
    "start_time": "2023-02-04T08:14:30.156Z"
   },
   {
    "duration": 36,
    "start_time": "2023-02-04T08:14:30.203Z"
   },
   {
    "duration": 28,
    "start_time": "2023-02-04T08:14:30.240Z"
   },
   {
    "duration": 39,
    "start_time": "2023-02-04T08:14:30.270Z"
   },
   {
    "duration": 82,
    "start_time": "2023-02-04T08:14:30.311Z"
   },
   {
    "duration": 11,
    "start_time": "2023-02-04T08:14:30.394Z"
   },
   {
    "duration": 60,
    "start_time": "2023-02-04T08:14:30.407Z"
   },
   {
    "duration": 30,
    "start_time": "2023-02-04T08:14:30.469Z"
   },
   {
    "duration": 25,
    "start_time": "2023-02-04T08:14:30.500Z"
   },
   {
    "duration": 44,
    "start_time": "2023-02-04T08:14:30.527Z"
   },
   {
    "duration": 18,
    "start_time": "2023-02-04T08:14:34.499Z"
   },
   {
    "duration": 19,
    "start_time": "2023-02-04T08:16:16.966Z"
   },
   {
    "duration": 9,
    "start_time": "2023-02-04T08:17:27.863Z"
   },
   {
    "duration": 9,
    "start_time": "2023-02-04T08:18:01.741Z"
   },
   {
    "duration": 9,
    "start_time": "2023-02-04T08:18:46.144Z"
   },
   {
    "duration": 13,
    "start_time": "2023-02-04T08:18:54.064Z"
   },
   {
    "duration": 14,
    "start_time": "2023-02-04T08:18:59.763Z"
   },
   {
    "duration": 2,
    "start_time": "2023-02-04T08:20:41.637Z"
   },
   {
    "duration": 8,
    "start_time": "2023-02-04T08:24:36.989Z"
   },
   {
    "duration": 185,
    "start_time": "2023-02-04T08:25:57.799Z"
   },
   {
    "duration": 186,
    "start_time": "2023-02-04T08:26:42.564Z"
   },
   {
    "duration": 11,
    "start_time": "2023-02-04T08:26:48.163Z"
   },
   {
    "duration": 193,
    "start_time": "2023-02-04T08:26:57.064Z"
   },
   {
    "duration": 188,
    "start_time": "2023-02-04T08:27:33.088Z"
   },
   {
    "duration": 14,
    "start_time": "2023-02-04T08:28:03.462Z"
   },
   {
    "duration": 429,
    "start_time": "2023-02-04T08:28:10.488Z"
   },
   {
    "duration": 68,
    "start_time": "2023-02-04T08:28:10.919Z"
   },
   {
    "duration": 15,
    "start_time": "2023-02-04T08:28:10.989Z"
   },
   {
    "duration": 16,
    "start_time": "2023-02-04T08:28:11.005Z"
   },
   {
    "duration": 26,
    "start_time": "2023-02-04T08:28:11.023Z"
   },
   {
    "duration": 9,
    "start_time": "2023-02-04T08:28:11.051Z"
   },
   {
    "duration": 18,
    "start_time": "2023-02-04T08:28:11.061Z"
   },
   {
    "duration": 18,
    "start_time": "2023-02-04T08:28:11.103Z"
   },
   {
    "duration": 6,
    "start_time": "2023-02-04T08:28:11.123Z"
   },
   {
    "duration": 9,
    "start_time": "2023-02-04T08:28:11.130Z"
   },
   {
    "duration": 9,
    "start_time": "2023-02-04T08:28:11.141Z"
   },
   {
    "duration": 6,
    "start_time": "2023-02-04T08:28:11.152Z"
   },
   {
    "duration": 78,
    "start_time": "2023-02-04T08:28:11.160Z"
   },
   {
    "duration": 29,
    "start_time": "2023-02-04T08:28:11.241Z"
   },
   {
    "duration": 39,
    "start_time": "2023-02-04T08:28:11.272Z"
   },
   {
    "duration": 18,
    "start_time": "2023-02-04T08:28:11.313Z"
   },
   {
    "duration": 253,
    "start_time": "2023-02-04T08:28:11.332Z"
   },
   {
    "duration": 0,
    "start_time": "2023-02-04T08:28:11.587Z"
   },
   {
    "duration": 0,
    "start_time": "2023-02-04T08:28:11.588Z"
   },
   {
    "duration": 0,
    "start_time": "2023-02-04T08:28:11.589Z"
   },
   {
    "duration": 0,
    "start_time": "2023-02-04T08:28:11.590Z"
   },
   {
    "duration": 0,
    "start_time": "2023-02-04T08:28:11.592Z"
   },
   {
    "duration": 0,
    "start_time": "2023-02-04T08:28:11.593Z"
   },
   {
    "duration": 0,
    "start_time": "2023-02-04T08:28:11.594Z"
   },
   {
    "duration": 0,
    "start_time": "2023-02-04T08:28:11.595Z"
   },
   {
    "duration": 17,
    "start_time": "2023-02-04T08:28:44.942Z"
   },
   {
    "duration": 12,
    "start_time": "2023-02-04T08:29:41.809Z"
   },
   {
    "duration": 18,
    "start_time": "2023-02-04T08:30:18.276Z"
   },
   {
    "duration": 14,
    "start_time": "2023-02-04T08:30:22.141Z"
   },
   {
    "duration": 13,
    "start_time": "2023-02-04T08:30:25.773Z"
   },
   {
    "duration": 11,
    "start_time": "2023-02-04T08:30:44.746Z"
   },
   {
    "duration": 14,
    "start_time": "2023-02-04T08:30:49.140Z"
   },
   {
    "duration": 426,
    "start_time": "2023-02-04T08:30:57.463Z"
   },
   {
    "duration": 67,
    "start_time": "2023-02-04T08:30:57.891Z"
   },
   {
    "duration": 15,
    "start_time": "2023-02-04T08:30:57.960Z"
   },
   {
    "duration": 15,
    "start_time": "2023-02-04T08:30:57.977Z"
   },
   {
    "duration": 22,
    "start_time": "2023-02-04T08:30:58.003Z"
   },
   {
    "duration": 11,
    "start_time": "2023-02-04T08:30:58.027Z"
   },
   {
    "duration": 30,
    "start_time": "2023-02-04T08:30:58.041Z"
   },
   {
    "duration": 59,
    "start_time": "2023-02-04T08:30:58.073Z"
   },
   {
    "duration": 8,
    "start_time": "2023-02-04T08:30:58.134Z"
   },
   {
    "duration": 10,
    "start_time": "2023-02-04T08:30:58.144Z"
   },
   {
    "duration": 12,
    "start_time": "2023-02-04T08:30:58.156Z"
   },
   {
    "duration": 6,
    "start_time": "2023-02-04T08:30:58.170Z"
   },
   {
    "duration": 62,
    "start_time": "2023-02-04T08:30:58.177Z"
   },
   {
    "duration": 28,
    "start_time": "2023-02-04T08:30:58.244Z"
   },
   {
    "duration": 29,
    "start_time": "2023-02-04T08:30:58.275Z"
   },
   {
    "duration": 8,
    "start_time": "2023-02-04T08:30:58.306Z"
   },
   {
    "duration": 72,
    "start_time": "2023-02-04T08:30:58.315Z"
   },
   {
    "duration": 0,
    "start_time": "2023-02-04T08:30:58.404Z"
   },
   {
    "duration": 0,
    "start_time": "2023-02-04T08:30:58.405Z"
   },
   {
    "duration": 0,
    "start_time": "2023-02-04T08:30:58.406Z"
   },
   {
    "duration": 0,
    "start_time": "2023-02-04T08:30:58.409Z"
   },
   {
    "duration": 0,
    "start_time": "2023-02-04T08:30:58.410Z"
   },
   {
    "duration": 0,
    "start_time": "2023-02-04T08:30:58.411Z"
   },
   {
    "duration": 0,
    "start_time": "2023-02-04T08:30:58.413Z"
   },
   {
    "duration": 0,
    "start_time": "2023-02-04T08:30:58.415Z"
   },
   {
    "duration": 0,
    "start_time": "2023-02-04T08:30:58.416Z"
   },
   {
    "duration": 18,
    "start_time": "2023-02-04T08:31:33.076Z"
   },
   {
    "duration": 238,
    "start_time": "2023-02-04T08:31:55.537Z"
   },
   {
    "duration": 17,
    "start_time": "2023-02-04T08:32:48.537Z"
   },
   {
    "duration": 3,
    "start_time": "2023-02-04T08:33:28.506Z"
   },
   {
    "duration": 66,
    "start_time": "2023-02-04T08:33:30.744Z"
   },
   {
    "duration": 58,
    "start_time": "2023-02-04T08:33:38.067Z"
   },
   {
    "duration": 16,
    "start_time": "2023-02-04T08:33:43.247Z"
   },
   {
    "duration": 15,
    "start_time": "2023-02-04T08:33:47.288Z"
   },
   {
    "duration": 29,
    "start_time": "2023-02-04T08:34:01.441Z"
   },
   {
    "duration": 11,
    "start_time": "2023-02-04T08:34:05.169Z"
   },
   {
    "duration": 17,
    "start_time": "2023-02-04T08:34:07.768Z"
   },
   {
    "duration": 19,
    "start_time": "2023-02-04T08:34:12.538Z"
   },
   {
    "duration": 8,
    "start_time": "2023-02-04T08:34:16.047Z"
   },
   {
    "duration": 7,
    "start_time": "2023-02-04T08:34:17.547Z"
   },
   {
    "duration": 10,
    "start_time": "2023-02-04T08:34:21.662Z"
   },
   {
    "duration": 5,
    "start_time": "2023-02-04T08:34:25.762Z"
   },
   {
    "duration": 28,
    "start_time": "2023-02-04T08:34:32.686Z"
   },
   {
    "duration": 15,
    "start_time": "2023-02-04T08:34:46.993Z"
   },
   {
    "duration": 1130,
    "start_time": "2023-02-04T08:35:16.461Z"
   },
   {
    "duration": 7,
    "start_time": "2023-02-04T08:35:45.305Z"
   },
   {
    "duration": 23,
    "start_time": "2023-02-04T08:35:53.198Z"
   },
   {
    "duration": 5,
    "start_time": "2023-02-04T08:36:18.908Z"
   },
   {
    "duration": 15,
    "start_time": "2023-02-04T08:37:46.959Z"
   },
   {
    "duration": 22,
    "start_time": "2023-02-04T08:42:31.855Z"
   },
   {
    "duration": 10,
    "start_time": "2023-02-04T09:30:53.941Z"
   },
   {
    "duration": 9,
    "start_time": "2023-02-04T09:31:51.501Z"
   },
   {
    "duration": 36,
    "start_time": "2023-02-04T09:32:14.534Z"
   },
   {
    "duration": 11,
    "start_time": "2023-02-04T09:33:25.857Z"
   },
   {
    "duration": 10,
    "start_time": "2023-02-04T09:33:47.996Z"
   },
   {
    "duration": 9,
    "start_time": "2023-02-04T09:34:19.776Z"
   },
   {
    "duration": 17,
    "start_time": "2023-02-04T09:37:32.766Z"
   },
   {
    "duration": 18,
    "start_time": "2023-02-04T09:38:43.697Z"
   },
   {
    "duration": 17,
    "start_time": "2023-02-04T09:47:41.945Z"
   },
   {
    "duration": 17,
    "start_time": "2023-02-04T09:54:12.124Z"
   },
   {
    "duration": 9,
    "start_time": "2023-02-04T09:57:30.799Z"
   },
   {
    "duration": 11,
    "start_time": "2023-02-04T09:58:30.660Z"
   },
   {
    "duration": 8,
    "start_time": "2023-02-04T09:58:48.769Z"
   },
   {
    "duration": 13,
    "start_time": "2023-02-04T09:59:28.468Z"
   },
   {
    "duration": 18,
    "start_time": "2023-02-04T10:00:03.167Z"
   },
   {
    "duration": 6,
    "start_time": "2023-02-04T10:00:36.758Z"
   },
   {
    "duration": 6,
    "start_time": "2023-02-04T10:00:48.420Z"
   },
   {
    "duration": 17,
    "start_time": "2023-02-04T10:01:07.162Z"
   },
   {
    "duration": 13,
    "start_time": "2023-02-04T10:01:18.866Z"
   },
   {
    "duration": 17,
    "start_time": "2023-02-04T10:02:21.263Z"
   },
   {
    "duration": 17,
    "start_time": "2023-02-04T10:07:10.959Z"
   },
   {
    "duration": 7,
    "start_time": "2023-02-04T10:09:17.163Z"
   },
   {
    "duration": 6,
    "start_time": "2023-02-04T10:09:33.630Z"
   },
   {
    "duration": 19,
    "start_time": "2023-02-04T10:09:57.443Z"
   },
   {
    "duration": 14,
    "start_time": "2023-02-04T10:10:11.100Z"
   },
   {
    "duration": 5,
    "start_time": "2023-02-04T10:10:19.885Z"
   },
   {
    "duration": 8,
    "start_time": "2023-02-04T10:10:27.375Z"
   },
   {
    "duration": 65,
    "start_time": "2023-02-04T10:10:41.861Z"
   },
   {
    "duration": 17,
    "start_time": "2023-02-04T10:11:12.567Z"
   },
   {
    "duration": 9,
    "start_time": "2023-02-04T10:11:24.830Z"
   },
   {
    "duration": 19,
    "start_time": "2023-02-04T10:23:29.067Z"
   },
   {
    "duration": 15,
    "start_time": "2023-02-04T10:24:08.433Z"
   },
   {
    "duration": 22,
    "start_time": "2023-02-04T10:25:52.070Z"
   },
   {
    "duration": 7,
    "start_time": "2023-02-04T10:25:54.961Z"
   },
   {
    "duration": 6,
    "start_time": "2023-02-04T10:26:06.700Z"
   },
   {
    "duration": 29,
    "start_time": "2023-02-04T10:26:44.229Z"
   },
   {
    "duration": 6,
    "start_time": "2023-02-04T10:26:55.620Z"
   },
   {
    "duration": 10,
    "start_time": "2023-02-04T10:27:14.929Z"
   },
   {
    "duration": 9,
    "start_time": "2023-02-04T10:27:19.590Z"
   },
   {
    "duration": 23,
    "start_time": "2023-02-04T10:27:21.953Z"
   },
   {
    "duration": 31,
    "start_time": "2023-02-04T10:27:34.459Z"
   },
   {
    "duration": 13,
    "start_time": "2023-02-04T10:27:50.139Z"
   },
   {
    "duration": 8,
    "start_time": "2023-02-04T10:28:04.424Z"
   },
   {
    "duration": 24,
    "start_time": "2023-02-04T10:28:06.016Z"
   },
   {
    "duration": 34,
    "start_time": "2023-02-04T10:28:37.351Z"
   },
   {
    "duration": 6,
    "start_time": "2023-02-04T10:29:01.239Z"
   },
   {
    "duration": 463,
    "start_time": "2023-02-04T10:29:53.379Z"
   },
   {
    "duration": 72,
    "start_time": "2023-02-04T10:29:53.844Z"
   },
   {
    "duration": 16,
    "start_time": "2023-02-04T10:29:53.920Z"
   },
   {
    "duration": 15,
    "start_time": "2023-02-04T10:29:53.938Z"
   },
   {
    "duration": 25,
    "start_time": "2023-02-04T10:29:53.955Z"
   },
   {
    "duration": 42,
    "start_time": "2023-02-04T10:29:53.982Z"
   },
   {
    "duration": 19,
    "start_time": "2023-02-04T10:29:54.025Z"
   },
   {
    "duration": 23,
    "start_time": "2023-02-04T10:29:54.046Z"
   },
   {
    "duration": 10,
    "start_time": "2023-02-04T10:29:54.070Z"
   },
   {
    "duration": 36,
    "start_time": "2023-02-04T10:29:54.082Z"
   },
   {
    "duration": 25,
    "start_time": "2023-02-04T10:29:54.125Z"
   },
   {
    "duration": 79,
    "start_time": "2023-02-04T10:29:54.153Z"
   },
   {
    "duration": 48,
    "start_time": "2023-02-04T10:29:54.234Z"
   },
   {
    "duration": 55,
    "start_time": "2023-02-04T10:29:54.285Z"
   },
   {
    "duration": 43,
    "start_time": "2023-02-04T10:29:54.345Z"
   },
   {
    "duration": 30,
    "start_time": "2023-02-04T10:29:54.391Z"
   },
   {
    "duration": 30,
    "start_time": "2023-02-04T10:29:54.434Z"
   },
   {
    "duration": 22,
    "start_time": "2023-02-04T10:29:54.466Z"
   },
   {
    "duration": 26,
    "start_time": "2023-02-04T10:29:54.490Z"
   },
   {
    "duration": 38,
    "start_time": "2023-02-04T10:29:54.518Z"
   },
   {
    "duration": 24,
    "start_time": "2023-02-04T10:29:54.558Z"
   },
   {
    "duration": 44,
    "start_time": "2023-02-04T10:29:54.584Z"
   },
   {
    "duration": 48,
    "start_time": "2023-02-04T10:29:54.630Z"
   },
   {
    "duration": 31,
    "start_time": "2023-02-04T10:29:54.680Z"
   },
   {
    "duration": 8,
    "start_time": "2023-02-04T10:29:54.719Z"
   },
   {
    "duration": 15,
    "start_time": "2023-02-04T10:29:54.729Z"
   },
   {
    "duration": 15,
    "start_time": "2023-02-04T10:29:54.746Z"
   },
   {
    "duration": 26,
    "start_time": "2023-02-04T10:31:02.920Z"
   },
   {
    "duration": 12,
    "start_time": "2023-02-04T10:31:09.900Z"
   },
   {
    "duration": 30,
    "start_time": "2023-02-04T10:31:14.330Z"
   },
   {
    "duration": 11,
    "start_time": "2023-02-04T10:31:22.499Z"
   },
   {
    "duration": 23,
    "start_time": "2023-02-04T10:41:00.258Z"
   },
   {
    "duration": 8,
    "start_time": "2023-02-04T10:41:12.890Z"
   },
   {
    "duration": 5,
    "start_time": "2023-02-04T10:41:32.424Z"
   },
   {
    "duration": 71,
    "start_time": "2023-02-04T10:41:32.431Z"
   },
   {
    "duration": 29,
    "start_time": "2023-02-04T10:41:32.505Z"
   },
   {
    "duration": 25,
    "start_time": "2023-02-04T10:41:32.536Z"
   },
   {
    "duration": 21,
    "start_time": "2023-02-04T10:41:32.563Z"
   },
   {
    "duration": 10,
    "start_time": "2023-02-04T10:41:32.586Z"
   },
   {
    "duration": 23,
    "start_time": "2023-02-04T10:41:32.607Z"
   },
   {
    "duration": 36,
    "start_time": "2023-02-04T10:41:32.634Z"
   },
   {
    "duration": 8,
    "start_time": "2023-02-04T10:41:32.672Z"
   },
   {
    "duration": 8,
    "start_time": "2023-02-04T10:41:32.682Z"
   },
   {
    "duration": 20,
    "start_time": "2023-02-04T10:41:32.692Z"
   },
   {
    "duration": 36,
    "start_time": "2023-02-04T10:41:32.713Z"
   },
   {
    "duration": 14,
    "start_time": "2023-02-04T10:41:32.752Z"
   },
   {
    "duration": 31,
    "start_time": "2023-02-04T10:41:33.076Z"
   },
   {
    "duration": 37,
    "start_time": "2023-02-04T10:41:33.109Z"
   },
   {
    "duration": 18,
    "start_time": "2023-02-04T10:41:33.149Z"
   },
   {
    "duration": 15,
    "start_time": "2023-02-04T10:41:33.168Z"
   },
   {
    "duration": 7,
    "start_time": "2023-02-04T10:41:33.185Z"
   },
   {
    "duration": 42,
    "start_time": "2023-02-04T10:41:33.193Z"
   },
   {
    "duration": 21,
    "start_time": "2023-02-04T10:41:33.239Z"
   },
   {
    "duration": 121,
    "start_time": "2023-02-04T10:41:33.262Z"
   },
   {
    "duration": 32,
    "start_time": "2023-02-04T10:41:49.768Z"
   },
   {
    "duration": 22,
    "start_time": "2023-02-04T10:42:15.667Z"
   },
   {
    "duration": 22,
    "start_time": "2023-02-04T10:42:36.448Z"
   },
   {
    "duration": 24,
    "start_time": "2023-02-04T10:43:02.513Z"
   },
   {
    "duration": 26,
    "start_time": "2023-02-04T10:43:28.612Z"
   },
   {
    "duration": 24,
    "start_time": "2023-02-04T10:45:21.240Z"
   },
   {
    "duration": 23,
    "start_time": "2023-02-04T10:45:28.729Z"
   },
   {
    "duration": 4,
    "start_time": "2023-02-04T10:46:04.325Z"
   },
   {
    "duration": 69,
    "start_time": "2023-02-04T10:46:04.338Z"
   },
   {
    "duration": 21,
    "start_time": "2023-02-04T10:46:04.409Z"
   },
   {
    "duration": 22,
    "start_time": "2023-02-04T10:46:04.434Z"
   },
   {
    "duration": 33,
    "start_time": "2023-02-04T10:46:04.458Z"
   },
   {
    "duration": 53,
    "start_time": "2023-02-04T10:46:04.494Z"
   },
   {
    "duration": 15,
    "start_time": "2023-02-04T10:46:04.549Z"
   },
   {
    "duration": 21,
    "start_time": "2023-02-04T10:46:04.566Z"
   },
   {
    "duration": 6,
    "start_time": "2023-02-04T10:46:04.589Z"
   },
   {
    "duration": 10,
    "start_time": "2023-02-04T10:46:04.597Z"
   },
   {
    "duration": 32,
    "start_time": "2023-02-04T10:46:04.608Z"
   },
   {
    "duration": 7,
    "start_time": "2023-02-04T10:46:04.642Z"
   },
   {
    "duration": 11,
    "start_time": "2023-02-04T10:46:04.651Z"
   },
   {
    "duration": 32,
    "start_time": "2023-02-04T10:46:04.664Z"
   },
   {
    "duration": 32,
    "start_time": "2023-02-04T10:46:04.704Z"
   },
   {
    "duration": 9,
    "start_time": "2023-02-04T10:46:09.464Z"
   },
   {
    "duration": 29,
    "start_time": "2023-02-04T10:46:57.932Z"
   },
   {
    "duration": 15,
    "start_time": "2023-02-04T10:47:16.787Z"
   },
   {
    "duration": 21,
    "start_time": "2023-02-04T10:47:51.531Z"
   },
   {
    "duration": 10,
    "start_time": "2023-02-04T10:47:57.633Z"
   },
   {
    "duration": 74,
    "start_time": "2023-02-04T10:48:54.731Z"
   },
   {
    "duration": 15,
    "start_time": "2023-02-04T10:50:09.532Z"
   },
   {
    "duration": 14,
    "start_time": "2023-02-04T10:51:11.351Z"
   },
   {
    "duration": 13,
    "start_time": "2023-02-04T10:51:14.292Z"
   },
   {
    "duration": 20,
    "start_time": "2023-02-04T10:51:38.760Z"
   },
   {
    "duration": 17,
    "start_time": "2023-02-04T10:51:54.821Z"
   },
   {
    "duration": 23,
    "start_time": "2023-02-04T10:52:18.532Z"
   },
   {
    "duration": 4,
    "start_time": "2023-02-04T10:53:27.752Z"
   },
   {
    "duration": 27,
    "start_time": "2023-02-04T10:53:34.325Z"
   },
   {
    "duration": 17,
    "start_time": "2023-02-04T10:54:41.730Z"
   },
   {
    "duration": 23,
    "start_time": "2023-02-04T10:54:50.582Z"
   },
   {
    "duration": 12,
    "start_time": "2023-02-04T10:55:00.738Z"
   },
   {
    "duration": 22,
    "start_time": "2023-02-04T10:55:06.163Z"
   },
   {
    "duration": 22,
    "start_time": "2023-02-04T10:56:40.556Z"
   },
   {
    "duration": 25,
    "start_time": "2023-02-04T10:56:58.100Z"
   },
   {
    "duration": 7,
    "start_time": "2023-02-04T10:57:47.962Z"
   },
   {
    "duration": 21,
    "start_time": "2023-02-04T10:57:55.702Z"
   },
   {
    "duration": 4,
    "start_time": "2023-02-04T10:58:10.122Z"
   },
   {
    "duration": 403,
    "start_time": "2023-02-04T10:59:09.556Z"
   },
   {
    "duration": 75,
    "start_time": "2023-02-04T10:59:09.961Z"
   },
   {
    "duration": 15,
    "start_time": "2023-02-04T10:59:10.038Z"
   },
   {
    "duration": 17,
    "start_time": "2023-02-04T10:59:10.056Z"
   },
   {
    "duration": 47,
    "start_time": "2023-02-04T10:59:10.075Z"
   },
   {
    "duration": 9,
    "start_time": "2023-02-04T10:59:10.124Z"
   },
   {
    "duration": 22,
    "start_time": "2023-02-04T10:59:10.135Z"
   },
   {
    "duration": 31,
    "start_time": "2023-02-04T10:59:10.159Z"
   },
   {
    "duration": 21,
    "start_time": "2023-02-04T10:59:10.203Z"
   },
   {
    "duration": 10,
    "start_time": "2023-02-04T10:59:10.228Z"
   },
   {
    "duration": 9,
    "start_time": "2023-02-04T10:59:10.240Z"
   },
   {
    "duration": 8,
    "start_time": "2023-02-04T10:59:10.250Z"
   },
   {
    "duration": 10,
    "start_time": "2023-02-04T10:59:10.260Z"
   },
   {
    "duration": 61,
    "start_time": "2023-02-04T10:59:10.272Z"
   },
   {
    "duration": 27,
    "start_time": "2023-02-04T10:59:10.335Z"
   },
   {
    "duration": 17,
    "start_time": "2023-02-04T10:59:10.365Z"
   },
   {
    "duration": 33,
    "start_time": "2023-02-04T10:59:10.384Z"
   },
   {
    "duration": 38,
    "start_time": "2023-02-04T10:59:10.418Z"
   },
   {
    "duration": 5,
    "start_time": "2023-02-04T10:59:10.457Z"
   },
   {
    "duration": 29,
    "start_time": "2023-02-04T10:59:10.463Z"
   },
   {
    "duration": 27,
    "start_time": "2023-02-04T10:59:10.494Z"
   },
   {
    "duration": 26,
    "start_time": "2023-02-04T10:59:10.524Z"
   },
   {
    "duration": 18,
    "start_time": "2023-02-04T10:59:10.552Z"
   },
   {
    "duration": 45,
    "start_time": "2023-02-04T10:59:10.572Z"
   },
   {
    "duration": 25,
    "start_time": "2023-02-04T10:59:10.620Z"
   },
   {
    "duration": 6,
    "start_time": "2023-02-04T10:59:10.646Z"
   },
   {
    "duration": 22,
    "start_time": "2023-02-04T10:59:10.654Z"
   },
   {
    "duration": 10,
    "start_time": "2023-02-04T11:05:42.023Z"
   },
   {
    "duration": 9,
    "start_time": "2023-02-04T11:05:45.481Z"
   },
   {
    "duration": 3,
    "start_time": "2023-02-04T11:06:03.943Z"
   },
   {
    "duration": 74,
    "start_time": "2023-02-04T11:06:03.950Z"
   },
   {
    "duration": 13,
    "start_time": "2023-02-04T11:06:04.026Z"
   },
   {
    "duration": 18,
    "start_time": "2023-02-04T11:06:04.042Z"
   },
   {
    "duration": 51,
    "start_time": "2023-02-04T11:06:04.062Z"
   },
   {
    "duration": 15,
    "start_time": "2023-02-04T11:06:04.117Z"
   },
   {
    "duration": 23,
    "start_time": "2023-02-04T11:06:04.134Z"
   },
   {
    "duration": 41,
    "start_time": "2023-02-04T11:06:04.159Z"
   },
   {
    "duration": 18,
    "start_time": "2023-02-04T11:06:04.202Z"
   },
   {
    "duration": 22,
    "start_time": "2023-02-04T11:06:04.222Z"
   },
   {
    "duration": 15,
    "start_time": "2023-02-04T11:06:04.246Z"
   },
   {
    "duration": 10,
    "start_time": "2023-02-04T11:06:04.264Z"
   },
   {
    "duration": 19,
    "start_time": "2023-02-04T11:06:04.276Z"
   },
   {
    "duration": 36,
    "start_time": "2023-02-04T11:06:04.297Z"
   },
   {
    "duration": 24,
    "start_time": "2023-02-04T11:06:04.337Z"
   },
   {
    "duration": 21,
    "start_time": "2023-02-04T11:06:04.363Z"
   },
   {
    "duration": 20,
    "start_time": "2023-02-04T11:06:04.403Z"
   },
   {
    "duration": 33,
    "start_time": "2023-02-04T11:06:04.426Z"
   },
   {
    "duration": 4,
    "start_time": "2023-02-04T11:06:04.461Z"
   },
   {
    "duration": 22,
    "start_time": "2023-02-04T11:06:04.467Z"
   },
   {
    "duration": 26,
    "start_time": "2023-02-04T11:06:04.491Z"
   },
   {
    "duration": 30,
    "start_time": "2023-02-04T11:06:04.519Z"
   },
   {
    "duration": 13,
    "start_time": "2023-02-04T11:06:13.155Z"
   },
   {
    "duration": 17,
    "start_time": "2023-02-04T11:06:31.671Z"
   },
   {
    "duration": 17,
    "start_time": "2023-02-04T11:06:48.073Z"
   },
   {
    "duration": 26,
    "start_time": "2023-02-04T11:06:48.273Z"
   },
   {
    "duration": 5,
    "start_time": "2023-02-04T11:06:48.443Z"
   },
   {
    "duration": 14,
    "start_time": "2023-02-04T11:06:48.633Z"
   },
   {
    "duration": 78,
    "start_time": "2023-02-04T11:38:39.780Z"
   },
   {
    "duration": 102,
    "start_time": "2023-02-04T11:39:09.848Z"
   },
   {
    "duration": 719,
    "start_time": "2023-02-04T11:39:17.317Z"
   },
   {
    "duration": 5,
    "start_time": "2023-02-04T11:40:21.289Z"
   },
   {
    "duration": 18,
    "start_time": "2023-02-04T11:40:37.340Z"
   },
   {
    "duration": 15,
    "start_time": "2023-02-04T11:44:03.503Z"
   },
   {
    "duration": 8,
    "start_time": "2023-02-04T12:23:25.341Z"
   },
   {
    "duration": 8,
    "start_time": "2023-02-04T12:33:39.819Z"
   },
   {
    "duration": 658,
    "start_time": "2023-02-04T12:34:33.981Z"
   },
   {
    "duration": 135,
    "start_time": "2023-02-04T12:35:58.257Z"
   },
   {
    "duration": 156,
    "start_time": "2023-02-04T12:36:28.153Z"
   },
   {
    "duration": 156,
    "start_time": "2023-02-04T12:36:57.854Z"
   },
   {
    "duration": 193,
    "start_time": "2023-02-04T12:37:05.501Z"
   },
   {
    "duration": 9,
    "start_time": "2023-02-04T12:44:24.630Z"
   },
   {
    "duration": 33,
    "start_time": "2023-02-04T12:44:48.358Z"
   },
   {
    "duration": 54,
    "start_time": "2023-02-04T12:45:03.389Z"
   },
   {
    "duration": 22,
    "start_time": "2023-02-04T12:55:14.192Z"
   },
   {
    "duration": 19,
    "start_time": "2023-02-04T13:01:22.403Z"
   },
   {
    "duration": 17,
    "start_time": "2023-02-04T13:03:29.382Z"
   },
   {
    "duration": 6,
    "start_time": "2023-02-04T13:03:41.633Z"
   },
   {
    "duration": 9,
    "start_time": "2023-02-04T13:03:55.567Z"
   },
   {
    "duration": 11,
    "start_time": "2023-02-04T13:04:14.432Z"
   },
   {
    "duration": 9,
    "start_time": "2023-02-04T13:04:43.934Z"
   },
   {
    "duration": 12,
    "start_time": "2023-02-04T13:05:18.131Z"
   },
   {
    "duration": 18,
    "start_time": "2023-02-04T13:08:42.934Z"
   },
   {
    "duration": 10,
    "start_time": "2023-02-04T13:08:54.950Z"
   },
   {
    "duration": 8,
    "start_time": "2023-02-04T13:09:08.554Z"
   },
   {
    "duration": 11,
    "start_time": "2023-02-04T13:09:16.281Z"
   },
   {
    "duration": 26,
    "start_time": "2023-02-04T13:09:51.603Z"
   },
   {
    "duration": 6,
    "start_time": "2023-02-04T13:11:46.735Z"
   },
   {
    "duration": 33,
    "start_time": "2023-02-04T13:11:57.789Z"
   },
   {
    "duration": 18,
    "start_time": "2023-02-04T13:12:11.927Z"
   },
   {
    "duration": 27,
    "start_time": "2023-02-04T13:12:30.402Z"
   },
   {
    "duration": 46,
    "start_time": "2023-02-04T13:16:32.591Z"
   },
   {
    "duration": 16,
    "start_time": "2023-02-04T13:19:00.432Z"
   },
   {
    "duration": 34,
    "start_time": "2023-02-04T13:19:09.433Z"
   },
   {
    "duration": 12,
    "start_time": "2023-02-04T13:24:11.840Z"
   },
   {
    "duration": 20,
    "start_time": "2023-02-04T13:24:18.502Z"
   },
   {
    "duration": 216,
    "start_time": "2023-02-04T13:24:47.390Z"
   },
   {
    "duration": 588,
    "start_time": "2023-02-04T13:25:30.225Z"
   },
   {
    "duration": 751,
    "start_time": "2023-02-04T13:27:11.769Z"
   },
   {
    "duration": 823,
    "start_time": "2023-02-04T13:27:26.463Z"
   },
   {
    "duration": 53,
    "start_time": "2023-02-04T13:27:37.900Z"
   },
   {
    "duration": 935,
    "start_time": "2023-02-04T13:27:46.530Z"
   },
   {
    "duration": 3,
    "start_time": "2023-02-04T13:29:33.571Z"
   },
   {
    "duration": 923,
    "start_time": "2023-02-04T13:29:46.930Z"
   },
   {
    "duration": 674,
    "start_time": "2023-02-04T13:52:55.401Z"
   },
   {
    "duration": 66,
    "start_time": "2023-02-04T13:52:56.077Z"
   },
   {
    "duration": 16,
    "start_time": "2023-02-04T13:52:56.145Z"
   },
   {
    "duration": 19,
    "start_time": "2023-02-04T13:52:56.163Z"
   },
   {
    "duration": 37,
    "start_time": "2023-02-04T13:52:56.184Z"
   },
   {
    "duration": 8,
    "start_time": "2023-02-04T13:52:56.225Z"
   },
   {
    "duration": 15,
    "start_time": "2023-02-04T13:52:56.235Z"
   },
   {
    "duration": 19,
    "start_time": "2023-02-04T13:52:56.252Z"
   },
   {
    "duration": 35,
    "start_time": "2023-02-04T13:52:56.273Z"
   },
   {
    "duration": 16,
    "start_time": "2023-02-04T13:52:56.310Z"
   },
   {
    "duration": 12,
    "start_time": "2023-02-04T13:52:56.328Z"
   },
   {
    "duration": 5,
    "start_time": "2023-02-04T13:52:56.342Z"
   },
   {
    "duration": 10,
    "start_time": "2023-02-04T13:52:56.349Z"
   },
   {
    "duration": 47,
    "start_time": "2023-02-04T13:52:56.361Z"
   },
   {
    "duration": 26,
    "start_time": "2023-02-04T13:52:56.413Z"
   },
   {
    "duration": 15,
    "start_time": "2023-02-04T13:52:56.441Z"
   },
   {
    "duration": 26,
    "start_time": "2023-02-04T13:52:56.458Z"
   },
   {
    "duration": 36,
    "start_time": "2023-02-04T13:52:56.486Z"
   },
   {
    "duration": 5,
    "start_time": "2023-02-04T13:52:56.524Z"
   },
   {
    "duration": 25,
    "start_time": "2023-02-04T13:52:56.531Z"
   },
   {
    "duration": 27,
    "start_time": "2023-02-04T13:52:56.558Z"
   },
   {
    "duration": 39,
    "start_time": "2023-02-04T13:52:56.588Z"
   },
   {
    "duration": 20,
    "start_time": "2023-02-04T13:52:56.629Z"
   },
   {
    "duration": 59,
    "start_time": "2023-02-04T13:52:56.651Z"
   },
   {
    "duration": 26,
    "start_time": "2023-02-04T13:52:56.711Z"
   },
   {
    "duration": 6,
    "start_time": "2023-02-04T13:52:56.739Z"
   },
   {
    "duration": 23,
    "start_time": "2023-02-04T13:52:56.747Z"
   },
   {
    "duration": 18,
    "start_time": "2023-02-04T13:52:56.773Z"
   },
   {
    "duration": 11,
    "start_time": "2023-02-04T13:52:56.803Z"
   },
   {
    "duration": 19,
    "start_time": "2023-02-04T13:52:56.819Z"
   },
   {
    "duration": 173,
    "start_time": "2023-02-04T13:52:56.841Z"
   },
   {
    "duration": 134,
    "start_time": "2023-02-04T13:52:57.022Z"
   },
   {
    "duration": 12,
    "start_time": "2023-02-04T13:52:57.158Z"
   },
   {
    "duration": 11,
    "start_time": "2023-02-04T13:52:57.172Z"
   },
   {
    "duration": 46,
    "start_time": "2023-02-04T13:52:57.202Z"
   },
   {
    "duration": 814,
    "start_time": "2023-02-04T13:52:57.252Z"
   },
   {
    "duration": 0,
    "start_time": "2023-02-04T13:52:58.068Z"
   },
   {
    "duration": 48,
    "start_time": "2023-02-04T13:53:08.822Z"
   },
   {
    "duration": 698,
    "start_time": "2023-02-04T13:53:24.099Z"
   },
   {
    "duration": 206,
    "start_time": "2023-02-04T13:54:27.160Z"
   },
   {
    "duration": 267,
    "start_time": "2023-02-04T13:54:37.980Z"
   },
   {
    "duration": 18,
    "start_time": "2023-02-04T13:59:43.547Z"
   },
   {
    "duration": 289,
    "start_time": "2023-02-04T13:59:56.178Z"
   },
   {
    "duration": 300,
    "start_time": "2023-02-04T14:01:27.404Z"
   },
   {
    "duration": 64,
    "start_time": "2023-02-04T14:03:01.204Z"
   },
   {
    "duration": 44,
    "start_time": "2023-02-04T14:03:15.949Z"
   },
   {
    "duration": 8,
    "start_time": "2023-02-04T14:06:45.735Z"
   },
   {
    "duration": 9,
    "start_time": "2023-02-04T14:07:02.584Z"
   },
   {
    "duration": 12,
    "start_time": "2023-02-04T14:07:40.434Z"
   },
   {
    "duration": 13,
    "start_time": "2023-02-04T14:08:13.754Z"
   },
   {
    "duration": 152,
    "start_time": "2023-02-04T14:09:21.704Z"
   },
   {
    "duration": 162,
    "start_time": "2023-02-04T14:09:52.903Z"
   },
   {
    "duration": 16,
    "start_time": "2023-02-04T14:10:14.089Z"
   },
   {
    "duration": 13,
    "start_time": "2023-02-04T14:11:37.788Z"
   },
   {
    "duration": 142,
    "start_time": "2023-02-04T14:11:49.537Z"
   },
   {
    "duration": 153,
    "start_time": "2023-02-04T14:17:31.856Z"
   },
   {
    "duration": 57,
    "start_time": "2023-02-04T14:19:21.792Z"
   },
   {
    "duration": 161,
    "start_time": "2023-02-04T14:19:32.776Z"
   },
   {
    "duration": 168,
    "start_time": "2023-02-04T14:19:57.235Z"
   },
   {
    "duration": 197,
    "start_time": "2023-02-04T14:20:22.449Z"
   },
   {
    "duration": 310,
    "start_time": "2023-02-04T14:20:32.629Z"
   },
   {
    "duration": 74,
    "start_time": "2023-02-04T14:21:02.569Z"
   },
   {
    "duration": 51,
    "start_time": "2023-02-04T14:21:12.341Z"
   },
   {
    "duration": 259,
    "start_time": "2023-02-04T14:21:20.559Z"
   },
   {
    "duration": 310,
    "start_time": "2023-02-04T14:21:49.141Z"
   },
   {
    "duration": 308,
    "start_time": "2023-02-04T14:23:07.059Z"
   },
   {
    "duration": 292,
    "start_time": "2023-02-04T14:24:37.665Z"
   },
   {
    "duration": 392,
    "start_time": "2023-02-04T14:24:53.558Z"
   },
   {
    "duration": 139,
    "start_time": "2023-02-04T14:25:50.753Z"
   },
   {
    "duration": 941,
    "start_time": "2023-02-04T14:30:35.673Z"
   },
   {
    "duration": 1023,
    "start_time": "2023-02-04T14:31:06.639Z"
   },
   {
    "duration": 1008,
    "start_time": "2023-02-04T14:31:36.097Z"
   },
   {
    "duration": 1113,
    "start_time": "2023-02-04T14:31:56.451Z"
   },
   {
    "duration": 1085,
    "start_time": "2023-02-04T14:32:09.351Z"
   },
   {
    "duration": 986,
    "start_time": "2023-02-04T14:33:07.622Z"
   },
   {
    "duration": 1270,
    "start_time": "2023-02-04T14:33:45.537Z"
   },
   {
    "duration": 11,
    "start_time": "2023-02-04T14:40:33.234Z"
   },
   {
    "duration": 165,
    "start_time": "2023-02-04T14:42:43.604Z"
   },
   {
    "duration": 10,
    "start_time": "2023-02-04T14:43:44.946Z"
   },
   {
    "duration": 11,
    "start_time": "2023-02-04T14:44:57.538Z"
   },
   {
    "duration": 11,
    "start_time": "2023-02-04T14:45:10.609Z"
   },
   {
    "duration": 13,
    "start_time": "2023-02-04T14:49:47.093Z"
   },
   {
    "duration": 12,
    "start_time": "2023-02-04T14:50:12.352Z"
   },
   {
    "duration": 11,
    "start_time": "2023-02-04T14:50:29.438Z"
   },
   {
    "duration": 46,
    "start_time": "2023-02-04T14:55:03.147Z"
   },
   {
    "duration": 695,
    "start_time": "2023-02-04T14:55:20.648Z"
   },
   {
    "duration": 753,
    "start_time": "2023-02-04T14:55:58.534Z"
   },
   {
    "duration": 69,
    "start_time": "2023-02-04T14:56:56.988Z"
   },
   {
    "duration": 891,
    "start_time": "2023-02-04T14:57:06.654Z"
   },
   {
    "duration": 46,
    "start_time": "2023-02-04T14:58:03.438Z"
   },
   {
    "duration": 895,
    "start_time": "2023-02-04T14:58:19.488Z"
   },
   {
    "duration": 982,
    "start_time": "2023-02-04T14:58:44.088Z"
   },
   {
    "duration": 72,
    "start_time": "2023-02-04T14:58:58.398Z"
   },
   {
    "duration": 881,
    "start_time": "2023-02-04T14:59:05.976Z"
   },
   {
    "duration": 8,
    "start_time": "2023-02-04T14:59:21.368Z"
   },
   {
    "duration": 4,
    "start_time": "2023-02-04T15:01:45.787Z"
   },
   {
    "duration": 9,
    "start_time": "2023-02-04T15:01:53.642Z"
   },
   {
    "duration": 148,
    "start_time": "2023-02-04T15:03:02.934Z"
   },
   {
    "duration": 137,
    "start_time": "2023-02-04T15:03:27.955Z"
   },
   {
    "duration": 138,
    "start_time": "2023-02-04T15:03:40.532Z"
   },
   {
    "duration": 161,
    "start_time": "2023-02-04T15:04:31.205Z"
   },
   {
    "duration": 128,
    "start_time": "2023-02-04T15:05:02.158Z"
   },
   {
    "duration": 137,
    "start_time": "2023-02-04T15:07:24.766Z"
   },
   {
    "duration": 80,
    "start_time": "2023-02-04T15:08:48.383Z"
   },
   {
    "duration": 76,
    "start_time": "2023-02-04T15:09:06.561Z"
   },
   {
    "duration": 47,
    "start_time": "2023-02-04T15:10:40.439Z"
   },
   {
    "duration": 239,
    "start_time": "2023-02-04T15:10:48.552Z"
   },
   {
    "duration": 149,
    "start_time": "2023-02-04T15:10:57.993Z"
   },
   {
    "duration": 127,
    "start_time": "2023-02-04T15:11:45.767Z"
   },
   {
    "duration": 128,
    "start_time": "2023-02-04T15:12:28.549Z"
   },
   {
    "duration": 130,
    "start_time": "2023-02-04T15:12:49.367Z"
   },
   {
    "duration": 128,
    "start_time": "2023-02-04T15:13:29.146Z"
   },
   {
    "duration": 120,
    "start_time": "2023-02-04T15:13:38.462Z"
   },
   {
    "duration": 153,
    "start_time": "2023-02-04T15:15:22.200Z"
   },
   {
    "duration": 191,
    "start_time": "2023-02-04T15:15:54.059Z"
   },
   {
    "duration": 161,
    "start_time": "2023-02-04T15:16:23.401Z"
   },
   {
    "duration": 255,
    "start_time": "2023-02-04T15:17:31.102Z"
   },
   {
    "duration": 311,
    "start_time": "2023-02-04T15:17:43.502Z"
   },
   {
    "duration": 287,
    "start_time": "2023-02-04T15:18:24.242Z"
   },
   {
    "duration": 399,
    "start_time": "2023-02-04T15:18:34.074Z"
   },
   {
    "duration": 267,
    "start_time": "2023-02-04T15:18:42.346Z"
   },
   {
    "duration": 250,
    "start_time": "2023-02-04T15:18:54.801Z"
   },
   {
    "duration": 25,
    "start_time": "2023-02-04T15:47:57.499Z"
   },
   {
    "duration": 12,
    "start_time": "2023-02-04T15:48:54.242Z"
   },
   {
    "duration": 228,
    "start_time": "2023-02-04T15:51:07.278Z"
   },
   {
    "duration": 246,
    "start_time": "2023-02-04T15:51:18.076Z"
   },
   {
    "duration": 250,
    "start_time": "2023-02-04T15:52:15.580Z"
   },
   {
    "duration": 3,
    "start_time": "2023-02-04T15:59:57.287Z"
   },
   {
    "duration": 3,
    "start_time": "2023-02-04T16:00:00.797Z"
   },
   {
    "duration": 37,
    "start_time": "2023-02-04T16:03:20.768Z"
   },
   {
    "duration": 883,
    "start_time": "2023-02-04T16:06:57.640Z"
   },
   {
    "duration": 829,
    "start_time": "2023-02-04T16:07:14.426Z"
   },
   {
    "duration": 956,
    "start_time": "2023-02-04T16:07:21.893Z"
   },
   {
    "duration": 50,
    "start_time": "2023-02-04T16:08:30.754Z"
   },
   {
    "duration": 844,
    "start_time": "2023-02-04T16:08:37.735Z"
   },
   {
    "duration": 1164,
    "start_time": "2023-02-04T16:09:25.682Z"
   },
   {
    "duration": 936,
    "start_time": "2023-02-04T16:09:42.736Z"
   },
   {
    "duration": 8,
    "start_time": "2023-02-04T16:10:21.633Z"
   },
   {
    "duration": 252,
    "start_time": "2023-02-04T16:10:28.778Z"
   },
   {
    "duration": 837,
    "start_time": "2023-02-04T16:10:47.054Z"
   },
   {
    "duration": 11,
    "start_time": "2023-02-04T16:11:17.590Z"
   },
   {
    "duration": 817,
    "start_time": "2023-02-04T16:11:29.861Z"
   },
   {
    "duration": 47,
    "start_time": "2023-02-04T19:12:39.538Z"
   },
   {
    "duration": 632,
    "start_time": "2023-02-04T19:13:21.577Z"
   },
   {
    "duration": 63,
    "start_time": "2023-02-04T19:13:22.211Z"
   },
   {
    "duration": 13,
    "start_time": "2023-02-04T19:13:22.276Z"
   },
   {
    "duration": 800,
    "start_time": "2023-02-04T19:13:22.290Z"
   },
   {
    "duration": 19,
    "start_time": "2023-02-04T19:13:23.093Z"
   },
   {
    "duration": 28,
    "start_time": "2023-02-04T19:13:23.114Z"
   },
   {
    "duration": 10,
    "start_time": "2023-02-04T19:13:23.143Z"
   },
   {
    "duration": 38,
    "start_time": "2023-02-04T19:13:23.155Z"
   },
   {
    "duration": 29,
    "start_time": "2023-02-04T19:13:23.195Z"
   },
   {
    "duration": 7,
    "start_time": "2023-02-04T19:13:23.226Z"
   },
   {
    "duration": 10,
    "start_time": "2023-02-04T19:13:23.234Z"
   },
   {
    "duration": 12,
    "start_time": "2023-02-04T19:13:23.245Z"
   },
   {
    "duration": 8,
    "start_time": "2023-02-04T19:13:23.259Z"
   },
   {
    "duration": 32,
    "start_time": "2023-02-04T19:13:23.269Z"
   },
   {
    "duration": 23,
    "start_time": "2023-02-04T19:13:23.303Z"
   },
   {
    "duration": 15,
    "start_time": "2023-02-04T19:13:23.328Z"
   },
   {
    "duration": 11,
    "start_time": "2023-02-04T19:13:23.345Z"
   },
   {
    "duration": 7,
    "start_time": "2023-02-04T19:13:23.358Z"
   },
   {
    "duration": 19,
    "start_time": "2023-02-04T19:13:23.392Z"
   },
   {
    "duration": 3,
    "start_time": "2023-02-04T19:13:23.413Z"
   },
   {
    "duration": 21,
    "start_time": "2023-02-04T19:13:23.418Z"
   },
   {
    "duration": 14,
    "start_time": "2023-02-04T19:13:23.441Z"
   },
   {
    "duration": 39,
    "start_time": "2023-02-04T19:13:23.457Z"
   },
   {
    "duration": 15,
    "start_time": "2023-02-04T19:13:23.497Z"
   },
   {
    "duration": 16,
    "start_time": "2023-02-04T19:13:23.514Z"
   },
   {
    "duration": 22,
    "start_time": "2023-02-04T19:13:23.532Z"
   },
   {
    "duration": 5,
    "start_time": "2023-02-04T19:13:23.556Z"
   },
   {
    "duration": 39,
    "start_time": "2023-02-04T19:13:23.562Z"
   },
   {
    "duration": 15,
    "start_time": "2023-02-04T19:13:23.602Z"
   },
   {
    "duration": 9,
    "start_time": "2023-02-04T19:13:23.619Z"
   },
   {
    "duration": 9,
    "start_time": "2023-02-04T19:13:23.630Z"
   },
   {
    "duration": 150,
    "start_time": "2023-02-04T19:13:23.640Z"
   },
   {
    "duration": 184,
    "start_time": "2023-02-04T19:13:23.791Z"
   },
   {
    "duration": 92,
    "start_time": "2023-02-04T19:13:23.977Z"
   },
   {
    "duration": 0,
    "start_time": "2023-02-04T19:13:24.071Z"
   },
   {
    "duration": 0,
    "start_time": "2023-02-04T19:13:24.072Z"
   },
   {
    "duration": 0,
    "start_time": "2023-02-04T19:13:24.073Z"
   },
   {
    "duration": 0,
    "start_time": "2023-02-04T19:13:24.074Z"
   },
   {
    "duration": 0,
    "start_time": "2023-02-04T19:13:24.075Z"
   },
   {
    "duration": 0,
    "start_time": "2023-02-04T19:13:24.076Z"
   },
   {
    "duration": 976,
    "start_time": "2023-02-04T19:13:29.953Z"
   },
   {
    "duration": 261,
    "start_time": "2023-02-04T19:13:31.438Z"
   },
   {
    "duration": 1029,
    "start_time": "2023-02-04T19:20:23.505Z"
   },
   {
    "duration": 191,
    "start_time": "2023-02-04T19:20:30.233Z"
   },
   {
    "duration": 2,
    "start_time": "2023-02-04T19:20:48.952Z"
   },
   {
    "duration": 70,
    "start_time": "2023-02-04T19:20:50.374Z"
   },
   {
    "duration": 18,
    "start_time": "2023-02-04T19:20:50.570Z"
   },
   {
    "duration": 839,
    "start_time": "2023-02-04T19:20:50.778Z"
   },
   {
    "duration": 17,
    "start_time": "2023-02-04T19:20:51.619Z"
   },
   {
    "duration": 26,
    "start_time": "2023-02-04T19:20:51.638Z"
   },
   {
    "duration": 8,
    "start_time": "2023-02-04T19:20:51.666Z"
   },
   {
    "duration": 13,
    "start_time": "2023-02-04T19:20:51.731Z"
   },
   {
    "duration": 20,
    "start_time": "2023-02-04T19:20:51.970Z"
   },
   {
    "duration": 8,
    "start_time": "2023-02-04T19:20:52.158Z"
   },
   {
    "duration": 9,
    "start_time": "2023-02-04T19:20:52.976Z"
   },
   {
    "duration": 9,
    "start_time": "2023-02-04T19:20:53.179Z"
   },
   {
    "duration": 4,
    "start_time": "2023-02-04T19:20:53.388Z"
   },
   {
    "duration": 9,
    "start_time": "2023-02-04T19:20:53.788Z"
   },
   {
    "duration": 27,
    "start_time": "2023-02-04T19:20:54.226Z"
   },
   {
    "duration": 28,
    "start_time": "2023-02-04T19:20:54.438Z"
   },
   {
    "duration": 18,
    "start_time": "2023-02-04T19:20:54.664Z"
   },
   {
    "duration": 9,
    "start_time": "2023-02-04T19:20:54.907Z"
   },
   {
    "duration": 22,
    "start_time": "2023-02-04T19:20:55.107Z"
   },
   {
    "duration": 4,
    "start_time": "2023-02-04T19:20:55.333Z"
   },
   {
    "duration": 18,
    "start_time": "2023-02-04T19:20:55.546Z"
   },
   {
    "duration": 22,
    "start_time": "2023-02-04T19:20:55.781Z"
   },
   {
    "duration": 22,
    "start_time": "2023-02-04T19:20:56.196Z"
   },
   {
    "duration": 15,
    "start_time": "2023-02-04T19:20:56.368Z"
   },
   {
    "duration": 25,
    "start_time": "2023-02-04T19:20:57.301Z"
   },
   {
    "duration": 19,
    "start_time": "2023-02-04T19:20:57.854Z"
   },
   {
    "duration": 4,
    "start_time": "2023-02-04T19:20:58.342Z"
   },
   {
    "duration": 12,
    "start_time": "2023-02-04T19:20:58.976Z"
   },
   {
    "duration": 15,
    "start_time": "2023-02-04T19:20:59.175Z"
   },
   {
    "duration": 7,
    "start_time": "2023-02-04T19:20:59.780Z"
   },
   {
    "duration": 8,
    "start_time": "2023-02-04T19:20:59.978Z"
   },
   {
    "duration": 128,
    "start_time": "2023-02-04T19:21:00.238Z"
   },
   {
    "duration": 114,
    "start_time": "2023-02-04T19:21:00.398Z"
   },
   {
    "duration": 83,
    "start_time": "2023-02-04T19:21:00.587Z"
   },
   {
    "duration": 23,
    "start_time": "2023-02-04T19:21:00.789Z"
   },
   {
    "duration": 8,
    "start_time": "2023-02-04T19:21:01.050Z"
   },
   {
    "duration": 248,
    "start_time": "2023-02-04T19:21:01.198Z"
   },
   {
    "duration": 24,
    "start_time": "2023-02-04T19:21:01.634Z"
   },
   {
    "duration": 846,
    "start_time": "2023-02-04T19:21:03.174Z"
   },
   {
    "duration": 199,
    "start_time": "2023-02-04T19:21:04.022Z"
   },
   {
    "duration": 457,
    "start_time": "2023-02-04T19:23:28.370Z"
   },
   {
    "duration": 50,
    "start_time": "2023-02-04T19:24:14.031Z"
   },
   {
    "duration": 997,
    "start_time": "2023-02-04T19:24:56.171Z"
   },
   {
    "duration": 958,
    "start_time": "2023-02-04T19:25:24.014Z"
   },
   {
    "duration": 15,
    "start_time": "2023-02-04T19:26:56.954Z"
   },
   {
    "duration": 3,
    "start_time": "2023-02-04T19:30:56.158Z"
   },
   {
    "duration": 199,
    "start_time": "2023-02-04T19:32:07.698Z"
   },
   {
    "duration": 238,
    "start_time": "2023-02-04T19:33:47.047Z"
   },
   {
    "duration": 25,
    "start_time": "2023-02-04T19:33:51.138Z"
   },
   {
    "duration": 22,
    "start_time": "2023-02-04T19:33:58.348Z"
   },
   {
    "duration": 9,
    "start_time": "2023-02-04T19:34:06.175Z"
   },
   {
    "duration": 101,
    "start_time": "2023-02-04T19:37:01.741Z"
   },
   {
    "duration": 150,
    "start_time": "2023-02-04T19:38:56.039Z"
   },
   {
    "duration": 446,
    "start_time": "2023-02-04T19:40:30.359Z"
   },
   {
    "duration": 502,
    "start_time": "2023-02-04T19:40:51.461Z"
   },
   {
    "duration": 406,
    "start_time": "2023-02-04T19:41:07.170Z"
   },
   {
    "duration": 391,
    "start_time": "2023-02-04T19:41:13.872Z"
   },
   {
    "duration": 445,
    "start_time": "2023-02-04T19:41:28.588Z"
   },
   {
    "duration": 527,
    "start_time": "2023-02-04T19:41:35.091Z"
   },
   {
    "duration": 458,
    "start_time": "2023-02-04T19:41:45.965Z"
   },
   {
    "duration": 405,
    "start_time": "2023-02-04T19:42:01.846Z"
   },
   {
    "duration": 423,
    "start_time": "2023-02-04T19:42:11.789Z"
   },
   {
    "duration": 559,
    "start_time": "2023-02-04T19:43:52.963Z"
   },
   {
    "duration": 465,
    "start_time": "2023-02-04T19:44:11.550Z"
   },
   {
    "duration": 492,
    "start_time": "2023-02-04T19:44:36.079Z"
   },
   {
    "duration": 563,
    "start_time": "2023-02-04T19:45:00.250Z"
   },
   {
    "duration": 433,
    "start_time": "2023-02-04T19:46:43.568Z"
   },
   {
    "duration": 245,
    "start_time": "2023-02-04T19:52:37.263Z"
   },
   {
    "duration": 283,
    "start_time": "2023-02-04T19:53:03.427Z"
   },
   {
    "duration": 263,
    "start_time": "2023-02-04T19:53:52.155Z"
   },
   {
    "duration": 246,
    "start_time": "2023-02-04T19:53:59.446Z"
   },
   {
    "duration": 260,
    "start_time": "2023-02-04T20:06:02.833Z"
   },
   {
    "duration": 335,
    "start_time": "2023-02-04T20:06:19.736Z"
   },
   {
    "duration": 4645,
    "start_time": "2023-02-04T20:27:44.949Z"
   },
   {
    "duration": 4897,
    "start_time": "2023-02-04T20:27:52.512Z"
   },
   {
    "duration": 166,
    "start_time": "2023-02-04T20:31:43.540Z"
   },
   {
    "duration": 121,
    "start_time": "2023-02-04T20:32:33.057Z"
   },
   {
    "duration": 274,
    "start_time": "2023-02-04T20:33:29.939Z"
   },
   {
    "duration": 232,
    "start_time": "2023-02-04T20:37:38.314Z"
   },
   {
    "duration": 236,
    "start_time": "2023-02-04T20:38:52.119Z"
   },
   {
    "duration": 247,
    "start_time": "2023-02-04T20:39:18.492Z"
   },
   {
    "duration": 235,
    "start_time": "2023-02-04T20:39:40.457Z"
   },
   {
    "duration": 237,
    "start_time": "2023-02-04T20:42:18.622Z"
   },
   {
    "duration": 234,
    "start_time": "2023-02-04T20:43:22.510Z"
   },
   {
    "duration": 238,
    "start_time": "2023-02-04T20:43:39.799Z"
   },
   {
    "duration": 245,
    "start_time": "2023-02-04T20:44:14.903Z"
   },
   {
    "duration": 240,
    "start_time": "2023-02-04T20:44:22.508Z"
   },
   {
    "duration": 275,
    "start_time": "2023-02-04T20:45:22.034Z"
   },
   {
    "duration": 259,
    "start_time": "2023-02-04T20:46:18.072Z"
   },
   {
    "duration": 276,
    "start_time": "2023-02-04T20:51:53.943Z"
   },
   {
    "duration": 513,
    "start_time": "2023-02-04T20:53:12.413Z"
   },
   {
    "duration": 69,
    "start_time": "2023-02-04T20:58:17.812Z"
   },
   {
    "duration": 10,
    "start_time": "2023-02-04T20:59:38.859Z"
   },
   {
    "duration": 8,
    "start_time": "2023-02-04T20:59:55.839Z"
   },
   {
    "duration": 7,
    "start_time": "2023-02-04T21:00:20.678Z"
   },
   {
    "duration": 24,
    "start_time": "2023-02-04T21:24:18.914Z"
   },
   {
    "duration": 7,
    "start_time": "2023-02-04T21:25:03.050Z"
   },
   {
    "duration": 263,
    "start_time": "2023-02-04T21:25:04.222Z"
   },
   {
    "duration": 1227,
    "start_time": "2023-02-05T11:33:42.296Z"
   },
   {
    "duration": 195,
    "start_time": "2023-02-05T11:33:43.525Z"
   },
   {
    "duration": 14,
    "start_time": "2023-02-05T11:33:43.721Z"
   },
   {
    "duration": 744,
    "start_time": "2023-02-05T11:33:43.738Z"
   },
   {
    "duration": 13,
    "start_time": "2023-02-05T11:33:44.483Z"
   },
   {
    "duration": 31,
    "start_time": "2023-02-05T11:33:44.498Z"
   },
   {
    "duration": 9,
    "start_time": "2023-02-05T11:33:44.530Z"
   },
   {
    "duration": 15,
    "start_time": "2023-02-05T11:33:44.540Z"
   },
   {
    "duration": 25,
    "start_time": "2023-02-05T11:33:44.556Z"
   },
   {
    "duration": 5,
    "start_time": "2023-02-05T11:33:44.584Z"
   },
   {
    "duration": 14,
    "start_time": "2023-02-05T11:33:44.591Z"
   },
   {
    "duration": 23,
    "start_time": "2023-02-05T11:33:44.606Z"
   },
   {
    "duration": 3,
    "start_time": "2023-02-05T11:33:44.630Z"
   },
   {
    "duration": 10,
    "start_time": "2023-02-05T11:33:44.635Z"
   },
   {
    "duration": 25,
    "start_time": "2023-02-05T11:33:44.646Z"
   },
   {
    "duration": 15,
    "start_time": "2023-02-05T11:33:44.672Z"
   },
   {
    "duration": 16,
    "start_time": "2023-02-05T11:33:44.689Z"
   },
   {
    "duration": 7,
    "start_time": "2023-02-05T11:33:44.728Z"
   },
   {
    "duration": 21,
    "start_time": "2023-02-05T11:33:44.737Z"
   },
   {
    "duration": 4,
    "start_time": "2023-02-05T11:33:44.760Z"
   },
   {
    "duration": 14,
    "start_time": "2023-02-05T11:33:44.766Z"
   },
   {
    "duration": 17,
    "start_time": "2023-02-05T11:33:44.782Z"
   },
   {
    "duration": 20,
    "start_time": "2023-02-05T11:33:44.827Z"
   },
   {
    "duration": 13,
    "start_time": "2023-02-05T11:33:44.849Z"
   },
   {
    "duration": 16,
    "start_time": "2023-02-05T11:33:44.864Z"
   },
   {
    "duration": 49,
    "start_time": "2023-02-05T11:33:44.882Z"
   },
   {
    "duration": 5,
    "start_time": "2023-02-05T11:33:44.933Z"
   },
   {
    "duration": 15,
    "start_time": "2023-02-05T11:33:44.941Z"
   },
   {
    "duration": 13,
    "start_time": "2023-02-05T11:33:44.958Z"
   },
   {
    "duration": 5,
    "start_time": "2023-02-05T11:33:44.973Z"
   },
   {
    "duration": 8,
    "start_time": "2023-02-05T11:33:44.980Z"
   },
   {
    "duration": 156,
    "start_time": "2023-02-05T11:33:44.990Z"
   },
   {
    "duration": 141,
    "start_time": "2023-02-05T11:33:45.148Z"
   },
   {
    "duration": 88,
    "start_time": "2023-02-05T11:33:45.291Z"
   },
   {
    "duration": 0,
    "start_time": "2023-02-05T11:33:45.380Z"
   },
   {
    "duration": 0,
    "start_time": "2023-02-05T11:33:45.382Z"
   },
   {
    "duration": 0,
    "start_time": "2023-02-05T11:33:45.383Z"
   },
   {
    "duration": 0,
    "start_time": "2023-02-05T11:33:45.384Z"
   },
   {
    "duration": 0,
    "start_time": "2023-02-05T11:33:45.386Z"
   },
   {
    "duration": 0,
    "start_time": "2023-02-05T11:33:45.388Z"
   },
   {
    "duration": 0,
    "start_time": "2023-02-05T11:33:45.389Z"
   },
   {
    "duration": 0,
    "start_time": "2023-02-05T11:33:45.390Z"
   },
   {
    "duration": 0,
    "start_time": "2023-02-05T11:33:45.391Z"
   },
   {
    "duration": 21,
    "start_time": "2023-02-05T11:35:12.845Z"
   },
   {
    "duration": 15,
    "start_time": "2023-02-05T11:38:21.513Z"
   },
   {
    "duration": 8,
    "start_time": "2023-02-05T11:38:37.409Z"
   },
   {
    "duration": 92,
    "start_time": "2023-02-05T11:51:03.382Z"
   },
   {
    "duration": 10,
    "start_time": "2023-02-05T11:51:07.393Z"
   },
   {
    "duration": 12,
    "start_time": "2023-02-05T11:51:11.732Z"
   },
   {
    "duration": 16,
    "start_time": "2023-02-05T11:51:20.902Z"
   },
   {
    "duration": 20,
    "start_time": "2023-02-05T11:54:34.822Z"
   },
   {
    "duration": 8,
    "start_time": "2023-02-05T11:54:51.069Z"
   },
   {
    "duration": 16,
    "start_time": "2023-02-05T11:59:49.311Z"
   },
   {
    "duration": 18,
    "start_time": "2023-02-05T12:00:19.420Z"
   },
   {
    "duration": 7,
    "start_time": "2023-02-05T12:00:39.896Z"
   },
   {
    "duration": 8,
    "start_time": "2023-02-05T12:14:57.159Z"
   },
   {
    "duration": 3,
    "start_time": "2023-02-05T12:15:10.951Z"
   },
   {
    "duration": 3,
    "start_time": "2023-02-05T12:15:12.913Z"
   },
   {
    "duration": 8,
    "start_time": "2023-02-05T12:18:12.480Z"
   },
   {
    "duration": 4,
    "start_time": "2023-02-05T12:18:14.248Z"
   },
   {
    "duration": 8,
    "start_time": "2023-02-05T12:18:15.686Z"
   },
   {
    "duration": 5,
    "start_time": "2023-02-05T12:18:37.043Z"
   },
   {
    "duration": 11,
    "start_time": "2023-02-05T12:18:38.450Z"
   },
   {
    "duration": 17,
    "start_time": "2023-02-05T12:20:15.800Z"
   },
   {
    "duration": 20,
    "start_time": "2023-02-05T12:20:25.584Z"
   },
   {
    "duration": 9,
    "start_time": "2023-02-05T12:21:34.020Z"
   },
   {
    "duration": 9,
    "start_time": "2023-02-05T12:21:58.030Z"
   },
   {
    "duration": 28,
    "start_time": "2023-02-05T12:21:58.738Z"
   },
   {
    "duration": 9,
    "start_time": "2023-02-05T12:22:35.791Z"
   },
   {
    "duration": 8,
    "start_time": "2023-02-05T12:22:41.518Z"
   },
   {
    "duration": 32,
    "start_time": "2023-02-05T12:22:42.817Z"
   },
   {
    "duration": 19,
    "start_time": "2023-02-05T12:26:41.647Z"
   },
   {
    "duration": 8,
    "start_time": "2023-02-05T12:29:22.549Z"
   },
   {
    "duration": 9,
    "start_time": "2023-02-05T12:30:54.786Z"
   },
   {
    "duration": 11,
    "start_time": "2023-02-05T12:31:23.920Z"
   },
   {
    "duration": 16,
    "start_time": "2023-02-05T12:32:35.546Z"
   },
   {
    "duration": 11,
    "start_time": "2023-02-05T12:33:46.758Z"
   },
   {
    "duration": 9,
    "start_time": "2023-02-05T12:42:37.984Z"
   },
   {
    "duration": 1053,
    "start_time": "2023-02-05T13:02:35.357Z"
   },
   {
    "duration": 63,
    "start_time": "2023-02-05T13:02:36.411Z"
   },
   {
    "duration": 15,
    "start_time": "2023-02-05T13:02:36.475Z"
   },
   {
    "duration": 737,
    "start_time": "2023-02-05T13:02:36.492Z"
   },
   {
    "duration": 14,
    "start_time": "2023-02-05T13:02:37.232Z"
   },
   {
    "duration": 23,
    "start_time": "2023-02-05T13:02:37.248Z"
   },
   {
    "duration": 8,
    "start_time": "2023-02-05T13:02:37.273Z"
   },
   {
    "duration": 47,
    "start_time": "2023-02-05T13:02:37.282Z"
   },
   {
    "duration": 20,
    "start_time": "2023-02-05T13:02:37.331Z"
   },
   {
    "duration": 6,
    "start_time": "2023-02-05T13:02:37.352Z"
   },
   {
    "duration": 8,
    "start_time": "2023-02-05T13:02:37.360Z"
   },
   {
    "duration": 10,
    "start_time": "2023-02-05T13:02:37.370Z"
   },
   {
    "duration": 48,
    "start_time": "2023-02-05T13:02:37.381Z"
   },
   {
    "duration": 8,
    "start_time": "2023-02-05T13:02:37.433Z"
   },
   {
    "duration": 44,
    "start_time": "2023-02-05T13:02:37.443Z"
   },
   {
    "duration": 45,
    "start_time": "2023-02-05T13:02:37.489Z"
   },
   {
    "duration": 20,
    "start_time": "2023-02-05T13:02:37.537Z"
   },
   {
    "duration": 15,
    "start_time": "2023-02-05T13:02:37.559Z"
   },
   {
    "duration": 52,
    "start_time": "2023-02-05T13:02:37.576Z"
   },
   {
    "duration": 4,
    "start_time": "2023-02-05T13:02:37.630Z"
   },
   {
    "duration": 23,
    "start_time": "2023-02-05T13:02:37.636Z"
   },
   {
    "duration": 21,
    "start_time": "2023-02-05T13:02:37.661Z"
   },
   {
    "duration": 58,
    "start_time": "2023-02-05T13:02:37.684Z"
   },
   {
    "duration": 14,
    "start_time": "2023-02-05T13:02:37.744Z"
   },
   {
    "duration": 15,
    "start_time": "2023-02-05T13:02:37.759Z"
   },
   {
    "duration": 57,
    "start_time": "2023-02-05T13:02:37.776Z"
   },
   {
    "duration": 5,
    "start_time": "2023-02-05T13:02:37.835Z"
   },
   {
    "duration": 15,
    "start_time": "2023-02-05T13:02:37.842Z"
   },
   {
    "duration": 20,
    "start_time": "2023-02-05T13:02:37.858Z"
   },
   {
    "duration": 15,
    "start_time": "2023-02-05T13:02:37.879Z"
   },
   {
    "duration": 11,
    "start_time": "2023-02-05T13:02:37.927Z"
   },
   {
    "duration": 150,
    "start_time": "2023-02-05T13:02:37.939Z"
   },
   {
    "duration": 135,
    "start_time": "2023-02-05T13:02:38.090Z"
   },
   {
    "duration": 69,
    "start_time": "2023-02-05T13:02:38.226Z"
   },
   {
    "duration": 0,
    "start_time": "2023-02-05T13:02:38.297Z"
   },
   {
    "duration": 0,
    "start_time": "2023-02-05T13:02:38.299Z"
   },
   {
    "duration": 0,
    "start_time": "2023-02-05T13:02:38.300Z"
   },
   {
    "duration": 0,
    "start_time": "2023-02-05T13:02:38.301Z"
   },
   {
    "duration": 0,
    "start_time": "2023-02-05T13:02:38.302Z"
   },
   {
    "duration": 0,
    "start_time": "2023-02-05T13:02:38.303Z"
   },
   {
    "duration": 0,
    "start_time": "2023-02-05T13:02:38.304Z"
   },
   {
    "duration": 0,
    "start_time": "2023-02-05T13:02:38.305Z"
   },
   {
    "duration": 0,
    "start_time": "2023-02-05T13:02:38.307Z"
   },
   {
    "duration": 0,
    "start_time": "2023-02-05T13:02:38.308Z"
   },
   {
    "duration": 0,
    "start_time": "2023-02-05T13:02:38.309Z"
   },
   {
    "duration": 0,
    "start_time": "2023-02-05T13:02:38.310Z"
   },
   {
    "duration": 0,
    "start_time": "2023-02-05T13:02:38.311Z"
   },
   {
    "duration": 0,
    "start_time": "2023-02-05T13:02:38.312Z"
   },
   {
    "duration": 0,
    "start_time": "2023-02-05T13:02:38.313Z"
   },
   {
    "duration": 0,
    "start_time": "2023-02-05T13:02:38.313Z"
   },
   {
    "duration": 0,
    "start_time": "2023-02-05T13:02:38.314Z"
   },
   {
    "duration": 0,
    "start_time": "2023-02-05T13:02:38.315Z"
   },
   {
    "duration": 0,
    "start_time": "2023-02-05T13:02:38.316Z"
   },
   {
    "duration": 0,
    "start_time": "2023-02-05T13:02:38.317Z"
   },
   {
    "duration": 0,
    "start_time": "2023-02-05T13:02:38.318Z"
   },
   {
    "duration": 0,
    "start_time": "2023-02-05T13:02:38.320Z"
   },
   {
    "duration": 0,
    "start_time": "2023-02-05T13:02:38.321Z"
   },
   {
    "duration": 0,
    "start_time": "2023-02-05T13:02:38.324Z"
   },
   {
    "duration": 23,
    "start_time": "2023-02-05T13:03:03.016Z"
   },
   {
    "duration": 3,
    "start_time": "2023-02-05T13:04:06.749Z"
   },
   {
    "duration": 60,
    "start_time": "2023-02-05T13:04:09.100Z"
   },
   {
    "duration": 13,
    "start_time": "2023-02-05T13:04:11.900Z"
   },
   {
    "duration": 802,
    "start_time": "2023-02-05T13:04:12.573Z"
   },
   {
    "duration": 15,
    "start_time": "2023-02-05T13:04:13.377Z"
   },
   {
    "duration": 25,
    "start_time": "2023-02-05T13:04:13.512Z"
   },
   {
    "duration": 11,
    "start_time": "2023-02-05T13:04:13.813Z"
   },
   {
    "duration": 19,
    "start_time": "2023-02-05T13:04:14.070Z"
   },
   {
    "duration": 22,
    "start_time": "2023-02-05T13:04:14.582Z"
   },
   {
    "duration": 9,
    "start_time": "2023-02-05T13:04:15.030Z"
   },
   {
    "duration": 7,
    "start_time": "2023-02-05T13:04:15.257Z"
   },
   {
    "duration": 8,
    "start_time": "2023-02-05T13:04:15.518Z"
   },
   {
    "duration": 3,
    "start_time": "2023-02-05T13:04:15.852Z"
   },
   {
    "duration": 8,
    "start_time": "2023-02-05T13:04:17.091Z"
   },
   {
    "duration": 25,
    "start_time": "2023-02-05T13:04:20.352Z"
   },
   {
    "duration": 20,
    "start_time": "2023-02-05T13:04:21.212Z"
   },
   {
    "duration": 12,
    "start_time": "2023-02-05T13:04:22.296Z"
   },
   {
    "duration": 7,
    "start_time": "2023-02-05T13:04:23.365Z"
   },
   {
    "duration": 20,
    "start_time": "2023-02-05T13:04:24.460Z"
   },
   {
    "duration": 4,
    "start_time": "2023-02-05T13:04:25.750Z"
   },
   {
    "duration": 13,
    "start_time": "2023-02-05T13:04:26.612Z"
   },
   {
    "duration": 19,
    "start_time": "2023-02-05T13:04:29.572Z"
   },
   {
    "duration": 20,
    "start_time": "2023-02-05T13:04:34.443Z"
   },
   {
    "duration": 23,
    "start_time": "2023-02-05T13:04:35.418Z"
   },
   {
    "duration": 19,
    "start_time": "2023-02-05T13:04:36.349Z"
   },
   {
    "duration": 21,
    "start_time": "2023-02-05T13:04:37.118Z"
   },
   {
    "duration": 5,
    "start_time": "2023-02-05T13:04:38.153Z"
   },
   {
    "duration": 13,
    "start_time": "2023-02-05T13:04:39.193Z"
   },
   {
    "duration": 16,
    "start_time": "2023-02-05T13:04:39.875Z"
   },
   {
    "duration": 14,
    "start_time": "2023-02-05T13:04:43.643Z"
   },
   {
    "duration": 10,
    "start_time": "2023-02-05T13:04:45.087Z"
   },
   {
    "duration": 135,
    "start_time": "2023-02-05T13:04:46.173Z"
   },
   {
    "duration": 129,
    "start_time": "2023-02-05T13:04:47.123Z"
   },
   {
    "duration": 127,
    "start_time": "2023-02-05T13:04:47.993Z"
   },
   {
    "duration": 30,
    "start_time": "2023-02-05T13:04:49.058Z"
   },
   {
    "duration": 11,
    "start_time": "2023-02-05T13:05:09.122Z"
   },
   {
    "duration": 11,
    "start_time": "2023-02-05T13:05:19.415Z"
   },
   {
    "duration": 32,
    "start_time": "2023-02-05T13:05:19.642Z"
   },
   {
    "duration": 13,
    "start_time": "2023-02-05T13:05:19.833Z"
   },
   {
    "duration": 239,
    "start_time": "2023-02-05T13:05:20.037Z"
   },
   {
    "duration": 21,
    "start_time": "2023-02-05T13:05:20.496Z"
   },
   {
    "duration": 887,
    "start_time": "2023-02-05T13:05:20.670Z"
   },
   {
    "duration": 486,
    "start_time": "2023-02-05T13:05:21.558Z"
   },
   {
    "duration": 251,
    "start_time": "2023-02-05T13:05:22.045Z"
   },
   {
    "duration": 515,
    "start_time": "2023-02-05T13:05:22.298Z"
   },
   {
    "duration": 28,
    "start_time": "2023-02-05T13:05:22.815Z"
   },
   {
    "duration": 21,
    "start_time": "2023-02-05T13:05:22.845Z"
   },
   {
    "duration": 17,
    "start_time": "2023-02-05T13:05:22.867Z"
   },
   {
    "duration": 10,
    "start_time": "2023-02-05T13:05:22.950Z"
   },
   {
    "duration": 17,
    "start_time": "2023-02-05T13:05:23.288Z"
   },
   {
    "duration": 15,
    "start_time": "2023-02-05T13:05:23.512Z"
   },
   {
    "duration": 8,
    "start_time": "2023-02-05T13:05:23.712Z"
   },
   {
    "duration": 18,
    "start_time": "2023-02-05T13:05:24.955Z"
   },
   {
    "duration": 18,
    "start_time": "2023-02-05T13:05:25.156Z"
   },
   {
    "duration": 8,
    "start_time": "2023-02-05T13:05:25.367Z"
   },
   {
    "duration": 19,
    "start_time": "2023-02-05T13:05:25.786Z"
   },
   {
    "duration": 28,
    "start_time": "2023-02-05T13:05:26.014Z"
   },
   {
    "duration": 10,
    "start_time": "2023-02-05T13:05:26.222Z"
   },
   {
    "duration": 2,
    "start_time": "2023-02-05T13:05:27.220Z"
   },
   {
    "duration": 9,
    "start_time": "2023-02-05T13:05:27.758Z"
   },
   {
    "duration": 12,
    "start_time": "2023-02-05T13:05:28.441Z"
   },
   {
    "duration": 4,
    "start_time": "2023-02-05T13:13:56.614Z"
   },
   {
    "duration": 1119,
    "start_time": "2023-02-05T13:14:12.885Z"
   },
   {
    "duration": 66,
    "start_time": "2023-02-05T13:14:14.005Z"
   },
   {
    "duration": 16,
    "start_time": "2023-02-05T13:14:14.072Z"
   },
   {
    "duration": 774,
    "start_time": "2023-02-05T13:14:14.090Z"
   },
   {
    "duration": 14,
    "start_time": "2023-02-05T13:14:14.865Z"
   },
   {
    "duration": 43,
    "start_time": "2023-02-05T13:14:14.880Z"
   },
   {
    "duration": 36,
    "start_time": "2023-02-05T13:14:14.925Z"
   },
   {
    "duration": 30,
    "start_time": "2023-02-05T13:14:14.963Z"
   },
   {
    "duration": 28,
    "start_time": "2023-02-05T13:14:14.994Z"
   },
   {
    "duration": 28,
    "start_time": "2023-02-05T13:14:15.026Z"
   },
   {
    "duration": 15,
    "start_time": "2023-02-05T13:14:15.056Z"
   },
   {
    "duration": 18,
    "start_time": "2023-02-05T13:14:15.072Z"
   },
   {
    "duration": 8,
    "start_time": "2023-02-05T13:14:15.092Z"
   },
   {
    "duration": 12,
    "start_time": "2023-02-05T13:14:15.102Z"
   },
   {
    "duration": 29,
    "start_time": "2023-02-05T13:14:15.116Z"
   },
   {
    "duration": 17,
    "start_time": "2023-02-05T13:14:15.147Z"
   },
   {
    "duration": 13,
    "start_time": "2023-02-05T13:14:15.166Z"
   },
   {
    "duration": 11,
    "start_time": "2023-02-05T13:14:15.180Z"
   },
   {
    "duration": 73,
    "start_time": "2023-02-05T13:14:15.193Z"
   },
   {
    "duration": 4,
    "start_time": "2023-02-05T13:14:15.268Z"
   },
   {
    "duration": 18,
    "start_time": "2023-02-05T13:14:15.274Z"
   },
   {
    "duration": 14,
    "start_time": "2023-02-05T13:14:15.293Z"
   },
   {
    "duration": 39,
    "start_time": "2023-02-05T13:14:15.309Z"
   },
   {
    "duration": 12,
    "start_time": "2023-02-05T13:14:15.350Z"
   },
   {
    "duration": 15,
    "start_time": "2023-02-05T13:14:15.364Z"
   },
   {
    "duration": 57,
    "start_time": "2023-02-05T13:14:15.381Z"
   },
   {
    "duration": 6,
    "start_time": "2023-02-05T13:14:15.439Z"
   },
   {
    "duration": 19,
    "start_time": "2023-02-05T13:14:15.449Z"
   },
   {
    "duration": 15,
    "start_time": "2023-02-05T13:14:15.470Z"
   },
   {
    "duration": 8,
    "start_time": "2023-02-05T13:14:15.487Z"
   },
   {
    "duration": 10,
    "start_time": "2023-02-05T13:14:15.528Z"
   },
   {
    "duration": 137,
    "start_time": "2023-02-05T13:14:15.544Z"
   },
   {
    "duration": 139,
    "start_time": "2023-02-05T13:14:15.683Z"
   },
   {
    "duration": 25,
    "start_time": "2023-02-05T13:14:15.823Z"
   },
   {
    "duration": 27,
    "start_time": "2023-02-05T13:14:15.850Z"
   },
   {
    "duration": 7,
    "start_time": "2023-02-05T13:14:15.879Z"
   },
   {
    "duration": 258,
    "start_time": "2023-02-05T13:14:15.887Z"
   },
   {
    "duration": 22,
    "start_time": "2023-02-05T13:14:16.147Z"
   },
   {
    "duration": 894,
    "start_time": "2023-02-05T13:14:16.171Z"
   },
   {
    "duration": 496,
    "start_time": "2023-02-05T13:14:17.067Z"
   },
   {
    "duration": 286,
    "start_time": "2023-02-05T13:14:17.565Z"
   },
   {
    "duration": 599,
    "start_time": "2023-02-05T13:14:17.852Z"
   },
   {
    "duration": 7,
    "start_time": "2023-02-05T13:14:18.453Z"
   },
   {
    "duration": 24,
    "start_time": "2023-02-05T13:14:18.462Z"
   },
   {
    "duration": 49,
    "start_time": "2023-02-05T13:14:18.488Z"
   },
   {
    "duration": 10,
    "start_time": "2023-02-05T13:14:18.544Z"
   },
   {
    "duration": 20,
    "start_time": "2023-02-05T13:14:18.556Z"
   },
   {
    "duration": 18,
    "start_time": "2023-02-05T13:14:18.578Z"
   },
   {
    "duration": 46,
    "start_time": "2023-02-05T13:14:18.597Z"
   },
   {
    "duration": 23,
    "start_time": "2023-02-05T13:14:18.645Z"
   },
   {
    "duration": 13,
    "start_time": "2023-02-05T13:14:18.670Z"
   },
   {
    "duration": 17,
    "start_time": "2023-02-05T13:14:18.685Z"
   },
   {
    "duration": 38,
    "start_time": "2023-02-05T13:14:18.703Z"
   },
   {
    "duration": 18,
    "start_time": "2023-02-05T13:14:18.743Z"
   },
   {
    "duration": 9,
    "start_time": "2023-02-05T13:14:18.763Z"
   },
   {
    "duration": 3,
    "start_time": "2023-02-05T13:14:18.774Z"
   },
   {
    "duration": 11,
    "start_time": "2023-02-05T13:14:18.779Z"
   },
   {
    "duration": 23,
    "start_time": "2023-02-05T13:14:18.832Z"
   },
   {
    "duration": 1311,
    "start_time": "2023-02-05T16:21:05.772Z"
   },
   {
    "duration": 74,
    "start_time": "2023-02-05T16:26:46.679Z"
   },
   {
    "duration": 88,
    "start_time": "2023-02-05T16:26:57.428Z"
   },
   {
    "duration": 72,
    "start_time": "2023-02-05T16:27:50.105Z"
   },
   {
    "duration": 2,
    "start_time": "2023-02-05T16:28:14.646Z"
   },
   {
    "duration": 231,
    "start_time": "2023-02-05T16:28:16.155Z"
   },
   {
    "duration": 93,
    "start_time": "2023-02-05T16:28:40.206Z"
   },
   {
    "duration": 66,
    "start_time": "2023-02-05T16:28:49.441Z"
   },
   {
    "duration": 66,
    "start_time": "2023-02-05T16:29:00.662Z"
   },
   {
    "duration": 79,
    "start_time": "2023-02-05T16:29:06.062Z"
   },
   {
    "duration": 188,
    "start_time": "2023-02-05T16:29:48.001Z"
   },
   {
    "duration": 59,
    "start_time": "2023-02-05T16:29:57.220Z"
   },
   {
    "duration": 64,
    "start_time": "2023-02-05T16:30:33.777Z"
   },
   {
    "duration": 95,
    "start_time": "2023-02-05T16:30:41.259Z"
   },
   {
    "duration": 65,
    "start_time": "2023-02-05T16:30:50.565Z"
   },
   {
    "duration": 14,
    "start_time": "2023-02-05T16:36:08.742Z"
   },
   {
    "duration": 21,
    "start_time": "2023-02-05T16:36:11.305Z"
   },
   {
    "duration": 9,
    "start_time": "2023-02-05T16:36:19.443Z"
   },
   {
    "duration": 13,
    "start_time": "2023-02-05T16:37:54.234Z"
   },
   {
    "duration": 24,
    "start_time": "2023-02-05T16:38:25.884Z"
   },
   {
    "duration": 6,
    "start_time": "2023-02-05T16:41:31.432Z"
   },
   {
    "duration": 12,
    "start_time": "2023-02-05T16:42:39.595Z"
   },
   {
    "duration": 11,
    "start_time": "2023-02-05T16:42:51.296Z"
   },
   {
    "duration": 4,
    "start_time": "2023-02-05T16:43:07.557Z"
   },
   {
    "duration": 8,
    "start_time": "2023-02-05T16:55:49.319Z"
   },
   {
    "duration": 14,
    "start_time": "2023-02-05T16:55:59.176Z"
   },
   {
    "duration": 13,
    "start_time": "2023-02-05T16:56:19.990Z"
   },
   {
    "duration": 12,
    "start_time": "2023-02-05T16:56:39.453Z"
   },
   {
    "duration": 13,
    "start_time": "2023-02-05T16:56:43.241Z"
   },
   {
    "duration": 12,
    "start_time": "2023-02-05T16:56:51.909Z"
   },
   {
    "duration": 14,
    "start_time": "2023-02-05T16:56:59.794Z"
   },
   {
    "duration": 9,
    "start_time": "2023-02-05T16:57:31.809Z"
   },
   {
    "duration": 22,
    "start_time": "2023-02-05T17:00:43.130Z"
   },
   {
    "duration": 22,
    "start_time": "2023-02-05T17:02:28.557Z"
   },
   {
    "duration": 17,
    "start_time": "2023-02-05T17:06:21.973Z"
   },
   {
    "duration": 13,
    "start_time": "2023-02-05T17:07:20.803Z"
   },
   {
    "duration": 7,
    "start_time": "2023-02-05T17:07:22.130Z"
   },
   {
    "duration": 20,
    "start_time": "2023-02-05T17:07:28.709Z"
   },
   {
    "duration": 6,
    "start_time": "2023-02-05T17:08:01.966Z"
   },
   {
    "duration": 4,
    "start_time": "2023-02-05T17:08:29.304Z"
   },
   {
    "duration": 14,
    "start_time": "2023-02-05T17:08:31.265Z"
   },
   {
    "duration": 24,
    "start_time": "2023-02-05T17:11:21.227Z"
   },
   {
    "duration": 14,
    "start_time": "2023-02-05T17:11:30.973Z"
   },
   {
    "duration": 18,
    "start_time": "2023-02-05T17:14:05.860Z"
   },
   {
    "duration": 27,
    "start_time": "2023-02-05T17:14:23.643Z"
   },
   {
    "duration": 5,
    "start_time": "2023-02-05T17:14:35.882Z"
   },
   {
    "duration": 16,
    "start_time": "2023-02-05T17:15:12.985Z"
   },
   {
    "duration": 13,
    "start_time": "2023-02-05T17:15:48.437Z"
   },
   {
    "duration": 16,
    "start_time": "2023-02-05T17:16:33.122Z"
   },
   {
    "duration": 7,
    "start_time": "2023-02-05T17:25:51.467Z"
   },
   {
    "duration": 10,
    "start_time": "2023-02-05T17:36:21.425Z"
   },
   {
    "duration": 9,
    "start_time": "2023-02-05T17:37:47.934Z"
   },
   {
    "duration": 298,
    "start_time": "2023-02-05T17:39:30.181Z"
   },
   {
    "duration": 285,
    "start_time": "2023-02-05T17:39:54.844Z"
   },
   {
    "duration": 266,
    "start_time": "2023-02-05T17:40:13.510Z"
   },
   {
    "duration": 27,
    "start_time": "2023-02-05T17:51:05.181Z"
   },
   {
    "duration": 28,
    "start_time": "2023-02-05T17:51:20.979Z"
   },
   {
    "duration": 19,
    "start_time": "2023-02-05T17:51:46.124Z"
   },
   {
    "duration": 27,
    "start_time": "2023-02-05T17:51:54.980Z"
   },
   {
    "duration": 488,
    "start_time": "2023-02-05T17:52:33.825Z"
   },
   {
    "duration": 450,
    "start_time": "2023-02-05T17:52:47.545Z"
   },
   {
    "duration": 478,
    "start_time": "2023-02-05T17:52:58.170Z"
   },
   {
    "duration": 462,
    "start_time": "2023-02-05T17:53:56.134Z"
   },
   {
    "duration": 402,
    "start_time": "2023-02-05T17:54:10.203Z"
   },
   {
    "duration": 301,
    "start_time": "2023-02-05T18:31:24.204Z"
   },
   {
    "duration": 382,
    "start_time": "2023-02-05T18:31:33.063Z"
   },
   {
    "duration": 386,
    "start_time": "2023-02-05T18:32:03.762Z"
   },
   {
    "duration": 267,
    "start_time": "2023-02-05T18:32:23.493Z"
   },
   {
    "duration": 251,
    "start_time": "2023-02-05T18:33:12.031Z"
   },
   {
    "duration": 280,
    "start_time": "2023-02-05T18:33:54.423Z"
   },
   {
    "duration": 314,
    "start_time": "2023-02-05T18:34:15.224Z"
   },
   {
    "duration": 9,
    "start_time": "2023-02-05T18:38:28.990Z"
   },
   {
    "duration": 268,
    "start_time": "2023-02-05T18:52:14.448Z"
   },
   {
    "duration": 27,
    "start_time": "2023-02-05T18:54:09.697Z"
   },
   {
    "duration": 4,
    "start_time": "2023-02-05T18:54:25.506Z"
   },
   {
    "duration": 4,
    "start_time": "2023-02-05T18:54:32.024Z"
   },
   {
    "duration": 23,
    "start_time": "2023-02-05T18:54:39.157Z"
   },
   {
    "duration": 22,
    "start_time": "2023-02-05T18:54:52.635Z"
   },
   {
    "duration": 263,
    "start_time": "2023-02-05T18:56:24.689Z"
   },
   {
    "duration": 380,
    "start_time": "2023-02-05T18:58:06.787Z"
   },
   {
    "duration": 217,
    "start_time": "2023-02-05T18:58:21.650Z"
   },
   {
    "duration": 523,
    "start_time": "2023-02-05T18:59:44.159Z"
   },
   {
    "duration": 8,
    "start_time": "2023-02-05T19:01:42.301Z"
   },
   {
    "duration": 96,
    "start_time": "2023-02-05T20:28:01.131Z"
   },
   {
    "duration": 16,
    "start_time": "2023-02-05T20:28:06.250Z"
   },
   {
    "duration": 22,
    "start_time": "2023-02-05T20:28:09.981Z"
   },
   {
    "duration": 22,
    "start_time": "2023-02-05T20:28:19.240Z"
   },
   {
    "duration": 8,
    "start_time": "2023-02-05T20:28:27.388Z"
   },
   {
    "duration": 20,
    "start_time": "2023-02-05T20:29:03.390Z"
   },
   {
    "duration": 8,
    "start_time": "2023-02-05T20:32:17.266Z"
   },
   {
    "duration": 8,
    "start_time": "2023-02-05T20:33:46.223Z"
   },
   {
    "duration": 21,
    "start_time": "2023-02-05T20:33:56.087Z"
   },
   {
    "duration": 14,
    "start_time": "2023-02-05T20:34:15.830Z"
   },
   {
    "duration": 15,
    "start_time": "2023-02-05T20:36:12.269Z"
   },
   {
    "duration": 17,
    "start_time": "2023-02-05T20:36:52.013Z"
   },
   {
    "duration": 16,
    "start_time": "2023-02-05T20:37:10.542Z"
   },
   {
    "duration": 16,
    "start_time": "2023-02-05T20:37:41.358Z"
   },
   {
    "duration": 21,
    "start_time": "2023-02-05T20:39:06.822Z"
   },
   {
    "duration": 24,
    "start_time": "2023-02-05T20:41:56.908Z"
   },
   {
    "duration": 14,
    "start_time": "2023-02-05T20:42:01.744Z"
   },
   {
    "duration": 14,
    "start_time": "2023-02-05T20:42:31.370Z"
   },
   {
    "duration": 10,
    "start_time": "2023-02-05T20:42:50.088Z"
   },
   {
    "duration": 20,
    "start_time": "2023-02-05T20:45:28.887Z"
   },
   {
    "duration": 18,
    "start_time": "2023-02-05T20:45:56.083Z"
   },
   {
    "duration": 7,
    "start_time": "2023-02-05T20:46:12.422Z"
   },
   {
    "duration": 9,
    "start_time": "2023-02-05T20:46:44.680Z"
   },
   {
    "duration": 14,
    "start_time": "2023-02-05T20:57:20.655Z"
   },
   {
    "duration": 26,
    "start_time": "2023-02-05T20:57:36.484Z"
   },
   {
    "duration": 7,
    "start_time": "2023-02-05T21:07:46.765Z"
   },
   {
    "duration": 9,
    "start_time": "2023-02-05T21:07:59.439Z"
   },
   {
    "duration": 9,
    "start_time": "2023-02-05T21:08:43.611Z"
   },
   {
    "duration": 8,
    "start_time": "2023-02-05T21:09:22.662Z"
   },
   {
    "duration": 11,
    "start_time": "2023-02-05T21:10:12.458Z"
   },
   {
    "duration": 10,
    "start_time": "2023-02-05T21:17:44.838Z"
   },
   {
    "duration": 3,
    "start_time": "2023-02-05T21:17:49.813Z"
   },
   {
    "duration": 11,
    "start_time": "2023-02-05T21:17:50.983Z"
   },
   {
    "duration": 9,
    "start_time": "2023-02-05T21:18:04.654Z"
   },
   {
    "duration": 8,
    "start_time": "2023-02-05T21:23:19.263Z"
   },
   {
    "duration": 8,
    "start_time": "2023-02-05T21:23:25.321Z"
   },
   {
    "duration": 2,
    "start_time": "2023-02-05T22:10:49.386Z"
   },
   {
    "duration": 1179,
    "start_time": "2023-02-05T22:10:59.752Z"
   },
   {
    "duration": 78,
    "start_time": "2023-02-05T22:11:00.933Z"
   },
   {
    "duration": 27,
    "start_time": "2023-02-05T22:11:01.013Z"
   },
   {
    "duration": 824,
    "start_time": "2023-02-05T22:11:01.042Z"
   },
   {
    "duration": 26,
    "start_time": "2023-02-05T22:11:01.868Z"
   },
   {
    "duration": 41,
    "start_time": "2023-02-05T22:11:01.895Z"
   },
   {
    "duration": 9,
    "start_time": "2023-02-05T22:11:01.938Z"
   },
   {
    "duration": 37,
    "start_time": "2023-02-05T22:11:01.948Z"
   },
   {
    "duration": 57,
    "start_time": "2023-02-05T22:11:01.987Z"
   },
   {
    "duration": 6,
    "start_time": "2023-02-05T22:11:02.047Z"
   },
   {
    "duration": 24,
    "start_time": "2023-02-05T22:11:02.055Z"
   },
   {
    "duration": 39,
    "start_time": "2023-02-05T22:11:02.081Z"
   },
   {
    "duration": 17,
    "start_time": "2023-02-05T22:11:02.122Z"
   },
   {
    "duration": 12,
    "start_time": "2023-02-05T22:11:02.141Z"
   },
   {
    "duration": 31,
    "start_time": "2023-02-05T22:11:02.155Z"
   },
   {
    "duration": 25,
    "start_time": "2023-02-05T22:11:02.188Z"
   },
   {
    "duration": 29,
    "start_time": "2023-02-05T22:11:02.214Z"
   },
   {
    "duration": 14,
    "start_time": "2023-02-05T22:11:02.245Z"
   },
   {
    "duration": 54,
    "start_time": "2023-02-05T22:11:02.261Z"
   },
   {
    "duration": 21,
    "start_time": "2023-02-05T22:11:02.317Z"
   },
   {
    "duration": 57,
    "start_time": "2023-02-05T22:11:02.340Z"
   },
   {
    "duration": 244,
    "start_time": "2023-02-05T22:11:02.399Z"
   },
   {
    "duration": 41,
    "start_time": "2023-02-05T22:11:02.645Z"
   },
   {
    "duration": 18,
    "start_time": "2023-02-05T22:11:02.688Z"
   },
   {
    "duration": 41,
    "start_time": "2023-02-05T22:11:02.707Z"
   },
   {
    "duration": 45,
    "start_time": "2023-02-05T22:11:02.750Z"
   },
   {
    "duration": 14,
    "start_time": "2023-02-05T22:11:02.797Z"
   },
   {
    "duration": 27,
    "start_time": "2023-02-05T22:11:02.814Z"
   },
   {
    "duration": 24,
    "start_time": "2023-02-05T22:11:02.842Z"
   },
   {
    "duration": 7,
    "start_time": "2023-02-05T22:11:02.868Z"
   },
   {
    "duration": 7,
    "start_time": "2023-02-05T22:11:02.877Z"
   },
   {
    "duration": 141,
    "start_time": "2023-02-05T22:11:02.885Z"
   },
   {
    "duration": 136,
    "start_time": "2023-02-05T22:11:03.028Z"
   },
   {
    "duration": 8,
    "start_time": "2023-02-05T22:11:03.166Z"
   },
   {
    "duration": 18,
    "start_time": "2023-02-05T22:11:03.176Z"
   },
   {
    "duration": 274,
    "start_time": "2023-02-05T22:11:03.198Z"
   },
   {
    "duration": 34,
    "start_time": "2023-02-05T22:11:03.474Z"
   },
   {
    "duration": 475,
    "start_time": "2023-02-05T22:11:03.510Z"
   },
   {
    "duration": 20,
    "start_time": "2023-02-05T22:11:03.987Z"
   },
   {
    "duration": 307,
    "start_time": "2023-02-05T22:11:04.009Z"
   },
   {
    "duration": 238,
    "start_time": "2023-02-05T22:11:04.318Z"
   },
   {
    "duration": 540,
    "start_time": "2023-02-05T22:11:04.558Z"
   },
   {
    "duration": 8,
    "start_time": "2023-02-05T22:11:05.100Z"
   },
   {
    "duration": 24,
    "start_time": "2023-02-05T22:11:05.110Z"
   },
   {
    "duration": 20,
    "start_time": "2023-02-05T22:11:05.136Z"
   },
   {
    "duration": 7,
    "start_time": "2023-02-05T22:11:05.157Z"
   },
   {
    "duration": 28,
    "start_time": "2023-02-05T22:11:05.166Z"
   },
   {
    "duration": 21,
    "start_time": "2023-02-05T22:11:05.201Z"
   },
   {
    "duration": 16,
    "start_time": "2023-02-05T22:11:05.224Z"
   },
   {
    "duration": 7,
    "start_time": "2023-02-05T22:11:05.241Z"
   },
   {
    "duration": 7,
    "start_time": "2023-02-05T22:11:05.250Z"
   },
   {
    "duration": 44,
    "start_time": "2023-02-05T22:11:05.259Z"
   },
   {
    "duration": 15,
    "start_time": "2023-02-05T22:11:05.304Z"
   },
   {
    "duration": 7,
    "start_time": "2023-02-05T22:11:05.321Z"
   },
   {
    "duration": 7,
    "start_time": "2023-02-05T22:11:05.329Z"
   },
   {
    "duration": 19,
    "start_time": "2023-02-05T22:11:05.337Z"
   },
   {
    "duration": 42,
    "start_time": "2023-02-05T22:11:05.357Z"
   },
   {
    "duration": 9,
    "start_time": "2023-02-05T22:11:05.400Z"
   },
   {
    "duration": 12,
    "start_time": "2023-02-05T22:11:05.411Z"
   },
   {
    "duration": 20,
    "start_time": "2023-02-05T22:11:05.425Z"
   },
   {
    "duration": 12,
    "start_time": "2023-02-05T22:11:05.447Z"
   },
   {
    "duration": 17,
    "start_time": "2023-02-05T22:11:05.461Z"
   },
   {
    "duration": 9,
    "start_time": "2023-02-05T22:11:05.479Z"
   },
   {
    "duration": 21,
    "start_time": "2023-02-05T22:11:05.490Z"
   },
   {
    "duration": 1199,
    "start_time": "2023-02-05T22:12:00.509Z"
   },
   {
    "duration": 67,
    "start_time": "2023-02-05T22:12:01.710Z"
   },
   {
    "duration": 13,
    "start_time": "2023-02-05T22:12:01.779Z"
   },
   {
    "duration": 832,
    "start_time": "2023-02-05T22:12:01.794Z"
   },
   {
    "duration": 17,
    "start_time": "2023-02-05T22:12:02.628Z"
   },
   {
    "duration": 33,
    "start_time": "2023-02-05T22:12:02.646Z"
   },
   {
    "duration": 22,
    "start_time": "2023-02-05T22:12:02.681Z"
   },
   {
    "duration": 24,
    "start_time": "2023-02-05T22:12:02.705Z"
   },
   {
    "duration": 20,
    "start_time": "2023-02-05T22:12:02.731Z"
   },
   {
    "duration": 9,
    "start_time": "2023-02-05T22:12:02.753Z"
   },
   {
    "duration": 10,
    "start_time": "2023-02-05T22:12:02.763Z"
   },
   {
    "duration": 33,
    "start_time": "2023-02-05T22:12:02.774Z"
   },
   {
    "duration": 13,
    "start_time": "2023-02-05T22:12:02.810Z"
   },
   {
    "duration": 10,
    "start_time": "2023-02-05T22:12:02.824Z"
   },
   {
    "duration": 22,
    "start_time": "2023-02-05T22:12:02.835Z"
   },
   {
    "duration": 21,
    "start_time": "2023-02-05T22:12:02.859Z"
   },
   {
    "duration": 30,
    "start_time": "2023-02-05T22:12:02.882Z"
   },
   {
    "duration": 20,
    "start_time": "2023-02-05T22:12:02.914Z"
   },
   {
    "duration": 8,
    "start_time": "2023-02-05T22:12:02.935Z"
   },
   {
    "duration": 4,
    "start_time": "2023-02-05T22:12:02.945Z"
   },
   {
    "duration": 15,
    "start_time": "2023-02-05T22:12:02.950Z"
   },
   {
    "duration": 35,
    "start_time": "2023-02-05T22:12:02.966Z"
   },
   {
    "duration": 21,
    "start_time": "2023-02-05T22:12:03.005Z"
   },
   {
    "duration": 14,
    "start_time": "2023-02-05T22:12:03.027Z"
   },
   {
    "duration": 16,
    "start_time": "2023-02-05T22:12:03.043Z"
   },
   {
    "duration": 53,
    "start_time": "2023-02-05T22:12:03.060Z"
   },
   {
    "duration": 5,
    "start_time": "2023-02-05T22:12:03.115Z"
   },
   {
    "duration": 27,
    "start_time": "2023-02-05T22:12:03.125Z"
   },
   {
    "duration": 17,
    "start_time": "2023-02-05T22:12:03.154Z"
   },
   {
    "duration": 7,
    "start_time": "2023-02-05T22:12:03.173Z"
   },
   {
    "duration": 19,
    "start_time": "2023-02-05T22:12:03.182Z"
   },
   {
    "duration": 137,
    "start_time": "2023-02-05T22:12:03.206Z"
   },
   {
    "duration": 137,
    "start_time": "2023-02-05T22:12:03.344Z"
   },
   {
    "duration": 23,
    "start_time": "2023-02-05T22:12:03.484Z"
   },
   {
    "duration": 8,
    "start_time": "2023-02-05T22:12:03.509Z"
   },
   {
    "duration": 264,
    "start_time": "2023-02-05T22:12:03.519Z"
   },
   {
    "duration": 27,
    "start_time": "2023-02-05T22:12:03.792Z"
   },
   {
    "duration": 505,
    "start_time": "2023-02-05T22:12:03.820Z"
   },
   {
    "duration": 8,
    "start_time": "2023-02-05T22:12:04.327Z"
   },
   {
    "duration": 323,
    "start_time": "2023-02-05T22:12:04.336Z"
   },
   {
    "duration": 253,
    "start_time": "2023-02-05T22:12:04.661Z"
   },
   {
    "duration": 555,
    "start_time": "2023-02-05T22:12:04.916Z"
   },
   {
    "duration": 7,
    "start_time": "2023-02-05T22:12:05.472Z"
   },
   {
    "duration": 39,
    "start_time": "2023-02-05T22:12:05.481Z"
   },
   {
    "duration": 14,
    "start_time": "2023-02-05T22:12:05.521Z"
   },
   {
    "duration": 7,
    "start_time": "2023-02-05T22:12:05.536Z"
   },
   {
    "duration": 8,
    "start_time": "2023-02-05T22:12:05.544Z"
   },
   {
    "duration": 16,
    "start_time": "2023-02-05T22:12:05.553Z"
   },
   {
    "duration": 33,
    "start_time": "2023-02-05T22:12:05.571Z"
   },
   {
    "duration": 16,
    "start_time": "2023-02-05T22:12:05.606Z"
   },
   {
    "duration": 7,
    "start_time": "2023-02-05T22:12:05.624Z"
   },
   {
    "duration": 22,
    "start_time": "2023-02-05T22:12:05.633Z"
   },
   {
    "duration": 18,
    "start_time": "2023-02-05T22:12:05.657Z"
   },
   {
    "duration": 22,
    "start_time": "2023-02-05T22:12:05.677Z"
   },
   {
    "duration": 30,
    "start_time": "2023-02-05T22:12:05.705Z"
   },
   {
    "duration": 17,
    "start_time": "2023-02-05T22:12:05.737Z"
   },
   {
    "duration": 29,
    "start_time": "2023-02-05T22:12:05.755Z"
   },
   {
    "duration": 13,
    "start_time": "2023-02-05T22:12:05.786Z"
   },
   {
    "duration": 8,
    "start_time": "2023-02-05T22:12:05.806Z"
   },
   {
    "duration": 16,
    "start_time": "2023-02-05T22:12:05.816Z"
   },
   {
    "duration": 5,
    "start_time": "2023-02-05T22:12:05.834Z"
   },
   {
    "duration": 13,
    "start_time": "2023-02-05T22:12:05.840Z"
   },
   {
    "duration": 21,
    "start_time": "2023-02-05T22:12:05.854Z"
   },
   {
    "duration": 32,
    "start_time": "2023-02-05T22:12:05.877Z"
   },
   {
    "duration": 1236,
    "start_time": "2023-02-06T06:51:20.171Z"
   },
   {
    "duration": 68,
    "start_time": "2023-02-06T06:51:21.410Z"
   },
   {
    "duration": 23,
    "start_time": "2023-02-06T06:51:21.480Z"
   },
   {
    "duration": 810,
    "start_time": "2023-02-06T06:51:23.319Z"
   },
   {
    "duration": 14,
    "start_time": "2023-02-06T06:51:53.767Z"
   },
   {
    "duration": 22,
    "start_time": "2023-02-06T06:52:08.965Z"
   },
   {
    "duration": 10,
    "start_time": "2023-02-06T06:52:10.439Z"
   },
   {
    "duration": 13,
    "start_time": "2023-02-06T06:52:51.228Z"
   },
   {
    "duration": 27,
    "start_time": "2023-02-06T06:52:54.163Z"
   },
   {
    "duration": 6,
    "start_time": "2023-02-06T06:53:01.728Z"
   },
   {
    "duration": 9,
    "start_time": "2023-02-06T06:53:01.964Z"
   },
   {
    "duration": 10,
    "start_time": "2023-02-06T06:53:03.597Z"
   },
   {
    "duration": 4,
    "start_time": "2023-02-06T06:53:05.315Z"
   },
   {
    "duration": 7,
    "start_time": "2023-02-06T06:53:54.571Z"
   },
   {
    "duration": 29,
    "start_time": "2023-02-06T06:54:04.577Z"
   },
   {
    "duration": 48,
    "start_time": "2023-02-06T06:54:07.160Z"
   },
   {
    "duration": 28,
    "start_time": "2023-02-06T06:54:10.190Z"
   },
   {
    "duration": 13,
    "start_time": "2023-02-06T06:54:12.832Z"
   },
   {
    "duration": 106,
    "start_time": "2023-02-06T06:55:43.071Z"
   },
   {
    "duration": 13,
    "start_time": "2023-02-06T06:55:43.314Z"
   },
   {
    "duration": 11,
    "start_time": "2023-02-06T06:55:56.931Z"
   },
   {
    "duration": 30,
    "start_time": "2023-02-06T06:56:07.775Z"
   },
   {
    "duration": 21,
    "start_time": "2023-02-06T06:56:23.492Z"
   },
   {
    "duration": 18,
    "start_time": "2023-02-06T06:56:27.928Z"
   },
   {
    "duration": 20,
    "start_time": "2023-02-06T07:01:01.253Z"
   },
   {
    "duration": 5,
    "start_time": "2023-02-06T07:01:02.175Z"
   },
   {
    "duration": 15,
    "start_time": "2023-02-06T07:01:02.355Z"
   },
   {
    "duration": 24,
    "start_time": "2023-02-06T07:01:04.885Z"
   },
   {
    "duration": 8,
    "start_time": "2023-02-06T07:04:15.880Z"
   },
   {
    "duration": 11,
    "start_time": "2023-02-06T07:12:43.958Z"
   },
   {
    "duration": 154,
    "start_time": "2023-02-06T07:12:44.273Z"
   },
   {
    "duration": 132,
    "start_time": "2023-02-06T07:12:45.024Z"
   },
   {
    "duration": 11,
    "start_time": "2023-02-06T07:12:45.313Z"
   },
   {
    "duration": 11,
    "start_time": "2023-02-06T07:12:56.157Z"
   },
   {
    "duration": 255,
    "start_time": "2023-02-06T07:12:56.620Z"
   },
   {
    "duration": 25,
    "start_time": "2023-02-06T07:13:04.436Z"
   },
   {
    "duration": 495,
    "start_time": "2023-02-06T07:13:32.194Z"
   },
   {
    "duration": 9,
    "start_time": "2023-02-06T07:13:35.019Z"
   },
   {
    "duration": 297,
    "start_time": "2023-02-06T07:13:36.680Z"
   },
   {
    "duration": 398,
    "start_time": "2023-02-06T07:15:12.342Z"
   },
   {
    "duration": 7,
    "start_time": "2023-02-06T07:15:13.718Z"
   },
   {
    "duration": 325,
    "start_time": "2023-02-06T07:15:14.237Z"
   },
   {
    "duration": 260,
    "start_time": "2023-02-06T07:15:16.783Z"
   },
   {
    "duration": 616,
    "start_time": "2023-02-06T07:15:17.045Z"
   },
   {
    "duration": 8,
    "start_time": "2023-02-06T07:15:17.664Z"
   },
   {
    "duration": 17,
    "start_time": "2023-02-06T07:20:21.026Z"
   },
   {
    "duration": 17,
    "start_time": "2023-02-06T07:21:44.506Z"
   },
   {
    "duration": 8,
    "start_time": "2023-02-06T07:21:44.842Z"
   },
   {
    "duration": 7,
    "start_time": "2023-02-06T07:21:45.350Z"
   },
   {
    "duration": 27,
    "start_time": "2023-02-06T07:21:48.284Z"
   },
   {
    "duration": 15,
    "start_time": "2023-02-06T07:21:48.660Z"
   },
   {
    "duration": 8,
    "start_time": "2023-02-06T07:21:49.058Z"
   },
   {
    "duration": 8,
    "start_time": "2023-02-06T07:21:49.523Z"
   },
   {
    "duration": 17,
    "start_time": "2023-02-06T07:21:51.748Z"
   },
   {
    "duration": 16,
    "start_time": "2023-02-06T07:21:52.124Z"
   },
   {
    "duration": 7,
    "start_time": "2023-02-06T07:21:52.622Z"
   },
   {
    "duration": 18,
    "start_time": "2023-02-06T07:21:52.991Z"
   },
   {
    "duration": 115,
    "start_time": "2023-02-06T07:25:21.421Z"
   },
   {
    "duration": 16,
    "start_time": "2023-02-06T07:25:21.625Z"
   },
   {
    "duration": 8,
    "start_time": "2023-02-06T07:25:21.859Z"
   },
   {
    "duration": 7,
    "start_time": "2023-02-06T07:25:25.560Z"
   },
   {
    "duration": 10,
    "start_time": "2023-02-06T07:25:26.067Z"
   },
   {
    "duration": 9,
    "start_time": "2023-02-06T07:27:07.373Z"
   },
   {
    "duration": 3,
    "start_time": "2023-02-06T07:27:08.683Z"
   },
   {
    "duration": 7,
    "start_time": "2023-02-06T07:27:08.921Z"
   },
   {
    "duration": 50,
    "start_time": "2023-02-07T04:03:04.104Z"
   },
   {
    "duration": 1356,
    "start_time": "2023-02-07T04:03:26.007Z"
   },
   {
    "duration": 218,
    "start_time": "2023-02-07T04:03:27.364Z"
   },
   {
    "duration": 14,
    "start_time": "2023-02-07T04:03:44.852Z"
   },
   {
    "duration": 31,
    "start_time": "2023-02-07T04:05:06.652Z"
   },
   {
    "duration": 1240,
    "start_time": "2023-02-07T17:57:47.663Z"
   },
   {
    "duration": 116,
    "start_time": "2023-02-07T17:57:48.905Z"
   },
   {
    "duration": 13,
    "start_time": "2023-02-07T17:57:49.022Z"
   },
   {
    "duration": 773,
    "start_time": "2023-02-07T17:57:49.037Z"
   },
   {
    "duration": 32,
    "start_time": "2023-02-07T17:57:49.811Z"
   },
   {
    "duration": 14,
    "start_time": "2023-02-07T17:57:49.845Z"
   },
   {
    "duration": 21,
    "start_time": "2023-02-07T17:57:49.861Z"
   },
   {
    "duration": 30,
    "start_time": "2023-02-07T17:57:49.883Z"
   },
   {
    "duration": 14,
    "start_time": "2023-02-07T17:57:49.915Z"
   },
   {
    "duration": 21,
    "start_time": "2023-02-07T17:57:49.931Z"
   },
   {
    "duration": 7,
    "start_time": "2023-02-07T17:57:49.954Z"
   },
   {
    "duration": 8,
    "start_time": "2023-02-07T17:57:49.963Z"
   },
   {
    "duration": 40,
    "start_time": "2023-02-07T17:57:49.973Z"
   },
   {
    "duration": 12,
    "start_time": "2023-02-07T17:57:50.015Z"
   },
   {
    "duration": 10,
    "start_time": "2023-02-07T17:57:50.028Z"
   },
   {
    "duration": 20,
    "start_time": "2023-02-07T17:57:50.040Z"
   },
   {
    "duration": 23,
    "start_time": "2023-02-07T17:57:50.062Z"
   },
   {
    "duration": 40,
    "start_time": "2023-02-07T17:57:50.087Z"
   },
   {
    "duration": 12,
    "start_time": "2023-02-07T17:57:50.129Z"
   },
   {
    "duration": 8,
    "start_time": "2023-02-07T17:57:50.143Z"
   },
   {
    "duration": 5,
    "start_time": "2023-02-07T17:57:50.152Z"
   },
   {
    "duration": 14,
    "start_time": "2023-02-07T17:57:50.158Z"
   },
   {
    "duration": 49,
    "start_time": "2023-02-07T17:57:50.174Z"
   },
   {
    "duration": 20,
    "start_time": "2023-02-07T17:57:50.224Z"
   },
   {
    "duration": 14,
    "start_time": "2023-02-07T17:57:50.246Z"
   },
   {
    "duration": 17,
    "start_time": "2023-02-07T17:57:50.262Z"
   },
   {
    "duration": 46,
    "start_time": "2023-02-07T17:57:50.281Z"
   },
   {
    "duration": 5,
    "start_time": "2023-02-07T17:57:50.331Z"
   },
   {
    "duration": 17,
    "start_time": "2023-02-07T17:57:50.338Z"
   },
   {
    "duration": 15,
    "start_time": "2023-02-07T17:57:50.357Z"
   },
   {
    "duration": 8,
    "start_time": "2023-02-07T17:57:50.373Z"
   },
   {
    "duration": 34,
    "start_time": "2023-02-07T17:57:50.382Z"
   },
   {
    "duration": 121,
    "start_time": "2023-02-07T17:57:50.417Z"
   },
   {
    "duration": 123,
    "start_time": "2023-02-07T17:57:50.540Z"
   },
   {
    "duration": 9,
    "start_time": "2023-02-07T17:57:50.664Z"
   },
   {
    "duration": 7,
    "start_time": "2023-02-07T17:57:50.674Z"
   },
   {
    "duration": 249,
    "start_time": "2023-02-07T17:57:50.683Z"
   },
   {
    "duration": 25,
    "start_time": "2023-02-07T17:57:50.934Z"
   },
   {
    "duration": 456,
    "start_time": "2023-02-07T17:57:50.960Z"
   },
   {
    "duration": 7,
    "start_time": "2023-02-07T17:57:51.418Z"
   },
   {
    "duration": 286,
    "start_time": "2023-02-07T17:57:51.426Z"
   },
   {
    "duration": 229,
    "start_time": "2023-02-07T17:57:51.714Z"
   },
   {
    "duration": 496,
    "start_time": "2023-02-07T17:57:51.945Z"
   },
   {
    "duration": 8,
    "start_time": "2023-02-07T17:57:52.443Z"
   },
   {
    "duration": 17,
    "start_time": "2023-02-07T17:57:52.452Z"
   },
   {
    "duration": 39,
    "start_time": "2023-02-07T17:57:52.471Z"
   },
   {
    "duration": 7,
    "start_time": "2023-02-07T17:57:52.512Z"
   },
   {
    "duration": 9,
    "start_time": "2023-02-07T17:57:52.521Z"
   },
   {
    "duration": 16,
    "start_time": "2023-02-07T17:57:52.532Z"
   },
   {
    "duration": 14,
    "start_time": "2023-02-07T17:57:52.549Z"
   },
   {
    "duration": 7,
    "start_time": "2023-02-07T17:57:52.564Z"
   },
   {
    "duration": 39,
    "start_time": "2023-02-07T17:57:52.572Z"
   },
   {
    "duration": 19,
    "start_time": "2023-02-07T17:57:52.613Z"
   },
   {
    "duration": 16,
    "start_time": "2023-02-07T17:57:52.634Z"
   },
   {
    "duration": 7,
    "start_time": "2023-02-07T17:57:52.652Z"
   },
   {
    "duration": 7,
    "start_time": "2023-02-07T17:57:52.661Z"
   },
   {
    "duration": 55,
    "start_time": "2023-02-07T17:57:52.670Z"
   },
   {
    "duration": 17,
    "start_time": "2023-02-07T17:57:52.726Z"
   },
   {
    "duration": 8,
    "start_time": "2023-02-07T17:57:52.744Z"
   },
   {
    "duration": 6,
    "start_time": "2023-02-07T17:57:52.753Z"
   },
   {
    "duration": 13,
    "start_time": "2023-02-07T17:57:52.760Z"
   },
   {
    "duration": 7,
    "start_time": "2023-02-07T17:57:52.774Z"
   },
   {
    "duration": 32,
    "start_time": "2023-02-07T17:57:52.782Z"
   },
   {
    "duration": 6,
    "start_time": "2023-02-07T17:57:52.816Z"
   },
   {
    "duration": 10,
    "start_time": "2023-02-07T17:57:52.823Z"
   },
   {
    "duration": 3,
    "start_time": "2023-02-07T18:06:57.572Z"
   },
   {
    "duration": 58,
    "start_time": "2023-02-07T18:06:59.850Z"
   },
   {
    "duration": 13,
    "start_time": "2023-02-07T18:07:01.533Z"
   },
   {
    "duration": 742,
    "start_time": "2023-02-07T18:07:02.453Z"
   },
   {
    "duration": 27,
    "start_time": "2023-02-07T18:07:03.448Z"
   },
   {
    "duration": 110,
    "start_time": "2023-02-07T18:10:50.225Z"
   },
   {
    "duration": 12,
    "start_time": "2023-02-07T18:11:17.409Z"
   },
   {
    "duration": 3,
    "start_time": "2023-02-07T18:13:27.359Z"
   },
   {
    "duration": 20,
    "start_time": "2023-02-07T18:13:36.027Z"
   },
   {
    "duration": 19,
    "start_time": "2023-02-07T18:14:28.599Z"
   },
   {
    "duration": 14,
    "start_time": "2023-02-07T18:14:39.704Z"
   },
   {
    "duration": 9,
    "start_time": "2023-02-07T18:17:22.616Z"
   },
   {
    "duration": 9,
    "start_time": "2023-02-07T18:17:42.598Z"
   },
   {
    "duration": 9,
    "start_time": "2023-02-07T18:18:07.008Z"
   },
   {
    "duration": 42,
    "start_time": "2023-02-07T18:18:21.449Z"
   },
   {
    "duration": 10,
    "start_time": "2023-02-07T18:18:25.490Z"
   },
   {
    "duration": 10,
    "start_time": "2023-02-07T18:19:10.646Z"
   },
   {
    "duration": 9,
    "start_time": "2023-02-07T18:20:12.847Z"
   },
   {
    "duration": 12,
    "start_time": "2023-02-07T18:22:20.090Z"
   },
   {
    "duration": 17,
    "start_time": "2023-02-07T18:22:53.397Z"
   },
   {
    "duration": 8,
    "start_time": "2023-02-07T18:23:47.546Z"
   },
   {
    "duration": 8,
    "start_time": "2023-02-07T18:24:58.646Z"
   },
   {
    "duration": 9,
    "start_time": "2023-02-07T18:25:09.165Z"
   },
   {
    "duration": 4,
    "start_time": "2023-02-07T18:25:26.550Z"
   },
   {
    "duration": 92,
    "start_time": "2023-02-07T18:27:48.945Z"
   },
   {
    "duration": 3,
    "start_time": "2023-02-07T18:28:51.806Z"
   },
   {
    "duration": 52,
    "start_time": "2023-02-07T18:28:51.813Z"
   },
   {
    "duration": 12,
    "start_time": "2023-02-07T18:28:51.866Z"
   },
   {
    "duration": 760,
    "start_time": "2023-02-07T18:28:51.879Z"
   },
   {
    "duration": 27,
    "start_time": "2023-02-07T18:28:52.641Z"
   },
   {
    "duration": 14,
    "start_time": "2023-02-07T18:28:52.669Z"
   },
   {
    "duration": 38,
    "start_time": "2023-02-07T18:28:52.685Z"
   },
   {
    "duration": 9,
    "start_time": "2023-02-07T18:28:52.725Z"
   },
   {
    "duration": 13,
    "start_time": "2023-02-07T18:28:52.735Z"
   },
   {
    "duration": 25,
    "start_time": "2023-02-07T18:28:57.280Z"
   },
   {
    "duration": 3,
    "start_time": "2023-02-07T18:29:52.309Z"
   },
   {
    "duration": 7,
    "start_time": "2023-02-07T18:32:01.253Z"
   },
   {
    "duration": 19,
    "start_time": "2023-02-07T18:32:15.531Z"
   },
   {
    "duration": 19,
    "start_time": "2023-02-07T18:32:21.074Z"
   },
   {
    "duration": 12,
    "start_time": "2023-02-07T18:34:03.565Z"
   },
   {
    "duration": 14,
    "start_time": "2023-02-07T18:34:21.746Z"
   },
   {
    "duration": 9,
    "start_time": "2023-02-07T18:35:28.350Z"
   },
   {
    "duration": 8,
    "start_time": "2023-02-07T18:35:39.033Z"
   },
   {
    "duration": 184,
    "start_time": "2023-02-07T18:35:46.509Z"
   },
   {
    "duration": 7,
    "start_time": "2023-02-07T18:36:28.292Z"
   },
   {
    "duration": 17,
    "start_time": "2023-02-07T18:41:27.970Z"
   },
   {
    "duration": 11,
    "start_time": "2023-02-07T18:42:51.668Z"
   },
   {
    "duration": 10,
    "start_time": "2023-02-07T18:43:08.614Z"
   },
   {
    "duration": 11,
    "start_time": "2023-02-07T18:43:26.198Z"
   },
   {
    "duration": 3,
    "start_time": "2023-02-07T18:43:56.103Z"
   },
   {
    "duration": 59,
    "start_time": "2023-02-07T18:43:56.108Z"
   },
   {
    "duration": 13,
    "start_time": "2023-02-07T18:43:56.169Z"
   },
   {
    "duration": 783,
    "start_time": "2023-02-07T18:43:56.183Z"
   },
   {
    "duration": 43,
    "start_time": "2023-02-07T18:43:56.969Z"
   },
   {
    "duration": 13,
    "start_time": "2023-02-07T18:43:57.014Z"
   },
   {
    "duration": 21,
    "start_time": "2023-02-07T18:43:57.029Z"
   },
   {
    "duration": 10,
    "start_time": "2023-02-07T18:43:57.052Z"
   },
   {
    "duration": 48,
    "start_time": "2023-02-07T18:43:57.063Z"
   },
   {
    "duration": 18,
    "start_time": "2023-02-07T18:43:57.113Z"
   },
   {
    "duration": 4,
    "start_time": "2023-02-07T18:43:57.133Z"
   },
   {
    "duration": 11,
    "start_time": "2023-02-07T18:43:57.139Z"
   },
   {
    "duration": 21,
    "start_time": "2023-02-07T18:43:57.152Z"
   },
   {
    "duration": 21,
    "start_time": "2023-02-07T18:44:19.664Z"
   },
   {
    "duration": 18,
    "start_time": "2023-02-07T18:44:25.628Z"
   },
   {
    "duration": 12,
    "start_time": "2023-02-07T18:44:39.808Z"
   },
   {
    "duration": 6,
    "start_time": "2023-02-07T18:44:41.737Z"
   },
   {
    "duration": 5,
    "start_time": "2023-02-07T18:44:45.748Z"
   },
   {
    "duration": 5,
    "start_time": "2023-02-07T18:45:11.344Z"
   },
   {
    "duration": 7,
    "start_time": "2023-02-07T18:45:19.489Z"
   },
   {
    "duration": 7,
    "start_time": "2023-02-07T18:46:27.126Z"
   },
   {
    "duration": 7,
    "start_time": "2023-02-07T18:46:58.216Z"
   },
   {
    "duration": 9,
    "start_time": "2023-02-07T18:47:18.338Z"
   },
   {
    "duration": 7,
    "start_time": "2023-02-07T18:47:25.406Z"
   },
   {
    "duration": 39,
    "start_time": "2023-02-07T18:47:40.258Z"
   },
   {
    "duration": 10,
    "start_time": "2023-02-07T18:47:45.087Z"
   },
   {
    "duration": 9,
    "start_time": "2023-02-07T18:47:58.555Z"
   },
   {
    "duration": 10,
    "start_time": "2023-02-07T18:48:15.783Z"
   },
   {
    "duration": 16,
    "start_time": "2023-02-07T18:48:23.358Z"
   },
   {
    "duration": 41,
    "start_time": "2023-02-07T18:48:31.992Z"
   },
   {
    "duration": 45,
    "start_time": "2023-02-07T18:48:46.977Z"
   },
   {
    "duration": 39,
    "start_time": "2023-02-07T18:48:51.303Z"
   },
   {
    "duration": 15,
    "start_time": "2023-02-07T18:48:55.797Z"
   },
   {
    "duration": 7,
    "start_time": "2023-02-07T18:49:01.257Z"
   },
   {
    "duration": 42,
    "start_time": "2023-02-07T18:49:15.444Z"
   },
   {
    "duration": 7,
    "start_time": "2023-02-07T18:49:27.849Z"
   },
   {
    "duration": 7,
    "start_time": "2023-02-07T18:50:04.646Z"
   },
   {
    "duration": 7,
    "start_time": "2023-02-07T18:50:11.741Z"
   },
   {
    "duration": 11,
    "start_time": "2023-02-07T18:50:43.254Z"
   },
   {
    "duration": 7,
    "start_time": "2023-02-07T18:50:50.524Z"
   },
   {
    "duration": 8,
    "start_time": "2023-02-07T18:51:04.947Z"
   },
   {
    "duration": 9,
    "start_time": "2023-02-07T18:51:12.220Z"
   },
   {
    "duration": 9,
    "start_time": "2023-02-07T18:51:32.260Z"
   },
   {
    "duration": 7,
    "start_time": "2023-02-07T18:51:46.104Z"
   },
   {
    "duration": 7,
    "start_time": "2023-02-07T20:01:49.299Z"
   },
   {
    "duration": 6,
    "start_time": "2023-02-07T20:02:23.990Z"
   },
   {
    "duration": 8,
    "start_time": "2023-02-07T20:02:29.489Z"
   },
   {
    "duration": 7,
    "start_time": "2023-02-07T20:03:00.487Z"
   },
   {
    "duration": 7,
    "start_time": "2023-02-07T20:03:22.869Z"
   },
   {
    "duration": 17,
    "start_time": "2023-02-07T20:04:16.484Z"
   },
   {
    "duration": 1111,
    "start_time": "2023-02-07T20:05:15.404Z"
   },
   {
    "duration": 61,
    "start_time": "2023-02-07T20:05:16.517Z"
   },
   {
    "duration": 13,
    "start_time": "2023-02-07T20:05:16.580Z"
   },
   {
    "duration": 826,
    "start_time": "2023-02-07T20:05:16.595Z"
   },
   {
    "duration": 27,
    "start_time": "2023-02-07T20:05:17.423Z"
   },
   {
    "duration": 12,
    "start_time": "2023-02-07T20:05:17.452Z"
   },
   {
    "duration": 52,
    "start_time": "2023-02-07T20:05:17.466Z"
   },
   {
    "duration": 8,
    "start_time": "2023-02-07T20:05:17.520Z"
   },
   {
    "duration": 14,
    "start_time": "2023-02-07T20:05:17.530Z"
   },
   {
    "duration": 17,
    "start_time": "2023-02-07T20:05:17.546Z"
   },
   {
    "duration": 4,
    "start_time": "2023-02-07T20:05:17.564Z"
   },
   {
    "duration": 49,
    "start_time": "2023-02-07T20:05:17.569Z"
   },
   {
    "duration": 20,
    "start_time": "2023-02-07T20:05:17.620Z"
   },
   {
    "duration": 19,
    "start_time": "2023-02-07T20:05:17.642Z"
   },
   {
    "duration": 17,
    "start_time": "2023-02-07T20:05:17.663Z"
   },
   {
    "duration": 12,
    "start_time": "2023-02-07T20:05:17.709Z"
   },
   {
    "duration": 8,
    "start_time": "2023-02-07T20:05:17.723Z"
   },
   {
    "duration": 8,
    "start_time": "2023-02-07T20:05:17.732Z"
   },
   {
    "duration": 7,
    "start_time": "2023-02-07T20:05:17.742Z"
   },
   {
    "duration": 7,
    "start_time": "2023-02-07T20:05:21.419Z"
   },
   {
    "duration": 7,
    "start_time": "2023-02-07T20:05:47.283Z"
   },
   {
    "duration": 7,
    "start_time": "2023-02-07T20:05:52.494Z"
   },
   {
    "duration": 7,
    "start_time": "2023-02-07T20:05:59.469Z"
   },
   {
    "duration": 7,
    "start_time": "2023-02-07T20:15:57.053Z"
   },
   {
    "duration": 6,
    "start_time": "2023-02-07T20:18:20.524Z"
   },
   {
    "duration": 7,
    "start_time": "2023-02-07T20:18:29.379Z"
   },
   {
    "duration": 58,
    "start_time": "2023-02-07T20:26:27.232Z"
   },
   {
    "duration": 42,
    "start_time": "2023-02-07T20:26:40.566Z"
   },
   {
    "duration": 43,
    "start_time": "2023-02-07T20:26:55.866Z"
   },
   {
    "duration": 3,
    "start_time": "2023-02-07T20:27:57.931Z"
   },
   {
    "duration": 3,
    "start_time": "2023-02-07T20:28:19.084Z"
   },
   {
    "duration": 7,
    "start_time": "2023-02-07T20:28:27.584Z"
   },
   {
    "duration": 7,
    "start_time": "2023-02-07T20:28:28.771Z"
   },
   {
    "duration": 7,
    "start_time": "2023-02-07T20:28:28.989Z"
   },
   {
    "duration": 7,
    "start_time": "2023-02-07T20:28:29.465Z"
   },
   {
    "duration": 21,
    "start_time": "2023-02-07T20:28:29.932Z"
   },
   {
    "duration": 3,
    "start_time": "2023-02-07T20:28:39.868Z"
   },
   {
    "duration": 16,
    "start_time": "2023-02-07T20:28:41.288Z"
   },
   {
    "duration": 18,
    "start_time": "2023-02-07T20:30:36.120Z"
   },
   {
    "duration": 21,
    "start_time": "2023-02-07T20:30:46.727Z"
   },
   {
    "duration": 17,
    "start_time": "2023-02-07T20:31:13.348Z"
   },
   {
    "duration": 20,
    "start_time": "2023-02-07T20:33:54.523Z"
   },
   {
    "duration": 113,
    "start_time": "2023-02-07T20:34:20.724Z"
   },
   {
    "duration": 16,
    "start_time": "2023-02-07T20:34:53.093Z"
   },
   {
    "duration": 2,
    "start_time": "2023-02-07T20:35:01.691Z"
   },
   {
    "duration": 85,
    "start_time": "2023-02-07T20:35:01.695Z"
   },
   {
    "duration": 13,
    "start_time": "2023-02-07T20:35:01.782Z"
   },
   {
    "duration": 748,
    "start_time": "2023-02-07T20:35:01.797Z"
   },
   {
    "duration": 26,
    "start_time": "2023-02-07T20:35:02.547Z"
   },
   {
    "duration": 12,
    "start_time": "2023-02-07T20:35:02.575Z"
   },
   {
    "duration": 20,
    "start_time": "2023-02-07T20:35:02.610Z"
   },
   {
    "duration": 11,
    "start_time": "2023-02-07T20:35:02.632Z"
   },
   {
    "duration": 12,
    "start_time": "2023-02-07T20:35:02.645Z"
   },
   {
    "duration": 62,
    "start_time": "2023-02-07T20:35:02.659Z"
   },
   {
    "duration": 4,
    "start_time": "2023-02-07T20:35:02.725Z"
   },
   {
    "duration": 11,
    "start_time": "2023-02-07T20:35:02.730Z"
   },
   {
    "duration": 121,
    "start_time": "2023-02-07T20:35:02.742Z"
   },
   {
    "duration": 20,
    "start_time": "2023-02-07T20:35:02.865Z"
   },
   {
    "duration": 18,
    "start_time": "2023-02-07T20:35:02.909Z"
   },
   {
    "duration": 12,
    "start_time": "2023-02-07T20:35:02.929Z"
   },
   {
    "duration": 8,
    "start_time": "2023-02-07T20:35:02.943Z"
   },
   {
    "duration": 18,
    "start_time": "2023-02-07T20:35:02.963Z"
   },
   {
    "duration": 35,
    "start_time": "2023-02-07T20:35:02.983Z"
   },
   {
    "duration": 22,
    "start_time": "2023-02-07T20:35:03.020Z"
   },
   {
    "duration": 33,
    "start_time": "2023-02-07T20:35:03.044Z"
   },
   {
    "duration": 12,
    "start_time": "2023-02-07T20:35:03.078Z"
   },
   {
    "duration": 20,
    "start_time": "2023-02-07T20:35:03.091Z"
   },
   {
    "duration": 21,
    "start_time": "2023-02-07T20:35:03.112Z"
   },
   {
    "duration": 19,
    "start_time": "2023-02-07T20:35:03.134Z"
   },
   {
    "duration": 14,
    "start_time": "2023-02-07T20:35:03.154Z"
   },
   {
    "duration": 51,
    "start_time": "2023-02-07T20:35:03.169Z"
   },
   {
    "duration": 24,
    "start_time": "2023-02-07T20:35:05.251Z"
   },
   {
    "duration": 5,
    "start_time": "2023-02-07T20:35:08.168Z"
   },
   {
    "duration": 13,
    "start_time": "2023-02-07T20:35:12.560Z"
   },
   {
    "duration": 662,
    "start_time": "2023-02-07T20:35:58.483Z"
   },
   {
    "duration": 19,
    "start_time": "2023-02-07T20:36:16.673Z"
   },
   {
    "duration": 9,
    "start_time": "2023-02-07T20:36:42.398Z"
   },
   {
    "duration": 9,
    "start_time": "2023-02-07T20:37:00.034Z"
   },
   {
    "duration": 672,
    "start_time": "2023-02-07T20:37:25.821Z"
   },
   {
    "duration": 618,
    "start_time": "2023-02-07T20:39:28.782Z"
   },
   {
    "duration": 572,
    "start_time": "2023-02-07T20:40:01.253Z"
   },
   {
    "duration": 680,
    "start_time": "2023-02-07T20:40:34.215Z"
   },
   {
    "duration": 12,
    "start_time": "2023-02-07T20:40:50.970Z"
   },
   {
    "duration": 15,
    "start_time": "2023-02-07T20:41:32.403Z"
   },
   {
    "duration": 1169,
    "start_time": "2023-02-07T20:41:50.328Z"
   },
   {
    "duration": 60,
    "start_time": "2023-02-07T20:41:51.499Z"
   },
   {
    "duration": 13,
    "start_time": "2023-02-07T20:41:51.560Z"
   },
   {
    "duration": 754,
    "start_time": "2023-02-07T20:41:51.575Z"
   },
   {
    "duration": 29,
    "start_time": "2023-02-07T20:41:52.331Z"
   },
   {
    "duration": 14,
    "start_time": "2023-02-07T20:41:52.362Z"
   },
   {
    "duration": 45,
    "start_time": "2023-02-07T20:41:52.378Z"
   },
   {
    "duration": 8,
    "start_time": "2023-02-07T20:41:52.424Z"
   },
   {
    "duration": 14,
    "start_time": "2023-02-07T20:41:52.433Z"
   },
   {
    "duration": 17,
    "start_time": "2023-02-07T20:41:52.449Z"
   },
   {
    "duration": 3,
    "start_time": "2023-02-07T20:41:52.510Z"
   },
   {
    "duration": 12,
    "start_time": "2023-02-07T20:41:52.515Z"
   },
   {
    "duration": 21,
    "start_time": "2023-02-07T20:41:52.528Z"
   },
   {
    "duration": 19,
    "start_time": "2023-02-07T20:41:52.550Z"
   },
   {
    "duration": 52,
    "start_time": "2023-02-07T20:41:52.571Z"
   },
   {
    "duration": 11,
    "start_time": "2023-02-07T20:41:52.624Z"
   },
   {
    "duration": 11,
    "start_time": "2023-02-07T20:41:52.637Z"
   },
   {
    "duration": 7,
    "start_time": "2023-02-07T20:41:52.650Z"
   },
   {
    "duration": 9,
    "start_time": "2023-02-07T20:41:52.658Z"
   },
   {
    "duration": 44,
    "start_time": "2023-02-07T20:41:52.668Z"
   },
   {
    "duration": 20,
    "start_time": "2023-02-07T20:41:52.713Z"
   },
   {
    "duration": 10,
    "start_time": "2023-02-07T20:41:52.735Z"
   },
   {
    "duration": 17,
    "start_time": "2023-02-07T20:41:52.747Z"
   },
   {
    "duration": 14,
    "start_time": "2023-02-07T20:41:52.766Z"
   },
   {
    "duration": 42,
    "start_time": "2023-02-07T20:41:52.782Z"
   },
   {
    "duration": 13,
    "start_time": "2023-02-07T20:41:52.826Z"
   },
   {
    "duration": 15,
    "start_time": "2023-02-07T20:41:52.840Z"
   },
   {
    "duration": 57,
    "start_time": "2023-02-07T20:41:52.859Z"
   },
   {
    "duration": 5,
    "start_time": "2023-02-07T20:41:52.918Z"
   },
   {
    "duration": 16,
    "start_time": "2023-02-07T20:41:52.924Z"
   },
   {
    "duration": 18,
    "start_time": "2023-02-07T20:41:52.941Z"
   },
   {
    "duration": 7,
    "start_time": "2023-02-07T20:41:52.960Z"
   },
   {
    "duration": 55,
    "start_time": "2023-02-07T20:41:52.969Z"
   },
   {
    "duration": 136,
    "start_time": "2023-02-07T20:41:53.026Z"
   },
   {
    "duration": 130,
    "start_time": "2023-02-07T20:41:53.163Z"
   },
   {
    "duration": 17,
    "start_time": "2023-02-07T20:41:53.295Z"
   },
   {
    "duration": 14,
    "start_time": "2023-02-07T20:41:53.313Z"
   },
   {
    "duration": 244,
    "start_time": "2023-02-07T20:41:53.328Z"
   },
   {
    "duration": 37,
    "start_time": "2023-02-07T20:41:53.573Z"
   },
   {
    "duration": 433,
    "start_time": "2023-02-07T20:41:53.611Z"
   },
   {
    "duration": 8,
    "start_time": "2023-02-07T20:41:54.045Z"
   },
   {
    "duration": 294,
    "start_time": "2023-02-07T20:41:54.054Z"
   },
   {
    "duration": 227,
    "start_time": "2023-02-07T20:41:54.350Z"
   },
   {
    "duration": 510,
    "start_time": "2023-02-07T20:41:54.578Z"
   },
   {
    "duration": 7,
    "start_time": "2023-02-07T20:41:55.089Z"
   },
   {
    "duration": 775,
    "start_time": "2023-02-07T20:41:55.098Z"
   },
   {
    "duration": 0,
    "start_time": "2023-02-07T20:41:55.875Z"
   },
   {
    "duration": 0,
    "start_time": "2023-02-07T20:41:55.877Z"
   },
   {
    "duration": 0,
    "start_time": "2023-02-07T20:41:55.878Z"
   },
   {
    "duration": 0,
    "start_time": "2023-02-07T20:41:55.880Z"
   },
   {
    "duration": 0,
    "start_time": "2023-02-07T20:41:55.881Z"
   },
   {
    "duration": 0,
    "start_time": "2023-02-07T20:41:55.882Z"
   },
   {
    "duration": 0,
    "start_time": "2023-02-07T20:41:55.884Z"
   },
   {
    "duration": 0,
    "start_time": "2023-02-07T20:41:55.885Z"
   },
   {
    "duration": 0,
    "start_time": "2023-02-07T20:41:55.886Z"
   },
   {
    "duration": 0,
    "start_time": "2023-02-07T20:41:55.888Z"
   },
   {
    "duration": 0,
    "start_time": "2023-02-07T20:41:55.890Z"
   },
   {
    "duration": 1,
    "start_time": "2023-02-07T20:41:55.891Z"
   },
   {
    "duration": 0,
    "start_time": "2023-02-07T20:41:55.893Z"
   },
   {
    "duration": 0,
    "start_time": "2023-02-07T20:41:55.894Z"
   },
   {
    "duration": 0,
    "start_time": "2023-02-07T20:41:55.895Z"
   },
   {
    "duration": 0,
    "start_time": "2023-02-07T20:41:55.897Z"
   },
   {
    "duration": 0,
    "start_time": "2023-02-07T20:41:55.898Z"
   },
   {
    "duration": 0,
    "start_time": "2023-02-07T20:41:55.900Z"
   },
   {
    "duration": 0,
    "start_time": "2023-02-07T20:41:55.901Z"
   },
   {
    "duration": 0,
    "start_time": "2023-02-07T20:41:55.902Z"
   },
   {
    "duration": 16,
    "start_time": "2023-02-07T20:42:09.522Z"
   },
   {
    "duration": 6,
    "start_time": "2023-02-07T20:45:35.892Z"
   },
   {
    "duration": 7,
    "start_time": "2023-02-07T20:45:38.587Z"
   },
   {
    "duration": 119,
    "start_time": "2023-02-07T20:45:39.556Z"
   },
   {
    "duration": 119,
    "start_time": "2023-02-07T20:45:40.472Z"
   },
   {
    "duration": 8,
    "start_time": "2023-02-07T20:45:41.870Z"
   },
   {
    "duration": 7,
    "start_time": "2023-02-07T20:45:45.181Z"
   },
   {
    "duration": 221,
    "start_time": "2023-02-07T20:45:46.163Z"
   },
   {
    "duration": 1113,
    "start_time": "2023-02-07T20:46:50.031Z"
   },
   {
    "duration": 62,
    "start_time": "2023-02-07T20:46:51.146Z"
   },
   {
    "duration": 16,
    "start_time": "2023-02-07T20:46:51.210Z"
   },
   {
    "duration": 781,
    "start_time": "2023-02-07T20:46:51.228Z"
   },
   {
    "duration": 29,
    "start_time": "2023-02-07T20:46:52.012Z"
   },
   {
    "duration": 13,
    "start_time": "2023-02-07T20:46:52.042Z"
   },
   {
    "duration": 24,
    "start_time": "2023-02-07T20:46:52.056Z"
   },
   {
    "duration": 37,
    "start_time": "2023-02-07T20:46:52.081Z"
   },
   {
    "duration": 11,
    "start_time": "2023-02-07T20:46:52.120Z"
   },
   {
    "duration": 21,
    "start_time": "2023-02-07T20:46:52.134Z"
   },
   {
    "duration": 4,
    "start_time": "2023-02-07T20:46:52.156Z"
   },
   {
    "duration": 49,
    "start_time": "2023-02-07T20:46:52.161Z"
   },
   {
    "duration": 20,
    "start_time": "2023-02-07T20:46:52.212Z"
   },
   {
    "duration": 32,
    "start_time": "2023-02-07T20:46:52.234Z"
   },
   {
    "duration": 21,
    "start_time": "2023-02-07T20:46:52.267Z"
   },
   {
    "duration": 29,
    "start_time": "2023-02-07T20:46:52.289Z"
   },
   {
    "duration": 9,
    "start_time": "2023-02-07T20:46:52.319Z"
   },
   {
    "duration": 8,
    "start_time": "2023-02-07T20:46:52.329Z"
   },
   {
    "duration": 14,
    "start_time": "2023-02-07T20:46:52.339Z"
   },
   {
    "duration": 9,
    "start_time": "2023-02-07T20:46:52.354Z"
   },
   {
    "duration": 47,
    "start_time": "2023-02-07T20:46:52.365Z"
   },
   {
    "duration": 6,
    "start_time": "2023-02-07T20:46:52.414Z"
   },
   {
    "duration": 18,
    "start_time": "2023-02-07T20:46:52.421Z"
   },
   {
    "duration": 15,
    "start_time": "2023-02-07T20:46:52.440Z"
   },
   {
    "duration": 19,
    "start_time": "2023-02-07T20:46:52.457Z"
   },
   {
    "duration": 14,
    "start_time": "2023-02-07T20:46:52.509Z"
   },
   {
    "duration": 15,
    "start_time": "2023-02-07T20:46:52.524Z"
   },
   {
    "duration": 25,
    "start_time": "2023-02-07T20:46:52.543Z"
   },
   {
    "duration": 5,
    "start_time": "2023-02-07T20:46:52.570Z"
   },
   {
    "duration": 44,
    "start_time": "2023-02-07T20:46:52.576Z"
   },
   {
    "duration": 17,
    "start_time": "2023-02-07T20:46:52.622Z"
   },
   {
    "duration": 7,
    "start_time": "2023-02-07T20:46:52.640Z"
   },
   {
    "duration": 10,
    "start_time": "2023-02-07T20:46:52.649Z"
   },
   {
    "duration": 159,
    "start_time": "2023-02-07T20:46:52.660Z"
   },
   {
    "duration": 128,
    "start_time": "2023-02-07T20:46:52.821Z"
   },
   {
    "duration": 11,
    "start_time": "2023-02-07T20:46:52.951Z"
   },
   {
    "duration": 8,
    "start_time": "2023-02-07T20:46:52.964Z"
   },
   {
    "duration": 267,
    "start_time": "2023-02-07T20:46:52.974Z"
   },
   {
    "duration": 41,
    "start_time": "2023-02-07T20:46:53.242Z"
   },
   {
    "duration": 0,
    "start_time": "2023-02-07T20:46:53.285Z"
   },
   {
    "duration": 0,
    "start_time": "2023-02-07T20:46:53.286Z"
   },
   {
    "duration": 0,
    "start_time": "2023-02-07T20:46:53.288Z"
   },
   {
    "duration": 0,
    "start_time": "2023-02-07T20:46:53.289Z"
   },
   {
    "duration": 0,
    "start_time": "2023-02-07T20:46:53.291Z"
   },
   {
    "duration": 0,
    "start_time": "2023-02-07T20:46:53.292Z"
   },
   {
    "duration": 0,
    "start_time": "2023-02-07T20:46:53.293Z"
   },
   {
    "duration": 0,
    "start_time": "2023-02-07T20:46:53.294Z"
   },
   {
    "duration": 0,
    "start_time": "2023-02-07T20:46:53.296Z"
   },
   {
    "duration": 0,
    "start_time": "2023-02-07T20:46:53.297Z"
   },
   {
    "duration": 1,
    "start_time": "2023-02-07T20:46:53.298Z"
   },
   {
    "duration": 0,
    "start_time": "2023-02-07T20:46:53.300Z"
   },
   {
    "duration": 0,
    "start_time": "2023-02-07T20:46:53.301Z"
   },
   {
    "duration": 0,
    "start_time": "2023-02-07T20:46:53.302Z"
   },
   {
    "duration": 0,
    "start_time": "2023-02-07T20:46:53.310Z"
   },
   {
    "duration": 0,
    "start_time": "2023-02-07T20:46:53.311Z"
   },
   {
    "duration": 0,
    "start_time": "2023-02-07T20:46:53.313Z"
   },
   {
    "duration": 0,
    "start_time": "2023-02-07T20:46:53.314Z"
   },
   {
    "duration": 0,
    "start_time": "2023-02-07T20:46:53.315Z"
   },
   {
    "duration": 0,
    "start_time": "2023-02-07T20:46:53.316Z"
   },
   {
    "duration": 0,
    "start_time": "2023-02-07T20:46:53.317Z"
   },
   {
    "duration": 0,
    "start_time": "2023-02-07T20:46:53.318Z"
   },
   {
    "duration": 0,
    "start_time": "2023-02-07T20:46:53.319Z"
   },
   {
    "duration": 0,
    "start_time": "2023-02-07T20:46:53.320Z"
   },
   {
    "duration": 0,
    "start_time": "2023-02-07T20:46:53.321Z"
   },
   {
    "duration": 0,
    "start_time": "2023-02-07T20:46:53.322Z"
   },
   {
    "duration": 0,
    "start_time": "2023-02-07T20:46:53.443Z"
   },
   {
    "duration": 22,
    "start_time": "2023-02-07T20:48:06.569Z"
   },
   {
    "duration": 22,
    "start_time": "2023-02-07T20:49:00.419Z"
   },
   {
    "duration": 4,
    "start_time": "2023-02-07T20:49:22.353Z"
   },
   {
    "duration": 54,
    "start_time": "2023-02-07T20:49:22.363Z"
   },
   {
    "duration": 13,
    "start_time": "2023-02-07T20:49:22.419Z"
   },
   {
    "duration": 796,
    "start_time": "2023-02-07T20:49:22.434Z"
   },
   {
    "duration": 27,
    "start_time": "2023-02-07T20:49:23.231Z"
   },
   {
    "duration": 13,
    "start_time": "2023-02-07T20:49:23.260Z"
   },
   {
    "duration": 50,
    "start_time": "2023-02-07T20:49:23.274Z"
   },
   {
    "duration": 8,
    "start_time": "2023-02-07T20:49:23.326Z"
   },
   {
    "duration": 10,
    "start_time": "2023-02-07T20:49:23.336Z"
   },
   {
    "duration": 17,
    "start_time": "2023-02-07T20:49:23.348Z"
   },
   {
    "duration": 45,
    "start_time": "2023-02-07T20:49:23.367Z"
   },
   {
    "duration": 9,
    "start_time": "2023-02-07T20:49:23.413Z"
   },
   {
    "duration": 20,
    "start_time": "2023-02-07T20:49:23.424Z"
   },
   {
    "duration": 20,
    "start_time": "2023-02-07T20:49:23.445Z"
   },
   {
    "duration": 56,
    "start_time": "2023-02-07T20:49:23.468Z"
   },
   {
    "duration": 11,
    "start_time": "2023-02-07T20:49:23.526Z"
   },
   {
    "duration": 10,
    "start_time": "2023-02-07T20:49:23.539Z"
   },
   {
    "duration": 7,
    "start_time": "2023-02-07T20:49:23.550Z"
   },
   {
    "duration": 6,
    "start_time": "2023-02-07T20:49:23.559Z"
   },
   {
    "duration": 6,
    "start_time": "2023-02-07T20:49:23.567Z"
   },
   {
    "duration": 18,
    "start_time": "2023-02-07T20:49:23.610Z"
   },
   {
    "duration": 3,
    "start_time": "2023-02-07T20:49:23.629Z"
   },
   {
    "duration": 14,
    "start_time": "2023-02-07T20:49:23.634Z"
   },
   {
    "duration": 16,
    "start_time": "2023-02-07T20:49:23.649Z"
   },
   {
    "duration": 62,
    "start_time": "2023-02-07T20:49:23.666Z"
   },
   {
    "duration": 13,
    "start_time": "2023-02-07T20:49:23.730Z"
   },
   {
    "duration": 15,
    "start_time": "2023-02-07T20:49:23.745Z"
   },
   {
    "duration": 53,
    "start_time": "2023-02-07T20:49:23.762Z"
   },
   {
    "duration": 4,
    "start_time": "2023-02-07T20:49:23.817Z"
   },
   {
    "duration": 14,
    "start_time": "2023-02-07T20:49:23.823Z"
   },
   {
    "duration": 16,
    "start_time": "2023-02-07T20:49:23.838Z"
   },
   {
    "duration": 7,
    "start_time": "2023-02-07T20:49:23.855Z"
   },
   {
    "duration": 51,
    "start_time": "2023-02-07T20:49:23.864Z"
   },
   {
    "duration": 134,
    "start_time": "2023-02-07T20:49:23.916Z"
   },
   {
    "duration": 123,
    "start_time": "2023-02-07T20:49:24.052Z"
   },
   {
    "duration": 8,
    "start_time": "2023-02-07T20:49:24.177Z"
   },
   {
    "duration": 27,
    "start_time": "2023-02-07T20:49:24.187Z"
   },
   {
    "duration": 236,
    "start_time": "2023-02-07T20:49:24.215Z"
   },
   {
    "duration": 24,
    "start_time": "2023-02-07T20:49:27.002Z"
   },
   {
    "duration": 3,
    "start_time": "2023-02-07T20:50:38.294Z"
   },
   {
    "duration": 53,
    "start_time": "2023-02-07T20:50:38.303Z"
   },
   {
    "duration": 13,
    "start_time": "2023-02-07T20:50:38.358Z"
   },
   {
    "duration": 757,
    "start_time": "2023-02-07T20:50:38.372Z"
   },
   {
    "duration": 26,
    "start_time": "2023-02-07T20:50:39.131Z"
   },
   {
    "duration": 14,
    "start_time": "2023-02-07T20:50:39.159Z"
   },
   {
    "duration": 51,
    "start_time": "2023-02-07T20:50:39.174Z"
   },
   {
    "duration": 8,
    "start_time": "2023-02-07T20:50:39.227Z"
   },
   {
    "duration": 9,
    "start_time": "2023-02-07T20:50:39.237Z"
   },
   {
    "duration": 17,
    "start_time": "2023-02-07T20:50:39.247Z"
   },
   {
    "duration": 3,
    "start_time": "2023-02-07T20:50:39.266Z"
   },
   {
    "duration": 9,
    "start_time": "2023-02-07T20:50:39.311Z"
   },
   {
    "duration": 117,
    "start_time": "2023-02-07T20:50:39.322Z"
   },
   {
    "duration": 18,
    "start_time": "2023-02-07T20:50:39.441Z"
   },
   {
    "duration": 21,
    "start_time": "2023-02-07T20:50:39.461Z"
   },
   {
    "duration": 14,
    "start_time": "2023-02-07T20:50:39.510Z"
   },
   {
    "duration": 8,
    "start_time": "2023-02-07T20:50:39.527Z"
   },
   {
    "duration": 8,
    "start_time": "2023-02-07T20:50:39.537Z"
   },
   {
    "duration": 9,
    "start_time": "2023-02-07T20:50:39.546Z"
   },
   {
    "duration": 7,
    "start_time": "2023-02-07T20:50:39.557Z"
   },
   {
    "duration": 18,
    "start_time": "2023-02-07T20:50:39.611Z"
   },
   {
    "duration": 3,
    "start_time": "2023-02-07T20:50:39.631Z"
   },
   {
    "duration": 13,
    "start_time": "2023-02-07T20:50:39.636Z"
   },
   {
    "duration": 15,
    "start_time": "2023-02-07T20:50:39.650Z"
   },
   {
    "duration": 59,
    "start_time": "2023-02-07T20:50:39.667Z"
   },
   {
    "duration": 14,
    "start_time": "2023-02-07T20:50:39.728Z"
   },
   {
    "duration": 15,
    "start_time": "2023-02-07T20:50:39.743Z"
   },
   {
    "duration": 62,
    "start_time": "2023-02-07T20:50:39.759Z"
   },
   {
    "duration": 4,
    "start_time": "2023-02-07T20:50:39.824Z"
   },
   {
    "duration": 16,
    "start_time": "2023-02-07T20:50:39.829Z"
   },
   {
    "duration": 15,
    "start_time": "2023-02-07T20:50:39.847Z"
   },
   {
    "duration": 6,
    "start_time": "2023-02-07T20:50:39.863Z"
   },
   {
    "duration": 45,
    "start_time": "2023-02-07T20:50:39.870Z"
   },
   {
    "duration": 134,
    "start_time": "2023-02-07T20:50:39.916Z"
   },
   {
    "duration": 121,
    "start_time": "2023-02-07T20:50:40.052Z"
   },
   {
    "duration": 9,
    "start_time": "2023-02-07T20:50:40.174Z"
   },
   {
    "duration": 35,
    "start_time": "2023-02-07T20:50:40.185Z"
   },
   {
    "duration": 246,
    "start_time": "2023-02-07T20:50:40.222Z"
   },
   {
    "duration": 23,
    "start_time": "2023-02-07T20:50:47.618Z"
   },
   {
    "duration": 324,
    "start_time": "2023-02-07T20:51:06.687Z"
   },
   {
    "duration": 335,
    "start_time": "2023-02-07T20:51:18.060Z"
   },
   {
    "duration": 44,
    "start_time": "2023-02-07T20:52:35.042Z"
   },
   {
    "duration": 322,
    "start_time": "2023-02-07T20:52:45.761Z"
   },
   {
    "duration": 315,
    "start_time": "2023-02-07T20:53:16.895Z"
   },
   {
    "duration": 379,
    "start_time": "2023-02-07T20:53:24.309Z"
   },
   {
    "duration": 6,
    "start_time": "2023-02-07T20:55:29.052Z"
   },
   {
    "duration": 237,
    "start_time": "2023-02-07T20:56:15.593Z"
   },
   {
    "duration": 34,
    "start_time": "2023-02-07T21:07:29.169Z"
   },
   {
    "duration": 955,
    "start_time": "2023-02-07T21:09:46.210Z"
   },
   {
    "duration": 880,
    "start_time": "2023-02-07T21:10:59.757Z"
   },
   {
    "duration": 369,
    "start_time": "2023-02-07T21:11:19.749Z"
   },
   {
    "duration": 6960,
    "start_time": "2023-02-07T21:11:39.994Z"
   },
   {
    "duration": 171,
    "start_time": "2023-02-07T21:13:38.192Z"
   },
   {
    "duration": 161,
    "start_time": "2023-02-07T21:13:56.444Z"
   },
   {
    "duration": 155,
    "start_time": "2023-02-07T21:14:47.636Z"
   },
   {
    "duration": 168,
    "start_time": "2023-02-07T21:15:11.353Z"
   },
   {
    "duration": 153,
    "start_time": "2023-02-07T21:15:20.054Z"
   },
   {
    "duration": 147,
    "start_time": "2023-02-07T21:16:07.144Z"
   },
   {
    "duration": 161,
    "start_time": "2023-02-07T21:16:50.045Z"
   },
   {
    "duration": 143,
    "start_time": "2023-02-07T21:18:56.837Z"
   },
   {
    "duration": 168,
    "start_time": "2023-02-07T21:19:13.139Z"
   },
   {
    "duration": 136,
    "start_time": "2023-02-07T21:19:30.964Z"
   },
   {
    "duration": 135,
    "start_time": "2023-02-07T21:19:38.048Z"
   },
   {
    "duration": 47,
    "start_time": "2023-02-07T21:20:04.578Z"
   },
   {
    "duration": 42,
    "start_time": "2023-02-07T21:20:10.213Z"
   },
   {
    "duration": 159,
    "start_time": "2023-02-07T21:20:21.464Z"
   },
   {
    "duration": 159,
    "start_time": "2023-02-07T21:20:44.839Z"
   },
   {
    "duration": 1449,
    "start_time": "2023-02-07T21:24:40.406Z"
   },
   {
    "duration": 1712,
    "start_time": "2023-02-07T21:25:04.280Z"
   },
   {
    "duration": 28,
    "start_time": "2023-02-07T21:26:17.907Z"
   },
   {
    "duration": 36,
    "start_time": "2023-02-07T21:26:40.578Z"
   },
   {
    "duration": 103,
    "start_time": "2023-02-07T21:27:28.699Z"
   },
   {
    "duration": 101,
    "start_time": "2023-02-07T21:27:45.929Z"
   },
   {
    "duration": 152,
    "start_time": "2023-02-07T21:27:59.733Z"
   },
   {
    "duration": 156,
    "start_time": "2023-02-07T21:28:53.409Z"
   },
   {
    "duration": 35,
    "start_time": "2023-02-07T21:29:11.634Z"
   },
   {
    "duration": 236,
    "start_time": "2023-02-07T21:30:03.574Z"
   },
   {
    "duration": 509,
    "start_time": "2023-02-07T21:30:12.837Z"
   },
   {
    "duration": 7,
    "start_time": "2023-02-07T21:32:39.265Z"
   },
   {
    "duration": 35,
    "start_time": "2023-02-07T21:33:03.082Z"
   },
   {
    "duration": 1293,
    "start_time": "2023-02-08T04:17:20.652Z"
   },
   {
    "duration": 215,
    "start_time": "2023-02-08T04:17:21.948Z"
   },
   {
    "duration": 12,
    "start_time": "2023-02-08T04:17:22.165Z"
   },
   {
    "duration": 739,
    "start_time": "2023-02-08T04:17:22.179Z"
   },
   {
    "duration": 32,
    "start_time": "2023-02-08T04:17:22.919Z"
   },
   {
    "duration": 13,
    "start_time": "2023-02-08T04:17:22.952Z"
   },
   {
    "duration": 24,
    "start_time": "2023-02-08T04:17:22.967Z"
   },
   {
    "duration": 9,
    "start_time": "2023-02-08T04:17:22.993Z"
   },
   {
    "duration": 15,
    "start_time": "2023-02-08T04:17:23.004Z"
   },
   {
    "duration": 19,
    "start_time": "2023-02-08T04:17:23.048Z"
   },
   {
    "duration": 5,
    "start_time": "2023-02-08T04:17:23.068Z"
   },
   {
    "duration": 8,
    "start_time": "2023-02-08T04:17:23.074Z"
   },
   {
    "duration": 20,
    "start_time": "2023-02-08T04:17:23.084Z"
   },
   {
    "duration": 45,
    "start_time": "2023-02-08T04:17:23.105Z"
   },
   {
    "duration": 17,
    "start_time": "2023-02-08T04:17:23.152Z"
   },
   {
    "duration": 12,
    "start_time": "2023-02-08T04:17:23.170Z"
   },
   {
    "duration": 8,
    "start_time": "2023-02-08T04:17:23.183Z"
   },
   {
    "duration": 8,
    "start_time": "2023-02-08T04:17:23.192Z"
   },
   {
    "duration": 7,
    "start_time": "2023-02-08T04:17:23.202Z"
   },
   {
    "duration": 39,
    "start_time": "2023-02-08T04:17:23.211Z"
   },
   {
    "duration": 23,
    "start_time": "2023-02-08T04:17:23.251Z"
   },
   {
    "duration": 3,
    "start_time": "2023-02-08T04:17:23.276Z"
   },
   {
    "duration": 14,
    "start_time": "2023-02-08T04:17:23.281Z"
   },
   {
    "duration": 15,
    "start_time": "2023-02-08T04:17:23.297Z"
   },
   {
    "duration": 43,
    "start_time": "2023-02-08T04:17:23.313Z"
   },
   {
    "duration": 13,
    "start_time": "2023-02-08T04:17:23.357Z"
   },
   {
    "duration": 19,
    "start_time": "2023-02-08T04:17:23.371Z"
   },
   {
    "duration": 24,
    "start_time": "2023-02-08T04:17:23.394Z"
   },
   {
    "duration": 32,
    "start_time": "2023-02-08T04:17:23.420Z"
   },
   {
    "duration": 22,
    "start_time": "2023-02-08T04:17:23.453Z"
   },
   {
    "duration": 21,
    "start_time": "2023-02-08T04:17:23.477Z"
   },
   {
    "duration": 7,
    "start_time": "2023-02-08T04:17:23.499Z"
   },
   {
    "duration": 12,
    "start_time": "2023-02-08T04:17:23.507Z"
   },
   {
    "duration": 117,
    "start_time": "2023-02-08T04:17:23.521Z"
   },
   {
    "duration": 118,
    "start_time": "2023-02-08T04:17:23.639Z"
   },
   {
    "duration": 9,
    "start_time": "2023-02-08T04:17:23.759Z"
   },
   {
    "duration": 11,
    "start_time": "2023-02-08T04:17:23.769Z"
   },
   {
    "duration": 245,
    "start_time": "2023-02-08T04:17:23.782Z"
   },
   {
    "duration": 32,
    "start_time": "2023-02-08T04:17:24.028Z"
   },
   {
    "duration": 516,
    "start_time": "2023-02-08T04:17:24.062Z"
   },
   {
    "duration": 6,
    "start_time": "2023-02-08T04:17:24.579Z"
   },
   {
    "duration": 257,
    "start_time": "2023-02-08T04:17:24.587Z"
   },
   {
    "duration": 255,
    "start_time": "2023-02-08T04:17:24.846Z"
   },
   {
    "duration": 507,
    "start_time": "2023-02-08T04:17:25.103Z"
   },
   {
    "duration": 6,
    "start_time": "2023-02-08T04:17:25.612Z"
   },
   {
    "duration": 75,
    "start_time": "2023-02-08T04:17:30.713Z"
   },
   {
    "duration": 1170,
    "start_time": "2023-02-08T04:18:47.368Z"
   },
   {
    "duration": 64,
    "start_time": "2023-02-08T04:18:48.540Z"
   },
   {
    "duration": 14,
    "start_time": "2023-02-08T04:18:48.606Z"
   },
   {
    "duration": 721,
    "start_time": "2023-02-08T04:18:48.622Z"
   },
   {
    "duration": 28,
    "start_time": "2023-02-08T04:18:49.344Z"
   },
   {
    "duration": 13,
    "start_time": "2023-02-08T04:18:49.374Z"
   },
   {
    "duration": 26,
    "start_time": "2023-02-08T04:18:49.389Z"
   },
   {
    "duration": 33,
    "start_time": "2023-02-08T04:18:49.417Z"
   },
   {
    "duration": 13,
    "start_time": "2023-02-08T04:18:49.451Z"
   },
   {
    "duration": 15,
    "start_time": "2023-02-08T04:18:49.466Z"
   },
   {
    "duration": 3,
    "start_time": "2023-02-08T04:18:49.483Z"
   },
   {
    "duration": 9,
    "start_time": "2023-02-08T04:18:49.487Z"
   },
   {
    "duration": 19,
    "start_time": "2023-02-08T04:18:49.497Z"
   },
   {
    "duration": 47,
    "start_time": "2023-02-08T04:18:49.518Z"
   },
   {
    "duration": 17,
    "start_time": "2023-02-08T04:18:49.566Z"
   },
   {
    "duration": 12,
    "start_time": "2023-02-08T04:18:49.585Z"
   },
   {
    "duration": 8,
    "start_time": "2023-02-08T04:18:49.598Z"
   },
   {
    "duration": 9,
    "start_time": "2023-02-08T04:18:49.607Z"
   },
   {
    "duration": 37,
    "start_time": "2023-02-08T04:18:49.618Z"
   },
   {
    "duration": 9,
    "start_time": "2023-02-08T04:18:49.656Z"
   },
   {
    "duration": 23,
    "start_time": "2023-02-08T04:18:49.666Z"
   },
   {
    "duration": 7,
    "start_time": "2023-02-08T04:18:49.690Z"
   },
   {
    "duration": 24,
    "start_time": "2023-02-08T04:18:49.698Z"
   },
   {
    "duration": 28,
    "start_time": "2023-02-08T04:18:49.724Z"
   },
   {
    "duration": 20,
    "start_time": "2023-02-08T04:18:49.754Z"
   },
   {
    "duration": 14,
    "start_time": "2023-02-08T04:18:49.775Z"
   },
   {
    "duration": 15,
    "start_time": "2023-02-08T04:18:49.790Z"
   },
   {
    "duration": 43,
    "start_time": "2023-02-08T04:18:49.809Z"
   },
   {
    "duration": 5,
    "start_time": "2023-02-08T04:18:49.853Z"
   },
   {
    "duration": 17,
    "start_time": "2023-02-08T04:18:49.860Z"
   },
   {
    "duration": 16,
    "start_time": "2023-02-08T04:18:49.878Z"
   },
   {
    "duration": 7,
    "start_time": "2023-02-08T04:18:49.895Z"
   },
   {
    "duration": 10,
    "start_time": "2023-02-08T04:18:49.903Z"
   },
   {
    "duration": 152,
    "start_time": "2023-02-08T04:18:49.914Z"
   },
   {
    "duration": 134,
    "start_time": "2023-02-08T04:18:50.068Z"
   },
   {
    "duration": 9,
    "start_time": "2023-02-08T04:18:50.204Z"
   },
   {
    "duration": 8,
    "start_time": "2023-02-08T04:18:50.214Z"
   },
   {
    "duration": 240,
    "start_time": "2023-02-08T04:18:50.223Z"
   },
   {
    "duration": 23,
    "start_time": "2023-02-08T04:18:50.465Z"
   },
   {
    "duration": 405,
    "start_time": "2023-02-08T04:18:50.489Z"
   },
   {
    "duration": 6,
    "start_time": "2023-02-08T04:18:50.896Z"
   },
   {
    "duration": 257,
    "start_time": "2023-02-08T04:18:50.904Z"
   },
   {
    "duration": 244,
    "start_time": "2023-02-08T04:18:51.163Z"
   },
   {
    "duration": 528,
    "start_time": "2023-02-08T04:18:51.409Z"
   },
   {
    "duration": 11,
    "start_time": "2023-02-08T04:18:51.938Z"
   },
   {
    "duration": 18036,
    "start_time": "2023-02-08T04:18:51.950Z"
   },
   {
    "duration": 45,
    "start_time": "2023-02-08T04:19:09.987Z"
   },
   {
    "duration": 1213,
    "start_time": "2023-02-08T04:19:10.034Z"
   },
   {
    "duration": 0,
    "start_time": "2023-02-08T04:19:11.249Z"
   },
   {
    "duration": 0,
    "start_time": "2023-02-08T04:19:11.250Z"
   },
   {
    "duration": 0,
    "start_time": "2023-02-08T04:19:11.252Z"
   },
   {
    "duration": 0,
    "start_time": "2023-02-08T04:19:11.252Z"
   },
   {
    "duration": 0,
    "start_time": "2023-02-08T04:19:11.254Z"
   },
   {
    "duration": 0,
    "start_time": "2023-02-08T04:19:11.255Z"
   },
   {
    "duration": 0,
    "start_time": "2023-02-08T04:19:11.256Z"
   },
   {
    "duration": 0,
    "start_time": "2023-02-08T04:19:11.257Z"
   },
   {
    "duration": 0,
    "start_time": "2023-02-08T04:19:11.257Z"
   },
   {
    "duration": 1,
    "start_time": "2023-02-08T04:19:11.258Z"
   },
   {
    "duration": 0,
    "start_time": "2023-02-08T04:19:11.260Z"
   },
   {
    "duration": 0,
    "start_time": "2023-02-08T04:19:11.261Z"
   },
   {
    "duration": 0,
    "start_time": "2023-02-08T04:19:11.262Z"
   },
   {
    "duration": 0,
    "start_time": "2023-02-08T04:19:11.263Z"
   },
   {
    "duration": 0,
    "start_time": "2023-02-08T04:19:11.264Z"
   },
   {
    "duration": 0,
    "start_time": "2023-02-08T04:19:11.265Z"
   },
   {
    "duration": 0,
    "start_time": "2023-02-08T04:19:11.266Z"
   },
   {
    "duration": 0,
    "start_time": "2023-02-08T04:19:11.267Z"
   },
   {
    "duration": 0,
    "start_time": "2023-02-08T04:19:11.268Z"
   },
   {
    "duration": 0,
    "start_time": "2023-02-08T04:19:11.269Z"
   },
   {
    "duration": 17008,
    "start_time": "2023-02-08T04:19:54.712Z"
   },
   {
    "duration": 16877,
    "start_time": "2023-02-08T04:20:28.337Z"
   },
   {
    "duration": 117,
    "start_time": "2023-02-08T04:21:25.280Z"
   },
   {
    "duration": 120,
    "start_time": "2023-02-08T04:21:55.558Z"
   },
   {
    "duration": 123,
    "start_time": "2023-02-08T04:22:22.426Z"
   },
   {
    "duration": 128,
    "start_time": "2023-02-08T04:22:52.930Z"
   },
   {
    "duration": 1288,
    "start_time": "2023-02-08T18:05:21.457Z"
   },
   {
    "duration": 209,
    "start_time": "2023-02-08T18:05:22.747Z"
   },
   {
    "duration": 15,
    "start_time": "2023-02-08T18:05:22.958Z"
   },
   {
    "duration": 753,
    "start_time": "2023-02-08T18:05:22.975Z"
   },
   {
    "duration": 34,
    "start_time": "2023-02-08T18:05:23.730Z"
   },
   {
    "duration": 13,
    "start_time": "2023-02-08T18:05:23.765Z"
   },
   {
    "duration": 23,
    "start_time": "2023-02-08T18:05:23.779Z"
   },
   {
    "duration": 9,
    "start_time": "2023-02-08T18:05:23.803Z"
   },
   {
    "duration": 36,
    "start_time": "2023-02-08T18:05:23.813Z"
   },
   {
    "duration": 17,
    "start_time": "2023-02-08T18:05:23.851Z"
   },
   {
    "duration": 3,
    "start_time": "2023-02-08T18:05:23.869Z"
   },
   {
    "duration": 10,
    "start_time": "2023-02-08T18:05:23.873Z"
   },
   {
    "duration": 20,
    "start_time": "2023-02-08T18:05:23.884Z"
   },
   {
    "duration": 47,
    "start_time": "2023-02-08T18:05:23.906Z"
   },
   {
    "duration": 18,
    "start_time": "2023-02-08T18:05:23.955Z"
   },
   {
    "duration": 12,
    "start_time": "2023-02-08T18:05:23.975Z"
   },
   {
    "duration": 7,
    "start_time": "2023-02-08T18:05:23.989Z"
   },
   {
    "duration": 13,
    "start_time": "2023-02-08T18:05:23.998Z"
   },
   {
    "duration": 17,
    "start_time": "2023-02-08T18:05:24.013Z"
   },
   {
    "duration": 10,
    "start_time": "2023-02-08T18:05:24.049Z"
   },
   {
    "duration": 21,
    "start_time": "2023-02-08T18:05:24.061Z"
   },
   {
    "duration": 6,
    "start_time": "2023-02-08T18:05:24.084Z"
   },
   {
    "duration": 16,
    "start_time": "2023-02-08T18:05:24.091Z"
   },
   {
    "duration": 19,
    "start_time": "2023-02-08T18:05:24.109Z"
   },
   {
    "duration": 23,
    "start_time": "2023-02-08T18:05:24.149Z"
   },
   {
    "duration": 18,
    "start_time": "2023-02-08T18:05:24.173Z"
   },
   {
    "duration": 15,
    "start_time": "2023-02-08T18:05:24.192Z"
   },
   {
    "duration": 45,
    "start_time": "2023-02-08T18:05:24.211Z"
   },
   {
    "duration": 5,
    "start_time": "2023-02-08T18:05:24.258Z"
   },
   {
    "duration": 20,
    "start_time": "2023-02-08T18:05:24.265Z"
   },
   {
    "duration": 18,
    "start_time": "2023-02-08T18:05:24.286Z"
   },
   {
    "duration": 6,
    "start_time": "2023-02-08T18:05:24.306Z"
   },
   {
    "duration": 35,
    "start_time": "2023-02-08T18:05:24.314Z"
   },
   {
    "duration": 131,
    "start_time": "2023-02-08T18:05:24.351Z"
   },
   {
    "duration": 128,
    "start_time": "2023-02-08T18:05:24.484Z"
   },
   {
    "duration": 10,
    "start_time": "2023-02-08T18:05:24.614Z"
   },
   {
    "duration": 23,
    "start_time": "2023-02-08T18:05:24.626Z"
   },
   {
    "duration": 222,
    "start_time": "2023-02-08T18:05:24.650Z"
   },
   {
    "duration": 22,
    "start_time": "2023-02-08T18:05:24.874Z"
   },
   {
    "duration": 424,
    "start_time": "2023-02-08T18:05:24.897Z"
   },
   {
    "duration": 8,
    "start_time": "2023-02-08T18:05:25.323Z"
   },
   {
    "duration": 291,
    "start_time": "2023-02-08T18:05:25.333Z"
   },
   {
    "duration": 230,
    "start_time": "2023-02-08T18:06:32.985Z"
   },
   {
    "duration": 574,
    "start_time": "2023-02-08T18:06:33.217Z"
   },
   {
    "duration": 7,
    "start_time": "2023-02-08T18:06:33.792Z"
   },
   {
    "duration": 36,
    "start_time": "2023-02-08T18:06:53.001Z"
   },
   {
    "duration": 12,
    "start_time": "2023-02-08T18:09:24.611Z"
   },
   {
    "duration": 99,
    "start_time": "2023-02-08T18:10:23.514Z"
   },
   {
    "duration": 163,
    "start_time": "2023-02-08T18:10:45.082Z"
   },
   {
    "duration": 15,
    "start_time": "2023-02-08T18:11:23.321Z"
   },
   {
    "duration": 165,
    "start_time": "2023-02-08T18:11:50.262Z"
   },
   {
    "duration": 162,
    "start_time": "2023-02-08T18:12:26.282Z"
   },
   {
    "duration": 168,
    "start_time": "2023-02-08T18:12:47.610Z"
   },
   {
    "duration": 264,
    "start_time": "2023-02-08T18:13:29.659Z"
   },
   {
    "duration": 179,
    "start_time": "2023-02-08T18:13:41.548Z"
   },
   {
    "duration": 165,
    "start_time": "2023-02-08T18:15:57.075Z"
   },
   {
    "duration": 169,
    "start_time": "2023-02-08T18:16:04.271Z"
   },
   {
    "duration": 175,
    "start_time": "2023-02-08T18:17:08.370Z"
   },
   {
    "duration": 196,
    "start_time": "2023-02-08T18:17:25.506Z"
   },
   {
    "duration": 168,
    "start_time": "2023-02-08T18:17:34.656Z"
   },
   {
    "duration": 34,
    "start_time": "2023-02-08T18:18:38.591Z"
   },
   {
    "duration": 1110,
    "start_time": "2023-02-08T18:28:58.317Z"
   },
   {
    "duration": 16,
    "start_time": "2023-02-08T18:29:19.154Z"
   },
   {
    "duration": 14,
    "start_time": "2023-02-08T18:29:51.425Z"
   },
   {
    "duration": 6,
    "start_time": "2023-02-08T18:30:01.725Z"
   },
   {
    "duration": 6,
    "start_time": "2023-02-08T18:30:08.130Z"
   },
   {
    "duration": 20,
    "start_time": "2023-02-08T18:30:43.420Z"
   },
   {
    "duration": 15,
    "start_time": "2023-02-08T18:33:28.241Z"
   },
   {
    "duration": 8,
    "start_time": "2023-02-08T18:33:36.335Z"
   },
   {
    "duration": 7,
    "start_time": "2023-02-08T18:33:41.887Z"
   },
   {
    "duration": 18,
    "start_time": "2023-02-08T18:34:05.816Z"
   },
   {
    "duration": 14,
    "start_time": "2023-02-08T18:34:28.272Z"
   },
   {
    "duration": 7,
    "start_time": "2023-02-08T18:34:34.962Z"
   },
   {
    "duration": 7,
    "start_time": "2023-02-08T18:34:40.175Z"
   },
   {
    "duration": 17,
    "start_time": "2023-02-08T18:34:48.335Z"
   },
   {
    "duration": 14,
    "start_time": "2023-02-08T18:34:48.841Z"
   },
   {
    "duration": 7,
    "start_time": "2023-02-08T18:34:49.794Z"
   },
   {
    "duration": 6,
    "start_time": "2023-02-08T18:34:50.694Z"
   },
   {
    "duration": 8,
    "start_time": "2023-02-08T18:34:54.282Z"
   },
   {
    "duration": 9,
    "start_time": "2023-02-08T18:35:09.461Z"
   },
   {
    "duration": 6,
    "start_time": "2023-02-08T18:38:50.559Z"
   },
   {
    "duration": 18,
    "start_time": "2023-02-08T18:39:27.863Z"
   },
   {
    "duration": 15,
    "start_time": "2023-02-08T18:39:29.480Z"
   },
   {
    "duration": 7,
    "start_time": "2023-02-08T18:39:39.422Z"
   },
   {
    "duration": 6,
    "start_time": "2023-02-08T18:39:40.231Z"
   },
   {
    "duration": 16,
    "start_time": "2023-02-08T18:39:44.531Z"
   },
   {
    "duration": 15,
    "start_time": "2023-02-08T18:39:45.927Z"
   },
   {
    "duration": 8,
    "start_time": "2023-02-08T18:39:47.098Z"
   },
   {
    "duration": 7,
    "start_time": "2023-02-08T18:39:48.339Z"
   },
   {
    "duration": 15,
    "start_time": "2023-02-08T18:40:06.817Z"
   },
   {
    "duration": 15,
    "start_time": "2023-02-08T18:40:09.400Z"
   },
   {
    "duration": 6,
    "start_time": "2023-02-08T18:40:38.367Z"
   },
   {
    "duration": 7,
    "start_time": "2023-02-08T18:40:53.810Z"
   },
   {
    "duration": 19,
    "start_time": "2023-02-08T18:41:58.711Z"
   },
   {
    "duration": 18,
    "start_time": "2023-02-08T18:42:58.108Z"
   },
   {
    "duration": 17,
    "start_time": "2023-02-08T18:44:20.378Z"
   },
   {
    "duration": 23,
    "start_time": "2023-02-08T18:45:13.886Z"
   },
   {
    "duration": 21,
    "start_time": "2023-02-08T18:45:29.711Z"
   },
   {
    "duration": 152,
    "start_time": "2023-02-08T18:45:54.456Z"
   },
   {
    "duration": 19,
    "start_time": "2023-02-08T18:47:01.322Z"
   },
   {
    "duration": 161,
    "start_time": "2023-02-08T18:47:12.626Z"
   },
   {
    "duration": 167,
    "start_time": "2023-02-08T18:47:28.007Z"
   },
   {
    "duration": 159,
    "start_time": "2023-02-08T18:47:47.816Z"
   },
   {
    "duration": 20,
    "start_time": "2023-02-08T18:48:02.105Z"
   },
   {
    "duration": 251,
    "start_time": "2023-02-08T18:48:06.245Z"
   },
   {
    "duration": 162,
    "start_time": "2023-02-08T18:48:23.473Z"
   },
   {
    "duration": 88,
    "start_time": "2023-02-08T18:48:59.633Z"
   },
   {
    "duration": 110,
    "start_time": "2023-02-08T18:52:56.983Z"
   },
   {
    "duration": 106,
    "start_time": "2023-02-08T18:53:22.828Z"
   },
   {
    "duration": 94,
    "start_time": "2023-02-08T18:53:53.979Z"
   },
   {
    "duration": 108,
    "start_time": "2023-02-08T18:54:38.433Z"
   },
   {
    "duration": 107,
    "start_time": "2023-02-08T18:54:48.743Z"
   },
   {
    "duration": 19,
    "start_time": "2023-02-08T18:56:43.597Z"
   },
   {
    "duration": 91,
    "start_time": "2023-02-08T18:56:58.818Z"
   },
   {
    "duration": 103,
    "start_time": "2023-02-08T18:58:03.845Z"
   },
   {
    "duration": 97,
    "start_time": "2023-02-08T18:59:50.518Z"
   },
   {
    "duration": 2,
    "start_time": "2023-02-08T19:05:38.617Z"
   },
   {
    "duration": 7,
    "start_time": "2023-02-08T19:05:40.232Z"
   },
   {
    "duration": 5,
    "start_time": "2023-02-08T19:13:00.905Z"
   },
   {
    "duration": 8,
    "start_time": "2023-02-08T19:13:11.823Z"
   },
   {
    "duration": 184,
    "start_time": "2023-02-08T20:08:40.073Z"
   },
   {
    "duration": 166,
    "start_time": "2023-02-08T20:09:22.539Z"
   },
   {
    "duration": 244,
    "start_time": "2023-02-08T20:09:40.343Z"
   },
   {
    "duration": 174,
    "start_time": "2023-02-08T20:10:02.955Z"
   },
   {
    "duration": 15,
    "start_time": "2023-02-08T20:11:05.367Z"
   },
   {
    "duration": 4,
    "start_time": "2023-02-08T20:11:14.360Z"
   },
   {
    "duration": 16,
    "start_time": "2023-02-08T20:11:29.527Z"
   },
   {
    "duration": 15,
    "start_time": "2023-02-08T20:11:38.951Z"
   },
   {
    "duration": 99,
    "start_time": "2023-02-08T20:12:05.923Z"
   },
   {
    "duration": 10,
    "start_time": "2023-02-08T20:12:18.751Z"
   },
   {
    "duration": 11,
    "start_time": "2023-02-08T20:12:34.451Z"
   },
   {
    "duration": 72,
    "start_time": "2023-02-08T20:12:59.746Z"
   },
   {
    "duration": 3,
    "start_time": "2023-02-08T20:14:05.247Z"
   },
   {
    "duration": 4,
    "start_time": "2023-02-08T20:14:08.932Z"
   },
   {
    "duration": 122,
    "start_time": "2023-02-08T20:14:50.264Z"
   },
   {
    "duration": 357,
    "start_time": "2023-02-08T20:16:44.325Z"
   },
   {
    "duration": 352,
    "start_time": "2023-02-08T20:17:14.525Z"
   },
   {
    "duration": 10,
    "start_time": "2023-02-08T20:18:19.008Z"
   },
   {
    "duration": 10,
    "start_time": "2023-02-08T20:19:02.463Z"
   },
   {
    "duration": 8,
    "start_time": "2023-02-08T20:19:28.630Z"
   },
   {
    "duration": 8,
    "start_time": "2023-02-08T20:19:41.504Z"
   },
   {
    "duration": 348,
    "start_time": "2023-02-08T20:19:52.052Z"
   },
   {
    "duration": 8,
    "start_time": "2023-02-08T20:23:47.798Z"
   },
   {
    "duration": 23,
    "start_time": "2023-02-08T20:24:11.847Z"
   },
   {
    "duration": 6,
    "start_time": "2023-02-08T20:25:02.181Z"
   },
   {
    "duration": 9,
    "start_time": "2023-02-08T20:26:00.747Z"
   },
   {
    "duration": 9,
    "start_time": "2023-02-08T20:26:20.403Z"
   },
   {
    "duration": 7,
    "start_time": "2023-02-08T20:26:39.455Z"
   },
   {
    "duration": 9,
    "start_time": "2023-02-08T20:33:24.549Z"
   },
   {
    "duration": 8,
    "start_time": "2023-02-08T20:33:57.048Z"
   },
   {
    "duration": 86,
    "start_time": "2023-02-08T20:42:04.991Z"
   },
   {
    "duration": 1088,
    "start_time": "2023-02-08T20:43:37.891Z"
   },
   {
    "duration": 66,
    "start_time": "2023-02-08T20:43:40.650Z"
   },
   {
    "duration": 13,
    "start_time": "2023-02-08T20:43:51.990Z"
   },
   {
    "duration": 706,
    "start_time": "2023-02-08T20:43:57.922Z"
   },
   {
    "duration": 29,
    "start_time": "2023-02-08T20:44:01.834Z"
   },
   {
    "duration": 13,
    "start_time": "2023-02-08T20:48:09.035Z"
   },
   {
    "duration": 20,
    "start_time": "2023-02-08T20:48:33.916Z"
   },
   {
    "duration": 10,
    "start_time": "2023-02-08T20:48:41.451Z"
   },
   {
    "duration": 10,
    "start_time": "2023-02-08T20:48:46.755Z"
   },
   {
    "duration": 18,
    "start_time": "2023-02-08T20:49:25.303Z"
   },
   {
    "duration": 4,
    "start_time": "2023-02-08T20:49:35.759Z"
   },
   {
    "duration": 7,
    "start_time": "2023-02-08T20:49:54.894Z"
   },
   {
    "duration": 20,
    "start_time": "2023-02-08T20:51:20.127Z"
   },
   {
    "duration": 9,
    "start_time": "2023-02-08T20:52:28.823Z"
   },
   {
    "duration": 18,
    "start_time": "2023-02-08T20:53:43.735Z"
   },
   {
    "duration": 19,
    "start_time": "2023-02-08T20:54:06.029Z"
   },
   {
    "duration": 18,
    "start_time": "2023-02-08T20:54:50.301Z"
   },
   {
    "duration": 7,
    "start_time": "2023-02-08T20:55:13.053Z"
   },
   {
    "duration": 7,
    "start_time": "2023-02-08T20:55:19.202Z"
   },
   {
    "duration": 6,
    "start_time": "2023-02-08T20:56:10.951Z"
   },
   {
    "duration": 8,
    "start_time": "2023-02-08T20:56:48.825Z"
   },
   {
    "duration": 6,
    "start_time": "2023-02-08T20:57:08.318Z"
   },
   {
    "duration": 17,
    "start_time": "2023-02-08T20:57:11.727Z"
   },
   {
    "duration": 98,
    "start_time": "2023-02-08T20:59:26.968Z"
   },
   {
    "duration": 3,
    "start_time": "2023-02-08T21:00:44.179Z"
   },
   {
    "duration": 75,
    "start_time": "2023-02-08T21:00:44.186Z"
   },
   {
    "duration": 13,
    "start_time": "2023-02-08T21:00:44.263Z"
   },
   {
    "duration": 731,
    "start_time": "2023-02-08T21:00:44.278Z"
   },
   {
    "duration": 26,
    "start_time": "2023-02-08T21:00:45.012Z"
   },
   {
    "duration": 13,
    "start_time": "2023-02-08T21:00:45.048Z"
   },
   {
    "duration": 39,
    "start_time": "2023-02-08T21:00:45.062Z"
   },
   {
    "duration": 14,
    "start_time": "2023-02-08T21:00:45.102Z"
   },
   {
    "duration": 18,
    "start_time": "2023-02-08T21:00:45.118Z"
   },
   {
    "duration": 33,
    "start_time": "2023-02-08T21:00:45.138Z"
   },
   {
    "duration": 13,
    "start_time": "2023-02-08T21:00:45.175Z"
   },
   {
    "duration": 23,
    "start_time": "2023-02-08T21:00:45.190Z"
   },
   {
    "duration": 27,
    "start_time": "2023-02-08T21:00:45.215Z"
   },
   {
    "duration": 121,
    "start_time": "2023-02-08T21:00:45.243Z"
   },
   {
    "duration": 29,
    "start_time": "2023-02-08T21:00:45.366Z"
   },
   {
    "duration": 22,
    "start_time": "2023-02-08T21:00:45.397Z"
   },
   {
    "duration": 28,
    "start_time": "2023-02-08T21:00:45.421Z"
   },
   {
    "duration": 9,
    "start_time": "2023-02-08T21:00:45.452Z"
   },
   {
    "duration": 23,
    "start_time": "2023-02-08T21:00:45.463Z"
   },
   {
    "duration": 25,
    "start_time": "2023-02-08T21:00:45.488Z"
   },
   {
    "duration": 12,
    "start_time": "2023-02-08T21:00:45.515Z"
   },
   {
    "duration": 37,
    "start_time": "2023-02-08T21:00:45.530Z"
   },
   {
    "duration": 12,
    "start_time": "2023-02-08T21:00:48.233Z"
   },
   {
    "duration": 20,
    "start_time": "2023-02-08T21:02:25.880Z"
   },
   {
    "duration": 5,
    "start_time": "2023-02-08T21:02:39.895Z"
   },
   {
    "duration": 14,
    "start_time": "2023-02-08T21:02:56.131Z"
   },
   {
    "duration": 16,
    "start_time": "2023-02-08T21:03:44.347Z"
   },
   {
    "duration": 20,
    "start_time": "2023-02-08T21:03:50.338Z"
   },
   {
    "duration": 15,
    "start_time": "2023-02-08T21:03:56.794Z"
   },
   {
    "duration": 17,
    "start_time": "2023-02-08T21:04:09.141Z"
   },
   {
    "duration": 25,
    "start_time": "2023-02-08T21:04:59.825Z"
   },
   {
    "duration": 18,
    "start_time": "2023-02-08T21:05:37.025Z"
   },
   {
    "duration": 7,
    "start_time": "2023-02-08T21:05:39.461Z"
   },
   {
    "duration": 18,
    "start_time": "2023-02-08T21:05:46.668Z"
   },
   {
    "duration": 15,
    "start_time": "2023-02-08T21:05:59.231Z"
   },
   {
    "duration": 7,
    "start_time": "2023-02-08T21:07:01.066Z"
   },
   {
    "duration": 9,
    "start_time": "2023-02-08T21:07:21.330Z"
   },
   {
    "duration": 8,
    "start_time": "2023-02-08T21:07:57.663Z"
   },
   {
    "duration": 115,
    "start_time": "2023-02-08T21:07:58.497Z"
   },
   {
    "duration": 112,
    "start_time": "2023-02-08T21:07:59.322Z"
   },
   {
    "duration": 10,
    "start_time": "2023-02-08T21:08:03.209Z"
   },
   {
    "duration": 8,
    "start_time": "2023-02-08T21:10:09.625Z"
   },
   {
    "duration": 218,
    "start_time": "2023-02-08T21:10:13.201Z"
   },
   {
    "duration": 25,
    "start_time": "2023-02-08T21:10:58.224Z"
   },
   {
    "duration": 24,
    "start_time": "2023-02-08T21:11:14.627Z"
   },
   {
    "duration": 23,
    "start_time": "2023-02-08T21:12:01.302Z"
   },
   {
    "duration": 301,
    "start_time": "2023-02-08T21:12:06.574Z"
   },
   {
    "duration": 8,
    "start_time": "2023-02-08T21:14:22.803Z"
   },
   {
    "duration": 249,
    "start_time": "2023-02-08T21:14:47.785Z"
   },
   {
    "duration": 232,
    "start_time": "2023-02-08T21:16:41.782Z"
   },
   {
    "duration": 234,
    "start_time": "2023-02-08T21:18:39.878Z"
   },
   {
    "duration": 648,
    "start_time": "2023-02-08T21:20:05.900Z"
   },
   {
    "duration": 15,
    "start_time": "2023-02-08T21:29:58.581Z"
   },
   {
    "duration": 120,
    "start_time": "2023-02-08T21:30:23.856Z"
   },
   {
    "duration": 105,
    "start_time": "2023-02-08T21:31:28.794Z"
   },
   {
    "duration": 162,
    "start_time": "2023-02-08T21:31:36.579Z"
   },
   {
    "duration": 8,
    "start_time": "2023-02-08T21:32:37.295Z"
   },
   {
    "duration": 19,
    "start_time": "2023-02-08T21:33:55.545Z"
   },
   {
    "duration": 109,
    "start_time": "2023-02-08T21:34:19.841Z"
   },
   {
    "duration": 159,
    "start_time": "2023-02-08T21:34:54.842Z"
   },
   {
    "duration": 16,
    "start_time": "2023-02-08T21:36:44.333Z"
   },
   {
    "duration": 72,
    "start_time": "2023-02-08T21:36:52.390Z"
   },
   {
    "duration": 166,
    "start_time": "2023-02-08T21:36:58.385Z"
   },
   {
    "duration": 6,
    "start_time": "2023-02-08T21:37:19.505Z"
   },
   {
    "duration": 17,
    "start_time": "2023-02-08T21:37:27.311Z"
   },
   {
    "duration": 97,
    "start_time": "2023-02-08T21:37:36.178Z"
   },
   {
    "duration": 159,
    "start_time": "2023-02-08T21:37:46.089Z"
   },
   {
    "duration": 176,
    "start_time": "2023-02-08T21:38:04.508Z"
   },
   {
    "duration": 6,
    "start_time": "2023-02-08T21:38:49.933Z"
   },
   {
    "duration": 16,
    "start_time": "2023-02-08T21:38:58.916Z"
   },
   {
    "duration": 190,
    "start_time": "2023-02-08T21:39:03.955Z"
   },
   {
    "duration": 123,
    "start_time": "2023-02-08T21:39:10.432Z"
   },
   {
    "duration": 164,
    "start_time": "2023-02-08T21:39:17.060Z"
   },
   {
    "duration": 179,
    "start_time": "2023-02-08T21:39:27.531Z"
   },
   {
    "duration": 8,
    "start_time": "2023-02-08T21:40:11.757Z"
   },
   {
    "duration": 356,
    "start_time": "2023-02-08T21:40:26.362Z"
   },
   {
    "duration": 3,
    "start_time": "2023-02-08T21:51:34.106Z"
   },
   {
    "duration": 10,
    "start_time": "2023-02-08T21:51:39.989Z"
   },
   {
    "duration": 8,
    "start_time": "2023-02-08T21:51:49.826Z"
   },
   {
    "duration": 3,
    "start_time": "2023-02-08T21:51:53.162Z"
   },
   {
    "duration": 10,
    "start_time": "2023-02-08T21:51:58.498Z"
   },
   {
    "duration": 10,
    "start_time": "2023-02-08T21:52:05.465Z"
   }
  ],
  "kernelspec": {
   "display_name": "Python 3 (ipykernel)",
   "language": "python",
   "name": "python3"
  },
  "language_info": {
   "codemirror_mode": {
    "name": "ipython",
    "version": 3
   },
   "file_extension": ".py",
   "mimetype": "text/x-python",
   "name": "python",
   "nbconvert_exporter": "python",
   "pygments_lexer": "ipython3",
   "version": "3.9.5"
  },
  "toc": {
   "base_numbering": "1",
   "nav_menu": {
    "height": "229.222px",
    "width": "163.222px"
   },
   "number_sections": true,
   "sideBar": true,
   "skip_h1_title": true,
   "title_cell": "Содержание",
   "title_sidebar": "Анализ успешности компьютерных игр",
   "toc_cell": false,
   "toc_position": {
    "height": "414.667px",
    "left": "22px",
    "top": "110.806px",
    "width": "258.181px"
   },
   "toc_section_display": true,
   "toc_window_display": true
  }
 },
 "nbformat": 4,
 "nbformat_minor": 2
}
