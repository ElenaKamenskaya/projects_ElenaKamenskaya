{
 "cells": [
  {
   "cell_type": "markdown",
   "id": "f1788ab9",
   "metadata": {},
   "source": [
    "**Задача:** построить систему, способную проанализировать поведение клиентов и предложить пользователям новый тариф: «Смарт» или «Ультра».\n",
    "\n",
    "**Цель:** построить модель для задачи классификации, которая выберет подходящий тариф\n",
    "\n",
    "**Данные:**  нам предоставлены данные о поведении клиентов, которые уже перешли на эти тарифы. Предподготовку данных проводить не нужно, так как данные почищены, все возможные дубликаты удалены и пропуски обработаны (это проект ранних работ)\n",
    "\n",
    "**План исследования:** построить минимум 3 модели и выяснить какая из них оптимальная для поставленной задачи."
   ]
  },
  {
   "cell_type": "code",
   "execution_count": 1,
   "id": "5d730ded",
   "metadata": {},
   "outputs": [],
   "source": [
    "# подключим библиотеки\n",
    "\n",
    "import pandas as pd\n",
    "from sklearn.model_selection import train_test_split\n",
    "from sklearn.tree import DecisionTreeClassifier\n",
    "from sklearn.metrics import accuracy_score\n",
    "from sklearn.ensemble import RandomForestClassifier\n",
    "from sklearn.linear_model import LogisticRegression"
   ]
  },
  {
   "cell_type": "code",
   "execution_count": 2,
   "id": "67c81273",
   "metadata": {},
   "outputs": [
    {
     "data": {
      "text/html": [
       "<div>\n",
       "<style scoped>\n",
       "    .dataframe tbody tr th:only-of-type {\n",
       "        vertical-align: middle;\n",
       "    }\n",
       "\n",
       "    .dataframe tbody tr th {\n",
       "        vertical-align: top;\n",
       "    }\n",
       "\n",
       "    .dataframe thead th {\n",
       "        text-align: right;\n",
       "    }\n",
       "</style>\n",
       "<table border=\"1\" class=\"dataframe\">\n",
       "  <thead>\n",
       "    <tr style=\"text-align: right;\">\n",
       "      <th></th>\n",
       "      <th>calls</th>\n",
       "      <th>minutes</th>\n",
       "      <th>messages</th>\n",
       "      <th>mb_used</th>\n",
       "      <th>is_ultra</th>\n",
       "    </tr>\n",
       "  </thead>\n",
       "  <tbody>\n",
       "    <tr>\n",
       "      <th>0</th>\n",
       "      <td>40.0</td>\n",
       "      <td>311.90</td>\n",
       "      <td>83.0</td>\n",
       "      <td>19915.42</td>\n",
       "      <td>0</td>\n",
       "    </tr>\n",
       "    <tr>\n",
       "      <th>1</th>\n",
       "      <td>85.0</td>\n",
       "      <td>516.75</td>\n",
       "      <td>56.0</td>\n",
       "      <td>22696.96</td>\n",
       "      <td>0</td>\n",
       "    </tr>\n",
       "    <tr>\n",
       "      <th>2</th>\n",
       "      <td>77.0</td>\n",
       "      <td>467.66</td>\n",
       "      <td>86.0</td>\n",
       "      <td>21060.45</td>\n",
       "      <td>0</td>\n",
       "    </tr>\n",
       "    <tr>\n",
       "      <th>3</th>\n",
       "      <td>106.0</td>\n",
       "      <td>745.53</td>\n",
       "      <td>81.0</td>\n",
       "      <td>8437.39</td>\n",
       "      <td>1</td>\n",
       "    </tr>\n",
       "    <tr>\n",
       "      <th>4</th>\n",
       "      <td>66.0</td>\n",
       "      <td>418.74</td>\n",
       "      <td>1.0</td>\n",
       "      <td>14502.75</td>\n",
       "      <td>0</td>\n",
       "    </tr>\n",
       "    <tr>\n",
       "      <th>...</th>\n",
       "      <td>...</td>\n",
       "      <td>...</td>\n",
       "      <td>...</td>\n",
       "      <td>...</td>\n",
       "      <td>...</td>\n",
       "    </tr>\n",
       "    <tr>\n",
       "      <th>3209</th>\n",
       "      <td>122.0</td>\n",
       "      <td>910.98</td>\n",
       "      <td>20.0</td>\n",
       "      <td>35124.90</td>\n",
       "      <td>1</td>\n",
       "    </tr>\n",
       "    <tr>\n",
       "      <th>3210</th>\n",
       "      <td>25.0</td>\n",
       "      <td>190.36</td>\n",
       "      <td>0.0</td>\n",
       "      <td>3275.61</td>\n",
       "      <td>0</td>\n",
       "    </tr>\n",
       "    <tr>\n",
       "      <th>3211</th>\n",
       "      <td>97.0</td>\n",
       "      <td>634.44</td>\n",
       "      <td>70.0</td>\n",
       "      <td>13974.06</td>\n",
       "      <td>0</td>\n",
       "    </tr>\n",
       "    <tr>\n",
       "      <th>3212</th>\n",
       "      <td>64.0</td>\n",
       "      <td>462.32</td>\n",
       "      <td>90.0</td>\n",
       "      <td>31239.78</td>\n",
       "      <td>0</td>\n",
       "    </tr>\n",
       "    <tr>\n",
       "      <th>3213</th>\n",
       "      <td>80.0</td>\n",
       "      <td>566.09</td>\n",
       "      <td>6.0</td>\n",
       "      <td>29480.52</td>\n",
       "      <td>1</td>\n",
       "    </tr>\n",
       "  </tbody>\n",
       "</table>\n",
       "<p>3214 rows × 5 columns</p>\n",
       "</div>"
      ],
      "text/plain": [
       "      calls  minutes  messages   mb_used  is_ultra\n",
       "0      40.0   311.90      83.0  19915.42         0\n",
       "1      85.0   516.75      56.0  22696.96         0\n",
       "2      77.0   467.66      86.0  21060.45         0\n",
       "3     106.0   745.53      81.0   8437.39         1\n",
       "4      66.0   418.74       1.0  14502.75         0\n",
       "...     ...      ...       ...       ...       ...\n",
       "3209  122.0   910.98      20.0  35124.90         1\n",
       "3210   25.0   190.36       0.0   3275.61         0\n",
       "3211   97.0   634.44      70.0  13974.06         0\n",
       "3212   64.0   462.32      90.0  31239.78         0\n",
       "3213   80.0   566.09       6.0  29480.52         1\n",
       "\n",
       "[3214 rows x 5 columns]"
      ]
     },
     "execution_count": 2,
     "metadata": {},
     "output_type": "execute_result"
    }
   ],
   "source": [
    "# откроем файл с данными\n",
    "\n",
    "try:\n",
    "    data = pd.read_csv('users_behavior.csv')\n",
    "except:\n",
    "    data = pd.read_csv('/datasets/users_behavior.csv')\n",
    "data  "
   ]
  },
  {
   "cell_type": "code",
   "execution_count": 3,
   "id": "bf9525ec",
   "metadata": {},
   "outputs": [
    {
     "data": {
      "text/html": [
       "<div>\n",
       "<style scoped>\n",
       "    .dataframe tbody tr th:only-of-type {\n",
       "        vertical-align: middle;\n",
       "    }\n",
       "\n",
       "    .dataframe tbody tr th {\n",
       "        vertical-align: top;\n",
       "    }\n",
       "\n",
       "    .dataframe thead th {\n",
       "        text-align: right;\n",
       "    }\n",
       "</style>\n",
       "<table border=\"1\" class=\"dataframe\">\n",
       "  <thead>\n",
       "    <tr style=\"text-align: right;\">\n",
       "      <th></th>\n",
       "      <th>calls</th>\n",
       "      <th>minutes</th>\n",
       "      <th>messages</th>\n",
       "      <th>mb_used</th>\n",
       "      <th>is_ultra</th>\n",
       "    </tr>\n",
       "  </thead>\n",
       "  <tbody>\n",
       "    <tr>\n",
       "      <th>count</th>\n",
       "      <td>3214.000000</td>\n",
       "      <td>3214.000000</td>\n",
       "      <td>3214.000000</td>\n",
       "      <td>3214.000000</td>\n",
       "      <td>3214.000000</td>\n",
       "    </tr>\n",
       "    <tr>\n",
       "      <th>mean</th>\n",
       "      <td>63.038892</td>\n",
       "      <td>438.208787</td>\n",
       "      <td>38.281269</td>\n",
       "      <td>17207.673836</td>\n",
       "      <td>0.306472</td>\n",
       "    </tr>\n",
       "    <tr>\n",
       "      <th>std</th>\n",
       "      <td>33.236368</td>\n",
       "      <td>234.569872</td>\n",
       "      <td>36.148326</td>\n",
       "      <td>7570.968246</td>\n",
       "      <td>0.461100</td>\n",
       "    </tr>\n",
       "    <tr>\n",
       "      <th>min</th>\n",
       "      <td>0.000000</td>\n",
       "      <td>0.000000</td>\n",
       "      <td>0.000000</td>\n",
       "      <td>0.000000</td>\n",
       "      <td>0.000000</td>\n",
       "    </tr>\n",
       "    <tr>\n",
       "      <th>25%</th>\n",
       "      <td>40.000000</td>\n",
       "      <td>274.575000</td>\n",
       "      <td>9.000000</td>\n",
       "      <td>12491.902500</td>\n",
       "      <td>0.000000</td>\n",
       "    </tr>\n",
       "    <tr>\n",
       "      <th>50%</th>\n",
       "      <td>62.000000</td>\n",
       "      <td>430.600000</td>\n",
       "      <td>30.000000</td>\n",
       "      <td>16943.235000</td>\n",
       "      <td>0.000000</td>\n",
       "    </tr>\n",
       "    <tr>\n",
       "      <th>75%</th>\n",
       "      <td>82.000000</td>\n",
       "      <td>571.927500</td>\n",
       "      <td>57.000000</td>\n",
       "      <td>21424.700000</td>\n",
       "      <td>1.000000</td>\n",
       "    </tr>\n",
       "    <tr>\n",
       "      <th>max</th>\n",
       "      <td>244.000000</td>\n",
       "      <td>1632.060000</td>\n",
       "      <td>224.000000</td>\n",
       "      <td>49745.730000</td>\n",
       "      <td>1.000000</td>\n",
       "    </tr>\n",
       "  </tbody>\n",
       "</table>\n",
       "</div>"
      ],
      "text/plain": [
       "             calls      minutes     messages       mb_used     is_ultra\n",
       "count  3214.000000  3214.000000  3214.000000   3214.000000  3214.000000\n",
       "mean     63.038892   438.208787    38.281269  17207.673836     0.306472\n",
       "std      33.236368   234.569872    36.148326   7570.968246     0.461100\n",
       "min       0.000000     0.000000     0.000000      0.000000     0.000000\n",
       "25%      40.000000   274.575000     9.000000  12491.902500     0.000000\n",
       "50%      62.000000   430.600000    30.000000  16943.235000     0.000000\n",
       "75%      82.000000   571.927500    57.000000  21424.700000     1.000000\n",
       "max     244.000000  1632.060000   224.000000  49745.730000     1.000000"
      ]
     },
     "execution_count": 3,
     "metadata": {},
     "output_type": "execute_result"
    }
   ],
   "source": [
    "# проверим что данные чистые\n",
    "\n",
    "data.describe(include='all')"
   ]
  },
  {
   "cell_type": "code",
   "execution_count": 4,
   "id": "86cfddd7",
   "metadata": {},
   "outputs": [
    {
     "name": "stdout",
     "output_type": "stream",
     "text": [
      "Обучающаяся выборка 1606\n",
      "Валидационная выборка 804\n",
      "Тестовая выборка 804\n"
     ]
    }
   ],
   "source": [
    "# Разобьем данные на две выборки (обучающую и тестовую 25%)\n",
    "data_train_total, data_test = train_test_split(data, test_size=0.25, random_state=12345)\n",
    "\n",
    "# Разобьем обучающие данные на две выборки (обучающую и валидационную 25% от общего количества)\n",
    "data_train, data_valid = train_test_split(data_train_total, test_size=0.3334, random_state=12345)\n",
    "\n",
    "# проверим, верно ли разбились данные\n",
    "print('Обучающаяся выборка', len(data_train))\n",
    "print('Валидационная выборка', len(data_valid))\n",
    "print('Тестовая выборка', len(data_test))"
   ]
  },
  {
   "cell_type": "markdown",
   "id": "ece09440",
   "metadata": {},
   "source": []
  },
  {
   "cell_type": "code",
   "execution_count": 5,
   "id": "5f7d3c4b",
   "metadata": {},
   "outputs": [],
   "source": [
    "# подготовим данные для моделей\n",
    "\n",
    "features_train = data_train.drop('is_ultra', axis=1)\n",
    "target_train = data_train['is_ultra']\n",
    "features_valid = data_valid.drop('is_ultra', axis=1)\n",
    "target_valid = data_valid['is_ultra']\n",
    "features_test = data_test.drop('is_ultra', axis=1)\n",
    "target_test = data_test['is_ultra']"
   ]
  },
  {
   "cell_type": "code",
   "execution_count": 7,
   "id": "c6876d85",
   "metadata": {},
   "outputs": [
    {
     "name": "stdout",
     "output_type": "stream",
     "text": [
      "Accuracy лучшей модели Дерево решений: 0.7873134328358209, глубина - 4\n"
     ]
    }
   ],
   "source": [
    "# проверим вариант модели на обучающей выборке- Дерево решений\n",
    "# зададим гиперпараметры, которые позволят ограничит обучение модели\n",
    "\n",
    "best_model = None\n",
    "best_result = 0\n",
    "\n",
    "for depth in range(1, 5):\n",
    "    model = DecisionTreeClassifier(random_state=12345, criterion='gini', min_samples_split=2, min_samples_leaf=1, max_depth = depth) # обучим модель с заданной глубиной дерева\t\n",
    "    model.fit(features_train, target_train) # обучим модель\t\n",
    "    predictions_valid = model.predict(features_valid) # получим предсказания модели\t\n",
    "    result = accuracy_score(target_valid, predictions_valid) # посчитаем качество модели\t\n",
    "    if result > best_result:\n",
    "        best_model = model\n",
    "        best_result = result\n",
    "\n",
    "print(f'Accuracy лучшей модели Дерево решений: {best_result}, глубина - {depth}') \n"
   ]
  },
  {
   "cell_type": "code",
   "execution_count": 8,
   "id": "e41d6d4a",
   "metadata": {},
   "outputs": [
    {
     "name": "stdout",
     "output_type": "stream",
     "text": [
      "Accuracy лучшей модели Случайный лес: 0.8097014925373134, кол-во деревьев - 9\n"
     ]
    }
   ],
   "source": [
    "# проверим вариант модели - Случайный лес\n",
    "\n",
    "best_model = None\n",
    "best_result = 0\n",
    "for est in range(1, 10):\n",
    "    model = RandomForestClassifier(random_state=12345, criterion='gini', min_samples_split=2, min_samples_leaf=1, n_estimators = est) # обучим модель с заданной кол-ом деревьев\t\n",
    "    model.fit(features_train, target_train) # обучим модель\t\n",
    "    predictions_valid = model.predict(features_valid) # получим предсказания модели\t\n",
    "    result = model.score(features_valid, target_valid) # посчитаем качество модели\t\n",
    "    if result > best_result:\t\n",
    "        best_model = model\n",
    "        best_result = result\n",
    "     \n",
    "print(f'Accuracy лучшей модели Случайный лес: {best_result}, кол-во деревьев - {est}')\n"
   ]
  },
  {
   "cell_type": "code",
   "execution_count": 9,
   "id": "3aa8ef36",
   "metadata": {},
   "outputs": [
    {
     "name": "stdout",
     "output_type": "stream",
     "text": [
      "Accuracy лучшей модели Логическая регрессия: 0.7375621890547264\n"
     ]
    }
   ],
   "source": [
    "# проверим вариант модели - Логическая регрессия\n",
    "\n",
    "model = LogisticRegression(random_state=12345, solver='lbfgs', max_iter=1000) \n",
    "model.fit(features_train, target_train) \n",
    "model.predict(features_valid) \n",
    "model.score(features_valid, target_valid) \n",
    "\n",
    "print(\"Accuracy лучшей модели Логическая регрессия:\", model.score(features_valid, target_valid))\n"
   ]
  },
  {
   "cell_type": "markdown",
   "id": "4951089e",
   "metadata": {},
   "source": [
    "Самый высокая метрика точности у валидативной выборки в модели случайный лес - 80% верных ответов"
   ]
  },
  {
   "cell_type": "markdown",
   "id": "4df981d3",
   "metadata": {},
   "source": [
    "## Проверим модель на тестовой выборке"
   ]
  },
  {
   "cell_type": "code",
   "execution_count": 10,
   "id": "b6a7ecd9",
   "metadata": {},
   "outputs": [
    {
     "name": "stdout",
     "output_type": "stream",
     "text": [
      "Accuracy тестовой выборки модели Случайный лес: 0.7786069651741293\n"
     ]
    }
   ],
   "source": [
    "model_test = RandomForestClassifier(random_state=12345, n_estimators = 9) # зададим модель с заданным кол-ом деревьев\t\n",
    "model_test.fit(features_train, target_train) # обучим модель\t\n",
    "predictions_test = model_test.predict(features_test) # получим предсказания модели по тестовой выборке\n",
    "result_test = accuracy_score(predictions_test, target_test) # посчитаем качество модели\tтестовой выборки\n",
    "    \n",
    "print(\"Accuracy тестовой выборки модели Случайный лес:\", result_test)"
   ]
  },
  {
   "cell_type": "markdown",
   "id": "c4b9ceb0",
   "metadata": {},
   "source": [
    "Точность ответов тестовой выборки так же велика - 77% верных ответов"
   ]
  },
  {
   "cell_type": "markdown",
   "id": "2925abf2",
   "metadata": {},
   "source": [
    "## Проверим модели на адекватность"
   ]
  },
  {
   "cell_type": "code",
   "execution_count": 11,
   "id": "fc953486",
   "metadata": {},
   "outputs": [
    {
     "data": {
      "text/plain": [
       "0.6973848069738481"
      ]
     },
     "execution_count": 11,
     "metadata": {},
     "output_type": "execute_result"
    }
   ],
   "source": [
    "from sklearn.dummy import DummyClassifier\n",
    "dummy_adek = DummyClassifier(strategy=\"most_frequent\", random_state=0)\n",
    "dummy_adek.fit(features_train, target_train)\n",
    "dummy_adek.score(features_train, target_train)"
   ]
  },
  {
   "cell_type": "markdown",
   "id": "c8fe3b6e",
   "metadata": {},
   "source": [
    "Обычная модель ошибается в 30% данных, выбранная модель \"Случайный лес\" ошибается в 20% данных и превышает нижний порок по заданию 75%. Из чего делаем вывод, что выбранняа модель адекватна."
   ]
  },
  {
   "cell_type": "markdown",
   "id": "3f240665",
   "metadata": {},
   "source": [
    "ВЫВОД:\n",
    "Для построения модели, определящей оптимальный тариф, построим минимум 3 модели и выясним какая из них оптимальная для поставленной задачи.\n",
    "Анализ проводился на данных о поведении клиентов, которые уже перешли на тарифы «Смарт» или «Ультра». Предподготовку данных проводить не нужно, так как данные почищены, все возможные дубликаты удалены и пропуски обработаны.\n",
    "При обработке данных использовались 3 модели DecisionTreeClassifier, RandomForestClassifier, LogisticRegression. Самую высокую точность дала модель Случайный лес (RandomForestClassifier), ее метрика составляет 80% верных ответов, в то время как обычная модель давала бы только 70% верных ответов."
   ]
  }
 ],
 "metadata": {
  "ExecuteTimeLog": [
   {
    "duration": 66,
    "start_time": "2023-02-19T16:31:57.980Z"
   },
   {
    "duration": 1115,
    "start_time": "2023-02-21T17:48:39.454Z"
   },
   {
    "duration": 106,
    "start_time": "2023-02-21T17:48:40.571Z"
   },
   {
    "duration": 20,
    "start_time": "2023-02-21T17:49:15.588Z"
   },
   {
    "duration": 9,
    "start_time": "2023-02-21T17:50:06.507Z"
   },
   {
    "duration": 5,
    "start_time": "2023-02-21T17:50:15.856Z"
   },
   {
    "duration": 65,
    "start_time": "2023-02-21T17:55:55.893Z"
   },
   {
    "duration": 31,
    "start_time": "2023-02-21T17:56:23.002Z"
   },
   {
    "duration": 249,
    "start_time": "2023-02-21T17:59:38.418Z"
   },
   {
    "duration": 28,
    "start_time": "2023-02-21T17:59:54.476Z"
   },
   {
    "duration": 50,
    "start_time": "2023-02-21T18:00:14.103Z"
   },
   {
    "duration": 7,
    "start_time": "2023-02-21T18:00:41.252Z"
   }
  ],
  "kernelspec": {
   "display_name": "Python 3 (ipykernel)",
   "language": "python",
   "name": "python3"
  },
  "language_info": {
   "codemirror_mode": {
    "name": "ipython",
    "version": 3
   },
   "file_extension": ".py",
   "mimetype": "text/x-python",
   "name": "python",
   "nbconvert_exporter": "python",
   "pygments_lexer": "ipython3",
   "version": "3.10.10"
  },
  "toc": {
   "base_numbering": 1,
   "nav_menu": {},
   "number_sections": true,
   "sideBar": true,
   "skip_h1_title": true,
   "title_cell": "Table of Contents",
   "title_sidebar": "Contents",
   "toc_cell": true,
   "toc_position": {},
   "toc_section_display": true,
   "toc_window_display": false
  },
  "vscode": {
   "interpreter": {
    "hash": "322b5c570b3d10d75e90c1fe0eea44889751405bdcdcc63c9c70b0a698cfa766"
   }
  }
 },
 "nbformat": 4,
 "nbformat_minor": 5
}
